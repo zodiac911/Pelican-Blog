{
 "cells": [
  {
   "cell_type": "markdown",
   "metadata": {},
   "source": [
    "学过C或C++的人再学python,写出的代码难免会保留C/C++的风格，而看起来没有那么Pythonic。\n",
    "\n",
    "Python代码的风格实际上是非常简洁的，以最少的代码量写出完整的功能\n",
    "\n",
    "本文为博主总结的一些帮助我们写出更加Pythonic代码的技巧"
   ]
  },
  {
   "cell_type": "markdown",
   "metadata": {
    "toc": true
   },
   "source": [
    "<h1>Table of Contents<span class=\"tocSkip\"></span></h1>\n",
    "<div class=\"toc\"><ul class=\"toc-item\"><li><span><a href=\"#变量交换\" data-toc-modified-id=\"变量交换-1\"><span class=\"toc-item-num\">1&nbsp;&nbsp;</span>变量交换</a></span></li><li><span><a href=\"#元素遍历\" data-toc-modified-id=\"元素遍历-2\"><span class=\"toc-item-num\">2&nbsp;&nbsp;</span>元素遍历</a></span></li><li><span><a href=\"#字符串连接\" data-toc-modified-id=\"字符串连接-3\"><span class=\"toc-item-num\">3&nbsp;&nbsp;</span>字符串连接</a></span></li><li><span><a href=\"#上下文管理器\" data-toc-modified-id=\"上下文管理器-4\"><span class=\"toc-item-num\">4&nbsp;&nbsp;</span>上下文管理器</a></span></li><li><span><a href=\"#使用生成式\" data-toc-modified-id=\"使用生成式-5\"><span class=\"toc-item-num\">5&nbsp;&nbsp;</span>使用生成式</a></span></li><li><span><a href=\"#使用装饰器\" data-toc-modified-id=\"使用装饰器-6\"><span class=\"toc-item-num\">6&nbsp;&nbsp;</span>使用装饰器</a></span></li><li><span><a href=\"#使用-collections-库\" data-toc-modified-id=\"使用-collections-库-7\"><span class=\"toc-item-num\">7&nbsp;&nbsp;</span>使用 collections 库</a></span></li><li><span><a href=\"#序列解包\" data-toc-modified-id=\"序列解包-8\"><span class=\"toc-item-num\">8&nbsp;&nbsp;</span>序列解包</a></span></li><li><span><a href=\"#遍历字典-key-和-value\" data-toc-modified-id=\"遍历字典-key-和-value-9\"><span class=\"toc-item-num\">9&nbsp;&nbsp;</span>遍历字典 key 和 value</a></span></li><li><span><a href=\"#链式比较操作\" data-toc-modified-id=\"链式比较操作-10\"><span class=\"toc-item-num\">10&nbsp;&nbsp;</span>链式比较操作</a></span></li><li><span><a href=\"#if-else-三目运算\" data-toc-modified-id=\"if-else-三目运算-11\"><span class=\"toc-item-num\">11&nbsp;&nbsp;</span>if else 三目运算</a></span></li><li><span><a href=\"#真值判断\" data-toc-modified-id=\"真值判断-12\"><span class=\"toc-item-num\">12&nbsp;&nbsp;</span>真值判断</a></span><ul class=\"toc-item\"><li><span><a href=\"#判断诸多条件是否至少有一个成立\" data-toc-modified-id=\"判断诸多条件是否至少有一个成立-12.1\"><span class=\"toc-item-num\">12.1&nbsp;&nbsp;</span>判断诸多条件是否至少有一个成立</a></span></li><li><span><a href=\"#或的另一种写法\" data-toc-modified-id=\"或的另一种写法-12.2\"><span class=\"toc-item-num\">12.2&nbsp;&nbsp;</span>或的另一种写法</a></span></li><li><span><a href=\"#判断诸多条件是否全部成立\" data-toc-modified-id=\"判断诸多条件是否全部成立-12.3\"><span class=\"toc-item-num\">12.3&nbsp;&nbsp;</span>判断诸多条件是否全部成立</a></span></li></ul></li><li><span><a href=\"#for-else-语句\" data-toc-modified-id=\"for-else-语句-13\"><span class=\"toc-item-num\">13&nbsp;&nbsp;</span>for else 语句</a></span></li><li><span><a href=\"#字符串格式化的8种方法\" data-toc-modified-id=\"字符串格式化的8种方法-14\"><span class=\"toc-item-num\">14&nbsp;&nbsp;</span>字符串格式化的8种方法</a></span></li><li><span><a href=\"#切片\" data-toc-modified-id=\"切片-15\"><span class=\"toc-item-num\">15&nbsp;&nbsp;</span>切片</a></span></li><li><span><a href=\"#使用生成器\" data-toc-modified-id=\"使用生成器-16\"><span class=\"toc-item-num\">16&nbsp;&nbsp;</span>使用生成器</a></span></li><li><span><a href=\"#获取字典元素的-get-方法\" data-toc-modified-id=\"获取字典元素的-get-方法-17\"><span class=\"toc-item-num\">17&nbsp;&nbsp;</span>获取字典元素的 get 方法</a></span></li><li><span><a href=\"#预设字典返回的默认值\" data-toc-modified-id=\"预设字典返回的默认值-18\"><span class=\"toc-item-num\">18&nbsp;&nbsp;</span>预设字典返回的默认值</a></span></li><li><span><a href=\"#函数参数-unpack\" data-toc-modified-id=\"函数参数-unpack-19\"><span class=\"toc-item-num\">19&nbsp;&nbsp;</span>函数参数 unpack</a></span></li><li><span><a href=\"#注意函数默认参数\" data-toc-modified-id=\"注意函数默认参数-20\"><span class=\"toc-item-num\">20&nbsp;&nbsp;</span>注意函数默认参数</a></span></li><li><span><a href=\"#为-dict-添加-__missing__-方法\" data-toc-modified-id=\"为-dict-添加-__missing__-方法-21\"><span class=\"toc-item-num\">21&nbsp;&nbsp;</span>为 dict 添加 <code>__missing__</code> 方法</a></span></li><li><span><a href=\"#python-解释器中的-_\" data-toc-modified-id=\"python-解释器中的-_-22\"><span class=\"toc-item-num\">22&nbsp;&nbsp;</span>python 解释器中的 _</a></span></li><li><span><a href=\"#try/except/else\" data-toc-modified-id=\"try/except/else-23\"><span class=\"toc-item-num\">23&nbsp;&nbsp;</span>try/except/else</a></span></li><li><span><a href=\"#print-重定向输出到文件\" data-toc-modified-id=\"print-重定向输出到文件-24\"><span class=\"toc-item-num\">24&nbsp;&nbsp;</span>print 重定向输出到文件</a></span></li><li><span><a href=\"#省略号\" data-toc-modified-id=\"省略号-25\"><span class=\"toc-item-num\">25&nbsp;&nbsp;</span>省略号</a></span></li><li><span><a href=\"#pow-还有第三个参数\" data-toc-modified-id=\"pow-还有第三个参数-26\"><span class=\"toc-item-num\">26&nbsp;&nbsp;</span>pow 还有第三个参数</a></span></li><li><span><a href=\"#isinstance-可以接收一个元组\" data-toc-modified-id=\"isinstance-可以接收一个元组-27\"><span class=\"toc-item-num\">27&nbsp;&nbsp;</span>isinstance 可以接收一个元组</a></span></li><li><span><a href=\"#字典的无限递归\" data-toc-modified-id=\"字典的无限递归-28\"><span class=\"toc-item-num\">28&nbsp;&nbsp;</span>字典的无限递归</a></span></li><li><span><a href=\"#Python-可以认识-Unicode-中的数字\" data-toc-modified-id=\"Python-可以认识-Unicode-中的数字-29\"><span class=\"toc-item-num\">29&nbsp;&nbsp;</span>Python 可以认识 Unicode 中的数字</a></span></li><li><span><a href=\"#不能访问到的属性\" data-toc-modified-id=\"不能访问到的属性-30\"><span class=\"toc-item-num\">30&nbsp;&nbsp;</span>不能访问到的属性</a></span></li><li><span><a href=\"#使用计数器对象进行计数\" data-toc-modified-id=\"使用计数器对象进行计数-31\"><span class=\"toc-item-num\">31&nbsp;&nbsp;</span>使用计数器对象进行计数</a></span></li><li><span><a href=\"#漂亮的打印-JSON\" data-toc-modified-id=\"漂亮的打印-JSON-32\"><span class=\"toc-item-num\">32&nbsp;&nbsp;</span>漂亮的打印 JSON</a></span></li><li><span><a href=\"#字典的剧本\" data-toc-modified-id=\"字典的剧本-33\"><span class=\"toc-item-num\">33&nbsp;&nbsp;</span>字典的剧本</a></span><ul class=\"toc-item\"><li><span><a href=\"#键的存在性\" data-toc-modified-id=\"键的存在性-33.1\"><span class=\"toc-item-num\">33.1&nbsp;&nbsp;</span>键的存在性</a></span></li></ul></li><li><span><a href=\"#无限循环的结束\" data-toc-modified-id=\"无限循环的结束-34\"><span class=\"toc-item-num\">34&nbsp;&nbsp;</span>无限循环的结束</a></span></li><li><span><a href=\"#序列乘法\" data-toc-modified-id=\"序列乘法-35\"><span class=\"toc-item-num\">35&nbsp;&nbsp;</span>序列乘法</a></span></li><li><span><a href=\"#显示循环进度条\" data-toc-modified-id=\"显示循环进度条-36\"><span class=\"toc-item-num\">36&nbsp;&nbsp;</span>显示循环进度条</a></span></li><li><span><a href=\"#Other-Trick\" data-toc-modified-id=\"Other-Trick-37\"><span class=\"toc-item-num\">37&nbsp;&nbsp;</span>Other-Trick</a></span><ul class=\"toc-item\"><li><span><a href=\"#Jupyter-Notebook-中获取函数帮助\" data-toc-modified-id=\"Jupyter-Notebook-中获取函数帮助-37.1\"><span class=\"toc-item-num\">37.1&nbsp;&nbsp;</span>Jupyter Notebook 中获取函数帮助</a></span></li><li><span><a href=\"#修改多处的同一标识符名字\" data-toc-modified-id=\"修改多处的同一标识符名字-37.2\"><span class=\"toc-item-num\">37.2&nbsp;&nbsp;</span>修改多处的同一标识符名字</a></span></li><li><span><a href=\"#这些Python代码技巧，你肯定还不知道\" data-toc-modified-id=\"这些Python代码技巧，你肯定还不知道-37.3\"><span class=\"toc-item-num\">37.3&nbsp;&nbsp;</span><a href=\"https://mp.weixin.qq.com/s/CVdmSl5AM0YwzV5YReKGKw\" target=\"_blank\">这些Python代码技巧，你肯定还不知道</a></a></span></li></ul></li></ul></div>"
   ]
  },
  {
   "cell_type": "code",
   "execution_count": 1,
   "metadata": {},
   "outputs": [],
   "source": [
    "# 让 notebook 输出所有单行变量\n",
    "from IPython.core.interactiveshell import InteractiveShell\n",
    "InteractiveShell.ast_node_interactivity = \"all\""
   ]
  },
  {
   "cell_type": "markdown",
   "metadata": {},
   "source": [
    "## 变量交换\n",
    "python 中交换两个变量不需要引入临时变量"
   ]
  },
  {
   "cell_type": "code",
   "execution_count": 2,
   "metadata": {},
   "outputs": [
    {
     "data": {
      "text/plain": [
       "(1, 2)"
      ]
     },
     "execution_count": 2,
     "metadata": {},
     "output_type": "execute_result"
    },
    {
     "data": {
      "text/plain": [
       "(2, 1)"
      ]
     },
     "execution_count": 2,
     "metadata": {},
     "output_type": "execute_result"
    }
   ],
   "source": [
    "a, b = 1, 2\n",
    "a, b\n",
    "\n",
    "a, b = b, a\n",
    "a, b"
   ]
  },
  {
   "cell_type": "markdown",
   "metadata": {},
   "source": [
    "自然想到三个变量的交换"
   ]
  },
  {
   "cell_type": "code",
   "execution_count": 3,
   "metadata": {},
   "outputs": [
    {
     "data": {
      "text/plain": [
       "(1, 2, 3)"
      ]
     },
     "execution_count": 3,
     "metadata": {},
     "output_type": "execute_result"
    },
    {
     "data": {
      "text/plain": [
       "(3, 1, 2)"
      ]
     },
     "execution_count": 3,
     "metadata": {},
     "output_type": "execute_result"
    }
   ],
   "source": [
    "a, b, c = 1, 2, 3\n",
    "a, b, c\n",
    "\n",
    "a, b, c = c, a, b\n",
    "a, b, c"
   ]
  },
  {
   "cell_type": "markdown",
   "metadata": {},
   "source": [
    "## 元素遍历\n",
    "\n",
    "普通的遍历，类似其他语言中的 for each 或是基于范围的 for 循环"
   ]
  },
  {
   "cell_type": "code",
   "execution_count": 4,
   "metadata": {
    "scrolled": true
   },
   "outputs": [
    {
     "name": "stdout",
     "output_type": "stream",
     "text": [
      "0\n",
      "1\n",
      "2\n",
      "3\n",
      "4\n"
     ]
    }
   ],
   "source": [
    "for i in range(5):\n",
    "    print(i)"
   ]
  },
  {
   "cell_type": "markdown",
   "metadata": {},
   "source": [
    "使用 enumerate 进行带索引的容器遍历"
   ]
  },
  {
   "cell_type": "code",
   "execution_count": 5,
   "metadata": {
    "scrolled": true
   },
   "outputs": [
    {
     "name": "stdout",
     "output_type": "stream",
     "text": [
      "0, red\n",
      "1, green\n",
      "2, blue\n",
      "3, yellow\n"
     ]
    }
   ],
   "source": [
    "colors = ['red', 'green', 'blue', 'yellow']\n",
    "\n",
    "for index, color in enumerate(colors):\n",
    "    print('{}, {}'.format(index, color))"
   ]
  },
  {
   "cell_type": "markdown",
   "metadata": {},
   "source": [
    "事实上，enumerate 还接受第二个参数，用于指定 index 的起始位置，默认为 0"
   ]
  },
  {
   "cell_type": "code",
   "execution_count": 6,
   "metadata": {},
   "outputs": [
    {
     "data": {
      "text/plain": [
       "[(1, 'red'), (2, 'green'), (3, 'blue'), (4, 'yellow')]"
      ]
     },
     "execution_count": 6,
     "metadata": {},
     "output_type": "execute_result"
    }
   ],
   "source": [
    "list(enumerate(colors, 1))"
   ]
  },
  {
   "cell_type": "markdown",
   "metadata": {},
   "source": [
    "## 字符串连接\n",
    "\n",
    "经常使用的 字符串连接方法有三种，join, format 和 + 操作符\n",
    "在需要连接的字符串个数较少的情况下，+ 效率较高，随着个数的增加，join 的优势会更大"
   ]
  },
  {
   "cell_type": "code",
   "execution_count": 7,
   "metadata": {},
   "outputs": [
    {
     "name": "stdout",
     "output_type": "stream",
     "text": [
      "raymond, rachel, matthew, roger, betty, melissa, judith, charlie\n"
     ]
    }
   ],
   "source": [
    "names = ['raymond', 'rachel', 'matthew', 'roger',\n",
    "         'betty', 'melissa', 'judith', 'charlie']\n",
    "\n",
    "print(', '.join(names))"
   ]
  },
  {
   "cell_type": "markdown",
   "metadata": {},
   "source": [
    "## 上下文管理器"
   ]
  },
  {
   "cell_type": "code",
   "execution_count": 8,
   "metadata": {
    "scrolled": true
   },
   "outputs": [
    {
     "data": {
      "text/plain": [
       "1"
      ]
     },
     "execution_count": 8,
     "metadata": {},
     "output_type": "execute_result"
    },
    {
     "name": "stdout",
     "output_type": "stream",
     "text": [
      "x\n"
     ]
    }
   ],
   "source": [
    "fr = open('data/dataa.txt', 'w')\n",
    "fr.write('x')\n",
    "fr.close()\n",
    "\n",
    "with open('data/test.txt') as f:\n",
    "    data = f.read()\n",
    "    print(data)"
   ]
  },
  {
   "cell_type": "markdown",
   "metadata": {},
   "source": [
    "## 使用生成式\n",
    "\n",
    "最常见的是列表推导式"
   ]
  },
  {
   "cell_type": "code",
   "execution_count": 9,
   "metadata": {},
   "outputs": [
    {
     "data": {
      "text/plain": [
       "[0, 2, 4, 6, 8, 10, 12, 14, 16, 18]"
      ]
     },
     "execution_count": 9,
     "metadata": {},
     "output_type": "execute_result"
    }
   ],
   "source": [
    "[2*i for i in range(10)]"
   ]
  },
  {
   "cell_type": "markdown",
   "metadata": {},
   "source": [
    "其次还有：集合推导式和字典推导式，原先在 python2 版本中的 set 是需要通过 set 函数来显示转换的，但后来 python3 中直接进行 set 推导的语法也被移植到了 python2 中。不过要注意的是 () 定义的不是元组推导式而是生成器"
   ]
  },
  {
   "cell_type": "code",
   "execution_count": 10,
   "metadata": {},
   "outputs": [
    {
     "data": {
      "text/plain": [
       "{2: 4, 3: 6}"
      ]
     },
     "execution_count": 10,
     "metadata": {},
     "output_type": "execute_result"
    }
   ],
   "source": [
    "numbers = [1, 2, 3]\n",
    "my_dict = {number: number * 2 for number in numbers if number > 1}\n",
    "\n",
    "my_dict"
   ]
  },
  {
   "cell_type": "markdown",
   "metadata": {},
   "source": [
    "推导式可以嵌套，而且可以加入一定的条件机制，各个条件之间的关系是 与 "
   ]
  },
  {
   "cell_type": "code",
   "execution_count": 11,
   "metadata": {},
   "outputs": [
    {
     "data": {
      "text/plain": [
       "[(3, 2), (4, 1), (5, 0)]"
      ]
     },
     "execution_count": 11,
     "metadata": {},
     "output_type": "execute_result"
    }
   ],
   "source": [
    "[(x, y)\n",
    " for x in range(10)\n",
    " for y in range(10)\n",
    " if x + y == 5\n",
    " if x > y]"
   ]
  },
  {
   "cell_type": "markdown",
   "metadata": {},
   "source": [
    "甚至可以利用列表生成式来实现快速排序，非常优雅，但是对于一般我们写排序算法尽量进行要原址排序"
   ]
  },
  {
   "cell_type": "code",
   "execution_count": 12,
   "metadata": {},
   "outputs": [
    {
     "data": {
      "text/plain": [
       "[1, 2, 3, 3, 5, 6, 8, 9]"
      ]
     },
     "execution_count": 12,
     "metadata": {},
     "output_type": "execute_result"
    }
   ],
   "source": [
    "def quicksort(lst):\n",
    "    if len(lst) == 0:\n",
    "        return []\n",
    "    else:\n",
    "        return quicksort([x for x in lst[1:] if x < lst[0]]) + [lst[0]] + \\\n",
    "            quicksort([x for x in lst[1:] if x >= lst[0]])\n",
    "\n",
    "\n",
    "quicksort([2, 3, 5, 1, 6, 9, 8, 3])  # 使用装饰器"
   ]
  },
  {
   "cell_type": "markdown",
   "metadata": {},
   "source": [
    "## 使用装饰器"
   ]
  },
  {
   "cell_type": "code",
   "execution_count": 13,
   "metadata": {},
   "outputs": [
    {
     "name": "stdout",
     "output_type": "stream",
     "text": [
      "countdown 0.003022432327270508\n"
     ]
    }
   ],
   "source": [
    "import time\n",
    "from functools import wraps\n",
    "\n",
    "def timethis(func):\n",
    "    '''\n",
    "    函数计时\n",
    "    '''\n",
    "    @wraps(func)\n",
    "    def wrapper(*args, **kwargs):\n",
    "        start = time.time()\n",
    "        result = func(*args, **kwargs)\n",
    "        end = time.time()\n",
    "        print(func.__name__, end-start)\n",
    "        return result\n",
    "    return wrapper\n",
    "\n",
    "# 下面我们使用这个被包装后的函数并检查它的元信息：\n",
    "\n",
    "@timethis\n",
    "def countdown(n):\n",
    "    '''\n",
    "    Counts down\n",
    "    '''\n",
    "    while n > 0:\n",
    "        n -= 1\n",
    "\n",
    "countdown(100000)"
   ]
  },
  {
   "cell_type": "markdown",
   "metadata": {},
   "source": [
    "## 使用 collections 库\n",
    "\n",
    "**deque**"
   ]
  },
  {
   "cell_type": "code",
   "execution_count": 14,
   "metadata": {},
   "outputs": [
    {
     "data": {
      "text/plain": [
       "'raymond'"
      ]
     },
     "execution_count": 14,
     "metadata": {},
     "output_type": "execute_result"
    },
    {
     "data": {
      "text/plain": [
       "deque(['mark',\n",
       "       'rachel',\n",
       "       'matthew',\n",
       "       'roger',\n",
       "       'betty',\n",
       "       'melissa',\n",
       "       'judith',\n",
       "       'charlie'])"
      ]
     },
     "execution_count": 14,
     "metadata": {},
     "output_type": "execute_result"
    }
   ],
   "source": [
    "from collections import deque\n",
    "names = deque(['raymond', 'rachel', 'matthew', 'roger',\n",
    "               'betty', 'melissa', 'judith', 'charlie'])\n",
    "names.popleft()\n",
    "names.appendleft('mark')\n",
    "names"
   ]
  },
  {
   "cell_type": "markdown",
   "metadata": {},
   "source": [
    "**deque 还具有 maxlen 关键字参数，可以限制其最大容量**"
   ]
  },
  {
   "cell_type": "code",
   "execution_count": 15,
   "metadata": {},
   "outputs": [
    {
     "data": {
      "text/plain": [
       "deque(['a', 'b', 'c', 'd', 'e'])"
      ]
     },
     "execution_count": 15,
     "metadata": {},
     "output_type": "execute_result"
    },
    {
     "data": {
      "text/plain": [
       "deque(['b', 'c', 'd', 'e', 'f'])"
      ]
     },
     "execution_count": 15,
     "metadata": {},
     "output_type": "execute_result"
    }
   ],
   "source": [
    "letters = deque(['a', 'b', 'c', 'd', 'e'], maxlen=5)\n",
    "letters\n",
    "\n",
    "letters.append('f')\n",
    "letters"
   ]
  },
  {
   "cell_type": "markdown",
   "metadata": {},
   "source": [
    "## 序列解包"
   ]
  },
  {
   "cell_type": "code",
   "execution_count": 16,
   "metadata": {},
   "outputs": [],
   "source": [
    "p = 'vttalk', 'female', 30, 'python@qq.com'\n",
    "name, gender, age, email = p"
   ]
  },
  {
   "cell_type": "markdown",
   "metadata": {},
   "source": [
    "另外可以用 `*somename` 来接收不需要的一大段值"
   ]
  },
  {
   "cell_type": "code",
   "execution_count": 17,
   "metadata": {
    "scrolled": true
   },
   "outputs": [
    {
     "data": {
      "text/plain": [
       "('vttalk', ['female', 30], 'python@qq.com')"
      ]
     },
     "execution_count": 17,
     "metadata": {},
     "output_type": "execute_result"
    }
   ],
   "source": [
    "name, *middle, email = p\n",
    "name, middle, email"
   ]
  },
  {
   "cell_type": "markdown",
   "metadata": {},
   "source": [
    "## 遍历字典 key 和 value"
   ]
  },
  {
   "cell_type": "code",
   "execution_count": 18,
   "metadata": {},
   "outputs": [
    {
     "name": "stdout",
     "output_type": "stream",
     "text": [
      "a ---> 1\n",
      "b ---> 2\n",
      "c ---> 3\n"
     ]
    }
   ],
   "source": [
    "d = {'a': 1, 'b': 2, 'c': 3}\n",
    "\n",
    "for k, v in d.items():  # python2 有 iteritems 方法，但在 python3 中已经被移除\n",
    "    print(k, '--->', v)"
   ]
  },
  {
   "cell_type": "markdown",
   "metadata": {},
   "source": [
    "## 链式比较操作"
   ]
  },
  {
   "cell_type": "code",
   "execution_count": 19,
   "metadata": {},
   "outputs": [
    {
     "data": {
      "text/plain": [
       "True"
      ]
     },
     "execution_count": 19,
     "metadata": {},
     "output_type": "execute_result"
    },
    {
     "data": {
      "text/plain": [
       "False"
      ]
     },
     "execution_count": 19,
     "metadata": {},
     "output_type": "execute_result"
    }
   ],
   "source": [
    "age = 59\n",
    "\n",
    "18 < age < 60\n",
    "\n",
    "False == False == True  # 等价于 (False == False) == (False == True)"
   ]
  },
  {
   "cell_type": "markdown",
   "metadata": {},
   "source": [
    "## if else 三目运算"
   ]
  },
  {
   "cell_type": "code",
   "execution_count": 20,
   "metadata": {},
   "outputs": [
    {
     "data": {
      "text/plain": [
       "'女'"
      ]
     },
     "execution_count": 20,
     "metadata": {},
     "output_type": "execute_result"
    }
   ],
   "source": [
    "gender = 'female'\n",
    "text = '男' if gender == 'male' else '女'\n",
    "text"
   ]
  },
  {
   "cell_type": "markdown",
   "metadata": {},
   "source": [
    "## 真值判断\n",
    "\n",
    "很多情况下 不需要使用 == 和 != 去比较真假"
   ]
  },
  {
   "cell_type": "code",
   "execution_count": 21,
   "metadata": {
    "scrolled": true
   },
   "outputs": [
    {
     "name": "stdout",
     "output_type": "stream",
     "text": [
      "haha\n"
     ]
    }
   ],
   "source": [
    "values = object\n",
    "if values:\n",
    "    print('haha')"
   ]
  },
  {
   "cell_type": "markdown",
   "metadata": {},
   "source": [
    "真假值对照表\n",
    "\n",
    "类型 | False | True\n",
    ":--: | :---: | :---:\n",
    "bool | False |  True\n",
    "str  | ''    |  非空str\n",
    "数值 | 0，0.0 |  非0数值\n",
    "容器 | [],(),{},set() |  非空容器\n",
    "None | None |  非None对象"
   ]
  },
  {
   "cell_type": "markdown",
   "metadata": {},
   "source": [
    "以下为几条 and or 的替代写法\n",
    "\n",
    "### 判断诸多条件是否至少有一个成立"
   ]
  },
  {
   "cell_type": "code",
   "execution_count": 22,
   "metadata": {},
   "outputs": [
    {
     "name": "stdout",
     "output_type": "stream",
     "text": [
      "Not Pass\n"
     ]
    }
   ],
   "source": [
    "math, physics, computer = 40, 60, 70\n",
    "\n",
    "if any([math < 60, physics < 60, computer < 60]):\n",
    "    print(\"Not Pass\")"
   ]
  },
  {
   "cell_type": "markdown",
   "metadata": {},
   "source": [
    "### 或的另一种写法"
   ]
  },
  {
   "cell_type": "code",
   "execution_count": 23,
   "metadata": {},
   "outputs": [],
   "source": [
    "i, a, b = 1, 2, 3\n",
    "# way 1\n",
    "if i == a or i == b:\n",
    "    print('yes')\n",
    "# way 2\n",
    "if i in (a, b):\n",
    "    print('yes')"
   ]
  },
  {
   "cell_type": "markdown",
   "metadata": {},
   "source": [
    "### 判断诸多条件是否全部成立"
   ]
  },
  {
   "cell_type": "code",
   "execution_count": 24,
   "metadata": {},
   "outputs": [
    {
     "name": "stdout",
     "output_type": "stream",
     "text": [
      "Pass\n"
     ]
    }
   ],
   "source": [
    "math, physics, computer = 61, 60, 70\n",
    "\n",
    "if all([math >= 60, physics >= 60, computer >= 60]):\n",
    "    print(\"Pass\")"
   ]
  },
  {
   "cell_type": "markdown",
   "metadata": {},
   "source": [
    "## for else 语句\n",
    "\n",
    "除非 break 否则 else 语句是一定会执行的"
   ]
  },
  {
   "cell_type": "code",
   "execution_count": 25,
   "metadata": {},
   "outputs": [
    {
     "name": "stdout",
     "output_type": "stream",
     "text": [
      "0\n",
      "1\n",
      "2\n",
      "3\n",
      "oh yeah\n"
     ]
    }
   ],
   "source": [
    "mylist = [0, 1, 2, 3]\n",
    "for i in mylist:\n",
    "    if i == 4:\n",
    "        break  # 跳出整个 for else 循环\n",
    "    print(i)\n",
    "else:\n",
    "    print('oh yeah')"
   ]
  },
  {
   "cell_type": "markdown",
   "metadata": {},
   "source": [
    "## 字符串格式化的8种方法\n",
    "\n",
    "推荐使用 format 或 fstring"
   ]
  },
  {
   "cell_type": "markdown",
   "metadata": {},
   "source": [
    "**1.+号连接**"
   ]
  },
  {
   "cell_type": "code",
   "execution_count": 26,
   "metadata": {},
   "outputs": [
    {
     "data": {
      "text/plain": [
       "'HelloWorld'"
      ]
     },
     "execution_count": 26,
     "metadata": {},
     "output_type": "execute_result"
    }
   ],
   "source": [
    "stra, strb = \"Hello\", \"World\"\n",
    "stra + strb"
   ]
  },
  {
   "cell_type": "markdown",
   "metadata": {},
   "source": [
    "**2.在print中使用,连接**"
   ]
  },
  {
   "cell_type": "code",
   "execution_count": 27,
   "metadata": {},
   "outputs": [
    {
     "name": "stdout",
     "output_type": "stream",
     "text": [
      "Hello World\n"
     ]
    }
   ],
   "source": [
    "print(stra, strb)"
   ]
  },
  {
   "cell_type": "markdown",
   "metadata": {},
   "source": [
    "**3.直接连接**"
   ]
  },
  {
   "cell_type": "code",
   "execution_count": 28,
   "metadata": {},
   "outputs": [
    {
     "name": "stdout",
     "output_type": "stream",
     "text": [
      "helloworld\n",
      "helloworld\n"
     ]
    }
   ],
   "source": [
    "print('hello'         'world')\n",
    "print('hello''world')"
   ]
  },
  {
   "cell_type": "markdown",
   "metadata": {},
   "source": [
    "这实际上是Python的一个语法糖，连接的字符串会自动拼接为一个字符串"
   ]
  },
  {
   "cell_type": "code",
   "execution_count": 29,
   "metadata": {},
   "outputs": [
    {
     "name": "stdout",
     "output_type": "stream",
     "text": [
      "  3           0 LOAD_CONST               1 ('ab')\n",
      "              2 STORE_FAST               0 (strr)\n",
      "              4 LOAD_CONST               0 (None)\n",
      "              6 RETURN_VALUE\n"
     ]
    }
   ],
   "source": [
    "import dis\n",
    "def func():\n",
    "    strr = 'a''b'\n",
    "    \n",
    "dis.dis(func)"
   ]
  },
  {
   "cell_type": "markdown",
   "metadata": {},
   "source": [
    "**4.% 格式化**\n",
    "\n",
    "在 Python 2.6 以前，%操作符是唯一一种格式化字符串的方法，它也可以用于连接字符串"
   ]
  },
  {
   "cell_type": "code",
   "execution_count": 30,
   "metadata": {},
   "outputs": [
    {
     "name": "stdout",
     "output_type": "stream",
     "text": [
      "Hello World\n"
     ]
    }
   ],
   "source": [
    "print('%s %s' % (stra, strb))"
   ]
  },
  {
   "cell_type": "markdown",
   "metadata": {},
   "source": [
    "**5.format 函数**\n",
    "\n",
    "format 方法是 Python 2.6 中出现的一种代替 % 操作符的字符串格式化方法，同样可以用来连接字符串。"
   ]
  },
  {
   "cell_type": "code",
   "execution_count": 31,
   "metadata": {},
   "outputs": [
    {
     "name": "stdout",
     "output_type": "stream",
     "text": [
      "Hello World\n"
     ]
    }
   ],
   "source": [
    "print('{} {}'.format(stra, strb))"
   ]
  },
  {
   "cell_type": "markdown",
   "metadata": {},
   "source": [
    "**6.join 函数**\n",
    "\n",
    "字符串的内置方法"
   ]
  },
  {
   "cell_type": "code",
   "execution_count": 32,
   "metadata": {},
   "outputs": [
    {
     "name": "stdout",
     "output_type": "stream",
     "text": [
      "Hello-World\n"
     ]
    }
   ],
   "source": [
    "print('-'.join([stra, strb]))"
   ]
  },
  {
   "cell_type": "markdown",
   "metadata": {},
   "source": [
    "**f-string**\n",
    "\n",
    "Python 3.6 中引入了 Formatted String Literals（字面量格式化字符串），简称 f-string，f-string 是 % 操作符和 format 方法的进化版，使用 f-string 连接字符串的方法和使用 %操作符、format 方法类似。"
   ]
  },
  {
   "cell_type": "code",
   "execution_count": 33,
   "metadata": {},
   "outputs": [
    {
     "data": {
      "text/plain": [
       "'Hello World'"
      ]
     },
     "execution_count": 33,
     "metadata": {},
     "output_type": "execute_result"
    }
   ],
   "source": [
    "f'{stra} {strb}'"
   ]
  },
  {
   "cell_type": "markdown",
   "metadata": {},
   "source": [
    "**８．`*` 号**"
   ]
  },
  {
   "cell_type": "code",
   "execution_count": 34,
   "metadata": {},
   "outputs": [
    {
     "data": {
      "text/plain": [
       "'HelloHelloHello'"
      ]
     },
     "execution_count": 34,
     "metadata": {},
     "output_type": "execute_result"
    }
   ],
   "source": [
    "stra * 3"
   ]
  },
  {
   "cell_type": "markdown",
   "metadata": {},
   "source": [
    "实际上对应 `__mul__`　魔法方法"
   ]
  },
  {
   "cell_type": "code",
   "execution_count": 35,
   "metadata": {
    "scrolled": true
   },
   "outputs": [
    {
     "data": {
      "text/plain": [
       "'HelloHelloHello'"
      ]
     },
     "execution_count": 35,
     "metadata": {},
     "output_type": "execute_result"
    }
   ],
   "source": [
    "stra.__mul__(3)"
   ]
  },
  {
   "cell_type": "markdown",
   "metadata": {},
   "source": [
    "## 切片\n",
    "\n",
    "切片操作接受三个参数，分别是起始位置，结束位置（不包括）和步长\n",
    "\n",
    "python 中常见的容器拷贝（浅）就是通过切片来实现的，因为赋值操作本质上是将指针窒息指向目标对象"
   ]
  },
  {
   "cell_type": "code",
   "execution_count": 36,
   "metadata": {},
   "outputs": [
    {
     "data": {
      "text/plain": [
       "[0, 1, 2, 3]"
      ]
     },
     "execution_count": 36,
     "metadata": {},
     "output_type": "execute_result"
    },
    {
     "data": {
      "text/plain": [
       "[1, 3, 5, 7, 9]"
      ]
     },
     "execution_count": 36,
     "metadata": {},
     "output_type": "execute_result"
    },
    {
     "data": {
      "text/plain": [
       "[0, 1, 2, 3, 4, 5, 6, 7, 8, 9]"
      ]
     },
     "execution_count": 36,
     "metadata": {},
     "output_type": "execute_result"
    },
    {
     "data": {
      "text/plain": [
       "[0, 1, 2, 3, 4, 5, 6, 7, 8, 9]"
      ]
     },
     "execution_count": 36,
     "metadata": {},
     "output_type": "execute_result"
    }
   ],
   "source": [
    "items = list(range(10))\n",
    "\n",
    "items[0:4]\n",
    "\n",
    "items[1::2]\n",
    "\n",
    "items[::]  # 浅拷贝\n",
    "\n",
    "items[:]  # 浅拷贝"
   ]
  },
  {
   "cell_type": "markdown",
   "metadata": {},
   "source": [
    "## 使用生成器"
   ]
  },
  {
   "cell_type": "code",
   "execution_count": 37,
   "metadata": {},
   "outputs": [
    {
     "name": "stdout",
     "output_type": "stream",
     "text": [
      "0\n",
      "1\n",
      "1\n",
      "2\n",
      "3\n"
     ]
    }
   ],
   "source": [
    "def fib(n):\n",
    "    a, b = 0, 1\n",
    "    while a < n:\n",
    "        yield a\n",
    "        a, b = b, a + b\n",
    "\n",
    "\n",
    "gen = fib(5)\n",
    "\n",
    "for i in gen:\n",
    "    print(i)"
   ]
  },
  {
   "cell_type": "markdown",
   "metadata": {},
   "source": [
    "Python 3 中的 next 方法变为 next 函数\n",
    "\n",
    "一个实例化的生成器在迭代完后便不可再使用，即只能迭代使用一次"
   ]
  },
  {
   "cell_type": "code",
   "execution_count": 38,
   "metadata": {},
   "outputs": [
    {
     "name": "stdout",
     "output_type": "stream",
     "text": [
      "\n"
     ]
    },
    {
     "data": {
      "text/plain": [
       "0"
      ]
     },
     "execution_count": 38,
     "metadata": {},
     "output_type": "execute_result"
    },
    {
     "data": {
      "text/plain": [
       "1"
      ]
     },
     "execution_count": 38,
     "metadata": {},
     "output_type": "execute_result"
    }
   ],
   "source": [
    "try:\n",
    "    next(gen)\n",
    "except Exception as e:\n",
    "    print(e)\n",
    "\n",
    "gen = fib(3)\n",
    "next(gen)\n",
    "next(gen)"
   ]
  },
  {
   "cell_type": "markdown",
   "metadata": {},
   "source": [
    "## 获取字典元素的 get 方法\n",
    "当 key 不存在时即返回默认值"
   ]
  },
  {
   "cell_type": "code",
   "execution_count": 39,
   "metadata": {},
   "outputs": [
    {
     "data": {
      "text/plain": [
       "'unknown'"
      ]
     },
     "execution_count": 39,
     "metadata": {},
     "output_type": "execute_result"
    }
   ],
   "source": [
    "d = {'name': 'foo'}\n",
    "d.get(\"namey\", \"unknown\")"
   ]
  },
  {
   "cell_type": "markdown",
   "metadata": {},
   "source": [
    "## 预设字典返回的默认值\n",
    "当 key 不存在时即返回默认值"
   ]
  },
  {
   "cell_type": "markdown",
   "metadata": {},
   "source": [
    "**第一种方式 setdefault**"
   ]
  },
  {
   "cell_type": "code",
   "execution_count": 40,
   "metadata": {},
   "outputs": [
    {
     "data": {
      "text/plain": [
       "{'a': [1, 3], 'b': [2]}"
      ]
     },
     "execution_count": 40,
     "metadata": {},
     "output_type": "execute_result"
    }
   ],
   "source": [
    "data = {('a', 1), ('b', 2), ('a', 3)}\n",
    "groups = {}\n",
    "\n",
    "for (key, value) in data:\n",
    "    groups.setdefault(key, []).append(value)\n",
    "\n",
    "groups"
   ]
  },
  {
   "cell_type": "markdown",
   "metadata": {},
   "source": [
    "**第二种方式 defaultdict 库**"
   ]
  },
  {
   "cell_type": "code",
   "execution_count": 41,
   "metadata": {},
   "outputs": [
    {
     "data": {
      "text/plain": [
       "defaultdict(list, {'a': [1, 3], 'b': [2]})"
      ]
     },
     "execution_count": 41,
     "metadata": {},
     "output_type": "execute_result"
    }
   ],
   "source": [
    "from collections import defaultdict\n",
    "\n",
    "groups = defaultdict(list)\n",
    "\n",
    "for (key, value) in data:\n",
    "    groups[key].append(value)\n",
    "\n",
    "groups"
   ]
  },
  {
   "cell_type": "markdown",
   "metadata": {},
   "source": [
    "## 函数参数 unpack\n",
    "\n",
    "本质上就是容器/可迭代对象的解包"
   ]
  },
  {
   "cell_type": "code",
   "execution_count": 42,
   "metadata": {},
   "outputs": [
    {
     "name": "stdout",
     "output_type": "stream",
     "text": [
      "1 2\n",
      "1 2\n"
     ]
    }
   ],
   "source": [
    "def foo(x, y):\n",
    "    print(x, y)\n",
    "\n",
    "\n",
    "alist = [1, 2]\n",
    "adict = {'x': 1, 'y': 2}\n",
    "\n",
    "foo(*alist)\n",
    "foo(**adict)"
   ]
  },
  {
   "cell_type": "markdown",
   "metadata": {},
   "source": [
    "## 注意函数默认参数"
   ]
  },
  {
   "cell_type": "code",
   "execution_count": 43,
   "metadata": {},
   "outputs": [
    {
     "name": "stdout",
     "output_type": "stream",
     "text": [
      "[1]\n",
      "[1, 1]\n"
     ]
    }
   ],
   "source": [
    "def foo(x=[]):\n",
    "    x.append(1)\n",
    "    print(x)\n",
    "\n",
    "\n",
    "foo()\n",
    "foo()"
   ]
  },
  {
   "cell_type": "markdown",
   "metadata": {},
   "source": [
    "**更安全的做法**"
   ]
  },
  {
   "cell_type": "code",
   "execution_count": 44,
   "metadata": {},
   "outputs": [
    {
     "name": "stdout",
     "output_type": "stream",
     "text": [
      "[1]\n",
      "[1]\n"
     ]
    }
   ],
   "source": [
    "def foo(x=None):\n",
    "    if x is None:\n",
    "        x = []\n",
    "    x.append(1)\n",
    "    print(x)\n",
    "\n",
    "\n",
    "foo()\n",
    "foo()"
   ]
  },
  {
   "cell_type": "markdown",
   "metadata": {},
   "source": [
    "## 为 dict 添加 `__missing__` 方法"
   ]
  },
  {
   "cell_type": "code",
   "execution_count": 45,
   "metadata": {},
   "outputs": [
    {
     "data": {
      "text/plain": [
       "[1, 2]"
      ]
     },
     "execution_count": 45,
     "metadata": {},
     "output_type": "execute_result"
    },
    {
     "data": {
      "text/plain": [
       "[]"
      ]
     },
     "execution_count": 45,
     "metadata": {},
     "output_type": "execute_result"
    }
   ],
   "source": [
    "class Dict(dict):\n",
    "    def __missing__(self, key):\n",
    "        self[key] = []\n",
    "        return self[key]\n",
    "\n",
    "\n",
    "dct = Dict()\n",
    "dct[\"foo\"].append(1)\n",
    "dct[\"foo\"].append(2)\n",
    "\n",
    "dct[\"foo\"]\n",
    "dct[\"bar\"]"
   ]
  },
  {
   "cell_type": "markdown",
   "metadata": {},
   "source": [
    "这种行为很像 collections.defaultdict"
   ]
  },
  {
   "cell_type": "code",
   "execution_count": 46,
   "metadata": {},
   "outputs": [
    {
     "data": {
      "text/plain": [
       "[]"
      ]
     },
     "execution_count": 46,
     "metadata": {},
     "output_type": "execute_result"
    },
    {
     "data": {
      "text/plain": [
       "defaultdict(list, {'foo': [], 'bar': ['Hello']})"
      ]
     },
     "execution_count": 46,
     "metadata": {},
     "output_type": "execute_result"
    }
   ],
   "source": [
    "from collections import defaultdict\n",
    "dct = defaultdict(list)\n",
    "\n",
    "dct[\"foo\"]  # 对不存在的 key 进行访问或自动创建空容器\n",
    "dct[\"bar\"].append(\"Hello\")\n",
    "dct"
   ]
  },
  {
   "cell_type": "markdown",
   "metadata": {},
   "source": [
    "## python 解释器中的 _\n",
    "\n",
    "用于获取上一次的对象"
   ]
  },
  {
   "cell_type": "code",
   "execution_count": 47,
   "metadata": {},
   "outputs": [
    {
     "data": {
      "text/plain": [
       "[0, 1, 2, 3]"
      ]
     },
     "execution_count": 47,
     "metadata": {},
     "output_type": "execute_result"
    },
    {
     "data": {
      "text/plain": [
       "[0, 1, 2, 3]"
      ]
     },
     "execution_count": 47,
     "metadata": {},
     "output_type": "execute_result"
    }
   ],
   "source": [
    "list(range(4))\n",
    "_"
   ]
  },
  {
   "cell_type": "markdown",
   "metadata": {},
   "source": [
    "Zen of Python"
   ]
  },
  {
   "cell_type": "code",
   "execution_count": 48,
   "metadata": {},
   "outputs": [
    {
     "name": "stdout",
     "output_type": "stream",
     "text": [
      "The Zen of Python, by Tim Peters\n",
      "\n",
      "Beautiful is better than ugly.\n",
      "Explicit is better than implicit.\n",
      "Simple is better than complex.\n",
      "Complex is better than complicated.\n",
      "Flat is better than nested.\n",
      "Sparse is better than dense.\n",
      "Readability counts.\n",
      "Special cases aren't special enough to break the rules.\n",
      "Although practicality beats purity.\n",
      "Errors should never pass silently.\n",
      "Unless explicitly silenced.\n",
      "In the face of ambiguity, refuse the temptation to guess.\n",
      "There should be one-- and preferably only one --obvious way to do it.\n",
      "Although that way may not be obvious at first unless you're Dutch.\n",
      "Now is better than never.\n",
      "Although never is often better than *right* now.\n",
      "If the implementation is hard to explain, it's a bad idea.\n",
      "If the implementation is easy to explain, it may be a good idea.\n",
      "Namespaces are one honking great idea -- let's do more of those!\n"
     ]
    }
   ],
   "source": [
    "import this"
   ]
  },
  {
   "cell_type": "markdown",
   "metadata": {},
   "source": [
    "## try/except/else\n",
    "\n",
    "```python\n",
    "try:\n",
    "     Normal execution block\n",
    "except A:\n",
    "     Exception A handle\n",
    "except B:\n",
    "     Exception B handle\n",
    "except:\n",
    "     Other exception handle\n",
    "else:\n",
    "     if no exception,get here\n",
    "finally:\n",
    "     print(\"finally\")\n",
    "```\n"
   ]
  },
  {
   "cell_type": "code",
   "execution_count": 49,
   "metadata": {
    "scrolled": true
   },
   "outputs": [
    {
     "name": "stdout",
     "output_type": "stream",
     "text": [
      "'E's pining!\n",
      "done\n"
     ]
    }
   ],
   "source": [
    "try:\n",
    "    print(parrot)\n",
    "except NameError:\n",
    "    print(\"'E's pining!\")\n",
    "else:\n",
    "    print(\"This parrot is no more!\")\n",
    "finally:\n",
    "    print('done')"
   ]
  },
  {
   "cell_type": "markdown",
   "metadata": {},
   "source": [
    "\n",
    "## print 重定向输出到文件"
   ]
  },
  {
   "cell_type": "code",
   "execution_count": 50,
   "metadata": {},
   "outputs": [],
   "source": [
    "# Python 3 已移除\n",
    "# print >> open(\"somefile\", \"w+\"), \"Hello World\""
   ]
  },
  {
   "cell_type": "markdown",
   "metadata": {},
   "source": [
    "## 省略号"
   ]
  },
  {
   "cell_type": "code",
   "execution_count": 51,
   "metadata": {},
   "outputs": [
    {
     "data": {
      "text/plain": [
       "Ellipsis"
      ]
     },
     "execution_count": 51,
     "metadata": {},
     "output_type": "execute_result"
    }
   ],
   "source": [
    "..."
   ]
  },
  {
   "cell_type": "markdown",
   "metadata": {},
   "source": [
    "## pow 还有第三个参数\n",
    "\n",
    " pow 还接受第三个参数，用来求模\n",
    " `pow(x, y, z) == (x ** y) % z`"
   ]
  },
  {
   "cell_type": "code",
   "execution_count": 52,
   "metadata": {},
   "outputs": [
    {
     "data": {
      "text/plain": [
       "0"
      ]
     },
     "execution_count": 52,
     "metadata": {},
     "output_type": "execute_result"
    }
   ],
   "source": [
    "pow(4, 2, 2)"
   ]
  },
  {
   "cell_type": "markdown",
   "metadata": {},
   "source": [
    "## isinstance 可以接收一个元组\n",
    "\n",
    "元组内的类型是或的关系"
   ]
  },
  {
   "cell_type": "code",
   "execution_count": 53,
   "metadata": {},
   "outputs": [
    {
     "data": {
      "text/plain": [
       "False"
      ]
     },
     "execution_count": 53,
     "metadata": {},
     "output_type": "execute_result"
    },
    {
     "data": {
      "text/plain": [
       "True"
      ]
     },
     "execution_count": 53,
     "metadata": {},
     "output_type": "execute_result"
    }
   ],
   "source": [
    "isinstance(\"1.3\", (float, int))\n",
    "isinstance(\"1.3\", (int, float, str))"
   ]
  },
  {
   "cell_type": "markdown",
   "metadata": {},
   "source": [
    "## 字典的无限递归"
   ]
  },
  {
   "cell_type": "code",
   "execution_count": 54,
   "metadata": {},
   "outputs": [
    {
     "data": {
      "text/plain": [
       "{'b': {'a': {...}}}"
      ]
     },
     "execution_count": 54,
     "metadata": {},
     "output_type": "execute_result"
    }
   ],
   "source": [
    "a, b = {}, {}\n",
    "a['b'] = b\n",
    "b['a'] = a\n",
    "a"
   ]
  },
  {
   "cell_type": "code",
   "execution_count": 55,
   "metadata": {},
   "outputs": [
    {
     "data": {
      "text/plain": [
       "[[[...]]]"
      ]
     },
     "execution_count": 55,
     "metadata": {},
     "output_type": "execute_result"
    }
   ],
   "source": [
    "a, b = [], []\n",
    "a.append(b)\n",
    "b.append(a)\n",
    "a"
   ]
  },
  {
   "cell_type": "markdown",
   "metadata": {},
   "source": [
    "## Python 可以认识 Unicode 中的数字"
   ]
  },
  {
   "cell_type": "code",
   "execution_count": 56,
   "metadata": {},
   "outputs": [
    {
     "data": {
      "text/plain": [
       "1234"
      ]
     },
     "execution_count": 56,
     "metadata": {},
     "output_type": "execute_result"
    }
   ],
   "source": [
    "int(u'1234')"
   ]
  },
  {
   "cell_type": "markdown",
   "metadata": {},
   "source": [
    "## 不能访问到的属性"
   ]
  },
  {
   "cell_type": "code",
   "execution_count": 57,
   "metadata": {},
   "outputs": [],
   "source": [
    "class O(object):\n",
    "    pass\n",
    "\n",
    "\n",
    "o = O()\n",
    "setattr(o, \"can't touch this\", 123)"
   ]
  },
  {
   "cell_type": "markdown",
   "metadata": {},
   "source": [
    "这个属性是访问不到的，因为 `' `的存在，不过，能用 setattr 设置属性，自然就可以用 getattr 取出"
   ]
  },
  {
   "cell_type": "markdown",
   "metadata": {},
   "source": [
    "## 使用计数器对象进行计数\n",
    "\n",
    "这是 collections 库中的一个 dict 子类，专门用于解决计数问题, 子类还包括 most_common 等方法"
   ]
  },
  {
   "cell_type": "code",
   "execution_count": 58,
   "metadata": {},
   "outputs": [
    {
     "data": {
      "text/plain": [
       "Counter({'h': 1, 'e': 1, 'l': 3, 'o': 2, ' ': 1, 'w': 1, 'r': 1, 'd': 1})"
      ]
     },
     "execution_count": 58,
     "metadata": {},
     "output_type": "execute_result"
    },
    {
     "data": {
      "text/plain": [
       "[('l', 3), ('o', 2)]"
      ]
     },
     "execution_count": 58,
     "metadata": {},
     "output_type": "execute_result"
    }
   ],
   "source": [
    "from collections import Counter\n",
    "\n",
    "c = Counter('hello world')\n",
    "\n",
    "c\n",
    "c.most_common(2)"
   ]
  },
  {
   "cell_type": "markdown",
   "metadata": {},
   "source": [
    "## 漂亮的打印 JSON\n",
    "\n",
    "使用 indent 关键字参数即可偏亮的打印 JSON"
   ]
  },
  {
   "cell_type": "code",
   "execution_count": 59,
   "metadata": {},
   "outputs": [
    {
     "name": "stdout",
     "output_type": "stream",
     "text": [
      "{\"a\": 1, \"b\": 2}\n",
      "{\n",
      "  \"a\": 1,\n",
      "  \"b\": 2\n",
      "}\n"
     ]
    }
   ],
   "source": [
    "import json\n",
    "data = {'a': 1, 'b': 2}\n",
    "\n",
    "print(json.dumps(data))\n",
    "print(json.dumps(data, indent=2))"
   ]
  },
  {
   "cell_type": "markdown",
   "metadata": {},
   "source": [
    "## 字典的剧本\n",
    "\n",
    "### 键的存在性"
   ]
  },
  {
   "cell_type": "code",
   "execution_count": 60,
   "metadata": {},
   "outputs": [
    {
     "data": {
      "text/plain": [
       "True"
      ]
     },
     "execution_count": 60,
     "metadata": {},
     "output_type": "execute_result"
    }
   ],
   "source": [
    "dct = {'a': 1}\n",
    "# 不推荐\n",
    "# dct.has_key('a') Python 3 移除\n",
    "# 推荐\n",
    "'a' in dct"
   ]
  },
  {
   "cell_type": "markdown",
   "metadata": {},
   "source": [
    "## 无限循环的结束"
   ]
  },
  {
   "cell_type": "code",
   "execution_count": 61,
   "metadata": {},
   "outputs": [
    {
     "name": "stdout",
     "output_type": "stream",
     "text": [
      "x\n",
      "x\n",
      "x\n"
     ]
    }
   ],
   "source": [
    "# 不推荐\n",
    "file = open(\"data/dataa.txt\", \"r\")\n",
    "\n",
    "while 1:   # infinite loop\n",
    "    line = file.readline()\n",
    "    if not line:  # 'readline()' returns None at end of file.\n",
    "        break\n",
    "    print(line)\n",
    "file.close()\n",
    "\n",
    "file = open(\"data/dataa.txt\", \"r\")\n",
    "\n",
    "# 推荐\n",
    "for line in file:\n",
    "    print(line)\n",
    "file.close()\n",
    "\n",
    "# 更好 使用上下文管理器\n",
    "with open('data/dataa.txt', 'r') as f:\n",
    "    for line in f:\n",
    "        print(line)"
   ]
  },
  {
   "cell_type": "markdown",
   "metadata": {},
   "source": [
    "open 函数的功能也可由 file 替代"
   ]
  },
  {
   "cell_type": "markdown",
   "metadata": {},
   "source": [
    "## 序列乘法"
   ]
  },
  {
   "cell_type": "code",
   "execution_count": 62,
   "metadata": {},
   "outputs": [
    {
     "data": {
      "text/plain": [
       "[0, 0]"
      ]
     },
     "execution_count": 62,
     "metadata": {},
     "output_type": "execute_result"
    },
    {
     "data": {
      "text/plain": [
       "'  '"
      ]
     },
     "execution_count": 62,
     "metadata": {},
     "output_type": "execute_result"
    }
   ],
   "source": [
    "[0] * 2\n",
    "\n",
    "' ' * 2"
   ]
  },
  {
   "cell_type": "markdown",
   "metadata": {},
   "source": [
    "## 显示循环进度条"
   ]
  },
  {
   "cell_type": "code",
   "execution_count": 63,
   "metadata": {},
   "outputs": [
    {
     "name": "stdout",
     "output_type": "stream",
     "text": [
      "100\r"
     ]
    }
   ],
   "source": [
    "import time\n",
    "\n",
    "N = 100\n",
    "\n",
    "for i in range(N+1):\n",
    "    time.sleep(0.01)\n",
    "    if i % 10 == 0:\n",
    "        print(i, end=\"\\r\")"
   ]
  },
  {
   "cell_type": "markdown",
   "metadata": {},
   "source": [
    "**进阶版**"
   ]
  },
  {
   "cell_type": "code",
   "execution_count": 64,
   "metadata": {},
   "outputs": [
    {
     "name": "stdout",
     "output_type": "stream",
     "text": [
      "[****************************************************************************************************]100%"
     ]
    }
   ],
   "source": [
    "import sys\n",
    "import time\n",
    "\n",
    "\n",
    "def progress_bar(num, total):\n",
    "    rate = num/total\n",
    "    pecent = int(100*rate)\n",
    "    r = \"\\r[{}{}]{}%\".format(\"*\"*pecent, \" \"*(100-pecent), pecent)\n",
    "    sys.stdout.write(r)\n",
    "    sys.stdout.flush()\n",
    "\n",
    "\n",
    "for i in range(N+1):\n",
    "    time.sleep(0.01)\n",
    "    progress_bar(i, N)"
   ]
  },
  {
   "cell_type": "markdown",
   "metadata": {},
   "source": [
    "## Other-Trick"
   ]
  },
  {
   "cell_type": "markdown",
   "metadata": {},
   "source": [
    "### Jupyter Notebook 中获取函数帮助\n",
    "\n",
    "光标移动至函数名右侧(或选中函数名)，按住Shift + Tab键弹出帮助文本框"
   ]
  },
  {
   "cell_type": "markdown",
   "metadata": {},
   "source": [
    "### 修改多处的同一标识符名字\n",
    "\n",
    "按住Ctrl鼠标移动光标同时选中多处编辑位置，启动多行编辑"
   ]
  },
  {
   "cell_type": "markdown",
   "metadata": {},
   "source": [
    "### [这些Python代码技巧，你肯定还不知道](https://mp.weixin.qq.com/s/CVdmSl5AM0YwzV5YReKGKw)"
   ]
  },
  {
   "cell_type": "markdown",
   "metadata": {},
   "source": [
    "**References**\n",
    "\n",
    ">- [公众号文章：代码这样写更优雅(Python版)](http://mp.weixin.qq.com/s/p-2ifLQ1iNwwqqCGL0A4Eg)\n",
    "- [公众号文章：代码这样写不止于优雅(Python版)](http://mp.weixin.qq.com/s/038NwipSwT5GgIykm09m7Q)\n",
    "- [Python的隐藏特性(StackOverflow)](https://pyzh.readthedocs.io/en/latest/python-hidden-features.html)\n",
    "- [提高你的Python编码效率](https://pyzh.readthedocs.io/en/latest/improving-your-python-productivity.html)\n",
    "- [Python:字典的剧本(翻译自Python:The Dictionary Playbook)](https://pyzh.readthedocs.io/en/latest/python-the-dictionary-playbook.html)\n",
    "- [Python 惯例](https://pyzh.readthedocs.io/en/latest/python-idioms.html)\n",
    "- [18式优雅你的Python](https://mp.weixin.qq.com/s/3HR38bwDvKR5jPFv2kYC4A)\n",
    "- [这些Python代码技巧，你肯定还不知道](https://mp.weixin.qq.com/s/CVdmSl5AM0YwzV5YReKGKw)\n",
    "\n",
    "- [PyZh](https://pyzh.readthedocs.io/en/latest/index.html)"
   ]
  }
 ],
 "metadata": {
  "kernelspec": {
   "display_name": "Python 3",
   "language": "python",
   "name": "python3"
  },
  "language_info": {
   "codemirror_mode": {
    "name": "ipython",
    "version": 3
   },
   "file_extension": ".py",
   "mimetype": "text/x-python",
   "name": "python",
   "nbconvert_exporter": "python",
   "pygments_lexer": "ipython3",
   "version": "3.7.0"
  },
  "toc": {
   "base_numbering": 1,
   "nav_menu": {},
   "number_sections": true,
   "sideBar": true,
   "skip_h1_title": false,
   "title_cell": "Table of Contents",
   "title_sidebar": "Contents",
   "toc_cell": true,
   "toc_position": {
    "height": "calc(100% - 180px)",
    "left": "10px",
    "top": "150px",
    "width": "274.389px"
   },
   "toc_section_display": true,
   "toc_window_display": true
  }
 },
 "nbformat": 4,
 "nbformat_minor": 2
}
