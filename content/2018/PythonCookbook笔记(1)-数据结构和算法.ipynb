{
 "cells": [
  {
   "cell_type": "markdown",
   "metadata": {},
   "source": [
    "本文为PythonCookbook的读书笔记，主要是对知识点的总结\n",
    "\n",
    "本章主要内容是一些简单的数据结构的操作"
   ]
  },
  {
   "cell_type": "markdown",
   "metadata": {
    "toc": true
   },
   "source": [
    "<h1>Table of Contents<span class=\"tocSkip\"></span></h1>\n",
    "<div class=\"toc\"><ul class=\"toc-item\"><li><span><a href=\"#1.1-解压序列赋值给多个变量\" data-toc-modified-id=\"1.1-解压序列赋值给多个变量-1\"><span class=\"toc-item-num\">1&nbsp;&nbsp;</span>1.1 解压序列赋值给多个变量</a></span></li><li><span><a href=\"#1.2-解压可迭代对象赋值给多个变量\" data-toc-modified-id=\"1.2-解压可迭代对象赋值给多个变量-2\"><span class=\"toc-item-num\">2&nbsp;&nbsp;</span>1.2 解压可迭代对象赋值给多个变量</a></span></li><li><span><a href=\"#1.3-保留最后-N-个元素\" data-toc-modified-id=\"1.3-保留最后-N-个元素-3\"><span class=\"toc-item-num\">3&nbsp;&nbsp;</span>1.3 保留最后 N 个元素</a></span></li><li><span><a href=\"#1.4-查找最大或最小的N-个元素\" data-toc-modified-id=\"1.4-查找最大或最小的N-个元素-4\"><span class=\"toc-item-num\">4&nbsp;&nbsp;</span>1.4 查找最大或最小的N 个元素</a></span></li><li><span><a href=\"#1.5-实现一个优先级队列\" data-toc-modified-id=\"1.5-实现一个优先级队列-5\"><span class=\"toc-item-num\">5&nbsp;&nbsp;</span>1.5 实现一个优先级队列</a></span></li><li><span><a href=\"#1.6-字典中的键映射多个值\" data-toc-modified-id=\"1.6-字典中的键映射多个值-6\"><span class=\"toc-item-num\">6&nbsp;&nbsp;</span>1.6 字典中的键映射多个值</a></span></li><li><span><a href=\"#1.7-字典排序\" data-toc-modified-id=\"1.7-字典排序-7\"><span class=\"toc-item-num\">7&nbsp;&nbsp;</span>1.7 字典排序</a></span></li><li><span><a href=\"#1.8-字典的运算\" data-toc-modified-id=\"1.8-字典的运算-8\"><span class=\"toc-item-num\">8&nbsp;&nbsp;</span>1.8 字典的运算</a></span></li><li><span><a href=\"#1.9-查找两字典的相同点\" data-toc-modified-id=\"1.9-查找两字典的相同点-9\"><span class=\"toc-item-num\">9&nbsp;&nbsp;</span>1.9 查找两字典的相同点</a></span></li><li><span><a href=\"#1.10-删除序列相同元素并保持顺序\" data-toc-modified-id=\"1.10-删除序列相同元素并保持顺序-10\"><span class=\"toc-item-num\">10&nbsp;&nbsp;</span>1.10 删除序列相同元素并保持顺序</a></span></li><li><span><a href=\"#命名切片\" data-toc-modified-id=\"命名切片-11\"><span class=\"toc-item-num\">11&nbsp;&nbsp;</span>命名切片</a></span><ul class=\"toc-item\"><li><span><a href=\"#注意\" data-toc-modified-id=\"注意-11.1\"><span class=\"toc-item-num\">11.1&nbsp;&nbsp;</span>注意</a></span></li></ul></li><li><span><a href=\"#序列中出现次数最多的元素\" data-toc-modified-id=\"序列中出现次数最多的元素-12\"><span class=\"toc-item-num\">12&nbsp;&nbsp;</span>序列中出现次数最多的元素</a></span></li><li><span><a href=\"#通过某个关键字排序一个字典列表\" data-toc-modified-id=\"通过某个关键字排序一个字典列表-13\"><span class=\"toc-item-num\">13&nbsp;&nbsp;</span>通过某个关键字排序一个字典列表</a></span></li><li><span><a href=\"#排序不支持原生比较的对象\" data-toc-modified-id=\"排序不支持原生比较的对象-14\"><span class=\"toc-item-num\">14&nbsp;&nbsp;</span>排序不支持原生比较的对象</a></span></li><li><span><a href=\"#通过某个字段将记录分组\" data-toc-modified-id=\"通过某个字段将记录分组-15\"><span class=\"toc-item-num\">15&nbsp;&nbsp;</span>通过某个字段将记录分组</a></span></li><li><span><a href=\"#过滤序列元素\" data-toc-modified-id=\"过滤序列元素-16\"><span class=\"toc-item-num\">16&nbsp;&nbsp;</span>过滤序列元素</a></span></li><li><span><a href=\"#从字典中提取子集\" data-toc-modified-id=\"从字典中提取子集-17\"><span class=\"toc-item-num\">17&nbsp;&nbsp;</span>从字典中提取子集</a></span></li><li><span><a href=\"#映射名称到序列元素\" data-toc-modified-id=\"映射名称到序列元素-18\"><span class=\"toc-item-num\">18&nbsp;&nbsp;</span>映射名称到序列元素</a></span></li><li><span><a href=\"#转换并同时计算数据\" data-toc-modified-id=\"转换并同时计算数据-19\"><span class=\"toc-item-num\">19&nbsp;&nbsp;</span>转换并同时计算数据</a></span></li><li><span><a href=\"#合并多个字典或映射\" data-toc-modified-id=\"合并多个字典或映射-20\"><span class=\"toc-item-num\">20&nbsp;&nbsp;</span>合并多个字典或映射</a></span></li></ul></div>"
   ]
  },
  {
   "cell_type": "markdown",
   "metadata": {},
   "source": [
    "Python 提供了大量的内置数据结构，包括列表，集合以及字典。大多数情况下使用这些数据结构是很简单的。但是，我们也会经常碰到到诸如查询，排序和过滤等等这些普遍存在的问题。因此，这一章的目的就是讨论这些比较常见的问题和算法。另外，也会给出在模块 collections 中操作这些数据结构的方法。"
   ]
  },
  {
   "cell_type": "code",
   "execution_count": 1,
   "metadata": {},
   "outputs": [],
   "source": [
    "from IPython.core.interactiveshell import InteractiveShell\n",
    "InteractiveShell.ast_node_interactivity = \"all\""
   ]
  },
  {
   "cell_type": "markdown",
   "metadata": {},
   "source": [
    "## 1.1 解压序列赋值给多个变量\n",
    "\n",
    "实际上就是序列解包问题，用于接收的变量数量要保持和序列内的变量数量一样。如果数量不匹配会产生异常，如果想丢弃某些值，可以用不常用的名字占位，然后丢弃即可。这种解包可以用在任何可迭代对象上，不仅仅是 list tuple，包括字符串，文件对象，迭代器生成器等。"
   ]
  },
  {
   "cell_type": "code",
   "execution_count": 2,
   "metadata": {},
   "outputs": [
    {
     "data": {
      "text/plain": [
       "4"
      ]
     },
     "execution_count": 2,
     "metadata": {},
     "output_type": "execute_result"
    },
    {
     "data": {
      "text/plain": [
       "5"
      ]
     },
     "execution_count": 2,
     "metadata": {},
     "output_type": "execute_result"
    },
    {
     "data": {
      "text/plain": [
       "('ACME', 50, 91.1, (2012, 12, 21))"
      ]
     },
     "execution_count": 2,
     "metadata": {},
     "output_type": "execute_result"
    }
   ],
   "source": [
    "p = (4, 5)\n",
    "x, y = p\n",
    "x\n",
    "y\n",
    "\n",
    "\n",
    "data = [ 'ACME', 50, 91.1, (2012, 12, 21) ]\n",
    "name, shares, price, date = data\n",
    "name,shares,price,date"
   ]
  },
  {
   "cell_type": "markdown",
   "metadata": {},
   "source": [
    "## 1.2 解压可迭代对象赋值给多个变量"
   ]
  },
  {
   "cell_type": "markdown",
   "metadata": {},
   "source": [
    "在解包的时候利用 `*` 操作符来接受多个值"
   ]
  },
  {
   "cell_type": "code",
   "execution_count": 3,
   "metadata": {},
   "outputs": [
    {
     "data": {
      "text/plain": [
       "('Dave', 'dave@example.com', ['773-555-1212', '847-555-1212'])"
      ]
     },
     "execution_count": 3,
     "metadata": {},
     "output_type": "execute_result"
    }
   ],
   "source": [
    "record = ('Dave', 'dave@example.com', '773-555-1212', '847-555-1212')\n",
    "name, email, *phone_numbers = record\n",
    "name, email,phone_numbers"
   ]
  },
  {
   "cell_type": "markdown",
   "metadata": {},
   "source": [
    "**无论如何 phone_numbers 解压出来都是 list 类型，就算只有 0 个元素**\n",
    "\n",
    "还可以利用 `*` 解包实现递归"
   ]
  },
  {
   "cell_type": "code",
   "execution_count": 4,
   "metadata": {},
   "outputs": [
    {
     "data": {
      "text/plain": [
       "190"
      ]
     },
     "execution_count": 4,
     "metadata": {},
     "output_type": "execute_result"
    }
   ],
   "source": [
    "def sum(items):\n",
    "    head, *tail = items\n",
    "    return head + sum(tail) if tail else head\n",
    "\n",
    "items = list(range(20))\n",
    "sum(items)"
   ]
  },
  {
   "cell_type": "markdown",
   "metadata": {},
   "source": [
    "**Python 并不擅长递归**"
   ]
  },
  {
   "cell_type": "markdown",
   "metadata": {},
   "source": [
    "## 1.3 保留最后 N 个元素"
   ]
  },
  {
   "cell_type": "markdown",
   "metadata": {},
   "source": [
    "利用 collections 库中的 deque，通过 maxlen 参数设置其最大长度\n",
    "\n",
    "或者可以利用 % 手动实现一个环形 buf 区"
   ]
  },
  {
   "cell_type": "code",
   "execution_count": 5,
   "metadata": {},
   "outputs": [],
   "source": [
    "from collections import deque\n",
    "\n",
    "def search(lines, pattern, history=5):\n",
    "    previous_lines = deque(maxlen=history)\n",
    "    for li in lines:\n",
    "        if pattern in li:\n",
    "            yield li, previous_lines\n",
    "        previous_lines.append(li)\n",
    "\n",
    "# Example use on a file\n",
    "if __name__ == '__main__':\n",
    "    with open('data/somefile.txt', 'r') as f:\n",
    "        for line, prevlines in search(f, 'is', 5):\n",
    "            for pline in prevlines:\n",
    "                print(pline, end='')\n",
    "            print(line, end='')\n",
    "            print('-' * 20)"
   ]
  },
  {
   "cell_type": "markdown",
   "metadata": {},
   "source": [
    "deque 还实现了 appendleft appendright popleft popright 等方法。\n",
    "\n",
    "在队列两端插入或删除元素时间复杂度都是 O(1)，而在列表的开头插入或删除元素的时间复杂度为 O(N)"
   ]
  },
  {
   "cell_type": "markdown",
   "metadata": {},
   "source": [
    "## 1.4 查找最大或最小的N 个元素"
   ]
  },
  {
   "cell_type": "markdown",
   "metadata": {},
   "source": [
    "**问题**\n",
    "\n",
    "集合里面，求最大或者最小的 N 个元素\n",
    "\n",
    "**解决**\n",
    "\n",
    "heapq模块有两个函数：nlargest() 和 nsmallest() 可以完美解决这个问题。（其实是利用了堆排序的性质）"
   ]
  },
  {
   "cell_type": "code",
   "execution_count": 6,
   "metadata": {},
   "outputs": [
    {
     "data": {
      "text/plain": [
       "[42, 37, 23]"
      ]
     },
     "execution_count": 6,
     "metadata": {},
     "output_type": "execute_result"
    },
    {
     "data": {
      "text/plain": [
       "[-4, 1, 2]"
      ]
     },
     "execution_count": 6,
     "metadata": {},
     "output_type": "execute_result"
    }
   ],
   "source": [
    "import heapq\n",
    "nums = [1, 8, 2, 23, 7, -4, 18, 23, 42, 37, 2]\n",
    "\n",
    "heapq.nlargest(3, nums)\n",
    "heapq.nsmallest(3, nums)"
   ]
  },
  {
   "cell_type": "markdown",
   "metadata": {},
   "source": [
    "**可以使用 key 参数，以支持更复杂的数据结构：**\n",
    "\n",
    "cheap = heapq.nsmallest(3, portfolio, key=lambda s: s['price'])\n",
    "\n",
    "**讨论**\n",
    "\n",
    "在底层实现里面，首先会先将集合数据进行堆排序后放入一个列表中：\n",
    "\n",
    "```python\n",
    ">>> nums = [1, 8, 2, 23, 7, -4, 18, 23, 42, 37, 2]\n",
    ">>> import heapq\n",
    ">>> heapq.heapify(nums)\n",
    ">>> nums\n",
    "[-4, 2, 1, 23, 7, 2, 18, 23, 42, 37, 8]\n",
    "```\n",
    "\n",
    "堆数据结构最重要的特征是 heap[0] 永远是最小的元素，该方法会先将第一个元素弹出来，然后用下一个最小的元素来取代被弹出元素(这种操作时间复杂度仅仅是O(log N)，N是堆大小)。\n",
    "\n",
    "```python\n",
    ">>> heapq.heappop(nums)\n",
    "-4\n",
    ">>> heapq.heappop(nums)\n",
    "1\n",
    ">>> heapq.heappop(nums)\n",
    "2\n",
    "```\n",
    "\n",
    "**注意**\n",
    "\n",
    "如果你仅仅想查找唯一的最小或最大(N=1)的元素的话，使用 min() 和 max() 函数\n",
    "\n",
    "如果N的大小和集合大小接近的时候，先排序这个集合然后再使用切片\n",
    "\n",
    "使用 heap 的场景是需要的 n 不是太大也不是太小"
   ]
  },
  {
   "cell_type": "markdown",
   "metadata": {},
   "source": [
    "## 1.5 实现一个优先级队列\n",
    "\n",
    "\n",
    "实现一个按优先级排序的队列 并且在这个队列上面每次pop操作总是返回优先级最高的那个元素\n",
    "\n",
    "一种方式是使用堆，不过每个元素不仅仅包括了值，还包括了优先级，于是堆按照优先级进行处理操作"
   ]
  },
  {
   "cell_type": "code",
   "execution_count": 7,
   "metadata": {},
   "outputs": [],
   "source": [
    "import heapq\n",
    "\n",
    "class PriorityQueue:\n",
    "    def __init__(self):\n",
    "        self._queue = []\n",
    "        self._index = 0\n",
    "\n",
    "    def push(self, item, priority):\n",
    "        # 负数为了保证从大到小\n",
    "        heapq.heappush(self._queue, (-priority, self._index, item))\n",
    "        self._index += 1\n",
    "\n",
    "    def pop(self):\n",
    "        return heapq.heappop(self._queue)[-1]"
   ]
  },
  {
   "cell_type": "code",
   "execution_count": 8,
   "metadata": {},
   "outputs": [
    {
     "data": {
      "text/plain": [
       "[(-5, 1, Item(bar)),\n",
       " (-1, 0, Item(foo)),\n",
       " (-4, 2, Item(spam)),\n",
       " (-1, 3, Item(grok))]"
      ]
     },
     "execution_count": 8,
     "metadata": {},
     "output_type": "execute_result"
    },
    {
     "data": {
      "text/plain": [
       "Item(bar)"
      ]
     },
     "execution_count": 8,
     "metadata": {},
     "output_type": "execute_result"
    },
    {
     "data": {
      "text/plain": [
       "Item(spam)"
      ]
     },
     "execution_count": 8,
     "metadata": {},
     "output_type": "execute_result"
    },
    {
     "data": {
      "text/plain": [
       "Item(foo)"
      ]
     },
     "execution_count": 8,
     "metadata": {},
     "output_type": "execute_result"
    },
    {
     "data": {
      "text/plain": [
       "Item(grok)"
      ]
     },
     "execution_count": 8,
     "metadata": {},
     "output_type": "execute_result"
    }
   ],
   "source": [
    "class Item:\n",
    "    def __init__(self, name):\n",
    "        self.name = name\n",
    "    def __repr__(self):\n",
    "        return f'Item({self.name})'\n",
    "\n",
    "q = PriorityQueue()\n",
    "q.push(Item('foo'), 1)\n",
    "q.push(Item('bar'), 5)\n",
    "q.push(Item('spam'), 4)\n",
    "q.push(Item('grok'), 1)\n",
    "\n",
    "q._queue\n",
    "\n",
    "q.pop()\n",
    "q.pop()\n",
    "q.pop()\n",
    "q.pop()"
   ]
  },
  {
   "cell_type": "markdown",
   "metadata": {},
   "source": [
    "如果两个有着相同优先级的元素( foo 和 grok )，pop操作按照它们被插入到队列的顺序返回的。\n",
    "\n",
    "**讨论**\n",
    "\n",
    "函数 heapq.heappush() 和 heapq.heappop()分别在队列 `_queue` 上插入和删除第一个元素， 并且队列_queue保证第一个元素拥有最高优先级。 heappop() 函数总是返回”最小的”的元素，这就是保证队列pop操作返回正确元素的关键。 另外，push和pop操作时间复杂度为O(log N)\n",
    "\n",
    "在上面代码中，队列包含了一个 (-priority, index, item) 的元组。 优先级为负数的目的是使得元素按照优先级从高到低排序。\n",
    "\n",
    "index 变量的作用是保证同等优先级元素的正确排序\n",
    "\n",
    "Python 中的元祖排序，默认是按照元祖内元素从前到后进行排序的\n",
    "\n",
    "如果想在多个线程中使用同一个队列，那么你需要增加适当的锁和信号量机制。"
   ]
  },
  {
   "cell_type": "markdown",
   "metadata": {},
   "source": [
    "## 1.6 字典中的键映射多个值\n",
    "\n",
    "实现一个键对应多个值的字典(也叫 multidict )？\n",
    "\n",
    "依旧是依靠字典一个键对应一个值，但是这个值可以是列表之类的，这样就实现了一个键对应多个值了。\n",
    "\n",
    "使用 collections 模块中的 defaultdict defaultdict 会自动初始化每个 key 刚开始对应的值，只需要添加元素即可"
   ]
  },
  {
   "cell_type": "code",
   "execution_count": 9,
   "metadata": {},
   "outputs": [
    {
     "data": {
      "text/plain": [
       "defaultdict(set, {'a': {1, 2}, 'b': {4}})"
      ]
     },
     "execution_count": 9,
     "metadata": {},
     "output_type": "execute_result"
    }
   ],
   "source": [
    "from collections import defaultdict\n",
    "\n",
    "d = defaultdict(list)\n",
    "d['a'].append(1)\n",
    "d['a'].append(2)\n",
    "d['b'].append(4)\n",
    "\n",
    "d = defaultdict(set)\n",
    "d['a'].add(1)\n",
    "d['a'].add(2)\n",
    "d['b'].add(4)\n",
    "\n",
    "d"
   ]
  },
  {
   "cell_type": "markdown",
   "metadata": {},
   "source": [
    "创建一个多值映射字典是很简单的。但是，如果自己实现的话，值的初始化可能会有点麻烦\n",
    "\n",
    "这样\n",
    "\n",
    "```python\n",
    "d = {}\n",
    "for key, value in pairs:\n",
    "    if key not in d:\n",
    "        d[key] = []\n",
    "    d[key].append(value)\n",
    "```\n",
    "\n",
    "或者这样\n",
    "\n",
    "```python\n",
    "d = {} # A regular dictionary\n",
    "d.setdefault('a', []).append(1)\n",
    "```\n",
    "\n",
    "如果使用 defaultdict 的话代码就更加简洁了：\n",
    "\n",
    "```python\n",
    "d = defaultdict(list)\n",
    "for key, value in pairs:\n",
    "    d[key].append(value)\n",
    "```"
   ]
  },
  {
   "cell_type": "markdown",
   "metadata": {},
   "source": [
    "## 1.7 字典排序\n",
    "\n",
    "有序字典\n",
    "\n",
    "collections 模块中的 OrderedDict 类。 **迭代操作时会保持元素被插入时的顺序**\n",
    "\n",
    "意义在于不会根据键重新排序"
   ]
  },
  {
   "cell_type": "code",
   "execution_count": 10,
   "metadata": {},
   "outputs": [
    {
     "name": "stdout",
     "output_type": "stream",
     "text": [
      "foo 1\n",
      "bar 2\n",
      "spam 3\n",
      "grok 4\n"
     ]
    },
    {
     "data": {
      "text/plain": [
       "OrderedDict([('foo', 1), ('bar', 2), ('spam', 3), ('grok', 4)])"
      ]
     },
     "execution_count": 10,
     "metadata": {},
     "output_type": "execute_result"
    }
   ],
   "source": [
    "from collections import OrderedDict\n",
    "\n",
    "d = OrderedDict()\n",
    "\n",
    "d['foo'] = 1\n",
    "d['bar'] = 2\n",
    "d['spam'] = 3\n",
    "d['grok'] = 4\n",
    "\n",
    "for key in d:\n",
    "    print(key, d[key])\n",
    "    \n",
    "d"
   ]
  },
  {
   "cell_type": "markdown",
   "metadata": {},
   "source": [
    "当你想要构建一个将来需要序列化或编码成其他格式的映射的时候， OrderedDict 是非常有用的。 比如，你想精确控制以JSON编码后字段的顺序"
   ]
  },
  {
   "cell_type": "code",
   "execution_count": 11,
   "metadata": {},
   "outputs": [
    {
     "name": "stdout",
     "output_type": "stream",
     "text": [
      "{\n",
      "  \"foo\": 1,\n",
      "  \"bar\": 2,\n",
      "  \"spam\": 3,\n",
      "  \"grok\": 4\n",
      "}\n"
     ]
    }
   ],
   "source": [
    "import json\n",
    "\n",
    "print(json.dumps(d,indent=2))"
   ]
  },
  {
   "cell_type": "markdown",
   "metadata": {},
   "source": [
    "OrderedDict 内部维护着一个根据键插入顺序排序的双向链表。每次当一个新的元素插入进来的时候， 它会被放到链表的尾部。对于一个已经存在的键的重复赋值不会改变键的顺序。\n",
    "\n",
    "需要注意的是，OrderedDict 的大小是普通字典的两倍，因为它内部维护着另外一个链表。\n",
    "\n",
    "权衡一下是否需要使用 OrderedDict 带来的好处要大过额外内存消耗的影响。"
   ]
  },
  {
   "cell_type": "markdown",
   "metadata": {},
   "source": [
    "## 1.8 字典的运算\n",
    "\n",
    "对字典进行类似于求最大值、最小值等操作\n",
    "\n",
    "两种方式：\n",
    "\n",
    "方式一：利用 zip 把 key 和 value 进行反转，然后利用 tuple 的比较操作"
   ]
  },
  {
   "cell_type": "code",
   "execution_count": 12,
   "metadata": {},
   "outputs": [
    {
     "data": {
      "text/plain": [
       "(10.75, 'FB')"
      ]
     },
     "execution_count": 12,
     "metadata": {},
     "output_type": "execute_result"
    },
    {
     "data": {
      "text/plain": [
       "(612.78, 'AAPL')"
      ]
     },
     "execution_count": 12,
     "metadata": {},
     "output_type": "execute_result"
    },
    {
     "data": {
      "text/plain": [
       "[(10.75, 'FB'),\n",
       " (37.2, 'HPQ'),\n",
       " (45.23, 'ACME'),\n",
       " (205.55, 'IBM'),\n",
       " (612.78, 'AAPL')]"
      ]
     },
     "execution_count": 12,
     "metadata": {},
     "output_type": "execute_result"
    }
   ],
   "source": [
    "prices = {\n",
    "    'ACME': 45.23,\n",
    "    'AAPL': 612.78,\n",
    "    'IBM': 205.55,\n",
    "    'HPQ': 37.20,\n",
    "    'FB': 10.75\n",
    "}\n",
    "\n",
    "min_price = min(zip(prices.values(), prices.keys()))\n",
    "min_price\n",
    "\n",
    "max_price = max(zip(prices.values(), prices.keys()))\n",
    "max_price\n",
    "\n",
    "prices_sorted = sorted(zip(prices.values(), prices.keys()))\n",
    "prices_sorted"
   ]
  },
  {
   "cell_type": "markdown",
   "metadata": {},
   "source": [
    "**zip() 函数创建的是一个只能访问一次的迭代器**"
   ]
  },
  {
   "cell_type": "markdown",
   "metadata": {},
   "source": [
    "方式二，利用 min 或 max 的 key 参数"
   ]
  },
  {
   "cell_type": "code",
   "execution_count": 13,
   "metadata": {},
   "outputs": [
    {
     "data": {
      "text/plain": [
       "10.75"
      ]
     },
     "execution_count": 13,
     "metadata": {},
     "output_type": "execute_result"
    },
    {
     "data": {
      "text/plain": [
       "'AAPL'"
      ]
     },
     "execution_count": 13,
     "metadata": {},
     "output_type": "execute_result"
    }
   ],
   "source": [
    "min(prices.values())\n",
    "\n",
    "max(prices, key=lambda k: prices[k])"
   ]
  },
  {
   "cell_type": "markdown",
   "metadata": {},
   "source": [
    "当多个实体拥有相同的值的时候，键会决定返回结果。 比如，在执行 min() 和 max() 操作的时候，如果恰巧最小或最大值有重复的，那么拥有最小或最大键的实体会返回。"
   ]
  },
  {
   "cell_type": "markdown",
   "metadata": {},
   "source": [
    "## 1.9 查找两字典的相同点\n",
    "\n",
    "在两个字典中寻找相同点（比如相同的键，相同的值等）\n",
    "\n",
    "在 keys() 或者 items() 返回的结果上执行集合操作"
   ]
  },
  {
   "cell_type": "code",
   "execution_count": 14,
   "metadata": {},
   "outputs": [
    {
     "data": {
      "text/plain": [
       "{'x', 'y'}"
      ]
     },
     "execution_count": 14,
     "metadata": {},
     "output_type": "execute_result"
    },
    {
     "data": {
      "text/plain": [
       "{'z'}"
      ]
     },
     "execution_count": 14,
     "metadata": {},
     "output_type": "execute_result"
    },
    {
     "data": {
      "text/plain": [
       "{('y', 2)}"
      ]
     },
     "execution_count": 14,
     "metadata": {},
     "output_type": "execute_result"
    }
   ],
   "source": [
    "a = {\n",
    "'x' : 1,\n",
    "'y' : 2,\n",
    "'z' : 3\n",
    "}\n",
    "\n",
    "b = {\n",
    "'w' : 10,\n",
    "'x' : 11,\n",
    "'y' : 2\n",
    "}\n",
    "\n",
    "# Find keys in common\n",
    "a.keys() & b.keys()\n",
    "# Find keys in a that are not in b\n",
    "a.keys() - b.keys()\n",
    "# Find (key,value) pairs in common\n",
    "a.items() & b.items()"
   ]
  },
  {
   "cell_type": "markdown",
   "metadata": {},
   "source": [
    "字典的 keys() 方法返回一个展现键集合的键视图对象 **键视图也支持集合操作不用转换成set**\n",
    "\n",
    "字典的 values() 方法也是类似，但是**它并不支持集合操作**。 某种程度上是因为值视图不能保证所有的值互不相同。\n",
    "\n",
    "如果非要堆 对 values() 进行集合操作，可以先 set() 一下"
   ]
  },
  {
   "cell_type": "markdown",
   "metadata": {},
   "source": [
    "## 1.10 删除序列相同元素并保持顺序\n",
    "\n",
    "在一个序列上保持元素顺序的同时消除重复的值\n",
    "\n",
    "如果序列上的值都是 hashable 类型"
   ]
  },
  {
   "cell_type": "code",
   "execution_count": 15,
   "metadata": {},
   "outputs": [],
   "source": [
    "def dedupe_1(items):\n",
    "    seen = set()\n",
    "    for item in items:\n",
    "        if item not in seen:\n",
    "            yield item\n",
    "        seen.add(item)"
   ]
  },
  {
   "cell_type": "markdown",
   "metadata": {},
   "source": [
    "如果你想消除元素不可哈希(比如 dict 类型)"
   ]
  },
  {
   "cell_type": "code",
   "execution_count": 16,
   "metadata": {},
   "outputs": [],
   "source": [
    "def dedupe_2(items, key=None):\n",
    "    seen = set()\n",
    "    for item in items:\n",
    "        val = item if key is None else key(item)\n",
    "        if val not in seen:\n",
    "            yield item\n",
    "            seen.add(val)"
   ]
  },
  {
   "cell_type": "markdown",
   "metadata": {},
   "source": [
    "这里的key参数指定了一个函数，将序列元素转换成 hashable 类型"
   ]
  },
  {
   "cell_type": "code",
   "execution_count": 17,
   "metadata": {},
   "outputs": [
    {
     "data": {
      "text/plain": [
       "[{'x': 1, 'y': 2}, {'x': 1, 'y': 3}, {'x': 2, 'y': 4}]"
      ]
     },
     "execution_count": 17,
     "metadata": {},
     "output_type": "execute_result"
    },
    {
     "data": {
      "text/plain": [
       "[{'x': 1, 'y': 2}, {'x': 2, 'y': 4}]"
      ]
     },
     "execution_count": 17,
     "metadata": {},
     "output_type": "execute_result"
    }
   ],
   "source": [
    "a = [ {'x':1, 'y':2}, {'x':1, 'y':3}, {'x':1, 'y':2}, {'x':2, 'y':4}]\n",
    "\n",
    "list(dedupe_2(a, key=lambda d: (d['x'],d['y'])))\n",
    "\n",
    "list(dedupe_2(a, key=lambda d: d['x']))"
   ]
  },
  {
   "cell_type": "markdown",
   "metadata": {},
   "source": [
    "如果只需要消除重复元素，通常可以简单的构造一个集合，但是这样会打乱原序列的顺序。"
   ]
  },
  {
   "cell_type": "markdown",
   "metadata": {},
   "source": [
    "## 命名切片\n",
    "\n",
    "代码中出现了一大堆硬编码切片下标，影响程序可读性\n",
    "\n",
    "命名切片"
   ]
  },
  {
   "cell_type": "markdown",
   "metadata": {},
   "source": [
    "内置的 `slice()` 函数创建了一个切片对象，slice() 接受三个参数，start stop step 可以被用在任何切片允许使用的地方。"
   ]
  },
  {
   "cell_type": "code",
   "execution_count": 18,
   "metadata": {},
   "outputs": [
    {
     "data": {
      "text/plain": [
       "[2, 3]"
      ]
     },
     "execution_count": 18,
     "metadata": {},
     "output_type": "execute_result"
    },
    {
     "data": {
      "text/plain": [
       "[2, 3]"
      ]
     },
     "execution_count": 18,
     "metadata": {},
     "output_type": "execute_result"
    },
    {
     "data": {
      "text/plain": [
       "[0, 1, 10, 11, 4, 5, 6]"
      ]
     },
     "execution_count": 18,
     "metadata": {},
     "output_type": "execute_result"
    },
    {
     "data": {
      "text/plain": [
       "[0, 1, 4, 5, 6]"
      ]
     },
     "execution_count": 18,
     "metadata": {},
     "output_type": "execute_result"
    }
   ],
   "source": [
    "items = [0, 1, 2, 3, 4, 5, 6]\n",
    "a = slice(2, 4)\n",
    "\n",
    "items[2:4]\n",
    "items[a]\n",
    "\n",
    "items[a] = [10,11]\n",
    "items\n",
    "\n",
    "del items[a]\n",
    "items"
   ]
  },
  {
   "cell_type": "markdown",
   "metadata": {},
   "source": [
    "### 注意"
   ]
  },
  {
   "cell_type": "code",
   "execution_count": 19,
   "metadata": {},
   "outputs": [
    {
     "data": {
      "text/plain": [
       "[0, 1, 2, 3, 4, 5, 6, 7, 8, 9]"
      ]
     },
     "execution_count": 19,
     "metadata": {},
     "output_type": "execute_result"
    },
    {
     "data": {
      "text/plain": [
       "[2, 3, 4, 5, 6, 7, 8, 9]"
      ]
     },
     "execution_count": 19,
     "metadata": {},
     "output_type": "execute_result"
    }
   ],
   "source": [
    "ls = list(range(10))\n",
    "\n",
    "sl = ls[0:2]\n",
    "\n",
    "del sl\n",
    "ls\n",
    "\n",
    "del ls[0:2]\n",
    "ls"
   ]
  },
  {
   "cell_type": "markdown",
   "metadata": {},
   "source": [
    "虽然切片返回浅拷贝对象，但切片本身仍然指向原始目标"
   ]
  },
  {
   "cell_type": "markdown",
   "metadata": {},
   "source": [
    "如果你有一个切片对象a，你可以分别调用它的 `a.start` , `a.stop` , `a.step` 属性来获取更多的信息"
   ]
  },
  {
   "cell_type": "code",
   "execution_count": 20,
   "metadata": {},
   "outputs": [
    {
     "data": {
      "text/plain": [
       "5"
      ]
     },
     "execution_count": 20,
     "metadata": {},
     "output_type": "execute_result"
    },
    {
     "data": {
      "text/plain": [
       "50"
      ]
     },
     "execution_count": 20,
     "metadata": {},
     "output_type": "execute_result"
    },
    {
     "data": {
      "text/plain": [
       "2"
      ]
     },
     "execution_count": 20,
     "metadata": {},
     "output_type": "execute_result"
    }
   ],
   "source": [
    "a = slice(5, 50, 2)\n",
    "a.start\n",
    "\n",
    "a.stop\n",
    "\n",
    "a.step"
   ]
  },
  {
   "cell_type": "markdown",
   "metadata": {},
   "source": [
    "另外，你还能通过调用切片的 `indices(size)` 方法将它映射到一个确定大小的序列上， 这个方法返回一个三元组 `(start, stop, step)` ，所有值都会被合适的缩小以满足边界限制，避免出现 `IndexError` 异常。"
   ]
  },
  {
   "cell_type": "code",
   "execution_count": 21,
   "metadata": {},
   "outputs": [
    {
     "data": {
      "text/plain": [
       "(5, 10, 2)"
      ]
     },
     "execution_count": 21,
     "metadata": {},
     "output_type": "execute_result"
    }
   ],
   "source": [
    "s = 'HelloWorld'\n",
    "\n",
    "a.indices(len(s))"
   ]
  },
  {
   "cell_type": "markdown",
   "metadata": {},
   "source": [
    "## 序列中出现次数最多的元素\n",
    "\n",
    "\n",
    "找出序列中出现次数最多的元素\n",
    "\n",
    "`collections.Counter` 类就是专门为这类问题而设计的，而且有 `most_common()` 方法"
   ]
  },
  {
   "cell_type": "code",
   "execution_count": 22,
   "metadata": {},
   "outputs": [
    {
     "data": {
      "text/plain": [
       "[('eyes', 8), ('the', 5), ('look', 4)]"
      ]
     },
     "execution_count": 22,
     "metadata": {},
     "output_type": "execute_result"
    }
   ],
   "source": [
    "words = [\n",
    "    'look', 'into', 'my', 'eyes', 'look', 'into', 'my', 'eyes',\n",
    "    'the', 'eyes', 'the', 'eyes', 'the', 'eyes', 'not', 'around', 'the',\n",
    "    'eyes', \"don't\", 'look', 'around', 'the', 'eyes', 'look', 'into',\n",
    "    'my', 'eyes', \"you're\", 'under'\n",
    "]\n",
    "\n",
    "from collections import Counter\n",
    "\n",
    "word_counts = Counter(words)\n",
    "\n",
    "top_three = word_counts.most_common(3)\n",
    "top_three"
   ]
  },
  {
   "cell_type": "markdown",
   "metadata": {},
   "source": [
    "作为输入， `Counter` 对象可以接受任意的由**可哈希(`hashable`)元素**构成的序列对象。 在底层实现上，一个 `Counter` 对象就是一个字典，将元素映射到它出现的次数上。\n",
    "\n",
    "增加计数：\n",
    "\n",
    "1.手动增加计数，可以简单的用加法："
   ]
  },
  {
   "cell_type": "code",
   "execution_count": 23,
   "metadata": {},
   "outputs": [],
   "source": [
    "word_counts['the'] += 1"
   ]
  },
  {
   "cell_type": "markdown",
   "metadata": {},
   "source": [
    "2.使用 `update()` 方法"
   ]
  },
  {
   "cell_type": "code",
   "execution_count": 24,
   "metadata": {},
   "outputs": [],
   "source": [
    "morewords = ['why','are','you','not','looking','in','my','eyes']\n",
    "\n",
    "word_counts.update(morewords)"
   ]
  },
  {
   "cell_type": "markdown",
   "metadata": {},
   "source": [
    "`Counter` 实例**可以跟数学运算操作或者说是集合操作相结合**"
   ]
  },
  {
   "cell_type": "code",
   "execution_count": 25,
   "metadata": {},
   "outputs": [
    {
     "data": {
      "text/plain": [
       "Counter({'look': 4,\n",
       "         'into': 3,\n",
       "         'my': 3,\n",
       "         'eyes': 8,\n",
       "         'the': 5,\n",
       "         'not': 1,\n",
       "         'around': 2,\n",
       "         \"don't\": 1,\n",
       "         \"you're\": 1,\n",
       "         'under': 1})"
      ]
     },
     "execution_count": 25,
     "metadata": {},
     "output_type": "execute_result"
    },
    {
     "data": {
      "text/plain": [
       "Counter({'why': 1,\n",
       "         'are': 1,\n",
       "         'you': 1,\n",
       "         'not': 1,\n",
       "         'looking': 1,\n",
       "         'in': 1,\n",
       "         'my': 1,\n",
       "         'eyes': 1})"
      ]
     },
     "execution_count": 25,
     "metadata": {},
     "output_type": "execute_result"
    },
    {
     "data": {
      "text/plain": [
       "Counter({'look': 4,\n",
       "         'into': 3,\n",
       "         'my': 4,\n",
       "         'eyes': 9,\n",
       "         'the': 5,\n",
       "         'not': 2,\n",
       "         'around': 2,\n",
       "         \"don't\": 1,\n",
       "         \"you're\": 1,\n",
       "         'under': 1,\n",
       "         'why': 1,\n",
       "         'are': 1,\n",
       "         'you': 1,\n",
       "         'looking': 1,\n",
       "         'in': 1})"
      ]
     },
     "execution_count": 25,
     "metadata": {},
     "output_type": "execute_result"
    },
    {
     "data": {
      "text/plain": [
       "Counter({'look': 4,\n",
       "         'into': 3,\n",
       "         'my': 2,\n",
       "         'eyes': 7,\n",
       "         'the': 5,\n",
       "         'around': 2,\n",
       "         \"don't\": 1,\n",
       "         \"you're\": 1,\n",
       "         'under': 1})"
      ]
     },
     "execution_count": 25,
     "metadata": {},
     "output_type": "execute_result"
    }
   ],
   "source": [
    "a = Counter(words)\n",
    "b = Counter(morewords)\n",
    "a\n",
    "b\n",
    "\n",
    "c = a + b\n",
    "c\n",
    "\n",
    "d = a - b\n",
    "d"
   ]
  },
  {
   "cell_type": "markdown",
   "metadata": {},
   "source": [
    "## 通过某个关键字排序一个字典列表\n",
    "\n",
    "有一个字典列表，根据某个或某几个字典字段来排序列表\n",
    "\n",
    "使用 `operator` 模块的 `itemgetter` 函数"
   ]
  },
  {
   "cell_type": "code",
   "execution_count": 26,
   "metadata": {},
   "outputs": [
    {
     "data": {
      "text/plain": [
       "[{'fname': 'Big', 'lname': 'Jones', 'uid': 1004},\n",
       " {'fname': 'Brian', 'lname': 'Jones', 'uid': 1003},\n",
       " {'fname': 'David', 'lname': 'Beazley', 'uid': 1002},\n",
       " {'fname': 'John', 'lname': 'Cleese', 'uid': 1001}]"
      ]
     },
     "execution_count": 26,
     "metadata": {},
     "output_type": "execute_result"
    }
   ],
   "source": [
    "rows = [\n",
    "    {'fname': 'Brian', 'lname': 'Jones', 'uid': 1003},\n",
    "    {'fname': 'David', 'lname': 'Beazley', 'uid': 1002},\n",
    "    {'fname': 'John', 'lname': 'Cleese', 'uid': 1001},\n",
    "    {'fname': 'Big', 'lname': 'Jones', 'uid': 1004}\n",
    "]\n",
    "\n",
    "from operator import itemgetter\n",
    "rows_by_fname = sorted(rows, key=itemgetter('fname'))\n",
    "rows_by_fname"
   ]
  },
  {
   "cell_type": "markdown",
   "metadata": {},
   "source": [
    "`itemgetter()` 函数也支持多个keys，在比较的时候按顺序进行比较"
   ]
  },
  {
   "cell_type": "code",
   "execution_count": 27,
   "metadata": {},
   "outputs": [
    {
     "data": {
      "text/plain": [
       "[{'fname': 'David', 'lname': 'Beazley', 'uid': 1002},\n",
       " {'fname': 'John', 'lname': 'Cleese', 'uid': 1001},\n",
       " {'fname': 'Big', 'lname': 'Jones', 'uid': 1004},\n",
       " {'fname': 'Brian', 'lname': 'Jones', 'uid': 1003}]"
      ]
     },
     "execution_count": 27,
     "metadata": {},
     "output_type": "execute_result"
    }
   ],
   "source": [
    "rows_by_lfname = sorted(rows, key=itemgetter('lname','fname'))\n",
    "rows_by_lfname"
   ]
  },
  {
   "cell_type": "markdown",
   "metadata": {},
   "source": [
    "`operator.itemgetter()` 函数的参数可以是一个字典键名称， 一个整形值或者任何能够传入一个对象的 `__getitem__()` 方法的值。\n",
    "\n",
    "`itemgetter()` 有时候也可以用 `lambda` 表达式代替，**感觉`itemgetter()`就是一个闭包或者类**\n",
    "\n",
    "```python\n",
    "rows_by_fname = sorted(rows, key=lambda r: r['fname'])\n",
    "```\n",
    "\n",
    "使用 `itemgetter()` 会稍微快点。因此如果你对性能要求比较高的话就使用 `itemgetter()` 方式\n",
    "\n",
    "这样的技术也同样适用于 `min()` 和 `max()` 等函数"
   ]
  },
  {
   "cell_type": "markdown",
   "metadata": {},
   "source": [
    "## 排序不支持原生比较的对象\n",
    "\n",
    "内置的 `sorted()` 函数有一个关键字参数 `key` ，可以传入 `callable` 对象\n",
    "\n",
    "对于类对象一种方法是使用 `operator.attrgetter()` 另一种则是使用 lambda 函数"
   ]
  },
  {
   "cell_type": "code",
   "execution_count": 28,
   "metadata": {},
   "outputs": [
    {
     "name": "stdout",
     "output_type": "stream",
     "text": [
      "[User(23), User(3), User(99)]\n",
      "[User(3), User(23), User(99)]\n",
      "[User(3), User(23), User(99)]\n"
     ]
    }
   ],
   "source": [
    "from operator import attrgetter\n",
    "\n",
    "class User:\n",
    "    def __init__(self, user_id):\n",
    "        self.user_id = user_id\n",
    "    def __repr__(self):\n",
    "        return 'User({})'.format(self.user_id)\n",
    "\n",
    "def sort_notcompare():\n",
    "    users = [User(23), User(3), User(99)]\n",
    "    print(users)\n",
    "    print(sorted(users, key=lambda u: u.user_id)) # 方法一\n",
    "    print(sorted(users, key=attrgetter('user_id'))) # 方法二\n",
    "\n",
    "sort_notcompare()"
   ]
  },
  {
   "cell_type": "markdown",
   "metadata": {},
   "source": [
    "`attrgetter()`函数通常会快点，并且还能同时允许多个字段进行比较"
   ]
  },
  {
   "cell_type": "markdown",
   "metadata": {},
   "source": [
    "## 通过某个字段将记录分组\n",
    "\n",
    "有一个字典，根据某个特定的字段比如 `date` 来分组迭代访问\n",
    "\n",
    "`itertools.groupby()` 函数"
   ]
  },
  {
   "cell_type": "code",
   "execution_count": 29,
   "metadata": {},
   "outputs": [
    {
     "data": {
      "text/plain": [
       "[{'address': '5412 N CLARK', 'date': '07/01/2012'},\n",
       " {'address': '4801 N BROADWAY', 'date': '07/01/2012'},\n",
       " {'address': '5800 E 58TH', 'date': '07/02/2012'},\n",
       " {'address': '5645 N RAVENSWOOD', 'date': '07/02/2012'},\n",
       " {'address': '1060 W ADDISON', 'date': '07/02/2012'},\n",
       " {'address': '2122 N CLARK', 'date': '07/03/2012'},\n",
       " {'address': '5148 N CLARK', 'date': '07/04/2012'},\n",
       " {'address': '1039 W GRANVILLE', 'date': '07/04/2012'}]"
      ]
     },
     "execution_count": 29,
     "metadata": {},
     "output_type": "execute_result"
    },
    {
     "name": "stdout",
     "output_type": "stream",
     "text": [
      "07/01/2012\n",
      "  {'address': '5412 N CLARK', 'date': '07/01/2012'}\n",
      "  {'address': '4801 N BROADWAY', 'date': '07/01/2012'}\n",
      "07/02/2012\n",
      "  {'address': '5800 E 58TH', 'date': '07/02/2012'}\n",
      "  {'address': '5645 N RAVENSWOOD', 'date': '07/02/2012'}\n",
      "  {'address': '1060 W ADDISON', 'date': '07/02/2012'}\n",
      "07/03/2012\n",
      "  {'address': '2122 N CLARK', 'date': '07/03/2012'}\n",
      "07/04/2012\n",
      "  {'address': '5148 N CLARK', 'date': '07/04/2012'}\n",
      "  {'address': '1039 W GRANVILLE', 'date': '07/04/2012'}\n"
     ]
    }
   ],
   "source": [
    "rows = [\n",
    "    {'address': '5412 N CLARK', 'date': '07/01/2012'},\n",
    "    {'address': '5148 N CLARK', 'date': '07/04/2012'},\n",
    "    {'address': '5800 E 58TH', 'date': '07/02/2012'},\n",
    "    {'address': '2122 N CLARK', 'date': '07/03/2012'},\n",
    "    {'address': '5645 N RAVENSWOOD', 'date': '07/02/2012'},\n",
    "    {'address': '1060 W ADDISON', 'date': '07/02/2012'},\n",
    "    {'address': '4801 N BROADWAY', 'date': '07/01/2012'},\n",
    "    {'address': '1039 W GRANVILLE', 'date': '07/04/2012'},\n",
    "]\n",
    "\n",
    "from operator import itemgetter\n",
    "from itertools import groupby\n",
    "\n",
    "rows.sort(key=itemgetter('date'))\n",
    "\n",
    "rows\n",
    "\n",
    "for date, items in groupby(rows, key=itemgetter('date')):\n",
    "    print(date)\n",
    "    for i in items:\n",
    "        print(' ', i)"
   ]
  },
  {
   "cell_type": "markdown",
   "metadata": {},
   "source": [
    "**讨论**\n",
    "\n",
    "`groupby()` 函数扫描整个序列并且查找连续相同值(或者根据指定key函数返回值相同)的元素序列。在每次迭代时，它会返回一个值和一个迭代器\n",
    "\n",
    "有两点需要注意的地方：\n",
    "\n",
    "**1.`groupby()` 仅仅检查连续的元素，事先需要根据指定的字段将数据排序**\n",
    "\n",
    "**2.如果只是想根据 `date` 字段将数据分组到一个大的数据结构中去，并且允许随机访问，最好使用 `defaultdict()` 构建多值字典**"
   ]
  },
  {
   "cell_type": "code",
   "execution_count": 30,
   "metadata": {},
   "outputs": [
    {
     "data": {
      "text/plain": [
       "defaultdict(list,\n",
       "            {'07/01/2012': [{'address': '5412 N CLARK', 'date': '07/01/2012'},\n",
       "              {'address': '4801 N BROADWAY', 'date': '07/01/2012'}],\n",
       "             '07/02/2012': [{'address': '5800 E 58TH', 'date': '07/02/2012'},\n",
       "              {'address': '5645 N RAVENSWOOD', 'date': '07/02/2012'},\n",
       "              {'address': '1060 W ADDISON', 'date': '07/02/2012'}],\n",
       "             '07/03/2012': [{'address': '2122 N CLARK', 'date': '07/03/2012'}],\n",
       "             '07/04/2012': [{'address': '5148 N CLARK', 'date': '07/04/2012'},\n",
       "              {'address': '1039 W GRANVILLE', 'date': '07/04/2012'}]})"
      ]
     },
     "execution_count": 30,
     "metadata": {},
     "output_type": "execute_result"
    }
   ],
   "source": [
    "from collections import defaultdict\n",
    "\n",
    "rows_by_date = defaultdict(list)\n",
    "for row in rows:\n",
    "    rows_by_date[row['date']].append(row)\n",
    "    \n",
    "rows_by_date"
   ]
  },
  {
   "cell_type": "markdown",
   "metadata": {},
   "source": [
    "这种方式会比先排序然后再通过 `groupby()` 函数迭代的方式运行得快一些。"
   ]
  },
  {
   "cell_type": "markdown",
   "metadata": {},
   "source": [
    "## 过滤序列元素\n",
    "\n",
    "有一个序列，用一些规则从中提取出需要的值\n",
    "\n",
    "最简单的过滤序列元素的方法就是使用`列表推导`,为了避免对内存的过度消耗，可以考虑换用`生成器表达式`\n",
    "\n",
    "如果过滤规则过于复杂，则可以将过滤操作放在一个函数中，然后使用 `filter()` 进行过滤，注意 **`filter()`返回迭代器**\n",
    "\n",
    "列表和生成器表达式不仅可以过滤，还可以在过滤的过程中替换数据，配合 python 三元表达式食用效果更佳"
   ]
  },
  {
   "cell_type": "code",
   "execution_count": 31,
   "metadata": {},
   "outputs": [
    {
     "data": {
      "text/plain": [
       "[1, 4, 0, 10, 0, 2, 3, 0]"
      ]
     },
     "execution_count": 31,
     "metadata": {},
     "output_type": "execute_result"
    },
    {
     "data": {
      "text/plain": [
       "[0, 0, -5, 0, -7, 0, 0, -1]"
      ]
     },
     "execution_count": 31,
     "metadata": {},
     "output_type": "execute_result"
    }
   ],
   "source": [
    "mylist = [1, 4, -5, 10, -7, 2, 3, -1]\n",
    "\n",
    "clip_neg = [n if n > 0 else 0 for n in mylist]\n",
    "clip_neg\n",
    "\n",
    "clip_pos = [n if n < 0 else 0 for n in mylist]\n",
    "clip_pos"
   ]
  },
  {
   "cell_type": "markdown",
   "metadata": {},
   "source": [
    "另外一个值得关注的过滤工具是 `itertools.compress()` 它以一个 iterable 对象和一个相对应的 Boolean 选择器序列作为输入参数。 然后输出 iterable 对象中对应选择器为 True 的元素."
   ]
  },
  {
   "cell_type": "code",
   "execution_count": 32,
   "metadata": {},
   "outputs": [
    {
     "data": {
      "text/plain": [
       "[False, False, True, False, False, True, True, False]"
      ]
     },
     "execution_count": 32,
     "metadata": {},
     "output_type": "execute_result"
    },
    {
     "data": {
      "text/plain": [
       "['5800 E 58TH', '1060 W ADDISON', '4801 N BROADWAY']"
      ]
     },
     "execution_count": 32,
     "metadata": {},
     "output_type": "execute_result"
    }
   ],
   "source": [
    "addresses = [\n",
    "    '5412 N CLARK',\n",
    "    '5148 N CLARK',\n",
    "    '5800 E 58TH',\n",
    "    '2122 N CLARK',\n",
    "    '5645 N RAVENSWOOD',\n",
    "    '1060 W ADDISON',\n",
    "    '4801 N BROADWAY',\n",
    "    '1039 W GRANVILLE',\n",
    "]\n",
    "\n",
    "counts = [ 0, 3, 10, 4, 1, 7, 6, 1]\n",
    "\n",
    "from itertools import compress\n",
    "more5 = [n > 5 for n in counts]\n",
    "more5\n",
    "\n",
    "list(compress(addresses, more5))"
   ]
  },
  {
   "cell_type": "markdown",
   "metadata": {},
   "source": [
    "## 从字典中提取子集\n",
    "\n",
    "根据一个字典构造新的字典\n",
    "\n",
    "最简单的方式是使用字典推导"
   ]
  },
  {
   "cell_type": "code",
   "execution_count": 33,
   "metadata": {},
   "outputs": [
    {
     "data": {
      "text/plain": [
       "{'AAPL': 612.78, 'IBM': 205.55}"
      ]
     },
     "execution_count": 33,
     "metadata": {},
     "output_type": "execute_result"
    }
   ],
   "source": [
    "p1 = {key: value for key, value in prices.items() if value > 200}\n",
    "\n",
    "p1"
   ]
  },
  {
   "cell_type": "markdown",
   "metadata": {},
   "source": [
    "大多数情况下字典推导能做到的，通过创建一个元组序列然后把它传给 `dict()` 函数也能实现。"
   ]
  },
  {
   "cell_type": "code",
   "execution_count": 34,
   "metadata": {},
   "outputs": [
    {
     "data": {
      "text/plain": [
       "{'AAPL': 612.78, 'IBM': 205.55}"
      ]
     },
     "execution_count": 34,
     "metadata": {},
     "output_type": "execute_result"
    }
   ],
   "source": [
    "p1 = dict((key, value) for key, value in prices.items() if value > 200)\n",
    "p1"
   ]
  },
  {
   "cell_type": "markdown",
   "metadata": {},
   "source": [
    "字典推导方式表意更清晰，并且实际上也会运行的更快些"
   ]
  },
  {
   "cell_type": "markdown",
   "metadata": {},
   "source": [
    "## 映射名称到序列元素\n",
    "\n",
    "有一段通过客户访问列表或者元组中元素的代码，但是这样有时候会使得你的代码难以阅读， 于是你想通过名称来访问元素\n",
    "\n",
    "命名元组：collections.namedtuple() 函数通过使用一个普通的元组对象来帮你解决这个问题。"
   ]
  },
  {
   "cell_type": "code",
   "execution_count": 35,
   "metadata": {},
   "outputs": [
    {
     "data": {
      "text/plain": [
       "Subscriber(addr='jonesy@example.com', joined='2012-10-19')"
      ]
     },
     "execution_count": 35,
     "metadata": {},
     "output_type": "execute_result"
    },
    {
     "data": {
      "text/plain": [
       "'jonesy@example.com'"
      ]
     },
     "execution_count": 35,
     "metadata": {},
     "output_type": "execute_result"
    },
    {
     "data": {
      "text/plain": [
       "'2012-10-19'"
      ]
     },
     "execution_count": 35,
     "metadata": {},
     "output_type": "execute_result"
    }
   ],
   "source": [
    "from collections import namedtuple\n",
    "Subscriber = namedtuple('Subscriber', ['addr', 'joined'])\n",
    "sub = Subscriber('jonesy@example.com', '2012-10-19')\n",
    "sub\n",
    "\n",
    "sub.addr\n",
    "\n",
    "sub.joined"
   ]
  },
  {
   "cell_type": "markdown",
   "metadata": {},
   "source": [
    "namedtuple 看起来像一个普通的**类实例**，但是它跟元组类型是可交换的，**支持所有的普通元组操作**，比如索引和解压。\n",
    "\n",
    "\n",
    "命名元组的一个优点就是作为字典的替代，因为字典存储需要更多的内存空间。 如果你需要构建一个非常大的包含字典的数据结构，那么使用命名元组会更加高效。\n",
    "\n",
    " 但是，不像字典那样，**命名元组是不可更改的**\n",
    "\n",
    "如果你真的需要改变属性的值，那么**可以使用命名元组实例的 _replace() 方法**， 它会**创建一个全新的命名元组**并将对应的字段用新的值取代"
   ]
  },
  {
   "cell_type": "code",
   "execution_count": 36,
   "metadata": {},
   "outputs": [
    {
     "name": "stdout",
     "output_type": "stream",
     "text": [
      "can't set attribute\n"
     ]
    },
    {
     "data": {
      "text/plain": [
       "Stock(name='ACME', shares=75, price=123.45)"
      ]
     },
     "execution_count": 36,
     "metadata": {},
     "output_type": "execute_result"
    }
   ],
   "source": [
    "Stock = namedtuple('Stock', ['name', 'shares', 'price'])\n",
    "s = Stock('ACME', 100, 123.45)\n",
    "\n",
    "try:\n",
    "    s.shares=75\n",
    "except Exception as e:\n",
    "    print(e)\n",
    "\n",
    "s = s._replace(shares=75)\n",
    "s"
   ]
  },
  {
   "cell_type": "markdown",
   "metadata": {},
   "source": [
    "`_replace()` 方法还有一个很有用的特性就是当你的命名元组拥有可选或者缺失字段时候， 它是一个非常方便的填充数据的方法。 你可以先创建一个包含缺省值的原型元组，然后使用 `_replace()` 方法创建新的值被更新过的实例"
   ]
  },
  {
   "cell_type": "code",
   "execution_count": 37,
   "metadata": {},
   "outputs": [
    {
     "data": {
      "text/plain": [
       "Stock(name='ACME', shares=100, price=123.45, date=None, time=None)"
      ]
     },
     "execution_count": 37,
     "metadata": {},
     "output_type": "execute_result"
    },
    {
     "data": {
      "text/plain": [
       "Stock(name='ACME', shares=100, price=123.45, date='12/17/2012', time=None)"
      ]
     },
     "execution_count": 37,
     "metadata": {},
     "output_type": "execute_result"
    }
   ],
   "source": [
    "from collections import namedtuple\n",
    "\n",
    "Stock = namedtuple('Stock', ['name', 'shares', 'price', 'date', 'time'])\n",
    "\n",
    "stock_prototype = Stock('', 0, 0.0, None, None)\n",
    "\n",
    "def dict_to_stock(s):\n",
    "    return stock_prototype._replace(**s)\n",
    "\n",
    "a = {'name': 'ACME', 'shares': 100, 'price': 123.45}\n",
    "dict_to_stock(a)\n",
    "\n",
    "b = {'name': 'ACME', 'shares': 100, 'price': 123.45, 'date': '12/17/2012'}\n",
    "dict_to_stock(b)"
   ]
  },
  {
   "cell_type": "markdown",
   "metadata": {},
   "source": [
    "**如果要定义一个需要更新很多实例属性的高效数据结构，那么命名元组并不是你的最佳选择。这时候你应该考虑定义一个包含 __slots__ 方法的类**"
   ]
  },
  {
   "cell_type": "markdown",
   "metadata": {},
   "source": [
    "## 转换并同时计算数据\n",
    "\n",
    "需要在数据序列上执行聚集函数(比如 sum() , min() , max() )， 但是需要首先转换或过滤数据\n",
    "\n",
    "一个非常优雅的方式去结合数据计算与转换就是使用一个生成器表达式参数。"
   ]
  },
  {
   "cell_type": "code",
   "execution_count": 38,
   "metadata": {},
   "outputs": [
    {
     "data": {
      "text/plain": [
       "55"
      ]
     },
     "execution_count": 38,
     "metadata": {},
     "output_type": "execute_result"
    }
   ],
   "source": [
    "nums = [1, 2, 3, 4, 5]\n",
    "s = sum(x * x for x in nums)\n",
    "s"
   ]
  },
  {
   "cell_type": "markdown",
   "metadata": {},
   "source": [
    "语法：\n",
    "\n",
    "当生成器表达式作为一个单独参数传递给函数时候的巧妙语法(你并不需要多加一个括号)"
   ]
  },
  {
   "cell_type": "code",
   "execution_count": 39,
   "metadata": {},
   "outputs": [],
   "source": [
    "s = sum((x * x for x in nums)) # 显式的传递一个生成器表达式对象\n",
    "\n",
    "s = sum(x * x for x in nums) # 更加优雅的实现方式，省略了括号"
   ]
  },
  {
   "cell_type": "markdown",
   "metadata": {},
   "source": [
    "使用一个生成器表达式作为参数会比先创建一个临时列表更加高效和优雅"
   ]
  },
  {
   "cell_type": "markdown",
   "metadata": {},
   "source": [
    "## 合并多个字典或映射\n",
    "\n",
    "合并多个字典或映射，之后还要对其进行操作\n",
    "\n",
    "collections 模块中的 ChainMap"
   ]
  },
  {
   "cell_type": "code",
   "execution_count": 40,
   "metadata": {},
   "outputs": [
    {
     "name": "stdout",
     "output_type": "stream",
     "text": [
      "1\n",
      "2\n",
      "3\n"
     ]
    }
   ],
   "source": [
    "from collections import ChainMap\n",
    "\n",
    "a = {'x': 1, 'z': 3 }\n",
    "b = {'y': 2, 'z': 4 }\n",
    "\n",
    "c = ChainMap(a,b)\n",
    "\n",
    "print(c['x'])\n",
    "print(c['y'])\n",
    "print(c['z'])"
   ]
  },
  {
   "cell_type": "markdown",
   "metadata": {},
   "source": [
    "ChainMap 接受多个字典并将它们在逻辑上变为一个字典。 然后，这些字典并不是真的合并在一起了， ChainMap 类只是在内部创建了一个容纳这些字典的列表 并重新定义了一些常见的字典操作来遍历这个列表。大部分字典操作都是可以正常使用的。\n",
    "\n",
    "**如果出现重复键，那么第一次出现的映射值会被返回，对于字典的更新或删除操作总是影响的是列表中第一个字典**\n",
    "\n",
    "`new_child()` `parents()` 以及 `update()` 方法\n",
    "\n",
    "ChainMap 对于编程语言中的作用范围变量(比如 globals , locals 等)是非常有用的"
   ]
  },
  {
   "cell_type": "code",
   "execution_count": 41,
   "metadata": {},
   "outputs": [
    {
     "data": {
      "text/plain": [
       "ChainMap({'x': 1})"
      ]
     },
     "execution_count": 41,
     "metadata": {},
     "output_type": "execute_result"
    }
   ],
   "source": [
    "values = ChainMap()\n",
    "values['x'] = 1\n",
    "values"
   ]
  },
  {
   "cell_type": "code",
   "execution_count": 42,
   "metadata": {},
   "outputs": [
    {
     "data": {
      "text/plain": [
       "ChainMap({'x': 2}, {'x': 1})"
      ]
     },
     "execution_count": 42,
     "metadata": {},
     "output_type": "execute_result"
    }
   ],
   "source": [
    "# Add a new mapping\n",
    "values = values.new_child()\n",
    "values['x'] = 2\n",
    "values"
   ]
  },
  {
   "cell_type": "code",
   "execution_count": 43,
   "metadata": {},
   "outputs": [
    {
     "data": {
      "text/plain": [
       "ChainMap({'x': 3}, {'x': 2}, {'x': 1})"
      ]
     },
     "execution_count": 43,
     "metadata": {},
     "output_type": "execute_result"
    }
   ],
   "source": [
    "# Add a new mapping\n",
    "values = values.new_child()\n",
    "values['x'] = 3\n",
    "values"
   ]
  },
  {
   "cell_type": "code",
   "execution_count": 44,
   "metadata": {},
   "outputs": [
    {
     "data": {
      "text/plain": [
       "3"
      ]
     },
     "execution_count": 44,
     "metadata": {},
     "output_type": "execute_result"
    }
   ],
   "source": [
    "values['x']"
   ]
  },
  {
   "cell_type": "code",
   "execution_count": 45,
   "metadata": {},
   "outputs": [
    {
     "data": {
      "text/plain": [
       "2"
      ]
     },
     "execution_count": 45,
     "metadata": {},
     "output_type": "execute_result"
    }
   ],
   "source": [
    "# Discard last mapping\n",
    "values = values.parents\n",
    "values['x']"
   ]
  },
  {
   "cell_type": "code",
   "execution_count": 46,
   "metadata": {},
   "outputs": [
    {
     "data": {
      "text/plain": [
       "1"
      ]
     },
     "execution_count": 46,
     "metadata": {},
     "output_type": "execute_result"
    },
    {
     "data": {
      "text/plain": [
       "ChainMap({'x': 1})"
      ]
     },
     "execution_count": 46,
     "metadata": {},
     "output_type": "execute_result"
    }
   ],
   "source": [
    "# Discard last mapping\n",
    "values = values.parents\n",
    "values['x']\n",
    "\n",
    "values"
   ]
  },
  {
   "cell_type": "markdown",
   "metadata": {},
   "source": [
    "也可以使用 update() 方法合并两个字典，这会创建一个完全不同的字典对象(或者是破坏现有字典结构), ChainMap 执行 inplace 操作"
   ]
  }
 ],
 "metadata": {
  "kernelspec": {
   "display_name": "Python 3",
   "language": "python",
   "name": "python3"
  },
  "language_info": {
   "codemirror_mode": {
    "name": "ipython",
    "version": 3
   },
   "file_extension": ".py",
   "mimetype": "text/x-python",
   "name": "python",
   "nbconvert_exporter": "python",
   "pygments_lexer": "ipython3",
   "version": "3.6.6"
  },
  "toc": {
   "base_numbering": 1,
   "nav_menu": {},
   "number_sections": true,
   "sideBar": true,
   "skip_h1_title": false,
   "title_cell": "Table of Contents",
   "title_sidebar": "Contents",
   "toc_cell": true,
   "toc_position": {
    "height": "calc(100% - 180px)",
    "left": "10px",
    "top": "150px",
    "width": "249.631px"
   },
   "toc_section_display": true,
   "toc_window_display": true
  }
 },
 "nbformat": 4,
 "nbformat_minor": 2
}
