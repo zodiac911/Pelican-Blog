{
 "cells": [
  {
   "cell_type": "markdown",
   "metadata": {
    "slideshow": {
     "slide_type": "fragment"
    }
   },
   "source": [
    "<div align=\"center\">  <img src=\"http://image-bed-zodiac.oss-cn-qingdao.aliyuncs.com/2018101205.png\" width=\"1024\"/> </div><br>"
   ]
  },
  {
   "cell_type": "markdown",
   "metadata": {},
   "source": [
    "本文主要介绍如何使用VPS搭建ShadowSocks服务并安装网络加速算法。\n",
    "\n",
    "科学上网对我来说是刚需，也尝试过很多梯子。免费的服务，从改DNS、改hosts、GoAgent到XX-Net都折腾过；收费的服务也买过一些，比如某灯、某绿。无论免费还是收费，最大的缺点都是不够稳定，每年开会的时候总会网络波动。由于是灰色产业，出现问题的时候，你甚至没有任何沟通渠道，情况很被动。\n",
    "\n",
    "偶然接触到ShadowSocks，作为一种网络服务协议，其私密性和抗封锁性都很好。得益于VPS的大带宽，可以将自己的服务分享出去，几个人共同使用也不会卡。迅雷之类的软件也可以挂代理下载，速度很快。并且VPS提供ipv6入口，教育网用户可以通过ipv6连接，有很多学校校园网ipv6通道是不计费的，那么就可以实现不交网费免费上网。另外，`$5`每月的费用真的还算便宜，有人分摊就更便宜。\n",
    "\n",
    "最开始也只是客户端使用别人的服务，后来发现可以自己租VPS搭ShadowSocks服务端，整个流程变得可控。于是花半天时间，从注册帐号开始，搭了一个ShadowSocks服务。\n",
    "\n",
    "爬上梯子，享受自由的呼吸。\n",
    "\n",
    "将过程记录下来一是给需要的人一些参考，其次再搭建类似的服务时可以少踩坑。"
   ]
  },
  {
   "cell_type": "markdown",
   "metadata": {
    "toc": true
   },
   "source": [
    "<h1>Table of Contents<span class=\"tocSkip\"></span></h1>\n",
    "<div class=\"toc\"><ul class=\"toc-item\"><li><span><a href=\"#准备工作\" data-toc-modified-id=\"准备工作-1\"><span class=\"toc-item-num\">1&nbsp;&nbsp;</span>准备工作</a></span><ul class=\"toc-item\"><li><span><a href=\"#GitHub-Education-项目\" data-toc-modified-id=\"GitHub-Education-项目-1.1\"><span class=\"toc-item-num\">1.1&nbsp;&nbsp;</span>GitHub Education 项目</a></span></li><li><span><a href=\"#注册Digital-Ocean-帐号\" data-toc-modified-id=\"注册Digital-Ocean-帐号-1.2\"><span class=\"toc-item-num\">1.2&nbsp;&nbsp;</span>注册Digital Ocean 帐号</a></span></li></ul></li><li><span><a href=\"#新建项目和Droplet\" data-toc-modified-id=\"新建项目和Droplet-2\"><span class=\"toc-item-num\">2&nbsp;&nbsp;</span>新建项目和Droplet</a></span><ul class=\"toc-item\"><li><span><a href=\"#选择虚拟机的系统\" data-toc-modified-id=\"选择虚拟机的系统-2.1\"><span class=\"toc-item-num\">2.1&nbsp;&nbsp;</span>选择虚拟机的系统</a></span></li><li><span><a href=\"#选择配置\" data-toc-modified-id=\"选择配置-2.2\"><span class=\"toc-item-num\">2.2&nbsp;&nbsp;</span>选择配置</a></span></li><li><span><a href=\"#选择服务器位置\" data-toc-modified-id=\"选择服务器位置-2.3\"><span class=\"toc-item-num\">2.3&nbsp;&nbsp;</span>选择服务器位置</a></span></li><li><span><a href=\"#额外设置\" data-toc-modified-id=\"额外设置-2.4\"><span class=\"toc-item-num\">2.4&nbsp;&nbsp;</span>额外设置</a></span></li><li><span><a href=\"#添加-SSH\" data-toc-modified-id=\"添加-SSH-2.5\"><span class=\"toc-item-num\">2.5&nbsp;&nbsp;</span>添加 SSH</a></span></li><li><span><a href=\"#SSH-Key生成方法\" data-toc-modified-id=\"SSH-Key生成方法-2.6\"><span class=\"toc-item-num\">2.6&nbsp;&nbsp;</span>SSH Key生成方法</a></span></li></ul></li><li><span><a href=\"#安装Shadowsocks\" data-toc-modified-id=\"安装Shadowsocks-3\"><span class=\"toc-item-num\">3&nbsp;&nbsp;</span>安装Shadowsocks</a></span><ul class=\"toc-item\"><li><span><a href=\"#使用方法\" data-toc-modified-id=\"使用方法-3.1\"><span class=\"toc-item-num\">3.1&nbsp;&nbsp;</span>使用方法</a></span></li></ul></li><li><span><a href=\"#安装BBR\" data-toc-modified-id=\"安装BBR-4\"><span class=\"toc-item-num\">4&nbsp;&nbsp;</span>安装BBR</a></span></li><li><span><a href=\"#本地使用\" data-toc-modified-id=\"本地使用-5\"><span class=\"toc-item-num\">5&nbsp;&nbsp;</span>本地使用</a></span></li><li><span><a href=\"#简单命令\" data-toc-modified-id=\"简单命令-6\"><span class=\"toc-item-num\">6&nbsp;&nbsp;</span>简单命令</a></span></li></ul></div>"
   ]
  },
  {
   "cell_type": "markdown",
   "metadata": {},
   "source": [
    "## 准备工作"
   ]
  },
  {
   "cell_type": "markdown",
   "metadata": {},
   "source": [
    "具体来说，VPS是指Virtual Private Server 虚拟专用服务器，也就是服务器供应商在其服务器上划分给你的虚拟主机，其具有一定的CPU计算能力，一定的内存和磁盘容量，一定的网络带宽。对于用户而言，就是一个远程Linux主机(一般而言是Linux系统，当然也有采用Windows Server系统的VPS配置类型)\n",
    "\n",
    "Shadowsocks是指：一种基于Socks5代理方式的加密传输协议，也可以指实现这个协议的各种传输包。ShadowSocks分为服务器端和客户端，在使用之前，需要先将服务器端部署到服务器上面，然后通过客户端连接并创建本地代理。本工具也被广泛用于突破GFW，以浏览被封锁、遮蔽或干扰的内容。"
   ]
  },
  {
   "cell_type": "markdown",
   "metadata": {},
   "source": [
    "### GitHub Education 项目\n",
    "\n",
    "国外很多科技公司和互联网公司都有教育优惠项目，但大多局限于自家的产品。GitHub这个全球最大的开源软件平台，全世界最著名的开源思想拥抱者与支持者，由于自身服务项目不多，所以其教育优惠里面包含一些其他科技公司的优惠券。其中包括著名的VPS平台[Digital Ocean](https://www.digitalocean.com/)\n",
    "\n",
    "首先申请 [GitHub Education](https://education.github.com/)项目，里面的Student Pack有许多服务的优惠券，包括Digital Ocean的 `$50` 优惠券(如果选择最低的每月`$5`套餐相当于免费用10个月)\n",
    "\n",
    "<div align=\"center\">  <img src=\"https://image-bed-zodiac.oss-cn-qingdao.aliyuncs.com/2018-10-11-1.png\" width=\"800\"/> </div><br>\n",
    "\n",
    "申请完成后在[Student Pack Offers](https://education.github.com/pack/offers)页面索取Digital Ocean优惠码[只能新用户使用]，稍后在Digital Ocaean 帐号中填写"
   ]
  },
  {
   "cell_type": "markdown",
   "metadata": {},
   "source": [
    "### 注册Digital Ocean 帐号\n",
    "\n",
    "在Digital Ocean[注册](https://cloud.digitalocean.com/registrations/new), 注册完成后必须绑定一张信用卡或PayPal帐号。\n",
    "\n",
    "填写从GitHub获得的优惠码，发现账户中多了$50的credit."
   ]
  },
  {
   "cell_type": "markdown",
   "metadata": {},
   "source": [
    "## 新建项目和Droplet\n",
    "\n",
    "Digital Ocean会提醒你新建项目，名字随便选。新建项目之后在项目里可以新建Droplet，这里的Droplet就相当于是远程的Linux虚拟机。\n",
    "\n",
    "### 选择虚拟机的系统\n",
    "\n",
    "<div align=\"center\">  <img src=\"https://image-bed-zodiac.oss-cn-qingdao.aliyuncs.com/201810112.png\" width=\"800\"/> </div><br>\n",
    "\n",
    "我选择的是 Ubuntu 18.04 x64\n",
    "\n",
    "### 选择配置\n",
    "\n",
    "<div align=\"center\">  <img src=\"http://image-bed-zodiac.oss-cn-qingdao.aliyuncs.com/18-10-11/87382543.jpg\" width=\"500\"/> </div><br>\n",
    "\n",
    "选择最低配置$5每月的即可"
   ]
  },
  {
   "cell_type": "markdown",
   "metadata": {},
   "source": [
    "**Add backups 和 Add block storage 都需要额外付费,不要选**\n",
    "\n",
    "### 选择服务器位置\n",
    "\n",
    "<div align=\"center\">  <img src=\"http://image-bed-zodiac.oss-cn-qingdao.aliyuncs.com/18-10-11/45058188.jpg\" width=\"800\"/> </div><br>\n",
    "\n",
    "我选择的是San Francisco\n",
    "\n",
    "### 额外设置\n",
    "\n",
    "<div align=\"center\">  <img src=\"http://image-bed-zodiac.oss-cn-qingdao.aliyuncs.com/18-10-11/95337544.jpg\" width=\"800\"/> </div><br>\n",
    "\n",
    "**这里记得勾选 ipv6 和 user data**\n",
    "\n",
    "ipv6 在教育网内使用非常方便，搭建Blog（wordpress）等站点需要用到user data，填写方式参考[这里](https://github.com/digitalocean/do_user_scripts/blob/master/CentOS-7/web-servers/lamp.yml)\n",
    "\n",
    "```\n",
    "#cloud-config\n",
    "packages:\n",
    "  - httpd\n",
    "  - mariadb-server\n",
    "  - mariadb\n",
    "  - php\n",
    "  - php-mysql\n",
    "write_files:\n",
    "  - path: /var/www/html/info.php\n",
    "    content: |\n",
    "      <?php\n",
    "      phpinfo();\n",
    "      ?>\n",
    "runcmd:\n",
    "  - systemctl start httpd.service\n",
    "  - systemctl enable httpd.service\n",
    "  - systemctl start mariadb\n",
    "  - systemctl enable mariadb.service\n",
    "```\n",
    "\n",
    "### 添加 SSH\n",
    "\n",
    "添加 SSH key 之后可以很方便的使用SSH登录远程服务器，也可以使用 Putty 登录，使用方法应该大同小异"
   ]
  },
  {
   "cell_type": "markdown",
   "metadata": {},
   "source": [
    "### SSH Key生成方法\n",
    "\n",
    "如果使用的是Linux系统\n",
    "\n",
    "首先检查是否存在密钥\n",
    "\n",
    "```shell\n",
    "cd ~/.ssh\n",
    "ls *.pub\n",
    "```\n",
    "\n",
    "生成新的密钥\n",
    "\n",
    "```shell\n",
    "ssh-keygen -t rsa -C \"wangtaode090107@hotmail.com\"\n",
    "```\n",
    "\n",
    "提示输入密钥保存地址，之后会提示设置短语，这个可以不设置\n",
    "\n",
    "生成之后会得到类似下面的提示\n",
    "\n",
    "```\n",
    "Your identification has been saved in /Users/your_username/.ssh/id_rsa.\n",
    "Your public key has been saved in /Users/your_username/.ssh/id_rsa.pub.\n",
    "The key fingerprint is:\n",
    "01:0f:f4:3b:ca:85:d6:17:a1:7d:f0:68:9d:f0:a2:db email@example.com\n",
    "```\n",
    "\n",
    "之后打开 `~/.ssh/id_rsa.pub`复制里面的内容添加进Digital Ocean的设置页面，这样它会自动添加在该Droplet的root用户中，你就可以直接SSH进入服务器了！\n",
    "\n",
    "```\n",
    "ssh root@[IP]\n",
    "```\n",
    "\n",
    "IP为VPS地址"
   ]
  },
  {
   "cell_type": "markdown",
   "metadata": {},
   "source": [
    "## 安装Shadowsocks\n",
    "\n",
    "我使用的是秋水逸冰大神的[一键安装脚本](https://github.com/teddysun/shadowsocks_install)，脚本会将shadowsock设置为开机自启动，很方便\n",
    "\n",
    "```shell\n",
    "wget –no-check-certificate https://raw.githubusercontent.com/teddysun/shadowsocks_install/master/shadowsocks.sh\n",
    "chmod +x shadowsocks.sh\n",
    "./shadowsocks.sh 2>&1 | tee shadowsocks.log\n",
    "```\n",
    "\n",
    "期间会询问密码，加密方式，端口等，等待安装完毕，最终得到类似下面这样的提示\n",
    "\n",
    "```shell\n",
    "ongratulations, shadowsocks install completed!\n",
    "Your Server IP:your_server_ip\n",
    "Your Server Port:4396\n",
    "Your Password:your_password\n",
    "Your Local IP:127.0.0.1\n",
    "Your Local Port:1080\n",
    "Your Encryption Method:aes-256-cfb\n",
    "\n",
    "Welcome to visit:http://teddysun.com/342.html\n",
    "Enjoy it!\n",
    "```\n",
    "\n",
    "因为我们需要使用ipv6所以需要对shadowsocks的配置作一点简单的修改\n",
    "\n",
    "vim 打开配置文件\n",
    "```\n",
    "vi /etc/shadowsocks.json\n",
    "```\n",
    "\n",
    "按i进入编辑模式修改为如下\n",
    "\n",
    "```shell\n",
    "{\n",
    "  \"server\":\"::\",\n",
    "  \"server_port\":4396,\n",
    "  \"local_address\":\"127.0.0.1\",\n",
    "  \"local_port\":1080,\n",
    "  \"password\":\"yourpassword\",\n",
    "  \"timeout\":300,\n",
    "  \"method\":\"aes-256-cfb\",\n",
    "  \"fast_open\": false\n",
    "}\n",
    "```\n",
    "\n",
    "**重点是server那里的 `::`这样可以同时监听ipv4和ipv6**\n",
    "\n",
    "ctrl+c退出编辑模式\n",
    "输入 “:x” （英文冒号+x）保存并退出\n",
    "\n",
    "重启 shadowsocks\n",
    "```shell\n",
    "/etc/init.d/shadowsocks restart\n",
    "```\n",
    "\n",
    "### 使用方法\n",
    "\n",
    "```shell\n",
    "/etc/init.d/shadowsocks start # 开启\n",
    "/etc/init.d/shadowsocks stop # 关闭\n",
    "/etc/init.d/shadowsocks restart # 重启\n",
    "/etc/init.d/shadowsocks status # 状态\n",
    "```\n",
    "\n",
    "至此，服务端的shadowsocks就搭建好了，赶紧下载[客户端](https://cloud.cokebar.info/index.php/s/rKTIRmkNXn1VUZ4/download?path=%2F&files=Shadowsocks-win-2.5.6.zip)登录，畅享自由网络\n",
    "\n",
    "**注意 IPv6地址需要加`[]`如[2604:a880:12:200::13e:8000]\n",
    "\n",
    "常见问题及解决方法见：https://teddysun.com/342.html"
   ]
  },
  {
   "cell_type": "markdown",
   "metadata": {},
   "source": [
    "## 安装BBR\n",
    "\n",
    "实际上带宽还有一定的提升空间\n",
    "\n",
    "BBR是谷歌开源的一款网络防阻塞算法，目的是更好的利用网络资源，**实测带宽提升效果非常显著，从2000kbps提升到20000kbps**\n",
    "\n",
    "仍然使用秋水逸冰大神的[一键安装脚本](https://github.com/teddysun/across)\n",
    "\n",
    "```shell\n",
    "wget –no-check-certificate https://raw.githubusercontent.com/teddysun/across/master/bbr.sh\n",
    "chmod +x bbr.sh\n",
    "./bbr.sh\n",
    "```\n",
    "\n",
    "安装完成后可能会提示重启(如果安装了最新内核),重启后输入一些命令检查是否安装成功\n",
    "\n",
    "查看内核版本，如果返回内核版本则安装成功\n",
    "\n",
    "```shell\n",
    "uname -r \n",
    "```\n",
    "```\n",
    "4.15.0-36-generic\n",
    "```\n",
    "\n",
    "查看网络控制算法\n",
    "\n",
    "```shell\n",
    "sysctl net.ipv4.tcp_available_congestion_control\n",
    "```\n",
    "我的返回值\n",
    "```\n",
    "net.ipv4.tcp_available_congestion_control = reno cubic bbr\n",
    "```\n",
    "\n",
    "其他验证方法及常见问题：https://teddysun.com/489.html"
   ]
  },
  {
   "cell_type": "markdown",
   "metadata": {},
   "source": [
    "## 本地使用\n",
    "\n",
    "至此，服务端的安装就基本完成了，在本地机器上下载安装 ShadowSocks 客户端填写必要的信息就可以使用了。\n",
    "\n",
    "如果身处 ipv6 网络环境下，在客户端内填写 ipv6 地址进行连接，基本就可以不用付网费了[大部分学校应该是不计 ipv6 流量的吧]\n",
    "\n",
    "[Shadowsocks for Windows 客户端](https://github.com/shadowsocks/shadowsocks-windows/releases)\n",
    "\n",
    "**推荐配合 Chrome 浏览器和 SwitchyOmega 插件一起食用，味道会更加香甜**"
   ]
  },
  {
   "cell_type": "markdown",
   "metadata": {},
   "source": [
    "## 简单命令\n",
    "\n",
    "```shell\n",
    "df -hl #查看磁盘使用量\n",
    "move [source_filename] [destination_filename # 移动文件/也可用于重命名\n",
    "```"
   ]
  },
  {
   "cell_type": "markdown",
   "metadata": {},
   "source": [
    "References:\n",
    "\n",
    "> - [教育网利用DigitalOcean搭建IPv6—Shadowscoks实现免流量&科学上网](http://bjtu.azurewebsites.net/2015/09/17/digitalocean/)\n",
    "- [秋水逸冰安装shadowsocks](https://teddysun.com/342.html)\n",
    "- [秋水逸冰安装bbr](https://teddysun.com/489.html)"
   ]
  }
 ],
 "metadata": {
  "kernelspec": {
   "display_name": "Python 3",
   "language": "python",
   "name": "python3"
  },
  "language_info": {
   "codemirror_mode": {
    "name": "ipython",
    "version": 3
   },
   "file_extension": ".py",
   "mimetype": "text/x-python",
   "name": "python",
   "nbconvert_exporter": "python",
   "pygments_lexer": "ipython3",
   "version": "3.5.5"
  },
  "toc": {
   "base_numbering": 1,
   "nav_menu": {},
   "number_sections": true,
   "sideBar": true,
   "skip_h1_title": false,
   "title_cell": "Table of Contents",
   "title_sidebar": "Contents",
   "toc_cell": true,
   "toc_position": {},
   "toc_section_display": true,
   "toc_window_display": false
  },
  "widgets": {
   "state": {},
   "version": "1.1.2"
  }
 },
 "nbformat": 4,
 "nbformat_minor": 2
}
