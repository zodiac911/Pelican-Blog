{
 "cells": [
  {
   "cell_type": "markdown",
   "metadata": {},
   "source": [
    "每次玩魔方都是三分钟热度，过一段时间再想玩又忘了公式，还需要去网上寻寻觅觅，简单记录一下。"
   ]
  },
  {
   "cell_type": "markdown",
   "metadata": {
    "toc": true
   },
   "source": [
    "<h1>Table of Contents<span class=\"tocSkip\"></span></h1>\n",
    "<div class=\"toc\"><ul class=\"toc-item\"><li><span><a href=\"#完成侧面中间层\" data-toc-modified-id=\"完成侧面中间层-1\"><span class=\"toc-item-num\">1&nbsp;&nbsp;</span>完成侧面中间层</a></span></li><li><span><a href=\"#完成顶面黄色十字\" data-toc-modified-id=\"完成顶面黄色十字-2\"><span class=\"toc-item-num\">2&nbsp;&nbsp;</span>完成顶面黄色十字</a></span></li><li><span><a href=\"#完成顶层黄色小鱼\" data-toc-modified-id=\"完成顶层黄色小鱼-3\"><span class=\"toc-item-num\">3&nbsp;&nbsp;</span>完成顶层黄色小鱼</a></span></li><li><span><a href=\"#完成顶面\" data-toc-modified-id=\"完成顶面-4\"><span class=\"toc-item-num\">4&nbsp;&nbsp;</span>完成顶面</a></span></li><li><span><a href=\"#侧面第三层出现一面三块同色，其余三面都为“眼”\" data-toc-modified-id=\"侧面第三层出现一面三块同色，其余三面都为“眼”-5\"><span class=\"toc-item-num\">5&nbsp;&nbsp;</span>侧面第三层出现一面三块同色，其余三面都为“眼”</a></span></li><li><span><a href=\"#完成魔方\" data-toc-modified-id=\"完成魔方-6\"><span class=\"toc-item-num\">6&nbsp;&nbsp;</span>完成魔方</a></span></li></ul></div>"
   ]
  },
  {
   "cell_type": "markdown",
   "metadata": {},
   "source": [
    "假设已经完成底面和侧面山字\n",
    "\n",
    "\n",
    "## 完成侧面中间层\n",
    "\n",
    "每次必然是从侧面最上层的中间块移动到侧面中间层的角上，初始有两种情况\n",
    "\n",
    "<div align=\"center\">  <img src=\"http://image-bed-zodiac.oss-cn-qingdao.aliyuncs.com/18-10-6/95672684.jpg\" width=\"250\"/> </div><br>\n",
    "<div align=\"center\">情形一</div><br>\n",
    "\n",
    "\n",
    "\n",
    "<div align=\"center\">  <img src=\"http://image-bed-zodiac.oss-cn-qingdao.aliyuncs.com/18-10-6/85464663.jpg\" width=\"250\"/> </div><br>\n",
    "<div align=\"center\">情形二</div><br>\n",
    "\n",
    "情形一使用公式 U R U' R' U' F' U F\n",
    "\n",
    "情形二使用公式 U' F' U F U R U' R'"
   ]
  },
  {
   "cell_type": "markdown",
   "metadata": {},
   "source": [
    "## 完成顶面黄色十字\n",
    "\n",
    "顶面可能有三种情况，对应初始摆放位置\n",
    "\n",
    "<div align=\"center\">  <img src=\"http://image-bed-zodiac.oss-cn-qingdao.aliyuncs.com/18-10-6/64836938.jpg\" width=\"150\"/> </div><br>\n",
    "<div align=\"center\">形状 1 中心黄色块</div><br>\n",
    "\n",
    "<div align=\"center\">  <img src=\"http://image-bed-zodiac.oss-cn-qingdao.aliyuncs.com/18-10-6/46763251.jpg\" width=\"150\"/> </div><br>\n",
    "<div align=\"center\">形状 2 小拐弯  小拐放在左上角(从顶向下看)</div><br>\n",
    "\n",
    "<div align=\"center\">  <img src=\"http://image-bed-zodiac.oss-cn-qingdao.aliyuncs.com/18-10-6/67950263.jpg\" width=\"150\"/> </div><br>\n",
    "<div align=\"center\">形状 3 一字  一字横放</div><br>\n",
    "\n",
    "三种情况共用一个公式，上述形状不严格定义（可以存在其他黄色块）\n",
    "\n",
    "顶层形状可能在上述形状之间变换，重复公式 1 即可\n",
    "\n",
    "公式 1：F R U R' U' F'"
   ]
  },
  {
   "cell_type": "markdown",
   "metadata": {},
   "source": [
    "## 完成顶层黄色小鱼\n",
    "\n",
    "小鱼是指 顶层出现此种图案\n",
    "\n",
    "<div align=\"center\">  <img src=\"http://image-bed-zodiac.oss-cn-qingdao.aliyuncs.com/18-10-6/68437408.jpg\" width=\"150\"/> </div><br>\n",
    "\n",
    "定义严格，顶面其他色块不能为黄色\n",
    "\n",
    "在顶层十字基础上，重复公式 2,直到出现小鱼\n",
    "\n",
    "公式 2：R' U' R U' R' U'2 R"
   ]
  },
  {
   "cell_type": "markdown",
   "metadata": {},
   "source": [
    "## 完成顶面\n",
    "\n",
    "小鱼分为两种，分别使用两个不同的公式可以一步到达顶面完整状态\n",
    "\n",
    "<div align=\"center\">  <img src=\"http://image-bed-zodiac.oss-cn-qingdao.aliyuncs.com/18-10-6/68437408.jpg\" width=\"150\"/> </div><br>\n",
    "<div align=\"center\">小鱼 1 使用公式 2</div><br>\n",
    "\n",
    "<div align=\"center\">  <img src=\"http://image-bed-zodiac.oss-cn-qingdao.aliyuncs.com/18-10-6/68803704.jpg\" width=\"150\"/> </div><br>\n",
    "<div align=\"center\">小鱼 2 使用公式 3</div><br>\n",
    "\n",
    "公式 3：F U F' U F U2 F'"
   ]
  },
  {
   "cell_type": "markdown",
   "metadata": {},
   "source": [
    "## 侧面第三层出现一面三块同色，其余三面都为“眼”\n",
    "\n",
    "（重复）公式 4\n",
    "\n",
    "魔方摆放：顶层黄色面正对自己，将侧面第三层的眼放在右手面（如果存在的话，若不存在则在使用一次公式 4 后出现）\n",
    "\n",
    "<div align=\"center\">  <img src=\"http://image-bed-zodiac.oss-cn-qingdao.aliyuncs.com/18-10-6/37422174.jpg\" width=\"150\"/> </div><br>\n",
    "\n",
    "公式 4：R2 D2 R' U' R D2 R' U R'"
   ]
  },
  {
   "cell_type": "markdown",
   "metadata": {},
   "source": [
    "## 完成魔方\n",
    "\n",
    "这一步需要判断三个棱的交换顺序，顺时针还是逆时针\n",
    "\n",
    "<div align=\"center\">  <img src=\"http://image-bed-zodiac.oss-cn-qingdao.aliyuncs.com/18-10-6/48008345.jpg\" width=\"150\"/> </div><br>\n",
    "<div align=\"center\">顺时针</div><br>\n",
    "\n",
    "<div align=\"center\">  <img src=\"http://image-bed-zodiac.oss-cn-qingdao.aliyuncs.com/18-10-6/80474685.jpg\" width=\"150\"/> </div><br>\n",
    "<div align=\"center\">逆时针</div><br>\n",
    "\n",
    "\n",
    "- 顺时针：公式 3 -> 魔方整体 U2 -> 小鱼 1  -> 公式 2\n",
    "- 逆时针：公式 2 -> 魔方整体 U2 -> 小鱼 2  -> 公式 3\n",
    "\n",
    "注意这两种情况下，同色棱一个在前一个在右"
   ]
  }
 ],
 "metadata": {
  "kernelspec": {
   "display_name": "Python 3",
   "language": "python",
   "name": "python3"
  },
  "language_info": {
   "codemirror_mode": {
    "name": "ipython",
    "version": 3
   },
   "file_extension": ".py",
   "mimetype": "text/x-python",
   "name": "python",
   "nbconvert_exporter": "python",
   "pygments_lexer": "ipython3",
   "version": "3.7.0"
  },
  "toc": {
   "base_numbering": 1,
   "nav_menu": {},
   "number_sections": true,
   "sideBar": true,
   "skip_h1_title": false,
   "title_cell": "Table of Contents",
   "title_sidebar": "Contents",
   "toc_cell": true,
   "toc_position": {},
   "toc_section_display": true,
   "toc_window_display": false
  }
 },
 "nbformat": 4,
 "nbformat_minor": 2
}
