{
 "cells": [
  {
   "cell_type": "markdown",
   "metadata": {},
   "source": [
    "<div align=\"center\">  <img src=\"https://matplotlib.org/_static/logo2.png\" width=\"1000\"/> </div><br>"
   ]
  },
  {
   "cell_type": "markdown",
   "metadata": {},
   "source": [
    ">用 Matplotlib 画图时中文无法显示，遂解决之\n",
    "\n",
    "本方法只适用于 Linux 环境\n",
    "\n",
    "Matplotlib 无法显示中文这个问题由来已久，官方一直没有解决，只能自己解决啦。"
   ]
  },
  {
   "cell_type": "markdown",
   "metadata": {
    "toc": true
   },
   "source": [
    "<h1>Table of Contents<span class=\"tocSkip\"></span></h1>\n",
    "<div class=\"toc\"><ul class=\"toc-item\"><li><span><a href=\"#安装中文字体\" data-toc-modified-id=\"安装中文字体-1\"><span class=\"toc-item-num\">1&nbsp;&nbsp;</span>安装中文字体</a></span></li><li><span><a href=\"#将字体文件拷贝到-Matplolib-字体文件夹\" data-toc-modified-id=\"将字体文件拷贝到-Matplolib-字体文件夹-2\"><span class=\"toc-item-num\">2&nbsp;&nbsp;</span>将字体文件拷贝到 Matplolib 字体文件夹</a></span><ul class=\"toc-item\"><li><span><a href=\"#可选操作\" data-toc-modified-id=\"可选操作-2.1\"><span class=\"toc-item-num\">2.1&nbsp;&nbsp;</span>可选操作</a></span></li></ul></li><li><span><a href=\"#方案1-通过-rc.Params-指定字体\" data-toc-modified-id=\"方案1-通过-rc.Params-指定字体-3\"><span class=\"toc-item-num\">3&nbsp;&nbsp;</span>方案1-通过 <code>rc.Params</code> 指定字体</a></span></li><li><span><a href=\"#方案2-通过路径指定字体\" data-toc-modified-id=\"方案2-通过路径指定字体-4\"><span class=\"toc-item-num\">4&nbsp;&nbsp;</span>方案2-通过路径指定字体</a></span></li><li><span><a href=\"#总结\" data-toc-modified-id=\"总结-5\"><span class=\"toc-item-num\">5&nbsp;&nbsp;</span>总结</a></span></li><li><span><a href=\"#可能需要的操作\" data-toc-modified-id=\"可能需要的操作-6\"><span class=\"toc-item-num\">6&nbsp;&nbsp;</span>可能需要的操作</a></span></li></ul></div>"
   ]
  },
  {
   "cell_type": "markdown",
   "metadata": {},
   "source": [
    "## 安装中文字体\n",
    "\n",
    "可以从这个 repo 安装\n",
    "\n",
    "```shell\n",
    "git clone https://github.com/tracyone/program_font \n",
    "cd program_font \n",
    "./install.sh\n",
    "```\n",
    "安装完字体之后 `/usr/share/fonts` 目录下会多出很多字体。这只是给 Ubuntu 系统安装了字体，但 Matplotlib 还是不能使用这些字体，需要将字体文件拷贝到 Matplolib 字体文件夹"
   ]
  },
  {
   "cell_type": "markdown",
   "metadata": {},
   "source": [
    "## 将字体文件拷贝到 Matplolib 字体文件夹"
   ]
  },
  {
   "cell_type": "markdown",
   "metadata": {},
   "source": [
    "检测　Matplotlib 字体文件夹"
   ]
  },
  {
   "cell_type": "code",
   "execution_count": 1,
   "metadata": {},
   "outputs": [
    {
     "data": {
      "text/plain": [
       "'/home/nwpu/anaconda3/lib/python3.7/site-packages/matplotlib/mpl-data/matplotlibrc'"
      ]
     },
     "execution_count": 1,
     "metadata": {},
     "output_type": "execute_result"
    }
   ],
   "source": [
    "import matplotlib\n",
    "matplotlib.matplotlib_fname()"
   ]
  },
  {
   "cell_type": "markdown",
   "metadata": {},
   "source": [
    "Matplotlib 的字体文件夹应该在同级目录，即　`/home/nwpu/anaconda3/lib/python3.6/site-packages/matplotlib/mpl-data/fonts`\n",
    "\n",
    "从　`/usr/share/fonts` 中找一个中文字体的 ttf 文件拷贝到　`/home/nwpu/anaconda3/lib/python3.6/site-packages/matplotlib/mpl-data/fonts` 文件夹"
   ]
  },
  {
   "cell_type": "markdown",
   "metadata": {},
   "source": [
    "### 可选操作\n",
    "\n",
    "删除当前用户matplotlib 的缓存文件（如果没有直接进入第四步）\n",
    "\n",
    "```shell\n",
    "$cd ~/.cache/matplotlib\n",
    "$rm -rf *.*\n",
    "```"
   ]
  },
  {
   "cell_type": "markdown",
   "metadata": {},
   "source": [
    "通过以下脚本检测 Ubuntu 和 Matplotlib 都可用的字体"
   ]
  },
  {
   "cell_type": "code",
   "execution_count": 2,
   "metadata": {},
   "outputs": [
    {
     "name": "stdout",
     "output_type": "stream",
     "text": [
      "********** 可用的字体 **********\n",
      "Yahei Mono\n",
      "YaHei Consolas Hybrid\n",
      "Droid Sans Fallback\n"
     ]
    }
   ],
   "source": [
    "from matplotlib.font_manager import FontManager\n",
    "import subprocess\n",
    "fm = FontManager()\n",
    "mat_fonts = set(f.name for f in fm.ttflist)\n",
    "#print(mat_fonts)\n",
    "output = subprocess.check_output(\n",
    "    'fc-list :lang=zh -f \"%{family}\\n\"', shell=True) # 获取字体列表\n",
    "output = output.decode('utf-8')\n",
    "#print(output)\n",
    "\n",
    "zh_fonts = set(f.split(',', 1)[0] for f in output.split('\\n'))\n",
    "available = mat_fonts & zh_fonts\n",
    "print('*' * 10, '可用的字体', '*' * 10)\n",
    "for f in available:\n",
    "    print(f)"
   ]
  },
  {
   "cell_type": "markdown",
   "metadata": {},
   "source": [
    "## 方案1-通过 `rc.Params` 指定字体"
   ]
  },
  {
   "cell_type": "code",
   "execution_count": 3,
   "metadata": {},
   "outputs": [
    {
     "data": {
      "image/png": "[encoded data removed]",
      "text/plain": [
       "<Figure size 432x288 with 1 Axes>"
      ]
     },
     "metadata": {
      "needs_background": "light"
     },
     "output_type": "display_data"
    }
   ],
   "source": [
    "import matplotlib as mpl\n",
    "import matplotlib.pyplot as plt\n",
    "import numpy as np\n",
    "%matplotlib inline\n",
    "\n",
    "font_name = \"YaHei Consolas Hybrid\"\n",
    "mpl.rcParams['font.family']= font_name # 指定字体，实际上相当于修改 matplotlibrc 文件　只不过这样做是暂时的　下次失效\n",
    "mpl.rcParams['axes.unicode_minus']=False # 正确显示负号，防止变成方框\n",
    "\n",
    "t = np.linspace(0, 2*np.pi, 1000, endpoint=False)\n",
    "y = np.sin(t)\n",
    "fig, ax = plt.subplots()\n",
    "\n",
    "ax.set_xlabel(u\"text for t轴\")\n",
    "ax.set_ylabel(u\"text for y轴\")\n",
    "ax.set_title(u\"t和y对应关系\")\n",
    "ax.plot(t,y)\n",
    "plt.savefig(\"data/save.png\", bbox_inches='tight', dpi = 1000)\n",
    "\n",
    "\n",
    "plt.text(0.5, 0.5, s=u'测试')\n",
    "plt.show()"
   ]
  },
  {
   "cell_type": "markdown",
   "metadata": {},
   "source": [
    "以上操作**暂时更改** Matplotlib 的字体选项，只在本 kernel 中有效\n",
    "\n",
    "若想**永久更改** Matplotlib 所使用的字体，可以直接修改`matplotlibrc`文件，路径为 `matplotlib.matplotlib_fname()` 的返回值即 `/home/nwpu/anaconda3/lib/python3.7/site-packages/matplotlib/mpl-data/matplotlibrc`\n",
    "\n",
    "具体修改以下几项\n",
    "\n",
    "```\n",
    "font.family         : sans-serif        \n",
    "font.sans-serif     : SimHei, Bitstream Vera Sans, Lucida Grande, Verdana, Geneva, Lucid, Arial, Helvetica, Avant Garde, sans-serif # 在其中添加中文字体名\n",
    "axes.unicode_minus  :False，#作用就是解决负号'-'显示为方块的问题\n",
    "```"
   ]
  },
  {
   "cell_type": "markdown",
   "metadata": {},
   "source": [
    "## 方案2-通过路径指定字体\n",
    "\n",
    "通过路径指定字体可以指定系统内任意字体，而不需要是 matplotlib 字体文件夹内的字体"
   ]
  },
  {
   "cell_type": "code",
   "execution_count": 4,
   "metadata": {},
   "outputs": [
    {
     "data": {
      "image/png": "[encoded data removed]",
      "text/plain": [
       "<Figure size 432x288 with 1 Axes>"
      ]
     },
     "metadata": {
      "needs_background": "light"
     },
     "output_type": "display_data"
    }
   ],
   "source": [
    "import matplotlib.font_manager as mfm\n",
    "\n",
    "font_path = \"/usr/share/fonts/MyFonts/YaHei.Consolas.1.11b.ttf\"\n",
    "prop = mfm.FontProperties(fname=font_path)\n",
    "\n",
    "t = np.linspace(0, 2*np.pi, 1000, endpoint=False)\n",
    "y = np.sin(t)\n",
    "fig, ax = plt.subplots()\n",
    "\n",
    "ax.set_xlabel(u\"text for t轴\")\n",
    "ax.set_ylabel(u\"text for y轴\")\n",
    "ax.set_title(u\"t和y对应关系\")\n",
    "ax.plot(t,y)\n",
    "plt.savefig(\"data/save.png\", bbox_inches='tight', dpi = 1000)\n",
    "\n",
    "\n",
    "plt.text(0.5, 0.5, s=u'测试')\n",
    "plt.show()"
   ]
  },
  {
   "cell_type": "markdown",
   "metadata": {},
   "source": [
    "## 总结\n",
    "\n",
    "1. 为 Ubuntu 系统安装中文字体\n",
    "2. 将中文字体拷贝到 Matplotlib 字体文件夹\n",
    "3. 在代码中指定一个可用的字体"
   ]
  },
  {
   "cell_type": "markdown",
   "metadata": {},
   "source": [
    "## 可能需要的操作\n",
    "\n",
    "```py\n",
    "from matplotlib.font_manager import _rebuild\n",
    "\n",
    "_rebuild() #reload一下\n",
    "```"
   ]
  },
  {
   "cell_type": "markdown",
   "metadata": {},
   "source": [
    "References：\n",
    "> - [A Gentle Guide on How to Use Chinese Characters With Matplotlib](https://jdhao.github.io/2017/05/13/guide-on-how-to-use-chinese-with-matplotlib/)"
   ]
  }
 ],
 "metadata": {
  "kernelspec": {
   "display_name": "Python 3",
   "language": "python",
   "name": "python3"
  },
  "language_info": {
   "codemirror_mode": {
    "name": "ipython",
    "version": 3
   },
   "file_extension": ".py",
   "mimetype": "text/x-python",
   "name": "python",
   "nbconvert_exporter": "python",
   "pygments_lexer": "ipython3",
   "version": "3.7.0"
  },
  "toc": {
   "base_numbering": 1,
   "nav_menu": {},
   "number_sections": true,
   "sideBar": true,
   "skip_h1_title": false,
   "title_cell": "Table of Contents",
   "title_sidebar": "Contents",
   "toc_cell": true,
   "toc_position": {},
   "toc_section_display": true,
   "toc_window_display": false
  }
 },
 "nbformat": 4,
 "nbformat_minor": 2
}
