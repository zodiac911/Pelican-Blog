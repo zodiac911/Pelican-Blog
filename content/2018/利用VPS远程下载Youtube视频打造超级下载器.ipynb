{
 "cells": [
  {
   "cell_type": "markdown",
   "metadata": {},
   "source": [
    "<div align=\"center\">  <img src=\"http://image-bed-zodiac.oss-cn-qingdao.aliyuncs.com/2018101204.png\" width=\"1024\"/> </div><br>"
   ]
  },
  {
   "cell_type": "markdown",
   "metadata": {},
   "source": [
    ">本文简单介绍如何在VPS端下载YouTube视频，并通过http服务将文件从VPS下载到本地。\n",
    "\n",
    "之前的博文使用youtube-dl下载YouTube等网站视频简单介绍了使用youtube-dl下载youtube视频的方法，同时介绍了一些速度较慢时的优化方法。但是由于天朝的网络环境实在糟糕，通常在本地下载视频速度都很不理想，就算尝试优化很多时候也只是治标不治本。不如从源头解决问题，直接在VPS端下载视频，之后再通过http或类似方式回传本地。\n",
    "\n",
    "实际上，还有很多下载YouTube视频的方法，比如安装Chrome插件，以及通过Chrome的tampermonkey插件安装额外的网页脚本等方法。不过这些方法都不在本文讨论范围内，本文主要关注使用youtube-dl下载视频的方法。\n",
    "\n",
    "下面就重点介绍利用caddy搭建简单http服务器实现文件回传的方法。"
   ]
  },
  {
   "cell_type": "markdown",
   "metadata": {
    "toc": true
   },
   "source": [
    "<h1>Table of Contents<span class=\"tocSkip\"></span></h1>\n",
    "<div class=\"toc\"><ul class=\"toc-item\"><li><span><a href=\"#下载视频\" data-toc-modified-id=\"下载视频-1\"><span class=\"toc-item-num\">1&nbsp;&nbsp;</span>下载视频</a></span></li><li><span><a href=\"#搭建caddy服务\" data-toc-modified-id=\"搭建caddy服务-2\"><span class=\"toc-item-num\">2&nbsp;&nbsp;</span>搭建caddy服务</a></span><ul class=\"toc-item\"><li><span><a href=\"#一并安装caddy和filemanager\" data-toc-modified-id=\"一并安装caddy和filemanager-2.1\"><span class=\"toc-item-num\">2.1&nbsp;&nbsp;</span>一并安装caddy和filemanager</a></span></li><li><span><a href=\"#新建文件夹作为网络服务器的根目录\" data-toc-modified-id=\"新建文件夹作为网络服务器的根目录-2.2\"><span class=\"toc-item-num\">2.2&nbsp;&nbsp;</span>新建文件夹作为网络服务器的根目录</a></span></li><li><span><a href=\"#写入caddy配置文件\" data-toc-modified-id=\"写入caddy配置文件-2.3\"><span class=\"toc-item-num\">2.3&nbsp;&nbsp;</span>写入caddy配置文件</a></span></li><li><span><a href=\"#开启服务\" data-toc-modified-id=\"开启服务-2.4\"><span class=\"toc-item-num\">2.4&nbsp;&nbsp;</span>开启服务</a></span></li><li><span><a href=\"#caddy-命令\" data-toc-modified-id=\"caddy-命令-2.5\"><span class=\"toc-item-num\">2.5&nbsp;&nbsp;</span>caddy 命令</a></span></li></ul></li><li><span><a href=\"#已知问题\" data-toc-modified-id=\"已知问题-3\"><span class=\"toc-item-num\">3&nbsp;&nbsp;</span>已知问题</a></span><ul class=\"toc-item\"><li><span><a href=\"#显示启动成功，但本地无法访问\" data-toc-modified-id=\"显示启动成功，但本地无法访问-3.1\"><span class=\"toc-item-num\">3.1&nbsp;&nbsp;</span>显示启动成功，但本地无法访问</a></span></li></ul></li></ul></div>"
   ]
  },
  {
   "cell_type": "markdown",
   "metadata": {},
   "source": [
    "## 下载视频\n",
    "\n",
    "和之前博文[使用youtube-dl下载YouTube等网站视频](https://zodiac911.github.io/youtube-dl.html)中介绍的方法一样，通过youtube-dl下载\n",
    "\n",
    "可能需要先在VPS上安装 youtube-dl ffmpeg 和 aria2等软件包"
   ]
  },
  {
   "cell_type": "markdown",
   "metadata": {},
   "source": [
    "## 搭建caddy服务\n",
    "\n",
    "\n",
    "### 一并安装caddy和filemanager\n",
    "\n",
    "使用[doubi](https://github.com/ToyoDAdoubi/)的脚本安装\n",
    "\n",
    "```shell\n",
    "wget -N --no-check-certificate https://raw.githubusercontent.com/ToyoDAdoubi/doubi/master/caddy_install.sh \n",
    "chmod +x caddy_install.sh \n",
    "bash caddy_install.sh install http.filemanager\n",
    "```\n",
    "\n",
    "filemanager是一款用于改进caddy默认页面过于简陋的插件，允许用户通过网页下载，上传，删除，修改文件，而caddy自身是没有实现这些功能的\n",
    "\n",
    "\n",
    "### 新建文件夹作为网络服务器的根目录\n",
    "\n",
    "```shell\n",
    "cd /\n",
    "mkdir /usr/local/caddy/content\n",
    "```\n",
    "\n",
    "### 写入caddy配置文件\n",
    "\n",
    "filemanager 配置方式见[filemanager GitHub](https://github.com/bronzehedwick/caddy-filemanager)\n",
    "\n",
    "```shell\n",
    "echo \":80 {\n",
    " root /usr/local/caddy/content\n",
    " timeouts none\n",
    " filemanager {\n",
    "  show          /usr/local/caddy/content\n",
    "  on            /\n",
    "}\n",
    " gzip\n",
    " browse\n",
    "}\" > /usr/local/caddy/Caddyfile\n",
    "```\n",
    "\n",
    "整体复制粘贴到终端执行\n",
    "\n",
    "### 开启服务\n",
    "\n",
    "```shell\n",
    "service caddy start\n",
    "```\n",
    "\n",
    "**现在可以通过 `http://[IP]`访问服务器了，IP为VPS分配给你的IP** 默认用户名和密码都是 admin\n",
    "\n",
    "登录之后的页面大致是这个样子\n",
    "\n",
    "<div align=\"center\">  <img src=\"http://image-bed-zodiac.oss-cn-qingdao.aliyuncs.com/2018101206.png\" width=\"900\"/> </div><br>\n",
    "\n",
    "之后就可以直接从VPS取回已经在VPS端下载好的文件了，就和平时从网页上下载文件一样。\n",
    "\n",
    "### caddy 命令\n",
    "\n",
    "```shell\n",
    "service caddy start\n",
    "service caddy stop\n",
    "service caddy restart\n",
    "service caddy status\n",
    "```"
   ]
  },
  {
   "cell_type": "markdown",
   "metadata": {},
   "source": [
    "## 已知问题\n",
    "\n",
    "### 显示启动成功，但本地无法访问\n",
    "\n",
    "这个可能是防火墙的问题，开放防火墙端口即可\n",
    "\n",
    "```\n",
    "iptables-I INPUT-m state--state NEW-m tcp-p tcp--dport端口-j ACCEPT\n",
    "iptables-I INPUT-m state--state NEW-m udp-p udp--dport端口-j ACCEPT\n",
    "```\n",
    "\n",
    "或者删除防火墙规则，内容一样把 -I 换成 -D 就行了\n",
    "\n",
    "```\n",
    "iptables-D INPUT-m state--state NEW-m tcp-p tcp--dport端口-j ACCEPT\n",
    "iptables-D INPUT-m state--state NEW-m udp-p udp--dport端口-j ACCEPT\n",
    "```\n",
    "\n",
    "更多问题解决方法参见 https://doub.io/jzzy-3/"
   ]
  }
 ],
 "metadata": {
  "kernelspec": {
   "display_name": "Python 3",
   "language": "python",
   "name": "python3"
  },
  "language_info": {
   "codemirror_mode": {
    "name": "ipython",
    "version": 3
   },
   "file_extension": ".py",
   "mimetype": "text/x-python",
   "name": "python",
   "nbconvert_exporter": "python",
   "pygments_lexer": "ipython3",
   "version": "3.7.0"
  },
  "toc": {
   "base_numbering": 1,
   "nav_menu": {},
   "number_sections": true,
   "sideBar": true,
   "skip_h1_title": false,
   "title_cell": "Table of Contents",
   "title_sidebar": "Contents",
   "toc_cell": true,
   "toc_position": {},
   "toc_section_display": true,
   "toc_window_display": false
  }
 },
 "nbformat": 4,
 "nbformat_minor": 2
}
