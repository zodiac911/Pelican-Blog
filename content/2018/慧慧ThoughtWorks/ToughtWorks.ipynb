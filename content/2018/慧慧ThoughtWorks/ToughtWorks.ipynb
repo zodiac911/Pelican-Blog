{
 "cells": [
  {
   "cell_type": "markdown",
   "metadata": {},
   "source": [
    "女朋友找工作时遇到的一道编程题"
   ]
  },
  {
   "cell_type": "markdown",
   "metadata": {},
   "source": [
    "文本处理是非常常见但又非常重要的任务。其中操作纷繁复杂。而今天我们的目标就是制作一个小型的文本预处理器。其主要功能就是对文本进行预处理以便后续进行固定宽度的排版。为了方便说明，我们定义如下的概念：\n",
    "\n",
    "- ● 空白字符（white space）：指空格 ' '。\n",
    "- ● 文本字符（character）：指大写或者小写的英文字母。\n",
    "- ● 节（segment）：指一串（大于或者等于一个）连续的空白字符或者文本字符。\n",
    "\n",
    "\n",
    "我们的文本处理器的功能还很朴素，无法处理除 空白字符 和 文本字符 之外的字符。我们将会使用一个固定长度作为宽度进行排版。大于这个宽度的字符会被折行。而折行不会显示任何连字符（例如 “-”），也无需对 空白字符 进行额外处理。例如，假设我们规定最大宽度为30，则 \"The main theme of education in engineering school is learning toteach yourself\" 将排版为：\n",
    "\n",
    "\n",
    "    The main theme of education in\n",
    "     engineering school is learnin\n",
    "    g to teach yourself\n",
    "\n",
    "现在请书写一个函数，该函数的输入为两个参数：\n",
    "\n",
    "- ● 需要处理的文本\n",
    "- ● 排版宽度。\n",
    "\n",
    "该函数的返回值为预处理后的文本。预处理后的文本为每一节，及其所在的行号。中间以分号隔开。若一个节跨越了多行，则行号用逗号隔开，并从小到大进行排列。例如，假设输入为：The main theme of education in engineering school is learning\n",
    "to teach yourself，并且排版宽度指定为 30，则返回：\n",
    "\n",
    "The(1); (1);main(1); (1);theme(1); (1);of(1); (1);education(1); (1);in(1);\n",
    "(2);engineering(2); (2);school(2); (2);is(2); (2);learning(2,3); (3);to(3);\n",
    "(3);teach(3); (3);yourself(3);\n",
    "\n",
    "又例如，假设输入为：\"So many whitespaces\"，而排版宽度为 10，则返回：\n",
    "\n",
    "So(1); (1);many(1); (1);whitespaces(2,3);"
   ]
  },
  {
   "cell_type": "markdown",
   "metadata": {},
   "source": [
    "Python demo"
   ]
  },
  {
   "cell_type": "markdown",
   "metadata": {},
   "source": [
    "首先将句子拆分为，单次和空格的数组"
   ]
  },
  {
   "cell_type": "code",
   "execution_count": 1,
   "metadata": {},
   "outputs": [],
   "source": [
    "strr = \"The main theme of education in engineering    \\\n",
    "school is learning to teach yourself\"\n",
    "\n",
    "storage = []\n",
    "buff_str = \"\"\n",
    "\n",
    "# 字符串分割为数组\n",
    "for i in range(len(strr)):\n",
    "    if not i:\n",
    "        flag = (strr[i] == \" \")\n",
    "        buff_str += strr[i]\n",
    "    else:\n",
    "        if (strr[i] == \" \") == flag:\n",
    "            buff_str += strr[i]\n",
    "        else:\n",
    "            storage.append(buff_str)\n",
    "            buff_str = strr[i]\n",
    "            flag = (strr[i] == \" \")\n",
    "storage.append(buff_str)"
   ]
  },
  {
   "cell_type": "code",
   "execution_count": 2,
   "metadata": {},
   "outputs": [
    {
     "data": {
      "text/plain": [
       "['The',\n",
       " ' ',\n",
       " 'main',\n",
       " ' ',\n",
       " 'theme',\n",
       " ' ',\n",
       " 'of',\n",
       " ' ',\n",
       " 'education',\n",
       " ' ',\n",
       " 'in',\n",
       " ' ',\n",
       " 'engineering',\n",
       " '    ',\n",
       " 'school',\n",
       " ' ',\n",
       " 'is',\n",
       " ' ',\n",
       " 'learning',\n",
       " ' ',\n",
       " 'to',\n",
       " ' ',\n",
       " 'teach',\n",
       " ' ',\n",
       " 'yourself']"
      ]
     },
     "execution_count": 2,
     "metadata": {},
     "output_type": "execute_result"
    }
   ],
   "source": [
    "storage"
   ]
  },
  {
   "cell_type": "markdown",
   "metadata": {},
   "source": [
    "对buff区计数，以记录每个节的行号"
   ]
  },
  {
   "cell_type": "code",
   "execution_count": 3,
   "metadata": {},
   "outputs": [],
   "source": [
    "# 判断行号\n",
    "storage_new = [0]*len(storage)\n",
    "\n",
    "for i in range(len(storage)):\n",
    "    storage_new[i] = []\n",
    "\n",
    "buff_count = 0\n",
    "line_length = 30\n",
    "\n",
    "cnt = 1\n",
    "for index, element in enumerate(storage):\n",
    "    buff_count += len(element)\n",
    "    if buff_count < line_length:\n",
    "        storage_new[index].append(cnt)\n",
    "    elif buff_count == line_length:\n",
    "        buff_count = 0\n",
    "        storage_new[index].append(cnt)\n",
    "        cnt += 1\n",
    "    else:\n",
    "        x, y = divmod(buff_count, line_length)\n",
    "        for i in range(x+1):\n",
    "            storage_new[index].append(cnt+i)\n",
    "        buff_count = y\n",
    "        cnt += x"
   ]
  },
  {
   "cell_type": "code",
   "execution_count": 4,
   "metadata": {},
   "outputs": [
    {
     "data": {
      "text/plain": [
       "[[1],\n",
       " [1],\n",
       " [1],\n",
       " [1],\n",
       " [1],\n",
       " [1],\n",
       " [1],\n",
       " [1],\n",
       " [1],\n",
       " [1],\n",
       " [1],\n",
       " [2],\n",
       " [2],\n",
       " [2],\n",
       " [2],\n",
       " [2],\n",
       " [2],\n",
       " [2],\n",
       " [2, 3],\n",
       " [3],\n",
       " [3],\n",
       " [3],\n",
       " [3],\n",
       " [3],\n",
       " [3]]"
      ]
     },
     "execution_count": 4,
     "metadata": {},
     "output_type": "execute_result"
    }
   ],
   "source": [
    "storage_new"
   ]
  },
  {
   "cell_type": "markdown",
   "metadata": {},
   "source": [
    "最后输出"
   ]
  },
  {
   "cell_type": "code",
   "execution_count": 5,
   "metadata": {
    "code_folding": []
   },
   "outputs": [
    {
     "name": "stdout",
     "output_type": "stream",
     "text": [
      "The(1); (1);main(1); (1);theme(1); (1);of(1); (1);education(1); (1);in(1); (2);engineering(2);    (2);school(2); (2);is(2); (2);learning(2,3); (3);to(3); (3);teach(3); (3);yourself(3);"
     ]
    }
   ],
   "source": [
    "# 输出\n",
    "for index, element in enumerate(storage):\n",
    "    print(element+\"(\", end=\"\")\n",
    "    for i in range(len(storage_new[index])-1):\n",
    "        print(str(storage_new[index][i])+\",\", end=\"\")\n",
    "    print(str(storage_new[index][-1])+\");\", end=\"\")"
   ]
  }
 ],
 "metadata": {
  "kernelspec": {
   "display_name": "Python 3",
   "language": "python",
   "name": "python3"
  },
  "language_info": {
   "codemirror_mode": {
    "name": "ipython",
    "version": 3
   },
   "file_extension": ".py",
   "mimetype": "text/x-python",
   "name": "python",
   "nbconvert_exporter": "python",
   "pygments_lexer": "ipython3",
   "version": "3.6.6"
  },
  "toc": {
   "base_numbering": 1,
   "nav_menu": {},
   "number_sections": true,
   "sideBar": true,
   "skip_h1_title": false,
   "title_cell": "Table of Contents",
   "title_sidebar": "Contents",
   "toc_cell": true,
   "toc_position": {},
   "toc_section_display": true,
   "toc_window_display": true
  }
 },
 "nbformat": 4,
 "nbformat_minor": 2
}
