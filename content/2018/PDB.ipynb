{
 "cells": [
  {
   "cell_type": "markdown",
   "metadata": {},
   "source": [
    "pdb-The Python Debugger\n",
    "\n",
    "简单记录一下"
   ]
  },
  {
   "cell_type": "markdown",
   "metadata": {
    "toc": true
   },
   "source": [
    "<h1>Table of Contents<span class=\"tocSkip\"></span></h1>\n",
    "<div class=\"toc\"><ul class=\"toc-item\"><li><span><a href=\"#pdb\" data-toc-modified-id=\"pdb-1\"><span class=\"toc-item-num\">1&nbsp;&nbsp;</span>pdb</a></span><ul class=\"toc-item\"><li><span><a href=\"#按脚本运行\" data-toc-modified-id=\"按脚本运行-1.1\"><span class=\"toc-item-num\">1.1&nbsp;&nbsp;</span>按脚本运行</a></span></li><li><span><a href=\"#在文件中运行\" data-toc-modified-id=\"在文件中运行-1.2\"><span class=\"toc-item-num\">1.2&nbsp;&nbsp;</span>在文件中运行</a></span></li><li><span><a href=\"#debugger-commands\" data-toc-modified-id=\"debugger-commands-1.3\"><span class=\"toc-item-num\">1.3&nbsp;&nbsp;</span>debugger commands</a></span></li></ul></li><li><span><a href=\"#pdb++\" data-toc-modified-id=\"pdb++-2\"><span class=\"toc-item-num\">2&nbsp;&nbsp;</span>pdb++</a></span></li></ul></div>"
   ]
  },
  {
   "cell_type": "markdown",
   "metadata": {},
   "source": [
    "## pdb\n",
    "\n",
    "### 按脚本运行\n",
    "\n",
    "```python\n",
    "python -m pdb myscript.py\n",
    "```\n",
    "\n",
    "在运行脚本时作为参数传入时，pdb 会自动进入 post-mortem debugging 状态[崩溃后调试]，此后 pdb 将重启程序，重启之后 pdb 将保留所有变量，直到再次运行第一行代码。\n",
    "\n",
    "此外还可用 `-c` 参数在调试时添加临时代码\n",
    "\n",
    "```shell\n",
    "python -m pdb -c new_variable=666 myscript.py # python -m pdb -c \"new_variable = 666\" myscript.py\n",
    "```"
   ]
  },
  {
   "cell_type": "markdown",
   "metadata": {},
   "source": [
    "### 在文件中运行\n",
    "\n",
    "在希望进入调试的地方添加如下代码，即可在运行代码时进入调试\n",
    "\n",
    "```python\n",
    "import pdb\n",
    "pdb.set_trace()\n",
    "```\n",
    "\n",
    "输入 `c(ont(inue))` 继续执行直到下一个断点"
   ]
  },
  {
   "cell_type": "markdown",
   "metadata": {},
   "source": [
    "pdb 里的一些方法\n",
    "\n",
    "- `pdb.run(statement, globals=None, locals=None)`\n",
    "- `pdb.runeval(expression, globals=None, locals=None)`\n",
    "- `pdb.runcall(function, *args, **kwds)`\n",
    "- `pdb.set_trace()`\n",
    "- `pdb.post_mortem(traceback=None)`\n",
    "- `pdb.pm()` Enter post-mortem debugging of the traceback found in\n",
    "\n",
    "最常使用的也就是 `pdb.set_trace()` 和 `pdb.pm()`\n",
    "\n",
    "```python\n",
    "class pdb.Pdb(completekey='tab', stdin=None, stdout=None, skip=None, nosigint=False, readrc=True)\n",
    "```\n",
    "\n",
    "Example call to enable tracing with skip:\n",
    "\n",
    "```python\n",
    "import pdb\n",
    "pdb.Pdb(skip=['django.*']).set_trace()\n",
    "```"
   ]
  },
  {
   "cell_type": "markdown",
   "metadata": {},
   "source": [
    "### debugger commands"
   ]
  },
  {
   "cell_type": "markdown",
   "metadata": {},
   "source": [
    "输入 h(elp) 可以查看帮助信息，输入不是 pdb 指令时被认为是 Python 语句，这些语句会在当前的 debug point 执行，输入单个变量名则打印该变量。当变量名和 pdb 指令重名时，在变量名前添加 `!` 如 `！c`。\n",
    "\n",
    "如果命令带参数则使用 `[]` 指定，可选项使用 | 分开。多条命令可以单行输入，使用 `;` 隔开"
   ]
  },
  {
   "cell_type": "markdown",
   "metadata": {},
   "source": [
    "- `h(elp) [command]`\n",
    "没有参数时，打印所有命令选项，带参数则打印此命令的帮助信息。\n",
    "- `w(here)`\n",
    "打印当前的 debug point\n",
    "- `d(own) [count]`\n",
    "将当前的 frame 下移 count 个层级\n",
    "- `u(p) [count]`\n",
    "上移\n",
    "- `b(reak) [([filename:]lineno | function) [, condition]]`\n",
    "- `s(tep)`\n",
    "单步调试\n",
    "- `n(ext)`\n",
    "执行到当前文件中的下一行\n",
    "- `unt(il) [lineno]`\n",
    "不给参数，继续执行到大于当前行号的地方；给参数则执行到大于给定行号的地方。对于两种方式，当前 frame 返回都会终止。\n",
    "- `r(eturn)`\n",
    "继续执行直到当前函数 return\n",
    "- `c(ont(inue))`\n",
    "继续执行直到下一个断点\n",
    "- `l(ist) [first[, last]]`\n",
    "列出区域源码，如果不给出参数，显示 11 行\n",
    "- `ll`\n",
    "显示全部源码\n",
    "- `a(rgs)`\n",
    "显示当前函数的参数列表\n",
    "- `whatis expression`\n",
    "显示 type\n",
    "- `display [expression]`\n",
    "如果 expression 的值发生改变的话显示 expression 的值，如果不指定参数，列出全部 expression\n",
    "- `undisplay [expression]`\n",
    "不再显示\n",
    "- `interact`\n",
    "开启一个 interactive crompt **当前 frame 中的所有 global 和 local 变量包含在新环境的 global 中**\n",
    "- `! statement`\n",
    "执行单行语句\n",
    "- `q`\n",
    "退出 debugger 放弃执行当前程序，相当粗鲁，程序直接崩溃。"
   ]
  },
  {
   "cell_type": "markdown",
   "metadata": {},
   "source": [
    "## pdb++"
   ]
  },
  {
   "cell_type": "markdown",
   "metadata": {},
   "source": [
    "pdb++ 是 Python pdb 的加强版，使用时与 pdb 完全兼容。\n",
    "\n",
    "pdb++ 是一个 drop-in replacement，也就是说完全不需要更改原有的使用习惯，甚至**直接使用 pdb 这一名称进行调用**。\n",
    "\n",
    "主要特性\n",
    "\n",
    "- colorful TAB completion of Python expressions (through fancycompleter) 彩色 TAB 补全\n",
    "- optional syntax highlighting of code listings (through pygments) 代码高亮\n",
    "- sticky mode sticky 模式\n",
    "- several new commands to be used from the interactive (Pdb++) prompt 一些新的调试命令\n",
    "- smart command parsing (hint: have you ever typed r or c at the prompt to print the value of some variable?)\n",
    "- additional convenience functions in the pdb module, to be used from your program\n",
    "\n",
    "值得注意的是，在 pdb 中，c u d 等字母属于调试指令，所以要打印同名变量必须在前面加上转义符 `!c`，但是在 pdb++ 中，默认优先考虑变量，只要变量在当前 frame 中存在就默认打印变量，而如果不存在则考虑是否存在同名指令。\n",
    "\n",
    "```python\n",
    "(Pdb) list\n",
    "  1\n",
    "  2     def fn():\n",
    "  3         c = 42\n",
    "  4         import pdb;pdb.set_trace()\n",
    "  5  ->     return c\n",
    "(Pdb) c\n",
    "```\n",
    "\n",
    "\n",
    "```python\n",
    "(Pdb++) list\n",
    "  1\n",
    "  2     def fn():\n",
    "  3         c = 42\n",
    "  4         import pdb;pdb.set_trace()\n",
    "  5  ->     return c\n",
    "(Pdb++) c\n",
    "42\n",
    "(Pdb++) !!c\n",
    "```\n",
    "\n",
    "存在同名变量时，要执行调试命令只能在前面添加两个 `!!` 比如 `!!c`\n",
    "\n",
    "一些同名指令的输出结果也得到了加强，还有很多其他的改进，详见 References"
   ]
  },
  {
   "cell_type": "markdown",
   "metadata": {},
   "source": [
    "References:\n",
    "> - [pdb — The Python Debugger](https://docs.python.org/3.6/library/pdb.html)\n",
    "- [pdbpp](https://pypi.org/project/pdbpp/)"
   ]
  }
 ],
 "metadata": {
  "kernelspec": {
   "display_name": "Python 3",
   "language": "python",
   "name": "python3"
  },
  "language_info": {
   "codemirror_mode": {
    "name": "ipython",
    "version": 3
   },
   "file_extension": ".py",
   "mimetype": "text/x-python",
   "name": "python",
   "nbconvert_exporter": "python",
   "pygments_lexer": "ipython3",
   "version": "3.7.0"
  },
  "toc": {
   "base_numbering": 1,
   "nav_menu": {},
   "number_sections": true,
   "sideBar": true,
   "skip_h1_title": false,
   "title_cell": "Table of Contents",
   "title_sidebar": "Contents",
   "toc_cell": true,
   "toc_position": {},
   "toc_section_display": true,
   "toc_window_display": false
  }
 },
 "nbformat": 4,
 "nbformat_minor": 2
}
