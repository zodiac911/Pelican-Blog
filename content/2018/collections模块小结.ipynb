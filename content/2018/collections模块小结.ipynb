{
 "cells": [
  {
   "cell_type": "markdown",
   "metadata": {},
   "source": [
    "简单总结一下 collections 模块中各个数据类型的用法"
   ]
  },
  {
   "cell_type": "markdown",
   "metadata": {},
   "source": [
    "Python 的内置数据数据类型包括 str, int, list, tuple, set, dict 等，有时这些数据类型满足不了我们的需求。标准库中的 collections 模块在这些内置数据类型的基础上，提供了几个额外的数据类型：\n",
    "\n",
    "- namedtuple\t命名元组，使用名字访问元素\tNew in version 2.6.\n",
    "- deque\t双端队列，可以快速的从头/尾两端添加或删除元素\tNew in version 2.4.\n",
    "- Counter\t计数器，用于对某项数据进行计数\tNew in version 2.7.\n",
    "- OrderedDict\t有序字典，保持插入顺序\tNew in version 2.7.\n",
    "- defaultdict\t带有默认值的字典\tNew in version 2.5.\n",
    "- ChainMap\t合并多个 map(dict)，但保持原数据结构\tNew in version 3.3\n",
    "- UserDict\t将字典包装起来使得创建字典的子类更容易\n",
    "- UserList\t列表对象的包装器\n",
    "- UserString\t字符串对象的包装器"
   ]
  },
  {
   "cell_type": "markdown",
   "metadata": {
    "toc": true
   },
   "source": [
    "<h1>Table of Contents<span class=\"tocSkip\"></span></h1>\n",
    "<div class=\"toc\"><ul class=\"toc-item\"><li><span><a href=\"#namedtuple\" data-toc-modified-id=\"namedtuple-1\"><span class=\"toc-item-num\">1&nbsp;&nbsp;</span>namedtuple</a></span></li><li><span><a href=\"#deque\" data-toc-modified-id=\"deque-2\"><span class=\"toc-item-num\">2&nbsp;&nbsp;</span>deque</a></span></li><li><span><a href=\"#Counter\" data-toc-modified-id=\"Counter-3\"><span class=\"toc-item-num\">3&nbsp;&nbsp;</span>Counter</a></span></li><li><span><a href=\"#OrderedDict\" data-toc-modified-id=\"OrderedDict-4\"><span class=\"toc-item-num\">4&nbsp;&nbsp;</span>OrderedDict</a></span></li><li><span><a href=\"#defaultdict\" data-toc-modified-id=\"defaultdict-5\"><span class=\"toc-item-num\">5&nbsp;&nbsp;</span>defaultdict</a></span></li><li><span><a href=\"#ChainMap\" data-toc-modified-id=\"ChainMap-6\"><span class=\"toc-item-num\">6&nbsp;&nbsp;</span>ChainMap</a></span></li><li><span><a href=\"#UserDict-UserList-UserString\" data-toc-modified-id=\"UserDict-UserList-UserString-7\"><span class=\"toc-item-num\">7&nbsp;&nbsp;</span>UserDict UserList UserString</a></span></li></ul></div>"
   ]
  },
  {
   "cell_type": "markdown",
   "metadata": {},
   "source": [
    "## namedtuple\n",
    "\n",
    "可以使用名称来访问元素的数据对象，返回一个 带 name fields 的子类\n",
    "\n",
    "```python\n",
    "collections.namedtuple(typename, field_names, *, verbose=False, rename=False, module=None)\n",
    "```\n",
    "\n",
    "field_names 用于指定数据对象的元素，可以是一个 str，例如 'x y' 或者 'x, y'，也可以是一个包含字符串的序列类型，像 ['x', 'y']\n",
    "\n",
    "常用方法\n",
    "\n",
    "- _asdict() 将 namedtuple 转换为一个 OrderedDict\n",
    "- _fields() 返回 name fields 中的 key\n",
    "- _replace() 类似于 str 的 replace 方法\n",
    "- _make() 通过一个序列或可迭代对象创建"
   ]
  },
  {
   "cell_type": "code",
   "execution_count": 1,
   "metadata": {},
   "outputs": [],
   "source": [
    "from IPython.core.interactiveshell import InteractiveShell\n",
    "InteractiveShell.ast_node_interactivity = \"all\""
   ]
  },
  {
   "cell_type": "code",
   "execution_count": 2,
   "metadata": {},
   "outputs": [
    {
     "data": {
      "text/plain": [
       "Point(x=10, y=11, z=12)"
      ]
     },
     "execution_count": 2,
     "metadata": {},
     "output_type": "execute_result"
    }
   ],
   "source": [
    "from collections import namedtuple\n",
    "\n",
    "Point = namedtuple('Point', ['x', 'y', 'z'])\n",
    "p = Point(10, 11, 12)\n",
    "p"
   ]
  },
  {
   "cell_type": "code",
   "execution_count": 3,
   "metadata": {},
   "outputs": [
    {
     "data": {
      "text/plain": [
       "Point(x=10, y=11, z=12)"
      ]
     },
     "execution_count": 3,
     "metadata": {},
     "output_type": "execute_result"
    },
    {
     "data": {
      "text/plain": [
       "10"
      ]
     },
     "execution_count": 3,
     "metadata": {},
     "output_type": "execute_result"
    },
    {
     "data": {
      "text/plain": [
       "33"
      ]
     },
     "execution_count": 3,
     "metadata": {},
     "output_type": "execute_result"
    },
    {
     "data": {
      "text/plain": [
       "Point(x=11, y=22, z=33)"
      ]
     },
     "execution_count": 3,
     "metadata": {},
     "output_type": "execute_result"
    },
    {
     "data": {
      "text/plain": [
       "OrderedDict([('x', 11), ('y', 22), ('z', 33)])"
      ]
     },
     "execution_count": 3,
     "metadata": {},
     "output_type": "execute_result"
    },
    {
     "data": {
      "text/plain": [
       "Point(x=11, y=100, z=33)"
      ]
     },
     "execution_count": 3,
     "metadata": {},
     "output_type": "execute_result"
    },
    {
     "data": {
      "text/plain": [
       "('x', 'y', 'z')"
      ]
     },
     "execution_count": 3,
     "metadata": {},
     "output_type": "execute_result"
    },
    {
     "data": {
      "text/plain": [
       "Point(x=0, y=1, z=2)"
      ]
     },
     "execution_count": 3,
     "metadata": {},
     "output_type": "execute_result"
    }
   ],
   "source": [
    "Point(x=10, y=11, z=12)\n",
    "p.x\n",
    "p.x + p.y + p.z\n",
    "\n",
    "p2 = Point(11, y=22, z=33)\n",
    "p2\n",
    "\n",
    "d = p2._asdict()      # 转换为字典\n",
    "d\n",
    "\n",
    "p2._replace(y=100)    # 替换元素值\n",
    "\n",
    "p._fields             # 查看对象字段\n",
    "\n",
    "Point._make(range(3)) # 通过一个序列或者可迭代对象创建一个对象"
   ]
  },
  {
   "cell_type": "markdown",
   "metadata": {},
   "source": [
    "## deque\n",
    "\n",
    "deque 是 double-ended queue 的缩写，即双端队列。List 存储数据的优势在于按索引查找元素会很快，但是插入和删除元素就很慢了，因为 list 是基于数组实现的。deque 是为了高效实现插入和删除操作的双向列表，list存储数据的优势在于按索引查找元素会很快，但是插入和删除元素就很慢了，因为list是基于数组实现的。deque是为了高效实现插入和删除操作的双向列表，适合用于队列和栈，而且线程安全。\n",
    "\n",
    "```python\n",
    "collections.deque([iterable[, maxlen]])\n",
    "```\n",
    "\n",
    "deque 具有 list 的所有方法，此外还有 appendleft/popleft ，插入元素的复杂度 O(1), 而 list 是 O(n)\n",
    "\n",
    "maxlen 用于指定 deque 的最大长度，当 deque 的长度达到最大时，先加入的元素会按加入顺序被移出 deque ，如果不指定 maxlen 则为无限长。\n",
    "\n",
    "常用方法\n",
    "\n",
    "- append\n",
    "- extend\n",
    "- appendleft\n",
    "- appendright\n",
    "- popleft\n",
    "- popright\n",
    "- rotate deque 内元素按顺序向后移动一位，最后一位移动到第一位"
   ]
  },
  {
   "cell_type": "code",
   "execution_count": 4,
   "metadata": {},
   "outputs": [
    {
     "data": {
      "text/plain": [
       "deque([])"
      ]
     },
     "execution_count": 4,
     "metadata": {},
     "output_type": "execute_result"
    }
   ],
   "source": [
    "from collections import deque\n",
    "\n",
    "dq = deque()\n",
    "dq"
   ]
  },
  {
   "cell_type": "code",
   "execution_count": 5,
   "metadata": {},
   "outputs": [
    {
     "data": {
      "text/plain": [
       "deque([1, 2, 3, 1, 2, 3])"
      ]
     },
     "execution_count": 5,
     "metadata": {},
     "output_type": "execute_result"
    }
   ],
   "source": [
    "dq.extend([1, 2, 3])\n",
    "dq.extend([1, 2, 3])\n",
    "dq"
   ]
  },
  {
   "cell_type": "code",
   "execution_count": 6,
   "metadata": {},
   "outputs": [
    {
     "data": {
      "text/plain": [
       "deque([])"
      ]
     },
     "execution_count": 6,
     "metadata": {},
     "output_type": "execute_result"
    }
   ],
   "source": [
    "dq = deque(maxlen=2)\n",
    "dq"
   ]
  },
  {
   "cell_type": "code",
   "execution_count": 7,
   "metadata": {},
   "outputs": [
    {
     "data": {
      "text/plain": [
       "deque([1, 1])"
      ]
     },
     "execution_count": 7,
     "metadata": {},
     "output_type": "execute_result"
    }
   ],
   "source": [
    "dq.append(1)\n",
    "dq.append(1)\n",
    "dq"
   ]
  },
  {
   "cell_type": "code",
   "execution_count": 8,
   "metadata": {},
   "outputs": [
    {
     "data": {
      "text/plain": [
       "deque([1, 3])"
      ]
     },
     "execution_count": 8,
     "metadata": {},
     "output_type": "execute_result"
    },
    {
     "data": {
      "text/plain": [
       "deque([3, 4])"
      ]
     },
     "execution_count": 8,
     "metadata": {},
     "output_type": "execute_result"
    },
    {
     "data": {
      "text/plain": [
       "deque([5, 3])"
      ]
     },
     "execution_count": 8,
     "metadata": {},
     "output_type": "execute_result"
    }
   ],
   "source": [
    "dq.append(3)\n",
    "dq\n",
    "\n",
    "dq.append(4)\n",
    "dq\n",
    "\n",
    "dq.appendleft(5)\n",
    "dq"
   ]
  },
  {
   "cell_type": "markdown",
   "metadata": {},
   "source": [
    "跑马灯程序"
   ]
  },
  {
   "cell_type": "code",
   "execution_count": 9,
   "metadata": {
    "scrolled": false
   },
   "outputs": [
    {
     "name": "stdout",
     "output_type": "stream",
     "text": [
      ">--------------------\n",
      "->-------------------\n",
      "-->------------------\n",
      "--->-----------------\n",
      "---->----------------\n",
      "----->---------------\n",
      "------>--------------\n",
      "------->-------------\n",
      "-------->------------\n",
      "--------->-----------\n",
      "---------->----------\n",
      "----------->---------\n",
      "------------>--------\n",
      "------------->-------\n",
      "-------------->------\n",
      "--------------->-----\n",
      "---------------->----\n",
      "----------------->---\n",
      "------------------>--\n",
      "------------------->-\n"
     ]
    }
   ],
   "source": [
    "import sys\n",
    "import time\n",
    "from collections import deque\n",
    "\n",
    "fancy_loading = deque('>--------------------')\n",
    "\n",
    "cnt = 0\n",
    "while cnt<20:\n",
    "    print('\\r%s' % ''.join(fancy_loading),)\n",
    "    fancy_loading.rotate(1)\n",
    "    sys.stdout.flush()\n",
    "    time.sleep(0.05)\n",
    "    cnt += 1"
   ]
  },
  {
   "cell_type": "markdown",
   "metadata": {},
   "source": [
    "## Counter\n",
    "\n",
    "Counter 用来统计相关元素的出现次数，返回一个 Counter 对象，类似于字典\n",
    "\n",
    "```python\n",
    "collections.Counter([iterable-or-mapping])\n",
    "```\n",
    "\n",
    "常用方法\n",
    "- update 追加元素\n",
    "- most_common(n) 获取出现次数最多的 n 个元素"
   ]
  },
  {
   "cell_type": "code",
   "execution_count": 10,
   "metadata": {},
   "outputs": [
    {
     "data": {
      "text/plain": [
       "Counter({'a': 5, 'b': 2, 'r': 2, 'c': 1, 'd': 1})"
      ]
     },
     "execution_count": 10,
     "metadata": {},
     "output_type": "execute_result"
    },
    {
     "data": {
      "text/plain": [
       "Counter({'a': 5, 'b': 4, 'r': 2, 'c': 1, 'd': 1, 'z': 3, 'e': 1})"
      ]
     },
     "execution_count": 10,
     "metadata": {},
     "output_type": "execute_result"
    },
    {
     "data": {
      "text/plain": [
       "[('a', 5), ('b', 4), ('z', 3)]"
      ]
     },
     "execution_count": 10,
     "metadata": {},
     "output_type": "execute_result"
    }
   ],
   "source": [
    "from collections import Counter\n",
    "\n",
    "c = Counter('abracadabra')\n",
    "c\n",
    "\n",
    "c.update('zzzbbe')  # 追加元素\n",
    "c\n",
    "\n",
    "c.most_common(3)  # 获取出现频率最高的前 3 个字符"
   ]
  },
  {
   "cell_type": "markdown",
   "metadata": {},
   "source": [
    "## OrderedDict\n",
    "\n",
    "OrderedDict 是 dict 的一个子类，支持所有 dict 的方法，保持 dict 的有序性\n",
    "\n",
    "```python\n",
    "collections.OrderedDict([items])\n",
    "```\n",
    "\n",
    "常用方法\n",
    "- popitem(last = True)\n",
    "- move_to_end(key, last = True)\n",
    "以上两个方法的 last 关键字参数都是控制从头还是尾弹出对象的"
   ]
  },
  {
   "cell_type": "code",
   "execution_count": 11,
   "metadata": {},
   "outputs": [
    {
     "data": {
      "text/plain": [
       "OrderedDict([('banana', 3), ('apple', 4), ('pear', 1), ('orange', 2)])"
      ]
     },
     "execution_count": 11,
     "metadata": {},
     "output_type": "execute_result"
    }
   ],
   "source": [
    "from collections import OrderedDict\n",
    "\n",
    "d = OrderedDict({'banana': 3, 'apple': 4, 'pear': 1, 'orange': 2})\n",
    "d"
   ]
  },
  {
   "cell_type": "code",
   "execution_count": 12,
   "metadata": {},
   "outputs": [
    {
     "data": {
      "text/plain": [
       "OrderedDict([('banana', 3),\n",
       "             ('apple', 4),\n",
       "             ('pear', 1),\n",
       "             ('orange', 2),\n",
       "             ('cherry', 8)])"
      ]
     },
     "execution_count": 12,
     "metadata": {},
     "output_type": "execute_result"
    }
   ],
   "source": [
    "d['cherry'] = 8\n",
    "d"
   ]
  },
  {
   "cell_type": "code",
   "execution_count": 13,
   "metadata": {},
   "outputs": [
    {
     "name": "stdout",
     "output_type": "stream",
     "text": [
      "banana 3\n",
      "apple 4\n",
      "pear 1\n",
      "orange 2\n",
      "cherry 8\n"
     ]
    },
    {
     "data": {
      "text/plain": [
       "odict_keys(['banana', 'apple', 'pear', 'orange', 'cherry'])"
      ]
     },
     "execution_count": 13,
     "metadata": {},
     "output_type": "execute_result"
    }
   ],
   "source": [
    "for k, v in d.items():\n",
    "    print(k, v)\n",
    "\n",
    "d.keys()"
   ]
  },
  {
   "cell_type": "code",
   "execution_count": 14,
   "metadata": {},
   "outputs": [
    {
     "data": {
      "text/plain": [
       "4"
      ]
     },
     "execution_count": 14,
     "metadata": {},
     "output_type": "execute_result"
    }
   ],
   "source": [
    "d.pop('apple')"
   ]
  },
  {
   "cell_type": "code",
   "execution_count": 15,
   "metadata": {},
   "outputs": [
    {
     "data": {
      "text/plain": [
       "OrderedDict([('banana', 3), ('pear', 1), ('orange', 2), ('cherry', 8)])"
      ]
     },
     "execution_count": 15,
     "metadata": {},
     "output_type": "execute_result"
    }
   ],
   "source": [
    "d"
   ]
  },
  {
   "cell_type": "markdown",
   "metadata": {},
   "source": [
    "## defaultdict\n",
    "\n",
    "在普通的 dict 之上添加了 default_factory，使得 key 不存在时会自动生成相应类型的 value，default_factory 参数可以指定成 list, set, int 等各种合法类型\n",
    "\n",
    "作用类似于 dict 中的 set_default 方法，代码更优雅一些\n",
    "\n",
    "```python\n",
    "collections.defaultdict([default_factory[, …]])\n",
    "```"
   ]
  },
  {
   "cell_type": "code",
   "execution_count": 16,
   "metadata": {},
   "outputs": [
    {
     "data": {
      "text/plain": [
       "defaultdict(<function __main__.<lambda>()>, {})"
      ]
     },
     "execution_count": 16,
     "metadata": {},
     "output_type": "execute_result"
    }
   ],
   "source": [
    "from collections import defaultdict\n",
    "\n",
    "d = defaultdict(lambda: None)\n",
    "d"
   ]
  },
  {
   "cell_type": "code",
   "execution_count": 17,
   "metadata": {},
   "outputs": [
    {
     "name": "stdout",
     "output_type": "stream",
     "text": [
      "None\n"
     ]
    }
   ],
   "source": [
    "d['a']\n",
    "\n",
    "print(d['b'])"
   ]
  },
  {
   "cell_type": "code",
   "execution_count": 18,
   "metadata": {},
   "outputs": [
    {
     "data": {
      "text/plain": [
       "defaultdict(<function __main__.<lambda>()>, {'a': None, 'b': None})"
      ]
     },
     "execution_count": 18,
     "metadata": {},
     "output_type": "execute_result"
    }
   ],
   "source": [
    "d"
   ]
  },
  {
   "cell_type": "code",
   "execution_count": 19,
   "metadata": {},
   "outputs": [
    {
     "data": {
      "text/plain": [
       "0"
      ]
     },
     "execution_count": 19,
     "metadata": {},
     "output_type": "execute_result"
    },
    {
     "data": {
      "text/plain": [
       "defaultdict(int, {'hello': 0})"
      ]
     },
     "execution_count": 19,
     "metadata": {},
     "output_type": "execute_result"
    }
   ],
   "source": [
    "d = defaultdict(int)\n",
    "d[\"hello\"]\n",
    "\n",
    "d"
   ]
  },
  {
   "cell_type": "markdown",
   "metadata": {},
   "source": [
    "## ChainMap\n",
    "\n",
    "合成多个 dict 类似于 update 方法，只不过不是inplace实现，且效率更高\n",
    "\n",
    "```python\n",
    "collections.ChainMap(*maps)\n",
    "```"
   ]
  },
  {
   "cell_type": "code",
   "execution_count": 20,
   "metadata": {},
   "outputs": [],
   "source": [
    "from collections import ChainMap\n",
    "\n",
    "dict1 = { 'a' : 1, 'b' : 2 }\n",
    "dict2 = { 'b' : 3, 'c' : 4 }\n",
    "chain = ChainMap(dict1, dict2)"
   ]
  },
  {
   "cell_type": "code",
   "execution_count": 21,
   "metadata": {},
   "outputs": [
    {
     "data": {
      "text/plain": [
       "ChainMap({'a': 1, 'b': 2}, {'b': 3, 'c': 4})"
      ]
     },
     "execution_count": 21,
     "metadata": {},
     "output_type": "execute_result"
    }
   ],
   "source": [
    "chain"
   ]
  },
  {
   "cell_type": "code",
   "execution_count": 22,
   "metadata": {},
   "outputs": [
    {
     "data": {
      "text/plain": [
       "[{'a': 1, 'b': 2}, {'b': 3, 'c': 4}]"
      ]
     },
     "execution_count": 22,
     "metadata": {},
     "output_type": "execute_result"
    }
   ],
   "source": [
    "chain.maps"
   ]
  },
  {
   "cell_type": "code",
   "execution_count": 23,
   "metadata": {},
   "outputs": [
    {
     "data": {
      "text/plain": [
       "KeysView(ChainMap({'a': 1, 'b': 2}, {'b': 3, 'c': 4}))"
      ]
     },
     "execution_count": 23,
     "metadata": {},
     "output_type": "execute_result"
    }
   ],
   "source": [
    "chain.keys()"
   ]
  },
  {
   "cell_type": "code",
   "execution_count": 24,
   "metadata": {},
   "outputs": [
    {
     "data": {
      "text/plain": [
       "['c', 'a', 'b']"
      ]
     },
     "execution_count": 24,
     "metadata": {},
     "output_type": "execute_result"
    }
   ],
   "source": [
    "list(chain.keys())"
   ]
  },
  {
   "cell_type": "code",
   "execution_count": 25,
   "metadata": {},
   "outputs": [
    {
     "data": {
      "text/plain": [
       "2"
      ]
     },
     "execution_count": 25,
     "metadata": {},
     "output_type": "execute_result"
    },
    {
     "data": {
      "text/plain": [
       "1"
      ]
     },
     "execution_count": 25,
     "metadata": {},
     "output_type": "execute_result"
    },
    {
     "data": {
      "text/plain": [
       "4"
      ]
     },
     "execution_count": 25,
     "metadata": {},
     "output_type": "execute_result"
    }
   ],
   "source": [
    "chain['b']  # 获取的是第一个字典中的值\n",
    "\n",
    "chain['a']\n",
    "\n",
    "chain['c']"
   ]
  },
  {
   "cell_type": "code",
   "execution_count": 26,
   "metadata": {},
   "outputs": [
    {
     "data": {
      "text/plain": [
       "ChainMap({'a': 1, 'b': 2, 'd': 5, 'e': 6}, {'b': 3, 'c': 4})"
      ]
     },
     "execution_count": 26,
     "metadata": {},
     "output_type": "execute_result"
    }
   ],
   "source": [
    "chain['d'] = 5\n",
    "chain['e'] = 6  # 被添加到了第一个字典中\n",
    "chain"
   ]
  },
  {
   "cell_type": "code",
   "execution_count": 27,
   "metadata": {},
   "outputs": [
    {
     "data": {
      "text/plain": [
       "ChainMap({'a': 1, 'b': 8, 'd': 5, 'e': 6}, {'b': 3, 'c': 4})"
      ]
     },
     "execution_count": 27,
     "metadata": {},
     "output_type": "execute_result"
    }
   ],
   "source": [
    "chain['b'] = 8  # 修改了第一个字典中的值\n",
    "chain"
   ]
  },
  {
   "cell_type": "code",
   "execution_count": 28,
   "metadata": {},
   "outputs": [
    {
     "data": {
      "text/plain": [
       "ChainMap({'g': 10}, {'a': 1, 'b': 8, 'd': 5, 'e': 6}, {'b': 3, 'c': 4})"
      ]
     },
     "execution_count": 28,
     "metadata": {},
     "output_type": "execute_result"
    }
   ],
   "source": [
    "m = chain.new_child()  # 复制一个 ChainMap 对象\n",
    "m['g'] = 10\n",
    "m"
   ]
  },
  {
   "cell_type": "code",
   "execution_count": 29,
   "metadata": {},
   "outputs": [
    {
     "data": {
      "text/plain": [
       "ChainMap({'a': 1, 'b': 8, 'd': 5, 'e': 6}, {'b': 3, 'c': 4})"
      ]
     },
     "execution_count": 29,
     "metadata": {},
     "output_type": "execute_result"
    }
   ],
   "source": [
    "chain"
   ]
  },
  {
   "cell_type": "code",
   "execution_count": 30,
   "metadata": {},
   "outputs": [
    {
     "data": {
      "text/plain": [
       "ChainMap({'h': 5}, {'a': 1, 'b': 8, 'd': 5, 'e': 6}, {'b': 3, 'c': 4})"
      ]
     },
     "execution_count": 30,
     "metadata": {},
     "output_type": "execute_result"
    }
   ],
   "source": [
    "dict3 = { 'h' : 5 }\n",
    "new_chain = chain.new_child(dict3)  # 添加新字典\n",
    "new_chain"
   ]
  },
  {
   "cell_type": "markdown",
   "metadata": {},
   "source": [
    "有时用 ChainMap 替代 update 是个不错的选择，但是 ChainMap 的绝大多数方法都\n",
    "\n",
    "**只是在第一个字典上进行操作**"
   ]
  },
  {
   "cell_type": "markdown",
   "metadata": {},
   "source": [
    "## UserDict UserList UserString\n",
    "\n",
    "这三个类是分别对 dict、list、str 三种数据类型的包装，其主要是为方便用户实现自己的数据类型。在 Python2 之前，这三个类分别位于 UserDict、UserList、UserString 三个模块中，需要用类似于 from UserDict import UserDict 的方式导入。在 Python3 之后则被挪到了 collections 模块中。这三个类都是基类，如果用户要扩展这三种类型，只需继承这三个类即可。"
   ]
  },
  {
   "cell_type": "markdown",
   "metadata": {},
   "source": [
    "References:\n",
    "\n",
    ">- [Python 模块简介  collections](http://kuanghy.github.io/2017/03/03/python-collections)"
   ]
  }
 ],
 "metadata": {
  "kernelspec": {
   "display_name": "Python 3",
   "language": "python",
   "name": "python3"
  },
  "language_info": {
   "codemirror_mode": {
    "name": "ipython",
    "version": 3
   },
   "file_extension": ".py",
   "mimetype": "text/x-python",
   "name": "python",
   "nbconvert_exporter": "python",
   "pygments_lexer": "ipython3",
   "version": "3.6.6"
  },
  "toc": {
   "base_numbering": 1,
   "nav_menu": {
    "height": "258.991px",
    "width": "265.994px"
   },
   "number_sections": true,
   "sideBar": true,
   "skip_h1_title": false,
   "title_cell": "Table of Contents",
   "title_sidebar": "Contents",
   "toc_cell": true,
   "toc_position": {},
   "toc_section_display": true,
   "toc_window_display": false
  }
 },
 "nbformat": 4,
 "nbformat_minor": 2
}
