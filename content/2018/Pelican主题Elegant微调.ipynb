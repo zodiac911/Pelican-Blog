{
 "cells": [
  {
   "cell_type": "markdown",
   "metadata": {},
   "source": [
    "<div align=\"center\">  <img src=\"http://image-bed-zodiac.oss-cn-qingdao.aliyuncs.com/2018101904.png\" width=\"1000\"/> </div><br>"
   ]
  },
  {
   "cell_type": "markdown",
   "metadata": {},
   "source": [
    ">本文主要介绍elegant主题的一些细节设置。\n",
    "\n",
    "Pelican是一款使用Python开发的静态网站生成工具，其社区贡献了很多优秀的主题，其中大多数都是开箱即用的，也就是在pelicanconf.py文件中添加一行`THEME=\"themename\"`，但其中这款elegant主题不在此列，要想使用elegant还需要进行一些细节上的设置。\n",
    "\n",
    "我在博文[Pelican+GitHubPages搭建个人博客](static-blog.html)中简单记录了使用Pelican搭配GitHub Pages搭建个人博客并使用elegant主题的过程，不过搭建完成后的博客还有一些问题，比如搜索、下拉分类栏等功能在Chrome里无法使用，因为Chrome认为这些功能需要加载不安全的脚本。\n",
    "\n",
    "针对这些问题对博客进行一点设置上的微调，以尽可能发挥 elegant 主题的特性。"
   ]
  },
  {
   "cell_type": "markdown",
   "metadata": {
    "toc": true
   },
   "source": [
    "<h1>Table of Contents<span class=\"tocSkip\"></span></h1>\n",
    "<div class=\"toc\"><ul class=\"toc-item\"><li><span><a href=\"#搜索和Categories页下拉菜单\" data-toc-modified-id=\"搜索和Categories页下拉菜单-1\"><span class=\"toc-item-num\">1&nbsp;&nbsp;</span>搜索和Categories页下拉菜单</a></span></li><li><span><a href=\"#HomePage功能\" data-toc-modified-id=\"HomePage功能-2\"><span class=\"toc-item-num\">2&nbsp;&nbsp;</span>HomePage功能</a></span></li><li><span><a href=\"#Table-of-Contents\" data-toc-modified-id=\"Table-of-Contents-3\"><span class=\"toc-item-num\">3&nbsp;&nbsp;</span>Table of Contents</a></span></li><li><span><a href=\"#favicon\" data-toc-modified-id=\"favicon-4\"><span class=\"toc-item-num\">4&nbsp;&nbsp;</span>favicon</a></span></li><li><span><a href=\"#publishconf.py-参数解析\" data-toc-modified-id=\"publishconf.py-参数解析-5\"><span class=\"toc-item-num\">5&nbsp;&nbsp;</span>publishconf.py 参数解析</a></span></li><li><span><a href=\"#修改css\" data-toc-modified-id=\"修改css-6\"><span class=\"toc-item-num\">6&nbsp;&nbsp;</span>修改css</a></span></li><li><span><a href=\"#Issue\" data-toc-modified-id=\"Issue-7\"><span class=\"toc-item-num\">7&nbsp;&nbsp;</span>Issue</a></span><ul class=\"toc-item\"><li><span><a href=\"#search-功能返回-undefined-地址\" data-toc-modified-id=\"search-功能返回-undefined-地址-7.1\"><span class=\"toc-item-num\">7.1&nbsp;&nbsp;</span>search 功能返回 undefined 地址</a></span></li></ul></li></ul></div>"
   ]
  },
  {
   "cell_type": "markdown",
   "metadata": {},
   "source": [
    "## 搜索和Categories页下拉菜单\n",
    "\n",
    "任何稍微专业一点的博客都需要搜索功能，因为一旦文章多起来以后，寻找文章时搜索是必不可少的；分类页面的下拉式显示是为了分清主次，不将信息一股脑全部显示出来。\n",
    "\n",
    "这些功能都需要使用jQuery，而Elegant主题默认的Templates里面加载jQuery时统一使用了http的方式，所以被Chrome认为是不安全的，只要在相应文件中将http替换为https即可。\n",
    "\n",
    "需要修改的地方分别位于base.html和search.html文件中。\n",
    "\n",
    "**注意templates中会多次引用 publishconf.py 文件中的 SITEURL 参数，记得一定填写为 `https://username.github.io`**\n",
    "\n",
    "**此问题作者已经修复，无需更改**"
   ]
  },
  {
   "cell_type": "markdown",
   "metadata": {},
   "source": [
    "## HomePage功能\n",
    "\n",
    "elegant的HomePage主要包括三个分区：\n",
    "\n",
    "- About me\n",
    "- Projects\n",
    "- Recent Posts\n",
    "\n",
    "其中 About me 和 Projects 都是 `pelicanconf.py` 文件中的一个参数，参数内容设置为一段 Html 语句即可。"
   ]
  },
  {
   "cell_type": "markdown",
   "metadata": {},
   "source": [
    "## Table of Contents\n",
    "\n",
    "这一功能通常来说只需添加 extract_toc 插件并且在 markdown文件中添加一行 `[TOC]`即可，不过由于我使用ipynb文件，所以目前还无法解决，只能在Notebook内生成Table of Contents"
   ]
  },
  {
   "cell_type": "markdown",
   "metadata": {},
   "source": [
    "## favicon\n",
    "\n",
    "按照[文档](http://oncrashreboot.com/elegant-best-pelican-theme-features#favicon-and-speed-dial-icon)进行设置。把icon文件放置到`content/theme/images`文件夹，并且在`pelicanconf.py`文件中添加如下一行\n",
    "\n",
    "```py\n",
    "STATIC_PATHS = ['theme/images', 'images']\n",
    "```\n",
    "即可，但是你会发现，即使这样也还是无法正确显示`favicon.ico`这是因为，在templates中对是否显示icon进行了一次判断，需要用到`USE_SHORTCUT_ICONS`变量，正确的设置应该是添加如下两行\n",
    "\n",
    "```py\n",
    "STATIC_PATHS = ['theme/images', 'images']\n",
    "USE_SHORTCUT_ICONS=True\n",
    "```"
   ]
  },
  {
   "cell_type": "markdown",
   "metadata": {},
   "source": [
    "## publishconf.py 参数解析\n",
    "\n",
    "```py\n",
    "SITEURL = '' #博客网站根地址\n",
    "RELATIVE_URLS = False # 是否使用相对路径，主要影响本地调试博客时页面内的链接是否为相对路径,以及tipue_search生成的json文件等\n",
    "\n",
    "DELETE_OUTPUT_DIRECTORY = False # 是否清空output文件夹并重新生成\n",
    "```"
   ]
  },
  {
   "cell_type": "markdown",
   "metadata": {},
   "source": [
    "## 修改css\n",
    "\n",
    "实际上，如果懂一点css或者js就可以修改Elegant主题的任何内容，我不是太懂，只修改了一些字体和颜色\n",
    "\n",
    "`pelican-elegant/static/custom.css`\n",
    "\n",
    "```\n",
    "@import url('https://fonts.googleapis.com/css?family=Oswald');\n",
    "\n",
    "/* site title */\n",
    ".site-name {\n",
    "    font-family: 'PT Sans', 'Calibri', 'Tahoma', 'Arial', 'Sans-Serif';\n",
    "}\n",
    "\n",
    ".article-content, div.recent-posts p {\n",
    "    font: 1.2em/1.6em 'Source Sans Pro', Helvetica, Roboto, 'Calibri', 'Tahoma', 'Arial', 'Sans-Serif';\n",
    "    text-align: justify;\n",
    "}\n",
    "\n",
    "h1,\n",
    "h2,\n",
    "h3,\n",
    "h4,\n",
    "h5,\n",
    "h6 {\n",
    "    font-family: 'Oswald', 'Arial Narrow', Helvetica, sans-serif;\n",
    "    font-weight: normal;\n",
    "}\n",
    "\n",
    ".table-of-content .toc {\n",
    "    font-size: 1em;\n",
    "}\n",
    "```\n",
    "\n",
    "`pelican-elegant/static/elegant.css`\n",
    "\n",
    "修改page header为`#EA4329`"
   ]
  },
  {
   "cell_type": "markdown",
   "metadata": {},
   "source": [
    "## Issue\n",
    "\n",
    "### search 功能返回 undefined 地址\n",
    "\n",
    "经检查，实际上 tipue_search 生成的json文件内，url 参数正常.\n",
    "\n",
    "问题的可能原因是 tipuesearch.js 的 217 行 `found[c++] = score + '^' + tipuesearch_in.pages[i].title + '^' + s_t + '^' + tipuesearch_in.pages[i].loc;`引用了 loc 参数，但实际上 loc参数不存在。\n",
    "\n",
    "**解决办法**\n",
    "\n",
    "在 `pelican-plugins/tipue_search/tipue_search.py` 文件内 `def create_tpage_node` 和 `def create_json_node` 函数内添加 loc 参数\n",
    "\n",
    "```python\n",
    "node = {'title': page_title, 'text': page_text, 'tags': page_category, 'url': page_url, 'loc': page_url}\n",
    "```\n",
    "\n",
    "具体见：[Tipue search return undefined url #147](https://github.com/talha131/pelican-elegant/issues/147)"
   ]
  },
  {
   "cell_type": "markdown",
   "metadata": {},
   "source": [
    "完整配置可以参考博客源文件 [zodiac911/Pelican-Blog](https://github.com/zodiac911/Pelican-Blog) "
   ]
  },
  {
   "cell_type": "markdown",
   "metadata": {},
   "source": [
    "References:\n",
    "> - [Tweaking Pelican Elegant Theme](https://wayofnumbers.github.io/Tweak-Pelican-Elegant-Theme.html#table-of-contents)"
   ]
  }
 ],
 "metadata": {
  "kernelspec": {
   "display_name": "Python 3",
   "language": "python",
   "name": "python3"
  },
  "language_info": {
   "codemirror_mode": {
    "name": "ipython",
    "version": 3
   },
   "file_extension": ".py",
   "mimetype": "text/x-python",
   "name": "python",
   "nbconvert_exporter": "python",
   "pygments_lexer": "ipython3",
   "version": "3.6.6"
  },
  "toc": {
   "base_numbering": 1,
   "nav_menu": {},
   "number_sections": true,
   "sideBar": true,
   "skip_h1_title": false,
   "title_cell": "Table of Contents",
   "title_sidebar": "Contents",
   "toc_cell": true,
   "toc_position": {},
   "toc_section_display": true,
   "toc_window_display": false
  }
 },
 "nbformat": 4,
 "nbformat_minor": 2
}
