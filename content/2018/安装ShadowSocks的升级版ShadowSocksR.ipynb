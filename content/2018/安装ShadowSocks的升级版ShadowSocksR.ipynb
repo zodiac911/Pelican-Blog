{
 "cells": [
  {
   "cell_type": "markdown",
   "metadata": {},
   "source": [
    "我在博文[VPS搭建ShadowSocks服务实现科学上网ipv6 enabled](https://zodiac911.github.io/blog/vps-shadowsocks.html)介绍了VPS上搭建 ShadowSocks 并安装必要加速算法的教程，但如今面对越来越复杂的网络环境，ShadowSocks 有些显现疲态，升级版的算法 ShadowSocksR 已经问世，相比 ShadowSocks 能够更好的处理复杂的网络环境。\n",
    "\n",
    "## ShadowSocks和ShadowSocksR的区别\n",
    "\n",
    "ShadowSocks原版在更新到 v2.5.8 之后被“相关部门”约谈喝茶了，于是就停止了更新。但是应网友要求，另一个开发者把 v2.5.8 的一些严重BUG修复了更新为 v3.0，然后宣布不再管了。\n",
    "\n",
    "ShadowSocks原版本身，也是具有协议和混淆功能的，也就是原版协议/混淆，只是只有一个不能自行选择，并且全靠作者维护，作者喝茶后，就GG了，其他的接手者只是继续完善其他的功能。\n",
    "\n",
    "而ShadowSocksR是在 原版作者喝茶前，由另一个程序员 @breakwa11 制作的第三方版本，主要特点是增加了一些人性化功能，比如服务器连接统计、连接管理、协议转换、多重代理等。\n",
    "\n",
    "最主要的是ShadowSocksR的混淆协议和插件功能，因为ShadowSocks原版项目已经无人维护，同时 墙 的工作人员也在不停的寻找效率批量匹配特征的方法，目前SS原版协议在大部分地区已经被 匹配流量特征QOS限速了。\n",
    "\n",
    "所以ShadowSocksR的混淆协议和插件就应运而生，其目的就是欺骗 墙 目前的流量匹配功能和QOS限速。\n",
    "\n",
    "需要说明的是，ShadowSocksR目前最新的协议和混淆是会增加延迟和损耗15%的速度(因为混淆需要时间，越复杂的混淆越不容易被墙发现，同时混淆时间越长)，所以如果你没有限速，或许用原版协议和混淆会更好。可以理解为在原版协议的基础上加强了混淆功能，所以在部分地区只有使用ShadowSocksR的混淆功能才能达到最佳速度，当然不同地区也不一样，所以最好都试试！"
   ]
  },
  {
   "cell_type": "markdown",
   "metadata": {
    "toc": true
   },
   "source": [
    "<h1>Table of Contents<span class=\"tocSkip\"></span></h1>\n",
    "<div class=\"toc\"><ul class=\"toc-item\"><li><span><a href=\"#ShadowSocks和ShadowSocksR的区别\" data-toc-modified-id=\"ShadowSocks和ShadowSocksR的区别-1\"><span class=\"toc-item-num\">1&nbsp;&nbsp;</span>ShadowSocks和ShadowSocksR的区别</a></span></li><li><span><a href=\"#安装-ShadowSocksR\" data-toc-modified-id=\"安装-ShadowSocksR-2\"><span class=\"toc-item-num\">2&nbsp;&nbsp;</span>安装 ShadowSocksR</a></span></li><li><span><a href=\"#速度测试\" data-toc-modified-id=\"速度测试-3\"><span class=\"toc-item-num\">3&nbsp;&nbsp;</span>速度测试</a></span></li></ul></div>"
   ]
  },
  {
   "cell_type": "markdown",
   "metadata": {},
   "source": [
    "## 安装 ShadowSocksR"
   ]
  },
  {
   "cell_type": "markdown",
   "metadata": {},
   "source": [
    "使用[秋水逸冰](https://raw.githubusercontent.com/teddysun/shadowsocks_install/master/shadowsocksR.sh)的脚本一键安装\n",
    "\n",
    "```shell\n",
    "wget --no-check-certificate https://raw.githubusercontent.com/teddysun/shadowsocks_install/master/shadowsocksR.sh\n",
    "chmod +x shadowsocksR.sh\n",
    "./shadowsocksR.sh 2>&1 | tee shadowsocksR.log\n",
    "```\n",
    "\n",
    "\n",
    "注意，客户端也需要使用ssr的客户端，否则不能发挥所有新特性\n",
    "\n",
    "客户端：\n",
    "- [Windows](https://github.com/shadowsocksrr/shadowsocksr-csharp/releases)\n",
    "- [Linux](https://github.com/librehat/shadowsocks-qt5)\n",
    "- [Android/iOS](https://github.com/shadowsocks/shadowsocks-android)\n",
    "\n",
    "\n",
    "使用\n",
    "```shell\n",
    "启动：/etc/init.d/shadowsocks start\n",
    "停止：/etc/init.d/shadowsocks stop\n",
    "重启：/etc/init.d/shadowsocks restart\n",
    "状态：/etc/init.d/shadowsocks status\n",
    "```"
   ]
  },
  {
   "cell_type": "markdown",
   "metadata": {},
   "source": [
    "后续还需要安装BBR，见[VPS上搭建ShadowSocks服务器[ipv6 enabled]全过程](https://zodiac911.github.io/vps-shadowsocks.html)"
   ]
  },
  {
   "cell_type": "markdown",
   "metadata": {},
   "source": [
    "## 速度测试\n",
    "\n",
    "```shell\n",
    "wget -qO- bench.sh | bash\n",
    "```\n",
    "\n",
    "[源代码](https://raw.githubusercontent.com/teddysun/across/master/bench.sh)\n",
    "\n",
    "**是的你没有看错，bench.sh既是脚本名也是域名**"
   ]
  },
  {
   "cell_type": "markdown",
   "metadata": {},
   "source": [
    "References:\n",
    "> - [Shadowsocks非官方网站](https://shadowsocks.be/9.html)"
   ]
  }
 ],
 "metadata": {
  "kernelspec": {
   "display_name": "Python 3",
   "language": "python",
   "name": "python3"
  },
  "language_info": {
   "codemirror_mode": {
    "name": "ipython",
    "version": 3
   },
   "file_extension": ".py",
   "mimetype": "text/x-python",
   "name": "python",
   "nbconvert_exporter": "python",
   "pygments_lexer": "ipython3",
   "version": "3.5.5"
  },
  "toc": {
   "base_numbering": 1,
   "nav_menu": {},
   "number_sections": true,
   "sideBar": true,
   "skip_h1_title": false,
   "title_cell": "Table of Contents",
   "title_sidebar": "Contents",
   "toc_cell": true,
   "toc_position": {},
   "toc_section_display": true,
   "toc_window_display": false
  },
  "widgets": {
   "state": {},
   "version": "1.1.2"
  }
 },
 "nbformat": 4,
 "nbformat_minor": 2
}
