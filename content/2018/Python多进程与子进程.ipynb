{
 "cells": [
  {
   "cell_type": "markdown",
   "metadata": {},
   "source": [
    "> 本文为使用Python多进程时临时抱佛脚的内容"
   ]
  },
  {
   "cell_type": "markdown",
   "metadata": {
    "toc": true
   },
   "source": [
    "<h1>Table of Contents<span class=\"tocSkip\"></span></h1>\n",
    "<div class=\"toc\"><ul class=\"toc-item\"><li><span><a href=\"#多进程multiprocessing\" data-toc-modified-id=\"多进程multiprocessing-1\"><span class=\"toc-item-num\">1&nbsp;&nbsp;</span>多进程multiprocessing</a></span></li><li><span><a href=\"#子进程subprocess\" data-toc-modified-id=\"子进程subprocess-2\"><span class=\"toc-item-num\">2&nbsp;&nbsp;</span>子进程subprocess</a></span></li><li><span><a href=\"#进程间通信\" data-toc-modified-id=\"进程间通信-3\"><span class=\"toc-item-num\">3&nbsp;&nbsp;</span>进程间通信</a></span></li></ul></div>"
   ]
  },
  {
   "cell_type": "markdown",
   "metadata": {},
   "source": [
    "本笔记需要在 Linux 环境下运行"
   ]
  },
  {
   "cell_type": "markdown",
   "metadata": {},
   "source": [
    "Unix/Linux操作系统提供了一个fork()系统调用，它非常特殊。普通的函数调用，调用一次，返回一次，但是fork()调用一次，返回两次，因为**操作系统自动把当前进程（称为父进程）复制了一份（称为子进程），然后，分别在父进程和子进程内返回**。\n",
    "\n",
    "子进程永远返回0，而父进程返回子进程的ID。这样做的理由是，一个父进程可以fork出很多子进程，所以，父进程要记下每个子进程的ID，而子进程只需要调用getppid()就可以拿到父进程的ID。\n",
    "\n",
    "Python的os模块封装了常见的系统调用，其中就包括fork，可以在Python程序中轻松创建子进程："
   ]
  },
  {
   "cell_type": "code",
   "execution_count": 1,
   "metadata": {},
   "outputs": [],
   "source": [
    "from boxx import what"
   ]
  },
  {
   "cell_type": "code",
   "execution_count": 2,
   "metadata": {},
   "outputs": [
    {
     "name": "stdout",
     "output_type": "stream",
     "text": [
      "Process (53256) start...\n",
      "I (53256) just created a child process (53287).\n",
      "I am child process (53287) and my parent is 53256.\n"
     ]
    }
   ],
   "source": [
    "import os\n",
    "\n",
    "print('Process (%s) start...' % os.getpid())\n",
    "# Only works on Unix/Linux/Mac:\n",
    "pid = os.fork()\n",
    "if pid == 0:\n",
    "    print('I am child process (%s) and my parent is %s.' % (os.getpid(), os.getppid()))\n",
    "else:\n",
    "    print('I (%s) just created a child process (%s).' % (os.getpid(), pid))"
   ]
  },
  {
   "cell_type": "markdown",
   "metadata": {},
   "source": [
    "Windows 没有 fork 调用，上面的代码在 Windows 上无法运行。在 Linux 下运行是没有问题的。\n",
    "\n",
    "有了 fork 调用，一个进程在接到新任务时就可以复制出一个子进程来处理新任务，常见的 Apache 服务器就是由父进程监听端口，每当有新的 http 请求时，就 fork 出子进程来处理新的 http 请求。"
   ]
  },
  {
   "cell_type": "markdown",
   "metadata": {},
   "source": [
    "# 多进程multiprocessing\n",
    "\n",
    "编写多进程的服务程序，Unix/Linux 无疑是正确的选择\n",
    "\n",
    "不过由于 Python 是跨平台的，自然也应该提供一个跨平台的多进程支持。multiprocessing 模块就是跨平台版本的多进程模块。\n",
    "\n",
    "multiprocessing 模块提供了一个 Process 类来代表一个进程对象，下面的例子演示了启动一个子进程并等待其结束："
   ]
  },
  {
   "cell_type": "code",
   "execution_count": 3,
   "metadata": {},
   "outputs": [
    {
     "name": "stdout",
     "output_type": "stream",
     "text": [
      "Parent process 53256.\n",
      "Child process will start.\n",
      "Run child process test (53290)...\n",
      "Child process end.\n"
     ]
    }
   ],
   "source": [
    "from multiprocessing import Process\n",
    "import os\n",
    "\n",
    "# 子进程要执行的代码\n",
    "def run_proc(name):\n",
    "    print('Run child process %s (%s)...' % (name, os.getpid()))\n",
    "\n",
    "if __name__=='__main__':\n",
    "    print('Parent process %s.' % os.getpid())\n",
    "    p = Process(target=run_proc, args=('test',))\n",
    "    print('Child process will start.')\n",
    "    p.start()\n",
    "    p.join()\n",
    "    print('Child process end.')"
   ]
  },
  {
   "cell_type": "markdown",
   "metadata": {},
   "source": [
    "创建子进程时，只需要传入一个执行函数和函数的参数，创建一个 Process 实例，用 start() 方法启动，这样创建进程比 fork() 还要简单。\n",
    "\n",
    "join() 方法可以等待子进程结束后再继续往下运行，通常用于进程间的同步。"
   ]
  },
  {
   "cell_type": "code",
   "execution_count": 4,
   "metadata": {},
   "outputs": [
    {
     "name": "stdout",
     "output_type": "stream",
     "text": [
      "Parent process 53256.\n",
      "Run task 1 (53294)...\n",
      "Run task 5 (53298)...\n",
      "Run task 2 (53295)...\n",
      "Run task 4 (53297)...\n",
      "Run task 0 (53293)...\n",
      "Run task 6 (53299)...\n",
      "Run task 8 (53301)...\n",
      "Run task 3 (53296)...\n",
      "Run task 7 (53300)...\n",
      "Run task 10 (53303)...\n",
      "Run task 9 (53302)...\n",
      "Run task 11 (53304)...\n",
      "Waiting for all subprocesses done...\n",
      "Task 1 runs 0.29 seconds.\n",
      "Run task 12 (53294)...\n",
      "Task 7 runs 0.31 seconds.\n",
      "Task 5 runs 0.83 seconds.\n",
      "Task 2 runs 1.02 seconds.\n",
      "Task 9 runs 1.23 seconds.\n",
      "Task 3 runs 1.43 seconds.\n",
      "Task 10 runs 1.70 seconds.\n",
      "Task 6 runs 1.78 seconds.\n",
      "Task 12 runs 1.75 seconds.\n",
      "Task 0 runs 2.12 seconds.\n",
      "Task 11 runs 2.31 seconds.\n",
      "Task 8 runs 2.33 seconds.\n",
      "Task 4 runs 2.65 seconds.\n",
      "All subprocesses done.\n"
     ]
    }
   ],
   "source": [
    "from multiprocessing import Pool\n",
    "import os, time, random\n",
    "\n",
    "def long_time_task(name):\n",
    "    print('Run task %s (%s)...' % (name, os.getpid()))\n",
    "    start = time.time()\n",
    "    time.sleep(random.random() * 3)\n",
    "    end = time.time()\n",
    "    print('Task %s runs %0.2f seconds.' % (name, (end - start)))\n",
    "    return name*2\n",
    "\n",
    "if __name__=='__main__':\n",
    "    print('Parent process %s.' % os.getpid())\n",
    "    p = Pool()\n",
    "    res = [0]*13\n",
    "    for i in range(13):\n",
    "        res[i] = p.apply_async(long_time_task, args=(i,))\n",
    "    print('Waiting for all subprocesses done...')\n",
    "    p.close()\n",
    "    p.join()\n",
    "    print('All subprocesses done.')"
   ]
  },
  {
   "cell_type": "markdown",
   "metadata": {},
   "source": [
    "看一下res"
   ]
  },
  {
   "cell_type": "code",
   "execution_count": 5,
   "metadata": {},
   "outputs": [
    {
     "data": {
      "text/plain": [
       "[<multiprocessing.pool.ApplyResult at 0x7efd36094048>,\n",
       " <multiprocessing.pool.ApplyResult at 0x7efd716db710>,\n",
       " <multiprocessing.pool.ApplyResult at 0x7efd716db7b8>,\n",
       " <multiprocessing.pool.ApplyResult at 0x7efd716db860>,\n",
       " <multiprocessing.pool.ApplyResult at 0x7efd716db908>,\n",
       " <multiprocessing.pool.ApplyResult at 0x7efd716db9b0>,\n",
       " <multiprocessing.pool.ApplyResult at 0x7efd716dba58>,\n",
       " <multiprocessing.pool.ApplyResult at 0x7efd716dbb38>,\n",
       " <multiprocessing.pool.ApplyResult at 0x7efd716dbc18>,\n",
       " <multiprocessing.pool.ApplyResult at 0x7efd716dbcf8>,\n",
       " <multiprocessing.pool.ApplyResult at 0x7efd716dbdd8>,\n",
       " <multiprocessing.pool.ApplyResult at 0x7efd716dbeb8>,\n",
       " <multiprocessing.pool.ApplyResult at 0x7efd716dbf98>]"
      ]
     },
     "execution_count": 5,
     "metadata": {},
     "output_type": "execute_result"
    }
   ],
   "source": [
    "res"
   ]
  },
  {
   "cell_type": "code",
   "execution_count": 6,
   "metadata": {},
   "outputs": [
    {
     "name": "stdout",
     "output_type": "stream",
     "text": [
      "----------\u001b[36mend of what(\u001b[0m\u001b[35m\"[<multiprocessing.pool.Appl...\"\u001b[0m\u001b[36m)\u001b[0m----------\n",
      "\u001b[36mAttrs: \u001b[0m\n",
      "└── \u001b[31mlist\u001b[0m: \u001b[36m46 attrs, \u001b[30mBuilt-in mutable sequence.↳↳If no argum...\u001b[0m\n",
      "    ├── \u001b[31m__add__\u001b[0m: \u001b[36mmethod-wrapper : \u001b[30mReturn self+value.\u001b[0m\u001b[0m\n",
      "    ├── \u001b[31m__class__\u001b[0m: \u001b[36m<class 'list'>\u001b[0m\n",
      "    ├── \u001b[31m__contains__\u001b[0m: \u001b[36mmethod-wrapper : \u001b[30mReturn key in self.\u001b[0m\u001b[0m\n",
      "    ├── \u001b[31m__delattr__\u001b[0m: \u001b[36mmethod-wrapper : \u001b[30mImplement delattr(self, n...\u001b[0m\n",
      "    ├── \u001b[31m__delitem__\u001b[0m: \u001b[36mmethod-wrapper : \u001b[30mDelete self[key].\u001b[0m\u001b[0m\n",
      "    ├── \u001b[31m__dir__\u001b[0m: \u001b[36mbuiltin-method : \u001b[30mDefault dir() implementat...\u001b[0m\n",
      "    ├── \u001b[31m__doc__\u001b[0m: \u001b[36mBuilt-in mutable sequence.↳↳If no argument is g...\u001b[0m\n",
      "    ├── \u001b[31m__eq__\u001b[0m: \u001b[36mmethod-wrapper : \u001b[30mReturn self==value.\u001b[0m\u001b[0m\n",
      "    ├── \u001b[31m__format__\u001b[0m: \u001b[36mbuiltin-method : \u001b[30mDefault object formatter....\u001b[0m\n",
      "    ├── \u001b[31m__ge__\u001b[0m: \u001b[36mmethod-wrapper : \u001b[30mReturn self>=value.\u001b[0m\u001b[0m\n",
      "    ├── \u001b[31m__getattribute__\u001b[0m: \u001b[36mmethod-wrapper : \u001b[30mReturn getattr(self, name...\u001b[0m\n",
      "    ├── \u001b[31m__getitem__\u001b[0m: \u001b[36mbuiltin-method : \u001b[30mx.__getitem__(y) <==> x[y...\u001b[0m\n",
      "    ├── \u001b[31m__gt__\u001b[0m: \u001b[36mmethod-wrapper : \u001b[30mReturn self>value.\u001b[0m\u001b[0m\n",
      "    ├── \u001b[31m__hash__\u001b[0m: \u001b[36mNone\u001b[0m\n",
      "    ├── \u001b[31m__iadd__\u001b[0m: \u001b[36mmethod-wrapper : \u001b[30mImplement self+=value.\u001b[0m\u001b[0m\n",
      "    ├── \u001b[31m__imul__\u001b[0m: \u001b[36mmethod-wrapper : \u001b[30mImplement self*=value.\u001b[0m\u001b[0m\n",
      "    ├── \u001b[31m__init__\u001b[0m: \u001b[36mmethod-wrapper : \u001b[30mInitialize self.  See hel...\u001b[0m\n",
      "    ├── \u001b[31m__init_subclass__\u001b[0m: \u001b[36mbuiltin-method : \u001b[30mThis method is called whe...\u001b[0m\n",
      "    ├── \u001b[31m__iter__\u001b[0m: \u001b[36mmethod-wrapper : \u001b[30mImplement iter(self).\u001b[0m\u001b[0m\n",
      "    ├── \u001b[31m__le__\u001b[0m: \u001b[36mmethod-wrapper : \u001b[30mReturn self<=value.\u001b[0m\u001b[0m\n",
      "    ├── \u001b[31m__len__\u001b[0m: \u001b[36mmethod-wrapper : \u001b[30mReturn len(self).\u001b[0m\u001b[0m\n",
      "    ├── \u001b[31m__lt__\u001b[0m: \u001b[36mmethod-wrapper : \u001b[30mReturn self<value.\u001b[0m\u001b[0m\n",
      "    ├── \u001b[31m__mul__\u001b[0m: \u001b[36mmethod-wrapper : \u001b[30mReturn self*value.\u001b[0m\u001b[0m\n",
      "    ├── \u001b[31m__ne__\u001b[0m: \u001b[36mmethod-wrapper : \u001b[30mReturn self!=value.\u001b[0m\u001b[0m\n",
      "    ├── \u001b[31m__new__\u001b[0m: \u001b[36mbuiltin-method : \u001b[30mCreate and return a new o...\u001b[0m\n",
      "    ├── \u001b[31m__reduce__\u001b[0m: \u001b[36mbuiltin-method : \u001b[30mHelper for pickle.\u001b[0m\u001b[0m\n",
      "    ├── \u001b[31m__reduce_ex__\u001b[0m: \u001b[36mbuiltin-method : \u001b[30mHelper for pickle.\u001b[0m\u001b[0m\n",
      "    ├── \u001b[31m__repr__\u001b[0m: \u001b[36mmethod-wrapper : \u001b[30mReturn repr(self).\u001b[0m\u001b[0m\n",
      "    ├── \u001b[31m__reversed__\u001b[0m: \u001b[36mbuiltin-method : \u001b[30mReturn a reverse iterator...\u001b[0m\n",
      "    ├── \u001b[31m__rmul__\u001b[0m: \u001b[36mmethod-wrapper : \u001b[30mReturn value*self.\u001b[0m\u001b[0m\n",
      "    ├── \u001b[31m__setattr__\u001b[0m: \u001b[36mmethod-wrapper : \u001b[30mImplement setattr(self, n...\u001b[0m\n",
      "    ├── \u001b[31m__setitem__\u001b[0m: \u001b[36mmethod-wrapper : \u001b[30mSet self[key] to value.\u001b[0m\u001b[0m\n",
      "    ├── \u001b[31m__sizeof__\u001b[0m: \u001b[36mbuiltin-method : \u001b[30mReturn the size of the li...\u001b[0m\n",
      "    ├── \u001b[31m__str__\u001b[0m: \u001b[36mmethod-wrapper : \u001b[30mReturn str(self).\u001b[0m\u001b[0m\n",
      "    ├── \u001b[31m__subclasshook__\u001b[0m: \u001b[36mbuiltin-method : \u001b[30mAbstract classes can over...\u001b[0m\n",
      "    ├── \u001b[31mappend\u001b[0m: \u001b[36mbuiltin-method : \u001b[30mAppend object to the end ...\u001b[0m\n",
      "    ├── \u001b[31mclear\u001b[0m: \u001b[36mbuiltin-method : \u001b[30mRemove all items from lis...\u001b[0m\n",
      "    ├── \u001b[31mcopy\u001b[0m: \u001b[36mbuiltin-method : \u001b[30mReturn a shallow copy of ...\u001b[0m\n",
      "    ├── \u001b[31mcount\u001b[0m: \u001b[36mbuiltin-method : \u001b[30mReturn number of occurren...\u001b[0m\n",
      "    ├── \u001b[31mextend\u001b[0m: \u001b[36mbuiltin-method : \u001b[30mExtend list by appending ...\u001b[0m\n",
      "    ├── \u001b[31mindex\u001b[0m: \u001b[36mbuiltin-method : \u001b[30mReturn first index of val...\u001b[0m\n",
      "    ├── \u001b[31minsert\u001b[0m: \u001b[36mbuiltin-method : \u001b[30mInsert object before inde...\u001b[0m\n",
      "    ├── \u001b[31mpop\u001b[0m: \u001b[36mbuiltin-method : \u001b[30mRemove and return item at...\u001b[0m\n",
      "    ├── \u001b[31mremove\u001b[0m: \u001b[36mbuiltin-method : \u001b[30mRemove first occurrence o...\u001b[0m\n",
      "    ├── \u001b[31mreverse\u001b[0m: \u001b[36mbuiltin-method : \u001b[30mReverse *IN PLACE*.\u001b[0m\u001b[0m\n",
      "    └── \u001b[31msort\u001b[0m: \u001b[36mbuiltin-method : \u001b[30mStable sort *IN PLACE*.\u001b[0m\u001b[0m\n",
      "\n",
      "\n",
      "\u001b[36mDocument: \n",
      "\u001b[0m└── Built-in mutable sequence.\n",
      "     \n",
      "     If no argument is given, the constructor creates a new empty list.\n",
      "     The argument must be an iterable if specified.\n",
      "\n",
      "\u001b[36mInner Struct:\n",
      "\u001b[0m└── /: \u001b[36mlist  13\u001b[0m\n",
      "    ├── 0: \u001b[31m<multiprocessing.pool.ApplyResult object a...\u001b[0m\n",
      "    ├── 1: \u001b[31m<multiprocessing.pool.ApplyResult object a...\u001b[0m\n",
      "    ├── 2: \u001b[31m<multiprocessing.pool.ApplyResult object a...\u001b[0m\n",
      "    ├── 3: \u001b[31m<multiprocessing.pool.ApplyResult object a...\u001b[0m\n",
      "    ├── 4: \u001b[31m<multiprocessing.pool.ApplyResult object a...\u001b[0m\n",
      "    ├── 5: \u001b[31m<multiprocessing.pool.ApplyResult object a...\u001b[0m\n",
      "    ├── \u001b[31m···\n",
      "\u001b[0m    ├── \u001b[31m···\n",
      "\u001b[0m    ├── \u001b[31m···\n",
      "\u001b[0m    ├── \u001b[31m···\n",
      "\u001b[0m    ├── \u001b[36m\u001b[31mHidden 1 of all 13\u001b[0m\u001b[0m\n",
      "    ├── \u001b[31m···\n",
      "\u001b[0m    ├── \u001b[31m···\n",
      "\u001b[0m    ├── \u001b[31m···\n",
      "\u001b[0m    ├── \u001b[31m···\n",
      "\u001b[0m\n",
      "    ├── 7: \u001b[31m<multiprocessing.pool.ApplyResult object a...\u001b[0m\n",
      "    ├── 8: \u001b[31m<multiprocessing.pool.ApplyResult object a...\u001b[0m\n",
      "    ├── 9: \u001b[31m<multiprocessing.pool.ApplyResult object a...\u001b[0m\n",
      "    ├── 10: \u001b[31m<multiprocessing.pool.ApplyResult object a...\u001b[0m\n",
      "    ├── 11: \u001b[31m<multiprocessing.pool.ApplyResult object a...\u001b[0m\n",
      "    └── 12: \u001b[31m<multiprocessing.pool.ApplyResult object a...\u001b[0m\n",
      "\n",
      "\n",
      "\u001b[36mClasses: \n",
      "\u001b[0m└── \u001b[31mInstance\u001b[0m of \u001b[35mlist\u001b[0m <-\u001b[35mobject\u001b[0m\n",
      "\n",
      "\u001b[36mTo Str: \n",
      "\u001b[0m└── \"[<multiprocessing.pool.ApplyResult object at 0x7efd36094048>, <multiprocessing.pool.ApplyResult object at 0x7efd716db710>, <multiprocessing.pool.ApplyResult object at 0x7efd716db7b8>, <multiprocessing.pool.ApplyResult object at 0x7efd716db860>, <multiprocessing.pool.ApplyResult object at 0x7efd716db908>, <multiprocessing.pool.ApplyResult object at 0x7efd716db9b0>, <multiprocessing.pool.ApplyResult object at 0x7efd716dba58>, <multiprocessing.pool.ApplyResult object at 0x7efd716dbb38>, <multiprocessing.pool.ApplyResult object at 0x7efd716dbc18>, <multiprocessing.pool.ApplyResult object at 0x7efd716dbcf8>, <multiprocessing.pool.ApplyResult object at 0x7efd716dbdd8>, <multiprocessing.pool.ApplyResult object at 0x7efd716dbeb8>, <multiprocessing.pool.ApplyResult object at 0x7efd716dbf98>]\"\n",
      "\n"
     ]
    }
   ],
   "source": [
    "what(res)"
   ]
  },
  {
   "cell_type": "code",
   "execution_count": 7,
   "metadata": {},
   "outputs": [
    {
     "data": {
      "text/plain": [
       "[0, 2, 4, 6, 8, 10, 12, 14, 16, 18, 20, 22, 24]"
      ]
     },
     "execution_count": 7,
     "metadata": {},
     "output_type": "execute_result"
    }
   ],
   "source": [
    "realres = list(map(lambda x:x.get(), res))\n",
    "realres"
   ]
  },
  {
   "cell_type": "markdown",
   "metadata": {},
   "source": [
    "get 函数用于读取结果"
   ]
  },
  {
   "cell_type": "markdown",
   "metadata": {},
   "source": [
    "对 Pool 对象调用 join() 方法会等待所有子进程执行完毕，调用 join() 之前必须先调用 close()，调用 close() 之后就不能继续添加新的 Process了。\n",
    "\n",
    "由于Pool的默认大小是CPU的核数，所以会立即执行 CPU 核心数个 task\n",
    "\n",
    "p = Pool(5) 就可以同时跑5个进程。"
   ]
  },
  {
   "cell_type": "markdown",
   "metadata": {},
   "source": [
    "# 子进程subprocess\n",
    "\n",
    "很多时候，子进程并不是自身，而是一个外部进程。我们创建了子进程后，还需要控制子进程的输入和输出。\n",
    "\n",
    "subprocess模块可以让我们非常方便地启动一个子进程，然后控制其输入和输出。\n",
    "\n",
    "下面的例子演示了如何在Python代码中运行命令nslookup www.python.org \n",
    "\n",
    "这和命令行直接运行的效果是一样的："
   ]
  },
  {
   "cell_type": "code",
   "execution_count": 8,
   "metadata": {},
   "outputs": [
    {
     "name": "stdout",
     "output_type": "stream",
     "text": [
      "$ nslookup www.python.org\n",
      "Exit code: 0\n"
     ]
    }
   ],
   "source": [
    "import subprocess\n",
    "\n",
    "print('$ nslookup www.python.org')\n",
    "r = subprocess.call(['nslookup', 'www.python.org'])\n",
    "print('Exit code:', r)"
   ]
  },
  {
   "cell_type": "markdown",
   "metadata": {},
   "source": [
    "如果子进程还需要输入，则可以通过communicate()方法输入："
   ]
  },
  {
   "cell_type": "code",
   "execution_count": 9,
   "metadata": {},
   "outputs": [
    {
     "name": "stdout",
     "output_type": "stream",
     "text": [
      "$ nslookup\n",
      "Server:\t\t127.0.0.53\n",
      "Address:\t127.0.0.53#53\n",
      "\n",
      "Non-authoritative answer:\n",
      "python.org\tmail exchanger = 50 mail.python.org.\n",
      "\n",
      "Authoritative answers can be found from:\n",
      "\n",
      "\n",
      "Exit code: 0\n"
     ]
    }
   ],
   "source": [
    "import subprocess\n",
    "\n",
    "print('$ nslookup')\n",
    "p = subprocess.Popen(['nslookup'], stdin=subprocess.PIPE, stdout=subprocess.PIPE, stderr=subprocess.PIPE)\n",
    "output, err = p.communicate(b'set q=mx\\npython.org\\nexit\\n')\n",
    "print(output.decode('utf-8'))\n",
    "print('Exit code:', p.returncode)"
   ]
  },
  {
   "cell_type": "markdown",
   "metadata": {},
   "source": [
    "# 进程间通信\n",
    "\n",
    "Process 之间肯定是需要通信的，操作系统提供了很多机制来实现进程间的通信。Python 的multiprocessing 模块包装了底层的机制，提供了 Queue、Pipes 等多种方式来交换数据。\n",
    "\n",
    "以 Queue 为例，在父进程中创建两个子进程，一个往 Queue 里写数据，一个从 Queue 里读数据："
   ]
  },
  {
   "cell_type": "code",
   "execution_count": 10,
   "metadata": {},
   "outputs": [
    {
     "name": "stdout",
     "output_type": "stream",
     "text": [
      "Process to write: 53368\n",
      "Put A to queue...\n",
      "Process to read: 53371\n",
      "Get A from queue.\n",
      "Put B to queue...\n",
      "Get B from queue.\n",
      "Put C to queue...\n",
      "Get C from queue.\n"
     ]
    }
   ],
   "source": [
    "from multiprocessing import Process, Queue\n",
    "import os, time, random\n",
    "\n",
    "# 写数据进程执行的代码:\n",
    "def write(q):\n",
    "    print('Process to write: %s' % os.getpid())\n",
    "    \n",
    "    for value in ['A', 'B', 'C']:\n",
    "        print('Put %s to queue...' % value)\n",
    "        q.put(value)\n",
    "        time.sleep(random.random())\n",
    "\n",
    "# 读数据进程执行的代码:\n",
    "def read(q):\n",
    "    print('Process to read: %s' % os.getpid())\n",
    "    \n",
    "    while True:\n",
    "        value = q.get(True)\n",
    "        print('Get %s from queue.' % value)\n",
    "\n",
    "if __name__=='__main__':\n",
    "    # 父进程创建Queue，并传给各个子进程：\n",
    "    q = Queue()\n",
    "    pw = Process(target=write, args=(q,))\n",
    "    pr = Process(target=read, args=(q,))\n",
    "    \n",
    "    # 启动子进程pw，写入:\n",
    "    pw.start()\n",
    "    # 启动子进程pr，读取:\n",
    "    pr.start()\n",
    "    # 等待pw结束:\n",
    "    pw.join()\n",
    "    # pr进程里是死循环，无法等待其结束，只能强行终止:\n",
    "    pr.terminate()"
   ]
  },
  {
   "cell_type": "markdown",
   "metadata": {},
   "source": [
    "对于 异步进程 如 apply_async 或 map，通讯则有些不同，函数的传入参数是副本，即子进程对参数的改变不会影响父进程中的变量，这和Python中普遍的按引用传递参数不同。"
   ]
  },
  {
   "cell_type": "code",
   "execution_count": 11,
   "metadata": {},
   "outputs": [
    {
     "name": "stdout",
     "output_type": "stream",
     "text": [
      "before [0, 0, 0, 0, 0]\n",
      "before [0, 0, 0, 0, 0]\n",
      "before [0, 0, 0, 0, 0]\n",
      "before [0, 0, 0, 0, 0]\n",
      "before [0, 0, 0, 0, 0]\n",
      "after [0, 0, 0, 0, 4]\n",
      "after [0, 0, 0, 0, 0]\n",
      "after [0, 1, 0, 0, 0]\n",
      "after [0, 0, 0, 3, 0]\n",
      "after [0, 0, 2, 0, 0]\n",
      "\n",
      "After all [0, 0, 0, 0, 0]\n"
     ]
    }
   ],
   "source": [
    "def func(ls,i):\n",
    "    print('before', ls)\n",
    "    ls[i] = i\n",
    "    print('after', ls)\n",
    "    return ls\n",
    "\n",
    "ls = [0]*5\n",
    "p = Pool()\n",
    "res = [0]*5\n",
    "for i in range(5):\n",
    "    res[i] = p.apply_async(func, args=(ls, i)) \n",
    "p.close()\n",
    "p.join()\n",
    "            \n",
    "print('\\nAfter all', ls)"
   ]
  },
  {
   "cell_type": "code",
   "execution_count": 12,
   "metadata": {},
   "outputs": [
    {
     "data": {
      "text/plain": [
       "[<multiprocessing.pool.ApplyResult at 0x7efd360949b0>,\n",
       " <multiprocessing.pool.ApplyResult at 0x7efd716e0518>,\n",
       " <multiprocessing.pool.ApplyResult at 0x7efd716e05c0>,\n",
       " <multiprocessing.pool.ApplyResult at 0x7efd716e0668>,\n",
       " <multiprocessing.pool.ApplyResult at 0x7efd716e0710>]"
      ]
     },
     "execution_count": 12,
     "metadata": {},
     "output_type": "execute_result"
    }
   ],
   "source": [
    "res"
   ]
  },
  {
   "cell_type": "code",
   "execution_count": 13,
   "metadata": {},
   "outputs": [
    {
     "data": {
      "text/plain": [
       "[[0, 0, 0, 0, 0],\n",
       " [0, 1, 0, 0, 0],\n",
       " [0, 0, 2, 0, 0],\n",
       " [0, 0, 0, 3, 0],\n",
       " [0, 0, 0, 0, 4]]"
      ]
     },
     "execution_count": 13,
     "metadata": {},
     "output_type": "execute_result"
    }
   ],
   "source": [
    "realres = list(map(lambda x:x.get(), res))\n",
    "realres"
   ]
  },
  {
   "cell_type": "markdown",
   "metadata": {},
   "source": [
    "在 Unix/Linux 下，multiprocessing 模块封装了 fork() 调用，使我们不需要关注 fork() 的细节。\n",
    "\n",
    "**由于 Windows 没有fork调用，因此，multiprocessing 需要“模拟”出 fork 的效果，父进程所有 Python 对象都必须通过 pickle 序列化再传到子进程去，所有，如果 multiprocessing 在 Windows 下调用失败了，首先考虑是不是 pickle失败了**"
   ]
  },
  {
   "cell_type": "markdown",
   "metadata": {},
   "source": [
    "Examples from [multiprocessing](https://docs.python.org/3.6/library/multiprocessing.html)"
   ]
  },
  {
   "cell_type": "code",
   "execution_count": 14,
   "metadata": {},
   "outputs": [
    {
     "name": "stdout",
     "output_type": "stream",
     "text": [
      "[1, 4, 9]\n"
     ]
    }
   ],
   "source": [
    "from multiprocessing import Pool\n",
    "\n",
    "def f(x):\n",
    "    return x*x\n",
    "\n",
    "if __name__ == \"__main__\":\n",
    "    p = Pool(5)\n",
    "    print(list(p.map(f, [1,2,3])))"
   ]
  },
  {
   "cell_type": "code",
   "execution_count": 15,
   "metadata": {},
   "outputs": [
    {
     "name": "stdout",
     "output_type": "stream",
     "text": [
      "[0, 1, 4, 9, 16, 25, 36, 49, 64, 81]\n",
      "0\n",
      "1\n",
      "4\n",
      "16\n",
      "9\n",
      "25\n",
      "36\n",
      "64\n",
      "49\n",
      "81\n",
      "400\n",
      "PID 53433\n",
      "[53430, 53432, 53430, 53431]\n",
      "We lacked patience and got a multiprocessing.TimeoutError\n",
      "For the moment, the pool remains available for more work\n",
      "Now the pool is closed and no longer available\n"
     ]
    }
   ],
   "source": [
    "from multiprocessing import Pool, TimeoutError\n",
    "import time\n",
    "import os\n",
    "\n",
    "def f(x):\n",
    "    return x*x\n",
    "\n",
    "if __name__ == '__main__':\n",
    "    # start 4 worker processes\n",
    "    with Pool(processes=4) as pool:\n",
    "\n",
    "        # print \"[0, 1, 4,..., 81]\"\n",
    "        print(pool.map(f, range(10)))\n",
    "\n",
    "        # print same numbers in arbitrary order\n",
    "        for i in pool.imap_unordered(f, range(10)):\n",
    "            print(i)\n",
    "\n",
    "        # evaluate \"f(20)\" asynchronously\n",
    "        res = pool.apply_async(f, (20,))      # runs in *only* one process\n",
    "        print(res.get(timeout=1))             # prints \"400\"\n",
    "\n",
    "        # evaluate \"os.getpid()\" asynchronously\n",
    "        res = pool.apply_async(os.getpid, ()) # runs in *only* one process\n",
    "        print('PID', res.get(timeout=1))             # prints the PID of that process\n",
    "\n",
    "        # launching multiple evaluations asynchronously *may* use more processes\n",
    "        multiple_results = [pool.apply_async(os.getpid, ()) for i in range(4)]\n",
    "        print([res.get(timeout=1) for res in multiple_results])\n",
    "\n",
    "        # make a single worker sleep for 10 secs\n",
    "        res = pool.apply_async(time.sleep, (5,))\n",
    "        try:\n",
    "            print(res.get(timeout=4))\n",
    "        except TimeoutError:\n",
    "            print(\"We lacked patience and got a multiprocessing.TimeoutError\")\n",
    "\n",
    "        print(\"For the moment, the pool remains available for more work\")\n",
    "\n",
    "    # exiting the 'with'-block has stopped the pool\n",
    "    print(\"Now the pool is closed and no longer available\")"
   ]
  },
  {
   "cell_type": "markdown",
   "metadata": {},
   "source": [
    "- 在Unix/Linux下，可以使用fork()调用实现多进程。\n",
    "\n",
    "- 要实现跨平台的多进程，可以使用multiprocessing模块。\n",
    "\n",
    "- 进程间通信是通过Queue、Pipes等实现的"
   ]
  },
  {
   "cell_type": "markdown",
   "metadata": {},
   "source": [
    "References:\n",
    "\n",
    ">- [廖雪峰 Python3 多进程](https://www.liaoxuefeng.com/wiki/0014316089557264a6b348958f449949df42a6d3a2e542c000/001431927781401bb47ccf187b24c3b955157bb12c5882d000)\n",
    "- [multiprocessing](https://docs.python.org/3.6/library/multiprocessing.html)"
   ]
  }
 ],
 "metadata": {
  "kernelspec": {
   "display_name": "Python 3",
   "language": "python",
   "name": "python3"
  },
  "language_info": {
   "codemirror_mode": {
    "name": "ipython",
    "version": 3
   },
   "file_extension": ".py",
   "mimetype": "text/x-python",
   "name": "python",
   "nbconvert_exporter": "python",
   "pygments_lexer": "ipython3",
   "version": "3.7.0"
  },
  "toc": {
   "base_numbering": 1,
   "nav_menu": {},
   "number_sections": true,
   "sideBar": true,
   "skip_h1_title": false,
   "title_cell": "Table of Contents",
   "title_sidebar": "Contents",
   "toc_cell": true,
   "toc_position": {},
   "toc_section_display": true,
   "toc_window_display": false
  }
 },
 "nbformat": 4,
 "nbformat_minor": 2
}
