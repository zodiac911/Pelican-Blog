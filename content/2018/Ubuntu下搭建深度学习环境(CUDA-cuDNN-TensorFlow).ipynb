{
 "cells": [
  {
   "cell_type": "markdown",
   "metadata": {},
   "source": [
    "最近开始想自己做点实际的深度学习项目了，奈何没有GPU啊。找老板配了一台1080Ti的主机，送来预装的是Win10系统。虽然在Win下也可以搞深度学习，但总觉得没有跟上潮流，而且各种软件的安装管理确实也没有Ubuntu下方便，于是装双系统，在Ubuntu环境下搭建CUDA，cuDNN，TensorFlow深度学习环境。\n",
    "\n",
    "以下是具体步骤记录，防止以后重复造轮子\n",
    "\n",
    "20190515 Update:\n",
    "\n",
    "备选方案\n",
    "[Ubuntu18.04深度学习环境配置(简易方式)](https://mp.weixin.qq.com/s/RNnAtnkfejH_fS1wPGG4Hw)"
   ]
  },
  {
   "cell_type": "markdown",
   "metadata": {
    "toc": true
   },
   "source": [
    "<h1>Table of Contents<span class=\"tocSkip\"></span></h1>\n",
    "<div class=\"toc\"><ul class=\"toc-item\"><li><span><a href=\"#Ubuntu环境下CUDA-cuDNN-TensorFlow安装\" data-toc-modified-id=\"Ubuntu环境下CUDA-cuDNN-TensorFlow安装-1\"><span class=\"toc-item-num\">1&nbsp;&nbsp;</span>Ubuntu环境下CUDA-cuDNN-TensorFlow安装</a></span><ul class=\"toc-item\"><li><span><a href=\"#第一步：安装nvdia-driver\" data-toc-modified-id=\"第一步：安装nvdia-driver-1.1\"><span class=\"toc-item-num\">1.1&nbsp;&nbsp;</span>第一步：安装nvdia driver</a></span></li><li><span><a href=\"#第二步：安装CUDA\" data-toc-modified-id=\"第二步：安装CUDA-1.2\"><span class=\"toc-item-num\">1.2&nbsp;&nbsp;</span>第二步：安装CUDA</a></span><ul class=\"toc-item\"><li><span><a href=\"#下载-CUDA\" data-toc-modified-id=\"下载-CUDA-1.2.1\"><span class=\"toc-item-num\">1.2.1&nbsp;&nbsp;</span>下载 CUDA</a></span></li><li><span><a href=\"#运行.run文件进行安装\" data-toc-modified-id=\"运行.run文件进行安装-1.2.2\"><span class=\"toc-item-num\">1.2.2&nbsp;&nbsp;</span>运行<code>.run</code>文件进行安装</a></span></li><li><span><a href=\"#设置环境变量\" data-toc-modified-id=\"设置环境变量-1.2.3\"><span class=\"toc-item-num\">1.2.3&nbsp;&nbsp;</span>设置环境变量</a></span></li><li><span><a href=\"#检查-CUDA-是否安装成功\" data-toc-modified-id=\"检查-CUDA-是否安装成功-1.2.4\"><span class=\"toc-item-num\">1.2.4&nbsp;&nbsp;</span>检查 CUDA 是否安装成功</a></span></li></ul></li><li><span><a href=\"#安装-cnDNN\" data-toc-modified-id=\"安装-cnDNN-1.3\"><span class=\"toc-item-num\">1.3&nbsp;&nbsp;</span>安装 cnDNN</a></span><ul class=\"toc-item\"><li><span><a href=\"#下载-cnDNN\" data-toc-modified-id=\"下载-cnDNN-1.3.1\"><span class=\"toc-item-num\">1.3.1&nbsp;&nbsp;</span>下载 cnDNN</a></span></li></ul></li><li><span><a href=\"#安装-TensorFlow\" data-toc-modified-id=\"安装-TensorFlow-1.4\"><span class=\"toc-item-num\">1.4&nbsp;&nbsp;</span>安装 TensorFlow</a></span></li><li><span><a href=\"#已知问题\" data-toc-modified-id=\"已知问题-1.5\"><span class=\"toc-item-num\">1.5&nbsp;&nbsp;</span>已知问题</a></span></li></ul></li></ul></div>"
   ]
  },
  {
   "cell_type": "markdown",
   "metadata": {},
   "source": [
    "# Ubuntu环境下CUDA-cuDNN-TensorFlow安装"
   ]
  },
  {
   "cell_type": "markdown",
   "metadata": {},
   "source": [
    "由于目前TensorFlow只支持CUDA9.0，故安装CUDA9.0+TensorFlow组合，如果安装了太新的CUDA会导致TensorFlow无法import\n",
    "\n",
    "网上有一些提前编译的适用CUDA9.2的TF whl，但是为了稳定，不尝试"
   ]
  },
  {
   "cell_type": "markdown",
   "metadata": {},
   "source": [
    "## 第一步：安装nvdia driver\n",
    "\n",
    "最简单的方法就是在 Ubuntu的“软件与更新”里安装驱动如图\n",
    "\n",
    "<div align=\"center\">  <img src=\"http://image-bed-zodiac.oss-cn-qingdao.aliyuncs.com/18-9-12/89437707.jpg\" width=\"500\"/> </div><br>"
   ]
  },
  {
   "cell_type": "markdown",
   "metadata": {},
   "source": [
    "## 第二步：安装CUDA\n",
    "\n",
    "### 下载 CUDA\n",
    "\n",
    "从[CUDA Archive](https://developer.nvidia.com/cuda-toolkit-archive) 下载对应版本的CUDA安装包，我使用的是 run file\n",
    "\n",
    "<div align=\"center\">  <img src=\"http://image-bed-zodiac.oss-cn-qingdao.aliyuncs.com/18-9-12/52507130.jpg\" width=\"500\"/> </div><br>"
   ]
  },
  {
   "cell_type": "markdown",
   "metadata": {},
   "source": [
    "### 运行`.run`文件进行安装\n",
    "\n",
    "```shell\n",
    "sudo sh cuda_9.0.176_384.81_linux.run\n",
    "```\n",
    "\n",
    "过程中会有一些选项\n",
    "\n",
    "```shell\n",
    "You are attempting to install on an unsupported configuration. Do you wish to continue?\n",
    "(y)es/(n)o [ default is no ]: y\n",
    "\n",
    "Install NVIDIA Accelerated Graphics Driver for Linux-x86_64 396.26?\n",
    "(y)es/(n)o/(q)uit: n\n",
    "\n",
    "Install the CUDA 9.0 Toolkit?\n",
    "(y)es/(n)o/(q)uit: y\n",
    "\n",
    "Enter Toolkit Location\n",
    " [ default is /usr/local/cuda-9.0 ]:\n",
    "\n",
    "Do you want to install a symbolic link at /usr/local/cuda?\n",
    "(y)es/(n)o/(q)uit: y\n",
    "\n",
    "Install the CUDA 9.0 Samples?\n",
    "(y)es/(n)o/(q)uit: y\n",
    "\n",
    "Enter CUDA Samples Location\n",
    " [ default is /home/kinghorn ]: /usr/local/cuda-9.0\n",
    "```\n",
    "\n",
    "**一定要注意第二个选项 是否安装 NVIDIA Accelerated Graphics Driver，选择 n 不要安装**因为我们已经使用Ubuntu驱动管理安装过显卡驱动了"
   ]
  },
  {
   "cell_type": "markdown",
   "metadata": {},
   "source": [
    "之后再将剩下的补丁也装上\n",
    "\n",
    "```shell\n",
    "sudo sh cuda_9.0.176.1_linux.run\n",
    "```"
   ]
  },
  {
   "cell_type": "markdown",
   "metadata": {},
   "source": [
    "### 设置环境变量\n",
    "\n",
    "```shell\n",
    "$ echo 'export PATH=/usr/local/cuda-9.0/bin${PATH:+:${PATH}}' >> ~/.bashrc\n",
    "\n",
    "# 64位系统\n",
    "\n",
    "$ echo 'export LD_LIBRARY_PATH=/usr/local/cuda-9.0/lib64${LD_LIBRARY_PATH:+:${LD_LIBRARY_PATH}}' >> ~/.bashrc\n",
    "\n",
    "$ source ~/.bashrc # 更新PATH\n",
    "```"
   ]
  },
  {
   "cell_type": "markdown",
   "metadata": {},
   "source": [
    "重启电脑\n",
    "\n",
    "输入命令\n",
    "\n",
    "```shell\n",
    "$ nvidia-smi\n",
    "```\n",
    "会显示显卡信息"
   ]
  },
  {
   "cell_type": "markdown",
   "metadata": {},
   "source": [
    "### 检查 CUDA 是否安装成功\n",
    "\n",
    "1 检查 cuda-toolkit 是否安装成功\n",
    "\n",
    "```shell\n",
    "nvcc -V\n",
    "```\n",
    "\n",
    "应该会输出 cuda 版本信息\n",
    "\n",
    "2 运行 sample\n",
    "\n",
    "进入 sample 文件夹\n",
    "\n",
    "```shell\n",
    "make\n",
    "```\n",
    "\n",
    "**已知问题**：nvcc依赖gcc<6 但是目前系统的gcc版本太高，需要安装低版本gcc并链接\n",
    "\n",
    "```shell\n",
    "$ sudo ln -s /usr/bin/gcc-4.9 /usr/local/cuda/bin/gcc\n",
    "\n",
    "$ sudo ln -s /usr/bin/g++-4.9 /usr/local/cuda/bin/g++\n",
    "```\n",
    "\n",
    "一切正常的话，应该编译通过\n",
    "\n",
    "运行deviceQuery 和 bandwidthTest 程序"
   ]
  },
  {
   "cell_type": "markdown",
   "metadata": {},
   "source": [
    "## 安装 cnDNN\n",
    "\n",
    "### 下载 cnDNN\n",
    "\n",
    "从[cnDNN Archive](https://developer.nvidia.com/rdp/cudnn-archive)下载对应版本cnDNN\n",
    "\n",
    "解压文件，将指定文件移动到 CUDA 文件夹并给予权限\n",
    "\n",
    "```shell\n",
    "$ tar -xzvf cudnn-9.0-linux-x64-v7.tgz\n",
    "\n",
    "$ sudo cp cuda/include/cudnn.h /usr/local/cuda/include\n",
    "\n",
    "$ sudo cp cuda/lib64/libcudnn* /usr/local/cuda/lib64\n",
    "\n",
    "$ sudo chmod a+r /usr/local/cuda/include/cudnn.h /usr/local/cuda/lib64/libcudnn*\n",
    "```"
   ]
  },
  {
   "cell_type": "markdown",
   "metadata": {},
   "source": [
    "## 安装 TensorFlow\n",
    "\n",
    "使用 conda env 安装\n",
    "\n",
    "切换到相应环境，直接安装\n",
    "\n",
    "```shell\n",
    "source activate mypython3 # 激活Python环境，如果没有新建虚拟环境可省略此步骤\n",
    "\n",
    "pip install tensorflow-gpu --ignore-installed --upgrade\n",
    "```\n",
    "\n",
    "由于权限问题，可能需要使用`--user`选项\n",
    "\n",
    "```shell\n",
    "pip install tensorflow-gpu --ignore-installed --upgrade --user\n",
    "```\n"
   ]
  },
  {
   "cell_type": "markdown",
   "metadata": {},
   "source": [
    "References:\n",
    "\n",
    ">- [How to install CUDA 9.2 on Ubuntu 18.04](https://www.pugetsystems.com/labs/hpc/How-to-install-CUDA-9-2-on-Ubuntu-18-04-1184/)\n",
    "- https://docs.nvidia.com/cuda/cuda-installation-guide-linux/index.html\n",
    "- https://docs.nvidia.com/deeplearning/sdk/cudnn-install/index.html#install-linux"
   ]
  },
  {
   "cell_type": "markdown",
   "metadata": {},
   "source": [
    "## 已知问题"
   ]
  },
  {
   "cell_type": "markdown",
   "metadata": {},
   "source": [
    "安装cuda的时候，提示\n",
    "toolkit installation failed using unsupported compiler 这是因为GCC版本不合适\n",
    "\n",
    "解决的方法 直接在安装命令之后加-override\n",
    "\n",
    "```shell\n",
    "sudo sh cuda_9.0.176_384.81_linux.run -override\n",
    "```"
   ]
  },
  {
   "cell_type": "markdown",
   "metadata": {},
   "source": [
    "在 python 中 import tensorflow 提示\n",
    "\n",
    "ImportError: libcublas.so.9.0: cannot open shared object file: No such file or directory\n",
    "\n",
    "一般是因为 cuda 版本有问题，比如目前TF只支持CUDA9.0 却安装了CUDA9.2\n",
    "\n",
    "或是cuda没有添加到PATH中\n",
    "```shell\n",
    "\n",
    "export PATH=/usr/local/cuda-9.0/bin${PATH:+:${PATH}}\n",
    "export LD_LIBRARY_PATH=LD_LIBRARY_PATH:/usr/local/cuda-9.0/lib64/\n",
    "```"
   ]
  },
  {
   "cell_type": "markdown",
   "metadata": {},
   "source": [
    "如何完全卸载 nvidia driver [How can I uninstall a nvidia driver completely ?](https://askubuntu.com/questions/206283/how-can-i-uninstall-a-nvidia-driver-completely)"
   ]
  }
 ],
 "metadata": {
  "kernelspec": {
   "display_name": "Python 3",
   "language": "python",
   "name": "python3"
  },
  "language_info": {
   "codemirror_mode": {
    "name": "ipython",
    "version": 3
   },
   "file_extension": ".py",
   "mimetype": "text/x-python",
   "name": "python",
   "nbconvert_exporter": "python",
   "pygments_lexer": "ipython3",
   "version": "3.6.6"
  },
  "toc": {
   "base_numbering": 1,
   "nav_menu": {},
   "number_sections": true,
   "sideBar": true,
   "skip_h1_title": false,
   "title_cell": "Table of Contents",
   "title_sidebar": "Contents",
   "toc_cell": true,
   "toc_position": {},
   "toc_section_display": true,
   "toc_window_display": false
  }
 },
 "nbformat": 4,
 "nbformat_minor": 2
}
