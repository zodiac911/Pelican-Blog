{
 "cells": [
  {
   "cell_type": "markdown",
   "metadata": {},
   "source": [
    "<div align=\"center\">  <img src=\"http://image-bed-zodiac.oss-cn-qingdao.aliyuncs.com/18-10-10/68384384.jpg\" width=\"1200\"/> </div><br>"
   ]
  },
  {
   "cell_type": "markdown",
   "metadata": {},
   "source": [
    "一款非常好用的命令行Youtube视频下载工具"
   ]
  },
  {
   "cell_type": "markdown",
   "metadata": {
    "toc": true
   },
   "source": [
    "<h1>Table of Contents<span class=\"tocSkip\"></span></h1>\n",
    "<div class=\"toc\"><ul class=\"toc-item\"><li><span><a href=\"#获取目标地址音视频列表\" data-toc-modified-id=\"获取目标地址音视频列表-1\"><span class=\"toc-item-num\">1&nbsp;&nbsp;</span>获取目标地址音视频列表</a></span></li><li><span><a href=\"#按指定代码组合下载\" data-toc-modified-id=\"按指定代码组合下载-2\"><span class=\"toc-item-num\">2&nbsp;&nbsp;</span>按指定代码组合下载</a></span></li><li><span><a href=\"#下载字幕\" data-toc-modified-id=\"下载字幕-3\"><span class=\"toc-item-num\">3&nbsp;&nbsp;</span>下载字幕</a></span></li><li><span><a href=\"#合并字幕\" data-toc-modified-id=\"合并字幕-4\"><span class=\"toc-item-num\">4&nbsp;&nbsp;</span>合并字幕</a></span><ul class=\"toc-item\"><li><span><a href=\"#硬字幕\" data-toc-modified-id=\"硬字幕-4.1\"><span class=\"toc-item-num\">4.1&nbsp;&nbsp;</span>硬字幕</a></span></li><li><span><a href=\"#软字幕\" data-toc-modified-id=\"软字幕-4.2\"><span class=\"toc-item-num\">4.2&nbsp;&nbsp;</span>软字幕</a></span></li></ul></li><li><span><a href=\"#使用-aria2-多线程下载\" data-toc-modified-id=\"使用-aria2-多线程下载-5\"><span class=\"toc-item-num\">5&nbsp;&nbsp;</span>使用 aria2 多线程下载</a></span></li><li><span><a href=\"#下载视频列表中的视频\" data-toc-modified-id=\"下载视频列表中的视频-6\"><span class=\"toc-item-num\">6&nbsp;&nbsp;</span>下载视频列表中的视频</a></span></li><li><span><a href=\"#其他参数\" data-toc-modified-id=\"其他参数-7\"><span class=\"toc-item-num\">7&nbsp;&nbsp;</span>其他参数</a></span></li><li><span><a href=\"#注意事项\" data-toc-modified-id=\"注意事项-8\"><span class=\"toc-item-num\">8&nbsp;&nbsp;</span>注意事项</a></span></li></ul></div>"
   ]
  },
  {
   "cell_type": "markdown",
   "metadata": {},
   "source": [
    "系统要求\n",
    "- youtube-dl\n",
    "- ffmpeg 下载的音视频需要利用 ffmpeg 进行合并(youtube-dl 自动调用，当然也可以手动合并)\n",
    "\n",
    "```shell\n",
    "sudo apt install youtube-dl ffmpeg\n",
    "```"
   ]
  },
  {
   "cell_type": "markdown",
   "metadata": {},
   "source": [
    "## 获取目标地址音视频列表\n",
    "\n",
    "```shell\n",
    "youtube-dl -F [url]\n",
    "youtube-dl --list-formats [url]\n",
    "```\n",
    "\n",
    "例如\n",
    "\n",
    "```shell\n",
    "youtube-dl -F https://www.youtube.com/watch?v=pl1kcv780cY\n",
    "```\n",
    "\n",
    "\n",
    "    [youtube] pl1kcv780cY: Downloading webpage\n",
    "    [youtube] pl1kcv780cY: Downloading video info webpage\n",
    "    [info] Available formats for pl1kcv780cY:\n",
    "    format code  extension  resolution note\n",
    "    249          webm       audio only DASH audio   63k , opus @ 50k, 1.21MiB\n",
    "    250          webm       audio only DASH audio   81k , opus @ 70k, 1.58MiB\n",
    "    140          m4a        audio only DASH audio  127k , m4a_dash container, mp4a.40.2@128k, 3.00MiB\n",
    "    171          webm       audio only DASH audio  137k , vorbis@128k, 2.91MiB\n",
    "    251          webm       audio only DASH audio  152k , opus @160k, 3.09MiB\n",
    "    278          webm       256x144    144p   97k , webm container, vp9, 24fps, video only, 2.11MiB\n",
    "    160          mp4        256x144    144p  112k , avc1.4d400c, 24fps, video only, 1.70MiB\n",
    "    242          webm       426x240    240p  225k , vp9, 24fps, video only, 4.36MiB\n",
    "    133          mp4        426x240    240p  248k , avc1.4d4015, 24fps, video only, 3.35MiB\n",
    "    243          webm       640x360    360p  406k , vp9, 24fps, video only, 7.97MiB\n",
    "    134          mp4        640x360    360p  637k , avc1.4d401e, 24fps, video only, 8.99MiB\n",
    "    244          webm       854x480    480p  760k , vp9, 24fps, video only, 14.19MiB\n",
    "    135          mp4        854x480    480p 1181k , avc1.4d401e, 24fps, video only, 17.83MiB\n",
    "    247          webm       1280x720   720p 1518k , vp9, 24fps, video only, 28.22MiB\n",
    "    136          mp4        1280x720   720p 2363k , avc1.4d401f, 24fps, video only, 33.14MiB\n",
    "    248          webm       1920x1080  1080p 2700k , vp9, 24fps, video only, 50.37MiB\n",
    "    137          mp4        1920x1080  1080p 4397k , avc1.640028, 24fps, video only, 59.62MiB\n",
    "    271          webm       2560x1440  1440p 8920k , vp9, 24fps, video only, 142.21MiB\n",
    "    313          webm       3840x2160  2160p 17971k , vp9, 24fps, video only, 351.16MiB\n",
    "    17           3gp        176x144    small , mp4v.20.3, mp4a.40.2@ 24k, 1.82MiB\n",
    "    36           3gp        320x180    small , mp4v.20.3, mp4a.40.2, 5.10MiB\n",
    "    18           mp4        640x360    medium , avc1.42001E, mp4a.40.2@ 96k, 14.80MiB\n",
    "    43           webm       640x360    medium , vp8.0, vorbis@128k, 20.43MiB\n",
    "    22           mp4        1280x720   hd720 , avc1.64001F, mp4a.40.2@192k (best)"
   ]
  },
  {
   "cell_type": "markdown",
   "metadata": {},
   "source": [
    "## 按指定代码组合下载\n",
    "\n",
    "```shell\n",
    "youtube-dl -f [format code] [url]\n",
    "```\n",
    "例如\n",
    "```shell\n",
    "youtube-dl -f 136+140 https://www.youtube.com/watch?v=8VkpDCD6fms\n",
    "```\n",
    "\n",
    "**youtube-dl 会自动调用FFMPEG合并音频和视频[如果可以的话]**"
   ]
  },
  {
   "cell_type": "markdown",
   "metadata": {},
   "source": [
    "## 下载字幕\n",
    "\n",
    "```shell\n",
    "youtube-dl --write-sub --skip-download [url] //下载单独的 vtt 字幕文件,而不会下载视频\n",
    "\n",
    "youtube-dl --write-sub --all-subs --skip-download [url] //下载所有语言的字幕 (如果有的话)\n",
    "\n",
    "youtube-dl --write-auto-sub --skip-download [url] //下载自动生成的字幕 (YouTube only)\n",
    "```\n",
    "\n",
    "**下载视频的同时写入字幕似乎会出现无法预料的后果**"
   ]
  },
  {
   "cell_type": "markdown",
   "metadata": {},
   "source": [
    "## 合并字幕\n",
    "\n",
    "- 硬字幕(字幕为画面一部分)\n",
    "- 软字幕(可选择打开关闭字幕)\n",
    "\n",
    "### 硬字幕\n",
    "\n",
    "先将 vtt 字幕转换为 ass 字幕\n",
    "\n",
    "```shell\n",
    "ffmpeg -i subtitle.vtt subtitle.ass\n",
    "```\n",
    "\n",
    "合并字幕和视频\n",
    "\n",
    "```shell\n",
    "ffmpeg -i video.mp4 -vf ass=subtitle.ass out.mp4\n",
    "```\n",
    "\n",
    "### 软字幕\n",
    "\n",
    "```shell\n",
    "ffmpeg -i video.mp4 -i subtitle.vtt -c copy -c:s mov_text out.mp4\n",
    "```"
   ]
  },
  {
   "cell_type": "markdown",
   "metadata": {},
   "source": [
    "## 使用 aria2 多线程下载\n",
    "\n",
    "有时下载速度不理想，可以考虑利用多线程加速下载\n",
    "\n",
    "安装\n",
    "```shell\n",
    "sudo apt-get install aria2\n",
    "```\n",
    "\n",
    "多线程下载\n",
    "```shell\n",
    "youtube-dl [url] --external-downloader aria2c --external-downloader-args \"-x 16 -k 1M\"\n",
    "```\n",
    "\n",
    "参数说明\n",
    "\n",
    "```shell\n",
    "--external-downloader aria2c //调用外部下载工具\n",
    "--external-downloader-args //外部下载工具指定参数\n",
    "-x 16 //启用aria2 16个线程，最多就支持16线程\n",
    "-K 1M //指定块的大小\n",
    "```\n",
    "\n",
    "**实测在VPS上效果并不好，没有直接使用youtube-dl速度块，可能本地下载使用aria2会有提升，抑或是VPS上的aria2没有设置DHT文件**"
   ]
  },
  {
   "cell_type": "markdown",
   "metadata": {},
   "source": [
    "## 下载视频列表中的视频\n",
    "\n",
    "使用参数 `-cit [list url]`如下\n",
    "\n",
    "```shell\n",
    "youtube-dl -cit https://www.youtube.com/playlist\\?list\\=PLCJcQMZOafICYrx7zhFu_RWHRZqpB8fIW\n",
    "```\n",
    "\n",
    "其中`PLCJcQMZOafICYrx7zhFu_RWHRZqpB8fIW`便是视频列表的代码\n",
    "\n",
    "一般在YouTube中打开一个视频列表，网页会播放其默认index的视频，网址类似这样\n",
    "\n",
    "```\n",
    "https://www.youtube.com/watch?v=G3A7q8ASsO0&list=PLPZ7h6L6LC7V_aSrf9EPFJlXZOQRv22pb\n",
    "```\n",
    "\n",
    "其中`&list=`后面的`PLPZ7h6L6LC7V_aSrf9EPFJlXZOQRv22pb`即为视频列表代码\n",
    "\n",
    "如果想要下载的是正在更新的列表，可以使用`--playlist-start` `--playlist-end`参数指定开头和结尾，例如\n",
    "\n",
    "```shell\n",
    "youtube-dl -f 299+140 -cit --playlist-start 3 https://www.youtube.com/playlist\\?list\\=PLPZ7h6L6LC7UvH8KfJnP95p099QO_jvxI\n",
    "```"
   ]
  },
  {
   "cell_type": "markdown",
   "metadata": {},
   "source": [
    "## 其他参数\n",
    "\n",
    "- `-o` 指定目标文件路径\n",
    "- `--proxy` 指定代理\n",
    "- `e` 获取目标视频标题\n",
    "\n",
    "```shell\n",
    "youtube-dl -o [PATH] --proxy [PROXY] [url]\n",
    "youtube-dl -e [url]\n",
    "```\n",
    "\n",
    "例如\n",
    "```\n",
    "youtube-dl -f 136+140 -o ~/usr/download.mp4 -- proxy 127.0.0.1:8087 https://www.youtube.com/watch?v=8VkpDCD6fms\n",
    "```"
   ]
  },
  {
   "cell_type": "markdown",
   "metadata": {},
   "source": [
    "## 注意事项\n",
    "\n",
    "使用 `pip` 安装FFMPEG 后还需要下载编译包并将`bin`等路径添加到 `PATH`中[windows 环境下]\n",
    "Linux 环境下使用 `apt-get`安装即可"
   ]
  }
 ],
 "metadata": {
  "kernelspec": {
   "display_name": "Python 3",
   "language": "python",
   "name": "python3"
  },
  "language_info": {
   "codemirror_mode": {
    "name": "ipython",
    "version": 3
   },
   "file_extension": ".py",
   "mimetype": "text/x-python",
   "name": "python",
   "nbconvert_exporter": "python",
   "pygments_lexer": "ipython3",
   "version": "3.7.0"
  },
  "toc": {
   "base_numbering": 1,
   "nav_menu": {},
   "number_sections": true,
   "sideBar": true,
   "skip_h1_title": false,
   "title_cell": "Table of Contents",
   "title_sidebar": "Contents",
   "toc_cell": true,
   "toc_position": {},
   "toc_section_display": true,
   "toc_window_display": false
  }
 },
 "nbformat": 4,
 "nbformat_minor": 2
}
