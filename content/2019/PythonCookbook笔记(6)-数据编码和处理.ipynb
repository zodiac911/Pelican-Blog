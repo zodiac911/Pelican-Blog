{
 "cells": [
  {
   "cell_type": "markdown",
   "metadata": {},
   "source": [
    "Python CookBook 学习笔记"
   ]
  },
  {
   "cell_type": "markdown",
   "metadata": {
    "toc": true
   },
   "source": [
    "<h1>Table of Contents<span class=\"tocSkip\"></span></h1>\n",
    "<div class=\"toc\"><ul class=\"toc-item\"><li><span><a href=\"#第六章-数据编码和处理\" data-toc-modified-id=\"第六章-数据编码和处理-1\"><span class=\"toc-item-num\">1&nbsp;&nbsp;</span>第六章 数据编码和处理</a></span><ul class=\"toc-item\"><li><span><a href=\"#6.1-读写CSV-数据\" data-toc-modified-id=\"6.1-读写CSV-数据-1.1\"><span class=\"toc-item-num\">1.1&nbsp;&nbsp;</span>6.1 读写CSV 数据</a></span></li><li><span><a href=\"#6.2-读写JSON-数据\" data-toc-modified-id=\"6.2-读写JSON-数据-1.2\"><span class=\"toc-item-num\">1.2&nbsp;&nbsp;</span>6.2 读写JSON 数据</a></span></li><li><span><a href=\"#6.3-解析简单的XML-数据\" data-toc-modified-id=\"6.3-解析简单的XML-数据-1.3\"><span class=\"toc-item-num\">1.3&nbsp;&nbsp;</span>6.3 解析简单的XML 数据</a></span></li><li><span><a href=\"#6.4-增量式解析大型XML-文件\" data-toc-modified-id=\"6.4-增量式解析大型XML-文件-1.4\"><span class=\"toc-item-num\">1.4&nbsp;&nbsp;</span>6.4 增量式解析大型XML 文件</a></span></li><li><span><a href=\"#6.5-将字典转换为XML\" data-toc-modified-id=\"6.5-将字典转换为XML-1.5\"><span class=\"toc-item-num\">1.5&nbsp;&nbsp;</span>6.5 将字典转换为XML</a></span></li><li><span><a href=\"#6.6-解析和修改XML\" data-toc-modified-id=\"6.6-解析和修改XML-1.6\"><span class=\"toc-item-num\">1.6&nbsp;&nbsp;</span>6.6 解析和修改XML</a></span></li><li><span><a href=\"#6.7-利用命名空间解析XML-文档\" data-toc-modified-id=\"6.7-利用命名空间解析XML-文档-1.7\"><span class=\"toc-item-num\">1.7&nbsp;&nbsp;</span>6.7 利用命名空间解析XML 文档</a></span></li><li><span><a href=\"#6.8-与关系型数据库的交互\" data-toc-modified-id=\"6.8-与关系型数据库的交互-1.8\"><span class=\"toc-item-num\">1.8&nbsp;&nbsp;</span>6.8 与关系型数据库的交互</a></span></li><li><span><a href=\"#6.9-编码和解码十六进制数\" data-toc-modified-id=\"6.9-编码和解码十六进制数-1.9\"><span class=\"toc-item-num\">1.9&nbsp;&nbsp;</span>6.9 编码和解码十六进制数</a></span></li><li><span><a href=\"#6.10-编码解码Base64数据\" data-toc-modified-id=\"6.10-编码解码Base64数据-1.10\"><span class=\"toc-item-num\">1.10&nbsp;&nbsp;</span>6.10 编码解码Base64数据</a></span></li><li><span><a href=\"#6.11-读写二进制数组数据\" data-toc-modified-id=\"6.11-读写二进制数组数据-1.11\"><span class=\"toc-item-num\">1.11&nbsp;&nbsp;</span>6.11 读写二进制数组数据</a></span></li><li><span><a href=\"#6.12-读取嵌套和可变长二进制数据\" data-toc-modified-id=\"6.12-读取嵌套和可变长二进制数据-1.12\"><span class=\"toc-item-num\">1.12&nbsp;&nbsp;</span>6.12 读取嵌套和可变长二进制数据</a></span></li><li><span><a href=\"#6.13-数据的累加与统计操作\" data-toc-modified-id=\"6.13-数据的累加与统计操作-1.13\"><span class=\"toc-item-num\">1.13&nbsp;&nbsp;</span>6.13 数据的累加与统计操作</a></span></li></ul></li></ul></div>"
   ]
  },
  {
   "cell_type": "markdown",
   "metadata": {},
   "source": [
    "# 第六章 数据编码和处理\n",
    "\n",
    "这一章主要讨论使用Python 处理各种不同方式编码的数据，比如CSV 文件，JSON，XML 和二进制包装记录。和数据结构那一章不同的是，这章不会讨论特殊的算法问题，而是关注于怎样获取和存储这些格式的数据。\n",
    "\n",
    "比较重要的小节：\n",
    "- 6.12"
   ]
  },
  {
   "cell_type": "markdown",
   "metadata": {},
   "source": [
    "## 6.1 读写CSV 数据\n",
    "\n",
    "Not Now 我希望使用 NumPy 和 Pandas 进行处理\n",
    "\n",
    "## 6.2 读写JSON 数据\n",
    "\n",
    "## 6.3 解析简单的XML 数据\n",
    "\n",
    "## 6.4 增量式解析大型XML 文件\n",
    "\n",
    "## 6.5 将字典转换为XML\n",
    "\n",
    "## 6.6 解析和修改XML\n",
    "\n",
    "## 6.7 利用命名空间解析XML 文档\n",
    "\n",
    "## 6.8 与关系型数据库的交互"
   ]
  },
  {
   "cell_type": "markdown",
   "metadata": {},
   "source": [
    "## 6.9 编码和解码十六进制数\n",
    "\n",
    "问题：你想将一个十六进制字符串解码成一个字节字符串或者将一个字节字符串编码成一个十六进制字符串。\n",
    "\n",
    "解决方案：如果你只是简单的解码或编码一个十六进制的原始字符串，可以使用　binascii 模块。"
   ]
  },
  {
   "cell_type": "code",
   "execution_count": 1,
   "metadata": {},
   "outputs": [],
   "source": [
    "from IPython.core.interactiveshell import InteractiveShell\n",
    "InteractiveShell.ast_node_interactivity = \"all\""
   ]
  },
  {
   "cell_type": "code",
   "execution_count": 2,
   "metadata": {},
   "outputs": [
    {
     "data": {
      "text/plain": [
       "b'hello'"
      ]
     },
     "execution_count": 2,
     "metadata": {},
     "output_type": "execute_result"
    }
   ],
   "source": [
    "import binascii\n",
    "\n",
    "h = b'68656c6c6f'\n",
    "# Decode back to bytes\n",
    "s = binascii.a2b_hex(h)\n",
    "s"
   ]
  },
  {
   "cell_type": "markdown",
   "metadata": {},
   "source": [
    "类似的功能同样可以在 base64 模块中找到。"
   ]
  },
  {
   "cell_type": "code",
   "execution_count": 3,
   "metadata": {},
   "outputs": [
    {
     "data": {
      "text/plain": [
       "b'68656C6C6F'"
      ]
     },
     "execution_count": 3,
     "metadata": {},
     "output_type": "execute_result"
    },
    {
     "data": {
      "text/plain": [
       "b'hello'"
      ]
     },
     "execution_count": 3,
     "metadata": {},
     "output_type": "execute_result"
    }
   ],
   "source": [
    "import base64\n",
    "h = base64.b16encode(s)\n",
    "h\n",
    "base64.b16decode(h)"
   ]
  },
  {
   "cell_type": "markdown",
   "metadata": {},
   "source": [
    "讨论：大部分情况下，通过使用上述的函数来转换十六进制是很简单的。**上面两种技术的主要不同在于大小写的处理**。 函数 base64.b16decode() 和 base64.b16encode() 只能操作大写形式的十六进制字母，而 binascii 模块中的函数大小写都能处理。**编码函数所产生的输出总是一个字节字符串**。\n",
    "\n",
    "在解码十六进制数时，函数 b16decode() 和 a2b_hex() 可以接受字节或 unicode 字符串。如果想强制 unicode 输出"
   ]
  },
  {
   "cell_type": "code",
   "execution_count": 4,
   "metadata": {},
   "outputs": [
    {
     "name": "stdout",
     "output_type": "stream",
     "text": [
      "b'68656C6C6F'\n",
      "68656C6C6F\n"
     ]
    }
   ],
   "source": [
    "print(h)\n",
    "print(h.decode('ascii'))"
   ]
  },
  {
   "cell_type": "markdown",
   "metadata": {},
   "source": [
    "## 6.10 编码解码Base64数据\n",
    "\n",
    "问题：你需要使用 Base64 格式解码或编码二进制数据。\n",
    "\n",
    "注：Base64 是一种基于 64 个可打印字符来表示二进制数据的表示方法。由于 2^6=64，所以每 6 个比特为一个单元，对应某个可打印字符。3 个字节有 24 个比特，对应于 4 个 Base64 单元，即 3 个字节可表示 4 个可打印字符。它可用来作为电子邮件的传输编码\n",
    "\n",
    "解决方案：base64 模块中有两个函数 b64encode() and b64decode() 可以帮你解决这个问题。"
   ]
  },
  {
   "cell_type": "code",
   "execution_count": 5,
   "metadata": {},
   "outputs": [
    {
     "data": {
      "text/plain": [
       "b'aGVsbG8='"
      ]
     },
     "execution_count": 5,
     "metadata": {},
     "output_type": "execute_result"
    },
    {
     "data": {
      "text/plain": [
       "b'hello'"
      ]
     },
     "execution_count": 5,
     "metadata": {},
     "output_type": "execute_result"
    }
   ],
   "source": [
    "# Some byte data\n",
    "s = b'hello'\n",
    "# Encode as Base64\n",
    "a = base64.b64encode(s)\n",
    "a\n",
    "# Decode from Base64\n",
    "base64.b64decode(a)"
   ]
  },
  {
   "cell_type": "markdown",
   "metadata": {},
   "source": [
    "讨论：Base64编码仅仅用于面向字节的数据比如字节字符串和字节数组。 此外，编码处理的输出结果总是一个字节字符串。 如果你想混合使用Base64编码的数据和Unicode文本，你必须添加一个额外的解码步骤 `decode('ascii')`。\n",
    "\n",
    "当解码 Base64 的时候，字节字符串和 Unicode 文本都可以作为参数。 但是，Unicode 字符串只能包含 ASCII 字符。"
   ]
  },
  {
   "cell_type": "markdown",
   "metadata": {},
   "source": [
    "## 6.11 读写二进制数组数据\n",
    "\n",
    "问题：读写二进制数组的结构化数据到元组中\n",
    "\n",
    "解决方案：使用struct 模块处理二进制数据\n",
    "\n",
    "利用 struct 写入二进制文件，和读取的两个方法"
   ]
  },
  {
   "cell_type": "code",
   "execution_count": 6,
   "metadata": {},
   "outputs": [
    {
     "name": "stdout",
     "output_type": "stream",
     "text": [
      "(1, 2.3, 4.5)\n",
      "(6, 7.8, 9.0)\n",
      "(12, 13.4, 56.7)\n",
      "(1, 2.3, 4.5)\n",
      "(6, 7.8, 9.0)\n",
      "(12, 13.4, 56.7)\n"
     ]
    }
   ],
   "source": [
    "import struct\n",
    "from struct import Struct\n",
    "\n",
    "def write_records(records, format, f):\n",
    "    '''\n",
    "    Write a sequence of tuples to a binary file of structures.\n",
    "    '''\n",
    "    record_struct = Struct(format)\n",
    "    for r in records:\n",
    "        f.write(record_struct.pack(*r))\n",
    "\n",
    "def read_records(format, f):\n",
    "    '''\n",
    "    分块读取，解析后返回\n",
    "    '''\n",
    "    record_struct = Struct(format)\n",
    "    chunks = iter(lambda: f.read(record_struct.size), b'')\n",
    "    return (record_struct.unpack(chunk) for chunk in chunks)\n",
    "\n",
    "def unpack_records(format, data):\n",
    "    '''\n",
    "    全部读取，按大小 offset 取数据并解析\n",
    "    '''\n",
    "    record_struct = Struct(format)\n",
    "    return (record_struct.unpack_from(data, offset) for offset in range(0, len(data), record_struct.size))\n",
    "\n",
    "# Example\n",
    "if __name__ == '__main__':\n",
    "    records = [ (1, 2.3, 4.5),\n",
    "                (6, 7.8, 9.0),\n",
    "                (12, 13.4, 56.7) ]\n",
    "    with open('data/data.b', 'wb') as f:\n",
    "        write_records(records, '<idd', f)\n",
    "\n",
    "    with open('data/data.b','rb') as f:\n",
    "        for rec in read_records('<idd', f):\n",
    "            print(rec)\n",
    "\n",
    "    with open('data/data.b', 'rb') as f:\n",
    "        data = f.read()\n",
    "        for rec in unpack_records('<idd', data):\n",
    "            print(rec)"
   ]
  },
  {
   "cell_type": "markdown",
   "metadata": {},
   "source": [
    "讨论：struct 的声明"
   ]
  },
  {
   "cell_type": "code",
   "execution_count": 7,
   "metadata": {},
   "outputs": [
    {
     "data": {
      "text/plain": [
       "20"
      ]
     },
     "execution_count": 7,
     "metadata": {},
     "output_type": "execute_result"
    },
    {
     "data": {
      "text/plain": [
       "(1, 2.0, 3.0)"
      ]
     },
     "execution_count": 7,
     "metadata": {},
     "output_type": "execute_result"
    },
    {
     "data": {
      "text/plain": [
       "(1, 2.0, 3.0)"
      ]
     },
     "execution_count": 7,
     "metadata": {},
     "output_type": "execute_result"
    }
   ],
   "source": [
    "# Little endian 32-bit integer, two double precision floats\n",
    "record_struct = Struct('<idd') # i, d, f 等表明 32 位整数，64 位浮点数，32 位浮点数，< 指定了字节顺序，“低位在前”\n",
    "\n",
    "# 用 Struct 对象调用，比较方便\n",
    "record_struct = Struct('<idd')\n",
    "record_struct.size\n",
    "\n",
    "temp = record_struct.pack(1, 2.0, 3.0)\n",
    "record_struct.unpack(temp)\n",
    "\n",
    "# 直接调用\n",
    "temp = struct.pack('<idd', 1, 2.0, 3.0)\n",
    "struct.unpack('<idd', temp)"
   ]
  },
  {
   "cell_type": "markdown",
   "metadata": {},
   "source": [
    "前面有个 iter 的技巧，可以减少代码量和提高程序性能，见 5.18，另外一种方法 unpack_from() 对于从一个大型二进制数组中提取二进制数据非常有用，它不会产生任何的临时对象或者进行内存复制操作，需要给它一个字节序列和一个字节偏移量。也可以利用 namedtuple 进行一些包装"
   ]
  },
  {
   "cell_type": "code",
   "execution_count": 8,
   "metadata": {},
   "outputs": [
    {
     "name": "stdout",
     "output_type": "stream",
     "text": [
      "1 2.3 4.5\n",
      "6 7.8 9.0\n",
      "12 13.4 56.7\n"
     ]
    }
   ],
   "source": [
    "from collections import namedtuple\n",
    "Record = namedtuple('Record', ['kind','x','y'])\n",
    "\n",
    "with open('data/data.b', 'rb') as f:\n",
    "    records = (Record(*r) for r in read_records('<idd', f))\n",
    "    for r in records:\n",
    "        print(r.kind, r.x, r.y)"
   ]
  },
  {
   "cell_type": "markdown",
   "metadata": {},
   "source": [
    "**进阶 NumPy**"
   ]
  },
  {
   "cell_type": "code",
   "execution_count": 9,
   "metadata": {},
   "outputs": [
    {
     "data": {
      "text/plain": [
       "array([( 1,  2.3,  4.5), ( 6,  7.8,  9. ), (12, 13.4, 56.7)],\n",
       "      dtype=[('f0', '<i4'), ('f1', '<f8'), ('f2', '<f8')])"
      ]
     },
     "execution_count": 9,
     "metadata": {},
     "output_type": "execute_result"
    },
    {
     "data": {
      "text/plain": [
       "(1, 2.3, 4.5)"
      ]
     },
     "execution_count": 9,
     "metadata": {},
     "output_type": "execute_result"
    },
    {
     "data": {
      "text/plain": [
       "(6, 7.8, 9.)"
      ]
     },
     "execution_count": 9,
     "metadata": {},
     "output_type": "execute_result"
    }
   ],
   "source": [
    "import numpy as np\n",
    "f = open('data/data.b', 'rb')\n",
    "records = np.fromfile(f, dtype='<i,<d,<d')\n",
    "\n",
    "records\n",
    "records[0]\n",
    "records[1]"
   ]
  },
  {
   "cell_type": "markdown",
   "metadata": {},
   "source": [
    "总结：struct 模块的时候和一个 iter 技巧，另外用 NumPy 是个不错的选择"
   ]
  },
  {
   "cell_type": "markdown",
   "metadata": {},
   "source": [
    "## 6.12 读取嵌套和可变长二进制数据\n",
    "\n",
    "问题：你需要读取包含嵌套或者可变长记录集合的复杂二进制格式的数据。这些数据可能包含图片、视频、电子地图文件等。\n",
    "\n",
    "解决方案：struct 模块可被用来编码/解码几乎所有类型的二进制的数据结构。为了解释清楚这种数据，假设你用下面的Python 数据结构来表示一个组成一系列多边形的点的集合"
   ]
  },
  {
   "cell_type": "code",
   "execution_count": 10,
   "metadata": {},
   "outputs": [],
   "source": [
    "import struct\n",
    "\n",
    "from IPython.core.interactiveshell import InteractiveShell\n",
    "InteractiveShell.ast_node_interactivity = \"all\""
   ]
  },
  {
   "cell_type": "code",
   "execution_count": 11,
   "metadata": {},
   "outputs": [],
   "source": [
    "# 多边形\n",
    "polys = [\n",
    "[ (1.0, 2.5), (3.5, 4.0), (2.5, 1.5) ],\n",
    "[ (7.0, 1.2), (5.1, 3.0), (0.5, 7.5), (0.8, 9.0) ],\n",
    "[ (3.4, 6.3), (1.2, 0.5), (4.6, 9.2) ],\n",
    "]"
   ]
  },
  {
   "cell_type": "markdown",
   "metadata": {},
   "source": [
    "需要把这些多边形写入如下格式的文件中\n",
    "\n",
    "```shell\n",
    "+------+--------+------------------------------------+\n",
    "|Byte  | Type   |  Description                       |\n",
    "+======+========+====================================+\n",
    "|0     | int    |  文件代码（0x1234，小端）          |\n",
    "+------+--------+------------------------------------+\n",
    "|4     | double |  x 的最小值（小端）                |\n",
    "+------+--------+------------------------------------+\n",
    "|12    | double |  y 的最小值（小端）                |\n",
    "+------+--------+------------------------------------+\n",
    "|20    | double |  x 的最大值（小端）                |\n",
    "+------+--------+------------------------------------+\n",
    "|28    | double |  y 的最大值（小端）                |\n",
    "+------+--------+------------------------------------+\n",
    "|36    | int    |  三角形数量（小端）                |\n",
    "+------+--------+------------------------------------+\n",
    "```\n",
    "\n",
    "紧跟着头部是一系列的多边形记录，编码格式如下\n",
    "\n",
    "```shell\n",
    "\n",
    "+------+--------+-------------------------------------------+\n",
    "|Byte | Type | Description |\n",
    "+======+========+===========================================+\n",
    "|0 | int | 记录长度（N 字节） |\n",
    "+------+--------+-------------------------------------------+\n",
    "|4 | Points | (X,Y) 坐标，以浮点数表示|\n",
    "+------+--------+-------------------------------------------+\n",
    "\n",
    "```\n",
    "\n",
    "要写入这样的文件，可以使用如下代码："
   ]
  },
  {
   "cell_type": "code",
   "execution_count": 12,
   "metadata": {},
   "outputs": [],
   "source": [
    "import struct\n",
    "import itertools\n",
    "def write_polys(filename, polys):\n",
    "    # Determine bounding box\n",
    "    flattened = list(itertools.chain(*polys))\n",
    "    min_x = min(x for x, y in flattened)\n",
    "    max_x = max(x for x, y in flattened)\n",
    "    min_y = min(y for x, y in flattened)\n",
    "    max_y = max(y for x, y in flattened)\n",
    "    with open(filename, 'wb') as f:\n",
    "        f.write(struct.pack('<iddddi', 0x1234,\n",
    "                min_x, min_y,\n",
    "                max_x, max_y,\n",
    "                len(polys)))\n",
    "        for poly in polys:\n",
    "            size = len(poly) * struct.calcsize('<dd')\n",
    "            f.write(struct.pack('<i', size + 4))\n",
    "            for pt in poly:\n",
    "                f.write(struct.pack('<dd', *pt))\n",
    "                \n",
    "write_polys('data/polys.bin', polys)"
   ]
  },
  {
   "cell_type": "markdown",
   "metadata": {},
   "source": [
    "为了把文件读取回来，最初级的方法如下，基本上就是以上代码的逆操作"
   ]
  },
  {
   "cell_type": "code",
   "execution_count": 13,
   "metadata": {},
   "outputs": [
    {
     "data": {
      "text/plain": [
       "[[(1.0, 2.5), (3.5, 4.0), (2.5, 1.5)],\n",
       " [(7.0, 1.2), (5.1, 3.0), (0.5, 7.5), (0.8, 9.0)],\n",
       " [(3.4, 6.3), (1.2, 0.5), (4.6, 9.2)]]"
      ]
     },
     "execution_count": 13,
     "metadata": {},
     "output_type": "execute_result"
    }
   ],
   "source": [
    "def read_polys(filename):\n",
    "    with open(filename, 'rb') as f:\n",
    "        # Read the header\n",
    "        header = f.read(40)\n",
    "        file_code, min_x, min_y, max_x, max_y, num_polys = struct.unpack('<iddddi', header)\n",
    "        polys = []\n",
    "        for n in range(num_polys):\n",
    "            pbytes, = struct.unpack('<i', f.read(4))\n",
    "            poly = []\n",
    "            for m in range(pbytes // 16):\n",
    "                pt = struct.unpack('<dd', f.read(16))\n",
    "                poly.append(pt)\n",
    "            polys.append(poly)\n",
    "    return polys\n",
    "\n",
    "read_polys('data/polys.bin')"
   ]
  },
  {
   "cell_type": "markdown",
   "metadata": {},
   "source": [
    "上面的版本尽管可以工作，但是过于繁琐，我们可以使用类进行简化"
   ]
  },
  {
   "cell_type": "code",
   "execution_count": 14,
   "metadata": {},
   "outputs": [],
   "source": [
    "import struct\n",
    "\n",
    "class StructField:\n",
    "    '''\n",
    "    Descriptor representing a simple structure field\n",
    "    '''\n",
    "    def __init__(self, format, offset):\n",
    "        self.format = format\n",
    "        self.offset = offset\n",
    "    def __get__(self, instance, cls):\n",
    "        if instance is None:\n",
    "            return self\n",
    "        else:\n",
    "            r = struct.unpack_from(self.format, instance._buffer, self.offset)\n",
    "            return r[0] if len(r) == 1 else r # 如果是单个数字则返回数字否则返回 tuple\n",
    "\n",
    "class Structure:\n",
    "    def __init__(self, bytedata):\n",
    "        self._buffer = memoryview(bytedata)\n",
    "        \n",
    "class PolyHeader(Structure):\n",
    "    file_code = StructField('<i', 0)\n",
    "    min_x = StructField('<d', 4)\n",
    "    min_y = StructField('<d', 12)\n",
    "    max_x = StructField('<d', 20)\n",
    "    max_y = StructField('<d', 28)\n",
    "    num_polys = StructField('<i', 36)"
   ]
  },
  {
   "cell_type": "markdown",
   "metadata": {},
   "source": [
    "使用了一个描述器来表示每个结构字段，每个描述器包含一个结构兼容格式的代码以及一个字节偏移量，存储在内部的内存缓冲中。在 __get__() 方法中，struct.unpack_from() 从缓冲中解包一个值，省去了额外的分片或复制操作步骤。\n",
    "\n",
    "Structure 类是一个基础类，接受字节数据并存储在内部的内存缓冲中，并被 StructField 描述器使用。\n",
    "\n",
    "这样可以定义一个高层次的结构对象来表示上面表格信息所期望的文件格式"
   ]
  },
  {
   "cell_type": "code",
   "execution_count": 15,
   "metadata": {},
   "outputs": [
    {
     "data": {
      "text/plain": [
       "4660"
      ]
     },
     "execution_count": 15,
     "metadata": {},
     "output_type": "execute_result"
    },
    {
     "data": {
      "text/plain": [
       "0.5"
      ]
     },
     "execution_count": 15,
     "metadata": {},
     "output_type": "execute_result"
    }
   ],
   "source": [
    "f = open('data/polys.bin', 'rb')\n",
    "phead = PolyHeader(f.read(40))\n",
    "phead.file_code # 具体来说调用的是 phead.file_code.__get__(phead, PolyHeader)\n",
    "phead.min_x"
   ]
  },
  {
   "cell_type": "markdown",
   "metadata": {},
   "source": [
    "上面的代码已经很好了，但还是有些臃肿，这时可以考虑使用元类或者类装饰器来避免重复的代码，改造下 Structure 类"
   ]
  },
  {
   "cell_type": "code",
   "execution_count": 16,
   "metadata": {},
   "outputs": [],
   "source": [
    "class StructureMeta(type):\n",
    "    '''\n",
    "    Metaclass that automatically creates StructField descriptors\n",
    "    '''\n",
    "    def __init__(self, clsname, bases, clsdict):\n",
    "        fields = getattr(self, '_fields_', [])\n",
    "        byte_order = ''\n",
    "        offset = 0\n",
    "        for format, fieldname in fields:\n",
    "            if format.startswith(('<','>','!','@')):\n",
    "                byte_order = format[0]\n",
    "                format = format[1:]\n",
    "            format = byte_order + format\n",
    "            setattr(self, fieldname, StructField(format, offset))\n",
    "            offset += struct.calcsize(format)\n",
    "        setattr(self, 'struct_size', offset) # 增加一个 struct_size 属性\n",
    "\n",
    "class Structure(metaclass=StructureMeta):\n",
    "    def __init__(self, bytedata):\n",
    "        self._buffer = bytedata\n",
    "\n",
    "    @classmethod\n",
    "    def from_file(cls, f):\n",
    "        return cls(f.read(cls.struct_size))\n",
    "\n",
    "# 可以这样定义一个数据结构\n",
    "class PolyHeader(Structure):\n",
    "    _fields_ = [\n",
    "        ('<i', 'file_code'),\n",
    "        ('d', 'min_x'),\n",
    "        ('d', 'min_y'),\n",
    "        ('d', 'max_x'),\n",
    "        ('d', 'max_y'),\n",
    "        ('i', 'num_polys')\n",
    "    ]"
   ]
  },
  {
   "cell_type": "markdown",
   "metadata": {},
   "source": [
    "类方法 from_file() 让我们在不需要知道任何数据的大小和结构的情况下就能轻松的从文件中读取数据"
   ]
  },
  {
   "cell_type": "code",
   "execution_count": 17,
   "metadata": {},
   "outputs": [
    {
     "data": {
      "text/plain": [
       "4660"
      ]
     },
     "execution_count": 17,
     "metadata": {},
     "output_type": "execute_result"
    }
   ],
   "source": [
    "f = open('data/polys.bin', 'rb')\n",
    "phead = PolyHeader.from_file(f)\n",
    "phead.file_code"
   ]
  },
  {
   "cell_type": "markdown",
   "metadata": {},
   "source": [
    "**改进元类以支持嵌套的字节结构**"
   ]
  },
  {
   "cell_type": "code",
   "execution_count": 18,
   "metadata": {},
   "outputs": [],
   "source": [
    "class NestedStruct:\n",
    "    '''\n",
    "    Descriptor representing a nested structure\n",
    "    '''\n",
    "    def __init__(self, name, struct_type, offset):\n",
    "        self.name = name\n",
    "        self.struct_type = struct_type\n",
    "        self.offset = offset\n",
    "\n",
    "    def __get__(self, instance, cls):\n",
    "        if instance is None:\n",
    "            return self\n",
    "        else:\n",
    "            data = instance._buffer[self.offset:self.offset+self.struct_type.struct_size] # 对 memory view 进行切片\n",
    "            result = self.struct_type(data)\n",
    "            # Save resulting structure back on instance to avoid\n",
    "            # further recomputation of this step\n",
    "            setattr(instance, self.name, result) # 保存结果 防止重复计算 下次再取用的时候就不再调用 装饰器 而是直接从类属性中获取\n",
    "            #print(instance, self.name, result)\n",
    "            return result\n",
    "\n",
    "class StructureMeta(type):\n",
    "    '''\n",
    "    Metaclass that automatically creates StructField descriptors\n",
    "    '''\n",
    "    def __init__(self, clsname, bases, clsdict):\n",
    "        fields = getattr(self, '_fields_', [])\n",
    "        byte_order = ''\n",
    "        offset = 0\n",
    "        for format, fieldname in fields:\n",
    "            # 如果 fields 中的对象本身也是个继承自 Structure 的计数据结构\n",
    "            if isinstance(format, StructureMeta):\n",
    "                setattr(self, fieldname,\n",
    "                        NestedStruct(fieldname, format, offset))\n",
    "                offset += format.struct_size\n",
    "            else:\n",
    "                if format.startswith(('<','>','!','@')):\n",
    "                    byte_order = format[0]\n",
    "                    format = format[1:]\n",
    "                format = byte_order + format\n",
    "                setattr(self, fieldname, StructField(format, offset))\n",
    "                offset += struct.calcsize(format)\n",
    "        setattr(self, 'struct_size', offset)\n",
    "        \n",
    "class Structure(metaclass=StructureMeta):\n",
    "    def __init__(self, bytedata):\n",
    "        self._buffer = bytedata\n",
    "\n",
    "    @classmethod\n",
    "    def from_file(cls, f):\n",
    "        return cls(f.read(cls.struct_size))"
   ]
  },
  {
   "cell_type": "markdown",
   "metadata": {},
   "source": [
    "在这段代码中，NestedStruct 描述器被用来叠加另外一个定义在某个内存区域上的结构。 它通过将原始内存缓冲进行切片操作后实例化给定的结构类型。由于底层的内存缓冲区是通过一个内存视图初始化的， 所以这种切片操作不会引发任何的额外的内存复制。相反，它仅仅就是之前的内存的一个叠加而已。 另外，为了防止重复实例化，通过使用和8.10小节同样的技术，描述器保存了该实例中的内部结构对象"
   ]
  },
  {
   "cell_type": "code",
   "execution_count": 19,
   "metadata": {},
   "outputs": [
    {
     "data": {
      "text/plain": [
       "4660"
      ]
     },
     "execution_count": 19,
     "metadata": {},
     "output_type": "execute_result"
    },
    {
     "data": {
      "text/plain": [
       "0.5"
      ]
     },
     "execution_count": 19,
     "metadata": {},
     "output_type": "execute_result"
    }
   ],
   "source": [
    "class Point(Structure):\n",
    "    _fields_ = [\n",
    "        ('<d', 'x'),\n",
    "        ('d', 'y')\n",
    "    ]\n",
    "\n",
    "class PolyHeader(Structure):\n",
    "    _fields_ = [\n",
    "        ('<i', 'file_code'),\n",
    "        (Point, 'min'), # nested struct\n",
    "        (Point, 'max'), # nested struct\n",
    "        ('i', 'num_polys')\n",
    "    ]\n",
    "    \n",
    "f = open('data/polys.bin', 'rb')\n",
    "phead = PolyHeader.from_file(f)\n",
    "phead.file_code\n",
    "phead.min.x"
   ]
  },
  {
   "cell_type": "markdown",
   "metadata": {},
   "source": [
    "以上情形中数据都是定长的，如果是**变长**的呢？一种方案是写一个类来表示字节数据，同时写一个工具函数来通过多少方式解析内容。跟 6.11 小节的代码很类似"
   ]
  },
  {
   "cell_type": "code",
   "execution_count": 20,
   "metadata": {},
   "outputs": [],
   "source": [
    "class SizedRecord:\n",
    "    def __init__(self, bytedata):\n",
    "        self._buffer = memoryview(bytedata)\n",
    "\n",
    "    @classmethod\n",
    "    def from_file(cls, f, size_fmt, includes_size=True):\n",
    "        sz_nbytes = struct.calcsize(size_fmt)\n",
    "        sz_bytes = f.read(sz_nbytes)\n",
    "        sz, = struct.unpack(size_fmt, sz_bytes)\n",
    "        buf = f.read(sz - includes_size * sz_nbytes)\n",
    "        return cls(buf) # 重新返回一个 SizeRecord 类\n",
    "\n",
    "    def iter_as(self, code):\n",
    "        # 分两种情况，一种是 str format 另一种是 继承自 Structure 的数据结构\n",
    "        if isinstance(code, str):\n",
    "            s = struct.Struct(code)\n",
    "            for off in range(0, len(self._buffer), s.size):\n",
    "                yield s.unpack_from(self._buffer, off)\n",
    "        elif isinstance(code, StructureMeta):\n",
    "            size = code.struct_size\n",
    "            for off in range(0, len(self._buffer), size):\n",
    "                data = self._buffer[off:off+size]\n",
    "                yield code(data)"
   ]
  },
  {
   "cell_type": "markdown",
   "metadata": {},
   "source": [
    "类方法 SizedRecord.from_file() 是一个工具，用来从一个文件中读取带大小前缀的数据块， 这也是很多文件格式常用的方式。作为输入，它接受一个包含大小编码的结构格式编码，并且也是自己形式。 可选的 includes_size 参数指定了字节数是否包含头部大小。使用 iter_as() 方法来解析数据，这个方法接受一个结构格式化编码或者是 Structure 类作为输入"
   ]
  },
  {
   "cell_type": "code",
   "execution_count": 21,
   "metadata": {},
   "outputs": [
    {
     "data": {
      "text/plain": [
       "3"
      ]
     },
     "execution_count": 21,
     "metadata": {},
     "output_type": "execute_result"
    },
    {
     "data": {
      "text/plain": [
       "[<__main__.SizedRecord at 0x2cd7e2b8cf8>,\n",
       " <__main__.SizedRecord at 0x2cd7e2b8358>,\n",
       " <__main__.SizedRecord at 0x2cd7e2b8240>]"
      ]
     },
     "execution_count": 21,
     "metadata": {},
     "output_type": "execute_result"
    },
    {
     "name": "stdout",
     "output_type": "stream",
     "text": [
      "Polygon 0\n",
      "(1.0, 2.5)\n",
      "(3.5, 4.0)\n",
      "(2.5, 1.5)\n",
      "Polygon 1\n",
      "(7.0, 1.2)\n",
      "(5.1, 3.0)\n",
      "(0.5, 7.5)\n",
      "(0.8, 9.0)\n",
      "Polygon 2\n",
      "(3.4, 6.3)\n",
      "(1.2, 0.5)\n",
      "(4.6, 9.2)\n"
     ]
    }
   ],
   "source": [
    "f = open('data/polys.bin', 'rb')\n",
    "phead = PolyHeader.from_file(f)\n",
    "phead.num_polys\n",
    "\n",
    "polydata = [ SizedRecord.from_file(f, '<i') for n in range(phead.num_polys) ]\n",
    "polydata\n",
    "\n",
    "for n, poly in enumerate(polydata):\n",
    "    print('Polygon', n)\n",
    "    for p in poly.iter_as('<dd'):\n",
    "        print(p)"
   ]
  },
  {
   "cell_type": "markdown",
   "metadata": {},
   "source": [
    "最终修正版本"
   ]
  },
  {
   "cell_type": "code",
   "execution_count": 22,
   "metadata": {
    "scrolled": true
   },
   "outputs": [
    {
     "data": {
      "text/plain": [
       "[[(1.0, 2.5), (3.5, 4.0), (2.5, 1.5)],\n",
       " [(7.0, 1.2), (5.1, 3.0), (0.5, 7.5), (0.8, 9.0)],\n",
       " [(3.4, 6.3), (1.2, 0.5), (4.6, 9.2)]]"
      ]
     },
     "execution_count": 22,
     "metadata": {},
     "output_type": "execute_result"
    }
   ],
   "source": [
    "class Point(Structure):\n",
    "    _fields_ = [\n",
    "        ('<d', 'x'),\n",
    "        ('d', 'y')\n",
    "    ]\n",
    "\n",
    "class PolyHeader(Structure):\n",
    "    _fields_ = [\n",
    "        ('<i', 'file_code'),\n",
    "        (Point, 'min'),\n",
    "        (Point, 'max'),\n",
    "        ('i', 'num_polys')\n",
    "    ]\n",
    "\n",
    "def read_polys(filename):\n",
    "    polys = []\n",
    "    with open(filename, 'rb') as f:\n",
    "        phead = PolyHeader.from_file(f)\n",
    "        for n in range(phead.num_polys):\n",
    "            rec = SizedRecord.from_file(f, '<i')\n",
    "            poly = [ (p.x, p.y) for p in rec.iter_as(Point) ]\n",
    "            polys.append(poly)\n",
    "    return polys\n",
    "\n",
    "read_polys('data/Polys.bin')"
   ]
  },
  {
   "cell_type": "markdown",
   "metadata": {},
   "source": [
    "上面的实现的一个主要特征是它是基于懒解包的思想。当一个 Structure 实例被创建时， __init__() 仅仅只是创建一个字节数据的内存视图，没有做其他任何事。 特别的，这时候并没有任何的解包或者其他与结构相关的操作发生。 这样做的一个动机是你可能仅仅只对一个字节记录的某一小部分感兴趣。我们只需要解包你需要访问的部分，而不是整个文件。\n",
    "\n",
    "为了实现懒解包和打包，需要使用 StructField 描述器类。 用户在 _fields_ 中列出来的每个属性都会被转化成一个 StructField 描述器， 它将相关结构格式码和偏移值保存到存储缓存中。元类 StructureMeta 在多个结构类被定义时自动创建了这些描述器。 我们使用元类的一个主要原因是它使得用户非常方便的通过一个高层描述就能指定结构格式，而无需考虑低层的细节问题。\n",
    "\n",
    "StructureMeta 的一个很微妙的地方就是它会固定字节数据顺序。 也就是说，如果任意的属性指定了一个字节顺序(<表示低位优先 或者 >表示高位优先)， 那后面所有字段的顺序都以这个顺序为准。这么做可以帮助避免额外输入，但是在定义的中间我们仍然可能切换顺序的。 比如，你可能有一些比较复杂的结构，就像下面这样：\n",
    "\n",
    "```python\n",
    "class ShapeFile(Structure):\n",
    "    _fields_ = [ ('>i', 'file_code'), # Big endian\n",
    "        ('20s', 'unused'),\n",
    "        ('i', 'file_length'),\n",
    "        ('<i', 'version'), # Little endian\n",
    "        ('i', 'shape_type'),\n",
    "        ('d', 'min_x'),\n",
    "        ('d', 'min_y'),\n",
    "        ('d', 'max_x'),\n",
    "        ('d', 'max_y'),\n",
    "        ('d', 'min_z'),\n",
    "        ('d', 'max_z'),\n",
    "        ('d', 'min_m'),\n",
    "        ('d', 'max_m') ]\n",
    "```\n",
    "\n",
    "memoryview() 的使用可以帮助我们避免内存的复制。 当结构存在嵌套的时候，memoryviews 可以叠加同一内存区域上定义的机构的不同部分。 这个特性比较微妙，但是它关注的是内存视图与普通字节数组的切片操作行为。 如果你在一个字节字符串或字节数组上执行切片操作，你通常会得到一个数据的拷贝。 而内存视图切片不是这样的，它仅仅是在已存在的内存上面叠加而已。因此，这种方式更加高效。"
   ]
  },
  {
   "cell_type": "markdown",
   "metadata": {},
   "source": [
    "还有很多相关的章节可以帮助我们扩展这里讨论的方案。参考 8.13 小节使用描述器构建一个类型系统。8.10 小节有更多关于延迟计算属性值的讨论，并且跟 NestedStruct 描述器的实现也有关。9.19 小节有一个使用元类来初始化类成员的例子，和StructureMeta 类非常相似。Python 的ctypes 源码同样也很有趣，它提供了对定义数据结构、数据结构嵌套这些相似功能的支持。"
   ]
  },
  {
   "cell_type": "markdown",
   "metadata": {},
   "source": [
    "## 6.13 数据的累加与统计操作\n",
    "\n",
    "问题：你需要处理一个很大的数据集并需要计算数据总和或其他统计量。\n",
    "\n",
    "解决方案：对于任何涉及到统计、时间序列以及其他相关技术的数据分析问题，都可以考虑使用 Pandas库。\n",
    "\n",
    "为了让你先体验下，下面是一个使用Pandas来分析芝加哥城市的 老鼠和啮齿类动物数据库 的例子。 在我写这篇文章的时候，这个数据库是一个拥有大概 74,000 行数据的 CSV 文件。"
   ]
  },
  {
   "cell_type": "markdown",
   "metadata": {},
   "source": [
    "```python\n",
    ">>> import pandas\n",
    "\n",
    ">>> # Read a CSV file, skipping last line\n",
    ">>> rats = pandas.read_csv('rats.csv', skip_footer=1)\n",
    ">>> # Investigate range of values for a certain field\n",
    ">>> rats['Current Activity'].unique()\n",
    "array([nan, Dispatch Crew, Request Sanitation Inspector], dtype=object)\n",
    ">>> # Filter the data\n",
    ">>> crew_dispatched = rats[rats['Current Activity'] == 'Dispatch Crew']\n",
    ">>> len(crew_dispatched)\n",
    "65676\n",
    "\n",
    ">>> # Find 10 most rat-infested ZIP codes in Chicago\n",
    ">>> crew_dispatched['ZIP Code'].value_counts()[:10]\n",
    "```\n",
    "\n",
    "    60647 3837\n",
    "    60618 3530\n",
    "    60614 3284\n",
    "    60629 3251\n",
    "    60636 2801\n",
    "    60657 2465\n",
    "    60641 2238\n",
    "    60609 2206\n",
    "    60651 2152\n",
    "    60632 2071\n",
    "\n",
    "```python\n",
    ">>> # Group by completion date\n",
    ">>> dates = crew_dispatched.groupby('Completion Date')\n",
    "<pandas.core.groupby.DataFrameGroupBy object at 0x10d0a2a10>\n",
    ">>> len(dates)\n",
    "472\n",
    "\n",
    ">>> # Determine counts on each day\n",
    ">>> date_counts = dates.size()\n",
    ">>> date_counts[0:10]\n",
    "```\n",
    "\n",
    "    Completion Date\n",
    "    01/03/2011 4\n",
    "    01/03/2012 125\n",
    "    01/04/2011 54\n",
    "    01/04/2012 38\n",
    "    01/05/2011 78\n",
    "    01/05/2012 100\n",
    "    01/06/2011 100\n",
    "    01/06/2012 58\n",
    "    01/07/2011 1\n",
    "    01/09/2012 12\n",
    "\n",
    "```python\n",
    ">>> # Sort the counts\n",
    ">>> date_counts.sort()\n",
    ">>> date_counts[-10:]\n",
    "```\n",
    "\n",
    "    Completion Date\n",
    "    10/12/2012 313\n",
    "    10/21/2011 314\n",
    "    09/20/2011 316\n",
    "    10/26/2011 319\n",
    "    02/22/2011 325\n",
    "    10/26/2012 333\n",
    "    03/17/2011 336\n",
    "    10/13/2011 378\n",
    "    10/14/2011 391\n",
    "    10/07/2011 457"
   ]
  }
 ],
 "metadata": {
  "kernelspec": {
   "display_name": "Python 3",
   "language": "python",
   "name": "python3"
  },
  "language_info": {
   "codemirror_mode": {
    "name": "ipython",
    "version": 3
   },
   "file_extension": ".py",
   "mimetype": "text/x-python",
   "name": "python",
   "nbconvert_exporter": "python",
   "pygments_lexer": "ipython3",
   "version": "3.6.6"
  },
  "toc": {
   "base_numbering": 1,
   "nav_menu": {},
   "number_sections": true,
   "sideBar": true,
   "skip_h1_title": false,
   "title_cell": "Table of Contents",
   "title_sidebar": "Contents",
   "toc_cell": true,
   "toc_position": {},
   "toc_section_display": true,
   "toc_window_display": false
  }
 },
 "nbformat": 4,
 "nbformat_minor": 2
}
