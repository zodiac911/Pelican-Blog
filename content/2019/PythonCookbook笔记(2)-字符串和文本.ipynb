{
 "cells": [
  {
   "cell_type": "markdown",
   "metadata": {},
   "source": [
    "Python CookBook 学习笔记\n",
    "\n",
    "- [Python CookBook](http://www.dabeaz.com/cookbook.html)\n",
    "- [Python CookBook Zh](https://python3-cookbook.readthedocs.io/zh_CN/latest/)"
   ]
  },
  {
   "cell_type": "markdown",
   "metadata": {
    "toc": true
   },
   "source": [
    "<h1>Table of Contents<span class=\"tocSkip\"></span></h1>\n",
    "<div class=\"toc\"><ul class=\"toc-item\"><li><span><a href=\"#第二章-字符串和文本\" data-toc-modified-id=\"第二章-字符串和文本-1\"><span class=\"toc-item-num\">1&nbsp;&nbsp;</span>第二章 字符串和文本</a></span><ul class=\"toc-item\"><li><span><a href=\"#2.1-使用多个界定符分割字符串\" data-toc-modified-id=\"2.1-使用多个界定符分割字符串-1.1\"><span class=\"toc-item-num\">1.1&nbsp;&nbsp;</span>2.1 使用多个界定符分割字符串</a></span></li><li><span><a href=\"#2.2-字符串开头或结尾匹配\" data-toc-modified-id=\"2.2-字符串开头或结尾匹配-1.2\"><span class=\"toc-item-num\">1.2&nbsp;&nbsp;</span>2.2 字符串开头或结尾匹配</a></span></li><li><span><a href=\"#2.3-用Shell-通配符匹配字符串\" data-toc-modified-id=\"2.3-用Shell-通配符匹配字符串-1.3\"><span class=\"toc-item-num\">1.3&nbsp;&nbsp;</span>2.3 用Shell 通配符匹配字符串</a></span></li></ul></li></ul></div>"
   ]
  },
  {
   "cell_type": "markdown",
   "metadata": {},
   "source": [
    "# 第二章 字符串和文本\n",
    "\n",
    "## 2.1 使用多个界定符分割字符串"
   ]
  },
  {
   "cell_type": "markdown",
   "metadata": {},
   "source": [
    "问题：需要将一个字符串分割为多个字段，但是分隔符(还有周围的空格) 并不是固定的。\n",
    "\n",
    "解决方案：string 对象的 split() 方法只适应于非常简单的字符串分割情形，它并不允许有多个分隔符或者是分隔符周围不确定的空格。当你需要更加灵活的切割字符串的时候，最好使用 re.split() 方法："
   ]
  },
  {
   "cell_type": "code",
   "execution_count": 1,
   "metadata": {},
   "outputs": [
    {
     "data": {
      "text/plain": [
       "['asdf', 'fjdk', 'afed', 'fjek', 'asdf', 'foo']"
      ]
     },
     "execution_count": 1,
     "metadata": {},
     "output_type": "execute_result"
    }
   ],
   "source": [
    "line = 'asdf fjdk; afed, fjek,asdf, foo'\n",
    "import re\n",
    "re.split(r'[;,\\s]\\s*', line)"
   ]
  },
  {
   "cell_type": "markdown",
   "metadata": {},
   "source": [
    "\n",
    "\n",
    "\n",
    "\n",
    "问题：你需要将一个字符串分割为多个字段，但是分隔符(还有周围的空格) 并不是固定的。\n",
    "\n",
    "解决方案：string 对象的 split() 方法只适应于非常简单的字符串分割情形，它并不允许有多个分隔符或者是分隔符周围不确定的空格。当你需要更加灵活的切割字符串的时候，最好使用 re.split() 方法：\n",
    "\n",
    "```python\n",
    ">>> line = 'asdf fjdk; afed, fjek,asdf, foo'\n",
    ">>> import re\n",
    ">>> re.split(r'[;,\\s]\\s*', line)\n",
    "['asdf', 'fjdk', 'afed', 'fjek', 'asdf', 'foo']\n",
    "```\n",
    "\n",
    "讨论：函数re.split() 是非常实用的，因为它允许你为分隔符指定多个正则模式。比如，在上面的例子中，分隔符可以是逗号，分号或者是空格，并且后面紧跟着任意个的空格。只要这个模式被找到，那么匹配的分隔符两边的实体都会被当成是结果中的元素返回。返回结果为一个字段列表，这个跟 str.split() 返回值类型是一样的。\n",
    "\n",
    "当你使用 re.split() 函数时候，需要特别注意的是正则表达式中**是否包含一个括号捕获分组**。如果使用了捕获分组，那么被匹配的文本也将出现在结果列表中。比如：\n",
    "\n",
    "```python\n",
    ">>> fields = re.split(r'(;|,|\\s)\\s*', line)\n",
    ">>> fields\n",
    "['asdf', ' ', 'fjdk', ';', 'afed', ',', 'fjek', ',', 'asdf', ',', 'foo']\n",
    "```\n",
    "\n",
    "获取分割字符在某些情况下也是有用的。比如，你可能想保留分割字符串，用来在\n",
    "后面重新构造一个新的输出字符串：\n",
    "\n",
    "```python\n",
    ">>> values = fields[::2]\n",
    ">>> delimiters = fields[1::2] + ['']\n",
    ">>> values\n",
    "['asdf', 'fjdk', 'afed', 'fjek', 'asdf', 'foo']\n",
    ">>> delimiters\n",
    "[' ', ';', ',', ',', ',', '']\n",
    ">>> # Reform the line using the same delimiters\n",
    ">>> ''.join(v+d for v,d in zip(values, delimiters))\n",
    "'asdf fjdk;afed,fjek,asdf,foo'\n",
    "```\n",
    "\n",
    "如果你不想保留分割字符串到结果列表中去，但仍然需要使用到括号来分组正则\n",
    "表达式的话，确保你的分组是**非捕获分组**，形如(?:...) 。比如：\n",
    "\n",
    "```python\n",
    ">>> re.split(r'(?:,|;|\\s)\\s*', line)\n",
    "['asdf', 'fjdk', 'afed', 'fjek', 'asdf', 'foo']\n",
    "```\n",
    "\n",
    "## 2.2 字符串开头或结尾匹配\n",
    "\n",
    "问题：你需要通过指定的文本模式去检查字符串的开头或者结尾，比如文件名后缀，URL Scheme 等等。\n",
    "\n",
    "解决方案：检查字符串开头或结尾的一个简单方法是使用str.startswith() 或者是 str.endswith() 方法。如果你想检查多种匹配可能，只需要将所有的匹配项放入到一个元组中去，然后传给startswith() 或者endswith() 方法：\n",
    "\n",
    "```python\n",
    ">>> filenames\n",
    "[ 'Makefile', 'foo.c', 'bar.py', 'spam.c', 'spam.h' ]\n",
    ">>> [name for name in filenames if name.endswith(('.c', '.h')) ]\n",
    "['foo.c', 'spam.c', 'spam.h']\n",
    "```\n",
    "\n",
    "**这个方法中必须要输入一个元组作为参数，如果是 list 需要进行转换**\n",
    "\n",
    "讨论：类似的操作也可以使用切片来实现，但是代码看起来没有那么优雅。也可以通过正则表达式实现。\n",
    "\n",
    "```python\n",
    ">>> url = 'http://www.python.org'\n",
    ">>> re.match('http:|https:|ftp:', url)\n",
    "<_sre.SRE_Match object at 0x101253098>\n",
    "```\n",
    "\n",
    "## 2.3 用Shell 通配符匹配字符串\n"
   ]
  }
 ],
 "metadata": {
  "kernelspec": {
   "display_name": "Python 3",
   "language": "python",
   "name": "python3"
  },
  "language_info": {
   "codemirror_mode": {
    "name": "ipython",
    "version": 3
   },
   "file_extension": ".py",
   "mimetype": "text/x-python",
   "name": "python",
   "nbconvert_exporter": "python",
   "pygments_lexer": "ipython3",
   "version": "3.6.6"
  },
  "toc": {
   "base_numbering": 1,
   "nav_menu": {},
   "number_sections": true,
   "sideBar": true,
   "skip_h1_title": false,
   "title_cell": "Table of Contents",
   "title_sidebar": "Contents",
   "toc_cell": true,
   "toc_position": {},
   "toc_section_display": true,
   "toc_window_display": false
  }
 },
 "nbformat": 4,
 "nbformat_minor": 2
}
