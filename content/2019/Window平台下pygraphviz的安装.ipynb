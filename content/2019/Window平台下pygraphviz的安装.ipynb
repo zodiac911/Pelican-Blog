{
 "cells": [
  {
   "cell_type": "markdown",
   "metadata": {},
   "source": [
    "<div align=\"center\">  <img src=\"https://image-bed-zodiac.oss-cn-qingdao.aliyuncs.com/foo_2.png\" width=\"650\"/> </div><br>"
   ]
  },
  {
   "cell_type": "markdown",
   "metadata": {
    "toc": true
   },
   "source": [
    "<h1>Table of Contents<span class=\"tocSkip\"></span></h1>\n",
    "<div class=\"toc\"><ul class=\"toc-item\"><li><span><a href=\"#安装-graphviz\" data-toc-modified-id=\"安装-graphviz-1\"><span class=\"toc-item-num\">1&nbsp;&nbsp;</span>安装 graphviz</a></span></li><li><span><a href=\"#将安装路径添加到系统-PATH\" data-toc-modified-id=\"将安装路径添加到系统-PATH-2\"><span class=\"toc-item-num\">2&nbsp;&nbsp;</span>将安装路径添加到系统 PATH</a></span></li><li><span><a href=\"#下载-pygraphviz-wheel-文件手动完成安装\" data-toc-modified-id=\"下载-pygraphviz-wheel-文件手动完成安装-3\"><span class=\"toc-item-num\">3&nbsp;&nbsp;</span>下载 pygraphviz wheel 文件手动完成安装</a></span></li></ul></div>"
   ]
  },
  {
   "cell_type": "markdown",
   "metadata": {},
   "source": [
    "屡次安装 pygraphviz 受阻，网上查找到的教程多是只提到了需要先安装 graphviz，但并未提到使用 pip install 时的安装文件只适用于 py2，且官网也并未给出 py3 版本的 wheel 文件，故将测试成功的安装过程记录如下。"
   ]
  },
  {
   "cell_type": "markdown",
   "metadata": {},
   "source": [
    "### 安装 graphviz"
   ]
  },
  {
   "cell_type": "markdown",
   "metadata": {},
   "source": [
    "graphviz 是必备的依赖项，从 graphviz 官网 https://www.graphviz.org/download/ 下载 Windows 平台安装包并安装\n",
    "\n",
    "<div align=\"center\">  <img src=\"https://image-bed-zodiac.oss-cn-qingdao.aliyuncs.com/clipboard20190516-1.png\" width=\"800\"/> </div><br>\n",
    "<div align=\"center\">  <img src=\"https://image-bed-zodiac.oss-cn-qingdao.aliyuncs.com/clipboard1.png\" width=\"800\"/> </div><br>"
   ]
  },
  {
   "cell_type": "markdown",
   "metadata": {},
   "source": [
    "### 将安装路径添加到系统 PATH\n",
    "\n",
    "一般来说应该是 `C:\\Program Files (x86)\\Graphviz2.38\\bin`"
   ]
  },
  {
   "cell_type": "markdown",
   "metadata": {},
   "source": [
    "### 下载 pygraphviz wheel 文件手动完成安装"
   ]
  },
  {
   "cell_type": "markdown",
   "metadata": {},
   "source": [
    "**从这里 https://github.com/CristiFati/Prebuilt-Binaries/tree/master/Windows/PyGraphviz 下载 wheel 文件（因为 pip 包管理直接安装的是针对 py27 版本的，且很久没有更新了）**\n",
    "\n",
    "<div align=\"center\">  <img src=\"https://image-bed-zodiac.oss-cn-qingdao.aliyuncs.com/clipboard20190515-1.png\" width=\"800\"/> </div><br>\n",
    "\n",
    "切换到 wheel 文件路径，完成安装\n",
    "\n",
    "`pip install pygraphviz-1.5-cp36-cp36m-win_amd64.whl`"
   ]
  }
 ],
 "metadata": {
  "kernelspec": {
   "display_name": "Python 3",
   "language": "python",
   "name": "python3"
  },
  "language_info": {
   "codemirror_mode": {
    "name": "ipython",
    "version": 3
   },
   "file_extension": ".py",
   "mimetype": "text/x-python",
   "name": "python",
   "nbconvert_exporter": "python",
   "pygments_lexer": "ipython3",
   "version": "3.6.6"
  },
  "toc": {
   "base_numbering": 1,
   "nav_menu": {},
   "number_sections": true,
   "sideBar": true,
   "skip_h1_title": false,
   "title_cell": "Table of Contents",
   "title_sidebar": "Contents",
   "toc_cell": true,
   "toc_position": {},
   "toc_section_display": true,
   "toc_window_display": false
  }
 },
 "nbformat": 4,
 "nbformat_minor": 2
}
