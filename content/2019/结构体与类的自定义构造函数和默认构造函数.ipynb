{
 "cells": [
  {
   "cell_type": "markdown",
   "metadata": {
    "toc": true
   },
   "source": [
    "<h1>Table of Contents<span class=\"tocSkip\"></span></h1>\n",
    "<div class=\"toc\"><ul class=\"toc-item\"></ul></div>"
   ]
  },
  {
   "cell_type": "markdown",
   "metadata": {},
   "source": [
    "首先，如果在创建结构体或者类的时候不提供自定义的构造函数（constructor），编译器会提供一个默认的构造函数，即什么都不做；\n",
    "\n",
    "但是一旦自己提供了自定义的构造函数的话，那么必须同时提供一个显式的默认构造函数，否则在定义和初始化的时候将必须使用自定义的构造函数而没有默认构造函数可用。\n",
    "\n",
    "比如\n",
    "```Cpp\n",
    "struct stock {\n",
    "    int val;\n",
    "    int num;\n",
    "};\n",
    "stock* s = new stock;\n",
    "stock* s1 = new stock();\n",
    "stock* s2 = new stock[3];\n",
    "```\n",
    "\n",
    "都是可以的，这三条语句都将调用编译器提供的默认构造函数\n",
    "但是假如提供了自定义的构造函数\n",
    "```cpp\n",
    "struct stock {\n",
    "    int val;\n",
    "    int num;\n",
    "    stock(int a, int b) {\n",
    "        val = a;\n",
    "        num = b;\n",
    "    }\n",
    "};\n",
    "\n",
    "stock* s = new stock;\n",
    "stock* s1 = new stock();\n",
    "stock* s2 = new stock[3];\n",
    "stock* s3 = new stock(1, 2);\n",
    "```\n",
    "前三条语句将会出错，系统会提示 “stock 没有默认构造函数”，只有第四条调用了自定义构造函数的语句可以成功定义并初始化一个 stock 结构体。\n",
    "\n",
    "但是我们只要给 stock 显式的提供一个默认构造函数 stock(); 就可以重新使用默认构造函数了\n",
    "```cpp\n",
    "struct stock {\n",
    "    int val;\n",
    "    int num;\n",
    "    stock(int a, int b) {\n",
    "        val = a;\n",
    "        num = b;\n",
    "    }\n",
    "    stock(){};\n",
    "};\n",
    "\n",
    "stock* s = new stock;\n",
    "stock* s1 = new stock();\n",
    "stock* s2 = new stock[3];\n",
    "stock* s3 = new stock(1, 2);\n",
    "```\n",
    "这样，四条初始化语句就都是合法的了\n"
   ]
  }
 ],
 "metadata": {
  "kernelspec": {
   "display_name": "Python 3",
   "language": "python",
   "name": "python3"
  },
  "language_info": {
   "codemirror_mode": {
    "name": "ipython",
    "version": 3
   },
   "file_extension": ".py",
   "mimetype": "text/x-python",
   "name": "python",
   "nbconvert_exporter": "python",
   "pygments_lexer": "ipython3",
   "version": "3.6.8"
  },
  "toc": {
   "base_numbering": 1,
   "nav_menu": {},
   "number_sections": true,
   "sideBar": true,
   "skip_h1_title": false,
   "title_cell": "Table of Contents",
   "title_sidebar": "Contents",
   "toc_cell": true,
   "toc_position": {},
   "toc_section_display": true,
   "toc_window_display": false
  }
 },
 "nbformat": 4,
 "nbformat_minor": 2
}
