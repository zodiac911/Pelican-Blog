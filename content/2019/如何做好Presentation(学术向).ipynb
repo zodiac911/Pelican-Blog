{
 "cells": [
  {
   "cell_type": "markdown",
   "metadata": {},
   "source": [
    "<div align=\"center\">  <img src=\"https://image-bed-zodiac.oss-cn-qingdao.aliyuncs.com/20190519/d41586-019-01574-z_16719368.jpg\" width=\"650\"/> </div><br>"
   ]
  },
  {
   "cell_type": "markdown",
   "metadata": {
    "toc": true
   },
   "source": [
    "<h1>Table of Contents<span class=\"tocSkip\"></span></h1>\n",
    "<div class=\"toc\"><ul class=\"toc-item\"><li><span><a href=\"#PPT\" data-toc-modified-id=\"PPT-1\"><span class=\"toc-item-num\">1&nbsp;&nbsp;</span>PPT</a></span><ul class=\"toc-item\"><li><span><a href=\"#Focus-on-one-idea-at-a-time-一次只说一件事\" data-toc-modified-id=\"Focus-on-one-idea-at-a-time-一次只说一件事-1.1\"><span class=\"toc-item-num\">1.1&nbsp;&nbsp;</span>Focus on one idea at a time 一次只说一件事</a></span></li><li><span><a href=\"#Do-not-write-paragraphs-不要在-PPT-上放大量文字\" data-toc-modified-id=\"Do-not-write-paragraphs-不要在-PPT-上放大量文字-1.2\"><span class=\"toc-item-num\">1.2&nbsp;&nbsp;</span>Do not write paragraphs 不要在 PPT 上放大量文字</a></span></li><li><span><a href=\"#Reel-the-audience-in.\" data-toc-modified-id=\"Reel-the-audience-in.-1.3\"><span class=\"toc-item-num\">1.3&nbsp;&nbsp;</span>Reel the audience in.</a></span></li><li><span><a href=\"#Follow-the-‘question,-experiment,-result’-format-遵循‘问题,-实验,-结果’的范式。\" data-toc-modified-id=\"Follow-the-‘question,-experiment,-result’-format-遵循‘问题,-实验,-结果’的范式。-1.4\"><span class=\"toc-item-num\">1.4&nbsp;&nbsp;</span>Follow the ‘question, experiment, result’ format 遵循‘问题, 实验, 结果’的范式。</a></span></li><li><span><a href=\"#Paint-a-big-picture-描述前景\" data-toc-modified-id=\"Paint-a-big-picture-描述前景-1.5\"><span class=\"toc-item-num\">1.5&nbsp;&nbsp;</span>Paint a big picture 描述前景</a></span></li></ul></li><li><span><a href=\"#Presenter\" data-toc-modified-id=\"Presenter-2\"><span class=\"toc-item-num\">2&nbsp;&nbsp;</span>Presenter</a></span><ul class=\"toc-item\"><li><span><a href=\"#Pace-yourself:-breathe,-let-the-audience-soak-it-in-放慢节奏，深呼吸等听众准备好。\" data-toc-modified-id=\"Pace-yourself:-breathe,-let-the-audience-soak-it-in-放慢节奏，深呼吸等听众准备好。-2.1\"><span class=\"toc-item-num\">2.1&nbsp;&nbsp;</span>Pace yourself: breathe, let the audience soak it in 放慢节奏，深呼吸等听众准备好。</a></span></li><li><span><a href=\"#Convey-passion-传递激情\" data-toc-modified-id=\"Convey-passion-传递激情-2.2\"><span class=\"toc-item-num\">2.2&nbsp;&nbsp;</span>Convey passion 传递激情</a></span></li><li><span><a href=\"#Point-the-laser-correctly-用好激光笔\" data-toc-modified-id=\"Point-the-laser-correctly-用好激光笔-2.3\"><span class=\"toc-item-num\">2.3&nbsp;&nbsp;</span>Point the laser correctly 用好激光笔</a></span></li><li><span><a href=\"#Modulate-your-voice-注意语调\" data-toc-modified-id=\"Modulate-your-voice-注意语调-2.4\"><span class=\"toc-item-num\">2.4&nbsp;&nbsp;</span>Modulate your voice 注意语调</a></span></li><li><span><a href=\"#Practise,-practise,-practise-多练习\" data-toc-modified-id=\"Practise,-practise,-practise-多练习-2.5\"><span class=\"toc-item-num\">2.5&nbsp;&nbsp;</span>Practise, practise, practise 多练习</a></span></li></ul></li></ul></div>"
   ]
  },
  {
   "cell_type": "markdown",
   "metadata": {},
   "source": [
    "原文 [Ways to give an effective seminar about your research project](https://www.nature.com/articles/d41586-019-01574-z?utm_source=twt_nnc&utm_medium=social&utm_campaign=naturenews&sf212870199=1) 是 Nature Careers Community 的一篇关于如何做 presentation 的总结文章，写的很好，用中文总结一下以自勉。\n",
    "\n",
    "**Grab your audience’s attention by using slides as a roadmap and focusing on your role as a presenter**"
   ]
  },
  {
   "cell_type": "markdown",
   "metadata": {},
   "source": [
    "做好 presentation 有两个关键，你和你的 PPT。PPT 在 presentation 中应该作为 roadmap 而存在，下面是关于如何做好 PPT 的几点建议：\n",
    "\n",
    "## PPT\n",
    "\n",
    "### Focus on one idea at a time 一次只说一件事\n",
    "\n",
    "不要在 PPT 上放太多东西，PPT 应该是 presentation 的 roadmap，在解释一些关键概念时可以用动画，一步步揭开问题的全貌。\n",
    "\n",
    "### Do not write paragraphs 不要在 PPT 上放大量文字\n",
    "\n",
    "听众阅读的速度比你讲的要快得多，如果你只是念 PPT 上的文字，那么没意义，不如让听众直接看。如果你讲的是其他的内容，那么这些文字将极大的分散听众的注意力。总之，不要放大段文字。\n",
    "\n",
    "### Reel the audience in.\n",
    "\n",
    "为了在 presentation 过程中吸引听众的注意力，提前准备好一些可能被问到的问题的答案，比如“我为什么要关注这个指标？”\n",
    "\n",
    "### Follow the ‘question, experiment, result’ format 遵循‘问题, 实验, 结果’的范式。\n",
    "\n",
    "研究很复杂，但 presentation 可以简单清楚。虽然做了很多实验和工作，但在做 presentation 的时候应该让这些结果活起来，一步步带着听众去验证你的假设，最终给出答案。\n",
    "\n",
    "在 presentation 的一开始就强调自己想要解决的问题，之后循序渐进，你的假设是什么？再讲讲所做的实验如何帮助你回答问题并验证假设，最后给出结果。遵循这一范式，听众会很乐见你的结果符合他们的预期和思考。\n",
    "\n",
    "### Paint a big picture 描述前景\n",
    "\n",
    "虽然在 PPT 的末尾做个总结很不错，但听众在几天之后可能就忘掉了你讲的内容。应该从更加宏大的视角描述你的工作，你的工作对相关领域做了什么贡献？这样才能让听众记住你的工作。\n",
    "\n",
    "## Presenter\n",
    "\n",
    "PPT 准备好了之后，剩下的就是如何做一个好的 presenter\n",
    "\n",
    "### Pace yourself: breathe, let the audience soak it in 放慢节奏，深呼吸等听众准备好。\n",
    "\n",
    "不要急着开始，人在紧张的时候语速容易变快，这对 presentation 没有好处。在每个重要的结果之后稍作停顿，让听众思考几秒钟，同样也能缓解自己的紧张情绪。\n",
    "\n",
    "### Convey passion 传递激情\n",
    "\n",
    "听众对信息的反应取决于你展示的方式，为了抓住听众的注意力，可以使用一些比较富有激情的表达，'These results were surprising', 'We found a really cool phenomenon' and 'The implications of these findings are exciting'.\n",
    "\n",
    "### Point the laser correctly 用好激光笔\n",
    "\n",
    "人类在这一点上其实和猫很像，他们的注意力会跟随光标移动。拿好激光笔，准确指出你的关注点，让听众的注意力集中在这里。\n",
    "\n",
    "### Modulate your voice 注意语调\n",
    "\n",
    "在做不同陈述时使用不同的语调，当你紧张时听众可能会失去兴趣。\n",
    "\n",
    "### Practise, practise, practise 多练习\n",
    "\n",
    "你的节奏、你的肢体语言、如何走动、以及如何使用激光笔等等。 完美的效果应该是，即使不看 PPT 也能做好整个 presentation."
   ]
  }
 ],
 "metadata": {
  "kernelspec": {
   "display_name": "Python 3",
   "language": "python",
   "name": "python3"
  },
  "language_info": {
   "codemirror_mode": {
    "name": "ipython",
    "version": 3
   },
   "file_extension": ".py",
   "mimetype": "text/x-python",
   "name": "python",
   "nbconvert_exporter": "python",
   "pygments_lexer": "ipython3",
   "version": "3.6.6"
  },
  "toc": {
   "base_numbering": 1,
   "nav_menu": {},
   "number_sections": true,
   "sideBar": true,
   "skip_h1_title": false,
   "title_cell": "Table of Contents",
   "title_sidebar": "Contents",
   "toc_cell": true,
   "toc_position": {},
   "toc_section_display": true,
   "toc_window_display": false
  }
 },
 "nbformat": 4,
 "nbformat_minor": 2
}
