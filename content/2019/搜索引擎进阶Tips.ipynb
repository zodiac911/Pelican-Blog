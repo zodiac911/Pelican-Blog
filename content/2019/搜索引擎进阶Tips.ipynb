{
 "cells": [
  {
   "cell_type": "markdown",
   "metadata": {},
   "source": [
    "<div align=\"center\"><img src=\"https://image-bed-zodiac.oss-cn-qingdao.aliyuncs.com/14-Great-Search-Engines-You-Can-Use-Instead-of-Google-760x400.png\" width=\"650\"/> </div><br>"
   ]
  },
  {
   "cell_type": "markdown",
   "metadata": {},
   "source": [
    "善用搜素引擎，快乐如影随形。\n",
    "\n",
    "搜索的第一要义，**关键词搜索**，不要写一句话。\n",
    "\n",
    "例如 `医院 双眼皮` >>>>> `能割双眼皮的医院`\n",
    "\n",
    "以下为几个常用的简单搜索引擎使用技巧"
   ]
  },
  {
   "cell_type": "markdown",
   "metadata": {
    "toc": true
   },
   "source": [
    "<h1>Table of Contents<span class=\"tocSkip\"></span></h1>\n",
    "<div class=\"toc\"><ul class=\"toc-item\"><li><span><a href=\"#用-“”-包含关键词，禁止搜索引擎对关键词拆分\" data-toc-modified-id=\"用-“”-包含关键词，禁止搜索引擎对关键词拆分-1\"><span class=\"toc-item-num\">1&nbsp;&nbsp;</span>用 <code>“”</code> 包含关键词，禁止搜索引擎对关键词拆分</a></span></li><li><span><a href=\"#intitle-命令，搜索结果的标题中必须含有该关键词\" data-toc-modified-id=\"intitle-命令，搜索结果的标题中必须含有该关键词-2\"><span class=\"toc-item-num\">2&nbsp;&nbsp;</span>intitle 命令，搜索结果的标题中必须含有该关键词</a></span></li><li><span><a href=\"#site-命令-，指定网站进行搜索\" data-toc-modified-id=\"site-命令-，指定网站进行搜索-3\"><span class=\"toc-item-num\">3&nbsp;&nbsp;</span>site 命令 ，指定网站进行搜索</a></span></li><li><span><a href=\"#--命令-过滤掉一些搜索结果\" data-toc-modified-id=\"--命令-过滤掉一些搜索结果-4\"><span class=\"toc-item-num\">4&nbsp;&nbsp;</span><code>-</code> 命令 过滤掉一些搜索结果</a></span></li></ul></div>"
   ]
  },
  {
   "cell_type": "markdown",
   "metadata": {},
   "source": [
    "### 用 `“”` 包含关键词，禁止搜索引擎对关键词拆分\n",
    "\n",
    "例如 `“苹果电脑”`"
   ]
  },
  {
   "cell_type": "markdown",
   "metadata": {},
   "source": [
    "### intitle 命令，搜索结果的标题中必须含有该关键词 \n",
    "\n",
    "例如 `intitle: 苹果电脑`"
   ]
  },
  {
   "cell_type": "markdown",
   "metadata": {},
   "source": [
    "### site 命令 ，指定网站进行搜索 \n",
    "\n",
    "例如  `matplotlib site:zodiac911.github.io` 搜索得到的结果都是本博客的内容。 注意，site 后的域名不能加 http \n",
    "\n",
    "<div align=\"center\">  <img src=\"https://image-bed-zodiac.oss-cn-qingdao.aliyuncs.com/%E6%89%B9%E6%B3%A8%202019-05-16%20122538.png\" width=\"800\"/> </div><br>"
   ]
  },
  {
   "cell_type": "markdown",
   "metadata": {},
   "source": [
    "###  `-` 命令 过滤掉一些搜索结果 \n",
    "\n",
    "例如  `皮肤病医院 -推广`"
   ]
  }
 ],
 "metadata": {
  "kernelspec": {
   "display_name": "Python 3",
   "language": "python",
   "name": "python3"
  },
  "language_info": {
   "codemirror_mode": {
    "name": "ipython",
    "version": 3
   },
   "file_extension": ".py",
   "mimetype": "text/x-python",
   "name": "python",
   "nbconvert_exporter": "python",
   "pygments_lexer": "ipython3",
   "version": "3.6.6"
  },
  "toc": {
   "base_numbering": 1,
   "nav_menu": {},
   "number_sections": true,
   "sideBar": true,
   "skip_h1_title": false,
   "title_cell": "Table of Contents",
   "title_sidebar": "Contents",
   "toc_cell": true,
   "toc_position": {},
   "toc_section_display": true,
   "toc_window_display": false
  }
 },
 "nbformat": 4,
 "nbformat_minor": 2
}
