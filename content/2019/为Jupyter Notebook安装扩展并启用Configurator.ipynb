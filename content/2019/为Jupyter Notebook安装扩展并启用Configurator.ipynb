{
 "cells": [
  {
   "cell_type": "markdown",
   "metadata": {},
   "source": [
    "<div align=\"center\"> <img src=\"http://image-bed-zodiac.oss-cn-qingdao.aliyuncs.com/18-10-10/87614313.jpg\" width=\"650\"/> </div><br>"
   ]
  },
  {
   "cell_type": "markdown",
   "metadata": {
    "toc": true
   },
   "source": [
    "<h1>Table of Contents<span class=\"tocSkip\"></span></h1>\n",
    "<div class=\"toc\"><ul class=\"toc-item\"><li><span><a href=\"#安装-jupyter_contrib_nbextensions\" data-toc-modified-id=\"安装-jupyter_contrib_nbextensions-1\"><span class=\"toc-item-num\">1&nbsp;&nbsp;</span>安装 jupyter_contrib_nbextensions</a></span></li><li><span><a href=\"#激活-nbextensions\" data-toc-modified-id=\"激活-nbextensions-2\"><span class=\"toc-item-num\">2&nbsp;&nbsp;</span>激活 nbextensions</a></span></li><li><span><a href=\"#安装并启用-Jupyter-Nbextensions-Configurator\" data-toc-modified-id=\"安装并启用-Jupyter-Nbextensions-Configurator-3\"><span class=\"toc-item-num\">3&nbsp;&nbsp;</span>安装并启用 Jupyter Nbextensions Configurator</a></span></li></ul></div>"
   ]
  },
  {
   "cell_type": "markdown",
   "metadata": {},
   "source": [
    "Jupyter Notebook 是一款很好的将代码与笔记结合起来的工具，但功能稍显单薄。社区为Jupyter Notebook 开发了扩展程序，提供了一些额外的功能。但之前安装 Jupyter Nbextensions Configurator 后有一定可能无法在 dashboard 页面显示 Configurator 的菜单，看了一下说明文档，简单记录一下。"
   ]
  },
  {
   "cell_type": "markdown",
   "metadata": {},
   "source": [
    "## 安装 jupyter_contrib_nbextensions\n",
    "\n",
    "```shell\n",
    "pip install jupyter_contrib_nbextensions\n",
    "```\n",
    "\n",
    "## 激活 nbextensions\n",
    "\n",
    "This step copies the nbextensions' javascript and css files into the jupyter server's search directory, and edits some jupyter config files\n",
    "\n",
    "```\n",
    "jupyter contrib nbextension install --user\n",
    "```\n",
    "\n",
    "\n",
    "## 安装并启用 Jupyter Nbextensions Configurator\n",
    "\n",
    "```\n",
    "pip install jupyter_nbextensions_configurator\n",
    "jupyter nbextensions_configurator enable --user\n",
    "```\n",
    "\n",
    "之后便可在 `url/nbextensions` 的位置打开 configurator 进行设置了,例如启动 Jupyter Notebook 之后的网址为 `http://localhost:8888/tree`，那么 Jupyter Nbextensions Configurator 的设置地址则为 `http://localhost:8888/nbextensions`.\n",
    "\n"
   ]
  },
  {
   "cell_type": "markdown",
   "metadata": {},
   "source": [
    "**两个特别推荐的 Notebook 拓展**\n",
    "\n",
    "- Table of Contents (2) 自动生成文章的 TOC 目录\n",
    "- Autopep8 自动代码格式优化"
   ]
  },
  {
   "cell_type": "markdown",
   "metadata": {},
   "source": [
    "参考：https://github.com/Jupyter-contrib/jupyter_nbextensions_configurator#Usage"
   ]
  }
 ],
 "metadata": {
  "kernelspec": {
   "display_name": "Python 3",
   "language": "python",
   "name": "python3"
  },
  "language_info": {
   "codemirror_mode": {
    "name": "ipython",
    "version": 3
   },
   "file_extension": ".py",
   "mimetype": "text/x-python",
   "name": "python",
   "nbconvert_exporter": "python",
   "pygments_lexer": "ipython3",
   "version": "3.6.6"
  },
  "toc": {
   "base_numbering": 1,
   "nav_menu": {},
   "number_sections": true,
   "sideBar": true,
   "skip_h1_title": false,
   "title_cell": "Table of Contents",
   "title_sidebar": "Contents",
   "toc_cell": true,
   "toc_position": {},
   "toc_section_display": true,
   "toc_window_display": false
  }
 },
 "nbformat": 4,
 "nbformat_minor": 2
}
