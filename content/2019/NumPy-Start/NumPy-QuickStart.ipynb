{
 "cells": [
  {
   "cell_type": "markdown",
   "metadata": {},
   "source": [
    "<div align=\"center\">  <img src=\"http://mathalope.co.uk/wp-content/uploads/2017/09/python-numpy-logo-672x263.png\" width=\"650\"/> </div><br>"
   ]
  },
  {
   "cell_type": "markdown",
   "metadata": {},
   "source": [
    "NumPy入门笔记，NumPy官网这篇 [Tutorial](https://docs.scipy.org/doc/numpy/user/quickstart.html) 的整理和补充"
   ]
  },
  {
   "cell_type": "markdown",
   "metadata": {
    "toc": true
   },
   "source": [
    "<h1>Table of Contents<span class=\"tocSkip\"></span></h1>\n",
    "<div class=\"toc\"><ul class=\"toc-item\"><li><span><a href=\"#基础知识\" data-toc-modified-id=\"基础知识-1\"><span class=\"toc-item-num\">1&nbsp;&nbsp;</span>基础知识</a></span><ul class=\"toc-item\"><li><span><a href=\"#一个例子\" data-toc-modified-id=\"一个例子-1.1\"><span class=\"toc-item-num\">1.1&nbsp;&nbsp;</span>一个例子</a></span></li><li><span><a href=\"#ndarray的构造\" data-toc-modified-id=\"ndarray的构造-1.2\"><span class=\"toc-item-num\">1.2&nbsp;&nbsp;</span>ndarray的构造</a></span><ul class=\"toc-item\"><li><span><a href=\"#基于可迭代对象构造\" data-toc-modified-id=\"基于可迭代对象构造-1.2.1\"><span class=\"toc-item-num\">1.2.1&nbsp;&nbsp;</span>基于可迭代对象构造</a></span></li><li><span><a href=\"#内置构造函数\" data-toc-modified-id=\"内置构造函数-1.2.2\"><span class=\"toc-item-num\">1.2.2&nbsp;&nbsp;</span>内置构造函数</a></span></li><li><span><a href=\"#按函数生成\" data-toc-modified-id=\"按函数生成-1.2.3\"><span class=\"toc-item-num\">1.2.3&nbsp;&nbsp;</span>按函数生成</a></span></li></ul></li><li><span><a href=\"#打印多维数组\" data-toc-modified-id=\"打印多维数组-1.3\"><span class=\"toc-item-num\">1.3&nbsp;&nbsp;</span>打印多维数组</a></span></li><li><span><a href=\"#基本操作\" data-toc-modified-id=\"基本操作-1.4\"><span class=\"toc-item-num\">1.4&nbsp;&nbsp;</span>基本操作</a></span></li><li><span><a href=\"#通用函数\" data-toc-modified-id=\"通用函数-1.5\"><span class=\"toc-item-num\">1.5&nbsp;&nbsp;</span>通用函数</a></span></li><li><span><a href=\"#索引、切片和迭代\" data-toc-modified-id=\"索引、切片和迭代-1.6\"><span class=\"toc-item-num\">1.6&nbsp;&nbsp;</span>索引、切片和迭代</a></span></li></ul></li><li><span><a href=\"#形状操作\" data-toc-modified-id=\"形状操作-2\"><span class=\"toc-item-num\">2&nbsp;&nbsp;</span>形状操作</a></span><ul class=\"toc-item\"><li><span><a href=\"#改变ndarray的形状\" data-toc-modified-id=\"改变ndarray的形状-2.1\"><span class=\"toc-item-num\">2.1&nbsp;&nbsp;</span>改变ndarray的形状</a></span></li><li><span><a href=\"#ndarray的组合\" data-toc-modified-id=\"ndarray的组合-2.2\"><span class=\"toc-item-num\">2.2&nbsp;&nbsp;</span>ndarray的组合</a></span></li><li><span><a href=\"#拆分ndarray\" data-toc-modified-id=\"拆分ndarray-2.3\"><span class=\"toc-item-num\">2.3&nbsp;&nbsp;</span>拆分ndarray</a></span></li></ul></li><li><span><a href=\"#副本与视图\" data-toc-modified-id=\"副本与视图-3\"><span class=\"toc-item-num\">3&nbsp;&nbsp;</span>副本与视图</a></span><ul class=\"toc-item\"><li><span><a href=\"#完全无复制\" data-toc-modified-id=\"完全无复制-3.1\"><span class=\"toc-item-num\">3.1&nbsp;&nbsp;</span>完全无复制</a></span></li><li><span><a href=\"#视图与浅复制\" data-toc-modified-id=\"视图与浅复制-3.2\"><span class=\"toc-item-num\">3.2&nbsp;&nbsp;</span>视图与浅复制</a></span><ul class=\"toc-item\"><li><span><a href=\"#基于切片行为产生的视图\" data-toc-modified-id=\"基于切片行为产生的视图-3.2.1\"><span class=\"toc-item-num\">3.2.1&nbsp;&nbsp;</span>基于切片行为产生的视图</a></span></li><li><span><a href=\"#基于view函数产生的视图\" data-toc-modified-id=\"基于view函数产生的视图-3.2.2\"><span class=\"toc-item-num\">3.2.2&nbsp;&nbsp;</span>基于<code>view</code>函数产生的视图</a></span></li></ul></li><li><span><a href=\"#深复制\" data-toc-modified-id=\"深复制-3.3\"><span class=\"toc-item-num\">3.3&nbsp;&nbsp;</span>深复制</a></span><ul class=\"toc-item\"><li><span><a href=\"#基于高级索引产生的副本\" data-toc-modified-id=\"基于高级索引产生的副本-3.3.1\"><span class=\"toc-item-num\">3.3.1&nbsp;&nbsp;</span>基于高级索引产生的副本</a></span></li><li><span><a href=\"#基于-copy函数产生的副本\" data-toc-modified-id=\"基于-copy函数产生的副本-3.3.2\"><span class=\"toc-item-num\">3.3.2&nbsp;&nbsp;</span>基于 <code>copy</code>函数产生的副本</a></span></li><li><span><a href=\"#作为右值对其他ndarray进行赋值时，为深复制\" data-toc-modified-id=\"作为右值对其他ndarray进行赋值时，为深复制-3.3.3\"><span class=\"toc-item-num\">3.3.3&nbsp;&nbsp;</span>作为右值对其他ndarray进行赋值时，为深复制</a></span></li><li><span><a href=\"#基于array函数的ndarray构造，为深复制\" data-toc-modified-id=\"基于array函数的ndarray构造，为深复制-3.3.4\"><span class=\"toc-item-num\">3.3.4&nbsp;&nbsp;</span>基于<code>array</code>函数的ndarray构造，为深复制</a></span></li></ul></li><li><span><a href=\"#函数与方法概览\" data-toc-modified-id=\"函数与方法概览-3.4\"><span class=\"toc-item-num\">3.4&nbsp;&nbsp;</span>函数与方法概览</a></span></li></ul></li><li><span><a href=\"#进阶内容\" data-toc-modified-id=\"进阶内容-4\"><span class=\"toc-item-num\">4&nbsp;&nbsp;</span>进阶内容</a></span><ul class=\"toc-item\"><li><span><a href=\"#广播规则\" data-toc-modified-id=\"广播规则-4.1\"><span class=\"toc-item-num\">4.1&nbsp;&nbsp;</span>广播规则</a></span></li></ul></li><li><span><a href=\"#高级索引及索引技巧\" data-toc-modified-id=\"高级索引及索引技巧-5\"><span class=\"toc-item-num\">5&nbsp;&nbsp;</span>高级索引及索引技巧</a></span><ul class=\"toc-item\"><li><span><a href=\"#使用数字序列进行索引\" data-toc-modified-id=\"使用数字序列进行索引-5.1\"><span class=\"toc-item-num\">5.1&nbsp;&nbsp;</span>使用数字序列进行索引</a></span><ul class=\"toc-item\"><li><span><a href=\"#单个序列作为索引\" data-toc-modified-id=\"单个序列作为索引-5.1.1\"><span class=\"toc-item-num\">5.1.1&nbsp;&nbsp;</span>单个序列作为索引</a></span></li><li><span><a href=\"#多个序列作为索引\" data-toc-modified-id=\"多个序列作为索引-5.1.2\"><span class=\"toc-item-num\">5.1.2&nbsp;&nbsp;</span>多个序列作为索引</a></span></li></ul></li><li><span><a href=\"#使用布尔序列进行索引\" data-toc-modified-id=\"使用布尔序列进行索引-5.2\"><span class=\"toc-item-num\">5.2&nbsp;&nbsp;</span>使用布尔序列进行索引</a></span><ul class=\"toc-item\"><li><span><a href=\"#用一个和目标ndarray同样形状的布尔序列进行索引\" data-toc-modified-id=\"用一个和目标ndarray同样形状的布尔序列进行索引-5.2.1\"><span class=\"toc-item-num\">5.2.1&nbsp;&nbsp;</span>用一个和目标ndarray同样形状的布尔序列进行索引</a></span></li><li><span><a href=\"#第二种场景更像前面提到的整数序列索引\" data-toc-modified-id=\"第二种场景更像前面提到的整数序列索引-5.2.2\"><span class=\"toc-item-num\">5.2.2&nbsp;&nbsp;</span>第二种场景更像前面提到的整数序列索引</a></span></li></ul></li><li><span><a href=\"#ix_\" data-toc-modified-id=\"ix_-5.3\"><span class=\"toc-item-num\">5.3&nbsp;&nbsp;</span><code>ix_</code></a></span></li><li><span><a href=\"#使用字符串索引\" data-toc-modified-id=\"使用字符串索引-5.4\"><span class=\"toc-item-num\">5.4&nbsp;&nbsp;</span>使用字符串索引</a></span></li></ul></li><li><span><a href=\"#线性代数\" data-toc-modified-id=\"线性代数-6\"><span class=\"toc-item-num\">6&nbsp;&nbsp;</span>线性代数</a></span><ul class=\"toc-item\"><li><span><a href=\"#简单的线性代数运算\" data-toc-modified-id=\"简单的线性代数运算-6.1\"><span class=\"toc-item-num\">6.1&nbsp;&nbsp;</span>简单的线性代数运算</a></span></li></ul></li><li><span><a href=\"#技巧和提示\" data-toc-modified-id=\"技巧和提示-7\"><span class=\"toc-item-num\">7&nbsp;&nbsp;</span>技巧和提示</a></span><ul class=\"toc-item\"><li><span><a href=\"#“自动”改变形状\" data-toc-modified-id=\"“自动”改变形状-7.1\"><span class=\"toc-item-num\">7.1&nbsp;&nbsp;</span>“自动”改变形状</a></span></li><li><span><a href=\"#向量组合\" data-toc-modified-id=\"向量组合-7.2\"><span class=\"toc-item-num\">7.2&nbsp;&nbsp;</span>向量组合</a></span></li><li><span><a href=\"#直方图\" data-toc-modified-id=\"直方图-7.3\"><span class=\"toc-item-num\">7.3&nbsp;&nbsp;</span>直方图</a></span></li></ul></li><li><span><a href=\"#index\" data-toc-modified-id=\"index-8\"><span class=\"toc-item-num\">8&nbsp;&nbsp;</span>index</a></span><ul class=\"toc-item\"><li><span><a href=\"#numpy.random模块\" data-toc-modified-id=\"numpy.random模块-8.1\"><span class=\"toc-item-num\">8.1&nbsp;&nbsp;</span><code>numpy.random</code>模块</a></span></li><li><span><a href=\"#ndarray-转换\" data-toc-modified-id=\"ndarray-转换-8.2\"><span class=\"toc-item-num\">8.2&nbsp;&nbsp;</span>ndarray 转换</a></span></li><li><span><a href=\"#形状操作\" data-toc-modified-id=\"形状操作-8.3\"><span class=\"toc-item-num\">8.3&nbsp;&nbsp;</span>形状操作</a></span></li><li><span><a href=\"#元素索引与转换\" data-toc-modified-id=\"元素索引与转换-8.4\"><span class=\"toc-item-num\">8.4&nbsp;&nbsp;</span>元素索引与转换</a></span></li><li><span><a href=\"#计算\" data-toc-modified-id=\"计算-8.5\"><span class=\"toc-item-num\">8.5&nbsp;&nbsp;</span>计算</a></span></li></ul></li><li><span><a href=\"#以下为补充内容\" data-toc-modified-id=\"以下为补充内容-9\"><span class=\"toc-item-num\">9&nbsp;&nbsp;</span>以下为补充内容</a></span></li><li><span><a href=\"#函数理解\" data-toc-modified-id=\"函数理解-10\"><span class=\"toc-item-num\">10&nbsp;&nbsp;</span>函数理解</a></span><ul class=\"toc-item\"><li><span><a href=\"#numpy.apply_along_axis\" data-toc-modified-id=\"numpy.apply_along_axis-10.1\"><span class=\"toc-item-num\">10.1&nbsp;&nbsp;</span><code>numpy.apply_along_axis</code></a></span></li><li><span><a href=\"#numpy.roll\" data-toc-modified-id=\"numpy.roll-10.2\"><span class=\"toc-item-num\">10.2&nbsp;&nbsp;</span><code>numpy.roll</code></a></span></li><li><span><a href=\"#统计函数\" data-toc-modified-id=\"统计函数-10.3\"><span class=\"toc-item-num\">10.3&nbsp;&nbsp;</span>统计函数</a></span></li><li><span><a href=\"#Matrix-library\" data-toc-modified-id=\"Matrix-library-10.4\"><span class=\"toc-item-num\">10.4&nbsp;&nbsp;</span>Matrix library</a></span></li><li><span><a href=\"#numpy.random.choice\" data-toc-modified-id=\"numpy.random.choice-10.5\"><span class=\"toc-item-num\">10.5&nbsp;&nbsp;</span><code>numpy.random.choice</code></a></span></li><li><span><a href=\"#array_split\" data-toc-modified-id=\"array_split-10.6\"><span class=\"toc-item-num\">10.6&nbsp;&nbsp;</span><code>array_split</code></a></span></li><li><span><a href=\"#numpy.linalg.norm\" data-toc-modified-id=\"numpy.linalg.norm-10.7\"><span class=\"toc-item-num\">10.7&nbsp;&nbsp;</span><code>numpy.linalg.norm</code></a></span></li><li><span><a href=\"#bincount\" data-toc-modified-id=\"bincount-10.8\"><span class=\"toc-item-num\">10.8&nbsp;&nbsp;</span><code>bincount</code></a></span></li><li><span><a href=\"#unique\" data-toc-modified-id=\"unique-10.9\"><span class=\"toc-item-num\">10.9&nbsp;&nbsp;</span><code>unique</code></a></span></li><li><span><a href=\"#hypot\" data-toc-modified-id=\"hypot-10.10\"><span class=\"toc-item-num\">10.10&nbsp;&nbsp;</span><code>hypot</code></a></span></li><li><span><a href=\"#unravel_index\" data-toc-modified-id=\"unravel_index-10.11\"><span class=\"toc-item-num\">10.11&nbsp;&nbsp;</span><code>unravel_index</code></a></span></li><li><span><a href=\"#NumPy-数据类型一览表\" data-toc-modified-id=\"NumPy-数据类型一览表-10.12\"><span class=\"toc-item-num\">10.12&nbsp;&nbsp;</span>NumPy 数据类型一览表</a></span></li></ul></li><li><span><a href=\"#特定任务\" data-toc-modified-id=\"特定任务-11\"><span class=\"toc-item-num\">11&nbsp;&nbsp;</span>特定任务</a></span><ul class=\"toc-item\"><li><span><a href=\"#ndarray导入与导出\" data-toc-modified-id=\"ndarray导入与导出-11.1\"><span class=\"toc-item-num\">11.1&nbsp;&nbsp;</span>ndarray导入与导出</a></span><ul class=\"toc-item\"><li><span><a href=\"#导出\" data-toc-modified-id=\"导出-11.1.1\"><span class=\"toc-item-num\">11.1.1&nbsp;&nbsp;</span>导出</a></span><ul class=\"toc-item\"><li><span><a href=\"#savetxt\" data-toc-modified-id=\"savetxt-11.1.1.1\"><span class=\"toc-item-num\">11.1.1.1&nbsp;&nbsp;</span>savetxt</a></span></li><li><span><a href=\"#tofile\" data-toc-modified-id=\"tofile-11.1.1.2\"><span class=\"toc-item-num\">11.1.1.2&nbsp;&nbsp;</span>tofile</a></span></li><li><span><a href=\"#np.save\" data-toc-modified-id=\"np.save-11.1.1.3\"><span class=\"toc-item-num\">11.1.1.3&nbsp;&nbsp;</span>np.save</a></span></li></ul></li><li><span><a href=\"#导入\" data-toc-modified-id=\"导入-11.1.2\"><span class=\"toc-item-num\">11.1.2&nbsp;&nbsp;</span>导入</a></span><ul class=\"toc-item\"><li><span><a href=\"#loadtxt\" data-toc-modified-id=\"loadtxt-11.1.2.1\"><span class=\"toc-item-num\">11.1.2.1&nbsp;&nbsp;</span>loadtxt</a></span></li><li><span><a href=\"#genfromtxt\" data-toc-modified-id=\"genfromtxt-11.1.2.2\"><span class=\"toc-item-num\">11.1.2.2&nbsp;&nbsp;</span>genfromtxt</a></span></li><li><span><a href=\"#fromfile\" data-toc-modified-id=\"fromfile-11.1.2.3\"><span class=\"toc-item-num\">11.1.2.3&nbsp;&nbsp;</span>fromfile</a></span></li><li><span><a href=\"#np.load\" data-toc-modified-id=\"np.load-11.1.2.4\"><span class=\"toc-item-num\">11.1.2.4&nbsp;&nbsp;</span>np.load</a></span></li></ul></li></ul></li><li><span><a href=\"#交换ndarray的轴[广义转置]\" data-toc-modified-id=\"交换ndarray的轴[广义转置]-11.2\"><span class=\"toc-item-num\">11.2&nbsp;&nbsp;</span>交换ndarray的轴[广义转置]</a></span></li><li><span><a href=\"#NumPy向量化编程\" data-toc-modified-id=\"NumPy向量化编程-11.3\"><span class=\"toc-item-num\">11.3&nbsp;&nbsp;</span>NumPy向量化编程</a></span><ul class=\"toc-item\"><li><span><a href=\"#numpy.vectorize\" data-toc-modified-id=\"numpy.vectorize-11.3.1\"><span class=\"toc-item-num\">11.3.1&nbsp;&nbsp;</span><code>numpy.vectorize</code></a></span></li></ul></li><li><span><a href=\"#给ndarray增加新的维度\" data-toc-modified-id=\"给ndarray增加新的维度-11.4\"><span class=\"toc-item-num\">11.4&nbsp;&nbsp;</span>给ndarray增加新的维度</a></span><ul class=\"toc-item\"><li><span><a href=\"#使用-newaxis-或者-None\" data-toc-modified-id=\"使用-newaxis-或者-None-11.4.1\"><span class=\"toc-item-num\">11.4.1&nbsp;&nbsp;</span>使用 newaxis 或者 None</a></span></li><li><span><a href=\"#使用reshape\" data-toc-modified-id=\"使用reshape-11.4.2\"><span class=\"toc-item-num\">11.4.2&nbsp;&nbsp;</span>使用<code>reshape</code></a></span></li></ul></li><li><span><a href=\"#自定义-dtype\" data-toc-modified-id=\"自定义-dtype-11.5\"><span class=\"toc-item-num\">11.5&nbsp;&nbsp;</span>自定义 dtype</a></span></li><li><span><a href=\"#获取ndarray中出现次数最多的元素\" data-toc-modified-id=\"获取ndarray中出现次数最多的元素-11.6\"><span class=\"toc-item-num\">11.6&nbsp;&nbsp;</span>获取ndarray中出现次数最多的元素</a></span><ul class=\"toc-item\"><li><span><a href=\"#1维\" data-toc-modified-id=\"1维-11.6.1\"><span class=\"toc-item-num\">11.6.1&nbsp;&nbsp;</span>1维</a></span></li><li><span><a href=\"#多维\" data-toc-modified-id=\"多维-11.6.2\"><span class=\"toc-item-num\">11.6.2&nbsp;&nbsp;</span>多维</a></span></li></ul></li><li><span><a href=\"#ndarray转换为DataFrame（多维->2维）\" data-toc-modified-id=\"ndarray转换为DataFrame（多维->2维）-11.7\"><span class=\"toc-item-num\">11.7&nbsp;&nbsp;</span>ndarray转换为DataFrame（多维-&gt;2维）</a></span><ul class=\"toc-item\"><li><span><a href=\"#比较保守的转换\" data-toc-modified-id=\"比较保守的转换-11.7.1\"><span class=\"toc-item-num\">11.7.1&nbsp;&nbsp;</span>比较保守的转换</a></span><ul class=\"toc-item\"><li><span><a href=\"#补充：利用stack压缩列标签，转换为激进型\" data-toc-modified-id=\"补充：利用stack压缩列标签，转换为激进型-11.7.1.1\"><span class=\"toc-item-num\">11.7.1.1&nbsp;&nbsp;</span>补充：利用<code>stack</code>压缩列标签，转换为激进型</a></span></li></ul></li><li><span><a href=\"#比较激进的转换\" data-toc-modified-id=\"比较激进的转换-11.7.2\"><span class=\"toc-item-num\">11.7.2&nbsp;&nbsp;</span>比较激进的转换</a></span></li></ul></li></ul></li><li><span><a href=\"#问题与分析\" data-toc-modified-id=\"问题与分析-12\"><span class=\"toc-item-num\">12&nbsp;&nbsp;</span>问题与分析</a></span><ul class=\"toc-item\"><li><span><a href=\"#numpy.sort与numpy.argsort\" data-toc-modified-id=\"numpy.sort与numpy.argsort-12.1\"><span class=\"toc-item-num\">12.1&nbsp;&nbsp;</span><code>numpy.sort</code>与<code>numpy.argsort</code></a></span><ul class=\"toc-item\"><li><span><a href=\"#numpy.sort\" data-toc-modified-id=\"numpy.sort-12.1.1\"><span class=\"toc-item-num\">12.1.1&nbsp;&nbsp;</span><code>numpy.sort</code></a></span></li><li><span><a href=\"#numpy.argsort\" data-toc-modified-id=\"numpy.argsort-12.1.2\"><span class=\"toc-item-num\">12.1.2&nbsp;&nbsp;</span><code>numpy.argsort</code></a></span></li></ul></li><li><span><a href=\"#outer\" data-toc-modified-id=\"outer-12.2\"><span class=\"toc-item-num\">12.2&nbsp;&nbsp;</span><code>outer</code></a></span></li><li><span><a href=\"#numpy.where,numpy.nonzero和numpy.argwhere\" data-toc-modified-id=\"numpy.where,numpy.nonzero和numpy.argwhere-12.3\"><span class=\"toc-item-num\">12.3&nbsp;&nbsp;</span><code>numpy.where</code>,<code>numpy.nonzero</code>和<code>numpy.argwhere</code></a></span><ul class=\"toc-item\"><li><span><a href=\"#numpy.where\" data-toc-modified-id=\"numpy.where-12.3.1\"><span class=\"toc-item-num\">12.3.1&nbsp;&nbsp;</span><code>numpy.where</code></a></span><ul class=\"toc-item\"><li><span><a href=\"#同时给定condition和x,-y\" data-toc-modified-id=\"同时给定condition和x,-y-12.3.1.1\"><span class=\"toc-item-num\">12.3.1.1&nbsp;&nbsp;</span>同时给定condition和x, y</a></span></li><li><span><a href=\"#不给定x-y只给定一个条件\" data-toc-modified-id=\"不给定x-y只给定一个条件-12.3.1.2\"><span class=\"toc-item-num\">12.3.1.2&nbsp;&nbsp;</span>不给定x y只给定一个条件</a></span></li></ul></li><li><span><a href=\"#numpy.nonzero\" data-toc-modified-id=\"numpy.nonzero-12.3.2\"><span class=\"toc-item-num\">12.3.2&nbsp;&nbsp;</span><code>numpy.nonzero</code></a></span></li><li><span><a href=\"#numpy.argwhere\" data-toc-modified-id=\"numpy.argwhere-12.3.3\"><span class=\"toc-item-num\">12.3.3&nbsp;&nbsp;</span>numpy.argwhere</a></span></li></ul></li><li><span><a href=\"#mgrid,-ogrid,-meshgrid,-ndenumerate与indices\" data-toc-modified-id=\"mgrid,-ogrid,-meshgrid,-ndenumerate与indices-12.4\"><span class=\"toc-item-num\">12.4&nbsp;&nbsp;</span><code>mgrid</code>, <code>ogrid</code>, <code>meshgrid</code>, <code>ndenumerate</code>与<code>indices</code></a></span><ul class=\"toc-item\"><li><span><a href=\"#mgrid\" data-toc-modified-id=\"mgrid-12.4.1\"><span class=\"toc-item-num\">12.4.1&nbsp;&nbsp;</span><code>mgrid</code></a></span></li><li><span><a href=\"#ogrid\" data-toc-modified-id=\"ogrid-12.4.2\"><span class=\"toc-item-num\">12.4.2&nbsp;&nbsp;</span><code>ogrid</code></a></span></li><li><span><a href=\"#meshgrid\" data-toc-modified-id=\"meshgrid-12.4.3\"><span class=\"toc-item-num\">12.4.3&nbsp;&nbsp;</span><code>meshgrid</code></a></span></li><li><span><a href=\"#ndenumerate\" data-toc-modified-id=\"ndenumerate-12.4.4\"><span class=\"toc-item-num\">12.4.4&nbsp;&nbsp;</span><code>ndenumerate</code></a></span></li><li><span><a href=\"#indices\" data-toc-modified-id=\"indices-12.4.5\"><span class=\"toc-item-num\">12.4.5&nbsp;&nbsp;</span><code>indices</code></a></span></li></ul></li><li><span><a href=\"#allclose与array_equal\" data-toc-modified-id=\"allclose与array_equal-12.5\"><span class=\"toc-item-num\">12.5&nbsp;&nbsp;</span><code>allclose</code>与<code>array_equal</code></a></span></li><li><span><a href=\"#ndarray-和-matrix\" data-toc-modified-id=\"ndarray-和-matrix-12.6\"><span class=\"toc-item-num\">12.6&nbsp;&nbsp;</span>ndarray 和 matrix</a></span></li><li><span><a href=\"#reshape后自动降维\" data-toc-modified-id=\"reshape后自动降维-12.7\"><span class=\"toc-item-num\">12.7&nbsp;&nbsp;</span>reshape后自动降维</a></span></li><li><span><a href=\"#(n,-)和(n,-1)的广播原则\" data-toc-modified-id=\"(n,-)和(n,-1)的广播原则-12.8\"><span class=\"toc-item-num\">12.8&nbsp;&nbsp;</span>(n, )和(n, 1)的广播原则</a></span></li><li><span><a href=\"#tile和repeat\" data-toc-modified-id=\"tile和repeat-12.9\"><span class=\"toc-item-num\">12.9&nbsp;&nbsp;</span><code>tile</code>和<code>repeat</code></a></span></li><li><span><a href=\"#只有一个数字的ndarray\" data-toc-modified-id=\"只有一个数字的ndarray-12.10\"><span class=\"toc-item-num\">12.10&nbsp;&nbsp;</span>只有一个数字的ndarray</a></span></li><li><span><a href=\"#NumPy性能对比\" data-toc-modified-id=\"NumPy性能对比-12.11\"><span class=\"toc-item-num\">12.11&nbsp;&nbsp;</span>NumPy性能对比</a></span></li><li><span><a href=\"#NumPy交换数据和比较操作\" data-toc-modified-id=\"NumPy交换数据和比较操作-12.12\"><span class=\"toc-item-num\">12.12&nbsp;&nbsp;</span>NumPy交换数据和比较操作</a></span><ul class=\"toc-item\"><li><span><a href=\"#交换\" data-toc-modified-id=\"交换-12.12.1\"><span class=\"toc-item-num\">12.12.1&nbsp;&nbsp;</span>交换</a></span></li><li><span><a href=\"#比较\" data-toc-modified-id=\"比较-12.12.2\"><span class=\"toc-item-num\">12.12.2&nbsp;&nbsp;</span>比较</a></span></li></ul></li><li><span><a href=\"#NumPy中的reshape操作\" data-toc-modified-id=\"NumPy中的reshape操作-12.13\"><span class=\"toc-item-num\">12.13&nbsp;&nbsp;</span>NumPy中的reshape操作</a></span></li><li><span><a href=\"#索引(indexing)与高级索引(advanced-indexing,-fancy-indexing)的区别及特殊情况分析\" data-toc-modified-id=\"索引(indexing)与高级索引(advanced-indexing,-fancy-indexing)的区别及特殊情况分析-12.14\"><span class=\"toc-item-num\">12.14&nbsp;&nbsp;</span>索引(indexing)与高级索引(advanced indexing, fancy indexing)的区别及特殊情况分析</a></span><ul class=\"toc-item\"><li><span><a href=\"#切片与高级索引同时出现的场景\" data-toc-modified-id=\"切片与高级索引同时出现的场景-12.14.1\"><span class=\"toc-item-num\">12.14.1&nbsp;&nbsp;</span>切片与高级索引同时出现的场景</a></span><ul class=\"toc-item\"><li><span><a href=\"#高级索引项出现在第一维\" data-toc-modified-id=\"高级索引项出现在第一维-12.14.1.1\"><span class=\"toc-item-num\">12.14.1.1&nbsp;&nbsp;</span>高级索引项出现在第一维</a></span></li><li><span><a href=\"#高级索引项出现在第一维之后的维度\" data-toc-modified-id=\"高级索引项出现在第一维之后的维度-12.14.1.2\"><span class=\"toc-item-num\">12.14.1.2&nbsp;&nbsp;</span>高级索引项出现在第一维之后的维度</a></span></li></ul></li><li><span><a href=\"#作为索引的单个整数（以及只有一个整数的列表）\" data-toc-modified-id=\"作为索引的单个整数（以及只有一个整数的列表）-12.14.2\"><span class=\"toc-item-num\">12.14.2&nbsp;&nbsp;</span>作为索引的单个整数（以及只有一个整数的列表）</a></span></li><li><span><a href=\"#特殊的切片情形\" data-toc-modified-id=\"特殊的切片情形-12.14.3\"><span class=\"toc-item-num\">12.14.3&nbsp;&nbsp;</span>特殊的切片情形</a></span><ul class=\"toc-item\"><li><span><a href=\"#若切片维度少于原始ndarray维度，就算某些维度的索引只是单个数字，也很好理解其仍为切片\" data-toc-modified-id=\"若切片维度少于原始ndarray维度，就算某些维度的索引只是单个数字，也很好理解其仍为切片-12.14.3.1\"><span class=\"toc-item-num\">12.14.3.1&nbsp;&nbsp;</span>若切片维度少于原始ndarray维度，就算某些维度的索引只是单个数字，也很好理解其仍为切片</a></span></li><li><span><a href=\"#但当切片维度等于原始ndarray时，分两种情况。\" data-toc-modified-id=\"但当切片维度等于原始ndarray时，分两种情况。-12.14.3.2\"><span class=\"toc-item-num\">12.14.3.2&nbsp;&nbsp;</span>但当切片维度等于原始ndarray时，分两种情况。</a></span></li></ul></li><li><span><a href=\"#其他需要特殊区分的场景\" data-toc-modified-id=\"其他需要特殊区分的场景-12.14.4\"><span class=\"toc-item-num\">12.14.4&nbsp;&nbsp;</span>其他需要特殊区分的场景</a></span></li><li><span><a href=\"#无论是普通索引还是高级索引，作为左值对其赋值，都将对原ndarray产生影响\" data-toc-modified-id=\"无论是普通索引还是高级索引，作为左值对其赋值，都将对原ndarray产生影响-12.14.5\"><span class=\"toc-item-num\">12.14.5&nbsp;&nbsp;</span>无论是普通索引还是高级索引，作为左值对其赋值，都将对原ndarray产生影响</a></span></li></ul></li><li><span><a href=\"#获取指定行列交叉点上的数据\" data-toc-modified-id=\"获取指定行列交叉点上的数据-12.15\"><span class=\"toc-item-num\">12.15&nbsp;&nbsp;</span>获取指定行列交叉点上的数据</a></span></li><li><span><a href=\"#ndarray的链式索引\" data-toc-modified-id=\"ndarray的链式索引-12.16\"><span class=\"toc-item-num\">12.16&nbsp;&nbsp;</span>ndarray的链式索引</a></span><ul class=\"toc-item\"><li><span><a href=\"#作为右值\" data-toc-modified-id=\"作为右值-12.16.1\"><span class=\"toc-item-num\">12.16.1&nbsp;&nbsp;</span>作为右值</a></span></li><li><span><a href=\"#作为左值\" data-toc-modified-id=\"作为左值-12.16.2\"><span class=\"toc-item-num\">12.16.2&nbsp;&nbsp;</span>作为左值</a></span></li></ul></li><li><span><a href=\"#ndarray内存排布的深入理解\" data-toc-modified-id=\"ndarray内存排布的深入理解-12.17\"><span class=\"toc-item-num\">12.17&nbsp;&nbsp;</span>ndarray内存排布的深入理解</a></span><ul class=\"toc-item\"><li><span><a href=\"#引子\" data-toc-modified-id=\"引子-12.17.1\"><span class=\"toc-item-num\">12.17.1&nbsp;&nbsp;</span>引子</a></span></li><li><span><a href=\"#内存排布\" data-toc-modified-id=\"内存排布-12.17.2\"><span class=\"toc-item-num\">12.17.2&nbsp;&nbsp;</span>内存排布</a></span><ul class=\"toc-item\"><li><span><a href=\"#可视化ndarray内存排布\" data-toc-modified-id=\"可视化ndarray内存排布-12.17.2.1\"><span class=\"toc-item-num\">12.17.2.1&nbsp;&nbsp;</span>可视化ndarray内存排布</a></span></li></ul></li><li><span><a href=\"#视图与副本\" data-toc-modified-id=\"视图与副本-12.17.3\"><span class=\"toc-item-num\">12.17.3&nbsp;&nbsp;</span>视图与副本</a></span><ul class=\"toc-item\"><li><span><a href=\"#直接与间接访问\" data-toc-modified-id=\"直接与间接访问-12.17.3.1\"><span class=\"toc-item-num\">12.17.3.1&nbsp;&nbsp;</span>直接与间接访问</a></span></li><li><span><a href=\"#中间变量\" data-toc-modified-id=\"中间变量-12.17.3.2\"><span class=\"toc-item-num\">12.17.3.2&nbsp;&nbsp;</span>中间变量</a></span></li></ul></li><li><span><a href=\"#总结任务\" data-toc-modified-id=\"总结任务-12.17.4\"><span class=\"toc-item-num\">12.17.4&nbsp;&nbsp;</span>总结任务</a></span></li><li><span><a href=\"#进阶任务\" data-toc-modified-id=\"进阶任务-12.17.5\"><span class=\"toc-item-num\">12.17.5&nbsp;&nbsp;</span>进阶任务</a></span></li></ul></li></ul></li></ul></div>"
   ]
  },
  {
   "cell_type": "code",
   "execution_count": 1,
   "metadata": {},
   "outputs": [],
   "source": [
    "import numpy as np\n",
    "import matplotlib.pyplot as plt\n",
    "\n",
    "from IPython.core.interactiveshell import InteractiveShell\n",
    "InteractiveShell.ast_node_interactivity = \"all\""
   ]
  },
  {
   "cell_type": "markdown",
   "metadata": {},
   "source": [
    "# 基础知识\n",
    "\n",
    "NumPy中主要的数据格式叫做ndarray，或者叫array，顾名思义即多维数组。"
   ]
  },
  {
   "cell_type": "markdown",
   "metadata": {},
   "source": [
    "## 一个例子\n",
    "\n",
    "ndarray的一些属性\n",
    "\n",
    "- **ndarray.ndim**   维度\n",
    "- **ndarray.shape**   形状，比如3维数组可能的形状(3,3,2)\n",
    "- **ndarray.size**    ndarray中的元素数\n",
    "- **ndarray.dtype**   ndarray中元素的数据类型\n",
    "- **ndarray.itemsize** 每一个元素的字节数,等价于`ndarray.dtype.itemsize`\n",
    "- **ndarray.data**    实际存储 ndarray 内容的内存\n",
    "- **ndarray.T**      ndarray的转置，一个视图(view, 类似于引用),下文统称视图.\n",
    "- **ndarray.flat**    返回ndarray的一维化迭代器，对此迭代器赋值将导致整个数组元素被覆盖，而`ndarray.flatten()` 返回一个一维化的ndarray**副本**\n",
    "- **ndarray.real/imag** 返回复数数组的实部/虚部数组\n",
    "- **ndarray.nbytes**   数组占用的字节数\n",
    "- **ndarray.base**    返回父 ndarray，如果该ndarray是其他 ndarray 的 view，则返回原始的 ndarray\n",
    "- **ndarray.flags**   ndarray的基本信息，是否对底层数据具有所有权（即是否为其他ndarray的视图）,是否可写入等等"
   ]
  },
  {
   "cell_type": "markdown",
   "metadata": {},
   "source": [
    "**arange**\n",
    "\n",
    "Return evenly spaced values within a given interval.\n",
    "\n",
    "返回指定区间内均匀分布的1-D ndarray\n",
    "\n",
    "```python\n",
    "numpy.arange([start, ]stop, [step, ]dtype=None)\n",
    "```\n",
    "\n",
    "**reshape**\n",
    "\n",
    "Gives a new shape to an array without changing its data.\n",
    "\n",
    "返回具有新形状的ndarray视图\n",
    "\n",
    "```python\n",
    "numpy.reshape(a, newshape, order='C')[source]\n",
    "```"
   ]
  },
  {
   "cell_type": "code",
   "execution_count": 2,
   "metadata": {},
   "outputs": [
    {
     "data": {
      "text/plain": [
       "2"
      ]
     },
     "execution_count": 2,
     "metadata": {},
     "output_type": "execute_result"
    }
   ],
   "source": [
    "arr = np.arange(12).reshape((3, 4))\n",
    "\n",
    "arr.ndim"
   ]
  },
  {
   "cell_type": "code",
   "execution_count": 3,
   "metadata": {},
   "outputs": [
    {
     "data": {
      "text/plain": [
       "(3, 4)"
      ]
     },
     "execution_count": 3,
     "metadata": {},
     "output_type": "execute_result"
    }
   ],
   "source": [
    "arr.shape"
   ]
  },
  {
   "cell_type": "code",
   "execution_count": 4,
   "metadata": {},
   "outputs": [
    {
     "data": {
      "text/plain": [
       "12"
      ]
     },
     "execution_count": 4,
     "metadata": {},
     "output_type": "execute_result"
    }
   ],
   "source": [
    "arr.size"
   ]
  },
  {
   "cell_type": "code",
   "execution_count": 5,
   "metadata": {},
   "outputs": [
    {
     "data": {
      "text/plain": [
       "dtype('int32')"
      ]
     },
     "execution_count": 5,
     "metadata": {},
     "output_type": "execute_result"
    }
   ],
   "source": [
    "arr.dtype"
   ]
  },
  {
   "cell_type": "code",
   "execution_count": 6,
   "metadata": {},
   "outputs": [
    {
     "data": {
      "text/plain": [
       "4"
      ]
     },
     "execution_count": 6,
     "metadata": {},
     "output_type": "execute_result"
    }
   ],
   "source": [
    "arr.itemsize"
   ]
  },
  {
   "cell_type": "code",
   "execution_count": 7,
   "metadata": {},
   "outputs": [
    {
     "data": {
      "text/plain": [
       "<memory at 0x00000209CE6FCB40>"
      ]
     },
     "execution_count": 7,
     "metadata": {},
     "output_type": "execute_result"
    }
   ],
   "source": [
    "arr.data"
   ]
  },
  {
   "cell_type": "code",
   "execution_count": 8,
   "metadata": {},
   "outputs": [
    {
     "data": {
      "text/plain": [
       "array([[ 0,  4,  8],\n",
       "       [ 1,  5,  9],\n",
       "       [ 2,  6, 10],\n",
       "       [ 3,  7, 11]])"
      ]
     },
     "execution_count": 8,
     "metadata": {},
     "output_type": "execute_result"
    }
   ],
   "source": [
    "arr.T"
   ]
  },
  {
   "cell_type": "code",
   "execution_count": 9,
   "metadata": {},
   "outputs": [
    {
     "data": {
      "text/plain": [
       "<numpy.flatiter at 0x209cd2340d0>"
      ]
     },
     "execution_count": 9,
     "metadata": {},
     "output_type": "execute_result"
    },
    {
     "name": "stdout",
     "output_type": "stream",
     "text": [
      "0\n",
      "1\n",
      "2\n",
      "3\n",
      "4\n",
      "5\n",
      "6\n",
      "7\n",
      "8\n",
      "9\n",
      "10\n",
      "11\n"
     ]
    }
   ],
   "source": [
    "arr.flat\n",
    "\n",
    "for element in arr.flat:\n",
    "    print(element)"
   ]
  },
  {
   "cell_type": "code",
   "execution_count": 10,
   "metadata": {},
   "outputs": [
    {
     "data": {
      "text/plain": [
       "(array([[ 0,  1,  2,  3],\n",
       "        [ 4,  5,  6,  7],\n",
       "        [ 8,  9, 10, 11]]), array([[0, 0, 0, 0],\n",
       "        [0, 0, 0, 0],\n",
       "        [0, 0, 0, 0]]))"
      ]
     },
     "execution_count": 10,
     "metadata": {},
     "output_type": "execute_result"
    }
   ],
   "source": [
    "arr.real, arr.imag"
   ]
  },
  {
   "cell_type": "code",
   "execution_count": 11,
   "metadata": {},
   "outputs": [
    {
     "data": {
      "text/plain": [
       "48"
      ]
     },
     "execution_count": 11,
     "metadata": {},
     "output_type": "execute_result"
    }
   ],
   "source": [
    "arr.nbytes"
   ]
  },
  {
   "cell_type": "code",
   "execution_count": 12,
   "metadata": {},
   "outputs": [
    {
     "data": {
      "text/plain": [
       "array([ 0,  1,  2,  3,  4,  5,  6,  7,  8,  9, 10, 11])"
      ]
     },
     "execution_count": 12,
     "metadata": {},
     "output_type": "execute_result"
    }
   ],
   "source": [
    "arr.base"
   ]
  },
  {
   "cell_type": "code",
   "execution_count": 13,
   "metadata": {},
   "outputs": [
    {
     "data": {
      "text/plain": [
       "  C_CONTIGUOUS : True\n",
       "  F_CONTIGUOUS : False\n",
       "  OWNDATA : False\n",
       "  WRITEABLE : True\n",
       "  ALIGNED : True\n",
       "  WRITEBACKIFCOPY : False\n",
       "  UPDATEIFCOPY : False"
      ]
     },
     "execution_count": 13,
     "metadata": {},
     "output_type": "execute_result"
    }
   ],
   "source": [
    "arr.flags"
   ]
  },
  {
   "cell_type": "markdown",
   "metadata": {},
   "source": [
    "对ndarray.flat赋值，导致后续元素全部受影响"
   ]
  },
  {
   "cell_type": "code",
   "execution_count": 14,
   "metadata": {},
   "outputs": [
    {
     "data": {
      "text/plain": [
       "array([[[ 0,  1,  2,  3,  4],\n",
       "        [ 5,  6,  7,  8,  9],\n",
       "        [10, 11, 12, 13, 14],\n",
       "        [15, 16, 17, 18, 19]],\n",
       "\n",
       "       [[20, 21, 22, 23, 24],\n",
       "        [25, 26, 27, 28, 29],\n",
       "        [30, 31, 32, 33, 34],\n",
       "        [35, 36, 37, 38, 39]],\n",
       "\n",
       "       [[40, 41, 42, 43, 44],\n",
       "        [45, 46, 47, 48, 49],\n",
       "        [50, 51, 52, 53, 54],\n",
       "        [55, 56, 57, 58, 59]]])"
      ]
     },
     "execution_count": 14,
     "metadata": {},
     "output_type": "execute_result"
    },
    {
     "data": {
      "text/plain": [
       "array([[[1, 2, 1, 2, 1],\n",
       "        [2, 1, 2, 1, 2],\n",
       "        [1, 2, 1, 2, 1],\n",
       "        [2, 1, 2, 1, 2]],\n",
       "\n",
       "       [[1, 2, 1, 2, 1],\n",
       "        [2, 1, 2, 1, 2],\n",
       "        [1, 2, 1, 2, 1],\n",
       "        [2, 1, 2, 1, 2]],\n",
       "\n",
       "       [[1, 2, 1, 2, 1],\n",
       "        [2, 1, 2, 1, 2],\n",
       "        [1, 2, 1, 2, 1],\n",
       "        [2, 1, 2, 1, 2]]])"
      ]
     },
     "execution_count": 14,
     "metadata": {},
     "output_type": "execute_result"
    }
   ],
   "source": [
    "arr = np.arange(60).reshape((3, 4, 5))\n",
    "arr\n",
    "\n",
    "arr.flat = [1, 2]\n",
    "arr"
   ]
  },
  {
   "cell_type": "markdown",
   "metadata": {},
   "source": [
    "## ndarray的构造\n",
    "\n",
    "### 基于可迭代对象构造\n",
    "\n",
    "Create an array.\n",
    "\n",
    "构造 ndarray\n",
    "\n",
    "```python\n",
    "numpy.array(object, dtype=None, copy=True, order='K', subok=False, ndmin=0)\n",
    "```\n",
    "\n",
    "基于 list 或 tuple等可迭代序列构造ndarray，NumPy会自动推断数据格式（dtype）"
   ]
  },
  {
   "cell_type": "code",
   "execution_count": 15,
   "metadata": {},
   "outputs": [
    {
     "data": {
      "text/plain": [
       "array([2, 3, 4])"
      ]
     },
     "execution_count": 15,
     "metadata": {},
     "output_type": "execute_result"
    },
    {
     "data": {
      "text/plain": [
       "dtype('int32')"
      ]
     },
     "execution_count": 15,
     "metadata": {},
     "output_type": "execute_result"
    }
   ],
   "source": [
    "arr = np.array([2, 3, 4])\n",
    "arr\n",
    "arr.dtype"
   ]
  },
  {
   "cell_type": "code",
   "execution_count": 16,
   "metadata": {},
   "outputs": [
    {
     "data": {
      "text/plain": [
       "dtype('float64')"
      ]
     },
     "execution_count": 16,
     "metadata": {},
     "output_type": "execute_result"
    }
   ],
   "source": [
    "arr = np.array([1.2, 3.5, 5.1])\n",
    "arr.dtype"
   ]
  },
  {
   "cell_type": "markdown",
   "metadata": {},
   "source": [
    "不要使用多个位置参数调用`np.array`\n",
    "\n",
    "`np.array(1,2,3,4)    # WRONG`"
   ]
  },
  {
   "cell_type": "code",
   "execution_count": 17,
   "metadata": {},
   "outputs": [
    {
     "data": {
      "text/plain": [
       "array([1, 2, 3, 4])"
      ]
     },
     "execution_count": 17,
     "metadata": {},
     "output_type": "execute_result"
    }
   ],
   "source": [
    "np.array([1, 2, 3, 4])  # RIGHT"
   ]
  },
  {
   "cell_type": "markdown",
   "metadata": {},
   "source": [
    "array 自动将二维或多维序列转换为多维数组, `array` 函数只接受一个序列参数,整体输入即可。\n",
    "\n",
    "```python\n",
    "np.array((1.5,2,3), (4,5,6)) # wrong\n",
    "```"
   ]
  },
  {
   "cell_type": "code",
   "execution_count": 18,
   "metadata": {},
   "outputs": [
    {
     "data": {
      "text/plain": [
       "array([[1.5, 2. , 3. ],\n",
       "       [4. , 5. , 6. ]])"
      ]
     },
     "execution_count": 18,
     "metadata": {},
     "output_type": "execute_result"
    }
   ],
   "source": [
    "np.array([(1.5, 2, 3), (4, 5, 6)])"
   ]
  },
  {
   "cell_type": "markdown",
   "metadata": {},
   "source": [
    "通过`dtype`参数指定数组元素的类型"
   ]
  },
  {
   "cell_type": "code",
   "execution_count": 19,
   "metadata": {},
   "outputs": [
    {
     "data": {
      "text/plain": [
       "array([[1.+0.j, 2.+0.j],\n",
       "       [3.+0.j, 4.+0.j]])"
      ]
     },
     "execution_count": 19,
     "metadata": {},
     "output_type": "execute_result"
    }
   ],
   "source": [
    "np.array([[1, 2], [3, 4]], dtype=complex)"
   ]
  },
  {
   "cell_type": "markdown",
   "metadata": {},
   "source": [
    "### 内置构造函数\n",
    "\n",
    "需要构造已知维度的ndarray时，NumPy提供了很多构造特定ndarray的方法，比如 `ones`，`zeros` 还有`empty`，`empty`创建的数组内所包含的数是随机的，取决于分配的内存块中当前的状态，默认的 dtype 是 float64。\n",
    "\n",
    "```python\n",
    "numpy.zeros(shape, dtype=float, order='C')\n",
    "numpy..ones(shape, dtype=None, order='C')\n",
    "numpy.empty(shape, dtype=float, order='C')\n",
    "```\n",
    "\n",
    "**NumPy 中改变数组大小的操作很慢，因为需要重新分配内存并将已有数据复制一遍** "
   ]
  },
  {
   "cell_type": "code",
   "execution_count": 20,
   "metadata": {},
   "outputs": [
    {
     "data": {
      "text/plain": [
       "array([[0., 0., 0., 0.],\n",
       "       [0., 0., 0., 0.],\n",
       "       [0., 0., 0., 0.]])"
      ]
     },
     "execution_count": 20,
     "metadata": {},
     "output_type": "execute_result"
    },
    {
     "data": {
      "text/plain": [
       "array([[[1, 1, 1, 1],\n",
       "        [1, 1, 1, 1],\n",
       "        [1, 1, 1, 1]],\n",
       "\n",
       "       [[1, 1, 1, 1],\n",
       "        [1, 1, 1, 1],\n",
       "        [1, 1, 1, 1]]], dtype=int16)"
      ]
     },
     "execution_count": 20,
     "metadata": {},
     "output_type": "execute_result"
    },
    {
     "data": {
      "text/plain": [
       "array([[1.5, 2. , 3. ],\n",
       "       [4. , 5. , 6. ]])"
      ]
     },
     "execution_count": 20,
     "metadata": {},
     "output_type": "execute_result"
    }
   ],
   "source": [
    "np.zeros((3, 4))\n",
    "np.ones((2, 3, 4), dtype=np.int16)          # 指定 dtype\n",
    "np.empty((2, 3))                           # 值不确定"
   ]
  },
  {
   "cell_type": "markdown",
   "metadata": {},
   "source": [
    "Numpy 提供了一个类似于`range`的函数`arange`, 接受 `start`, `stop`, `step` 参数。\n",
    "\n",
    "```python\n",
    "np.arange([start,] stop[, step,], dtype=None)\n",
    "```"
   ]
  },
  {
   "cell_type": "code",
   "execution_count": 21,
   "metadata": {},
   "outputs": [
    {
     "data": {
      "text/plain": [
       "array([10, 15, 20, 25])"
      ]
     },
     "execution_count": 21,
     "metadata": {},
     "output_type": "execute_result"
    },
    {
     "data": {
      "text/plain": [
       "array([0. , 0.3, 0.6, 0.9, 1.2, 1.5, 1.8])"
      ]
     },
     "execution_count": 21,
     "metadata": {},
     "output_type": "execute_result"
    }
   ],
   "source": [
    "np.arange(10, 30, 5)\n",
    "np.arange(0, 2, 0.3)"
   ]
  },
  {
   "cell_type": "markdown",
   "metadata": {},
   "source": [
    "**当`arange`接受float参数的时候，因为浮点数精度的问题，行为可能会比较诡异。**\n",
    "\n",
    "**此时推荐使用 linspace 函数，linspace 有一个 endpoint 参数，决定区间是否包含第二个参数作为最后一个数据点，默认为 True**\n",
    "\n",
    "**linspace**\n",
    "\n",
    "Return evenly spaced numbers over a specified interval.\n",
    "\n",
    "返回指定区间内的均匀分布数值\n",
    "\n",
    "```python\n",
    "numpy.linspace(\n",
    "    ['start', 'stop', 'num=50', 'endpoint=True', 'retstep=False', 'dtype=None', 'axis=0'],\n",
    ")\n",
    "```"
   ]
  },
  {
   "cell_type": "code",
   "execution_count": 22,
   "metadata": {
    "scrolled": true
   },
   "outputs": [
    {
     "data": {
      "text/plain": [
       "array([0.  , 0.25, 0.5 , 0.75, 1.  , 1.25, 1.5 , 1.75, 2.  ])"
      ]
     },
     "execution_count": 22,
     "metadata": {},
     "output_type": "execute_result"
    },
    {
     "data": {
      "text/plain": [
       "array([0.        , 0.6981317 , 1.3962634 , 2.0943951 , 2.7925268 ,\n",
       "       3.4906585 , 4.1887902 , 4.88692191, 5.58505361, 6.28318531])"
      ]
     },
     "execution_count": 22,
     "metadata": {},
     "output_type": "execute_result"
    },
    {
     "data": {
      "text/plain": [
       "array([ 0.00000000e+00,  6.42787610e-01,  9.84807753e-01,  8.66025404e-01,\n",
       "        3.42020143e-01, -3.42020143e-01, -8.66025404e-01, -9.84807753e-01,\n",
       "       -6.42787610e-01, -2.44929360e-16])"
      ]
     },
     "execution_count": 22,
     "metadata": {},
     "output_type": "execute_result"
    }
   ],
   "source": [
    "from numpy import pi\n",
    "\n",
    "np.linspace(0, 2, 9)\n",
    "np.linspace(0, 2*pi, 10)\n",
    "np.sin(np.linspace(0, 2*pi, 10))"
   ]
  },
  {
   "cell_type": "markdown",
   "metadata": {},
   "source": [
    "**另见：**\n",
    "\n",
    "    array, zeros, zeros_like, ones, ones_like, empty, empty_like, arange, linspace, numpy.random.rand, numpy.random.randn, fromfunction, fromfile"
   ]
  },
  {
   "cell_type": "markdown",
   "metadata": {},
   "source": [
    "**zeros_like**\n",
    "\n",
    "Return an array of zeros with the same shape and type as a given array.\n",
    "\n",
    "构造和输入ndarray同形状的元素全为0的ndarray\n",
    "```python\n",
    "numpy.zeros_like(a, dtype=None, order='K', subok=True)\n",
    "```"
   ]
  },
  {
   "cell_type": "code",
   "execution_count": 23,
   "metadata": {},
   "outputs": [
    {
     "data": {
      "text/plain": [
       "array([[ 0,  1,  2,  3],\n",
       "       [ 4,  5,  6,  7],\n",
       "       [ 8,  9, 10, 11]])"
      ]
     },
     "execution_count": 23,
     "metadata": {},
     "output_type": "execute_result"
    },
    {
     "data": {
      "text/plain": [
       "array([[0, 0, 0, 0],\n",
       "       [0, 0, 0, 0],\n",
       "       [0, 0, 0, 0]])"
      ]
     },
     "execution_count": 23,
     "metadata": {},
     "output_type": "execute_result"
    }
   ],
   "source": [
    "arr = np.arange(12).reshape((3, 4))\n",
    "arr\n",
    "\n",
    "np.zeros_like(arr)"
   ]
  },
  {
   "cell_type": "markdown",
   "metadata": {},
   "source": [
    "**ones_like**\n",
    "\n",
    "Return an array of ones with the same shape and type as a given array.\n",
    "\n",
    "构造和输入ndarray同形状的元素全为1的ndarray\n",
    "\n",
    "```python\n",
    "numpy.ones_like(a, dtype=None, order='K', subok=True)\n",
    "```"
   ]
  },
  {
   "cell_type": "markdown",
   "metadata": {},
   "source": [
    "**empty_like**\n",
    "\n",
    "Return a new array with the same shape and type as a given array.\n",
    "\n",
    "构造和输入ndarray同形状的空ndarray\n",
    "\n",
    "```python\n",
    "numpy.empty_like(prototype, dtype=None, order='K', subok=True)\n",
    "```"
   ]
  },
  {
   "cell_type": "markdown",
   "metadata": {},
   "source": [
    "**rand**\n",
    "\n",
    "Random values in a given shape.\n",
    "\n",
    "返回指定形状的随机数\n",
    "```python\n",
    "numpy.random.rand(d0, d1, ..., dn)\n",
    "```"
   ]
  },
  {
   "cell_type": "code",
   "execution_count": 24,
   "metadata": {},
   "outputs": [
    {
     "data": {
      "text/plain": [
       "array([[0.18692556, 0.12425864, 0.38854238, 0.33444117],\n",
       "       [0.28436856, 0.73242097, 0.92433785, 0.57142291],\n",
       "       [0.01159949, 0.05949372, 0.21421816, 0.57355643]])"
      ]
     },
     "execution_count": 24,
     "metadata": {},
     "output_type": "execute_result"
    }
   ],
   "source": [
    "np.random.rand(3, 4)"
   ]
  },
  {
   "cell_type": "markdown",
   "metadata": {},
   "source": [
    "**randn**\n",
    "\n",
    "Return a sample (or samples) from the “standard normal” distribution.\n",
    "\n",
    "指定形状的标准正态分布随机数\n",
    "\n",
    "```python\n",
    "numpy.random.randn(d0, d1, ..., dn)\n",
    "```"
   ]
  },
  {
   "cell_type": "code",
   "execution_count": 25,
   "metadata": {},
   "outputs": [
    {
     "data": {
      "text/plain": [
       "array([[ 0.25060812,  0.19705778, -0.07811055,  0.28026645],\n",
       "       [-1.53577158,  0.26562853,  0.79261808,  0.70344017],\n",
       "       [ 0.50744347,  0.12512166, -0.55941091,  0.32812377]])"
      ]
     },
     "execution_count": 25,
     "metadata": {},
     "output_type": "execute_result"
    }
   ],
   "source": [
    "np.random.randn(3, 4)"
   ]
  },
  {
   "cell_type": "markdown",
   "metadata": {},
   "source": [
    "**fromfile**\n",
    "\n",
    "`numpy.fromfile`见[fromfile](#fromfile)"
   ]
  },
  {
   "cell_type": "markdown",
   "metadata": {},
   "source": [
    "### 按函数生成\n",
    "\n",
    "类似 Python 生成式或者迭代器\n",
    "\n",
    "```python\n",
    "np.fromfunction(function, shape, **kwargs)\n",
    "```\n",
    "根据 shape 给定的维度，以坐标作为输入，经函数处理后得到输出"
   ]
  },
  {
   "cell_type": "code",
   "execution_count": 26,
   "metadata": {},
   "outputs": [
    {
     "data": {
      "text/plain": [
       "array([[ 0,  1,  2,  3],\n",
       "       [10, 11, 12, 13],\n",
       "       [20, 21, 22, 23],\n",
       "       [30, 31, 32, 33],\n",
       "       [40, 41, 42, 43]])"
      ]
     },
     "execution_count": 26,
     "metadata": {},
     "output_type": "execute_result"
    }
   ],
   "source": [
    "def f(x, y):\n",
    "    return 10*x+y\n",
    "\n",
    "\n",
    "np.fromfunction(f, (5, 4), dtype=int)  # 指定形状，生成"
   ]
  },
  {
   "cell_type": "markdown",
   "metadata": {},
   "source": [
    "## 打印多维数组"
   ]
  },
  {
   "cell_type": "code",
   "execution_count": 27,
   "metadata": {},
   "outputs": [
    {
     "name": "stdout",
     "output_type": "stream",
     "text": [
      "[0 1 2 3 4 5]\n",
      "[[ 0  1  2]\n",
      " [ 3  4  5]\n",
      " [ 6  7  8]\n",
      " [ 9 10 11]]\n",
      "[[[ 0  1  2  3]\n",
      "  [ 4  5  6  7]\n",
      "  [ 8  9 10 11]]\n",
      "\n",
      " [[12 13 14 15]\n",
      "  [16 17 18 19]\n",
      "  [20 21 22 23]]]\n"
     ]
    }
   ],
   "source": [
    "a = np.arange(6)                    # 1d array\n",
    "print(a)\n",
    "\n",
    "b = np.arange(12).reshape(4, 3)          # 2d array\n",
    "print(b)\n",
    "\n",
    "c = np.arange(24).reshape(2, 3, 4)         # 3d array\n",
    "print(c)"
   ]
  },
  {
   "cell_type": "markdown",
   "metadata": {},
   "source": [
    "如果数组过大，打印时会自动跳过中间部分。想要强制打印整个数组，可以使用 `set_printoptions`\n",
    "\n",
    "`np.set_printoptions(threshold=np.nan)`"
   ]
  },
  {
   "cell_type": "markdown",
   "metadata": {},
   "source": [
    "## 基本操作\n",
    "\n",
    "对ndarray的操作，大部分是elementwise的，即按元素操作。之后产生一个新的ndarray.\n",
    "\n",
    "注意，在 NumPy 中 `*` 是元素乘法，如果需要矩阵乘法操作，使用 `dot` 或者 `@` 操作符"
   ]
  },
  {
   "cell_type": "code",
   "execution_count": 28,
   "metadata": {},
   "outputs": [
    {
     "data": {
      "text/plain": [
       "array([[2, 0],\n",
       "       [0, 4]])"
      ]
     },
     "execution_count": 28,
     "metadata": {},
     "output_type": "execute_result"
    },
    {
     "data": {
      "text/plain": [
       "array([[5, 4],\n",
       "       [3, 4]])"
      ]
     },
     "execution_count": 28,
     "metadata": {},
     "output_type": "execute_result"
    },
    {
     "data": {
      "text/plain": [
       "array([[5, 4],\n",
       "       [3, 4]])"
      ]
     },
     "execution_count": 28,
     "metadata": {},
     "output_type": "execute_result"
    },
    {
     "data": {
      "text/plain": [
       "array([[5, 4],\n",
       "       [3, 4]])"
      ]
     },
     "execution_count": 28,
     "metadata": {},
     "output_type": "execute_result"
    }
   ],
   "source": [
    "A = np.array([[1, 1], [0, 1]])\n",
    "B = np.array([[2, 0], [3, 4]])\n",
    "\n",
    "A*B                         # elementwise product\n",
    "A.dot(B)                    # matrix product\n",
    "np.dot(A, B)                # another matrix product\n",
    "A@B"
   ]
  },
  {
   "cell_type": "markdown",
   "metadata": {},
   "source": [
    "以上操作也可以用函数替代，比如"
   ]
  },
  {
   "cell_type": "code",
   "execution_count": 29,
   "metadata": {},
   "outputs": [
    {
     "data": {
      "text/plain": [
       "array([[3, 1],\n",
       "       [3, 5]])"
      ]
     },
     "execution_count": 29,
     "metadata": {},
     "output_type": "execute_result"
    }
   ],
   "source": [
    "np.add(A, B)"
   ]
  },
  {
   "cell_type": "markdown",
   "metadata": {},
   "source": [
    "`+=` `*=` 之类的操作 会就地操作原数组，而不是产生一个新的数组，因为优先调用 `iadd` 等 inplace 方法。"
   ]
  },
  {
   "cell_type": "code",
   "execution_count": 30,
   "metadata": {},
   "outputs": [
    {
     "data": {
      "text/plain": [
       "array([[3, 3, 3],\n",
       "       [3, 3, 3]])"
      ]
     },
     "execution_count": 30,
     "metadata": {},
     "output_type": "execute_result"
    },
    {
     "data": {
      "text/plain": [
       "array([[3.39390146, 3.4361519 , 3.23511957],\n",
       "       [3.48940575, 3.49200153, 3.10309887]])"
      ]
     },
     "execution_count": 30,
     "metadata": {},
     "output_type": "execute_result"
    },
    {
     "name": "stdout",
     "output_type": "stream",
     "text": [
      "Cannot cast ufunc add output from dtype('float64') to dtype('int32') with casting rule 'same_kind'\n"
     ]
    }
   ],
   "source": [
    "a = np.ones((2, 3), dtype=int)\n",
    "b = np.random.random((2, 3))\n",
    "a *= 3\n",
    "a\n",
    "\n",
    "\n",
    "b += a\n",
    "b\n",
    "\n",
    "try:\n",
    "    a += b                  # b is not automatically converted to integer type\n",
    "except Exception as e:\n",
    "    print(e)"
   ]
  },
  {
   "cell_type": "markdown",
   "metadata": {},
   "source": [
    "**当两个操作数精度不同时，NumPy 会自动采用较高精度，叫做 upcasting**，所以 float 无法自动转换到 int"
   ]
  },
  {
   "cell_type": "markdown",
   "metadata": {},
   "source": [
    "很多操作，比如求和已经作为ndarray的方法进行了实现。例如 `sum` `min` `max` 等。这些操作默认 `axis=None`，但是可以手动指定`axis`参数来对某一维进行操作。"
   ]
  },
  {
   "cell_type": "code",
   "execution_count": 31,
   "metadata": {},
   "outputs": [
    {
     "data": {
      "text/plain": [
       "array([[ 0,  1,  2,  3],\n",
       "       [ 4,  5,  6,  7],\n",
       "       [ 8,  9, 10, 11]])"
      ]
     },
     "execution_count": 31,
     "metadata": {},
     "output_type": "execute_result"
    },
    {
     "data": {
      "text/plain": [
       "array([12, 15, 18, 21])"
      ]
     },
     "execution_count": 31,
     "metadata": {},
     "output_type": "execute_result"
    },
    {
     "data": {
      "text/plain": [
       "array([0, 4, 8])"
      ]
     },
     "execution_count": 31,
     "metadata": {},
     "output_type": "execute_result"
    },
    {
     "data": {
      "text/plain": [
       "array([[ 0,  1,  3,  6],\n",
       "       [ 4,  9, 15, 22],\n",
       "       [ 8, 17, 27, 38]], dtype=int32)"
      ]
     },
     "execution_count": 31,
     "metadata": {},
     "output_type": "execute_result"
    }
   ],
   "source": [
    "arr = np.arange(12).reshape(3, 4)\n",
    "\n",
    "arr\n",
    "arr.sum(axis=0)                            # sum of each column\n",
    "arr.min(axis=1)                            # min of each row\n",
    "arr.cumsum(axis=1)                         # cumulative sum along each row"
   ]
  },
  {
   "cell_type": "markdown",
   "metadata": {},
   "source": [
    "## 通用函数\n",
    "\n",
    "NumPy 内置了很多函数比如 `sin` `cos` `exp` `sqrt` `add`，被称作 ufunc，NumPy 中这些 ufunc 大多是 elementwise 的，返回新的 ndarray"
   ]
  },
  {
   "cell_type": "code",
   "execution_count": 32,
   "metadata": {},
   "outputs": [
    {
     "data": {
      "text/plain": [
       "array([[ 0,  1,  2,  3],\n",
       "       [ 4,  5,  6,  7],\n",
       "       [ 8,  9, 10, 11]])"
      ]
     },
     "execution_count": 32,
     "metadata": {},
     "output_type": "execute_result"
    },
    {
     "data": {
      "text/plain": [
       "array([[1.00000000e+00, 2.71828183e+00, 7.38905610e+00, 2.00855369e+01],\n",
       "       [5.45981500e+01, 1.48413159e+02, 4.03428793e+02, 1.09663316e+03],\n",
       "       [2.98095799e+03, 8.10308393e+03, 2.20264658e+04, 5.98741417e+04]])"
      ]
     },
     "execution_count": 32,
     "metadata": {},
     "output_type": "execute_result"
    },
    {
     "data": {
      "text/plain": [
       "array([[0.        , 1.        , 1.41421356, 1.73205081],\n",
       "       [2.        , 2.23606798, 2.44948974, 2.64575131],\n",
       "       [2.82842712, 3.        , 3.16227766, 3.31662479]])"
      ]
     },
     "execution_count": 32,
     "metadata": {},
     "output_type": "execute_result"
    },
    {
     "data": {
      "text/plain": [
       "array([[ 1.,  2.,  3.,  4.],\n",
       "       [ 5.,  6.,  7.,  8.],\n",
       "       [ 9., 10., 11., 12.]])"
      ]
     },
     "execution_count": 32,
     "metadata": {},
     "output_type": "execute_result"
    }
   ],
   "source": [
    "arr = np.arange(12).reshape(3, 4)\n",
    "\n",
    "arr\n",
    "np.exp(arr)\n",
    "np.sqrt(arr)\n",
    "\n",
    "arr_1 = np.ones(12).reshape(3, 4)\n",
    "np.add(arr, arr_1)"
   ]
  },
  {
   "cell_type": "markdown",
   "metadata": {},
   "source": [
    "**另见：**\n",
    "\n",
    "    all, any, apply_along_axis, argmax, argmin, argsort, average, bincount, ceil, clip, conj, corrcoef, cov, cross, cumprod, cumsum, diff, dot, floor, inner, inv, lexsort, max, maximum, mean, median, min, minimum, nonzero, outer, prod, re, round, sort, std, sum, trace, transpose, var, vdot, vectorize, where"
   ]
  },
  {
   "cell_type": "markdown",
   "metadata": {},
   "source": [
    "**all**\n",
    "\n",
    "Test whether all array elements along a given axis evaluate to True.\n",
    "\n",
    "检验给定维度的所有值是否都满足一定条件为 True\n",
    "\n",
    "```python\n",
    "numpy.all(a, axis=None, out=None, keepdims=<no value>)[source]\n",
    "```"
   ]
  },
  {
   "cell_type": "code",
   "execution_count": 33,
   "metadata": {},
   "outputs": [
    {
     "data": {
      "text/plain": [
       "True"
      ]
     },
     "execution_count": 33,
     "metadata": {},
     "output_type": "execute_result"
    }
   ],
   "source": [
    "np.all([1.0, np.nan])"
   ]
  },
  {
   "cell_type": "markdown",
   "metadata": {},
   "source": [
    "**nan 值被认为是 True**"
   ]
  },
  {
   "cell_type": "markdown",
   "metadata": {},
   "source": [
    "**any**\n",
    "\n",
    "Test whether any array element along a given axis evaluates to True.\n",
    "\n",
    "检验给定维度是否有任一值满足一定条件为 True\n",
    "\n",
    "```python\n",
    "numpy.any(a, axis=None, out=None, keepdims=<no value>)\n",
    "```"
   ]
  },
  {
   "cell_type": "code",
   "execution_count": 34,
   "metadata": {},
   "outputs": [
    {
     "data": {
      "text/plain": [
       "True"
      ]
     },
     "execution_count": 34,
     "metadata": {},
     "output_type": "execute_result"
    }
   ],
   "source": [
    "np.any(np.nan)"
   ]
  },
  {
   "cell_type": "markdown",
   "metadata": {},
   "source": [
    "**nan值为True**"
   ]
  },
  {
   "cell_type": "markdown",
   "metadata": {},
   "source": [
    "`apply_along_axis`见[]()"
   ]
  },
  {
   "cell_type": "markdown",
   "metadata": {},
   "source": [
    "**apply_along_axis** 见补充部分"
   ]
  },
  {
   "cell_type": "markdown",
   "metadata": {},
   "source": [
    "**argmax**\n",
    "\n",
    "Returns the indices of the maximum values along an axis.\n",
    "\n",
    "指定维度最大值的“坐标”\n",
    "\n",
    "```python\n",
    "numpy.argmax(a, axis=None, out=None)\n",
    "```\n",
    "\n",
    "**注意：该函数返回的 坐标是 1-D的，即无论是否指定某个维度或整体寻找最大值，返回的“坐标”都是1-D的。**\n",
    "\n",
    "**出现重复最大值时，返回第一次出现的“坐标”**"
   ]
  },
  {
   "cell_type": "code",
   "execution_count": 35,
   "metadata": {},
   "outputs": [
    {
     "data": {
      "text/plain": [
       "11"
      ]
     },
     "execution_count": 35,
     "metadata": {},
     "output_type": "execute_result"
    },
    {
     "data": {
      "text/plain": [
       "array([2, 2, 2, 2], dtype=int64)"
      ]
     },
     "execution_count": 35,
     "metadata": {},
     "output_type": "execute_result"
    },
    {
     "data": {
      "text/plain": [
       "array([3, 3, 3], dtype=int64)"
      ]
     },
     "execution_count": 35,
     "metadata": {},
     "output_type": "execute_result"
    }
   ],
   "source": [
    "arr = np.arange(12).reshape(3, 4)\n",
    "\n",
    "np.argmax(arr)\n",
    "\n",
    "np.argmax(arr, axis=0)\n",
    "\n",
    "np.argmax(arr, axis=1)"
   ]
  },
  {
   "cell_type": "markdown",
   "metadata": {},
   "source": [
    "**argmin**\n",
    "\n",
    "Returns the indices of the minimum values along an axis.\n",
    "\n",
    "```python\n",
    "numpy.argmin(a, axis=None, out=None)\n",
    "```\n",
    "\n",
    "与 `argmax`类似"
   ]
  },
  {
   "cell_type": "markdown",
   "metadata": {},
   "source": [
    "**argsort**见补充部分\n",
    "\n",
    "**outer**见补充部分\n",
    "\n",
    "**transpose**见补充部分\n",
    "\n",
    "**vectorize**见补充部分\n",
    "\n",
    "**where**见补充部分"
   ]
  },
  {
   "cell_type": "markdown",
   "metadata": {},
   "source": [
    "## 索引、切片和迭代\n",
    "\n",
    "一维ndarray的索引、切片和迭代与 python list 没有什么区别。\n",
    "\n",
    "多维ndarray的每一维度都有对应一个index，按序列形式传递，当有些维度的索引没有给出的时候，默认为`:`，即该维度全部元素。"
   ]
  },
  {
   "cell_type": "code",
   "execution_count": 36,
   "metadata": {},
   "outputs": [
    {
     "data": {
      "text/plain": [
       "array([[ 0,  1,  2,  3],\n",
       "       [ 4,  5,  6,  7],\n",
       "       [ 8,  9, 10, 11]])"
      ]
     },
     "execution_count": 36,
     "metadata": {},
     "output_type": "execute_result"
    }
   ],
   "source": [
    "arr = np.arange(12).reshape(3, 4)\n",
    "arr"
   ]
  },
  {
   "cell_type": "code",
   "execution_count": 37,
   "metadata": {},
   "outputs": [
    {
     "data": {
      "text/plain": [
       "11"
      ]
     },
     "execution_count": 37,
     "metadata": {},
     "output_type": "execute_result"
    },
    {
     "data": {
      "text/plain": [
       "array([1, 5, 9])"
      ]
     },
     "execution_count": 37,
     "metadata": {},
     "output_type": "execute_result"
    },
    {
     "data": {
      "text/plain": [
       "array([1, 5, 9])"
      ]
     },
     "execution_count": 37,
     "metadata": {},
     "output_type": "execute_result"
    },
    {
     "data": {
      "text/plain": [
       "array([[ 4,  5,  6,  7],\n",
       "       [ 8,  9, 10, 11]])"
      ]
     },
     "execution_count": 37,
     "metadata": {},
     "output_type": "execute_result"
    },
    {
     "data": {
      "text/plain": [
       "array([ 8,  9, 10, 11])"
      ]
     },
     "execution_count": 37,
     "metadata": {},
     "output_type": "execute_result"
    }
   ],
   "source": [
    "arr[2, 3]\n",
    "\n",
    "arr[0:5, 1]                       # each row in the second column of b\n",
    "\n",
    "arr[:, 1]                        # equivalent to the previous example\n",
    "\n",
    "arr[1:3, :]                      # each column in the second and third row of b\n",
    "\n",
    "arr[-1]                                  # 等价于 b[-1,:]"
   ]
  },
  {
   "cell_type": "markdown",
   "metadata": {},
   "source": [
    "`x[i]` 也可以写成 `x[i, ...]`, `...` 可以代表任意多个 `:` ，假设 x 是5维的，则\n",
    "\n",
    "- `x[1,2,...]` 等价于 `x[1,2,:,:,:]`\n",
    "- `x[...,3]` 等价于 `x[:,:,:,:,3]`\n",
    "- `x[4,...,5,:]` 等价于 `x[4,:,:,5,:]`\n",
    "\n",
    "**对多维数组的迭代，等价于对第一维度的迭代**，如果要对整个ndarray的所有元素进行迭代，可以使用 `ndarray.flat`，返回一个原数组的一维化迭代器。"
   ]
  },
  {
   "cell_type": "code",
   "execution_count": 38,
   "metadata": {
    "scrolled": true
   },
   "outputs": [
    {
     "name": "stdout",
     "output_type": "stream",
     "text": [
      "[0 1 2 3]\n",
      "[4 5 6 7]\n",
      "[ 8  9 10 11]\n"
     ]
    }
   ],
   "source": [
    "for row in arr:\n",
    "    print(row)"
   ]
  },
  {
   "cell_type": "code",
   "execution_count": 39,
   "metadata": {
    "scrolled": true
   },
   "outputs": [
    {
     "name": "stdout",
     "output_type": "stream",
     "text": [
      "0\n",
      "1\n",
      "2\n",
      "3\n",
      "4\n",
      "5\n",
      "6\n",
      "7\n",
      "8\n",
      "9\n",
      "10\n",
      "11\n"
     ]
    }
   ],
   "source": [
    "for element in arr.flat:\n",
    "    print(element)"
   ]
  },
  {
   "cell_type": "markdown",
   "metadata": {},
   "source": [
    "另见：\n",
    "\n",
    "    Indexing, Indexing (reference), newaxis, ndenumerate, indices"
   ]
  },
  {
   "cell_type": "markdown",
   "metadata": {},
   "source": [
    "**newaxis**见补充部分\n",
    "\n",
    "**ndenumerate**见补充部分\n",
    "\n",
    "**indices**见补充部分"
   ]
  },
  {
   "cell_type": "markdown",
   "metadata": {},
   "source": [
    "# 形状操作\n",
    "\n",
    "## 改变ndarray的形状\n",
    "\n",
    "用到的主要函数 `ravel, flattern, reshape, resize`\n",
    "\n",
    "**ravel**\n",
    "\n",
    "Return a contiguous flattened array.\n",
    "\n",
    "返回一维化**视图**\n",
    "\n",
    "```python\n",
    "numpy.ravel(a, order='C')\n",
    "```\n",
    "\n",
    "参数 `order` 控制一维化的顺序，`order='C'`时从最外层维度开始一维化，如果为`F`在从最内层开始。\n",
    "\n",
    "**flatten**\n",
    "\n",
    "Return a copy of the array collapsed into one dimension.\n",
    "\n",
    "返回一维化**副本**\n",
    "\n",
    "```python\n",
    "ndarray.flatten(order='C')\n",
    "```\n",
    "\n",
    "**`ravel()`返回的是原ndarray的视图，视图的数据改变会影响原ndarray，`flatten()` 返回一个一维化的副本**"
   ]
  },
  {
   "cell_type": "code",
   "execution_count": 40,
   "metadata": {},
   "outputs": [
    {
     "data": {
      "text/plain": [
       "array([ 0,  1,  2,  3,  4,  5,  6,  7,  8,  9, 10, 11])"
      ]
     },
     "execution_count": 40,
     "metadata": {},
     "output_type": "execute_result"
    },
    {
     "data": {
      "text/plain": [
       "array([ 0,  4,  8,  1,  5,  9,  2,  6, 10,  3,  7, 11])"
      ]
     },
     "execution_count": 40,
     "metadata": {},
     "output_type": "execute_result"
    }
   ],
   "source": [
    "arr = np.arange(12).reshape((3, 4))\n",
    "arr.ravel()  # 一维化视图\n",
    "arr.ravel(order='F')  # F order"
   ]
  },
  {
   "cell_type": "code",
   "execution_count": 41,
   "metadata": {
    "scrolled": true
   },
   "outputs": [
    {
     "data": {
      "text/plain": [
       "array([[ 0,  1,  2],\n",
       "       [ 3,  4,  5],\n",
       "       [ 6,  7,  8],\n",
       "       [ 9, 10, 11]])"
      ]
     },
     "execution_count": 41,
     "metadata": {},
     "output_type": "execute_result"
    },
    {
     "data": {
      "text/plain": [
       "array([[ 0,  4,  8],\n",
       "       [ 1,  5,  9],\n",
       "       [ 2,  6, 10],\n",
       "       [ 3,  7, 11]])"
      ]
     },
     "execution_count": 41,
     "metadata": {},
     "output_type": "execute_result"
    },
    {
     "data": {
      "text/plain": [
       "(4, 3)"
      ]
     },
     "execution_count": 41,
     "metadata": {},
     "output_type": "execute_result"
    },
    {
     "data": {
      "text/plain": [
       "(3, 4)"
      ]
     },
     "execution_count": 41,
     "metadata": {},
     "output_type": "execute_result"
    }
   ],
   "source": [
    "arr.reshape(4, 3)\n",
    "\n",
    "arr.T\n",
    "arr.T.shape\n",
    "arr.shape"
   ]
  },
  {
   "cell_type": "code",
   "execution_count": 42,
   "metadata": {},
   "outputs": [
    {
     "data": {
      "text/plain": [
       "array([ 0,  1,  2,  3,  4,  5,  6,  7,  8,  9, 10, 11])"
      ]
     },
     "execution_count": 42,
     "metadata": {},
     "output_type": "execute_result"
    },
    {
     "data": {
      "text/plain": [
       "  C_CONTIGUOUS : True\n",
       "  F_CONTIGUOUS : True\n",
       "  OWNDATA : True\n",
       "  WRITEABLE : True\n",
       "  ALIGNED : True\n",
       "  WRITEBACKIFCOPY : False\n",
       "  UPDATEIFCOPY : False"
      ]
     },
     "execution_count": 42,
     "metadata": {},
     "output_type": "execute_result"
    }
   ],
   "source": [
    "arr.flatten()\n",
    "arr.flatten().flags"
   ]
  },
  {
   "cell_type": "markdown",
   "metadata": {},
   "source": [
    "**ndarray.resize**\n",
    "\n",
    "Change shape and size of array in-place.\n",
    "\n",
    "就地改变ndarray的形状（有reference检查）\n",
    "\n",
    "```python\n",
    "ndarray.resize(new_shape, refcheck=True)\n",
    "```\n",
    "\n",
    "**numpy.resize**\n",
    "\n",
    "Return a new array with the specified shape.\n",
    "\n",
    "返回改变形状的副本（无reference检查）\n",
    "\n",
    "```python\n",
    "numpy.resize(a, new_shape)[source]\n",
    "```\n",
    "\n",
    "**resize 和 reshape有两处不同，其一，ndarray.resize会进行reference检查，而reshape不会；其二，resize可以将原ndarray改变包含更多或更少元素的形状，更少时直接丢弃部分元素即可，更多时重复原ndarray。**"
   ]
  },
  {
   "cell_type": "code",
   "execution_count": 43,
   "metadata": {},
   "outputs": [
    {
     "name": "stdout",
     "output_type": "stream",
     "text": [
      "cannot resize an array that references or is referenced\n",
      "by another array in this way.\n",
      "Use the np.resize function or refcheck=False\n"
     ]
    }
   ],
   "source": [
    "arr = np.array([[1, 2], [3, 4]], order='C')\n",
    "c = arr\n",
    "arr.resize((2, 2))  # 即使存在 reference，依然可以就地resize\n",
    "\n",
    "try:\n",
    "    arr.resize((2, 1))\n",
    "except Exception as e:\n",
    "    print(e)"
   ]
  },
  {
   "cell_type": "markdown",
   "metadata": {},
   "source": [
    "**实际上，即使存在reference，只要不更改核心数据，也还是可以就地resize的。**"
   ]
  },
  {
   "cell_type": "markdown",
   "metadata": {},
   "source": [
    "另见：\n",
    "    \n",
    "    ndarray.shape, reshape, resize, ravel"
   ]
  },
  {
   "cell_type": "markdown",
   "metadata": {},
   "source": [
    "## ndarray的组合\n",
    "\n",
    "用到的主要函数 `vstack, hstack, column_stack, concatenate`\n",
    "\n",
    "**vstack**\n",
    "\n",
    "Stack arrays in sequence vertically (row wise).\n",
    "\n",
    "垂直组合ndarray\n",
    "\n",
    "```python\n",
    "numpy.vstack(tup)\n",
    "```\n",
    "**hstack**\n",
    "\n",
    "Stack arrays in sequence horizontally (column wise).\n",
    "\n",
    "水平组合ndarray\n",
    "\n",
    "```python\n",
    "numpy.hstack(tup)\n",
    "```\n",
    "\n",
    "**column_stack**\n",
    "\n",
    "Stack 1-D arrays as columns into a 2-D array.\n",
    "\n",
    "将1-Dndarray作为列组合为2-Dndarray\n",
    "\n",
    "\n",
    "```python\n",
    "numpy.column_stack(tup)\n",
    "```\n",
    "\n",
    "**concatenate**\n",
    "\n",
    "Join a sequence of arrays along an existing axis.\n",
    "\n",
    "按指定维度组合ndarray\n",
    "\n",
    "```python\n",
    "numpy.concatenate((a1, a2, ...), axis=0, out=None)\n",
    "```\n",
    "\n",
    "**直接使用concatenate就完事了，高效、可控**\n",
    "\n",
    "**直接使用concatenate就完事了，高效、可控**\n",
    "\n",
    "**直接使用concatenate就完事了，高效、可控**"
   ]
  },
  {
   "cell_type": "code",
   "execution_count": 44,
   "metadata": {},
   "outputs": [
    {
     "data": {
      "text/plain": [
       "array([[ 0,  1,  2,  3],\n",
       "       [ 4,  5,  6,  7],\n",
       "       [ 8,  9, 10, 11]])"
      ]
     },
     "execution_count": 44,
     "metadata": {},
     "output_type": "execute_result"
    },
    {
     "data": {
      "text/plain": [
       "array([[12, 13, 14, 15],\n",
       "       [16, 17, 18, 19],\n",
       "       [20, 21, 22, 23]])"
      ]
     },
     "execution_count": 44,
     "metadata": {},
     "output_type": "execute_result"
    },
    {
     "data": {
      "text/plain": [
       "array([[ 0,  1,  2,  3],\n",
       "       [ 4,  5,  6,  7],\n",
       "       [ 8,  9, 10, 11],\n",
       "       [12, 13, 14, 15],\n",
       "       [16, 17, 18, 19],\n",
       "       [20, 21, 22, 23]])"
      ]
     },
     "execution_count": 44,
     "metadata": {},
     "output_type": "execute_result"
    },
    {
     "data": {
      "text/plain": [
       "array([[ 0,  1,  2,  3, 12, 13, 14, 15],\n",
       "       [ 4,  5,  6,  7, 16, 17, 18, 19],\n",
       "       [ 8,  9, 10, 11, 20, 21, 22, 23]])"
      ]
     },
     "execution_count": 44,
     "metadata": {},
     "output_type": "execute_result"
    }
   ],
   "source": [
    "arr_a = np.arange(12).reshape(3, 4)\n",
    "arr_a\n",
    "\n",
    "arr_b = np.arange(12, 24).reshape(3, 4)\n",
    "arr_b\n",
    "\n",
    "np.vstack((arr_a, arr_b))\n",
    "\n",
    "np.hstack((arr_a, arr_b))"
   ]
  },
  {
   "cell_type": "markdown",
   "metadata": {},
   "source": [
    "**仅对于2-D ndarrays`column_stack`是和`hstack`一样的**"
   ]
  },
  {
   "cell_type": "code",
   "execution_count": 45,
   "metadata": {},
   "outputs": [
    {
     "data": {
      "text/plain": [
       "array([[ 0,  1,  2,  3, 12, 13, 14, 15],\n",
       "       [ 4,  5,  6,  7, 16, 17, 18, 19],\n",
       "       [ 8,  9, 10, 11, 20, 21, 22, 23]])"
      ]
     },
     "execution_count": 45,
     "metadata": {},
     "output_type": "execute_result"
    }
   ],
   "source": [
    "np.column_stack((arr_a, arr_b))"
   ]
  },
  {
   "cell_type": "code",
   "execution_count": 46,
   "metadata": {},
   "outputs": [
    {
     "data": {
      "text/plain": [
       "array([[4., 3.],\n",
       "       [2., 8.]])"
      ]
     },
     "execution_count": 46,
     "metadata": {},
     "output_type": "execute_result"
    },
    {
     "data": {
      "text/plain": [
       "array([4., 2., 3., 8.])"
      ]
     },
     "execution_count": 46,
     "metadata": {},
     "output_type": "execute_result"
    }
   ],
   "source": [
    "a = np.array([4., 2.])\n",
    "b = np.array([3., 8.])\n",
    "np.column_stack((a, b))     # returns a 2D array\n",
    "\n",
    "np.hstack((a, b))           # the result is different"
   ]
  },
  {
   "cell_type": "markdown",
   "metadata": {},
   "source": [
    "**实际上，hstack 按第二维度拼接，而 vstack 按第一维度拼接**"
   ]
  },
  {
   "cell_type": "code",
   "execution_count": 47,
   "metadata": {},
   "outputs": [
    {
     "data": {
      "text/plain": [
       "array([[[ 0,  1,  2,  3],\n",
       "        [ 4,  5,  6,  7],\n",
       "        [ 8,  9, 10, 11]],\n",
       "\n",
       "       [[12, 13, 14, 15],\n",
       "        [16, 17, 18, 19],\n",
       "        [20, 21, 22, 23]]])"
      ]
     },
     "execution_count": 47,
     "metadata": {},
     "output_type": "execute_result"
    },
    {
     "data": {
      "text/plain": [
       "array([[[24, 25, 26, 27],\n",
       "        [28, 29, 30, 31],\n",
       "        [32, 33, 34, 35]],\n",
       "\n",
       "       [[36, 37, 38, 39],\n",
       "        [40, 41, 42, 43],\n",
       "        [44, 45, 46, 47]]])"
      ]
     },
     "execution_count": 47,
     "metadata": {},
     "output_type": "execute_result"
    },
    {
     "data": {
      "text/plain": [
       "(4, 3, 4)"
      ]
     },
     "execution_count": 47,
     "metadata": {},
     "output_type": "execute_result"
    },
    {
     "data": {
      "text/plain": [
       "(2, 6, 4)"
      ]
     },
     "execution_count": 47,
     "metadata": {},
     "output_type": "execute_result"
    }
   ],
   "source": [
    "arr_a = np.arange(24).reshape((2, 3, 4))\n",
    "arr_a\n",
    "\n",
    "arr_b = np.arange(24, 48).reshape((2, 3, 4))\n",
    "arr_b\n",
    "\n",
    "np.vstack((arr_a, arr_b)).shape\n",
    "\n",
    "np.hstack((arr_a, arr_b)).shape"
   ]
  },
  {
   "cell_type": "markdown",
   "metadata": {},
   "source": [
    "**concatenate 可以指定按哪个维度拼接，若指定 `axis=None` 则组合为1-D**"
   ]
  },
  {
   "cell_type": "code",
   "execution_count": 48,
   "metadata": {},
   "outputs": [
    {
     "data": {
      "text/plain": [
       "array([[ 0,  1,  2,  3],\n",
       "       [ 4,  5,  6,  7],\n",
       "       [ 8,  9, 10, 11]])"
      ]
     },
     "execution_count": 48,
     "metadata": {},
     "output_type": "execute_result"
    },
    {
     "data": {
      "text/plain": [
       "array([[12, 13, 14, 15],\n",
       "       [16, 17, 18, 19],\n",
       "       [20, 21, 22, 23]])"
      ]
     },
     "execution_count": 48,
     "metadata": {},
     "output_type": "execute_result"
    },
    {
     "data": {
      "text/plain": [
       "array([[ 0,  1,  2,  3],\n",
       "       [ 4,  5,  6,  7],\n",
       "       [ 8,  9, 10, 11],\n",
       "       [12, 13, 14, 15],\n",
       "       [16, 17, 18, 19],\n",
       "       [20, 21, 22, 23]])"
      ]
     },
     "execution_count": 48,
     "metadata": {},
     "output_type": "execute_result"
    },
    {
     "data": {
      "text/plain": [
       "array([[ 0,  1,  2,  3, 12, 13, 14, 15],\n",
       "       [ 4,  5,  6,  7, 16, 17, 18, 19],\n",
       "       [ 8,  9, 10, 11, 20, 21, 22, 23]])"
      ]
     },
     "execution_count": 48,
     "metadata": {},
     "output_type": "execute_result"
    },
    {
     "data": {
      "text/plain": [
       "array([ 0,  1,  2,  3,  4,  5,  6,  7,  8,  9, 10, 11, 12, 13, 14, 15, 16,\n",
       "       17, 18, 19, 20, 21, 22, 23])"
      ]
     },
     "execution_count": 48,
     "metadata": {},
     "output_type": "execute_result"
    }
   ],
   "source": [
    "arr_a = np.arange(12).reshape(3, 4)\n",
    "arr_a\n",
    "\n",
    "arr_b = np.arange(12, 24).reshape(3, 4)\n",
    "arr_b\n",
    "\n",
    "np.concatenate((arr_a, arr_b), axis=0)\n",
    "\n",
    "np.concatenate((arr_a, arr_b), axis=1)\n",
    "\n",
    "np.concatenate((arr_a, arr_b), axis=None)"
   ]
  },
  {
   "cell_type": "markdown",
   "metadata": {},
   "source": [
    "此外还有`r_` 和 `c_` 在构建ndarray时也很有用"
   ]
  },
  {
   "cell_type": "code",
   "execution_count": 49,
   "metadata": {},
   "outputs": [
    {
     "data": {
      "text/plain": [
       "array([1, 2, 3, 0, 4])"
      ]
     },
     "execution_count": 49,
     "metadata": {},
     "output_type": "execute_result"
    }
   ],
   "source": [
    "np.r_[1:4, 0, 4]"
   ]
  },
  {
   "cell_type": "markdown",
   "metadata": {},
   "source": [
    "另见：\n",
    "\n",
    "    hstack, vstack, column_stack, concatenate, c_, r_"
   ]
  },
  {
   "cell_type": "markdown",
   "metadata": {},
   "source": [
    "## 拆分ndarray\n",
    "\n",
    "用到的主要函数 `hsplit, vsplit, split`\n",
    "\n",
    "**hsplit**\n",
    "\n",
    "Split an array into multiple sub-arrays horizontally (column-wise).\n",
    "\n",
    "水平拆分ndarray\n",
    "\n",
    "```python\n",
    "numpy.hsplit(ary, indices_or_sections)\n",
    "```\n",
    "\n",
    "**vsplit**\n",
    "\n",
    "Split an array into multiple sub-arrays vertically (row-wise).\n",
    "\n",
    "垂直拆分ndarray\n",
    "\n",
    "```python\n",
    "numpy.vsplit(ary, indices_or_sections)\n",
    "```\n",
    "\n",
    "**split**\n",
    "\n",
    "Split an array into multiple sub-arrays.\n",
    "\n",
    "按指定维度拆分ndarray\n",
    "\n",
    "```python\n",
    "numpy.split(ary, indices_or_sections, axis=0)\n",
    "```\n",
    "\n",
    "其中`indices_or_sections`可以只给出拆分后的个数,也可用于精细拆分,比如给定 [2, 3] 则拆分如下\n",
    "\n",
    "- `arr[:2]`\n",
    "- `arr[2:3]`\n",
    "- `arr[3:]`\n",
    "\n",
    "axis 指定沿着哪个维度拆分."
   ]
  },
  {
   "cell_type": "code",
   "execution_count": 50,
   "metadata": {},
   "outputs": [
    {
     "data": {
      "text/plain": [
       "array([[ 0,  1,  2,  3],\n",
       "       [ 4,  5,  6,  7],\n",
       "       [ 8,  9, 10, 11]])"
      ]
     },
     "execution_count": 50,
     "metadata": {},
     "output_type": "execute_result"
    },
    {
     "data": {
      "text/plain": [
       "[array([[0, 1],\n",
       "        [4, 5],\n",
       "        [8, 9]]), array([[ 2,  3],\n",
       "        [ 6,  7],\n",
       "        [10, 11]])]"
      ]
     },
     "execution_count": 50,
     "metadata": {},
     "output_type": "execute_result"
    },
    {
     "data": {
      "text/plain": [
       "[array([[0],\n",
       "        [4],\n",
       "        [8]]), array([[1],\n",
       "        [5],\n",
       "        [9]]), array([[ 2,  3],\n",
       "        [ 6,  7],\n",
       "        [10, 11]])]"
      ]
     },
     "execution_count": 50,
     "metadata": {},
     "output_type": "execute_result"
    }
   ],
   "source": [
    "arr = np.arange(12).reshape(3, 4)\n",
    "arr\n",
    "\n",
    "np.hsplit(arr, 2)   # 分为2个\n",
    "\n",
    "np.hsplit(arr, (1, 2))   # 第2和第3列后拆分"
   ]
  },
  {
   "cell_type": "code",
   "execution_count": 51,
   "metadata": {},
   "outputs": [
    {
     "data": {
      "text/plain": [
       "[array([[0, 1, 2, 3]]), array([[4, 5, 6, 7]]), array([[ 8,  9, 10, 11]])]"
      ]
     },
     "execution_count": 51,
     "metadata": {},
     "output_type": "execute_result"
    }
   ],
   "source": [
    "np.split(arr, 3)"
   ]
  },
  {
   "cell_type": "code",
   "execution_count": 52,
   "metadata": {},
   "outputs": [
    {
     "data": {
      "text/plain": [
       "[array([[0, 1, 2, 3],\n",
       "        [4, 5, 6, 7]]),\n",
       " array([[ 8,  9, 10, 11]]),\n",
       " array([], shape=(0, 4), dtype=int32)]"
      ]
     },
     "execution_count": 52,
     "metadata": {},
     "output_type": "execute_result"
    }
   ],
   "source": [
    "np.split(arr, [2, 3])"
   ]
  },
  {
   "cell_type": "code",
   "execution_count": 53,
   "metadata": {},
   "outputs": [
    {
     "data": {
      "text/plain": [
       "[array([[0, 1],\n",
       "        [4, 5],\n",
       "        [8, 9]]), array([[ 2,  3],\n",
       "        [ 6,  7],\n",
       "        [10, 11]])]"
      ]
     },
     "execution_count": 53,
     "metadata": {},
     "output_type": "execute_result"
    }
   ],
   "source": [
    "np.split(arr, 2, axis=1)"
   ]
  },
  {
   "cell_type": "markdown",
   "metadata": {},
   "source": [
    "# 副本与视图\n",
    "\n",
    "**NumPy中关于复制大概分三种情况：完全不复制、视图（view）或者叫浅复制（shadow copy）以及副本或者叫深复制（deep copy）**"
   ]
  },
  {
   "cell_type": "markdown",
   "metadata": {},
   "source": [
    "## 完全无复制\n",
    "\n",
    "将ndarray作为右值对某个变量名进行赋值不会有底层数据的复制，只是将另一个变量名也绑定到同一个ndarray上；函数调用也是一样，按引用调用，不会复制nndarray对象的数据（底层数据以及shape，data type等边缘数据都不存在复制）"
   ]
  },
  {
   "cell_type": "code",
   "execution_count": 54,
   "metadata": {},
   "outputs": [
    {
     "data": {
      "text/plain": [
       "True"
      ]
     },
     "execution_count": 54,
     "metadata": {},
     "output_type": "execute_result"
    }
   ],
   "source": [
    "arr = np.arange(12)\n",
    "s = arr  # 将s这一变量名绑定到arr上\n",
    "s is arr  # s即为arr"
   ]
  },
  {
   "cell_type": "code",
   "execution_count": 55,
   "metadata": {},
   "outputs": [
    {
     "data": {
      "text/plain": [
       "(3, 4)"
      ]
     },
     "execution_count": 55,
     "metadata": {},
     "output_type": "execute_result"
    }
   ],
   "source": [
    "s.shape = 3, 4    # 改变s的形状当然也改变arr\n",
    "arr.shape"
   ]
  },
  {
   "cell_type": "code",
   "execution_count": 56,
   "metadata": {},
   "outputs": [
    {
     "data": {
      "text/plain": [
       "2241145493744"
      ]
     },
     "execution_count": 56,
     "metadata": {},
     "output_type": "execute_result"
    },
    {
     "name": "stdout",
     "output_type": "stream",
     "text": [
      "2241145493744\n"
     ]
    }
   ],
   "source": [
    "# 函数调用传入的是类似“指针”的东西\n",
    "def f(x):\n",
    "    print(id(x))\n",
    "\n",
    "\n",
    "id(arr)\n",
    "\n",
    "f(arr)"
   ]
  },
  {
   "cell_type": "markdown",
   "metadata": {},
   "source": [
    "## 视图与浅复制\n",
    "\n",
    "**视图**，即不同的ndarray共用同一块内存作为底层数据，虽然外部属性诸如形状、数据类型、strides等不一样，但其底层的数据内存块是一样的。其中作为base的ndarray对存储底层数据的内存块具有所有权，其他作为视图的ndarray都是在该内存块的基础上借用其数据。改变视图的形状等边缘属性不会影响原ndarray，但改变视图的核心数据会影响原ndarray的底层数据。\n",
    "\n",
    "**切片或者普通索引总是返回视图，但仅仅针对作为右值时而言。作为左值时对其进行赋值都将直接影响原ndarray，而不会有新的ndarray产生（无论是视图或副本）**\n",
    "\n",
    "**切片或者普通索引总是返回视图，但仅仅针对作为右值时而言。作为左值时对其进行赋值都将直接影响原ndarray，而不会有新的ndarray产生（无论是视图或副本）**\n",
    "\n",
    "**切片或者普通索引总是返回视图，但仅仅针对作为右值时而言。作为左值时对其进行赋值都将直接影响原ndarray，而不会有新的ndarray产生（无论是视图或副本）**\n",
    "\n",
    "**实际上，只要新的ndarray可以通过调整shape dtype strides这三要素调整索引机制，在原始内存块中标记出新ndarray所需内存块，那么就NumPy就倾向于返回视图**\n",
    "\n",
    "关于普通索引与高级索引的区别，见补充内容相关部分。\n",
    "\n",
    "关于ndarray的内存管理，见[from-python-to-numpy](http://www.labri.fr/perso/nrougier/from-python-to-numpy/#anatomy-of-an-array)\n",
    "\n",
    "此外，使用`view`方法也能返回视图。"
   ]
  },
  {
   "cell_type": "markdown",
   "metadata": {},
   "source": [
    "### 基于切片行为产生的视图\n",
    "\n",
    "所谓切片，即对ndarray进行索引时，每个维度上的索引值都是类似`start:stop:step`这样格式的，比如`arr[0:4:2, 1:5:1]`或者`arr[1, :-1]`。"
   ]
  },
  {
   "cell_type": "code",
   "execution_count": 57,
   "metadata": {},
   "outputs": [
    {
     "data": {
      "text/plain": [
       "False"
      ]
     },
     "execution_count": 57,
     "metadata": {},
     "output_type": "execute_result"
    },
    {
     "data": {
      "text/plain": [
       "True"
      ]
     },
     "execution_count": 57,
     "metadata": {},
     "output_type": "execute_result"
    }
   ],
   "source": [
    "arr = np.ones((3, 4))\n",
    "\n",
    "s = arr[0:4:2, 1:5:1]\n",
    "\n",
    "s.flags.owndata  # s对底层数据没有所有权\n",
    "s.base is (arr if arr.flags.owndata else arr.base)  # s为arr的视图"
   ]
  },
  {
   "cell_type": "code",
   "execution_count": 58,
   "metadata": {},
   "outputs": [
    {
     "data": {
      "text/plain": [
       "array([[1., 1., 1.],\n",
       "       [1., 1., 1.]])"
      ]
     },
     "execution_count": 58,
     "metadata": {},
     "output_type": "execute_result"
    },
    {
     "data": {
      "text/plain": [
       "(3, 4)"
      ]
     },
     "execution_count": 58,
     "metadata": {},
     "output_type": "execute_result"
    }
   ],
   "source": [
    "s.shape = 2, 3  # 改变s的形状不改变 arr 的形状\n",
    "s\n",
    "\n",
    "arr.shape"
   ]
  },
  {
   "cell_type": "code",
   "execution_count": 59,
   "metadata": {},
   "outputs": [
    {
     "data": {
      "text/plain": [
       "array([[  1.,   1., 999.],\n",
       "       [  1.,   1.,   1.]])"
      ]
     },
     "execution_count": 59,
     "metadata": {},
     "output_type": "execute_result"
    },
    {
     "data": {
      "text/plain": [
       "array([[  1.,   1.,   1., 999.],\n",
       "       [  1.,   1.,   1.,   1.],\n",
       "       [  1.,   1.,   1.,   1.]])"
      ]
     },
     "execution_count": 59,
     "metadata": {},
     "output_type": "execute_result"
    }
   ],
   "source": [
    "s[0, 2] = 999  # 改变s的数据同时改变 arr 的数据\n",
    "s\n",
    "\n",
    "arr"
   ]
  },
  {
   "cell_type": "markdown",
   "metadata": {},
   "source": [
    "### 基于`view`函数产生的视图\n",
    "\n",
    "**view**\n",
    "\n",
    "New view of array with the same data.\n",
    "\n",
    "返回原ndarray的视图，**可通过这一函数调整对底层内存的索引方式（8个8byte或4个16byte）**\n",
    "\n",
    "```python\n",
    "ndarray.view(dtype=None, type=None)\n",
    "```\n",
    "\n",
    "参数dtype用于改变对底层内存块的看待方式，即多少个字节作为一个元素单元。参数type的可选值为`np.ndarray`或`np.matrix`，用于更改ndarray的属性。不含参数的`view`则只返回一个视图，不改变原ndarray的其他属性。"
   ]
  },
  {
   "cell_type": "code",
   "execution_count": 60,
   "metadata": {},
   "outputs": [
    {
     "data": {
      "text/plain": [
       "False"
      ]
     },
     "execution_count": 60,
     "metadata": {},
     "output_type": "execute_result"
    },
    {
     "data": {
      "text/plain": [
       "True"
      ]
     },
     "execution_count": 60,
     "metadata": {},
     "output_type": "execute_result"
    }
   ],
   "source": [
    "arr = np.ones((3, 4))\n",
    "s = arr.view()\n",
    "\n",
    "s.flags.owndata  # s对底层数据没有所有权\n",
    "s.base is (arr if arr.flags.owndata else arr.base)  # s为arr的视图"
   ]
  },
  {
   "cell_type": "markdown",
   "metadata": {},
   "source": [
    "view另一种更常用的情形是改变**对底层内存块的认识方式**"
   ]
  },
  {
   "cell_type": "code",
   "execution_count": 61,
   "metadata": {},
   "outputs": [
    {
     "data": {
      "text/plain": [
       "array([[1, 1, 1, 1],\n",
       "       [1, 1, 1, 1],\n",
       "       [1, 1, 1, 1]], dtype=int8)"
      ]
     },
     "execution_count": 61,
     "metadata": {},
     "output_type": "execute_result"
    },
    {
     "data": {
      "text/plain": [
       "array([[257, 257],\n",
       "       [257, 257],\n",
       "       [257, 257]], dtype=int16)"
      ]
     },
     "execution_count": 61,
     "metadata": {},
     "output_type": "execute_result"
    },
    {
     "data": {
      "text/plain": [
       "(3, 2)"
      ]
     },
     "execution_count": 61,
     "metadata": {},
     "output_type": "execute_result"
    }
   ],
   "source": [
    "arr = np.ones((3, 4), dtype=np.int8)\n",
    "arr\n",
    "\n",
    "# 将改变s的元素值以及形状\n",
    "s = arr.view(dtype=np.int16)\n",
    "s\n",
    "s.shape"
   ]
  },
  {
   "cell_type": "code",
   "execution_count": 62,
   "metadata": {},
   "outputs": [
    {
     "data": {
      "text/plain": [
       "False"
      ]
     },
     "execution_count": 62,
     "metadata": {},
     "output_type": "execute_result"
    },
    {
     "data": {
      "text/plain": [
       "True"
      ]
     },
     "execution_count": 62,
     "metadata": {},
     "output_type": "execute_result"
    }
   ],
   "source": [
    "s.flags.owndata  # s对底层数据没有所有权\n",
    "s.base is (arr if arr.flags.owndata else arr.base)  # s为arr的视图"
   ]
  },
  {
   "cell_type": "markdown",
   "metadata": {},
   "source": [
    "## 深复制\n",
    "\n",
    "首先明确一个概念，**高级索引（advanced indexing, fancy indexing）**。区别于上面的切片概念，当对ndarray进行索引时，只要某一维度上的索引值出现了诸如`[1,2,4]`或`[True, True, False]`之类的通过明确序列给定的索引（而不是`1:5:2`这类复合`start:stop:step`范式的索引）时，那么就算作高级索引。\n",
    "\n",
    "实际上，因为一旦涉及到这种在某一维度上给定一个由明确序列给定的索引时（例如[1, 2, 4]），NumPy很难通过形状、数据类型、strides（可能还需要一个start_offset） 来描述新ndarray在原ndarray的底层数据内存块上的索引机制，因此必然需要将数据在新的内存块上复制一份。\n",
    "\n",
    "**使用高级索引时总是返回副本，即对原ndarray进行深复制，但仅仅针对作为右值时而言。作为左值时对其进行赋值都将直接影响原ndarray，而不会有新的ndarray产生（无论是视图或副本）**\n",
    "\n",
    "**使用高级索引时总是返回副本，即对原ndarray进行深复制，但仅仅针对作为右值时而言。作为左值时对其进行赋值都将直接影响原ndarray，而不会有新的ndarray产生（无论是视图或副本）**\n",
    "\n",
    "**使用高级索引时总是返回副本，即对原ndarray进行深复制，但仅仅针对作为右值时而言。作为左值时对其进行赋值都将直接影响原ndarray，而不会有新的ndarray产生（无论是视图或副本）**\n",
    "\n",
    "具体关于高级索引的用法，见下文高级索引技巧小节。\n",
    "\n",
    "此外，使用`copy`函数可以对ndarray进行深复制；ndarray作为左值时，会从作为右值的ndarray复制底层数据；使用`array`函数构造ndarray时，也会对输入序列的数据进行复制。"
   ]
  },
  {
   "cell_type": "markdown",
   "metadata": {},
   "source": [
    "### 基于高级索引产生的副本\n",
    "\n",
    "关于具体的高级索引方法，参考后文。"
   ]
  },
  {
   "cell_type": "code",
   "execution_count": 63,
   "metadata": {},
   "outputs": [
    {
     "data": {
      "text/plain": [
       "array([[1., 1., 1., 1.],\n",
       "       [1., 1., 1., 1.],\n",
       "       [1., 1., 1., 1.]])"
      ]
     },
     "execution_count": 63,
     "metadata": {},
     "output_type": "execute_result"
    },
    {
     "data": {
      "text/plain": [
       "True"
      ]
     },
     "execution_count": 63,
     "metadata": {},
     "output_type": "execute_result"
    },
    {
     "data": {
      "text/plain": [
       "False"
      ]
     },
     "execution_count": 63,
     "metadata": {},
     "output_type": "execute_result"
    }
   ],
   "source": [
    "arr = np.ones((3, 4))\n",
    "s = arr[[0, 1, 2]]\n",
    "s\n",
    "\n",
    "s.flags.owndata  # s拥有自己的底层数据\n",
    "s.base is (arr if arr.flags.owndata else arr.base)  # s为独立ndarray"
   ]
  },
  {
   "cell_type": "markdown",
   "metadata": {},
   "source": [
    "### 基于 `copy`函数产生的副本\n",
    "\n",
    "**numpy.copy**\n",
    "\n",
    "Return an array copy of the given object.\n",
    "\n",
    "返回ndarray的副本\n",
    "\n",
    "```python\n",
    "numpy.copy(a, order='K')\n",
    "```\n",
    "\n",
    "**ndarray.copy**\n",
    "\n",
    "Return a copy of the array.\n",
    "\n",
    "返回副本\n",
    "\n",
    "```python\n",
    "ndarray.copy(order='C')\n",
    "```"
   ]
  },
  {
   "cell_type": "code",
   "execution_count": 64,
   "metadata": {},
   "outputs": [
    {
     "data": {
      "text/plain": [
       "True"
      ]
     },
     "execution_count": 64,
     "metadata": {},
     "output_type": "execute_result"
    },
    {
     "data": {
      "text/plain": [
       "False"
      ]
     },
     "execution_count": 64,
     "metadata": {},
     "output_type": "execute_result"
    }
   ],
   "source": [
    "arr = np.ones((3, 4))\n",
    "s = arr.copy()\n",
    "\n",
    "s.flags.owndata  # s拥有自己的底层数据\n",
    "s.base is (arr if arr.flags.owndata else arr.base)  # s为独立ndarray"
   ]
  },
  {
   "cell_type": "code",
   "execution_count": 65,
   "metadata": {},
   "outputs": [
    {
     "data": {
      "text/plain": [
       "array([[1., 1., 1., 1.],\n",
       "       [1., 1., 1., 1.],\n",
       "       [1., 1., 1., 1.]])"
      ]
     },
     "execution_count": 65,
     "metadata": {},
     "output_type": "execute_result"
    }
   ],
   "source": [
    "s[0, 0] = 9999  # 对s进行更改不影响arr\n",
    "arr"
   ]
  },
  {
   "cell_type": "markdown",
   "metadata": {},
   "source": [
    "### 作为右值对其他ndarray进行赋值时，为深复制"
   ]
  },
  {
   "cell_type": "code",
   "execution_count": 66,
   "metadata": {},
   "outputs": [
    {
     "data": {
      "text/plain": [
       "True"
      ]
     },
     "execution_count": 66,
     "metadata": {},
     "output_type": "execute_result"
    }
   ],
   "source": [
    "arr = np.ones((3, 4))\n",
    "s = np.zeros((4, 4))\n",
    "s.flags.owndata"
   ]
  },
  {
   "cell_type": "code",
   "execution_count": 67,
   "metadata": {},
   "outputs": [
    {
     "data": {
      "text/plain": [
       "array([[0., 0., 1., 1.],\n",
       "       [0., 0., 1., 1.],\n",
       "       [1., 1., 1., 1.]])"
      ]
     },
     "execution_count": 67,
     "metadata": {},
     "output_type": "execute_result"
    },
    {
     "data": {
      "text/plain": [
       "True"
      ]
     },
     "execution_count": 67,
     "metadata": {},
     "output_type": "execute_result"
    }
   ],
   "source": [
    "arr[:2, :2] = s[:2, :2]\n",
    "arr\n",
    "arr.flags.owndata  # 深复制"
   ]
  },
  {
   "cell_type": "markdown",
   "metadata": {},
   "source": [
    "### 基于`array`函数的ndarray构造，为深复制"
   ]
  },
  {
   "cell_type": "code",
   "execution_count": 68,
   "metadata": {},
   "outputs": [
    {
     "data": {
      "text/plain": [
       "True"
      ]
     },
     "execution_count": 68,
     "metadata": {},
     "output_type": "execute_result"
    }
   ],
   "source": [
    "arr = np.ones((3, 4))\n",
    "\n",
    "s = np.array(arr)\n",
    "s.flags.owndata  # s拥有独立数据"
   ]
  },
  {
   "cell_type": "code",
   "execution_count": 69,
   "metadata": {},
   "outputs": [
    {
     "data": {
      "text/plain": [
       "array([[1., 1., 1., 1.],\n",
       "       [1., 1., 1., 1.],\n",
       "       [1., 1., 1., 1.]])"
      ]
     },
     "execution_count": 69,
     "metadata": {},
     "output_type": "execute_result"
    }
   ],
   "source": [
    "s[0, 0] = 999  # 不影响arr\n",
    "\n",
    "arr"
   ]
  },
  {
   "cell_type": "markdown",
   "metadata": {},
   "source": [
    "## 函数与方法概览\n",
    "\n",
    "- Array Creation\n",
    "\n",
    "        arange, array, copy, empty, empty_like, eye, fromfile, fromfunction, identity, linspace, logspace, mgrid, ogrid, ones, ones_like, r, zeros, zeros_like\n",
    "\n",
    "- Conversions\n",
    "\n",
    "        ndarray.astype, atleast_1d, atleast_2d, atleast_3d, mat\n",
    "\n",
    "- Manipulations\n",
    "\n",
    "        array_split, column_stack, concatenate, diagonal, dsplit, dstack, hsplit,\n",
    "        hstack, ndarray.item, newaxis, ravel, repeat, reshape, resize, squeeze, swapaxes, take, transpose, vsplit, vstack\n",
    "\n",
    "- Questions\n",
    "\n",
    "        all, any, nonzero, where\n",
    "\n",
    "- Ordering\n",
    "\n",
    "        argmax, argmin, argsort, max, min, ptp, searchsorted, sort\n",
    "\n",
    "- Operations\n",
    "\n",
    "        choose, compress, cumprod, cumsum, inner, ndarray.fill, imag, prod, put, putmask, real, sum\n",
    "\n",
    "- Basic Statistics\n",
    "\n",
    "        cov, mean, std, var\n",
    "\n",
    "- Basic Linear Algebra\n",
    "\n",
    "        cross, dot, outer, linalg.svd, vdot"
   ]
  },
  {
   "cell_type": "markdown",
   "metadata": {},
   "source": [
    "# 进阶内容\n",
    "\n",
    "## 广播规则\n",
    "\n",
    "Broadcasting allows universal functions to deal in a meaningful way with inputs that do not have exactly the same shape.\n",
    "\n",
    "用有意义的方式处理 shape 不统一的情况。\n",
    "\n",
    "The **first rule** of broadcasting is that if all input arrays do not have the same number of dimensions, a “1” will be repeatedly prepended to the shapes of the smaller arrays until all the arrays have the same number of dimensions.\n",
    "\n",
    "The **second rule** of broadcasting ensures that arrays with a size of 1 along a particular dimension act as if they had the size of the array with the largest shape along that dimension. The value of the array element is assumed to be the same along that dimension for the “broadcast” array.\n",
    "\n",
    "After application of the broadcasting rules, the sizes of all arrays must match. More details can be found in [Broadcasting](https://docs.scipy.org/doc/numpy/user/basics.broadcasting.html)."
   ]
  },
  {
   "cell_type": "markdown",
   "metadata": {},
   "source": [
    "# 高级索引及索引技巧\n",
    "\n",
    "**高级索引（advanced indexing, fancy indexing）**，这是一个与普通索引(indexing)相区别的概念。所谓高级索引，区别于上面的普通索引或切片概念，即对ndarray进行索引时，只要某一维度上的索引值出现了诸如`[1,2,4]`或`[True, True, False]`之类的通过明确序列给定的索引（而不是`1:5:2`这类复合`start:stop:step`范式的索引）时，那么就算作高级索引。"
   ]
  },
  {
   "cell_type": "markdown",
   "metadata": {},
   "source": [
    "## 使用数字序列进行索引\n",
    "\n",
    "将坐标分为两类：\n",
    "\n",
    "- 直觉坐标，每个元素都由(x,y,z,...)构成，即一个完整的“坐标”\n",
    "- 反直觉“坐标”，是一个列表，列表的每一部分对应一个维度上的所有坐标值，例如列表第一部分就是所有“坐标”中 x 值的集合)\n",
    "\n",
    "假设数据点为3维，共有n个数据。\n",
    "\n",
    "则直觉坐标类似于：\n",
    "$$\\left[ \\left( x_1,y_1,z_1 \\right) ,\\left( x_2,y_2,z_2 \\right) ,\\cdots ,\\left( x_n,y_n,z_n \\right) \\right] $$\n",
    "反直觉“坐标”类似于，\n",
    "$$\\left[ \\left( x_1,x_2,\\cdots ,x_n \\right) ,\\left( y_1,y_2,\\cdots ,y_n \\right) ,\\left( z_1,z_2,\\cdots ,z_n \\right) \\right] $$\n",
    "\n",
    "本节的索引方法对应反直觉“坐标”，作为参数的每一部分都对应**某个维度上的“坐标值”**，而并非一个完整的“坐标”。"
   ]
  },
  {
   "cell_type": "markdown",
   "metadata": {},
   "source": [
    "无论目标ndarray本身为多少维，关键区别在于作为索引的序列。**对ndarray进行索引时，主要区别就是作为索引的是一个序列，还是多个序列** 单个列表、多个列表、单个ndarray、多个ndarray都可以作为索引，**而单个列表如果是嵌套结构，其最外层会被剥离，但单个ndarray尽管不止一维度，仍然被视作整体。**\n",
    "\n",
    "```python\n",
    "arr[np.array([[1, 2], [3, 4]])] # 单一序列 对arr第一维度进行索引\n",
    "arr[np.array([1, 2]), np.array([3, 4])]  # 两个序列 对arr第一以及第二维度进行索引\n",
    "```\n",
    "\n",
    "这些序列从前往后对应目标ndarray的第一维度、第二维度……等等维度上的“坐标”，以此类推。\n",
    "\n",
    "多个序列进行索引时，\n",
    "\n",
    "**这些ndarray的形状需要一样**\n",
    "\n",
    "**这些ndarray的形状需要一样**\n",
    "\n",
    "**这些ndarray的形状需要一样**\n",
    "\n",
    "**索引后得到的ndarray，其前几维形状首先与作为索引的序列形状一样，之后会依据索引得到的形状在后面进行增补，例如对形状为（2,3,4）的ndarray，使用2个形状为（3,3）的ndarray进行索引，则得到的ndarray形状为（3,3,4）** (首先基于（3,3）的基础形状，目标ndarray在对前两维进行索引后得到的结果为（4，）故最终结果增补为（3,3,4））"
   ]
  },
  {
   "cell_type": "markdown",
   "metadata": {},
   "source": [
    "### 单个序列作为索引"
   ]
  },
  {
   "cell_type": "code",
   "execution_count": 70,
   "metadata": {},
   "outputs": [
    {
     "data": {
      "text/plain": [
       "array([ 1,  1,  9, 64, 25], dtype=int32)"
      ]
     },
     "execution_count": 70,
     "metadata": {},
     "output_type": "execute_result"
    },
    {
     "data": {
      "text/plain": [
       "array([[ 9, 16],\n",
       "       [81, 49]], dtype=int32)"
      ]
     },
     "execution_count": 70,
     "metadata": {},
     "output_type": "execute_result"
    }
   ],
   "source": [
    "arr = np.arange(12)**2\n",
    "i = np.array([1, 1, 3, 8, 5])\n",
    "arr[i]  # 对第一维度进行索引\n",
    "\n",
    "j = np.array([[3, 4], [9, 7]])\n",
    "arr[j]  # 仍然对第一维度进行索引"
   ]
  },
  {
   "cell_type": "code",
   "execution_count": 71,
   "metadata": {},
   "outputs": [
    {
     "data": {
      "text/plain": [
       "array([[[  0,   0,   0],\n",
       "        [255,   0,   0],\n",
       "        [  0, 255,   0],\n",
       "        [  0,   0,   0]],\n",
       "\n",
       "       [[  0,   0,   0],\n",
       "        [  0,   0, 255],\n",
       "        [255, 255, 255],\n",
       "        [  0,   0,   0]]])"
      ]
     },
     "execution_count": 71,
     "metadata": {},
     "output_type": "execute_result"
    },
    {
     "data": {
      "text/plain": [
       "(2, 4, 3)"
      ]
     },
     "execution_count": 71,
     "metadata": {},
     "output_type": "execute_result"
    }
   ],
   "source": [
    "palette = np.array([[0, 0, 0],                # black\n",
    "                    [255, 0, 0],              # red\n",
    "                    [0, 255, 0],              # green\n",
    "                    [0, 0, 255],              # blue\n",
    "                    [255, 255, 255]])       # white\n",
    "\n",
    "image = np.array([[0, 1, 2, 0],           # each value corresponds to a color in the palette\n",
    "                  [0, 3, 4, 0]])\n",
    "palette[image]  # 单个序列索引\n",
    "palette[image].shape  # （2,4）->(2,4,3)"
   ]
  },
  {
   "cell_type": "markdown",
   "metadata": {},
   "source": [
    "### 多个序列作为索引"
   ]
  },
  {
   "cell_type": "code",
   "execution_count": 72,
   "metadata": {},
   "outputs": [
    {
     "data": {
      "text/plain": [
       "array([[[ 4,  5,  6,  7],\n",
       "        [ 4,  5,  6,  7]],\n",
       "\n",
       "       [[ 4,  5,  6,  7],\n",
       "        [ 8,  9, 10, 11]]])"
      ]
     },
     "execution_count": 72,
     "metadata": {},
     "output_type": "execute_result"
    },
    {
     "data": {
      "text/plain": [
       "(2, 2, 4)"
      ]
     },
     "execution_count": 72,
     "metadata": {},
     "output_type": "execute_result"
    },
    {
     "data": {
      "text/plain": [
       "array([[ 5,  5],\n",
       "       [ 5, 10]])"
      ]
     },
     "execution_count": 72,
     "metadata": {},
     "output_type": "execute_result"
    },
    {
     "data": {
      "text/plain": [
       "(2, 2)"
      ]
     },
     "execution_count": 72,
     "metadata": {},
     "output_type": "execute_result"
    }
   ],
   "source": [
    "arr = np.arange(12).reshape(3, 4)\n",
    "j = np.array([[1, 1], [1, 2]])\n",
    "\n",
    "arr[j]  # 对第一维度索引\n",
    "arr[j].shape\n",
    "\n",
    "arr[j, j]  # 对前2个维度索引\n",
    "arr[j, j].shape"
   ]
  },
  {
   "cell_type": "code",
   "execution_count": 73,
   "metadata": {},
   "outputs": [
    {
     "data": {
      "text/plain": [
       "array([[ 0,  1,  2,  3],\n",
       "       [ 4,  5,  6,  7],\n",
       "       [ 8,  9, 10, 11]])"
      ]
     },
     "execution_count": 73,
     "metadata": {},
     "output_type": "execute_result"
    },
    {
     "data": {
      "text/plain": [
       "array([[ 2,  5],\n",
       "       [ 7, 11]])"
      ]
     },
     "execution_count": 73,
     "metadata": {},
     "output_type": "execute_result"
    },
    {
     "name": "stderr",
     "output_type": "stream",
     "text": [
      "c:\\users\\twang\\appdata\\local\\conda\\conda\\envs\\py36\\lib\\site-packages\\ipykernel_launcher.py:10: FutureWarning: Using a non-tuple sequence for multidimensional indexing is deprecated; use `arr[tuple(seq)]` instead of `arr[seq]`. In the future this will be interpreted as an array index, `arr[np.array(seq)]`, which will result either in an error or a different result.\n",
      "  # Remove the CWD from sys.path while we load stuff.\n"
     ]
    },
    {
     "data": {
      "text/plain": [
       "array([[ 2,  5],\n",
       "       [ 7, 11]])"
      ]
     },
     "execution_count": 73,
     "metadata": {},
     "output_type": "execute_result"
    },
    {
     "data": {
      "text/plain": [
       "array([[ 2,  5],\n",
       "       [ 7, 11]])"
      ]
     },
     "execution_count": 73,
     "metadata": {},
     "output_type": "execute_result"
    }
   ],
   "source": [
    "arr = np.arange(12).reshape(3, 4)\n",
    "arr\n",
    "\n",
    "i = np.array([[0, 1],\n",
    "              [1, 2]])\n",
    "j = np.array([[2, 1],\n",
    "              [3, 3]])\n",
    "\n",
    "arr[i, j]                                   # 双重序列选择\n",
    "arr[[i, j]]                                # 最外层列表被剥离，结果同上\n",
    "arr[(i, j)]"
   ]
  },
  {
   "cell_type": "code",
   "execution_count": 74,
   "metadata": {
    "scrolled": true
   },
   "outputs": [
    {
     "data": {
      "text/plain": [
       "array([[ 2,  6],\n",
       "       [ 6, 10]])"
      ]
     },
     "execution_count": 74,
     "metadata": {},
     "output_type": "execute_result"
    },
    {
     "data": {
      "text/plain": [
       "array([[[ 2,  1],\n",
       "        [ 3,  3]],\n",
       "\n",
       "       [[ 6,  5],\n",
       "        [ 7,  7]],\n",
       "\n",
       "       [[10,  9],\n",
       "        [11, 11]]])"
      ]
     },
     "execution_count": 74,
     "metadata": {},
     "output_type": "execute_result"
    }
   ],
   "source": [
    "arr[i, 2]\n",
    "arr[:, j]"
   ]
  },
  {
   "cell_type": "code",
   "execution_count": 75,
   "metadata": {},
   "outputs": [
    {
     "data": {
      "text/plain": [
       "array([[[[ 0,  1,  2,  3,  4],\n",
       "         [ 5,  6,  7,  8,  9]],\n",
       "\n",
       "        [[ 5,  6,  7,  8,  9],\n",
       "         [10, 11, 12, 13, 14]]],\n",
       "\n",
       "\n",
       "       [[[10, 11, 12, 13, 14],\n",
       "         [ 5,  6,  7,  8,  9]],\n",
       "\n",
       "        [[15, 16, 17, 18, 19],\n",
       "         [15, 16, 17, 18, 19]]]])"
      ]
     },
     "execution_count": 75,
     "metadata": {},
     "output_type": "execute_result"
    },
    {
     "data": {
      "text/plain": [
       "(2, 2, 2, 5)"
      ]
     },
     "execution_count": 75,
     "metadata": {},
     "output_type": "execute_result"
    },
    {
     "data": {
      "text/plain": [
       "array([[ 2,  6],\n",
       "       [ 8, 13]])"
      ]
     },
     "execution_count": 75,
     "metadata": {},
     "output_type": "execute_result"
    }
   ],
   "source": [
    "arr = np.arange(20).reshape(4, 5)\n",
    "\n",
    "s = np.array([i, j])\n",
    "arr[s]\n",
    "arr[s].shape\n",
    "\n",
    "arr[tuple(s)]     # 等价于 a[i,j]，tuple(s) 将ndarray的最外层转换为tuple形式，所以被NumPy忽略"
   ]
  },
  {
   "cell_type": "markdown",
   "metadata": {},
   "source": [
    "将 i,j组合为 ndarray则不进行剥离，从而相当于对第一维进行索引"
   ]
  },
  {
   "cell_type": "code",
   "execution_count": 76,
   "metadata": {},
   "outputs": [
    {
     "name": "stderr",
     "output_type": "stream",
     "text": [
      "c:\\users\\twang\\appdata\\local\\conda\\conda\\envs\\py36\\lib\\site-packages\\ipykernel_launcher.py:3: FutureWarning: Using a non-tuple sequence for multidimensional indexing is deprecated; use `arr[tuple(seq)]` instead of `arr[seq]`. In the future this will be interpreted as an array index, `arr[np.array(seq)]`, which will result either in an error or a different result.\n",
      "  This is separate from the ipykernel package so we can avoid doing imports until\n"
     ]
    },
    {
     "data": {
      "text/plain": [
       "array([ 8, 14])"
      ]
     },
     "execution_count": 76,
     "metadata": {},
     "output_type": "execute_result"
    },
    {
     "data": {
      "text/plain": [
       "array([[[ 5,  6,  7,  8,  9],\n",
       "        [10, 11, 12, 13, 14]],\n",
       "\n",
       "       [[15, 16, 17, 18, 19],\n",
       "        [20, 21, 22, 23, 24]]])"
      ]
     },
     "execution_count": 76,
     "metadata": {},
     "output_type": "execute_result"
    },
    {
     "data": {
      "text/plain": [
       "array([ 8, 14])"
      ]
     },
     "execution_count": 76,
     "metadata": {},
     "output_type": "execute_result"
    }
   ],
   "source": [
    "arr = np.arange(25).reshape(5, 5)\n",
    "\n",
    "arr[[[1, 2], [3, 4]]]  # 整数list会被剥离\n",
    "arr[[[1, 2], [3, 4]], ]\n",
    "arr[[1, 2], [3, 4]]"
   ]
  },
  {
   "cell_type": "markdown",
   "metadata": {},
   "source": [
    "**`a[i,j]` 与 `a[[i, j]]` 结果相同，此时`i,j`均为ndarray，可以理解为此时 NumPy 自动对最外层的`[]`嵌套进行剥离，无论是[list of ndarray]还是[list of integer list]，最外层都会被剥离，可以理解为NumPy期望在更多的维度上进行索引，而不是将序列视为整体只在某一个维度上进行索引**\n",
    "\n",
    "关于对最外层列表的剥离，有一个特殊情况，即类似出现`arr[[1,2,3]]`的情况时，详见补充内容，索引与高级索引的区别。"
   ]
  },
  {
   "cell_type": "markdown",
   "metadata": {},
   "source": [
    "**一个利用 multi-index 进行数据选择的例子**"
   ]
  },
  {
   "cell_type": "code",
   "execution_count": 77,
   "metadata": {},
   "outputs": [
    {
     "data": {
      "text/plain": [
       "array([ 20.  ,  51.25,  82.5 , 113.75, 145.  ])"
      ]
     },
     "execution_count": 77,
     "metadata": {},
     "output_type": "execute_result"
    },
    {
     "data": {
      "text/plain": [
       "array([[ 0.        ,  0.84147098,  0.90929743,  0.14112001],\n",
       "       [-0.7568025 , -0.95892427, -0.2794155 ,  0.6569866 ],\n",
       "       [ 0.98935825,  0.41211849, -0.54402111, -0.99999021],\n",
       "       [-0.53657292,  0.42016704,  0.99060736,  0.65028784],\n",
       "       [-0.28790332, -0.96139749, -0.75098725,  0.14987721]])"
      ]
     },
     "execution_count": 77,
     "metadata": {},
     "output_type": "execute_result"
    },
    {
     "data": {
      "text/plain": [
       "array([2, 0, 3, 1], dtype=int64)"
      ]
     },
     "execution_count": 77,
     "metadata": {},
     "output_type": "execute_result"
    },
    {
     "data": {
      "text/plain": [
       "array([ 82.5 ,  20.  , 113.75,  51.25])"
      ]
     },
     "execution_count": 77,
     "metadata": {},
     "output_type": "execute_result"
    },
    {
     "data": {
      "text/plain": [
       "array([0.98935825, 0.84147098, 0.99060736, 0.6569866 ])"
      ]
     },
     "execution_count": 77,
     "metadata": {},
     "output_type": "execute_result"
    },
    {
     "data": {
      "text/plain": [
       "True"
      ]
     },
     "execution_count": 77,
     "metadata": {},
     "output_type": "execute_result"
    }
   ],
   "source": [
    "time = np.linspace(20, 145, 5)                 # time scale\n",
    "data = np.sin(np.arange(20)).reshape(5, 4)      # 4 time-dependent series\n",
    "time\n",
    "\n",
    "data\n",
    "\n",
    "# index of the maxima for each series\n",
    "ind = data.argmax(axis=0)\n",
    "ind\n",
    "\n",
    "time_max = time[ind]                       # times corresponding to the maxima\n",
    "\n",
    "# => data[ind[0],0], data[ind[1],1]...\n",
    "data_max = data[ind, range(data.shape[1])]\n",
    "\n",
    "time_max\n",
    "\n",
    "data_max\n",
    "\n",
    "np.all(data_max == data.max(axis=0))"
   ]
  },
  {
   "cell_type": "markdown",
   "metadata": {},
   "source": [
    "可以把 array indexed 数组作为赋值对象，但是如果 index 重复出现则以最后一次为准，**最好别这么用**"
   ]
  },
  {
   "cell_type": "code",
   "execution_count": 78,
   "metadata": {},
   "outputs": [
    {
     "data": {
      "text/plain": [
       "array([2, 1, 3, 3, 4])"
      ]
     },
     "execution_count": 78,
     "metadata": {},
     "output_type": "execute_result"
    }
   ],
   "source": [
    "a = np.arange(5)\n",
    "a[[0, 0, 2]] = [1, 2, 3]\n",
    "a"
   ]
  },
  {
   "cell_type": "markdown",
   "metadata": {},
   "source": [
    "**array 在 python 中的 += 方法可能会出现意想不到的结果**"
   ]
  },
  {
   "cell_type": "code",
   "execution_count": 79,
   "metadata": {},
   "outputs": [
    {
     "data": {
      "text/plain": [
       "array([1, 1, 3, 3, 4])"
      ]
     },
     "execution_count": 79,
     "metadata": {},
     "output_type": "execute_result"
    }
   ],
   "source": [
    "a = np.arange(5)\n",
    "a[[0, 0, 2]] += 1\n",
    "a"
   ]
  },
  {
   "cell_type": "markdown",
   "metadata": {},
   "source": [
    "虽然 index 0 出现了两次，但是只会增加一次，因为 a+=1 等同于 a = a + 1."
   ]
  },
  {
   "cell_type": "markdown",
   "metadata": {},
   "source": [
    "## 使用布尔序列进行索引"
   ]
  },
  {
   "cell_type": "markdown",
   "metadata": {},
   "source": [
    "有两种典型的应用场景：\n",
    "\n",
    "### 用一个和目标ndarray同样形状的布尔序列进行索引\n",
    "\n",
    "**这种 indexing 方法返回的是一个 1-D array，相当于过滤器，但返回的是类似视图的ndarray，对其赋值将影响原ndarray**"
   ]
  },
  {
   "cell_type": "code",
   "execution_count": 80,
   "metadata": {
    "scrolled": true
   },
   "outputs": [
    {
     "data": {
      "text/plain": [
       "array([[False, False, False, False],\n",
       "       [False,  True,  True,  True],\n",
       "       [ True,  True,  True,  True]])"
      ]
     },
     "execution_count": 80,
     "metadata": {},
     "output_type": "execute_result"
    },
    {
     "data": {
      "text/plain": [
       "array([ 5,  6,  7,  8,  9, 10, 11])"
      ]
     },
     "execution_count": 80,
     "metadata": {},
     "output_type": "execute_result"
    }
   ],
   "source": [
    "arr = np.arange(12).reshape(3, 4)\n",
    "mask = arr > 4\n",
    "mask\n",
    "\n",
    "arr[mask]"
   ]
  },
  {
   "cell_type": "code",
   "execution_count": 81,
   "metadata": {},
   "outputs": [
    {
     "data": {
      "text/plain": [
       "array([[0, 1, 2, 3],\n",
       "       [4, 0, 0, 0],\n",
       "       [0, 0, 0, 0]])"
      ]
     },
     "execution_count": 81,
     "metadata": {},
     "output_type": "execute_result"
    }
   ],
   "source": [
    "arr[mask] = 0\n",
    "arr"
   ]
  },
  {
   "cell_type": "markdown",
   "metadata": {},
   "source": [
    "**一个产生 mandelbrot set 的例子**"
   ]
  },
  {
   "cell_type": "code",
   "execution_count": 82,
   "metadata": {},
   "outputs": [
    {
     "data": {
      "text/plain": [
       "<matplotlib.image.AxesImage at 0x209d0b5c4e0>"
      ]
     },
     "execution_count": 82,
     "metadata": {},
     "output_type": "execute_result"
    },
    {
     "data": {
      "image/png": "[encoded data removed]",
      "text/plain": [
       "<Figure size 432x288 with 1 Axes>"
      ]
     },
     "metadata": {
      "needs_background": "light"
     },
     "output_type": "display_data"
    }
   ],
   "source": [
    "def mandelbrot(h, w, maxit=20):\n",
    "    \"\"\"Returns an image of the Mandelbrot fractal of size (h,w).\"\"\"\n",
    "    y, x = np.ogrid[-1.4:1.4:h*1j, -2:0.8:w*1j]\n",
    "    c = x+y*1j\n",
    "    z = c\n",
    "    divtime = maxit + np.zeros(z.shape, dtype=int)\n",
    "\n",
    "    for i in range(maxit):\n",
    "        z = z**2 + c\n",
    "        diverge = z*np.conj(z) > 2**2            # who is diverging\n",
    "        div_now = diverge & (divtime == maxit)  # who is diverging now\n",
    "        divtime[div_now] = i                  # note when\n",
    "        z[diverge] = 2                        # avoid diverging too much\n",
    "\n",
    "    return divtime\n",
    "\n",
    "\n",
    "plt.imshow(mandelbrot(400, 400))\n",
    "plt.show()"
   ]
  },
  {
   "cell_type": "markdown",
   "metadata": {},
   "source": [
    "### 第二种场景更像前面提到的整数序列索引\n",
    "\n",
    "**但是只能对单一维度进行选择，同时对多个维度进行选择会得到奇怪的结果**"
   ]
  },
  {
   "cell_type": "code",
   "execution_count": 83,
   "metadata": {},
   "outputs": [
    {
     "data": {
      "text/plain": [
       "array([[ 4,  5,  6,  7],\n",
       "       [ 8,  9, 10, 11]])"
      ]
     },
     "execution_count": 83,
     "metadata": {},
     "output_type": "execute_result"
    },
    {
     "data": {
      "text/plain": [
       "array([[ 4,  5,  6,  7],\n",
       "       [ 8,  9, 10, 11]])"
      ]
     },
     "execution_count": 83,
     "metadata": {},
     "output_type": "execute_result"
    },
    {
     "data": {
      "text/plain": [
       "array([[ 0,  2],\n",
       "       [ 4,  6],\n",
       "       [ 8, 10]])"
      ]
     },
     "execution_count": 83,
     "metadata": {},
     "output_type": "execute_result"
    },
    {
     "data": {
      "text/plain": [
       "array([ 4, 10])"
      ]
     },
     "execution_count": 83,
     "metadata": {},
     "output_type": "execute_result"
    }
   ],
   "source": [
    "arr = np.arange(12).reshape(3, 4)\n",
    "mask_1 = np.array([False, True, True])\n",
    "mask_2 = np.array([True, False, True, False])\n",
    "\n",
    "arr[mask_1, :]  # 选择行\n",
    "arr[mask_1]  # 选择行\n",
    "arr[:, mask_2]  # 选择列\n",
    "arr[mask_1, mask_2]  # 奇怪结果"
   ]
  },
  {
   "cell_type": "markdown",
   "metadata": {},
   "source": [
    "## `ix_`\n",
    "\n",
    "Construct an open mesh from multiple sequences.\n",
    "\n",
    "返回从输入序列中各取一个的所有组合\n",
    "\n",
    "```python\n",
    "numpy.ix_(*args)\n",
    "```\n",
    "\n",
    "比如计算 a+b*c"
   ]
  },
  {
   "cell_type": "code",
   "execution_count": 84,
   "metadata": {},
   "outputs": [
    {
     "data": {
      "text/plain": [
       "array([[[2]],\n",
       "\n",
       "       [[3]],\n",
       "\n",
       "       [[4]],\n",
       "\n",
       "       [[5]]])"
      ]
     },
     "execution_count": 84,
     "metadata": {},
     "output_type": "execute_result"
    },
    {
     "data": {
      "text/plain": [
       "array([[[8],\n",
       "        [5],\n",
       "        [4]]])"
      ]
     },
     "execution_count": 84,
     "metadata": {},
     "output_type": "execute_result"
    },
    {
     "data": {
      "text/plain": [
       "array([[[5, 4, 6, 8, 3]]])"
      ]
     },
     "execution_count": 84,
     "metadata": {},
     "output_type": "execute_result"
    },
    {
     "data": {
      "text/plain": [
       "((4, 1, 1), (1, 3, 1), (1, 1, 5))"
      ]
     },
     "execution_count": 84,
     "metadata": {},
     "output_type": "execute_result"
    }
   ],
   "source": [
    "a = np.array([2, 3, 4, 5])\n",
    "b = np.array([8, 5, 4])\n",
    "c = np.array([5, 4, 6, 8, 3])\n",
    "ax, bx, cx = np.ix_(a, b, c)\n",
    "\n",
    "ax\n",
    "bx\n",
    "cx\n",
    "\n",
    "ax.shape, bx.shape, cx.shape"
   ]
  },
  {
   "cell_type": "code",
   "execution_count": 85,
   "metadata": {},
   "outputs": [
    {
     "data": {
      "text/plain": [
       "array([[[42, 34, 50, 66, 26],\n",
       "        [27, 22, 32, 42, 17],\n",
       "        [22, 18, 26, 34, 14]],\n",
       "\n",
       "       [[43, 35, 51, 67, 27],\n",
       "        [28, 23, 33, 43, 18],\n",
       "        [23, 19, 27, 35, 15]],\n",
       "\n",
       "       [[44, 36, 52, 68, 28],\n",
       "        [29, 24, 34, 44, 19],\n",
       "        [24, 20, 28, 36, 16]],\n",
       "\n",
       "       [[45, 37, 53, 69, 29],\n",
       "        [30, 25, 35, 45, 20],\n",
       "        [25, 21, 29, 37, 17]]])"
      ]
     },
     "execution_count": 85,
     "metadata": {},
     "output_type": "execute_result"
    },
    {
     "data": {
      "text/plain": [
       "(4, 3, 5)"
      ]
     },
     "execution_count": 85,
     "metadata": {},
     "output_type": "execute_result"
    }
   ],
   "source": [
    "result = ax+bx*cx\n",
    "result\n",
    "result.shape"
   ]
  },
  {
   "cell_type": "code",
   "execution_count": 86,
   "metadata": {},
   "outputs": [
    {
     "data": {
      "text/plain": [
       "17"
      ]
     },
     "execution_count": 86,
     "metadata": {},
     "output_type": "execute_result"
    },
    {
     "data": {
      "text/plain": [
       "17"
      ]
     },
     "execution_count": 86,
     "metadata": {},
     "output_type": "execute_result"
    }
   ],
   "source": [
    "result[3, 2, 4]\n",
    "a[3]+b[2]*c[4]"
   ]
  },
  {
   "cell_type": "markdown",
   "metadata": {},
   "source": [
    "利用上述性质实现 reduce"
   ]
  },
  {
   "cell_type": "code",
   "execution_count": 87,
   "metadata": {
    "scrolled": true
   },
   "outputs": [
    {
     "data": {
      "text/plain": [
       "array([[[15, 14, 16, 18, 13],\n",
       "        [12, 11, 13, 15, 10],\n",
       "        [11, 10, 12, 14,  9]],\n",
       "\n",
       "       [[16, 15, 17, 19, 14],\n",
       "        [13, 12, 14, 16, 11],\n",
       "        [12, 11, 13, 15, 10]],\n",
       "\n",
       "       [[17, 16, 18, 20, 15],\n",
       "        [14, 13, 15, 17, 12],\n",
       "        [13, 12, 14, 16, 11]],\n",
       "\n",
       "       [[18, 17, 19, 21, 16],\n",
       "        [15, 14, 16, 18, 13],\n",
       "        [14, 13, 15, 17, 12]]])"
      ]
     },
     "execution_count": 87,
     "metadata": {},
     "output_type": "execute_result"
    }
   ],
   "source": [
    "def ufunc_reduce(ufct, *vectors):\n",
    "    vs = np.ix_(*vectors)\n",
    "    r = ufct.identity\n",
    "    for v in vs:\n",
    "        r = ufct(r, v)\n",
    "    return r\n",
    "\n",
    "\n",
    "ufunc_reduce(np.add, a, b, c)"
   ]
  },
  {
   "cell_type": "markdown",
   "metadata": {},
   "source": [
    "此版本的 reduce 和 ufunc.reduce 相比的优点是利用 broadcasting rules 从而避免了中间变量的产生。"
   ]
  },
  {
   "cell_type": "markdown",
   "metadata": {},
   "source": [
    "## 使用字符串索引\n",
    "\n",
    "见[Structured arrays](https://docs.scipy.org/doc/numpy/user/basics.rec.html#structured-arrays)"
   ]
  },
  {
   "cell_type": "markdown",
   "metadata": {},
   "source": [
    "# 线性代数\n",
    "\n",
    "## 简单的线性代数运算\n",
    "\n",
    "更多内容可以参考`numpy.linalg`模块"
   ]
  },
  {
   "cell_type": "code",
   "execution_count": 88,
   "metadata": {},
   "outputs": [
    {
     "name": "stdout",
     "output_type": "stream",
     "text": [
      "[[1. 2.]\n",
      " [3. 4.]]\n"
     ]
    },
    {
     "data": {
      "text/plain": [
       "array([[1., 3.],\n",
       "       [2., 4.]])"
      ]
     },
     "execution_count": 88,
     "metadata": {},
     "output_type": "execute_result"
    },
    {
     "data": {
      "text/plain": [
       "array([[-2. ,  1. ],\n",
       "       [ 1.5, -0.5]])"
      ]
     },
     "execution_count": 88,
     "metadata": {},
     "output_type": "execute_result"
    }
   ],
   "source": [
    "arr = np.array([[1.0, 2.0], [3.0, 4.0]])\n",
    "print(arr)\n",
    "\n",
    "arr.transpose()  # 转置\n",
    "np.linalg.inv(arr)  # 求逆"
   ]
  },
  {
   "cell_type": "code",
   "execution_count": 89,
   "metadata": {},
   "outputs": [
    {
     "data": {
      "text/plain": [
       "array([[1., 0.],\n",
       "       [0., 1.]])"
      ]
     },
     "execution_count": 89,
     "metadata": {},
     "output_type": "execute_result"
    },
    {
     "data": {
      "text/plain": [
       "array([[ 0., -1.],\n",
       "       [ 1.,  0.]])"
      ]
     },
     "execution_count": 89,
     "metadata": {},
     "output_type": "execute_result"
    }
   ],
   "source": [
    "u = np.eye(2)  # 2x2 单位矩阵\n",
    "u\n",
    "\n",
    "j = np.array([[0.0, -1.0], [1.0, 0.0]])\n",
    "j"
   ]
  },
  {
   "cell_type": "code",
   "execution_count": 90,
   "metadata": {},
   "outputs": [
    {
     "data": {
      "text/plain": [
       "array([[-1.,  0.],\n",
       "       [ 0., -1.]])"
      ]
     },
     "execution_count": 90,
     "metadata": {},
     "output_type": "execute_result"
    },
    {
     "data": {
      "text/plain": [
       "2.0"
      ]
     },
     "execution_count": 90,
     "metadata": {},
     "output_type": "execute_result"
    }
   ],
   "source": [
    "np.dot(j, j)  # 矩阵乘法\n",
    "np.trace(u)  # 迹"
   ]
  },
  {
   "cell_type": "code",
   "execution_count": 91,
   "metadata": {},
   "outputs": [
    {
     "data": {
      "text/plain": [
       "array([[-3.],\n",
       "       [ 4.]])"
      ]
     },
     "execution_count": 91,
     "metadata": {},
     "output_type": "execute_result"
    },
    {
     "data": {
      "text/plain": [
       "(array([0.+1.j, 0.-1.j]),\n",
       " array([[0.70710678+0.j        , 0.70710678-0.j        ],\n",
       "        [0.        -0.70710678j, 0.        +0.70710678j]]))"
      ]
     },
     "execution_count": 91,
     "metadata": {},
     "output_type": "execute_result"
    }
   ],
   "source": [
    "y = np.array([[5.], [7.]])\n",
    "np.linalg.solve(arr, y)  # 求解线性方程\n",
    "\n",
    "np.linalg.eig(j)  # 计算特征值和特征向量"
   ]
  },
  {
   "cell_type": "markdown",
   "metadata": {},
   "source": [
    "# 技巧和提示\n",
    "\n",
    "## “自动”改变形状\n",
    "\n",
    "改变ndarray形状时，可以省略某一维度的值，NumPy会自动推断。"
   ]
  },
  {
   "cell_type": "code",
   "execution_count": 92,
   "metadata": {},
   "outputs": [
    {
     "data": {
      "text/plain": [
       "(2, 5, 3)"
      ]
     },
     "execution_count": 92,
     "metadata": {},
     "output_type": "execute_result"
    },
    {
     "data": {
      "text/plain": [
       "array([[[ 0,  1,  2],\n",
       "        [ 3,  4,  5],\n",
       "        [ 6,  7,  8],\n",
       "        [ 9, 10, 11],\n",
       "        [12, 13, 14]],\n",
       "\n",
       "       [[15, 16, 17],\n",
       "        [18, 19, 20],\n",
       "        [21, 22, 23],\n",
       "        [24, 25, 26],\n",
       "        [27, 28, 29]]])"
      ]
     },
     "execution_count": 92,
     "metadata": {},
     "output_type": "execute_result"
    }
   ],
   "source": [
    "arr = np.arange(30)\n",
    "arr.shape = 2, -1, 3\n",
    "\n",
    "arr.shape\n",
    "arr"
   ]
  },
  {
   "cell_type": "markdown",
   "metadata": {},
   "source": [
    "## 向量组合\n",
    "\n",
    "见[ndarray的组合](#ndarray的组合)"
   ]
  },
  {
   "cell_type": "markdown",
   "metadata": {},
   "source": [
    "## 直方图\n",
    "\n",
    "`histogram`函数以ndarray为输入，输出一个hitogram向量和一个bin向量，hitogram对应区间计数，bin对应区间划分。\n",
    "\n",
    "matplotlib中也有直方图函数`hist`和NumP中的主要区别是,`hist`自动画出热力图而`numpy.histogram`只是产生数据。\n",
    "\n",
    "Compute the histogram of a set of data.\n",
    "\n",
    "计算数据的直方图统计结果\n",
    "\n",
    "```python\n",
    "numpy.histogram(a, bins=10, range=None, normed=None, weights=None, density=None)[source]\n",
    "```"
   ]
  },
  {
   "cell_type": "code",
   "execution_count": 93,
   "metadata": {},
   "outputs": [
    {
     "data": {
      "text/plain": [
       "array([1.47284974, 1.31379922, 2.93450001, ..., 3.30305208, 2.03302393,\n",
       "       1.88693229])"
      ]
     },
     "execution_count": 93,
     "metadata": {},
     "output_type": "execute_result"
    }
   ],
   "source": [
    "# 生成数据\n",
    "mu, sigma = 2, 0.5\n",
    "arr = np.random.normal(mu, sigma, 10000)\n",
    "arr"
   ]
  },
  {
   "cell_type": "code",
   "execution_count": 94,
   "metadata": {},
   "outputs": [
    {
     "name": "stderr",
     "output_type": "stream",
     "text": [
      "c:\\users\\twang\\appdata\\local\\conda\\conda\\envs\\py36\\lib\\site-packages\\matplotlib\\axes\\_axes.py:6571: UserWarning: The 'normed' kwarg is deprecated, and has been replaced by the 'density' kwarg.\n",
      "  warnings.warn(\"The 'normed' kwarg is deprecated, and has been \"\n"
     ]
    },
    {
     "data": {
      "text/plain": [
       "(array([0.00116306, 0.00116306, 0.00232611, 0.00116306, 0.00232611,\n",
       "        0.00697833, 0.00697833, 0.00465222, 0.01860889, 0.03023944,\n",
       "        0.0523375 , 0.07443555, 0.10467499, 0.14654499, 0.16515387,\n",
       "        0.26401359, 0.33844914, 0.42567829, 0.53965773, 0.56408189,\n",
       "        0.65480022, 0.73156188, 0.80716048, 0.8013452 , 0.74319243,\n",
       "        0.75947521, 0.7676166 , 0.67108299, 0.59897356, 0.56524495,\n",
       "        0.42102607, 0.36519941, 0.28145942, 0.20120859, 0.15817554,\n",
       "        0.1279361 , 0.07327249, 0.06164194, 0.03372861, 0.01744583,\n",
       "        0.01511972, 0.00697833, 0.00581528, 0.00232611, 0.00232611,\n",
       "        0.00348917, 0.00116306, 0.        , 0.        , 0.00116306]),\n",
       " array([-0.07747034,  0.00851008,  0.0944905 ,  0.18047093,  0.26645135,\n",
       "         0.35243178,  0.4384122 ,  0.52439262,  0.61037305,  0.69635347,\n",
       "         0.78233389,  0.86831432,  0.95429474,  1.04027516,  1.12625559,\n",
       "         1.21223601,  1.29821643,  1.38419686,  1.47017728,  1.55615771,\n",
       "         1.64213813,  1.72811855,  1.81409898,  1.9000794 ,  1.98605982,\n",
       "         2.07204025,  2.15802067,  2.24400109,  2.32998152,  2.41596194,\n",
       "         2.50194236,  2.58792279,  2.67390321,  2.75988364,  2.84586406,\n",
       "         2.93184448,  3.01782491,  3.10380533,  3.18978575,  3.27576618,\n",
       "         3.3617466 ,  3.44772702,  3.53370745,  3.61968787,  3.70566829,\n",
       "         3.79164872,  3.87762914,  3.96360957,  4.04958999,  4.13557041,\n",
       "         4.22155084]),\n",
       " <a list of 50 Patch objects>)"
      ]
     },
     "execution_count": 94,
     "metadata": {},
     "output_type": "execute_result"
    },
    {
     "data": {
      "image/png": "[encoded data removed]",
      "text/plain": [
       "<Figure size 432x288 with 1 Axes>"
      ]
     },
     "metadata": {
      "needs_background": "light"
     },
     "output_type": "display_data"
    }
   ],
   "source": [
    "# Plot a normalized histogram with 50 bins\n",
    "plt.hist(arr, bins=50, normed=1)\n",
    "plt.show()"
   ]
  },
  {
   "cell_type": "code",
   "execution_count": 95,
   "metadata": {},
   "outputs": [
    {
     "name": "stderr",
     "output_type": "stream",
     "text": [
      "c:\\users\\twang\\appdata\\local\\conda\\conda\\envs\\py36\\lib\\site-packages\\ipykernel_launcher.py:2: VisibleDeprecationWarning: Passing `normed=True` on non-uniform bins has always been broken, and computes neither the probability density function nor the probability mass function. The result is only correct if the bins are uniform, when density=True will produce the same result anyway. The argument will be removed in a future version of numpy.\n",
      "  \n"
     ]
    },
    {
     "data": {
      "text/plain": [
       "array([0.00116306, 0.00116306, 0.00232611, 0.00116306, 0.00232611,\n",
       "       0.00697833, 0.00697833, 0.00465222, 0.01860889, 0.03023944,\n",
       "       0.0523375 , 0.07443555, 0.10467499, 0.14654499, 0.16515387,\n",
       "       0.26401359, 0.33844914, 0.42567829, 0.53965773, 0.56408189,\n",
       "       0.65480022, 0.73156188, 0.80716048, 0.8013452 , 0.74319243,\n",
       "       0.75947521, 0.7676166 , 0.67108299, 0.59897356, 0.56524495,\n",
       "       0.42102607, 0.36519941, 0.28145942, 0.20120859, 0.15817554,\n",
       "       0.1279361 , 0.07327249, 0.06164194, 0.03372861, 0.01744583,\n",
       "       0.01511972, 0.00697833, 0.00581528, 0.00232611, 0.00232611,\n",
       "       0.00348917, 0.00116306, 0.        , 0.        , 0.00116306])"
      ]
     },
     "execution_count": 95,
     "metadata": {},
     "output_type": "execute_result"
    },
    {
     "data": {
      "text/plain": [
       "array([-0.07747034,  0.00851008,  0.0944905 ,  0.18047093,  0.26645135,\n",
       "        0.35243178,  0.4384122 ,  0.52439262,  0.61037305,  0.69635347,\n",
       "        0.78233389,  0.86831432,  0.95429474,  1.04027516,  1.12625559,\n",
       "        1.21223601,  1.29821643,  1.38419686,  1.47017728,  1.55615771,\n",
       "        1.64213813,  1.72811855,  1.81409898,  1.9000794 ,  1.98605982,\n",
       "        2.07204025,  2.15802067,  2.24400109,  2.32998152,  2.41596194,\n",
       "        2.50194236,  2.58792279,  2.67390321,  2.75988364,  2.84586406,\n",
       "        2.93184448,  3.01782491,  3.10380533,  3.18978575,  3.27576618,\n",
       "        3.3617466 ,  3.44772702,  3.53370745,  3.61968787,  3.70566829,\n",
       "        3.79164872,  3.87762914,  3.96360957,  4.04958999,  4.13557041,\n",
       "        4.22155084])"
      ]
     },
     "execution_count": 95,
     "metadata": {},
     "output_type": "execute_result"
    }
   ],
   "source": [
    "# 通过NumPy计算\n",
    "n, bins = np.histogram(arr, bins=50, normed=True)\n",
    "n\n",
    "bins"
   ]
  },
  {
   "cell_type": "code",
   "execution_count": 96,
   "metadata": {},
   "outputs": [
    {
     "data": {
      "text/plain": [
       "[<matplotlib.lines.Line2D at 0x209d0d71748>]"
      ]
     },
     "execution_count": 96,
     "metadata": {},
     "output_type": "execute_result"
    },
    {
     "data": {
      "image/png": "[encoded data removed]",
      "text/plain": [
       "<Figure size 432x288 with 1 Axes>"
      ]
     },
     "metadata": {
      "needs_background": "light"
     },
     "output_type": "display_data"
    }
   ],
   "source": [
    "# matplot 绘图\n",
    "plt.plot(.5*(bins[1:]+bins[:-1]), n)  # 在中点处可视化计数值\n",
    "plt.show()"
   ]
  },
  {
   "cell_type": "markdown",
   "metadata": {},
   "source": [
    "# index\n",
    "\n",
    "\n",
    "## `numpy.random`模块\n",
    "\n",
    "一些常用的 random 函数\n",
    "\n",
    "    rand(d0, d1, ..., dn)\t            Random values in a given shape.Create an array of the given shape and populate it with random samples from a uniform distribution over [0, 1)\n",
    "    randn(d0, d1, ..., dn)\t            Return a sample (or samples) from the “standard normal” distribution.\n",
    "    randint(low[, high, size, dtype])\tReturn random integers from low (inclusive) to high (exclusive).\n",
    "    random_integers(low[, high, size])\tRandom integers of type np.int between low and high, inclusive.\n",
    "    random_sample([size])\t            Return random floats in the half-open interval [0.0, 1.0).\n",
    "    random([size])\t                    Return random floats in the half-open interval [0.0, 1.0).\n",
    "    ranf([size])\t                    Return random floats in the half-open interval [0.0, 1.0).\n",
    "    sample([size])\t                    Return random floats in the half-open interval [0.0, 1.0).\n",
    "    choice(a[, size, replace, p])\t    Generates a random sample from a given 1-D array\n",
    "    bytes(length)\t                    Return random bytes.\n",
    "\n",
    "## ndarray 转换\n",
    "\n",
    "    ndarray.item(*args)\tCopy an element of an array to a standard Python scalar and return it.\n",
    "    ndarray.tolist()\tReturn the array as a (possibly nested) list.\n",
    "    ndarray.itemset(*args)\tInsert scalar into an array (scalar is cast to array’s dtype, if possible)\n",
    "    ndarray.tostring([order])\tConstruct Python bytes containing the raw data bytes in the array.\n",
    "    ndarray.tobytes([order])\tConstruct Python bytes containing the raw data bytes in the array.\n",
    "    ndarray.tofile(fid[, sep, format])\tWrite array to a file as text or binary (default).\n",
    "    ndarray.dump(file)\tDump a pickle of the array to the specified file.\n",
    "    ndarray.dumps()\tReturns the pickle of the array as a string.\n",
    "    ndarray.astype(dtype[, order, casting, ...])\tCopy of the array, cast to a specified type.\n",
    "    ndarray.byteswap(inplace)\tSwap the bytes of the array elements\n",
    "    ndarray.copy([order])\tReturn a copy of the array.\n",
    "    ndarray.view([dtype, type])\tNew view of array with the same data.\n",
    "    ndarray.getfield(dtype[, offset])\tReturns a field of the given array as a certain type.\n",
    "    ndarray.setflags([write, align, uic])\tSet array flags WRITEABLE, ALIGNED, and UPDATEIFCOPY, respectively.\n",
    "    ndarray.fill(value)\tFill the array with a scalar value.\n",
    "\n",
    "## 形状操作\n",
    "\n",
    "    ndarray.reshape(shape[, order])\tReturns an array containing the same data with a new shape.\n",
    "    ndarray.resize(new_shape[, refcheck])\tChange shape and size of array in-place.\n",
    "    ndarray.transpose(*axes)\tReturns a view of the array with axes transposed.\n",
    "    ndarray.swapaxes(axis1, axis2)\tReturn a view of the array with axis1 and axis2 interchanged.\n",
    "    ndarray.flatten([order])\tReturn a copy of the array collapsed into one dimension.\n",
    "    ndarray.ravel([order])\tReturn a flattened array.\n",
    "    ndarray.squeeze([axis])\tRemove single-dimensional entries from the shape of a.\n",
    "\n",
    "## 元素索引与转换\n",
    "\n",
    "    ndarray.take(indices[, axis, out, mode])\tReturn an array formed from the elements of a at the given indices.\n",
    "    ndarray.put(indices, values[, mode])\tSet a.flat[n] = values[n] for all n in indices.\n",
    "    ndarray.repeat(repeats[, axis])\tRepeat elements of an array.\n",
    "    ndarray.choose(choices[, out, mode])\tUse an index array to construct a new array from a set of choices.\n",
    "    ndarray.sort([axis, kind, order])\tSort an array, in-place.\n",
    "    ndarray.argsort([axis, kind, order])\tReturns the indices that would sort this array.\n",
    "    ndarray.partition(kth[, axis, kind, order])\tRearranges the elements in the array in such a way that value of the element in kth position is in the position it would be in a sorted array.\n",
    "    ndarray.argpartition(kth[, axis, kind, order])\tReturns the indices that would partition this array.\n",
    "    ndarray.searchsorted(v[, side, sorter])\tFind indices where elements of v should be inserted in a to maintain order.\n",
    "    ndarray.nonzero()\tReturn the indices of the elements that are non-zero.\n",
    "    ndarray.compress(condition[, axis, out])\tReturn selected slices of this array along given axis.\n",
    "    ndarray.diagonal([offset, axis1, axis2])\tReturn specified diagonals.\n",
    "\n",
    "## 计算\n",
    "\n",
    "    ndarray.argmax([axis, out])\tReturn indices of the maximum values along the given axis.\n",
    "    ndarray.min([axis, out, keepdims])\tReturn the minimum along a given axis.\n",
    "    ndarray.argmin([axis, out])\tReturn indices of the minimum values along the given axis of a.\n",
    "    ndarray.ptp([axis, out])\tPeak to peak (maximum - minimum) value along a given axis.\n",
    "    ndarray.clip([min, max, out])\tReturn an array whose values are limited to [min, max].\n",
    "    ndarray.conj()\tComplex-conjugate all elements.\n",
    "    ndarray.round([decimals, out])\tReturn a with each element rounded to the given number of decimals.\n",
    "    ndarray.trace([offset, axis1, axis2, dtype, out])\tReturn the sum along diagonals of the array.\n",
    "    ndarray.sum([axis, dtype, out, keepdims])\tReturn the sum of the array elements over the given axis.\n",
    "    ndarray.cumsum([axis, dtype, out])\tReturn the cumulative sum of the elements along the given axis.\n",
    "    ndarray.mean([axis, dtype, out, keepdims])\tReturns the average of the array elements along given axis.\n",
    "    ndarray.var([axis, dtype, out, ddof, keepdims])\tReturns the variance of the array elements, along given axis.\n",
    "    ndarray.std([axis, dtype, out, ddof, keepdims])\tReturns the standard deviation of the array elements along given axis.\n",
    "    ndarray.prod([axis, dtype, out, keepdims])\tReturn the product of the array elements over the given axis\n",
    "    ndarray.cumprod([axis, dtype, out])\tReturn the cumulative product of the elements along the given axis.\n",
    "    ndarray.all([axis, out, keepdims])\tReturns True if all elements evaluate to True.\n",
    "    ndarray.any([axis, out, keepdims])\tReturns True if any of the elements of a evaluate to True."
   ]
  },
  {
   "cell_type": "markdown",
   "metadata": {},
   "source": [
    "# 以下为补充内容"
   ]
  },
  {
   "cell_type": "markdown",
   "metadata": {},
   "source": [
    "# 函数理解"
   ]
  },
  {
   "cell_type": "markdown",
   "metadata": {},
   "source": [
    "## `numpy.apply_along_axis`\n",
    "\n",
    "Apply a function to 1-D slices along the given axis.\n",
    "\n",
    "对ndarray中的某个维度执行某一函数（即该函数认为输入为某个 1-D ndarray）\n",
    "\n",
    "```python\n",
    "numpy.apply_along_axis(func1d, axis, arr, *args, **kwargs)\n",
    "```\n",
    "\n",
    "**将指定的维度“看作”唯一的维度，对这个1-D ndarray进行操作**"
   ]
  },
  {
   "cell_type": "code",
   "execution_count": 97,
   "metadata": {},
   "outputs": [
    {
     "data": {
      "text/plain": [
       "array([[20., 21., 22., 23., 24.],\n",
       "       [25., 26., 27., 28., 29.],\n",
       "       [30., 31., 32., 33., 34.],\n",
       "       [35., 36., 37., 38., 39.]])"
      ]
     },
     "execution_count": 97,
     "metadata": {},
     "output_type": "execute_result"
    },
    {
     "data": {
      "text/plain": [
       "array([[ 7.5,  8.5,  9.5, 10.5, 11.5],\n",
       "       [27.5, 28.5, 29.5, 30.5, 31.5],\n",
       "       [47.5, 48.5, 49.5, 50.5, 51.5]])"
      ]
     },
     "execution_count": 97,
     "metadata": {},
     "output_type": "execute_result"
    }
   ],
   "source": [
    "def my_func(a):\n",
    "    \"\"\"取该子维度第一个值与最后一个值的平均\"\"\"\n",
    "    return (a[0] + a[-1]) * 0.5\n",
    "\n",
    "\n",
    "arr = np.arange(60).reshape((3, 4, 5))\n",
    "\n",
    "np.apply_along_axis(my_func, 0, arr)\n",
    "np.apply_along_axis(my_func, 1, arr)"
   ]
  },
  {
   "cell_type": "code",
   "execution_count": 98,
   "metadata": {},
   "outputs": [
    {
     "data": {
      "text/plain": [
       "array([[[ 0,  1,  2,  3,  4],\n",
       "        [ 5,  6,  7,  8,  9],\n",
       "        [10, 11, 12, 13, 14],\n",
       "        [15, 16, 17, 18, 19]],\n",
       "\n",
       "       [[20, 21, 22, 23, 24],\n",
       "        [25, 26, 27, 28, 29],\n",
       "        [30, 31, 32, 33, 34],\n",
       "        [35, 36, 37, 38, 39]],\n",
       "\n",
       "       [[40, 41, 42, 43, 44],\n",
       "        [45, 46, 47, 48, 49],\n",
       "        [50, 51, 52, 53, 54],\n",
       "        [55, 56, 57, 58, 59]]])"
      ]
     },
     "execution_count": 98,
     "metadata": {},
     "output_type": "execute_result"
    }
   ],
   "source": [
    "arr = np.arange(60).reshape((3, 4, 5))\n",
    "np.apply_along_axis(sorted, 1, arr)"
   ]
  },
  {
   "cell_type": "code",
   "execution_count": 99,
   "metadata": {},
   "outputs": [
    {
     "data": {
      "text/plain": [
       "array([[[[ 0,  1,  2,  3,  4],\n",
       "         [ 0,  0,  0,  0,  0],\n",
       "         [ 0,  0,  0,  0,  0],\n",
       "         [ 0,  0,  0,  0,  0]],\n",
       "\n",
       "        [[ 0,  0,  0,  0,  0],\n",
       "         [ 5,  6,  7,  8,  9],\n",
       "         [ 0,  0,  0,  0,  0],\n",
       "         [ 0,  0,  0,  0,  0]],\n",
       "\n",
       "        [[ 0,  0,  0,  0,  0],\n",
       "         [ 0,  0,  0,  0,  0],\n",
       "         [10, 11, 12, 13, 14],\n",
       "         [ 0,  0,  0,  0,  0]],\n",
       "\n",
       "        [[ 0,  0,  0,  0,  0],\n",
       "         [ 0,  0,  0,  0,  0],\n",
       "         [ 0,  0,  0,  0,  0],\n",
       "         [15, 16, 17, 18, 19]]],\n",
       "\n",
       "\n",
       "       [[[20, 21, 22, 23, 24],\n",
       "         [ 0,  0,  0,  0,  0],\n",
       "         [ 0,  0,  0,  0,  0],\n",
       "         [ 0,  0,  0,  0,  0]],\n",
       "\n",
       "        [[ 0,  0,  0,  0,  0],\n",
       "         [25, 26, 27, 28, 29],\n",
       "         [ 0,  0,  0,  0,  0],\n",
       "         [ 0,  0,  0,  0,  0]],\n",
       "\n",
       "        [[ 0,  0,  0,  0,  0],\n",
       "         [ 0,  0,  0,  0,  0],\n",
       "         [30, 31, 32, 33, 34],\n",
       "         [ 0,  0,  0,  0,  0]],\n",
       "\n",
       "        [[ 0,  0,  0,  0,  0],\n",
       "         [ 0,  0,  0,  0,  0],\n",
       "         [ 0,  0,  0,  0,  0],\n",
       "         [35, 36, 37, 38, 39]]],\n",
       "\n",
       "\n",
       "       [[[40, 41, 42, 43, 44],\n",
       "         [ 0,  0,  0,  0,  0],\n",
       "         [ 0,  0,  0,  0,  0],\n",
       "         [ 0,  0,  0,  0,  0]],\n",
       "\n",
       "        [[ 0,  0,  0,  0,  0],\n",
       "         [45, 46, 47, 48, 49],\n",
       "         [ 0,  0,  0,  0,  0],\n",
       "         [ 0,  0,  0,  0,  0]],\n",
       "\n",
       "        [[ 0,  0,  0,  0,  0],\n",
       "         [ 0,  0,  0,  0,  0],\n",
       "         [50, 51, 52, 53, 54],\n",
       "         [ 0,  0,  0,  0,  0]],\n",
       "\n",
       "        [[ 0,  0,  0,  0,  0],\n",
       "         [ 0,  0,  0,  0,  0],\n",
       "         [ 0,  0,  0,  0,  0],\n",
       "         [55, 56, 57, 58, 59]]]])"
      ]
     },
     "execution_count": 99,
     "metadata": {},
     "output_type": "execute_result"
    },
    {
     "data": {
      "text/plain": [
       "(3, 4, 4, 5)"
      ]
     },
     "execution_count": 99,
     "metadata": {},
     "output_type": "execute_result"
    }
   ],
   "source": [
    "arr = np.arange(60).reshape((3, 4, 5))\n",
    "res = np.apply_along_axis(np.diag, 1, arr)\n",
    "res\n",
    "res.shape"
   ]
  },
  {
   "cell_type": "markdown",
   "metadata": {},
   "source": [
    "## `numpy.roll` \n",
    "\n",
    "Roll array elements along a given axis.\n",
    "\n",
    "沿指定轴顺序平移ndarray元素\n",
    "\n",
    "```python\n",
    "np.roll(a, shift, axis=None)\n",
    "```"
   ]
  },
  {
   "cell_type": "code",
   "execution_count": 100,
   "metadata": {},
   "outputs": [
    {
     "data": {
      "text/plain": [
       "array([[10, 11,  0,  1],\n",
       "       [ 2,  3,  4,  5],\n",
       "       [ 6,  7,  8,  9]])"
      ]
     },
     "execution_count": 100,
     "metadata": {},
     "output_type": "execute_result"
    }
   ],
   "source": [
    "arr = np.arange(12).reshape((3, 4))\n",
    "\n",
    "np.roll(arr, 2)"
   ]
  },
  {
   "cell_type": "code",
   "execution_count": 101,
   "metadata": {
    "scrolled": false
   },
   "outputs": [
    {
     "data": {
      "text/plain": [
       "array([[ 4,  5,  6,  7],\n",
       "       [ 8,  9, 10, 11],\n",
       "       [ 0,  1,  2,  3]])"
      ]
     },
     "execution_count": 101,
     "metadata": {},
     "output_type": "execute_result"
    }
   ],
   "source": [
    "np.roll(arr, 2, 0)"
   ]
  },
  {
   "cell_type": "markdown",
   "metadata": {},
   "source": [
    "## 统计函数\n",
    "\n",
    "NumPy 里的一些统计函数"
   ]
  },
  {
   "cell_type": "markdown",
   "metadata": {},
   "source": [
    "**`scipy.stats`** 基本统计数据"
   ]
  },
  {
   "cell_type": "code",
   "execution_count": 102,
   "metadata": {},
   "outputs": [
    {
     "data": {
      "text/plain": [
       "DescribeResult(nobs=3, minmax=(array([0, 1, 2, 3]), array([ 8,  9, 10, 11])), mean=array([4., 5., 6., 7.]), variance=array([16., 16., 16., 16.]), skewness=array([0., 0., 0., 0.]), kurtosis=array([-1.5, -1.5, -1.5, -1.5]))"
      ]
     },
     "execution_count": 102,
     "metadata": {},
     "output_type": "execute_result"
    }
   ],
   "source": [
    "from scipy import stats\n",
    "arr = np.arange(12).reshape((3, 4))\n",
    "\n",
    "stats.describe(arr)"
   ]
  },
  {
   "cell_type": "code",
   "execution_count": 103,
   "metadata": {},
   "outputs": [
    {
     "data": {
      "text/plain": [
       "66"
      ]
     },
     "execution_count": 103,
     "metadata": {},
     "output_type": "execute_result"
    }
   ],
   "source": [
    "# 计算所有元素的和\n",
    "np.sum(arr)"
   ]
  },
  {
   "cell_type": "code",
   "execution_count": 104,
   "metadata": {},
   "outputs": [
    {
     "data": {
      "text/plain": [
       "array([12, 15, 18, 21])"
      ]
     },
     "execution_count": 104,
     "metadata": {},
     "output_type": "execute_result"
    }
   ],
   "source": [
    "# 对每一列求和\n",
    "np.sum(arr, axis=0)"
   ]
  },
  {
   "cell_type": "code",
   "execution_count": 105,
   "metadata": {},
   "outputs": [
    {
     "data": {
      "text/plain": [
       "array([ 6, 22, 38])"
      ]
     },
     "execution_count": 105,
     "metadata": {},
     "output_type": "execute_result"
    }
   ],
   "source": [
    "# 对每一行求和\n",
    "\n",
    "np.sum(arr, axis=1)"
   ]
  },
  {
   "cell_type": "code",
   "execution_count": 106,
   "metadata": {},
   "outputs": [
    {
     "data": {
      "text/plain": [
       "array([ 0,  1,  3,  6, 10, 15, 21, 28, 36, 45, 55, 66], dtype=int32)"
      ]
     },
     "execution_count": 106,
     "metadata": {},
     "output_type": "execute_result"
    }
   ],
   "source": [
    "# 对每一个元素求累积和（从上到下，从左到右的元素顺序），即每移动一次就把当前数字加到和值\n",
    "\n",
    "np.cumsum(arr)"
   ]
  },
  {
   "cell_type": "code",
   "execution_count": 107,
   "metadata": {},
   "outputs": [
    {
     "data": {
      "text/plain": [
       "array([[ 0,  1,  2,  3],\n",
       "       [ 4,  6,  8, 10],\n",
       "       [12, 15, 18, 21]], dtype=int32)"
      ]
     },
     "execution_count": 107,
     "metadata": {},
     "output_type": "execute_result"
    }
   ],
   "source": [
    "# 计算每一列的累积和，并返回二维数组\n",
    "\n",
    "np.cumsum(arr, axis=0)"
   ]
  },
  {
   "cell_type": "code",
   "execution_count": 108,
   "metadata": {},
   "outputs": [
    {
     "data": {
      "text/plain": [
       "array([[   0,    0,    0,    0],\n",
       "       [   4,   20,  120,  840],\n",
       "       [   8,   72,  720, 7920]], dtype=int32)"
      ]
     },
     "execution_count": 108,
     "metadata": {},
     "output_type": "execute_result"
    }
   ],
   "source": [
    "# 计算每一行的累计积，并返回二维数组\n",
    "\n",
    "np.cumprod(arr, axis=1)"
   ]
  },
  {
   "cell_type": "code",
   "execution_count": 109,
   "metadata": {},
   "outputs": [
    {
     "data": {
      "text/plain": [
       "0"
      ]
     },
     "execution_count": 109,
     "metadata": {},
     "output_type": "execute_result"
    }
   ],
   "source": [
    "# 计算所有元素的最小值\n",
    "\n",
    "np.min(arr)"
   ]
  },
  {
   "cell_type": "code",
   "execution_count": 110,
   "metadata": {},
   "outputs": [
    {
     "data": {
      "text/plain": [
       "array([ 8,  9, 10, 11])"
      ]
     },
     "execution_count": 110,
     "metadata": {},
     "output_type": "execute_result"
    }
   ],
   "source": [
    "# 计算每一列的最大值\n",
    "\n",
    "np.max(arr, axis=0)"
   ]
  },
  {
   "cell_type": "code",
   "execution_count": 111,
   "metadata": {},
   "outputs": [
    {
     "data": {
      "text/plain": [
       "5.5"
      ]
     },
     "execution_count": 111,
     "metadata": {},
     "output_type": "execute_result"
    }
   ],
   "source": [
    "# 计算所有元素的均值\n",
    "\n",
    "np.mean(arr)"
   ]
  },
  {
   "cell_type": "code",
   "execution_count": 112,
   "metadata": {},
   "outputs": [
    {
     "data": {
      "text/plain": [
       "array([1.5, 5.5, 9.5])"
      ]
     },
     "execution_count": 112,
     "metadata": {},
     "output_type": "execute_result"
    }
   ],
   "source": [
    "# 计算每一行的均值\n",
    "\n",
    "np.mean(arr, axis=1)"
   ]
  },
  {
   "cell_type": "code",
   "execution_count": 113,
   "metadata": {},
   "outputs": [
    {
     "data": {
      "text/plain": [
       "5.5"
      ]
     },
     "execution_count": 113,
     "metadata": {},
     "output_type": "execute_result"
    }
   ],
   "source": [
    "# 计算所有元素的中位数\n",
    "\n",
    "np.median(arr)"
   ]
  },
  {
   "cell_type": "code",
   "execution_count": 114,
   "metadata": {},
   "outputs": [
    {
     "data": {
      "text/plain": [
       "array([4., 5., 6., 7.])"
      ]
     },
     "execution_count": 114,
     "metadata": {},
     "output_type": "execute_result"
    }
   ],
   "source": [
    "# 计算每一列的中位数\n",
    "\n",
    "np.median(arr, axis=0)"
   ]
  },
  {
   "cell_type": "code",
   "execution_count": 115,
   "metadata": {},
   "outputs": [
    {
     "data": {
      "text/plain": [
       "11.916666666666666"
      ]
     },
     "execution_count": 115,
     "metadata": {},
     "output_type": "execute_result"
    }
   ],
   "source": [
    "# 计算所有元素的方差\n",
    "\n",
    "np.var(arr)"
   ]
  },
  {
   "cell_type": "code",
   "execution_count": 116,
   "metadata": {},
   "outputs": [
    {
     "data": {
      "text/plain": [
       "array([1.11803399, 1.11803399, 1.11803399])"
      ]
     },
     "execution_count": 116,
     "metadata": {},
     "output_type": "execute_result"
    }
   ],
   "source": [
    "# 计算每一行的标准差\n",
    "\n",
    "np.std(arr, axis=1)"
   ]
  },
  {
   "cell_type": "markdown",
   "metadata": {},
   "source": [
    "此外还有：\n",
    "\n",
    "- unique(x): 计算x的唯一元素，并返回有序结果 \n",
    "- intersect(x,y)： 计算x和y的公共元素，即交集 \n",
    "- union1d(x,y): 计算x和y的并集 \n",
    "- setdiff1d(x,y): 计算x和y的差集，即元素在x中，不在y中 \n",
    "- setxor1d(x,y): 计算集合的对称差，即存在于一个数组中，但不同时存在于两个数组中 \n",
    "- in1d(x,y): 判断x的元素是否包含于y中"
   ]
  },
  {
   "cell_type": "markdown",
   "metadata": {},
   "source": [
    "## Matrix library\n",
    "\n",
    "`numpy.matlib`库拥有所有 NumPy 命名空间的函数，只是针对 matrix 替换了以下函数。\n",
    "\n",
    "numpy namespace 中返回 matrix 的函数\n",
    "\n",
    "- mat(data[, dtype])  #Interpret the input as a matrix.\n",
    "- matrix  # Returns a matrix from an array-like object, or from a string of data.\n",
    "- asmatrix(data[, dtype]) Interpret the input as a matrix.\n",
    "- bmat(obj[, ldict, gdict])   # Build a matrix object from a string, nested sequence, or array.\n",
    "- matlib 库中替换了的函数\n",
    "\n",
    "- empty(shape[, dtype, order])    # Return a new matrix of given shape and type, without initializing entries.\n",
    "- zeros(shape[, dtype, order])    # Return a matrix of given shape and type, filled with zeros.\n",
    "- ones(shape[, dtype, order]) # Matrix of ones.\n",
    "- eye(n[, M, k, dtype])   # Return a matrix with ones on the diagonal and zeros elsewhere.\n",
    "- identity(n[, dtype])    # Returns the square identity matrix of given size.\n",
    "- repmat(a, m, n) # Repeat a 0-D to 2-D array or matrix MxN times.\n",
    "- rand(*args) # Return a matrix of random values with given shape.\n",
    "- randn(*args)    # Return a random matrix with data from the “standard normal” distribution."
   ]
  },
  {
   "cell_type": "markdown",
   "metadata": {},
   "source": [
    "区分一下不同 shape 叠加之后的结果，大体上 (n,)与(n,1) 表现类似"
   ]
  },
  {
   "cell_type": "code",
   "execution_count": 117,
   "metadata": {
    "scrolled": true
   },
   "outputs": [
    {
     "data": {
      "text/plain": [
       "(2, 10)"
      ]
     },
     "execution_count": 117,
     "metadata": {},
     "output_type": "execute_result"
    },
    {
     "data": {
      "text/plain": [
       "(20,)"
      ]
     },
     "execution_count": 117,
     "metadata": {},
     "output_type": "execute_result"
    },
    {
     "data": {
      "text/plain": [
       "(20, 1)"
      ]
     },
     "execution_count": 117,
     "metadata": {},
     "output_type": "execute_result"
    },
    {
     "data": {
      "text/plain": [
       "(10, 2)"
      ]
     },
     "execution_count": 117,
     "metadata": {},
     "output_type": "execute_result"
    },
    {
     "data": {
      "text/plain": [
       "(2, 10)"
      ]
     },
     "execution_count": 117,
     "metadata": {},
     "output_type": "execute_result"
    },
    {
     "data": {
      "text/plain": [
       "(1, 20)"
      ]
     },
     "execution_count": 117,
     "metadata": {},
     "output_type": "execute_result"
    }
   ],
   "source": [
    "x = np.arange(10)  # (10,) shape\n",
    "y = x.reshape(-1, 1)  # (10, 1) shape\n",
    "z = x.reshape(1, -1)  # (1, 10) shape\n",
    "\n",
    "np.vstack([x, x]).shape\n",
    "np.hstack([x, x]).shape\n",
    "\n",
    "np.vstack([y, y]).shape\n",
    "np.hstack([y, y]).shape\n",
    "\n",
    "np.vstack([z, z]).shape\n",
    "np.hstack([z, z]).shape"
   ]
  },
  {
   "cell_type": "markdown",
   "metadata": {},
   "source": [
    "## `numpy.random.choice`\n",
    "\n",
    "Generates a random sample from a given 1-D array\n",
    "\n",
    "对给定的 1-D array 进行随机采样\n",
    "\n",
    "```python\n",
    "numpy.random.choice(a, size=None, replace=True, p=None)\n",
    "```\n",
    "\n",
    "通过`replace`参数，控制是否重复选择\n",
    "\n",
    "`random.choices` 与其类似"
   ]
  },
  {
   "cell_type": "code",
   "execution_count": 118,
   "metadata": {},
   "outputs": [
    {
     "data": {
      "text/plain": [
       "array([0, 2, 3], dtype=int64)"
      ]
     },
     "execution_count": 118,
     "metadata": {},
     "output_type": "execute_result"
    },
    {
     "data": {
      "text/plain": [
       "array([3, 2, 0])"
      ]
     },
     "execution_count": 118,
     "metadata": {},
     "output_type": "execute_result"
    },
    {
     "data": {
      "text/plain": [
       "array(['pooh', 'rabbit', 'rabbit', 'pooh', 'piglet'], dtype='<U11')"
      ]
     },
     "execution_count": 118,
     "metadata": {},
     "output_type": "execute_result"
    }
   ],
   "source": [
    "np.random.choice(5, 3, p=[0.1, 0, 0.3, 0.6, 0])\n",
    "np.random.choice(5, 3, replace=False, p=[0.1, 0, 0.3, 0.6, 0])\n",
    "\n",
    "aa_milne_arr = ['pooh', 'rabbit', 'piglet', 'Christopher']\n",
    "np.random.choice(aa_milne_arr, 5, p=[0.5, 0.1, 0.1, 0.3])"
   ]
  },
  {
   "cell_type": "markdown",
   "metadata": {},
   "source": [
    "## `array_split`\n",
    "\n",
    "Split an array into multiple sub-arrays.\n",
    "\n",
    "将 arr 分成几个 subarr，返回**列表**\n",
    "\n",
    "```python\n",
    "numpy.array_split(ary, indices_or_sections, axis=0)\n",
    "```\n",
    "\n",
    "**注意无法均分时的处理方式** 与`numpy.split()`类似"
   ]
  },
  {
   "cell_type": "code",
   "execution_count": 119,
   "metadata": {},
   "outputs": [
    {
     "data": {
      "text/plain": [
       "[array([[0, 1, 2, 3]]), array([[4, 5, 6, 7]]), array([[ 8,  9, 10, 11]])]"
      ]
     },
     "execution_count": 119,
     "metadata": {},
     "output_type": "execute_result"
    },
    {
     "data": {
      "text/plain": [
       "[array([[0, 1, 2, 3],\n",
       "        [4, 5, 6, 7]]), array([[ 8,  9, 10, 11]])]"
      ]
     },
     "execution_count": 119,
     "metadata": {},
     "output_type": "execute_result"
    }
   ],
   "source": [
    "arr = np.arange(12).reshape((3, 4))\n",
    "\n",
    "np.array_split(arr, 3)\n",
    "np.array_split(arr, 2)"
   ]
  },
  {
   "cell_type": "code",
   "execution_count": 120,
   "metadata": {},
   "outputs": [
    {
     "data": {
      "text/plain": [
       "[array([[0, 1],\n",
       "        [4, 5],\n",
       "        [8, 9]]), array([[ 2,  3],\n",
       "        [ 6,  7],\n",
       "        [10, 11]])]"
      ]
     },
     "execution_count": 120,
     "metadata": {},
     "output_type": "execute_result"
    },
    {
     "data": {
      "text/plain": [
       "[array([[0, 1],\n",
       "        [4, 5],\n",
       "        [8, 9]]), array([[ 2],\n",
       "        [ 6],\n",
       "        [10]]), array([[ 3],\n",
       "        [ 7],\n",
       "        [11]])]"
      ]
     },
     "execution_count": 120,
     "metadata": {},
     "output_type": "execute_result"
    }
   ],
   "source": [
    "np.array_split(arr, 2, axis=1)\n",
    "np.array_split(arr, 3, axis=1)"
   ]
  },
  {
   "cell_type": "markdown",
   "metadata": {},
   "source": [
    "## `numpy.linalg.norm`"
   ]
  },
  {
   "cell_type": "markdown",
   "metadata": {},
   "source": [
    "Matrix or vector norm.\n",
    "\n",
    "返回各种范数\n",
    "\n",
    "```python\n",
    "numpy.linalg.norm(x, ord=None, axis=None, keepdims=False)\n",
    "```\n",
    "\n",
    "- https://docs.scipy.org/doc/numpy/reference/generated/numpy.linalg.norm.html\n",
    "- [Algebra Routine](https://docs.scipy.org/doc/numpy/reference/routines.linalg.html)\n",
    "\n",
    "\n",
    "    ord\tnorm for matrices\tnorm for vectors\n",
    "    None\tFrobenius norm\t2-norm\n",
    "    ‘fro’\tFrobenius norm\t–\n",
    "    ‘nuc’\tnuclear norm\t–\n",
    "    inf\tmax(sum(abs(x), axis=1))\tmax(abs(x))\n",
    "    -inf\tmin(sum(abs(x), axis=1))\tmin(abs(x))\n",
    "    0\t–\tsum(x != 0)\n",
    "    1\tmax(sum(abs(x), axis=0))\tas below\n",
    "    -1\tmin(sum(abs(x), axis=0))\tas below\n",
    "    2\t2-norm (largest sing. value)\tas below\n",
    "    -2\tsmallest singular value\tas below\n",
    "    other\t–\tsum(abs(x)**ord)**(1./ord)\n",
    "    \n",
    "    The Frobenius norm is given by:\n",
    "\n",
    "$$\n",
    "||A||_F = [\\sum_{i,j} abs(a_{i,j})^2]^{1/2}\n",
    "$$\n",
    "    \n",
    "    The nuclear norm is the sum of the singular values."
   ]
  },
  {
   "cell_type": "code",
   "execution_count": 121,
   "metadata": {},
   "outputs": [
    {
     "data": {
      "text/plain": [
       "array([-4, -3, -2, -1,  0,  1,  2,  3,  4])"
      ]
     },
     "execution_count": 121,
     "metadata": {},
     "output_type": "execute_result"
    },
    {
     "data": {
      "text/plain": [
       "array([[-4, -3, -2],\n",
       "       [-1,  0,  1],\n",
       "       [ 2,  3,  4]])"
      ]
     },
     "execution_count": 121,
     "metadata": {},
     "output_type": "execute_result"
    }
   ],
   "source": [
    "from numpy import linalg as LA\n",
    "A = np.arange(9) - 4\n",
    "A\n",
    "\n",
    "B = A.reshape((3, 3))\n",
    "B"
   ]
  },
  {
   "cell_type": "code",
   "execution_count": 122,
   "metadata": {},
   "outputs": [
    {
     "data": {
      "text/plain": [
       "7.745966692414834"
      ]
     },
     "execution_count": 122,
     "metadata": {},
     "output_type": "execute_result"
    },
    {
     "data": {
      "text/plain": [
       "7.745966692414834"
      ]
     },
     "execution_count": 122,
     "metadata": {},
     "output_type": "execute_result"
    },
    {
     "data": {
      "text/plain": [
       "7.745966692414834"
      ]
     },
     "execution_count": 122,
     "metadata": {},
     "output_type": "execute_result"
    },
    {
     "data": {
      "text/plain": [
       "4.0"
      ]
     },
     "execution_count": 122,
     "metadata": {},
     "output_type": "execute_result"
    },
    {
     "data": {
      "text/plain": [
       "9.0"
      ]
     },
     "execution_count": 122,
     "metadata": {},
     "output_type": "execute_result"
    },
    {
     "data": {
      "text/plain": [
       "0.0"
      ]
     },
     "execution_count": 122,
     "metadata": {},
     "output_type": "execute_result"
    },
    {
     "data": {
      "text/plain": [
       "2.0"
      ]
     },
     "execution_count": 122,
     "metadata": {},
     "output_type": "execute_result"
    }
   ],
   "source": [
    "LA.norm(A)\n",
    "LA.norm(B)\n",
    "LA.norm(B, 'fro')\n",
    "LA.norm(A, np.inf)\n",
    "LA.norm(B, np.inf)\n",
    "LA.norm(A, -np.inf)\n",
    "LA.norm(B, -np.inf)"
   ]
  },
  {
   "cell_type": "markdown",
   "metadata": {},
   "source": [
    "## `bincount`\n",
    "\n",
    "Count number of occurrences of each value in array of non-negative ints.\n",
    "\n",
    "返回从0到x中最大元素之间所有整数的出现次数，没出现的补 0，如果给定了weights，则计数不是按次数而是按照weights计算。\n",
    "\n",
    "```python\n",
    "numpy.bincount(x, weights=None, minlength=0)\n",
    "```\n",
    "\n",
    "**输入必须为int**"
   ]
  },
  {
   "cell_type": "code",
   "execution_count": 123,
   "metadata": {},
   "outputs": [
    {
     "data": {
      "text/plain": [
       "array([1, 1, 1, 1, 1], dtype=int64)"
      ]
     },
     "execution_count": 123,
     "metadata": {},
     "output_type": "execute_result"
    },
    {
     "data": {
      "text/plain": [
       "array([1, 3, 1, 1, 0, 0, 0, 1], dtype=int64)"
      ]
     },
     "execution_count": 123,
     "metadata": {},
     "output_type": "execute_result"
    }
   ],
   "source": [
    "np.bincount(np.arange(5))\n",
    "\n",
    "np.bincount(np.array([0, 1, 1, 3, 2, 1, 7]))"
   ]
  },
  {
   "cell_type": "code",
   "execution_count": 124,
   "metadata": {},
   "outputs": [
    {
     "data": {
      "text/plain": [
       "24"
      ]
     },
     "execution_count": 124,
     "metadata": {},
     "output_type": "execute_result"
    },
    {
     "data": {
      "text/plain": [
       "True"
      ]
     },
     "execution_count": 124,
     "metadata": {},
     "output_type": "execute_result"
    }
   ],
   "source": [
    "arr = np.array([0, 1, 1, 3, 2, 1, 7, 23])\n",
    "\n",
    "np.bincount(arr).size\n",
    "np.bincount(arr).size == np.max(arr)+1"
   ]
  },
  {
   "cell_type": "markdown",
   "metadata": {},
   "source": [
    "## `unique`\n",
    "\n",
    "Find the unique elements of an array.\n",
    "\n",
    "剔除ndarray中重复的元素，返回**排序后的**unique元素（1-D）\n",
    "\n",
    "```python\n",
    "numpy.unique(ar, return_index=False, return_inverse=False, return_counts=False, axis=None)\n",
    "```\n",
    "\n",
    "默认`axis=None`, `return_index`控制是否返回unique元素**相对原始ndarray的“坐标”**，`return_inverse`控制是否返回原始ndarray**相对unique元素的“坐标”**`counts`控制是否返回计数"
   ]
  },
  {
   "cell_type": "code",
   "execution_count": 125,
   "metadata": {},
   "outputs": [
    {
     "data": {
      "text/plain": [
       "array([1, 2, 3, 4])"
      ]
     },
     "execution_count": 125,
     "metadata": {},
     "output_type": "execute_result"
    }
   ],
   "source": [
    "arr = np.array([[1, 2, 1], [2, 3, 4]])\n",
    "np.unique(arr)"
   ]
  },
  {
   "cell_type": "markdown",
   "metadata": {},
   "source": [
    "指定了axis之后，**是否unique则按指定维度进行判断**，若`axis=0`则返回unique的行（2-D情况下）"
   ]
  },
  {
   "cell_type": "code",
   "execution_count": 126,
   "metadata": {},
   "outputs": [
    {
     "data": {
      "text/plain": [
       "array([[1, 0, 0],\n",
       "       [2, 3, 4],\n",
       "       [3, 0, 0]])"
      ]
     },
     "execution_count": 126,
     "metadata": {},
     "output_type": "execute_result"
    }
   ],
   "source": [
    "arr = np.array([[1, 0, 0], [3, 0, 0], [2, 3, 4]])\n",
    "np.unique(arr, axis=0)"
   ]
  },
  {
   "cell_type": "code",
   "execution_count": 127,
   "metadata": {},
   "outputs": [
    {
     "data": {
      "text/plain": [
       "array([1, 2, 3, 4])"
      ]
     },
     "execution_count": 127,
     "metadata": {},
     "output_type": "execute_result"
    },
    {
     "data": {
      "text/plain": [
       "array([0, 1, 4, 5], dtype=int64)"
      ]
     },
     "execution_count": 127,
     "metadata": {},
     "output_type": "execute_result"
    },
    {
     "data": {
      "text/plain": [
       "array([1, 2, 3, 4])"
      ]
     },
     "execution_count": 127,
     "metadata": {},
     "output_type": "execute_result"
    }
   ],
   "source": [
    "arr = np.array([[1, 2, 1], [2, 3, 4]])\n",
    "u, indices = np.unique(arr, return_index=True)\n",
    "\n",
    "u\n",
    "indices\n",
    "\n",
    "arr[np.unravel_index(indices, arr.shape)]"
   ]
  },
  {
   "cell_type": "markdown",
   "metadata": {},
   "source": [
    "return_inverse 控制是否返回相**完整的，相对 unique 元素的 indice** 可用于重新构造原始 ndarray"
   ]
  },
  {
   "cell_type": "code",
   "execution_count": 128,
   "metadata": {},
   "outputs": [
    {
     "data": {
      "text/plain": [
       "array([1, 2, 3, 4])"
      ]
     },
     "execution_count": 128,
     "metadata": {},
     "output_type": "execute_result"
    },
    {
     "data": {
      "text/plain": [
       "array([0, 1, 0, 1, 2, 3], dtype=int64)"
      ]
     },
     "execution_count": 128,
     "metadata": {},
     "output_type": "execute_result"
    },
    {
     "data": {
      "text/plain": [
       "array([[1, 2, 1],\n",
       "       [2, 3, 4]])"
      ]
     },
     "execution_count": 128,
     "metadata": {},
     "output_type": "execute_result"
    }
   ],
   "source": [
    "u, indices = np.unique(arr, return_inverse=True)\n",
    "\n",
    "u\n",
    "indices\n",
    "\n",
    "u[indices].reshape(arr.shape)"
   ]
  },
  {
   "cell_type": "markdown",
   "metadata": {},
   "source": [
    "counts 控制是否返回计数"
   ]
  },
  {
   "cell_type": "code",
   "execution_count": 129,
   "metadata": {
    "scrolled": true
   },
   "outputs": [
    {
     "data": {
      "text/plain": [
       "array([1, 2, 3, 4])"
      ]
     },
     "execution_count": 129,
     "metadata": {},
     "output_type": "execute_result"
    },
    {
     "data": {
      "text/plain": [
       "array([2, 2, 1, 1], dtype=int64)"
      ]
     },
     "execution_count": 129,
     "metadata": {},
     "output_type": "execute_result"
    }
   ],
   "source": [
    "u, counts = np.unique(arr, return_counts=True)\n",
    "\n",
    "u\n",
    "counts"
   ]
  },
  {
   "cell_type": "markdown",
   "metadata": {},
   "source": [
    "## `hypot`\n",
    "\n",
    "Given the “legs” of a right triangle, return its hypotenuse.\n",
    "\n",
    "已知两条直角边，计算斜边\n",
    "\n",
    "```python\n",
    "numpy.hypot(x1, x2, /, out=None, *, where=True, casting='same_kind', order='K', dtype=None, subok=True[, signature, extobj])\n",
    "```"
   ]
  },
  {
   "cell_type": "code",
   "execution_count": 130,
   "metadata": {
    "scrolled": true
   },
   "outputs": [
    {
     "data": {
      "text/plain": [
       "array([[5., 5., 5.],\n",
       "       [5., 5., 5.],\n",
       "       [5., 5., 5.]])"
      ]
     },
     "execution_count": 130,
     "metadata": {},
     "output_type": "execute_result"
    }
   ],
   "source": [
    "np.hypot(3*np.ones((3, 3)), 4*np.ones((3, 3)))"
   ]
  },
  {
   "cell_type": "markdown",
   "metadata": {},
   "source": [
    "## `unravel_index`\n",
    "\n",
    "Converts a flat index or array of flat indices into a tuple of coordinate arrays.\n",
    "\n",
    "**将一维化“坐标”转换为一组反直觉“坐标”（列表），即列表中的每一项（ndarray）对应一个维度。**\n",
    "\n",
    "```python\n",
    "unravel_index(indices, shape, order='C')\n",
    "```"
   ]
  },
  {
   "cell_type": "code",
   "execution_count": 131,
   "metadata": {},
   "outputs": [
    {
     "data": {
      "text/plain": [
       "(array([3, 6, 6], dtype=int64), array([4, 5, 1], dtype=int64))"
      ]
     },
     "execution_count": 131,
     "metadata": {},
     "output_type": "execute_result"
    },
    {
     "data": {
      "text/plain": [
       "(array([3, 3], dtype=int64),\n",
       " array([1, 5], dtype=int64),\n",
       " array([4, 6], dtype=int64),\n",
       " array([1, 3], dtype=int64))"
      ]
     },
     "execution_count": 131,
     "metadata": {},
     "output_type": "execute_result"
    }
   ],
   "source": [
    "np.unravel_index([22, 41, 37], (7, 6))\n",
    "\n",
    "np.unravel_index([1621, 1929], (6, 7, 8, 9))"
   ]
  },
  {
   "cell_type": "code",
   "execution_count": 132,
   "metadata": {},
   "outputs": [
    {
     "data": {
      "text/plain": [
       "(array([  0,   0,   1, ..., 998, 999, 999], dtype=int64),\n",
       " array([0, 1, 0, ..., 1, 0, 1], dtype=int64))"
      ]
     },
     "execution_count": 132,
     "metadata": {},
     "output_type": "execute_result"
    }
   ],
   "source": [
    "arr = np.arange(2000)\n",
    "\n",
    "np.unravel_index(arr, (1000, 2))"
   ]
  },
  {
   "cell_type": "markdown",
   "metadata": {},
   "source": [
    "## NumPy 数据类型一览表\n",
    "\n",
    "    Type\tName\tBytes\tDescription\n",
    "    bool\tb\t1\tBoolean (True or False) stored as a byte\n",
    "    int\tl\t4-8\tPlatform (long) integer (normally either int32 or int64)\n",
    "    intp\tp\t4-8\tInteger used for indexing (normally either int32 or int64)\n",
    "    int8\ti1\t1\tByte (-128 to 127)\n",
    "    int16\ti2\t2\tInteger (-32768 to 32767)\n",
    "    int32\ti4\t4\tInteger (-2147483648 to 2147483647)\n",
    "    int64\ti8\t8\tInteger (-9223372036854775808 to 9223372036854775807)\n",
    "    uint8\tu1\t1\tUnsigned integer (0 to 255)\n",
    "    uint16\tu2\t2\tUnsigned integer (0 to 65535)\n",
    "    uint32\tu4\t4\tUnsigned integer (0 to 4294967295)\n",
    "    uint64\tu8\t8\tUnsigned integer (0 to 18446744073709551615)\n",
    "    float\tf8\t8\tShorthand for float64\n",
    "    float16\tf2\t2\tHalf precision float: sign bit, 5 bits exponent, 10 bits mantissa\n",
    "    float32\tf\t4\tSingle precision float: sign bit, 8 bits exponent, 23 bits mantissa\n",
    "    float64\td\t8\tDouble precision float: sign bit, 11 bits exponent, 52 bits mantissa\n",
    "    complex\tc16\t16\tShorthand for complex128.\n",
    "    complex64\tc8\t8\tComplex number, represented by two 32-bit floats\n",
    "    complex128\tc16\t16\tComplex number, represented by two 64-bit floats"
   ]
  },
  {
   "cell_type": "markdown",
   "metadata": {},
   "source": [
    "# 特定任务"
   ]
  },
  {
   "cell_type": "markdown",
   "metadata": {},
   "source": [
    "## ndarray导入与导出\n",
    "\n",
    "NumPy 提供了多种应对各种情况的导入导出方式，**官方推荐使用 save 和 load 函数进行导入导出 npy 文件，npy 格式支持一键导入导出，无需额外设置，导出啥样导入还是啥样，无缝衔接**\n",
    "\n",
    "### 导出\n",
    "\n",
    "#### savetxt\n",
    "\n",
    "Save an array to a text file.\n",
    "\n",
    "将 ndarray 保存为文本文件\n",
    "\n",
    "```python\n",
    "numpy.savetxt(fname, X, fmt='%.18e', delimiter=' ', newline='\\n', header='', footer='', comments='# ', encoding=None)\n",
    "```\n",
    "savetxt 默认导出格式为科学计数\n",
    "\n",
    "**使用 savetxt 保存数据时，最好指定编码格式 encoding，同时可以指定 header，comments 和 encoding**"
   ]
  },
  {
   "cell_type": "code",
   "execution_count": 133,
   "metadata": {},
   "outputs": [],
   "source": [
    "arr = np.arange(12).reshape((3, 4))\n",
    "\n",
    "# 导出为 csv\n",
    "np.savetxt('data/output.csv', arr, delimiter=',', header='',\n",
    "           comments='', encoding='utf-8')  # float 格式\n",
    "\n",
    "# 导出为 txt\n",
    "np.savetxt('data/output.txt', arr, delimiter=' ',\n",
    "           header='', comments='', encoding='utf-8')"
   ]
  },
  {
   "cell_type": "markdown",
   "metadata": {},
   "source": [
    "#### tofile\n",
    "\n",
    "Write array to a file as text or binary (default).\n",
    "\n",
    "将ndarray以文本或二进制格式写入文件\n",
    "\n",
    "```python\n",
    "ndarray.tofile(fid, sep=\"\", format=\"%s\")\n",
    "```\n",
    "\n",
    "默认为二进制形式"
   ]
  },
  {
   "cell_type": "code",
   "execution_count": 134,
   "metadata": {},
   "outputs": [
    {
     "data": {
      "text/plain": [
       "array([((10, 0), 98.25), (( 0, 0), 98.25)],\n",
       "      dtype=[('time', [('min', '<i4'), ('sec', '<i4')]), ('temp', '<f8')])"
      ]
     },
     "execution_count": 134,
     "metadata": {},
     "output_type": "execute_result"
    }
   ],
   "source": [
    "import os\n",
    "arr = np.zeros(\n",
    "    (2,), dtype=[('time', [('min', int), ('sec', int)]), ('temp', float)])\n",
    "\n",
    "arr[0]['time']['min'] = 10\n",
    "arr['temp'] = 98.25\n",
    "arr\n",
    "\n",
    "arr.tofile('data/temp.b')"
   ]
  },
  {
   "cell_type": "markdown",
   "metadata": {},
   "source": [
    "#### np.save\n",
    "\n",
    "Save an array to a binary file in NumPy .npy format.\n",
    "\n",
    "把ndarray保存为npy文件\n",
    "\n",
    "```python\n",
    "numpy.save(file, arr, allow_pickle=True, fix_imports=True)\n",
    "```"
   ]
  },
  {
   "cell_type": "code",
   "execution_count": 135,
   "metadata": {},
   "outputs": [],
   "source": [
    "np.save(\"data/output.npy\", arr)"
   ]
  },
  {
   "cell_type": "markdown",
   "metadata": {},
   "source": [
    "### 导入\n",
    "\n",
    "#### loadtxt\n",
    "\n",
    "Load data from a text file.\n",
    "\n",
    "从文本文件中读取数据\n",
    "\n",
    "```python\n",
    "numpy.loadtxt(fname, dtype=<class 'float'>, comments='#', delimiter=None, converters=None, skiprows=0, usecols=None, unpack=False, ndmin=0, encoding='bytes')\n",
    "```\n",
    "每行的数值必须个数相同"
   ]
  },
  {
   "cell_type": "code",
   "execution_count": 136,
   "metadata": {},
   "outputs": [
    {
     "data": {
      "text/plain": [
       "array([[ 0.,  1.,  2.,  3.],\n",
       "       [ 4.,  5.,  6.,  7.],\n",
       "       [ 8.,  9., 10., 11.]])"
      ]
     },
     "execution_count": 136,
     "metadata": {},
     "output_type": "execute_result"
    },
    {
     "data": {
      "text/plain": [
       "array([[ 0.,  1.,  2.,  3.],\n",
       "       [ 4.,  5.,  6.,  7.],\n",
       "       [ 8.,  9., 10., 11.]])"
      ]
     },
     "execution_count": 136,
     "metadata": {},
     "output_type": "execute_result"
    }
   ],
   "source": [
    "np.loadtxt('data/output.csv', delimiter=',')\n",
    "np.loadtxt('data/output.txt', delimiter=' ')"
   ]
  },
  {
   "cell_type": "markdown",
   "metadata": {},
   "source": [
    "#### genfromtxt\n",
    "\n",
    "Load data from a text file, with missing values handled as specified.\n",
    "\n",
    "从文本文件读取数据，缺失值特别处理\n",
    "\n",
    "```python\n",
    "numpy.genfromtxt(fname, dtype=<class 'float'>, comments='#', delimiter=None, skip_header=0, skip_footer=0, converters=None, missing_values=None, filling_values=None, usecols=None, names=None, excludelist=None, deletechars=None, replace_space='_', autostrip=False, case_sensitive=True, defaultfmt='f%i', unpack=None, usemask=False, loose=True, invalid_raise=True, max_rows=None, encoding='bytes')\n",
    "```"
   ]
  },
  {
   "cell_type": "code",
   "execution_count": 137,
   "metadata": {},
   "outputs": [
    {
     "data": {
      "text/plain": [
       "array([[ 0.,  1.,  2.,  3.],\n",
       "       [ 4.,  5.,  6.,  7.],\n",
       "       [ 8.,  9., 10., 11.]])"
      ]
     },
     "execution_count": 137,
     "metadata": {},
     "output_type": "execute_result"
    },
    {
     "data": {
      "text/plain": [
       "array([[ 0.,  1.,  2.,  3.],\n",
       "       [ 4.,  5.,  6.,  7.],\n",
       "       [ 8.,  9., 10., 11.]])"
      ]
     },
     "execution_count": 137,
     "metadata": {},
     "output_type": "execute_result"
    }
   ],
   "source": [
    "np.genfromtxt('data/output.csv', delimiter=',')\n",
    "np.genfromtxt('data/output.txt', delimiter=' ')"
   ]
  },
  {
   "cell_type": "markdown",
   "metadata": {},
   "source": [
    "#### fromfile\n",
    "\n",
    "Construct an array from data in a text or binary file.\n",
    "\n",
    "从文本文件或二进制文件中读取数据\n",
    "\n",
    "`numpy.fromfile(file, dtype=float, count=-1, sep='')`"
   ]
  },
  {
   "cell_type": "code",
   "execution_count": 138,
   "metadata": {},
   "outputs": [
    {
     "data": {
      "text/plain": [
       "array([((10, 0), 98.25), (( 0, 0), 98.25)],\n",
       "      dtype=[('time', [('min', '<i4'), ('sec', '<i4')]), ('temp', '<f8')])"
      ]
     },
     "execution_count": 138,
     "metadata": {},
     "output_type": "execute_result"
    }
   ],
   "source": [
    "np.fromfile(\"data/temp.b\",\n",
    "            dtype=[('time', [('min', int), ('sec', int)]), ('temp', float)])"
   ]
  },
  {
   "cell_type": "markdown",
   "metadata": {},
   "source": [
    "#### np.load\n",
    "\n",
    "Load arrays or pickled objects from .npy, .npz or pickled files.\n",
    "\n",
    "从 npy npz 或 pickle文件中读取 ndarray 对象\n",
    "\n",
    "```python\n",
    "numpy.load(\n",
    "    ['file', 'mmap_mode=None', 'allow_pickle=True', 'fix_imports=True', \"encoding='ASCII'\"],\n",
    ")\n",
    "```"
   ]
  },
  {
   "cell_type": "code",
   "execution_count": 139,
   "metadata": {},
   "outputs": [
    {
     "data": {
      "text/plain": [
       "array([((10, 0), 98.25), (( 0, 0), 98.25)],\n",
       "      dtype=[('time', [('min', '<i4'), ('sec', '<i4')]), ('temp', '<f8')])"
      ]
     },
     "execution_count": 139,
     "metadata": {},
     "output_type": "execute_result"
    }
   ],
   "source": [
    "np.load(\"data/output.npy\")"
   ]
  },
  {
   "cell_type": "markdown",
   "metadata": {},
   "source": [
    "## 交换ndarray的轴[广义转置]\n",
    "\n",
    "Permute the dimensions of an array.\n",
    "\n",
    "交换ndarray的维度，**返回视图**\n",
    "\n",
    "```python\n",
    "numpy.transpose(a, axes=None)\n",
    "```"
   ]
  },
  {
   "cell_type": "code",
   "execution_count": 140,
   "metadata": {},
   "outputs": [
    {
     "data": {
      "text/plain": [
       "array([[[ 0,  1,  2,  3],\n",
       "        [ 4,  5,  6,  7],\n",
       "        [ 8,  9, 10, 11]],\n",
       "\n",
       "       [[12, 13, 14, 15],\n",
       "        [16, 17, 18, 19],\n",
       "        [20, 21, 22, 23]]])"
      ]
     },
     "execution_count": 140,
     "metadata": {},
     "output_type": "execute_result"
    },
    {
     "data": {
      "text/plain": [
       "array([[[ 0, 12],\n",
       "        [ 4, 16],\n",
       "        [ 8, 20]],\n",
       "\n",
       "       [[ 1, 13],\n",
       "        [ 5, 17],\n",
       "        [ 9, 21]],\n",
       "\n",
       "       [[ 2, 14],\n",
       "        [ 6, 18],\n",
       "        [10, 22]],\n",
       "\n",
       "       [[ 3, 15],\n",
       "        [ 7, 19],\n",
       "        [11, 23]]])"
      ]
     },
     "execution_count": 140,
     "metadata": {},
     "output_type": "execute_result"
    },
    {
     "data": {
      "text/plain": [
       "(4, 3, 2)"
      ]
     },
     "execution_count": 140,
     "metadata": {},
     "output_type": "execute_result"
    }
   ],
   "source": [
    "arr = np.arange(24).reshape((2, 3, 4))\n",
    "arr\n",
    "\n",
    "np.transpose(arr)  # 完全倒置\n",
    "np.transpose(arr).shape"
   ]
  },
  {
   "cell_type": "code",
   "execution_count": 141,
   "metadata": {},
   "outputs": [
    {
     "data": {
      "text/plain": [
       "array([[[ 0,  1,  2,  3],\n",
       "        [12, 13, 14, 15]],\n",
       "\n",
       "       [[ 4,  5,  6,  7],\n",
       "        [16, 17, 18, 19]],\n",
       "\n",
       "       [[ 8,  9, 10, 11],\n",
       "        [20, 21, 22, 23]]])"
      ]
     },
     "execution_count": 141,
     "metadata": {},
     "output_type": "execute_result"
    },
    {
     "data": {
      "text/plain": [
       "(3, 2, 4)"
      ]
     },
     "execution_count": 141,
     "metadata": {},
     "output_type": "execute_result"
    }
   ],
   "source": [
    "np.transpose(arr, (1, 0, 2))\n",
    "np.transpose(arr, (1, 0, 2)).shape"
   ]
  },
  {
   "cell_type": "code",
   "execution_count": 142,
   "metadata": {
    "scrolled": true
   },
   "outputs": [
    {
     "data": {
      "text/plain": [
       "array([[[ 0,  4,  8],\n",
       "        [ 1,  5,  9],\n",
       "        [ 2,  6, 10],\n",
       "        [ 3,  7, 11]],\n",
       "\n",
       "       [[12, 16, 20],\n",
       "        [13, 17, 21],\n",
       "        [14, 18, 22],\n",
       "        [15, 19, 23]]])"
      ]
     },
     "execution_count": 142,
     "metadata": {},
     "output_type": "execute_result"
    },
    {
     "data": {
      "text/plain": [
       "(2, 4, 3)"
      ]
     },
     "execution_count": 142,
     "metadata": {},
     "output_type": "execute_result"
    }
   ],
   "source": [
    "np.transpose(arr, (0, 2, 1))\n",
    "np.transpose(arr, (0, 2, 1)).shape"
   ]
  },
  {
   "cell_type": "markdown",
   "metadata": {},
   "source": [
    "## NumPy向量化编程\n",
    "\n",
    "参考：\n",
    "- [NumPy Functional programming](https://docs.scipy.org/doc/numpy-dev/reference/routines.functional.html)\n",
    "\n",
    "NumPy 函数式编程主要有以下几种方式\n",
    "\n",
    "- `apply_along_axis(func1d, axis, arr, *args, ...)`\tApply a function to 1-D slices along the given axis.\n",
    "- `apply_over_axes(func, a, axes)`\tApply a function repeatedly over multiple axes.\n",
    "- `vectorize(pyfunc[, otypes, doc, excluded, ...])`\tGeneralized function class.\n",
    "- `frompyfunc(func, nin, nout)`\tTakes an arbitrary Python function and returns a NumPy ufunc.\n",
    "- `piecewise(x, condlist, funclist, *args, **kw)`\tEvaluate a piecewise-defined function.\n",
    "\n",
    "### `numpy.vectorize`\n",
    "\n",
    "\n",
    "`class numpy.vectorize(pyfunc, otypes=None, doc=None, excluded=None, cache=False, signature=None)`\n",
    "\n",
    "Define a vectorized function which takes a nested sequence of objects or numpy arrays as inputs and returns an single or tuple of numpy array as output. The vectorized function evaluates pyfunc over successive tuples of the input arrays like the python map function, except it uses the broadcasting rules of numpy.\n",
    "\n",
    "基于输入的 python func 返回一个向量化的函数"
   ]
  },
  {
   "cell_type": "code",
   "execution_count": 143,
   "metadata": {},
   "outputs": [
    {
     "data": {
      "text/plain": [
       "array([3, 4, 1, 2])"
      ]
     },
     "execution_count": 143,
     "metadata": {},
     "output_type": "execute_result"
    }
   ],
   "source": [
    "def myfunc(a, b):\n",
    "    \"Return a-b if a>b, otherwise return a+b\"\n",
    "    if a > b:\n",
    "        return a - b\n",
    "    else:\n",
    "        return a + b\n",
    "\n",
    "\n",
    "vfunc = np.vectorize(myfunc)\n",
    "vfunc([1, 2, 3, 4], 2)"
   ]
  },
  {
   "cell_type": "markdown",
   "metadata": {},
   "source": [
    "## 给ndarray增加新的维度\n",
    "\n",
    "### 使用 newaxis 或者 None"
   ]
  },
  {
   "cell_type": "code",
   "execution_count": 144,
   "metadata": {},
   "outputs": [
    {
     "data": {
      "text/plain": [
       "(3, 4)"
      ]
     },
     "execution_count": 144,
     "metadata": {},
     "output_type": "execute_result"
    },
    {
     "data": {
      "text/plain": [
       "(3, 1, 4)"
      ]
     },
     "execution_count": 144,
     "metadata": {},
     "output_type": "execute_result"
    },
    {
     "data": {
      "text/plain": [
       "(3, 1, 4)"
      ]
     },
     "execution_count": 144,
     "metadata": {},
     "output_type": "execute_result"
    },
    {
     "data": {
      "text/plain": [
       "(1, 3, 4)"
      ]
     },
     "execution_count": 144,
     "metadata": {},
     "output_type": "execute_result"
    },
    {
     "data": {
      "text/plain": [
       "(1, 3, 4)"
      ]
     },
     "execution_count": 144,
     "metadata": {},
     "output_type": "execute_result"
    }
   ],
   "source": [
    "from numpy import newaxis\n",
    "\n",
    "arr = np.arange(12).reshape((3, 4))\n",
    "arr.shape\n",
    "\n",
    "arr[:, newaxis].shape\n",
    "arr[:, None].shape\n",
    "\n",
    "arr[newaxis, :].shape\n",
    "arr[None, :].shape"
   ]
  },
  {
   "cell_type": "markdown",
   "metadata": {},
   "source": [
    "### 使用`reshape`"
   ]
  },
  {
   "cell_type": "code",
   "execution_count": 145,
   "metadata": {},
   "outputs": [
    {
     "data": {
      "text/plain": [
       "(3, 4)"
      ]
     },
     "execution_count": 145,
     "metadata": {},
     "output_type": "execute_result"
    },
    {
     "data": {
      "text/plain": [
       "(2, 2, 3)"
      ]
     },
     "execution_count": 145,
     "metadata": {},
     "output_type": "execute_result"
    },
    {
     "data": {
      "text/plain": [
       "(2, 3, 2)"
      ]
     },
     "execution_count": 145,
     "metadata": {},
     "output_type": "execute_result"
    }
   ],
   "source": [
    "arr = np.arange(12).reshape((3, 4))\n",
    "arr.shape\n",
    "\n",
    "arr.reshape((-1, 2, 3)).shape\n",
    "arr.reshape((2, 3, -1)).shape"
   ]
  },
  {
   "cell_type": "markdown",
   "metadata": {},
   "source": [
    "## 自定义 dtype\n",
    "\n",
    "创建 array 时自定义 dtype 类型"
   ]
  },
  {
   "cell_type": "code",
   "execution_count": 146,
   "metadata": {
    "scrolled": false
   },
   "outputs": [
    {
     "data": {
      "text/plain": [
       "array([([0., 0.], 0., 0., [0., 0., 0., 0.], ''),\n",
       "       ([0., 0.], 0., 0., [0., 0., 0., 0.], ''),\n",
       "       ([0., 0.], 0., 0., [0., 0., 0., 0.], ''),\n",
       "       ([0., 0.], 0., 0., [0., 0., 0., 0.], ''),\n",
       "       ([0., 0.], 0., 0., [0., 0., 0., 0.], '')],\n",
       "      dtype=[('position', '<f8', (2,)), ('size', '<f8'), ('growth', '<f8'), ('color', '<f8', (4,)), ('name', '<U1')])"
      ]
     },
     "execution_count": 146,
     "metadata": {},
     "output_type": "execute_result"
    },
    {
     "data": {
      "text/plain": [
       "([0., 0.], 0., 0., [0., 0., 0., 0.], '')"
      ]
     },
     "execution_count": 146,
     "metadata": {},
     "output_type": "execute_result"
    },
    {
     "data": {
      "text/plain": [
       "array([0., 0.])"
      ]
     },
     "execution_count": 146,
     "metadata": {},
     "output_type": "execute_result"
    }
   ],
   "source": [
    "custom_ndarray = np.zeros(5, dtype=[('position', float, 2),\n",
    "                                    ('size', float, 1),\n",
    "                                    ('growth', float, 1),\n",
    "                                    ('color', float, 4),\n",
    "                                    ('name', str, 1)])\n",
    "custom_ndarray\n",
    "custom_ndarray[0]\n",
    "custom_ndarray[0]['position']"
   ]
  },
  {
   "cell_type": "markdown",
   "metadata": {},
   "source": [
    "## 获取ndarray中出现次数最多的元素\n",
    "\n",
    "参考：https://stackoverflow.com/questions/12297016/how-to-find-most-frequent-values-in-numpy-ndarray"
   ]
  },
  {
   "cell_type": "markdown",
   "metadata": {},
   "source": [
    "### 1维"
   ]
  },
  {
   "cell_type": "code",
   "execution_count": 147,
   "metadata": {},
   "outputs": [
    {
     "data": {
      "text/plain": [
       "array([-6, -2, -1,  0,  1,  4,  5])"
      ]
     },
     "execution_count": 147,
     "metadata": {},
     "output_type": "execute_result"
    },
    {
     "data": {
      "text/plain": [
       "array([6, 5, 1, 4, 1, 3, 5, 5, 0, 2], dtype=int64)"
      ]
     },
     "execution_count": 147,
     "metadata": {},
     "output_type": "execute_result"
    },
    {
     "data": {
      "text/plain": [
       "array([1, 2, 1, 1, 1, 3, 1], dtype=int64)"
      ]
     },
     "execution_count": 147,
     "metadata": {},
     "output_type": "execute_result"
    },
    {
     "data": {
      "text/plain": [
       "4"
      ]
     },
     "execution_count": 147,
     "metadata": {},
     "output_type": "execute_result"
    }
   ],
   "source": [
    "arr = np.array([5, 4, -2, 1, -2, 0, 4, 4, -6, -1])\n",
    "u, indices = np.unique(arr, return_inverse=True)\n",
    "u\n",
    "indices\n",
    "\n",
    "count = np.bincount(indices)\n",
    "count\n",
    "\n",
    "u[np.argmax(count)]"
   ]
  },
  {
   "cell_type": "markdown",
   "metadata": {},
   "source": [
    "### 多维\n",
    "\n",
    "获取某一维度上出现次数最多的元素"
   ]
  },
  {
   "cell_type": "code",
   "execution_count": 148,
   "metadata": {
    "scrolled": false
   },
   "outputs": [
    {
     "data": {
      "text/plain": [
       "array([-6, -2, -1,  0,  1,  2,  3,  4,  5,  6,  7,  8])"
      ]
     },
     "execution_count": 148,
     "metadata": {},
     "output_type": "execute_result"
    },
    {
     "data": {
      "text/plain": [
       "array([ 8,  8,  8,  8,  1,  3,  7,  7,  0,  2,  3,  4,  4,  5,  6,  7,  8,\n",
       "        9, 10, 11], dtype=int64)"
      ]
     },
     "execution_count": 148,
     "metadata": {},
     "output_type": "execute_result"
    },
    {
     "data": {
      "text/plain": [
       "array([[1, 1, 1, 1, 0, 0, 0, 2, 4, 0, 0, 0],\n",
       "       [0, 0, 0, 1, 2, 1, 1, 1, 1, 1, 1, 1]], dtype=int64)"
      ]
     },
     "execution_count": 148,
     "metadata": {},
     "output_type": "execute_result"
    },
    {
     "data": {
      "text/plain": [
       "array([5, 1])"
      ]
     },
     "execution_count": 148,
     "metadata": {},
     "output_type": "execute_result"
    }
   ],
   "source": [
    "arr = np.array([[5, 5, 5, 5, -2, 0, 4, 4, -6, -1],\n",
    "                [0, 1,  1, 2,  3, 4, 5, 6,  7,  8]])\n",
    "\n",
    "u, indices = np.unique(arr, return_inverse=True)\n",
    "u\n",
    "indices\n",
    "\n",
    "\n",
    "# 这里需要指定 bincount 的 minlenghth\n",
    "counted = np.apply_along_axis(np.bincount, 1, indices.reshape(arr.shape),\n",
    "                              None, np.max(indices) + 1)\n",
    "counted\n",
    "\n",
    "u[np.argmax(counted, axis=1)]"
   ]
  },
  {
   "cell_type": "markdown",
   "metadata": {},
   "source": [
    "## ndarray转换为DataFrame（多维->2维）\n",
    "\n",
    "多维ndarray从数据结构上来说是比较高效的，但如果需要使用Pandas进行一些复杂的数据处理则有些麻烦，因为Pandas处理的数据本质是2-D的（虽然可以使用MultiIndex），此时需要将ndarray中多余的维度坍缩到2-D的DataFrame中。\n",
    "\n",
    "\n",
    "### 比较保守的转换\n",
    "\n",
    "现有维度为 (50, 100, 3) 的数据，第一维度对应时间t，第二维度对应个体ID，第三维度对应个体坐标 x,y,z。\n",
    "\n",
    "若使用Pandas进行处理，第一种转换方式是将ndarray转换为(5000, 5)的二维DataFrame，其中5000对应50x100，第二维度在x,y,z基础上增加两列t和ID，则列标签分别为t, ID, x, y, z."
   ]
  },
  {
   "cell_type": "code",
   "execution_count": 149,
   "metadata": {},
   "outputs": [
    {
     "data": {
      "text/plain": [
       "(50, 100, 3)"
      ]
     },
     "execution_count": 149,
     "metadata": {},
     "output_type": "execute_result"
    },
    {
     "data": {
      "text/plain": [
       "array([[[ 2.42442956e+02,  7.76911920e+01,  6.64777151e-01],\n",
       "        [ 2.61380074e+02,  2.01793185e+02,  2.94516922e+00],\n",
       "        [ 4.12767690e+02,  1.35482822e+02, -4.92483385e-01],\n",
       "        ...,\n",
       "        [ 4.10753164e+02,  2.02361917e+02, -1.47121999e-01],\n",
       "        [ 2.69633830e+02,  2.68148789e+02,  1.27458590e+00],\n",
       "        [ 3.30322105e+02,  1.75890005e+02, -7.97956043e-01]],\n",
       "\n",
       "       [[ 2.45365704e+02,  7.83676099e+01,  2.27428156e-01],\n",
       "        [ 2.58458717e+02,  2.02475590e+02,  2.91211536e+00],\n",
       "        [ 4.14913593e+02,  1.33386372e+02, -7.73741839e-01],\n",
       "        ...,\n",
       "        [ 4.11856535e+02,  1.99572191e+02, -1.19416454e+00],\n",
       "        [ 2.70467390e+02,  2.71030660e+02,  1.28923763e+00],\n",
       "        [ 3.32290845e+02,  1.73626366e+02, -8.54962584e-01]],\n",
       "\n",
       "       [[ 2.48239647e+02,  7.75071160e+01, -2.90917521e-01],\n",
       "        [ 2.55461149e+02,  2.02596349e+02, -3.18185644e+00],\n",
       "        [ 4.17462899e+02,  1.31804904e+02, -5.55250026e-01],\n",
       "        ...,\n",
       "        [ 4.09707081e+02,  1.97479383e+02, -2.36954656e+00],\n",
       "        [ 2.68405895e+02,  2.73210163e+02,  2.32837616e+00],\n",
       "        [ 3.33943130e+02,  1.71122378e+02, -9.87520127e-01]],\n",
       "\n",
       "       ...,\n",
       "\n",
       "       [[ 3.56975004e+02,  5.97239259e+00, -5.75102134e-01],\n",
       "        [ 1.30143542e+02,  1.64376675e+02, -2.87853593e+00],\n",
       "        [ 4.74988523e+02,  1.15517297e+01, -8.53119091e-01],\n",
       "        ...,\n",
       "        [ 4.27604192e+02,  8.84718553e+01, -7.13370919e-01],\n",
       "        [ 1.53469992e+02,  2.17281949e+02, -3.01382082e+00],\n",
       "        [ 3.95602341e+02,  5.33207351e+01, -9.52802521e-01]],\n",
       "\n",
       "       [[ 3.58316991e+02,  3.28928418e+00, -1.10701967e+00],\n",
       "        [ 1.27151855e+02,  1.64599848e+02, -3.21605251e+00],\n",
       "        [ 4.75983562e+02,  8.72155337e+00, -1.23271295e+00],\n",
       "        ...,\n",
       "        [ 4.29080172e+02,  8.58600584e+01, -1.05641846e+00],\n",
       "        [ 1.50495321e+02,  2.16892942e+02, -3.01155720e+00],\n",
       "        [ 3.97560036e+02,  5.10475365e+01, -8.59831857e-01]],\n",
       "\n",
       "       [[ 3.60269963e+02,  1.01202655e+00, -8.61907762e-01],\n",
       "        [ 1.24279619e+02,  1.63733672e+02, -2.84869734e+00],\n",
       "        [ 4.77039363e+02,  5.91347873e+00, -1.21116002e+00],\n",
       "        ...,\n",
       "        [ 4.31150993e+02,  8.36894137e+01, -8.08928892e-01],\n",
       "        [ 1.47569414e+02,  2.16230318e+02, -2.91888170e+00],\n",
       "        [ 3.99619625e+02,  4.88662316e+01, -8.14090703e-01]]])"
      ]
     },
     "execution_count": 149,
     "metadata": {},
     "output_type": "execute_result"
    }
   ],
   "source": [
    "data = np.load(\"data/sample.npy\")\n",
    "data.shape\n",
    "data"
   ]
  },
  {
   "cell_type": "code",
   "execution_count": 150,
   "metadata": {
    "scrolled": true
   },
   "outputs": [
    {
     "data": {
      "text/plain": [
       "MultiIndex(levels=[[0, 1, 2, 3, 4, 5, 6, 7, 8, 9, 10, 11, 12, 13, 14, 15, 16, 17, 18, 19, 20, 21, 22, 23, 24, 25, 26, 27, 28, 29, 30, 31, 32, 33, 34, 35, 36, 37, 38, 39, 40, 41, 42, 43, 44, 45, 46, 47, 48, 49], [0, 1, 2, 3, 4, 5, 6, 7, 8, 9, 10, 11, 12, 13, 14, 15, 16, 17, 18, 19, 20, 21, 22, 23, 24, 25, 26, 27, 28, 29, 30, 31, 32, 33, 34, 35, 36, 37, 38, 39, 40, 41, 42, 43, 44, 45, 46, 47, 48, 49, 50, 51, 52, 53, 54, 55, 56, 57, 58, 59, 60, 61, 62, 63, 64, 65, 66, 67, 68, 69, 70, 71, 72, 73, 74, 75, 76, 77, 78, 79, 80, 81, 82, 83, 84, 85, 86, 87, 88, 89, 90, 91, 92, 93, 94, 95, 96, 97, 98, 99]],\n",
       "           labels=[[0, 0, 0, 0, 0, 0, 0, 0, 0, 0, 0, 0, 0, 0, 0, 0, 0, 0, 0, 0, 0, 0, 0, 0, 0, 0, 0, 0, 0, 0, 0, 0, 0, 0, 0, 0, 0, 0, 0, 0, 0, 0, 0, 0, 0, 0, 0, 0, 0, 0, 0, 0, 0, 0, 0, 0, 0, 0, 0, 0, 0, 0, 0, 0, 0, 0, 0, 0, 0, 0, 0, 0, 0, 0, 0, 0, 0, 0, 0, 0, 0, 0, 0, 0, 0, 0, 0, 0, 0, 0, 0, 0, 0, 0, 0, 0, 0, 0, 0, 0, 1, 1, 1, 1, 1, 1, 1, 1, 1, 1, 1, 1, 1, 1, 1, 1, 1, 1, 1, 1, 1, 1, 1, 1, 1, 1, 1, 1, 1, 1, 1, 1, 1, 1, 1, 1, 1, 1, 1, 1, 1, 1, 1, 1, 1, 1, 1, 1, 1, 1, 1, 1, 1, 1, 1, 1, 1, 1, 1, 1, 1, 1, 1, 1, 1, 1, 1, 1, 1, 1, 1, 1, 1, 1, 1, 1, 1, 1, 1, 1, 1, 1, 1, 1, 1, 1, 1, 1, 1, 1, 1, 1, 1, 1, 1, 1, 1, 1, 1, 1, 2, 2, 2, 2, 2, 2, 2, 2, 2, 2, 2, 2, 2, 2, 2, 2, 2, 2, 2, 2, 2, 2, 2, 2, 2, 2, 2, 2, 2, 2, 2, 2, 2, 2, 2, 2, 2, 2, 2, 2, 2, 2, 2, 2, 2, 2, 2, 2, 2, 2, 2, 2, 2, 2, 2, 2, 2, 2, 2, 2, 2, 2, 2, 2, 2, 2, 2, 2, 2, 2, 2, 2, 2, 2, 2, 2, 2, 2, 2, 2, 2, 2, 2, 2, 2, 2, 2, 2, 2, 2, 2, 2, 2, 2, 2, 2, 2, 2, 2, 2, 3, 3, 3, 3, 3, 3, 3, 3, 3, 3, 3, 3, 3, 3, 3, 3, 3, 3, 3, 3, 3, 3, 3, 3, 3, 3, 3, 3, 3, 3, 3, 3, 3, 3, 3, 3, 3, 3, 3, 3, 3, 3, 3, 3, 3, 3, 3, 3, 3, 3, 3, 3, 3, 3, 3, 3, 3, 3, 3, 3, 3, 3, 3, 3, 3, 3, 3, 3, 3, 3, 3, 3, 3, 3, 3, 3, 3, 3, 3, 3, 3, 3, 3, 3, 3, 3, 3, 3, 3, 3, 3, 3, 3, 3, 3, 3, 3, 3, 3, 3, 4, 4, 4, 4, 4, 4, 4, 4, 4, 4, 4, 4, 4, 4, 4, 4, 4, 4, 4, 4, 4, 4, 4, 4, 4, 4, 4, 4, 4, 4, 4, 4, 4, 4, 4, 4, 4, 4, 4, 4, 4, 4, 4, 4, 4, 4, 4, 4, 4, 4, 4, 4, 4, 4, 4, 4, 4, 4, 4, 4, 4, 4, 4, 4, 4, 4, 4, 4, 4, 4, 4, 4, 4, 4, 4, 4, 4, 4, 4, 4, 4, 4, 4, 4, 4, 4, 4, 4, 4, 4, 4, 4, 4, 4, 4, 4, 4, 4, 4, 4, 5, 5, 5, 5, 5, 5, 5, 5, 5, 5, 5, 5, 5, 5, 5, 5, 5, 5, 5, 5, 5, 5, 5, 5, 5, 5, 5, 5, 5, 5, 5, 5, 5, 5, 5, 5, 5, 5, 5, 5, 5, 5, 5, 5, 5, 5, 5, 5, 5, 5, 5, 5, 5, 5, 5, 5, 5, 5, 5, 5, 5, 5, 5, 5, 5, 5, 5, 5, 5, 5, 5, 5, 5, 5, 5, 5, 5, 5, 5, 5, 5, 5, 5, 5, 5, 5, 5, 5, 5, 5, 5, 5, 5, 5, 5, 5, 5, 5, 5, 5, 6, 6, 6, 6, 6, 6, 6, 6, 6, 6, 6, 6, 6, 6, 6, 6, 6, 6, 6, 6, 6, 6, 6, 6, 6, 6, 6, 6, 6, 6, 6, 6, 6, 6, 6, 6, 6, 6, 6, 6, 6, 6, 6, 6, 6, 6, 6, 6, 6, 6, 6, 6, 6, 6, 6, 6, 6, 6, 6, 6, 6, 6, 6, 6, 6, 6, 6, 6, 6, 6, 6, 6, 6, 6, 6, 6, 6, 6, 6, 6, 6, 6, 6, 6, 6, 6, 6, 6, 6, 6, 6, 6, 6, 6, 6, 6, 6, 6, 6, 6, 7, 7, 7, 7, 7, 7, 7, 7, 7, 7, 7, 7, 7, 7, 7, 7, 7, 7, 7, 7, 7, 7, 7, 7, 7, 7, 7, 7, 7, 7, 7, 7, 7, 7, 7, 7, 7, 7, 7, 7, 7, 7, 7, 7, 7, 7, 7, 7, 7, 7, 7, 7, 7, 7, 7, 7, 7, 7, 7, 7, 7, 7, 7, 7, 7, 7, 7, 7, 7, 7, 7, 7, 7, 7, 7, 7, 7, 7, 7, 7, 7, 7, 7, 7, 7, 7, 7, 7, 7, 7, 7, 7, 7, 7, 7, 7, 7, 7, 7, 7, 8, 8, 8, 8, 8, 8, 8, 8, 8, 8, 8, 8, 8, 8, 8, 8, 8, 8, 8, 8, 8, 8, 8, 8, 8, 8, 8, 8, 8, 8, 8, 8, 8, 8, 8, 8, 8, 8, 8, 8, 8, 8, 8, 8, 8, 8, 8, 8, 8, 8, 8, 8, 8, 8, 8, 8, 8, 8, 8, 8, 8, 8, 8, 8, 8, 8, 8, 8, 8, 8, 8, 8, 8, 8, 8, 8, 8, 8, 8, 8, 8, 8, 8, 8, 8, 8, 8, 8, 8, 8, 8, 8, 8, 8, 8, 8, 8, 8, 8, 8, 9, 9, 9, 9, 9, 9, 9, 9, 9, 9, 9, 9, 9, 9, 9, 9, 9, 9, 9, 9, 9, 9, 9, 9, 9, 9, 9, 9, 9, 9, 9, 9, 9, 9, 9, 9, 9, 9, 9, 9, 9, 9, 9, 9, 9, 9, 9, 9, 9, 9, 9, 9, 9, 9, 9, 9, 9, 9, 9, 9, 9, 9, 9, 9, 9, 9, 9, 9, 9, 9, 9, 9, 9, 9, 9, 9, 9, 9, 9, 9, 9, 9, 9, 9, 9, 9, 9, 9, 9, 9, 9, 9, 9, 9, 9, 9, 9, 9, 9, 9, 10, 10, 10, 10, 10, 10, 10, 10, 10, 10, 10, 10, 10, 10, 10, 10, 10, 10, 10, 10, 10, 10, 10, 10, 10, 10, 10, 10, 10, 10, 10, 10, 10, 10, 10, 10, 10, 10, 10, 10, 10, 10, 10, 10, 10, 10, 10, 10, 10, 10, 10, 10, 10, 10, 10, 10, 10, 10, 10, 10, 10, 10, 10, 10, 10, 10, 10, 10, 10, 10, 10, 10, 10, 10, 10, 10, 10, 10, 10, 10, 10, 10, 10, 10, 10, 10, 10, 10, 10, 10, 10, 10, 10, 10, 10, 10, 10, 10, 10, 10, 11, 11, 11, 11, 11, 11, 11, 11, 11, 11, 11, 11, 11, 11, 11, 11, 11, 11, 11, 11, 11, 11, 11, 11, 11, 11, 11, 11, 11, 11, 11, 11, 11, 11, 11, 11, 11, 11, 11, 11, 11, 11, 11, 11, 11, 11, 11, 11, 11, 11, 11, 11, 11, 11, 11, 11, 11, 11, 11, 11, 11, 11, 11, 11, 11, 11, 11, 11, 11, 11, 11, 11, 11, 11, 11, 11, 11, 11, 11, 11, 11, 11, 11, 11, 11, 11, 11, 11, 11, 11, 11, 11, 11, 11, 11, 11, 11, 11, 11, 11, 12, 12, 12, 12, 12, 12, 12, 12, 12, 12, 12, 12, 12, 12, 12, 12, 12, 12, 12, 12, 12, 12, 12, 12, 12, 12, 12, 12, 12, 12, 12, 12, 12, 12, 12, 12, 12, 12, 12, 12, 12, 12, 12, 12, 12, 12, 12, 12, 12, 12, 12, 12, 12, 12, 12, 12, 12, 12, 12, 12, 12, 12, 12, 12, 12, 12, 12, 12, 12, 12, 12, 12, 12, 12, 12, 12, 12, 12, 12, 12, 12, 12, 12, 12, 12, 12, 12, 12, 12, 12, 12, 12, 12, 12, 12, 12, 12, 12, 12, 12, 13, 13, 13, 13, 13, 13, 13, 13, 13, 13, 13, 13, 13, 13, 13, 13, 13, 13, 13, 13, 13, 13, 13, 13, 13, 13, 13, 13, 13, 13, 13, 13, 13, 13, 13, 13, 13, 13, 13, 13, 13, 13, 13, 13, 13, 13, 13, 13, 13, 13, 13, 13, 13, 13, 13, 13, 13, 13, 13, 13, 13, 13, 13, 13, 13, 13, 13, 13, 13, 13, 13, 13, 13, 13, 13, 13, 13, 13, 13, 13, 13, 13, 13, 13, 13, 13, 13, 13, 13, 13, 13, 13, 13, 13, 13, 13, 13, 13, 13, 13, 14, 14, 14, 14, 14, 14, 14, 14, 14, 14, 14, 14, 14, 14, 14, 14, 14, 14, 14, 14, 14, 14, 14, 14, 14, 14, 14, 14, 14, 14, 14, 14, 14, 14, 14, 14, 14, 14, 14, 14, 14, 14, 14, 14, 14, 14, 14, 14, 14, 14, 14, 14, 14, 14, 14, 14, 14, 14, 14, 14, 14, 14, 14, 14, 14, 14, 14, 14, 14, 14, 14, 14, 14, 14, 14, 14, 14, 14, 14, 14, 14, 14, 14, 14, 14, 14, 14, 14, 14, 14, 14, 14, 14, 14, 14, 14, 14, 14, 14, 14, 15, 15, 15, 15, 15, 15, 15, 15, 15, 15, 15, 15, 15, 15, 15, 15, 15, 15, 15, 15, 15, 15, 15, 15, 15, 15, 15, 15, 15, 15, 15, 15, 15, 15, 15, 15, 15, 15, 15, 15, 15, 15, 15, 15, 15, 15, 15, 15, 15, 15, 15, 15, 15, 15, 15, 15, 15, 15, 15, 15, 15, 15, 15, 15, 15, 15, 15, 15, 15, 15, 15, 15, 15, 15, 15, 15, 15, 15, 15, 15, 15, 15, 15, 15, 15, 15, 15, 15, 15, 15, 15, 15, 15, 15, 15, 15, 15, 15, 15, 15, 16, 16, 16, 16, 16, 16, 16, 16, 16, 16, 16, 16, 16, 16, 16, 16, 16, 16, 16, 16, 16, 16, 16, 16, 16, 16, 16, 16, 16, 16, 16, 16, 16, 16, 16, 16, 16, 16, 16, 16, 16, 16, 16, 16, 16, 16, 16, 16, 16, 16, 16, 16, 16, 16, 16, 16, 16, 16, 16, 16, 16, 16, 16, 16, 16, 16, 16, 16, 16, 16, 16, 16, 16, 16, 16, 16, 16, 16, 16, 16, 16, 16, 16, 16, 16, 16, 16, 16, 16, 16, 16, 16, 16, 16, 16, 16, 16, 16, 16, 16, 17, 17, 17, 17, 17, 17, 17, 17, 17, 17, 17, 17, 17, 17, 17, 17, 17, 17, 17, 17, 17, 17, 17, 17, 17, 17, 17, 17, 17, 17, 17, 17, 17, 17, 17, 17, 17, 17, 17, 17, 17, 17, 17, 17, 17, 17, 17, 17, 17, 17, 17, 17, 17, 17, 17, 17, 17, 17, 17, 17, 17, 17, 17, 17, 17, 17, 17, 17, 17, 17, 17, 17, 17, 17, 17, 17, 17, 17, 17, 17, 17, 17, 17, 17, 17, 17, 17, 17, 17, 17, 17, 17, 17, 17, 17, 17, 17, 17, 17, 17, 18, 18, 18, 18, 18, 18, 18, 18, 18, 18, 18, 18, 18, 18, 18, 18, 18, 18, 18, 18, 18, 18, 18, 18, 18, 18, 18, 18, 18, 18, 18, 18, 18, 18, 18, 18, 18, 18, 18, 18, 18, 18, 18, 18, 18, 18, 18, 18, 18, 18, 18, 18, 18, 18, 18, 18, 18, 18, 18, 18, 18, 18, 18, 18, 18, 18, 18, 18, 18, 18, 18, 18, 18, 18, 18, 18, 18, 18, 18, 18, 18, 18, 18, 18, 18, 18, 18, 18, 18, 18, 18, 18, 18, 18, 18, 18, 18, 18, 18, 18, 19, 19, 19, 19, 19, 19, 19, 19, 19, 19, 19, 19, 19, 19, 19, 19, 19, 19, 19, 19, 19, 19, 19, 19, 19, 19, 19, 19, 19, 19, 19, 19, 19, 19, 19, 19, 19, 19, 19, 19, 19, 19, 19, 19, 19, 19, 19, 19, 19, 19, 19, 19, 19, 19, 19, 19, 19, 19, 19, 19, 19, 19, 19, 19, 19, 19, 19, 19, 19, 19, 19, 19, 19, 19, 19, 19, 19, 19, 19, 19, 19, 19, 19, 19, 19, 19, 19, 19, 19, 19, 19, 19, 19, 19, 19, 19, 19, 19, 19, 19, 20, 20, 20, 20, 20, 20, 20, 20, 20, 20, 20, 20, 20, 20, 20, 20, 20, 20, 20, 20, 20, 20, 20, 20, 20, 20, 20, 20, 20, 20, 20, 20, 20, 20, 20, 20, 20, 20, 20, 20, 20, 20, 20, 20, 20, 20, 20, 20, 20, 20, 20, 20, 20, 20, 20, 20, 20, 20, 20, 20, 20, 20, 20, 20, 20, 20, 20, 20, 20, 20, 20, 20, 20, 20, 20, 20, 20, 20, 20, 20, 20, 20, 20, 20, 20, 20, 20, 20, 20, 20, 20, 20, 20, 20, 20, 20, 20, 20, 20, 20, 21, 21, 21, 21, 21, 21, 21, 21, 21, 21, 21, 21, 21, 21, 21, 21, 21, 21, 21, 21, 21, 21, 21, 21, 21, 21, 21, 21, 21, 21, 21, 21, 21, 21, 21, 21, 21, 21, 21, 21, 21, 21, 21, 21, 21, 21, 21, 21, 21, 21, 21, 21, 21, 21, 21, 21, 21, 21, 21, 21, 21, 21, 21, 21, 21, 21, 21, 21, 21, 21, 21, 21, 21, 21, 21, 21, 21, 21, 21, 21, 21, 21, 21, 21, 21, 21, 21, 21, 21, 21, 21, 21, 21, 21, 21, 21, 21, 21, 21, 21, 22, 22, 22, 22, 22, 22, 22, 22, 22, 22, 22, 22, 22, 22, 22, 22, 22, 22, 22, 22, 22, 22, 22, 22, 22, 22, 22, 22, 22, 22, 22, 22, 22, 22, 22, 22, 22, 22, 22, 22, 22, 22, 22, 22, 22, 22, 22, 22, 22, 22, 22, 22, 22, 22, 22, 22, 22, 22, 22, 22, 22, 22, 22, 22, 22, 22, 22, 22, 22, 22, 22, 22, 22, 22, 22, 22, 22, 22, 22, 22, 22, 22, 22, 22, 22, 22, 22, 22, 22, 22, 22, 22, 22, 22, 22, 22, 22, 22, 22, 22, 23, 23, 23, 23, 23, 23, 23, 23, 23, 23, 23, 23, 23, 23, 23, 23, 23, 23, 23, 23, 23, 23, 23, 23, 23, 23, 23, 23, 23, 23, 23, 23, 23, 23, 23, 23, 23, 23, 23, 23, 23, 23, 23, 23, 23, 23, 23, 23, 23, 23, 23, 23, 23, 23, 23, 23, 23, 23, 23, 23, 23, 23, 23, 23, 23, 23, 23, 23, 23, 23, 23, 23, 23, 23, 23, 23, 23, 23, 23, 23, 23, 23, 23, 23, 23, 23, 23, 23, 23, 23, 23, 23, 23, 23, 23, 23, 23, 23, 23, 23, 24, 24, 24, 24, 24, 24, 24, 24, 24, 24, 24, 24, 24, 24, 24, 24, 24, 24, 24, 24, 24, 24, 24, 24, 24, 24, 24, 24, 24, 24, 24, 24, 24, 24, 24, 24, 24, 24, 24, 24, 24, 24, 24, 24, 24, 24, 24, 24, 24, 24, 24, 24, 24, 24, 24, 24, 24, 24, 24, 24, 24, 24, 24, 24, 24, 24, 24, 24, 24, 24, 24, 24, 24, 24, 24, 24, 24, 24, 24, 24, 24, 24, 24, 24, 24, 24, 24, 24, 24, 24, 24, 24, 24, 24, 24, 24, 24, 24, 24, 24, 25, 25, 25, 25, 25, 25, 25, 25, 25, 25, 25, 25, 25, 25, 25, 25, 25, 25, 25, 25, 25, 25, 25, 25, 25, 25, 25, 25, 25, 25, 25, 25, 25, 25, 25, 25, 25, 25, 25, 25, 25, 25, 25, 25, 25, 25, 25, 25, 25, 25, 25, 25, 25, 25, 25, 25, 25, 25, 25, 25, 25, 25, 25, 25, 25, 25, 25, 25, 25, 25, 25, 25, 25, 25, 25, 25, 25, 25, 25, 25, 25, 25, 25, 25, 25, 25, 25, 25, 25, 25, 25, 25, 25, 25, 25, 25, 25, 25, 25, 25, 26, 26, 26, 26, 26, 26, 26, 26, 26, 26, 26, 26, 26, 26, 26, 26, 26, 26, 26, 26, 26, 26, 26, 26, 26, 26, 26, 26, 26, 26, 26, 26, 26, 26, 26, 26, 26, 26, 26, 26, 26, 26, 26, 26, 26, 26, 26, 26, 26, 26, 26, 26, 26, 26, 26, 26, 26, 26, 26, 26, 26, 26, 26, 26, 26, 26, 26, 26, 26, 26, 26, 26, 26, 26, 26, 26, 26, 26, 26, 26, 26, 26, 26, 26, 26, 26, 26, 26, 26, 26, 26, 26, 26, 26, 26, 26, 26, 26, 26, 26, 27, 27, 27, 27, 27, 27, 27, 27, 27, 27, 27, 27, 27, 27, 27, 27, 27, 27, 27, 27, 27, 27, 27, 27, 27, 27, 27, 27, 27, 27, 27, 27, 27, 27, 27, 27, 27, 27, 27, 27, 27, 27, 27, 27, 27, 27, 27, 27, 27, 27, 27, 27, 27, 27, 27, 27, 27, 27, 27, 27, 27, 27, 27, 27, 27, 27, 27, 27, 27, 27, 27, 27, 27, 27, 27, 27, 27, 27, 27, 27, 27, 27, 27, 27, 27, 27, 27, 27, 27, 27, 27, 27, 27, 27, 27, 27, 27, 27, 27, 27, 28, 28, 28, 28, 28, 28, 28, 28, 28, 28, 28, 28, 28, 28, 28, 28, 28, 28, 28, 28, 28, 28, 28, 28, 28, 28, 28, 28, 28, 28, 28, 28, 28, 28, 28, 28, 28, 28, 28, 28, 28, 28, 28, 28, 28, 28, 28, 28, 28, 28, 28, 28, 28, 28, 28, 28, 28, 28, 28, 28, 28, 28, 28, 28, 28, 28, 28, 28, 28, 28, 28, 28, 28, 28, 28, 28, 28, 28, 28, 28, 28, 28, 28, 28, 28, 28, 28, 28, 28, 28, 28, 28, 28, 28, 28, 28, 28, 28, 28, 28, 29, 29, 29, 29, 29, 29, 29, 29, 29, 29, 29, 29, 29, 29, 29, 29, 29, 29, 29, 29, 29, 29, 29, 29, 29, 29, 29, 29, 29, 29, 29, 29, 29, 29, 29, 29, 29, 29, 29, 29, 29, 29, 29, 29, 29, 29, 29, 29, 29, 29, 29, 29, 29, 29, 29, 29, 29, 29, 29, 29, 29, 29, 29, 29, 29, 29, 29, 29, 29, 29, 29, 29, 29, 29, 29, 29, 29, 29, 29, 29, 29, 29, 29, 29, 29, 29, 29, 29, 29, 29, 29, 29, 29, 29, 29, 29, 29, 29, 29, 29, 30, 30, 30, 30, 30, 30, 30, 30, 30, 30, 30, 30, 30, 30, 30, 30, 30, 30, 30, 30, 30, 30, 30, 30, 30, 30, 30, 30, 30, 30, 30, 30, 30, 30, 30, 30, 30, 30, 30, 30, 30, 30, 30, 30, 30, 30, 30, 30, 30, 30, 30, 30, 30, 30, 30, 30, 30, 30, 30, 30, 30, 30, 30, 30, 30, 30, 30, 30, 30, 30, 30, 30, 30, 30, 30, 30, 30, 30, 30, 30, 30, 30, 30, 30, 30, 30, 30, 30, 30, 30, 30, 30, 30, 30, 30, 30, 30, 30, 30, 30, 31, 31, 31, 31, 31, 31, 31, 31, 31, 31, 31, 31, 31, 31, 31, 31, 31, 31, 31, 31, 31, 31, 31, 31, 31, 31, 31, 31, 31, 31, 31, 31, 31, 31, 31, 31, 31, 31, 31, 31, 31, 31, 31, 31, 31, 31, 31, 31, 31, 31, 31, 31, 31, 31, 31, 31, 31, 31, 31, 31, 31, 31, 31, 31, 31, 31, 31, 31, 31, 31, 31, 31, 31, 31, 31, 31, 31, 31, 31, 31, 31, 31, 31, 31, 31, 31, 31, 31, 31, 31, 31, 31, 31, 31, 31, 31, 31, 31, 31, 31, 32, 32, 32, 32, 32, 32, 32, 32, 32, 32, 32, 32, 32, 32, 32, 32, 32, 32, 32, 32, 32, 32, 32, 32, 32, 32, 32, 32, 32, 32, 32, 32, 32, 32, 32, 32, 32, 32, 32, 32, 32, 32, 32, 32, 32, 32, 32, 32, 32, 32, 32, 32, 32, 32, 32, 32, 32, 32, 32, 32, 32, 32, 32, 32, 32, 32, 32, 32, 32, 32, 32, 32, 32, 32, 32, 32, 32, 32, 32, 32, 32, 32, 32, 32, 32, 32, 32, 32, 32, 32, 32, 32, 32, 32, 32, 32, 32, 32, 32, 32, 33, 33, 33, 33, 33, 33, 33, 33, 33, 33, 33, 33, 33, 33, 33, 33, 33, 33, 33, 33, 33, 33, 33, 33, 33, 33, 33, 33, 33, 33, 33, 33, 33, 33, 33, 33, 33, 33, 33, 33, 33, 33, 33, 33, 33, 33, 33, 33, 33, 33, 33, 33, 33, 33, 33, 33, 33, 33, 33, 33, 33, 33, 33, 33, 33, 33, 33, 33, 33, 33, 33, 33, 33, 33, 33, 33, 33, 33, 33, 33, 33, 33, 33, 33, 33, 33, 33, 33, 33, 33, 33, 33, 33, 33, 33, 33, 33, 33, 33, 33, 34, 34, 34, 34, 34, 34, 34, 34, 34, 34, 34, 34, 34, 34, 34, 34, 34, 34, 34, 34, 34, 34, 34, 34, 34, 34, 34, 34, 34, 34, 34, 34, 34, 34, 34, 34, 34, 34, 34, 34, 34, 34, 34, 34, 34, 34, 34, 34, 34, 34, 34, 34, 34, 34, 34, 34, 34, 34, 34, 34, 34, 34, 34, 34, 34, 34, 34, 34, 34, 34, 34, 34, 34, 34, 34, 34, 34, 34, 34, 34, 34, 34, 34, 34, 34, 34, 34, 34, 34, 34, 34, 34, 34, 34, 34, 34, 34, 34, 34, 34, 35, 35, 35, 35, 35, 35, 35, 35, 35, 35, 35, 35, 35, 35, 35, 35, 35, 35, 35, 35, 35, 35, 35, 35, 35, 35, 35, 35, 35, 35, 35, 35, 35, 35, 35, 35, 35, 35, 35, 35, 35, 35, 35, 35, 35, 35, 35, 35, 35, 35, 35, 35, 35, 35, 35, 35, 35, 35, 35, 35, 35, 35, 35, 35, 35, 35, 35, 35, 35, 35, 35, 35, 35, 35, 35, 35, 35, 35, 35, 35, 35, 35, 35, 35, 35, 35, 35, 35, 35, 35, 35, 35, 35, 35, 35, 35, 35, 35, 35, 35, 36, 36, 36, 36, 36, 36, 36, 36, 36, 36, 36, 36, 36, 36, 36, 36, 36, 36, 36, 36, 36, 36, 36, 36, 36, 36, 36, 36, 36, 36, 36, 36, 36, 36, 36, 36, 36, 36, 36, 36, 36, 36, 36, 36, 36, 36, 36, 36, 36, 36, 36, 36, 36, 36, 36, 36, 36, 36, 36, 36, 36, 36, 36, 36, 36, 36, 36, 36, 36, 36, 36, 36, 36, 36, 36, 36, 36, 36, 36, 36, 36, 36, 36, 36, 36, 36, 36, 36, 36, 36, 36, 36, 36, 36, 36, 36, 36, 36, 36, 36, 37, 37, 37, 37, 37, 37, 37, 37, 37, 37, 37, 37, 37, 37, 37, 37, 37, 37, 37, 37, 37, 37, 37, 37, 37, 37, 37, 37, 37, 37, 37, 37, 37, 37, 37, 37, 37, 37, 37, 37, 37, 37, 37, 37, 37, 37, 37, 37, 37, 37, 37, 37, 37, 37, 37, 37, 37, 37, 37, 37, 37, 37, 37, 37, 37, 37, 37, 37, 37, 37, 37, 37, 37, 37, 37, 37, 37, 37, 37, 37, 37, 37, 37, 37, 37, 37, 37, 37, 37, 37, 37, 37, 37, 37, 37, 37, 37, 37, 37, 37, 38, 38, 38, 38, 38, 38, 38, 38, 38, 38, 38, 38, 38, 38, 38, 38, 38, 38, 38, 38, 38, 38, 38, 38, 38, 38, 38, 38, 38, 38, 38, 38, 38, 38, 38, 38, 38, 38, 38, 38, 38, 38, 38, 38, 38, 38, 38, 38, 38, 38, 38, 38, 38, 38, 38, 38, 38, 38, 38, 38, 38, 38, 38, 38, 38, 38, 38, 38, 38, 38, 38, 38, 38, 38, 38, 38, 38, 38, 38, 38, 38, 38, 38, 38, 38, 38, 38, 38, 38, 38, 38, 38, 38, 38, 38, 38, 38, 38, 38, 38, 39, 39, 39, 39, 39, 39, 39, 39, 39, 39, 39, 39, 39, 39, 39, 39, 39, 39, 39, 39, 39, 39, 39, 39, 39, 39, 39, 39, 39, 39, 39, 39, 39, 39, 39, 39, 39, 39, 39, 39, 39, 39, 39, 39, 39, 39, 39, 39, 39, 39, 39, 39, 39, 39, 39, 39, 39, 39, 39, 39, 39, 39, 39, 39, 39, 39, 39, 39, 39, 39, 39, 39, 39, 39, 39, 39, 39, 39, 39, 39, 39, 39, 39, 39, 39, 39, 39, 39, 39, 39, 39, 39, 39, 39, 39, 39, 39, 39, 39, 39, 40, 40, 40, 40, 40, 40, 40, 40, 40, 40, 40, 40, 40, 40, 40, 40, 40, 40, 40, 40, 40, 40, 40, 40, 40, 40, 40, 40, 40, 40, 40, 40, 40, 40, 40, 40, 40, 40, 40, 40, 40, 40, 40, 40, 40, 40, 40, 40, 40, 40, 40, 40, 40, 40, 40, 40, 40, 40, 40, 40, 40, 40, 40, 40, 40, 40, 40, 40, 40, 40, 40, 40, 40, 40, 40, 40, 40, 40, 40, 40, 40, 40, 40, 40, 40, 40, 40, 40, 40, 40, 40, 40, 40, 40, 40, 40, 40, 40, 40, 40, 41, 41, 41, 41, 41, 41, 41, 41, 41, 41, 41, 41, 41, 41, 41, 41, 41, 41, 41, 41, 41, 41, 41, 41, 41, 41, 41, 41, 41, 41, 41, 41, 41, 41, 41, 41, 41, 41, 41, 41, 41, 41, 41, 41, 41, 41, 41, 41, 41, 41, 41, 41, 41, 41, 41, 41, 41, 41, 41, 41, 41, 41, 41, 41, 41, 41, 41, 41, 41, 41, 41, 41, 41, 41, 41, 41, 41, 41, 41, 41, 41, 41, 41, 41, 41, 41, 41, 41, 41, 41, 41, 41, 41, 41, 41, 41, 41, 41, 41, 41, 42, 42, 42, 42, 42, 42, 42, 42, 42, 42, 42, 42, 42, 42, 42, 42, 42, 42, 42, 42, 42, 42, 42, 42, 42, 42, 42, 42, 42, 42, 42, 42, 42, 42, 42, 42, 42, 42, 42, 42, 42, 42, 42, 42, 42, 42, 42, 42, 42, 42, 42, 42, 42, 42, 42, 42, 42, 42, 42, 42, 42, 42, 42, 42, 42, 42, 42, 42, 42, 42, 42, 42, 42, 42, 42, 42, 42, 42, 42, 42, 42, 42, 42, 42, 42, 42, 42, 42, 42, 42, 42, 42, 42, 42, 42, 42, 42, 42, 42, 42, 43, 43, 43, 43, 43, 43, 43, 43, 43, 43, 43, 43, 43, 43, 43, 43, 43, 43, 43, 43, 43, 43, 43, 43, 43, 43, 43, 43, 43, 43, 43, 43, 43, 43, 43, 43, 43, 43, 43, 43, 43, 43, 43, 43, 43, 43, 43, 43, 43, 43, 43, 43, 43, 43, 43, 43, 43, 43, 43, 43, 43, 43, 43, 43, 43, 43, 43, 43, 43, 43, 43, 43, 43, 43, 43, 43, 43, 43, 43, 43, 43, 43, 43, 43, 43, 43, 43, 43, 43, 43, 43, 43, 43, 43, 43, 43, 43, 43, 43, 43, 44, 44, 44, 44, 44, 44, 44, 44, 44, 44, 44, 44, 44, 44, 44, 44, 44, 44, 44, 44, 44, 44, 44, 44, 44, 44, 44, 44, 44, 44, 44, 44, 44, 44, 44, 44, 44, 44, 44, 44, 44, 44, 44, 44, 44, 44, 44, 44, 44, 44, 44, 44, 44, 44, 44, 44, 44, 44, 44, 44, 44, 44, 44, 44, 44, 44, 44, 44, 44, 44, 44, 44, 44, 44, 44, 44, 44, 44, 44, 44, 44, 44, 44, 44, 44, 44, 44, 44, 44, 44, 44, 44, 44, 44, 44, 44, 44, 44, 44, 44, 45, 45, 45, 45, 45, 45, 45, 45, 45, 45, 45, 45, 45, 45, 45, 45, 45, 45, 45, 45, 45, 45, 45, 45, 45, 45, 45, 45, 45, 45, 45, 45, 45, 45, 45, 45, 45, 45, 45, 45, 45, 45, 45, 45, 45, 45, 45, 45, 45, 45, 45, 45, 45, 45, 45, 45, 45, 45, 45, 45, 45, 45, 45, 45, 45, 45, 45, 45, 45, 45, 45, 45, 45, 45, 45, 45, 45, 45, 45, 45, 45, 45, 45, 45, 45, 45, 45, 45, 45, 45, 45, 45, 45, 45, 45, 45, 45, 45, 45, 45, 46, 46, 46, 46, 46, 46, 46, 46, 46, 46, 46, 46, 46, 46, 46, 46, 46, 46, 46, 46, 46, 46, 46, 46, 46, 46, 46, 46, 46, 46, 46, 46, 46, 46, 46, 46, 46, 46, 46, 46, 46, 46, 46, 46, 46, 46, 46, 46, 46, 46, 46, 46, 46, 46, 46, 46, 46, 46, 46, 46, 46, 46, 46, 46, 46, 46, 46, 46, 46, 46, 46, 46, 46, 46, 46, 46, 46, 46, 46, 46, 46, 46, 46, 46, 46, 46, 46, 46, 46, 46, 46, 46, 46, 46, 46, 46, 46, 46, 46, 46, 47, 47, 47, 47, 47, 47, 47, 47, 47, 47, 47, 47, 47, 47, 47, 47, 47, 47, 47, 47, 47, 47, 47, 47, 47, 47, 47, 47, 47, 47, 47, 47, 47, 47, 47, 47, 47, 47, 47, 47, 47, 47, 47, 47, 47, 47, 47, 47, 47, 47, 47, 47, 47, 47, 47, 47, 47, 47, 47, 47, 47, 47, 47, 47, 47, 47, 47, 47, 47, 47, 47, 47, 47, 47, 47, 47, 47, 47, 47, 47, 47, 47, 47, 47, 47, 47, 47, 47, 47, 47, 47, 47, 47, 47, 47, 47, 47, 47, 47, 47, 48, 48, 48, 48, 48, 48, 48, 48, 48, 48, 48, 48, 48, 48, 48, 48, 48, 48, 48, 48, 48, 48, 48, 48, 48, 48, 48, 48, 48, 48, 48, 48, 48, 48, 48, 48, 48, 48, 48, 48, 48, 48, 48, 48, 48, 48, 48, 48, 48, 48, 48, 48, 48, 48, 48, 48, 48, 48, 48, 48, 48, 48, 48, 48, 48, 48, 48, 48, 48, 48, 48, 48, 48, 48, 48, 48, 48, 48, 48, 48, 48, 48, 48, 48, 48, 48, 48, 48, 48, 48, 48, 48, 48, 48, 48, 48, 48, 48, 48, 48, 49, 49, 49, 49, 49, 49, 49, 49, 49, 49, 49, 49, 49, 49, 49, 49, 49, 49, 49, 49, 49, 49, 49, 49, 49, 49, 49, 49, 49, 49, 49, 49, 49, 49, 49, 49, 49, 49, 49, 49, 49, 49, 49, 49, 49, 49, 49, 49, 49, 49, 49, 49, 49, 49, 49, 49, 49, 49, 49, 49, 49, 49, 49, 49, 49, 49, 49, 49, 49, 49, 49, 49, 49, 49, 49, 49, 49, 49, 49, 49, 49, 49, 49, 49, 49, 49, 49, 49, 49, 49, 49, 49, 49, 49, 49, 49, 49, 49, 49, 49], [0, 1, 2, 3, 4, 5, 6, 7, 8, 9, 10, 11, 12, 13, 14, 15, 16, 17, 18, 19, 20, 21, 22, 23, 24, 25, 26, 27, 28, 29, 30, 31, 32, 33, 34, 35, 36, 37, 38, 39, 40, 41, 42, 43, 44, 45, 46, 47, 48, 49, 50, 51, 52, 53, 54, 55, 56, 57, 58, 59, 60, 61, 62, 63, 64, 65, 66, 67, 68, 69, 70, 71, 72, 73, 74, 75, 76, 77, 78, 79, 80, 81, 82, 83, 84, 85, 86, 87, 88, 89, 90, 91, 92, 93, 94, 95, 96, 97, 98, 99, 0, 1, 2, 3, 4, 5, 6, 7, 8, 9, 10, 11, 12, 13, 14, 15, 16, 17, 18, 19, 20, 21, 22, 23, 24, 25, 26, 27, 28, 29, 30, 31, 32, 33, 34, 35, 36, 37, 38, 39, 40, 41, 42, 43, 44, 45, 46, 47, 48, 49, 50, 51, 52, 53, 54, 55, 56, 57, 58, 59, 60, 61, 62, 63, 64, 65, 66, 67, 68, 69, 70, 71, 72, 73, 74, 75, 76, 77, 78, 79, 80, 81, 82, 83, 84, 85, 86, 87, 88, 89, 90, 91, 92, 93, 94, 95, 96, 97, 98, 99, 0, 1, 2, 3, 4, 5, 6, 7, 8, 9, 10, 11, 12, 13, 14, 15, 16, 17, 18, 19, 20, 21, 22, 23, 24, 25, 26, 27, 28, 29, 30, 31, 32, 33, 34, 35, 36, 37, 38, 39, 40, 41, 42, 43, 44, 45, 46, 47, 48, 49, 50, 51, 52, 53, 54, 55, 56, 57, 58, 59, 60, 61, 62, 63, 64, 65, 66, 67, 68, 69, 70, 71, 72, 73, 74, 75, 76, 77, 78, 79, 80, 81, 82, 83, 84, 85, 86, 87, 88, 89, 90, 91, 92, 93, 94, 95, 96, 97, 98, 99, 0, 1, 2, 3, 4, 5, 6, 7, 8, 9, 10, 11, 12, 13, 14, 15, 16, 17, 18, 19, 20, 21, 22, 23, 24, 25, 26, 27, 28, 29, 30, 31, 32, 33, 34, 35, 36, 37, 38, 39, 40, 41, 42, 43, 44, 45, 46, 47, 48, 49, 50, 51, 52, 53, 54, 55, 56, 57, 58, 59, 60, 61, 62, 63, 64, 65, 66, 67, 68, 69, 70, 71, 72, 73, 74, 75, 76, 77, 78, 79, 80, 81, 82, 83, 84, 85, 86, 87, 88, 89, 90, 91, 92, 93, 94, 95, 96, 97, 98, 99, 0, 1, 2, 3, 4, 5, 6, 7, 8, 9, 10, 11, 12, 13, 14, 15, 16, 17, 18, 19, 20, 21, 22, 23, 24, 25, 26, 27, 28, 29, 30, 31, 32, 33, 34, 35, 36, 37, 38, 39, 40, 41, 42, 43, 44, 45, 46, 47, 48, 49, 50, 51, 52, 53, 54, 55, 56, 57, 58, 59, 60, 61, 62, 63, 64, 65, 66, 67, 68, 69, 70, 71, 72, 73, 74, 75, 76, 77, 78, 79, 80, 81, 82, 83, 84, 85, 86, 87, 88, 89, 90, 91, 92, 93, 94, 95, 96, 97, 98, 99, 0, 1, 2, 3, 4, 5, 6, 7, 8, 9, 10, 11, 12, 13, 14, 15, 16, 17, 18, 19, 20, 21, 22, 23, 24, 25, 26, 27, 28, 29, 30, 31, 32, 33, 34, 35, 36, 37, 38, 39, 40, 41, 42, 43, 44, 45, 46, 47, 48, 49, 50, 51, 52, 53, 54, 55, 56, 57, 58, 59, 60, 61, 62, 63, 64, 65, 66, 67, 68, 69, 70, 71, 72, 73, 74, 75, 76, 77, 78, 79, 80, 81, 82, 83, 84, 85, 86, 87, 88, 89, 90, 91, 92, 93, 94, 95, 96, 97, 98, 99, 0, 1, 2, 3, 4, 5, 6, 7, 8, 9, 10, 11, 12, 13, 14, 15, 16, 17, 18, 19, 20, 21, 22, 23, 24, 25, 26, 27, 28, 29, 30, 31, 32, 33, 34, 35, 36, 37, 38, 39, 40, 41, 42, 43, 44, 45, 46, 47, 48, 49, 50, 51, 52, 53, 54, 55, 56, 57, 58, 59, 60, 61, 62, 63, 64, 65, 66, 67, 68, 69, 70, 71, 72, 73, 74, 75, 76, 77, 78, 79, 80, 81, 82, 83, 84, 85, 86, 87, 88, 89, 90, 91, 92, 93, 94, 95, 96, 97, 98, 99, 0, 1, 2, 3, 4, 5, 6, 7, 8, 9, 10, 11, 12, 13, 14, 15, 16, 17, 18, 19, 20, 21, 22, 23, 24, 25, 26, 27, 28, 29, 30, 31, 32, 33, 34, 35, 36, 37, 38, 39, 40, 41, 42, 43, 44, 45, 46, 47, 48, 49, 50, 51, 52, 53, 54, 55, 56, 57, 58, 59, 60, 61, 62, 63, 64, 65, 66, 67, 68, 69, 70, 71, 72, 73, 74, 75, 76, 77, 78, 79, 80, 81, 82, 83, 84, 85, 86, 87, 88, 89, 90, 91, 92, 93, 94, 95, 96, 97, 98, 99, 0, 1, 2, 3, 4, 5, 6, 7, 8, 9, 10, 11, 12, 13, 14, 15, 16, 17, 18, 19, 20, 21, 22, 23, 24, 25, 26, 27, 28, 29, 30, 31, 32, 33, 34, 35, 36, 37, 38, 39, 40, 41, 42, 43, 44, 45, 46, 47, 48, 49, 50, 51, 52, 53, 54, 55, 56, 57, 58, 59, 60, 61, 62, 63, 64, 65, 66, 67, 68, 69, 70, 71, 72, 73, 74, 75, 76, 77, 78, 79, 80, 81, 82, 83, 84, 85, 86, 87, 88, 89, 90, 91, 92, 93, 94, 95, 96, 97, 98, 99, 0, 1, 2, 3, 4, 5, 6, 7, 8, 9, 10, 11, 12, 13, 14, 15, 16, 17, 18, 19, 20, 21, 22, 23, 24, 25, 26, 27, 28, 29, 30, 31, 32, 33, 34, 35, 36, 37, 38, 39, 40, 41, 42, 43, 44, 45, 46, 47, 48, 49, 50, 51, 52, 53, 54, 55, 56, 57, 58, 59, 60, 61, 62, 63, 64, 65, 66, 67, 68, 69, 70, 71, 72, 73, 74, 75, 76, 77, 78, 79, 80, 81, 82, 83, 84, 85, 86, 87, 88, 89, 90, 91, 92, 93, 94, 95, 96, 97, 98, 99, 0, 1, 2, 3, 4, 5, 6, 7, 8, 9, 10, 11, 12, 13, 14, 15, 16, 17, 18, 19, 20, 21, 22, 23, 24, 25, 26, 27, 28, 29, 30, 31, 32, 33, 34, 35, 36, 37, 38, 39, 40, 41, 42, 43, 44, 45, 46, 47, 48, 49, 50, 51, 52, 53, 54, 55, 56, 57, 58, 59, 60, 61, 62, 63, 64, 65, 66, 67, 68, 69, 70, 71, 72, 73, 74, 75, 76, 77, 78, 79, 80, 81, 82, 83, 84, 85, 86, 87, 88, 89, 90, 91, 92, 93, 94, 95, 96, 97, 98, 99, 0, 1, 2, 3, 4, 5, 6, 7, 8, 9, 10, 11, 12, 13, 14, 15, 16, 17, 18, 19, 20, 21, 22, 23, 24, 25, 26, 27, 28, 29, 30, 31, 32, 33, 34, 35, 36, 37, 38, 39, 40, 41, 42, 43, 44, 45, 46, 47, 48, 49, 50, 51, 52, 53, 54, 55, 56, 57, 58, 59, 60, 61, 62, 63, 64, 65, 66, 67, 68, 69, 70, 71, 72, 73, 74, 75, 76, 77, 78, 79, 80, 81, 82, 83, 84, 85, 86, 87, 88, 89, 90, 91, 92, 93, 94, 95, 96, 97, 98, 99, 0, 1, 2, 3, 4, 5, 6, 7, 8, 9, 10, 11, 12, 13, 14, 15, 16, 17, 18, 19, 20, 21, 22, 23, 24, 25, 26, 27, 28, 29, 30, 31, 32, 33, 34, 35, 36, 37, 38, 39, 40, 41, 42, 43, 44, 45, 46, 47, 48, 49, 50, 51, 52, 53, 54, 55, 56, 57, 58, 59, 60, 61, 62, 63, 64, 65, 66, 67, 68, 69, 70, 71, 72, 73, 74, 75, 76, 77, 78, 79, 80, 81, 82, 83, 84, 85, 86, 87, 88, 89, 90, 91, 92, 93, 94, 95, 96, 97, 98, 99, 0, 1, 2, 3, 4, 5, 6, 7, 8, 9, 10, 11, 12, 13, 14, 15, 16, 17, 18, 19, 20, 21, 22, 23, 24, 25, 26, 27, 28, 29, 30, 31, 32, 33, 34, 35, 36, 37, 38, 39, 40, 41, 42, 43, 44, 45, 46, 47, 48, 49, 50, 51, 52, 53, 54, 55, 56, 57, 58, 59, 60, 61, 62, 63, 64, 65, 66, 67, 68, 69, 70, 71, 72, 73, 74, 75, 76, 77, 78, 79, 80, 81, 82, 83, 84, 85, 86, 87, 88, 89, 90, 91, 92, 93, 94, 95, 96, 97, 98, 99, 0, 1, 2, 3, 4, 5, 6, 7, 8, 9, 10, 11, 12, 13, 14, 15, 16, 17, 18, 19, 20, 21, 22, 23, 24, 25, 26, 27, 28, 29, 30, 31, 32, 33, 34, 35, 36, 37, 38, 39, 40, 41, 42, 43, 44, 45, 46, 47, 48, 49, 50, 51, 52, 53, 54, 55, 56, 57, 58, 59, 60, 61, 62, 63, 64, 65, 66, 67, 68, 69, 70, 71, 72, 73, 74, 75, 76, 77, 78, 79, 80, 81, 82, 83, 84, 85, 86, 87, 88, 89, 90, 91, 92, 93, 94, 95, 96, 97, 98, 99, 0, 1, 2, 3, 4, 5, 6, 7, 8, 9, 10, 11, 12, 13, 14, 15, 16, 17, 18, 19, 20, 21, 22, 23, 24, 25, 26, 27, 28, 29, 30, 31, 32, 33, 34, 35, 36, 37, 38, 39, 40, 41, 42, 43, 44, 45, 46, 47, 48, 49, 50, 51, 52, 53, 54, 55, 56, 57, 58, 59, 60, 61, 62, 63, 64, 65, 66, 67, 68, 69, 70, 71, 72, 73, 74, 75, 76, 77, 78, 79, 80, 81, 82, 83, 84, 85, 86, 87, 88, 89, 90, 91, 92, 93, 94, 95, 96, 97, 98, 99, 0, 1, 2, 3, 4, 5, 6, 7, 8, 9, 10, 11, 12, 13, 14, 15, 16, 17, 18, 19, 20, 21, 22, 23, 24, 25, 26, 27, 28, 29, 30, 31, 32, 33, 34, 35, 36, 37, 38, 39, 40, 41, 42, 43, 44, 45, 46, 47, 48, 49, 50, 51, 52, 53, 54, 55, 56, 57, 58, 59, 60, 61, 62, 63, 64, 65, 66, 67, 68, 69, 70, 71, 72, 73, 74, 75, 76, 77, 78, 79, 80, 81, 82, 83, 84, 85, 86, 87, 88, 89, 90, 91, 92, 93, 94, 95, 96, 97, 98, 99, 0, 1, 2, 3, 4, 5, 6, 7, 8, 9, 10, 11, 12, 13, 14, 15, 16, 17, 18, 19, 20, 21, 22, 23, 24, 25, 26, 27, 28, 29, 30, 31, 32, 33, 34, 35, 36, 37, 38, 39, 40, 41, 42, 43, 44, 45, 46, 47, 48, 49, 50, 51, 52, 53, 54, 55, 56, 57, 58, 59, 60, 61, 62, 63, 64, 65, 66, 67, 68, 69, 70, 71, 72, 73, 74, 75, 76, 77, 78, 79, 80, 81, 82, 83, 84, 85, 86, 87, 88, 89, 90, 91, 92, 93, 94, 95, 96, 97, 98, 99, 0, 1, 2, 3, 4, 5, 6, 7, 8, 9, 10, 11, 12, 13, 14, 15, 16, 17, 18, 19, 20, 21, 22, 23, 24, 25, 26, 27, 28, 29, 30, 31, 32, 33, 34, 35, 36, 37, 38, 39, 40, 41, 42, 43, 44, 45, 46, 47, 48, 49, 50, 51, 52, 53, 54, 55, 56, 57, 58, 59, 60, 61, 62, 63, 64, 65, 66, 67, 68, 69, 70, 71, 72, 73, 74, 75, 76, 77, 78, 79, 80, 81, 82, 83, 84, 85, 86, 87, 88, 89, 90, 91, 92, 93, 94, 95, 96, 97, 98, 99, 0, 1, 2, 3, 4, 5, 6, 7, 8, 9, 10, 11, 12, 13, 14, 15, 16, 17, 18, 19, 20, 21, 22, 23, 24, 25, 26, 27, 28, 29, 30, 31, 32, 33, 34, 35, 36, 37, 38, 39, 40, 41, 42, 43, 44, 45, 46, 47, 48, 49, 50, 51, 52, 53, 54, 55, 56, 57, 58, 59, 60, 61, 62, 63, 64, 65, 66, 67, 68, 69, 70, 71, 72, 73, 74, 75, 76, 77, 78, 79, 80, 81, 82, 83, 84, 85, 86, 87, 88, 89, 90, 91, 92, 93, 94, 95, 96, 97, 98, 99, 0, 1, 2, 3, 4, 5, 6, 7, 8, 9, 10, 11, 12, 13, 14, 15, 16, 17, 18, 19, 20, 21, 22, 23, 24, 25, 26, 27, 28, 29, 30, 31, 32, 33, 34, 35, 36, 37, 38, 39, 40, 41, 42, 43, 44, 45, 46, 47, 48, 49, 50, 51, 52, 53, 54, 55, 56, 57, 58, 59, 60, 61, 62, 63, 64, 65, 66, 67, 68, 69, 70, 71, 72, 73, 74, 75, 76, 77, 78, 79, 80, 81, 82, 83, 84, 85, 86, 87, 88, 89, 90, 91, 92, 93, 94, 95, 96, 97, 98, 99, 0, 1, 2, 3, 4, 5, 6, 7, 8, 9, 10, 11, 12, 13, 14, 15, 16, 17, 18, 19, 20, 21, 22, 23, 24, 25, 26, 27, 28, 29, 30, 31, 32, 33, 34, 35, 36, 37, 38, 39, 40, 41, 42, 43, 44, 45, 46, 47, 48, 49, 50, 51, 52, 53, 54, 55, 56, 57, 58, 59, 60, 61, 62, 63, 64, 65, 66, 67, 68, 69, 70, 71, 72, 73, 74, 75, 76, 77, 78, 79, 80, 81, 82, 83, 84, 85, 86, 87, 88, 89, 90, 91, 92, 93, 94, 95, 96, 97, 98, 99, 0, 1, 2, 3, 4, 5, 6, 7, 8, 9, 10, 11, 12, 13, 14, 15, 16, 17, 18, 19, 20, 21, 22, 23, 24, 25, 26, 27, 28, 29, 30, 31, 32, 33, 34, 35, 36, 37, 38, 39, 40, 41, 42, 43, 44, 45, 46, 47, 48, 49, 50, 51, 52, 53, 54, 55, 56, 57, 58, 59, 60, 61, 62, 63, 64, 65, 66, 67, 68, 69, 70, 71, 72, 73, 74, 75, 76, 77, 78, 79, 80, 81, 82, 83, 84, 85, 86, 87, 88, 89, 90, 91, 92, 93, 94, 95, 96, 97, 98, 99, 0, 1, 2, 3, 4, 5, 6, 7, 8, 9, 10, 11, 12, 13, 14, 15, 16, 17, 18, 19, 20, 21, 22, 23, 24, 25, 26, 27, 28, 29, 30, 31, 32, 33, 34, 35, 36, 37, 38, 39, 40, 41, 42, 43, 44, 45, 46, 47, 48, 49, 50, 51, 52, 53, 54, 55, 56, 57, 58, 59, 60, 61, 62, 63, 64, 65, 66, 67, 68, 69, 70, 71, 72, 73, 74, 75, 76, 77, 78, 79, 80, 81, 82, 83, 84, 85, 86, 87, 88, 89, 90, 91, 92, 93, 94, 95, 96, 97, 98, 99, 0, 1, 2, 3, 4, 5, 6, 7, 8, 9, 10, 11, 12, 13, 14, 15, 16, 17, 18, 19, 20, 21, 22, 23, 24, 25, 26, 27, 28, 29, 30, 31, 32, 33, 34, 35, 36, 37, 38, 39, 40, 41, 42, 43, 44, 45, 46, 47, 48, 49, 50, 51, 52, 53, 54, 55, 56, 57, 58, 59, 60, 61, 62, 63, 64, 65, 66, 67, 68, 69, 70, 71, 72, 73, 74, 75, 76, 77, 78, 79, 80, 81, 82, 83, 84, 85, 86, 87, 88, 89, 90, 91, 92, 93, 94, 95, 96, 97, 98, 99, 0, 1, 2, 3, 4, 5, 6, 7, 8, 9, 10, 11, 12, 13, 14, 15, 16, 17, 18, 19, 20, 21, 22, 23, 24, 25, 26, 27, 28, 29, 30, 31, 32, 33, 34, 35, 36, 37, 38, 39, 40, 41, 42, 43, 44, 45, 46, 47, 48, 49, 50, 51, 52, 53, 54, 55, 56, 57, 58, 59, 60, 61, 62, 63, 64, 65, 66, 67, 68, 69, 70, 71, 72, 73, 74, 75, 76, 77, 78, 79, 80, 81, 82, 83, 84, 85, 86, 87, 88, 89, 90, 91, 92, 93, 94, 95, 96, 97, 98, 99, 0, 1, 2, 3, 4, 5, 6, 7, 8, 9, 10, 11, 12, 13, 14, 15, 16, 17, 18, 19, 20, 21, 22, 23, 24, 25, 26, 27, 28, 29, 30, 31, 32, 33, 34, 35, 36, 37, 38, 39, 40, 41, 42, 43, 44, 45, 46, 47, 48, 49, 50, 51, 52, 53, 54, 55, 56, 57, 58, 59, 60, 61, 62, 63, 64, 65, 66, 67, 68, 69, 70, 71, 72, 73, 74, 75, 76, 77, 78, 79, 80, 81, 82, 83, 84, 85, 86, 87, 88, 89, 90, 91, 92, 93, 94, 95, 96, 97, 98, 99, 0, 1, 2, 3, 4, 5, 6, 7, 8, 9, 10, 11, 12, 13, 14, 15, 16, 17, 18, 19, 20, 21, 22, 23, 24, 25, 26, 27, 28, 29, 30, 31, 32, 33, 34, 35, 36, 37, 38, 39, 40, 41, 42, 43, 44, 45, 46, 47, 48, 49, 50, 51, 52, 53, 54, 55, 56, 57, 58, 59, 60, 61, 62, 63, 64, 65, 66, 67, 68, 69, 70, 71, 72, 73, 74, 75, 76, 77, 78, 79, 80, 81, 82, 83, 84, 85, 86, 87, 88, 89, 90, 91, 92, 93, 94, 95, 96, 97, 98, 99, 0, 1, 2, 3, 4, 5, 6, 7, 8, 9, 10, 11, 12, 13, 14, 15, 16, 17, 18, 19, 20, 21, 22, 23, 24, 25, 26, 27, 28, 29, 30, 31, 32, 33, 34, 35, 36, 37, 38, 39, 40, 41, 42, 43, 44, 45, 46, 47, 48, 49, 50, 51, 52, 53, 54, 55, 56, 57, 58, 59, 60, 61, 62, 63, 64, 65, 66, 67, 68, 69, 70, 71, 72, 73, 74, 75, 76, 77, 78, 79, 80, 81, 82, 83, 84, 85, 86, 87, 88, 89, 90, 91, 92, 93, 94, 95, 96, 97, 98, 99, 0, 1, 2, 3, 4, 5, 6, 7, 8, 9, 10, 11, 12, 13, 14, 15, 16, 17, 18, 19, 20, 21, 22, 23, 24, 25, 26, 27, 28, 29, 30, 31, 32, 33, 34, 35, 36, 37, 38, 39, 40, 41, 42, 43, 44, 45, 46, 47, 48, 49, 50, 51, 52, 53, 54, 55, 56, 57, 58, 59, 60, 61, 62, 63, 64, 65, 66, 67, 68, 69, 70, 71, 72, 73, 74, 75, 76, 77, 78, 79, 80, 81, 82, 83, 84, 85, 86, 87, 88, 89, 90, 91, 92, 93, 94, 95, 96, 97, 98, 99, 0, 1, 2, 3, 4, 5, 6, 7, 8, 9, 10, 11, 12, 13, 14, 15, 16, 17, 18, 19, 20, 21, 22, 23, 24, 25, 26, 27, 28, 29, 30, 31, 32, 33, 34, 35, 36, 37, 38, 39, 40, 41, 42, 43, 44, 45, 46, 47, 48, 49, 50, 51, 52, 53, 54, 55, 56, 57, 58, 59, 60, 61, 62, 63, 64, 65, 66, 67, 68, 69, 70, 71, 72, 73, 74, 75, 76, 77, 78, 79, 80, 81, 82, 83, 84, 85, 86, 87, 88, 89, 90, 91, 92, 93, 94, 95, 96, 97, 98, 99, 0, 1, 2, 3, 4, 5, 6, 7, 8, 9, 10, 11, 12, 13, 14, 15, 16, 17, 18, 19, 20, 21, 22, 23, 24, 25, 26, 27, 28, 29, 30, 31, 32, 33, 34, 35, 36, 37, 38, 39, 40, 41, 42, 43, 44, 45, 46, 47, 48, 49, 50, 51, 52, 53, 54, 55, 56, 57, 58, 59, 60, 61, 62, 63, 64, 65, 66, 67, 68, 69, 70, 71, 72, 73, 74, 75, 76, 77, 78, 79, 80, 81, 82, 83, 84, 85, 86, 87, 88, 89, 90, 91, 92, 93, 94, 95, 96, 97, 98, 99, 0, 1, 2, 3, 4, 5, 6, 7, 8, 9, 10, 11, 12, 13, 14, 15, 16, 17, 18, 19, 20, 21, 22, 23, 24, 25, 26, 27, 28, 29, 30, 31, 32, 33, 34, 35, 36, 37, 38, 39, 40, 41, 42, 43, 44, 45, 46, 47, 48, 49, 50, 51, 52, 53, 54, 55, 56, 57, 58, 59, 60, 61, 62, 63, 64, 65, 66, 67, 68, 69, 70, 71, 72, 73, 74, 75, 76, 77, 78, 79, 80, 81, 82, 83, 84, 85, 86, 87, 88, 89, 90, 91, 92, 93, 94, 95, 96, 97, 98, 99, 0, 1, 2, 3, 4, 5, 6, 7, 8, 9, 10, 11, 12, 13, 14, 15, 16, 17, 18, 19, 20, 21, 22, 23, 24, 25, 26, 27, 28, 29, 30, 31, 32, 33, 34, 35, 36, 37, 38, 39, 40, 41, 42, 43, 44, 45, 46, 47, 48, 49, 50, 51, 52, 53, 54, 55, 56, 57, 58, 59, 60, 61, 62, 63, 64, 65, 66, 67, 68, 69, 70, 71, 72, 73, 74, 75, 76, 77, 78, 79, 80, 81, 82, 83, 84, 85, 86, 87, 88, 89, 90, 91, 92, 93, 94, 95, 96, 97, 98, 99, 0, 1, 2, 3, 4, 5, 6, 7, 8, 9, 10, 11, 12, 13, 14, 15, 16, 17, 18, 19, 20, 21, 22, 23, 24, 25, 26, 27, 28, 29, 30, 31, 32, 33, 34, 35, 36, 37, 38, 39, 40, 41, 42, 43, 44, 45, 46, 47, 48, 49, 50, 51, 52, 53, 54, 55, 56, 57, 58, 59, 60, 61, 62, 63, 64, 65, 66, 67, 68, 69, 70, 71, 72, 73, 74, 75, 76, 77, 78, 79, 80, 81, 82, 83, 84, 85, 86, 87, 88, 89, 90, 91, 92, 93, 94, 95, 96, 97, 98, 99, 0, 1, 2, 3, 4, 5, 6, 7, 8, 9, 10, 11, 12, 13, 14, 15, 16, 17, 18, 19, 20, 21, 22, 23, 24, 25, 26, 27, 28, 29, 30, 31, 32, 33, 34, 35, 36, 37, 38, 39, 40, 41, 42, 43, 44, 45, 46, 47, 48, 49, 50, 51, 52, 53, 54, 55, 56, 57, 58, 59, 60, 61, 62, 63, 64, 65, 66, 67, 68, 69, 70, 71, 72, 73, 74, 75, 76, 77, 78, 79, 80, 81, 82, 83, 84, 85, 86, 87, 88, 89, 90, 91, 92, 93, 94, 95, 96, 97, 98, 99, 0, 1, 2, 3, 4, 5, 6, 7, 8, 9, 10, 11, 12, 13, 14, 15, 16, 17, 18, 19, 20, 21, 22, 23, 24, 25, 26, 27, 28, 29, 30, 31, 32, 33, 34, 35, 36, 37, 38, 39, 40, 41, 42, 43, 44, 45, 46, 47, 48, 49, 50, 51, 52, 53, 54, 55, 56, 57, 58, 59, 60, 61, 62, 63, 64, 65, 66, 67, 68, 69, 70, 71, 72, 73, 74, 75, 76, 77, 78, 79, 80, 81, 82, 83, 84, 85, 86, 87, 88, 89, 90, 91, 92, 93, 94, 95, 96, 97, 98, 99, 0, 1, 2, 3, 4, 5, 6, 7, 8, 9, 10, 11, 12, 13, 14, 15, 16, 17, 18, 19, 20, 21, 22, 23, 24, 25, 26, 27, 28, 29, 30, 31, 32, 33, 34, 35, 36, 37, 38, 39, 40, 41, 42, 43, 44, 45, 46, 47, 48, 49, 50, 51, 52, 53, 54, 55, 56, 57, 58, 59, 60, 61, 62, 63, 64, 65, 66, 67, 68, 69, 70, 71, 72, 73, 74, 75, 76, 77, 78, 79, 80, 81, 82, 83, 84, 85, 86, 87, 88, 89, 90, 91, 92, 93, 94, 95, 96, 97, 98, 99, 0, 1, 2, 3, 4, 5, 6, 7, 8, 9, 10, 11, 12, 13, 14, 15, 16, 17, 18, 19, 20, 21, 22, 23, 24, 25, 26, 27, 28, 29, 30, 31, 32, 33, 34, 35, 36, 37, 38, 39, 40, 41, 42, 43, 44, 45, 46, 47, 48, 49, 50, 51, 52, 53, 54, 55, 56, 57, 58, 59, 60, 61, 62, 63, 64, 65, 66, 67, 68, 69, 70, 71, 72, 73, 74, 75, 76, 77, 78, 79, 80, 81, 82, 83, 84, 85, 86, 87, 88, 89, 90, 91, 92, 93, 94, 95, 96, 97, 98, 99, 0, 1, 2, 3, 4, 5, 6, 7, 8, 9, 10, 11, 12, 13, 14, 15, 16, 17, 18, 19, 20, 21, 22, 23, 24, 25, 26, 27, 28, 29, 30, 31, 32, 33, 34, 35, 36, 37, 38, 39, 40, 41, 42, 43, 44, 45, 46, 47, 48, 49, 50, 51, 52, 53, 54, 55, 56, 57, 58, 59, 60, 61, 62, 63, 64, 65, 66, 67, 68, 69, 70, 71, 72, 73, 74, 75, 76, 77, 78, 79, 80, 81, 82, 83, 84, 85, 86, 87, 88, 89, 90, 91, 92, 93, 94, 95, 96, 97, 98, 99, 0, 1, 2, 3, 4, 5, 6, 7, 8, 9, 10, 11, 12, 13, 14, 15, 16, 17, 18, 19, 20, 21, 22, 23, 24, 25, 26, 27, 28, 29, 30, 31, 32, 33, 34, 35, 36, 37, 38, 39, 40, 41, 42, 43, 44, 45, 46, 47, 48, 49, 50, 51, 52, 53, 54, 55, 56, 57, 58, 59, 60, 61, 62, 63, 64, 65, 66, 67, 68, 69, 70, 71, 72, 73, 74, 75, 76, 77, 78, 79, 80, 81, 82, 83, 84, 85, 86, 87, 88, 89, 90, 91, 92, 93, 94, 95, 96, 97, 98, 99, 0, 1, 2, 3, 4, 5, 6, 7, 8, 9, 10, 11, 12, 13, 14, 15, 16, 17, 18, 19, 20, 21, 22, 23, 24, 25, 26, 27, 28, 29, 30, 31, 32, 33, 34, 35, 36, 37, 38, 39, 40, 41, 42, 43, 44, 45, 46, 47, 48, 49, 50, 51, 52, 53, 54, 55, 56, 57, 58, 59, 60, 61, 62, 63, 64, 65, 66, 67, 68, 69, 70, 71, 72, 73, 74, 75, 76, 77, 78, 79, 80, 81, 82, 83, 84, 85, 86, 87, 88, 89, 90, 91, 92, 93, 94, 95, 96, 97, 98, 99, 0, 1, 2, 3, 4, 5, 6, 7, 8, 9, 10, 11, 12, 13, 14, 15, 16, 17, 18, 19, 20, 21, 22, 23, 24, 25, 26, 27, 28, 29, 30, 31, 32, 33, 34, 35, 36, 37, 38, 39, 40, 41, 42, 43, 44, 45, 46, 47, 48, 49, 50, 51, 52, 53, 54, 55, 56, 57, 58, 59, 60, 61, 62, 63, 64, 65, 66, 67, 68, 69, 70, 71, 72, 73, 74, 75, 76, 77, 78, 79, 80, 81, 82, 83, 84, 85, 86, 87, 88, 89, 90, 91, 92, 93, 94, 95, 96, 97, 98, 99, 0, 1, 2, 3, 4, 5, 6, 7, 8, 9, 10, 11, 12, 13, 14, 15, 16, 17, 18, 19, 20, 21, 22, 23, 24, 25, 26, 27, 28, 29, 30, 31, 32, 33, 34, 35, 36, 37, 38, 39, 40, 41, 42, 43, 44, 45, 46, 47, 48, 49, 50, 51, 52, 53, 54, 55, 56, 57, 58, 59, 60, 61, 62, 63, 64, 65, 66, 67, 68, 69, 70, 71, 72, 73, 74, 75, 76, 77, 78, 79, 80, 81, 82, 83, 84, 85, 86, 87, 88, 89, 90, 91, 92, 93, 94, 95, 96, 97, 98, 99, 0, 1, 2, 3, 4, 5, 6, 7, 8, 9, 10, 11, 12, 13, 14, 15, 16, 17, 18, 19, 20, 21, 22, 23, 24, 25, 26, 27, 28, 29, 30, 31, 32, 33, 34, 35, 36, 37, 38, 39, 40, 41, 42, 43, 44, 45, 46, 47, 48, 49, 50, 51, 52, 53, 54, 55, 56, 57, 58, 59, 60, 61, 62, 63, 64, 65, 66, 67, 68, 69, 70, 71, 72, 73, 74, 75, 76, 77, 78, 79, 80, 81, 82, 83, 84, 85, 86, 87, 88, 89, 90, 91, 92, 93, 94, 95, 96, 97, 98, 99, 0, 1, 2, 3, 4, 5, 6, 7, 8, 9, 10, 11, 12, 13, 14, 15, 16, 17, 18, 19, 20, 21, 22, 23, 24, 25, 26, 27, 28, 29, 30, 31, 32, 33, 34, 35, 36, 37, 38, 39, 40, 41, 42, 43, 44, 45, 46, 47, 48, 49, 50, 51, 52, 53, 54, 55, 56, 57, 58, 59, 60, 61, 62, 63, 64, 65, 66, 67, 68, 69, 70, 71, 72, 73, 74, 75, 76, 77, 78, 79, 80, 81, 82, 83, 84, 85, 86, 87, 88, 89, 90, 91, 92, 93, 94, 95, 96, 97, 98, 99, 0, 1, 2, 3, 4, 5, 6, 7, 8, 9, 10, 11, 12, 13, 14, 15, 16, 17, 18, 19, 20, 21, 22, 23, 24, 25, 26, 27, 28, 29, 30, 31, 32, 33, 34, 35, 36, 37, 38, 39, 40, 41, 42, 43, 44, 45, 46, 47, 48, 49, 50, 51, 52, 53, 54, 55, 56, 57, 58, 59, 60, 61, 62, 63, 64, 65, 66, 67, 68, 69, 70, 71, 72, 73, 74, 75, 76, 77, 78, 79, 80, 81, 82, 83, 84, 85, 86, 87, 88, 89, 90, 91, 92, 93, 94, 95, 96, 97, 98, 99, 0, 1, 2, 3, 4, 5, 6, 7, 8, 9, 10, 11, 12, 13, 14, 15, 16, 17, 18, 19, 20, 21, 22, 23, 24, 25, 26, 27, 28, 29, 30, 31, 32, 33, 34, 35, 36, 37, 38, 39, 40, 41, 42, 43, 44, 45, 46, 47, 48, 49, 50, 51, 52, 53, 54, 55, 56, 57, 58, 59, 60, 61, 62, 63, 64, 65, 66, 67, 68, 69, 70, 71, 72, 73, 74, 75, 76, 77, 78, 79, 80, 81, 82, 83, 84, 85, 86, 87, 88, 89, 90, 91, 92, 93, 94, 95, 96, 97, 98, 99, 0, 1, 2, 3, 4, 5, 6, 7, 8, 9, 10, 11, 12, 13, 14, 15, 16, 17, 18, 19, 20, 21, 22, 23, 24, 25, 26, 27, 28, 29, 30, 31, 32, 33, 34, 35, 36, 37, 38, 39, 40, 41, 42, 43, 44, 45, 46, 47, 48, 49, 50, 51, 52, 53, 54, 55, 56, 57, 58, 59, 60, 61, 62, 63, 64, 65, 66, 67, 68, 69, 70, 71, 72, 73, 74, 75, 76, 77, 78, 79, 80, 81, 82, 83, 84, 85, 86, 87, 88, 89, 90, 91, 92, 93, 94, 95, 96, 97, 98, 99, 0, 1, 2, 3, 4, 5, 6, 7, 8, 9, 10, 11, 12, 13, 14, 15, 16, 17, 18, 19, 20, 21, 22, 23, 24, 25, 26, 27, 28, 29, 30, 31, 32, 33, 34, 35, 36, 37, 38, 39, 40, 41, 42, 43, 44, 45, 46, 47, 48, 49, 50, 51, 52, 53, 54, 55, 56, 57, 58, 59, 60, 61, 62, 63, 64, 65, 66, 67, 68, 69, 70, 71, 72, 73, 74, 75, 76, 77, 78, 79, 80, 81, 82, 83, 84, 85, 86, 87, 88, 89, 90, 91, 92, 93, 94, 95, 96, 97, 98, 99]],\n",
       "           names=['t', 'ID'])"
      ]
     },
     "execution_count": 150,
     "metadata": {},
     "output_type": "execute_result"
    }
   ],
   "source": [
    "import pandas as pd\n",
    "dim_1, dim_2, dim_3 = data.shape\n",
    "\n",
    "# 生成用于填充新增维度的数值\n",
    "indice = pd.MultiIndex.from_product(\n",
    "    [np.arange(dim_1), np.arange(dim_2)], names=['t', 'ID'])\n",
    "indice"
   ]
  },
  {
   "cell_type": "code",
   "execution_count": 151,
   "metadata": {},
   "outputs": [
    {
     "data": {
      "text/plain": [
       "(5000, 3)"
      ]
     },
     "execution_count": 151,
     "metadata": {},
     "output_type": "execute_result"
    },
    {
     "data": {
      "text/plain": [
       "array([[242.44295567,  77.69119197,   0.66477715],\n",
       "       [261.38007362, 201.79318451,   2.94516922],\n",
       "       [412.76769009, 135.48282173,  -0.49248338],\n",
       "       ...,\n",
       "       [431.15099334,  83.68941366,  -0.80892889],\n",
       "       [147.56941378, 216.23031823,  -2.9188817 ],\n",
       "       [399.61962538,  48.86623161,  -0.8140907 ]])"
      ]
     },
     "execution_count": 151,
     "metadata": {},
     "output_type": "execute_result"
    }
   ],
   "source": [
    "data = data.reshape((-1, dim_3))\n",
    "data.shape\n",
    "data"
   ]
  },
  {
   "cell_type": "markdown",
   "metadata": {},
   "source": [
    "转换为 DataFrame"
   ]
  },
  {
   "cell_type": "code",
   "execution_count": 152,
   "metadata": {
    "scrolled": false
   },
   "outputs": [
    {
     "data": {
      "text/html": [
       "<div>\n",
       "<style scoped>\n",
       "    .dataframe tbody tr th:only-of-type {\n",
       "        vertical-align: middle;\n",
       "    }\n",
       "\n",
       "    .dataframe tbody tr th {\n",
       "        vertical-align: top;\n",
       "    }\n",
       "\n",
       "    .dataframe thead th {\n",
       "        text-align: right;\n",
       "    }\n",
       "</style>\n",
       "<table border=\"1\" class=\"dataframe\">\n",
       "  <thead>\n",
       "    <tr style=\"text-align: right;\">\n",
       "      <th></th>\n",
       "      <th></th>\n",
       "      <th>x</th>\n",
       "      <th>y</th>\n",
       "      <th>z</th>\n",
       "    </tr>\n",
       "    <tr>\n",
       "      <th>t</th>\n",
       "      <th>ID</th>\n",
       "      <th></th>\n",
       "      <th></th>\n",
       "      <th></th>\n",
       "    </tr>\n",
       "  </thead>\n",
       "  <tbody>\n",
       "    <tr>\n",
       "      <th rowspan=\"5\" valign=\"top\">0</th>\n",
       "      <th>0</th>\n",
       "      <td>242.442956</td>\n",
       "      <td>77.691192</td>\n",
       "      <td>0.664777</td>\n",
       "    </tr>\n",
       "    <tr>\n",
       "      <th>1</th>\n",
       "      <td>261.380074</td>\n",
       "      <td>201.793185</td>\n",
       "      <td>2.945169</td>\n",
       "    </tr>\n",
       "    <tr>\n",
       "      <th>2</th>\n",
       "      <td>412.767690</td>\n",
       "      <td>135.482822</td>\n",
       "      <td>-0.492483</td>\n",
       "    </tr>\n",
       "    <tr>\n",
       "      <th>3</th>\n",
       "      <td>135.073158</td>\n",
       "      <td>406.116724</td>\n",
       "      <td>2.671991</td>\n",
       "    </tr>\n",
       "    <tr>\n",
       "      <th>4</th>\n",
       "      <td>235.803192</td>\n",
       "      <td>187.694907</td>\n",
       "      <td>2.775133</td>\n",
       "    </tr>\n",
       "  </tbody>\n",
       "</table>\n",
       "</div>"
      ],
      "text/plain": [
       "               x           y         z\n",
       "t ID                                  \n",
       "0 0   242.442956   77.691192  0.664777\n",
       "  1   261.380074  201.793185  2.945169\n",
       "  2   412.767690  135.482822 -0.492483\n",
       "  3   135.073158  406.116724  2.671991\n",
       "  4   235.803192  187.694907  2.775133"
      ]
     },
     "execution_count": 152,
     "metadata": {},
     "output_type": "execute_result"
    }
   ],
   "source": [
    "df = pd.DataFrame(data, index=indice, columns=[\"x\", \"y\", \"z\"])\n",
    "df.head()"
   ]
  },
  {
   "cell_type": "markdown",
   "metadata": {},
   "source": [
    "转换为更“朴素”的形式"
   ]
  },
  {
   "cell_type": "code",
   "execution_count": 153,
   "metadata": {},
   "outputs": [
    {
     "data": {
      "text/html": [
       "<div>\n",
       "<style scoped>\n",
       "    .dataframe tbody tr th:only-of-type {\n",
       "        vertical-align: middle;\n",
       "    }\n",
       "\n",
       "    .dataframe tbody tr th {\n",
       "        vertical-align: top;\n",
       "    }\n",
       "\n",
       "    .dataframe thead th {\n",
       "        text-align: right;\n",
       "    }\n",
       "</style>\n",
       "<table border=\"1\" class=\"dataframe\">\n",
       "  <thead>\n",
       "    <tr style=\"text-align: right;\">\n",
       "      <th></th>\n",
       "      <th>t</th>\n",
       "      <th>ID</th>\n",
       "      <th>x</th>\n",
       "      <th>y</th>\n",
       "      <th>z</th>\n",
       "    </tr>\n",
       "  </thead>\n",
       "  <tbody>\n",
       "    <tr>\n",
       "      <th>0</th>\n",
       "      <td>0</td>\n",
       "      <td>0</td>\n",
       "      <td>242.442956</td>\n",
       "      <td>77.691192</td>\n",
       "      <td>0.664777</td>\n",
       "    </tr>\n",
       "    <tr>\n",
       "      <th>1</th>\n",
       "      <td>0</td>\n",
       "      <td>1</td>\n",
       "      <td>261.380074</td>\n",
       "      <td>201.793185</td>\n",
       "      <td>2.945169</td>\n",
       "    </tr>\n",
       "    <tr>\n",
       "      <th>2</th>\n",
       "      <td>0</td>\n",
       "      <td>2</td>\n",
       "      <td>412.767690</td>\n",
       "      <td>135.482822</td>\n",
       "      <td>-0.492483</td>\n",
       "    </tr>\n",
       "    <tr>\n",
       "      <th>3</th>\n",
       "      <td>0</td>\n",
       "      <td>3</td>\n",
       "      <td>135.073158</td>\n",
       "      <td>406.116724</td>\n",
       "      <td>2.671991</td>\n",
       "    </tr>\n",
       "    <tr>\n",
       "      <th>4</th>\n",
       "      <td>0</td>\n",
       "      <td>4</td>\n",
       "      <td>235.803192</td>\n",
       "      <td>187.694907</td>\n",
       "      <td>2.775133</td>\n",
       "    </tr>\n",
       "  </tbody>\n",
       "</table>\n",
       "</div>"
      ],
      "text/plain": [
       "   t  ID           x           y         z\n",
       "0  0   0  242.442956   77.691192  0.664777\n",
       "1  0   1  261.380074  201.793185  2.945169\n",
       "2  0   2  412.767690  135.482822 -0.492483\n",
       "3  0   3  135.073158  406.116724  2.671991\n",
       "4  0   4  235.803192  187.694907  2.775133"
      ]
     },
     "execution_count": 153,
     "metadata": {},
     "output_type": "execute_result"
    }
   ],
   "source": [
    "df.reset_index().head()"
   ]
  },
  {
   "cell_type": "markdown",
   "metadata": {},
   "source": [
    "#### 补充：利用`stack`压缩列标签，转换为激进型"
   ]
  },
  {
   "cell_type": "code",
   "execution_count": 154,
   "metadata": {},
   "outputs": [
    {
     "data": {
      "text/plain": [
       "t  ID   \n",
       "0  0   x    242.442956\n",
       "       y     77.691192\n",
       "       z      0.664777\n",
       "   1   x    261.380074\n",
       "       y    201.793185\n",
       "dtype: float64"
      ]
     },
     "execution_count": 154,
     "metadata": {},
     "output_type": "execute_result"
    }
   ],
   "source": [
    "ses = df.stack() # 将“x” “y”“z” 压缩进index中\n",
    "ses.head()"
   ]
  },
  {
   "cell_type": "code",
   "execution_count": 155,
   "metadata": {
    "scrolled": false
   },
   "outputs": [
    {
     "data": {
      "text/plain": [
       "FrozenList(['t', 'ID', None])"
      ]
     },
     "execution_count": 155,
     "metadata": {},
     "output_type": "execute_result"
    },
    {
     "data": {
      "text/html": [
       "<div>\n",
       "<style scoped>\n",
       "    .dataframe tbody tr th:only-of-type {\n",
       "        vertical-align: middle;\n",
       "    }\n",
       "\n",
       "    .dataframe tbody tr th {\n",
       "        vertical-align: top;\n",
       "    }\n",
       "\n",
       "    .dataframe thead th {\n",
       "        text-align: right;\n",
       "    }\n",
       "</style>\n",
       "<table border=\"1\" class=\"dataframe\">\n",
       "  <thead>\n",
       "    <tr style=\"text-align: right;\">\n",
       "      <th></th>\n",
       "      <th></th>\n",
       "      <th></th>\n",
       "      <th>value</th>\n",
       "    </tr>\n",
       "    <tr>\n",
       "      <th>t</th>\n",
       "      <th>ID</th>\n",
       "      <th>cat</th>\n",
       "      <th></th>\n",
       "    </tr>\n",
       "  </thead>\n",
       "  <tbody>\n",
       "    <tr>\n",
       "      <th rowspan=\"5\" valign=\"top\">0</th>\n",
       "      <th rowspan=\"3\" valign=\"top\">0</th>\n",
       "      <th>x</th>\n",
       "      <td>242.442956</td>\n",
       "    </tr>\n",
       "    <tr>\n",
       "      <th>y</th>\n",
       "      <td>77.691192</td>\n",
       "    </tr>\n",
       "    <tr>\n",
       "      <th>z</th>\n",
       "      <td>0.664777</td>\n",
       "    </tr>\n",
       "    <tr>\n",
       "      <th rowspan=\"2\" valign=\"top\">1</th>\n",
       "      <th>x</th>\n",
       "      <td>261.380074</td>\n",
       "    </tr>\n",
       "    <tr>\n",
       "      <th>y</th>\n",
       "      <td>201.793185</td>\n",
       "    </tr>\n",
       "  </tbody>\n",
       "</table>\n",
       "</div>"
      ],
      "text/plain": [
       "               value\n",
       "t ID cat            \n",
       "0 0  x    242.442956\n",
       "     y     77.691192\n",
       "     z      0.664777\n",
       "  1  x    261.380074\n",
       "     y    201.793185"
      ]
     },
     "execution_count": 155,
     "metadata": {},
     "output_type": "execute_result"
    }
   ],
   "source": [
    "ses.index.names\n",
    "ses.index.names = ['t', 'ID', \"cat\"] # 增补类型名\n",
    "\n",
    "df = pd.DataFrame(ses.values, index=ses.index, columns=[\"value\"])\n",
    "df.head()"
   ]
  },
  {
   "cell_type": "markdown",
   "metadata": {},
   "source": [
    "转换为更“朴素”的形式"
   ]
  },
  {
   "cell_type": "code",
   "execution_count": 156,
   "metadata": {},
   "outputs": [
    {
     "data": {
      "text/html": [
       "<div>\n",
       "<style scoped>\n",
       "    .dataframe tbody tr th:only-of-type {\n",
       "        vertical-align: middle;\n",
       "    }\n",
       "\n",
       "    .dataframe tbody tr th {\n",
       "        vertical-align: top;\n",
       "    }\n",
       "\n",
       "    .dataframe thead th {\n",
       "        text-align: right;\n",
       "    }\n",
       "</style>\n",
       "<table border=\"1\" class=\"dataframe\">\n",
       "  <thead>\n",
       "    <tr style=\"text-align: right;\">\n",
       "      <th></th>\n",
       "      <th>t</th>\n",
       "      <th>ID</th>\n",
       "      <th>cat</th>\n",
       "      <th>value</th>\n",
       "    </tr>\n",
       "  </thead>\n",
       "  <tbody>\n",
       "    <tr>\n",
       "      <th>0</th>\n",
       "      <td>0</td>\n",
       "      <td>0</td>\n",
       "      <td>x</td>\n",
       "      <td>242.442956</td>\n",
       "    </tr>\n",
       "    <tr>\n",
       "      <th>1</th>\n",
       "      <td>0</td>\n",
       "      <td>0</td>\n",
       "      <td>y</td>\n",
       "      <td>77.691192</td>\n",
       "    </tr>\n",
       "    <tr>\n",
       "      <th>2</th>\n",
       "      <td>0</td>\n",
       "      <td>0</td>\n",
       "      <td>z</td>\n",
       "      <td>0.664777</td>\n",
       "    </tr>\n",
       "    <tr>\n",
       "      <th>3</th>\n",
       "      <td>0</td>\n",
       "      <td>1</td>\n",
       "      <td>x</td>\n",
       "      <td>261.380074</td>\n",
       "    </tr>\n",
       "    <tr>\n",
       "      <th>4</th>\n",
       "      <td>0</td>\n",
       "      <td>1</td>\n",
       "      <td>y</td>\n",
       "      <td>201.793185</td>\n",
       "    </tr>\n",
       "  </tbody>\n",
       "</table>\n",
       "</div>"
      ],
      "text/plain": [
       "   t  ID cat       value\n",
       "0  0   0   x  242.442956\n",
       "1  0   0   y   77.691192\n",
       "2  0   0   z    0.664777\n",
       "3  0   1   x  261.380074\n",
       "4  0   1   y  201.793185"
      ]
     },
     "execution_count": 156,
     "metadata": {},
     "output_type": "execute_result"
    }
   ],
   "source": [
    "df.reset_index().head()"
   ]
  },
  {
   "cell_type": "markdown",
   "metadata": {},
   "source": [
    "### 比较激进的转换\n",
    "\n",
    "如果更进一步，将最后一维的三个值也坍缩到新增维度里，即将 (50, 100, 3) 的数据转换为 (15000, 4) 的数据，对应列标签 t, ID, cat, value，其中 cat 中包含 x, y, z 三个种类，这种格式可能对各种Pandas处理是更普适的形式。"
   ]
  },
  {
   "cell_type": "code",
   "execution_count": 157,
   "metadata": {},
   "outputs": [
    {
     "data": {
      "text/plain": [
       "(50, 100, 3)"
      ]
     },
     "execution_count": 157,
     "metadata": {},
     "output_type": "execute_result"
    },
    {
     "data": {
      "text/plain": [
       "array([[[ 2.42442956e+02,  7.76911920e+01,  6.64777151e-01],\n",
       "        [ 2.61380074e+02,  2.01793185e+02,  2.94516922e+00],\n",
       "        [ 4.12767690e+02,  1.35482822e+02, -4.92483385e-01],\n",
       "        ...,\n",
       "        [ 4.10753164e+02,  2.02361917e+02, -1.47121999e-01],\n",
       "        [ 2.69633830e+02,  2.68148789e+02,  1.27458590e+00],\n",
       "        [ 3.30322105e+02,  1.75890005e+02, -7.97956043e-01]],\n",
       "\n",
       "       [[ 2.45365704e+02,  7.83676099e+01,  2.27428156e-01],\n",
       "        [ 2.58458717e+02,  2.02475590e+02,  2.91211536e+00],\n",
       "        [ 4.14913593e+02,  1.33386372e+02, -7.73741839e-01],\n",
       "        ...,\n",
       "        [ 4.11856535e+02,  1.99572191e+02, -1.19416454e+00],\n",
       "        [ 2.70467390e+02,  2.71030660e+02,  1.28923763e+00],\n",
       "        [ 3.32290845e+02,  1.73626366e+02, -8.54962584e-01]],\n",
       "\n",
       "       [[ 2.48239647e+02,  7.75071160e+01, -2.90917521e-01],\n",
       "        [ 2.55461149e+02,  2.02596349e+02, -3.18185644e+00],\n",
       "        [ 4.17462899e+02,  1.31804904e+02, -5.55250026e-01],\n",
       "        ...,\n",
       "        [ 4.09707081e+02,  1.97479383e+02, -2.36954656e+00],\n",
       "        [ 2.68405895e+02,  2.73210163e+02,  2.32837616e+00],\n",
       "        [ 3.33943130e+02,  1.71122378e+02, -9.87520127e-01]],\n",
       "\n",
       "       ...,\n",
       "\n",
       "       [[ 3.56975004e+02,  5.97239259e+00, -5.75102134e-01],\n",
       "        [ 1.30143542e+02,  1.64376675e+02, -2.87853593e+00],\n",
       "        [ 4.74988523e+02,  1.15517297e+01, -8.53119091e-01],\n",
       "        ...,\n",
       "        [ 4.27604192e+02,  8.84718553e+01, -7.13370919e-01],\n",
       "        [ 1.53469992e+02,  2.17281949e+02, -3.01382082e+00],\n",
       "        [ 3.95602341e+02,  5.33207351e+01, -9.52802521e-01]],\n",
       "\n",
       "       [[ 3.58316991e+02,  3.28928418e+00, -1.10701967e+00],\n",
       "        [ 1.27151855e+02,  1.64599848e+02, -3.21605251e+00],\n",
       "        [ 4.75983562e+02,  8.72155337e+00, -1.23271295e+00],\n",
       "        ...,\n",
       "        [ 4.29080172e+02,  8.58600584e+01, -1.05641846e+00],\n",
       "        [ 1.50495321e+02,  2.16892942e+02, -3.01155720e+00],\n",
       "        [ 3.97560036e+02,  5.10475365e+01, -8.59831857e-01]],\n",
       "\n",
       "       [[ 3.60269963e+02,  1.01202655e+00, -8.61907762e-01],\n",
       "        [ 1.24279619e+02,  1.63733672e+02, -2.84869734e+00],\n",
       "        [ 4.77039363e+02,  5.91347873e+00, -1.21116002e+00],\n",
       "        ...,\n",
       "        [ 4.31150993e+02,  8.36894137e+01, -8.08928892e-01],\n",
       "        [ 1.47569414e+02,  2.16230318e+02, -2.91888170e+00],\n",
       "        [ 3.99619625e+02,  4.88662316e+01, -8.14090703e-01]]])"
      ]
     },
     "execution_count": 157,
     "metadata": {},
     "output_type": "execute_result"
    }
   ],
   "source": [
    "data = np.load(\"data/sample.npy\")\n",
    "data.shape\n",
    "data"
   ]
  },
  {
   "cell_type": "code",
   "execution_count": 158,
   "metadata": {
    "scrolled": true
   },
   "outputs": [
    {
     "data": {
      "text/html": [
       "<div>\n",
       "<style scoped>\n",
       "    .dataframe tbody tr th:only-of-type {\n",
       "        vertical-align: middle;\n",
       "    }\n",
       "\n",
       "    .dataframe tbody tr th {\n",
       "        vertical-align: top;\n",
       "    }\n",
       "\n",
       "    .dataframe thead th {\n",
       "        text-align: right;\n",
       "    }\n",
       "</style>\n",
       "<table border=\"1\" class=\"dataframe\">\n",
       "  <thead>\n",
       "    <tr style=\"text-align: right;\">\n",
       "      <th></th>\n",
       "      <th></th>\n",
       "      <th></th>\n",
       "      <th>value</th>\n",
       "    </tr>\n",
       "    <tr>\n",
       "      <th>t</th>\n",
       "      <th>ID</th>\n",
       "      <th>cat</th>\n",
       "      <th></th>\n",
       "    </tr>\n",
       "  </thead>\n",
       "  <tbody>\n",
       "    <tr>\n",
       "      <th rowspan=\"5\" valign=\"top\">0</th>\n",
       "      <th rowspan=\"3\" valign=\"top\">0</th>\n",
       "      <th>x</th>\n",
       "      <td>242.442956</td>\n",
       "    </tr>\n",
       "    <tr>\n",
       "      <th>y</th>\n",
       "      <td>77.691192</td>\n",
       "    </tr>\n",
       "    <tr>\n",
       "      <th>z</th>\n",
       "      <td>0.664777</td>\n",
       "    </tr>\n",
       "    <tr>\n",
       "      <th rowspan=\"2\" valign=\"top\">1</th>\n",
       "      <th>x</th>\n",
       "      <td>261.380074</td>\n",
       "    </tr>\n",
       "    <tr>\n",
       "      <th>y</th>\n",
       "      <td>201.793185</td>\n",
       "    </tr>\n",
       "  </tbody>\n",
       "</table>\n",
       "</div>"
      ],
      "text/plain": [
       "               value\n",
       "t ID cat            \n",
       "0 0  x    242.442956\n",
       "     y     77.691192\n",
       "     z      0.664777\n",
       "  1  x    261.380074\n",
       "     y    201.793185"
      ]
     },
     "execution_count": 158,
     "metadata": {},
     "output_type": "execute_result"
    }
   ],
   "source": [
    "import pandas as pd\n",
    "dim_1, dim_2, dim_3 = data.shape\n",
    "\n",
    "# 生成用于填充新增维度的数值\n",
    "indice = pd.MultiIndex.from_product([np.arange(dim_1), np.arange(dim_2), [\n",
    "                                    \"x\", \"y\", \"z\"]], names=['t', 'ID', 'cat'])\n",
    "\n",
    "data = data.reshape((-1, 1))\n",
    "\n",
    "df = pd.DataFrame(data, index=indice, columns=[\"value\"])\n",
    "df.head()"
   ]
  },
  {
   "cell_type": "markdown",
   "metadata": {},
   "source": [
    "转换为更“朴素”的形式"
   ]
  },
  {
   "cell_type": "code",
   "execution_count": 159,
   "metadata": {},
   "outputs": [
    {
     "data": {
      "text/html": [
       "<div>\n",
       "<style scoped>\n",
       "    .dataframe tbody tr th:only-of-type {\n",
       "        vertical-align: middle;\n",
       "    }\n",
       "\n",
       "    .dataframe tbody tr th {\n",
       "        vertical-align: top;\n",
       "    }\n",
       "\n",
       "    .dataframe thead th {\n",
       "        text-align: right;\n",
       "    }\n",
       "</style>\n",
       "<table border=\"1\" class=\"dataframe\">\n",
       "  <thead>\n",
       "    <tr style=\"text-align: right;\">\n",
       "      <th></th>\n",
       "      <th>t</th>\n",
       "      <th>ID</th>\n",
       "      <th>cat</th>\n",
       "      <th>value</th>\n",
       "    </tr>\n",
       "  </thead>\n",
       "  <tbody>\n",
       "    <tr>\n",
       "      <th>0</th>\n",
       "      <td>0</td>\n",
       "      <td>0</td>\n",
       "      <td>x</td>\n",
       "      <td>242.442956</td>\n",
       "    </tr>\n",
       "    <tr>\n",
       "      <th>1</th>\n",
       "      <td>0</td>\n",
       "      <td>0</td>\n",
       "      <td>y</td>\n",
       "      <td>77.691192</td>\n",
       "    </tr>\n",
       "    <tr>\n",
       "      <th>2</th>\n",
       "      <td>0</td>\n",
       "      <td>0</td>\n",
       "      <td>z</td>\n",
       "      <td>0.664777</td>\n",
       "    </tr>\n",
       "    <tr>\n",
       "      <th>3</th>\n",
       "      <td>0</td>\n",
       "      <td>1</td>\n",
       "      <td>x</td>\n",
       "      <td>261.380074</td>\n",
       "    </tr>\n",
       "    <tr>\n",
       "      <th>4</th>\n",
       "      <td>0</td>\n",
       "      <td>1</td>\n",
       "      <td>y</td>\n",
       "      <td>201.793185</td>\n",
       "    </tr>\n",
       "  </tbody>\n",
       "</table>\n",
       "</div>"
      ],
      "text/plain": [
       "   t  ID cat       value\n",
       "0  0   0   x  242.442956\n",
       "1  0   0   y   77.691192\n",
       "2  0   0   z    0.664777\n",
       "3  0   1   x  261.380074\n",
       "4  0   1   y  201.793185"
      ]
     },
     "execution_count": 159,
     "metadata": {},
     "output_type": "execute_result"
    }
   ],
   "source": [
    "df.reset_index().head()"
   ]
  },
  {
   "cell_type": "markdown",
   "metadata": {},
   "source": [
    "# 问题与分析"
   ]
  },
  {
   "cell_type": "markdown",
   "metadata": {},
   "source": [
    "## `numpy.sort`与`numpy.argsort`\n",
    "\n",
    "### `numpy.sort`\n",
    "\n",
    "Return a sorted copy of an array.\n",
    "\n",
    "返回ndarray的排序**副本**\n",
    "\n",
    "```python\n",
    "numpy.sort(a, axis=-1, kind='quicksort', order=None)\n",
    "```"
   ]
  },
  {
   "cell_type": "code",
   "execution_count": 160,
   "metadata": {},
   "outputs": [
    {
     "data": {
      "text/plain": [
       "array([[1, 4],\n",
       "       [2, 3]])"
      ]
     },
     "execution_count": 160,
     "metadata": {},
     "output_type": "execute_result"
    },
    {
     "data": {
      "text/plain": [
       "array([2, 3, 4, 5])"
      ]
     },
     "execution_count": 160,
     "metadata": {},
     "output_type": "execute_result"
    },
    {
     "data": {
      "text/plain": [
       "array([2, 3, 4, 5])"
      ]
     },
     "execution_count": 160,
     "metadata": {},
     "output_type": "execute_result"
    }
   ],
   "source": [
    "arr = np.array([[1, 4], [3, 2]])\n",
    "\n",
    "np.sort(arr)  # 对最后一维排序\n",
    "\n",
    "np.sort(a, axis=None)  # 扁平化排序\n",
    "\n",
    "np.sort(a, axis=0)  # 沿指定轴排序"
   ]
  },
  {
   "cell_type": "markdown",
   "metadata": {},
   "source": [
    "**按 key 排序**"
   ]
  },
  {
   "cell_type": "code",
   "execution_count": 161,
   "metadata": {},
   "outputs": [
    {
     "data": {
      "text/plain": [
       "array([(b'Galahad', 1.7, 38), (b'Arthur', 1.8, 41),\n",
       "       (b'Lancelot', 1.9, 38)],\n",
       "      dtype=[('name', 'S10'), ('height', '<f8'), ('age', '<i4')])"
      ]
     },
     "execution_count": 161,
     "metadata": {},
     "output_type": "execute_result"
    },
    {
     "data": {
      "text/plain": [
       "array([(b'Galahad', 1.7, 38), (b'Lancelot', 1.9, 38),\n",
       "       (b'Arthur', 1.8, 41)],\n",
       "      dtype=[('name', 'S10'), ('height', '<f8'), ('age', '<i4')])"
      ]
     },
     "execution_count": 161,
     "metadata": {},
     "output_type": "execute_result"
    }
   ],
   "source": [
    "dtype = [('name', 'S10'), ('height', float), ('age', int)]\n",
    "values = [('Arthur', 1.8, 41), ('Lancelot', 1.9, 38),\n",
    "          ('Galahad', 1.7, 38)]\n",
    "\n",
    "arr = np.array(values, dtype=dtype)\n",
    "\n",
    "np.sort(arr, order='height')\n",
    "\n",
    "np.sort(arr, order=['age', 'height'])"
   ]
  },
  {
   "cell_type": "markdown",
   "metadata": {},
   "source": [
    "### `numpy.argsort`\n",
    "\n",
    "Returns the indices that would sort an array.\n",
    "\n",
    "返回排序后的ndarray元素在原始ndarray中对应的“坐标”\n",
    "\n",
    "```python\n",
    "numpy.argsort(a, axis=-1, kind='quicksort', order=None)\n",
    "```"
   ]
  },
  {
   "cell_type": "code",
   "execution_count": 162,
   "metadata": {},
   "outputs": [
    {
     "data": {
      "text/plain": [
       "array([[0, 3, 4],\n",
       "       [2, 2, 2]])"
      ]
     },
     "execution_count": 162,
     "metadata": {},
     "output_type": "execute_result"
    },
    {
     "data": {
      "text/plain": [
       "array([0, 3, 4, 5, 1, 2], dtype=int64)"
      ]
     },
     "execution_count": 162,
     "metadata": {},
     "output_type": "execute_result"
    },
    {
     "data": {
      "text/plain": [
       "array([[0, 1, 1],\n",
       "       [1, 0, 0]], dtype=int64)"
      ]
     },
     "execution_count": 162,
     "metadata": {},
     "output_type": "execute_result"
    },
    {
     "data": {
      "text/plain": [
       "array([[0, 1, 2],\n",
       "       [0, 1, 2]], dtype=int64)"
      ]
     },
     "execution_count": 162,
     "metadata": {},
     "output_type": "execute_result"
    }
   ],
   "source": [
    "arr = np.array([[0, 3, 4], [2, 2, 2]])\n",
    "arr\n",
    "\n",
    "np.argsort(arr, axis=None)  # 全排序 扁平化\n",
    "np.argsort(arr, axis=0)  # 按轴排序\n",
    "np.argsort(arr, axis=1)"
   ]
  },
  {
   "cell_type": "markdown",
   "metadata": {},
   "source": [
    "**通过indice构造排序后的ndarray(只适用于axis=None的情况)**"
   ]
  },
  {
   "cell_type": "code",
   "execution_count": 163,
   "metadata": {},
   "outputs": [
    {
     "data": {
      "text/plain": [
       "(array([0, 1, 1, 1, 0, 0], dtype=int64),\n",
       " array([0, 0, 1, 2, 1, 2], dtype=int64))"
      ]
     },
     "execution_count": 163,
     "metadata": {},
     "output_type": "execute_result"
    },
    {
     "data": {
      "text/plain": [
       "array([0, 2, 2, 2, 3, 4])"
      ]
     },
     "execution_count": 163,
     "metadata": {},
     "output_type": "execute_result"
    }
   ],
   "source": [
    "indice = np.unravel_index(np.argsort(arr, axis=None), arr.shape)\n",
    "indice\n",
    "\n",
    "arr[indice]  # 构造排序后的ndarray"
   ]
  },
  {
   "cell_type": "code",
   "execution_count": 164,
   "metadata": {},
   "outputs": [
    {
     "data": {
      "text/plain": [
       "(array([[0, 0, 0],\n",
       "        [0, 0, 0]], dtype=int64), array([[0, 1, 1],\n",
       "        [1, 0, 0]], dtype=int64))"
      ]
     },
     "execution_count": 164,
     "metadata": {},
     "output_type": "execute_result"
    },
    {
     "data": {
      "text/plain": [
       "array([[0, 3, 3],\n",
       "       [3, 0, 0]])"
      ]
     },
     "execution_count": 164,
     "metadata": {},
     "output_type": "execute_result"
    }
   ],
   "source": [
    "indice = np.unravel_index(np.argsort(arr, axis=0), arr.shape)\n",
    "indice\n",
    "\n",
    "arr[indice]  # 和 np.sort(x, axis=0) 不同"
   ]
  },
  {
   "cell_type": "markdown",
   "metadata": {},
   "source": [
    "**正确通过indice构造排序后的ndarray(适用于axis不为None的情况)**\n",
    "\n",
    "实际上就是补上其他维度的“坐标”"
   ]
  },
  {
   "cell_type": "code",
   "execution_count": 165,
   "metadata": {},
   "outputs": [
    {
     "data": {
      "text/plain": [
       "array([[0, 1, 1],\n",
       "       [1, 0, 0]], dtype=int64)"
      ]
     },
     "execution_count": 165,
     "metadata": {},
     "output_type": "execute_result"
    },
    {
     "data": {
      "text/plain": [
       "array([[0, 1, 2],\n",
       "       [0, 1, 2]])"
      ]
     },
     "execution_count": 165,
     "metadata": {},
     "output_type": "execute_result"
    },
    {
     "data": {
      "text/plain": [
       "array([[0, 2, 2],\n",
       "       [2, 3, 4]])"
      ]
     },
     "execution_count": 165,
     "metadata": {},
     "output_type": "execute_result"
    }
   ],
   "source": [
    "indice0 = np.argsort(arr, axis=0)\n",
    "indice0\n",
    "\n",
    "indice1 = np.mgrid[0:2, 0:3][1]\n",
    "indice1\n",
    "\n",
    "arr[indice0, indice1]"
   ]
  },
  {
   "cell_type": "markdown",
   "metadata": {},
   "source": [
    "**按 key 排序**"
   ]
  },
  {
   "cell_type": "code",
   "execution_count": 166,
   "metadata": {},
   "outputs": [
    {
     "data": {
      "text/plain": [
       "array([(1, 0), (0, 1)], dtype=[('x', '<i4'), ('y', '<i4')])"
      ]
     },
     "execution_count": 166,
     "metadata": {},
     "output_type": "execute_result"
    },
    {
     "data": {
      "text/plain": [
       "array([1, 0], dtype=int64)"
      ]
     },
     "execution_count": 166,
     "metadata": {},
     "output_type": "execute_result"
    },
    {
     "data": {
      "text/plain": [
       "array([0, 1], dtype=int64)"
      ]
     },
     "execution_count": 166,
     "metadata": {},
     "output_type": "execute_result"
    }
   ],
   "source": [
    "arr = np.array([(1, 0), (0, 1)], dtype=[('x', '<i4'), ('y', '<i4')])\n",
    "arr\n",
    "\n",
    "np.argsort(arr, order=('x', 'y'))\n",
    "np.argsort(arr, order=('y', 'x'))"
   ]
  },
  {
   "cell_type": "markdown",
   "metadata": {},
   "source": [
    "## `outer`\n",
    "\n",
    "Apply the ufunc op to all pairs (a, b) with a in A and b in B.\n",
    "\n",
    "对输入中的所有a in A 和 b in B组合执行 ufunc\n",
    "\n",
    "```python\n",
    "ufunc.outer(A, B, **kwargs)\n",
    "```\n",
    "\n",
    "执行机制类似于双层for循环\n",
    "\n",
    "```python\n",
    "r = empty(len(A),len(B))\n",
    "for i in range(len(A)):\n",
    "    for j in range(len(B)):\n",
    "        r[i,j] = op(A[i], B[j]) # op = ufunc in question\n",
    "```"
   ]
  },
  {
   "cell_type": "code",
   "execution_count": 167,
   "metadata": {},
   "outputs": [
    {
     "data": {
      "text/plain": [
       "array([[ 4,  5,  6],\n",
       "       [ 8, 10, 12],\n",
       "       [12, 15, 18]])"
      ]
     },
     "execution_count": 167,
     "metadata": {},
     "output_type": "execute_result"
    }
   ],
   "source": [
    "A = np.array([1, 2, 3])\n",
    "B = np.array([4, 5, 6])\n",
    "\n",
    "np.multiply.outer(A, B)"
   ]
  },
  {
   "cell_type": "markdown",
   "metadata": {},
   "source": [
    "**维度比较复杂时**"
   ]
  },
  {
   "cell_type": "code",
   "execution_count": 168,
   "metadata": {},
   "outputs": [
    {
     "data": {
      "text/plain": [
       "(2, 3)"
      ]
     },
     "execution_count": 168,
     "metadata": {},
     "output_type": "execute_result"
    },
    {
     "data": {
      "text/plain": [
       "(2, 2)"
      ]
     },
     "execution_count": 168,
     "metadata": {},
     "output_type": "execute_result"
    },
    {
     "data": {
      "text/plain": [
       "array([[[[ 1,  2],\n",
       "         [ 3,  4]],\n",
       "\n",
       "        [[ 2,  4],\n",
       "         [ 6,  8]],\n",
       "\n",
       "        [[ 3,  6],\n",
       "         [ 9, 12]]],\n",
       "\n",
       "\n",
       "       [[[ 4,  8],\n",
       "         [12, 16]],\n",
       "\n",
       "        [[ 5, 10],\n",
       "         [15, 20]],\n",
       "\n",
       "        [[ 6, 12],\n",
       "         [18, 24]]]])"
      ]
     },
     "execution_count": 168,
     "metadata": {},
     "output_type": "execute_result"
    },
    {
     "data": {
      "text/plain": [
       "(2, 3, 2, 2)"
      ]
     },
     "execution_count": 168,
     "metadata": {},
     "output_type": "execute_result"
    }
   ],
   "source": [
    "A = np.array([[1, 2, 3], [4, 5, 6]])\n",
    "A.shape\n",
    "\n",
    "B = np.array([[1, 2], [3, 4]])\n",
    "B.shape\n",
    "\n",
    "C = np.multiply.outer(A, B)\n",
    "C\n",
    "C.shape"
   ]
  },
  {
   "cell_type": "code",
   "execution_count": 169,
   "metadata": {},
   "outputs": [
    {
     "data": {
      "text/plain": [
       "20"
      ]
     },
     "execution_count": 169,
     "metadata": {},
     "output_type": "execute_result"
    },
    {
     "data": {
      "text/plain": [
       "20"
      ]
     },
     "execution_count": 169,
     "metadata": {},
     "output_type": "execute_result"
    }
   ],
   "source": [
    "C[1, 1, 1, 1]\n",
    "\n",
    "A[1, 1]*B[1, 1]"
   ]
  },
  {
   "cell_type": "markdown",
   "metadata": {},
   "source": [
    "(2,3)  (2,2) -> (2,3,2,2)"
   ]
  },
  {
   "cell_type": "markdown",
   "metadata": {},
   "source": [
    "## `numpy.where`,`numpy.nonzero`和`numpy.argwhere`\n",
    "\n",
    "**`where`与`argwhere`的主要区别在于其给出“坐标”的排列方式的区别**\n",
    "\n",
    "### `numpy.where`\n",
    "\n",
    "Return elements, either from x or y, depending on condition. If only condition is given, return condition.nonzero().\n",
    "\n",
    "返回依据条件从x或y中选取的值，如果只给定了条件，则返回`condition.nonzero()`\n",
    "\n",
    "`numpy.where(condition[, x, y])`\n",
    "\n",
    "`numpy.where` 有两种用途\n",
    "\n",
    "- 给定 condition 和 x, y\n",
    "- 只给定 condition,返回`condition.nonzero()`即复合条件的元素的反直觉“坐标”"
   ]
  },
  {
   "cell_type": "markdown",
   "metadata": {},
   "source": [
    "#### 同时给定condition和x, y\n",
    "\n",
    "大概相当于（以1-D为例）\n",
    "\n",
    "`[xv if c else yv for (c,xv,yv) in zip(condition,x,y)]`"
   ]
  },
  {
   "cell_type": "code",
   "execution_count": 170,
   "metadata": {},
   "outputs": [
    {
     "data": {
      "text/plain": [
       "array([[1, 8],\n",
       "       [3, 4]])"
      ]
     },
     "execution_count": 170,
     "metadata": {},
     "output_type": "execute_result"
    },
    {
     "data": {
      "text/plain": [
       "array([[ 0.,  1.,  2.],\n",
       "       [ 3.,  4., -1.],\n",
       "       [-1., -1., -1.]])"
      ]
     },
     "execution_count": 170,
     "metadata": {},
     "output_type": "execute_result"
    }
   ],
   "source": [
    "np.where([[True, False], [True, True]], [[1, 2], [3, 4]], [[9, 8], [7, 6]])\n",
    "\n",
    "# 类似 [xv if c else yv for (c,xv,yv) in zip(condition,x,y)]\n",
    "arr = np.arange(9.).reshape(3, 3)\n",
    "np.where(arr < 5, arr, -1)"
   ]
  },
  {
   "cell_type": "markdown",
   "metadata": {},
   "source": [
    "#### 不给定x y只给定一个条件\n",
    "\n",
    "则返回一个“坐标”**(不符合直觉的“坐标”，是一个列表，列表的每一项对应一个维度上所有元素的坐标值，这种坐标可用于反向索引得到对应数据)**"
   ]
  },
  {
   "cell_type": "code",
   "execution_count": 171,
   "metadata": {},
   "outputs": [
    {
     "data": {
      "text/plain": [
       "(array([0, 1], dtype=int64), array([1, 0], dtype=int64))"
      ]
     },
     "execution_count": 171,
     "metadata": {},
     "output_type": "execute_result"
    },
    {
     "data": {
      "text/plain": [
       "(array([0, 1], dtype=int64), array([1, 0], dtype=int64))"
      ]
     },
     "execution_count": 171,
     "metadata": {},
     "output_type": "execute_result"
    }
   ],
   "source": [
    "np.where([[0, 1], [1, 0]])  # 等价于 np.where(np.array([[0, 1], [1, 0]])!=0)\n",
    "\n",
    "np.where(np.array([[0, 1], [1, 0]]) != 0)"
   ]
  },
  {
   "cell_type": "code",
   "execution_count": 172,
   "metadata": {},
   "outputs": [
    {
     "data": {
      "text/plain": [
       "(array([2, 2, 2], dtype=int64), array([0, 1, 2], dtype=int64))"
      ]
     },
     "execution_count": 172,
     "metadata": {},
     "output_type": "execute_result"
    }
   ],
   "source": [
    "arr = np.arange(9.).reshape(3, 3)\n",
    "\n",
    "np.where(arr > 5)  # 返回“坐标”"
   ]
  },
  {
   "cell_type": "markdown",
   "metadata": {},
   "source": [
    "**采用这种 indexing 方式，得到的结果为 1-D，前文解释了，因为作为索引的序列为1-D，且对arr前2维度进行索引得到的也是单个元素，不会对结果的维度进行增补**"
   ]
  },
  {
   "cell_type": "code",
   "execution_count": 173,
   "metadata": {},
   "outputs": [
    {
     "data": {
      "text/plain": [
       "(array([2, 2, 2], dtype=int64), array([0, 1, 2], dtype=int64))"
      ]
     },
     "execution_count": 173,
     "metadata": {},
     "output_type": "execute_result"
    },
    {
     "data": {
      "text/plain": [
       "array([6., 7., 8.])"
      ]
     },
     "execution_count": 173,
     "metadata": {},
     "output_type": "execute_result"
    }
   ],
   "source": [
    "indice = np.where(arr > 5)\n",
    "indice\n",
    "\n",
    "arr[indice]"
   ]
  },
  {
   "cell_type": "markdown",
   "metadata": {},
   "source": [
    "### `numpy.nonzero`\n",
    "\n",
    "Return the indices of the elements that are non-zero.\n",
    "\n",
    "返回非零元素“坐标”\n",
    "\n",
    "```python\n",
    "numpy.nonzero(a)\n",
    "```\n",
    "\n",
    "给出的结果也是 **反直觉“坐标”**"
   ]
  },
  {
   "cell_type": "code",
   "execution_count": 174,
   "metadata": {},
   "outputs": [
    {
     "data": {
      "text/plain": [
       "(array([0, 0, 0, 1, 1, 1, 1, 2, 2, 2, 2], dtype=int64),\n",
       " array([1, 2, 3, 0, 1, 2, 3, 0, 1, 2, 3], dtype=int64))"
      ]
     },
     "execution_count": 174,
     "metadata": {},
     "output_type": "execute_result"
    },
    {
     "data": {
      "text/plain": [
       "array([ 1,  2,  3,  4,  5,  6,  7,  8,  9, 10, 11])"
      ]
     },
     "execution_count": 174,
     "metadata": {},
     "output_type": "execute_result"
    }
   ],
   "source": [
    "arr = np.arange(12).reshape(3, 4)\n",
    "\n",
    "np.nonzero(arr)\n",
    "\n",
    "arr[np.nonzero(arr)]  # 反向 indexing 得到对应数据"
   ]
  },
  {
   "cell_type": "markdown",
   "metadata": {},
   "source": [
    "### numpy.argwhere\n",
    "\n",
    "Find the indices of array elements that are non-zero, grouped by element.\n",
    "\n",
    "检索非零元素\n",
    "\n",
    "```python\n",
    "numpy.argwhere(a)\n",
    "```\n",
    "\n",
    "返回的结果是一个个的 坐标 **(符合直觉的坐标，每个元素都由(x,y,...)构成，即一个坐标)**"
   ]
  },
  {
   "cell_type": "code",
   "execution_count": 175,
   "metadata": {},
   "outputs": [
    {
     "data": {
      "text/plain": [
       "array([[ 0,  1,  2,  3],\n",
       "       [ 4,  5,  6,  7],\n",
       "       [ 8,  9, 10, 11]])"
      ]
     },
     "execution_count": 175,
     "metadata": {},
     "output_type": "execute_result"
    },
    {
     "data": {
      "text/plain": [
       "array([[0, 2],\n",
       "       [0, 3],\n",
       "       [1, 0],\n",
       "       [1, 1],\n",
       "       [1, 2],\n",
       "       [1, 3],\n",
       "       [2, 0],\n",
       "       [2, 1],\n",
       "       [2, 2],\n",
       "       [2, 3]], dtype=int64)"
      ]
     },
     "execution_count": 175,
     "metadata": {},
     "output_type": "execute_result"
    }
   ],
   "source": [
    "arr = np.arange(12).reshape(3, 4)\n",
    "arr\n",
    "\n",
    "np.argwhere(arr > 1)"
   ]
  },
  {
   "cell_type": "markdown",
   "metadata": {},
   "source": [
    "**这种坐标用于索引，因为只对第一维度（ndarray 被视为一个整体）进行索引，显然不能得到条件对应的元素**"
   ]
  },
  {
   "cell_type": "markdown",
   "metadata": {},
   "source": [
    "## `mgrid`, `ogrid`, `meshgrid`, `ndenumerate`与`indices`\n",
    "\n",
    "这些函数或方法都与“坐标”有关\n",
    "\n",
    "### `mgrid`\n",
    "\n",
    "nd_grid instance which returns a dense multi-dimensional “meshgrid”.\n",
    "\n",
    "返回一个类似网格化坐标的**ndarray**\n",
    "\n",
    "```python\n",
    "numpy.mgrid = <numpy.lib.index_tricks.nd_grid object>\n",
    "```\n",
    "\n",
    "**对于输入序列 x1, x2,…, ‘xn，长度分别为 Ni=len(xi)，返回ndarray形状为(n, N1, N2, N3,...Nn) 的ndarray,其中x1在ndarray的第一个元素的第1维上排列，x2在ndarray的第二个元素的第2维上排列，以此类推。**"
   ]
  },
  {
   "cell_type": "code",
   "execution_count": 176,
   "metadata": {},
   "outputs": [
    {
     "data": {
      "text/plain": [
       "array([[[0, 0, 0],\n",
       "        [2, 2, 2]],\n",
       "\n",
       "       [[0, 2, 4],\n",
       "        [0, 2, 4]]])"
      ]
     },
     "execution_count": 176,
     "metadata": {},
     "output_type": "execute_result"
    },
    {
     "data": {
      "text/plain": [
       "(2, 2, 3)"
      ]
     },
     "execution_count": 176,
     "metadata": {},
     "output_type": "execute_result"
    },
    {
     "data": {
      "text/plain": [
       "array([-1. , -0.5,  0. ,  0.5,  1. ])"
      ]
     },
     "execution_count": 176,
     "metadata": {},
     "output_type": "execute_result"
    }
   ],
   "source": [
    "arr = np.mgrid[0:4:2, 0:6:2]  # 可以加 step\n",
    "arr\n",
    "\n",
    "arr.shape\n",
    "\n",
    "np.mgrid[-1:1:5j]  # 也可以是复数"
   ]
  },
  {
   "cell_type": "code",
   "execution_count": 177,
   "metadata": {},
   "outputs": [
    {
     "data": {
      "text/plain": [
       "array([[[[0, 0, 0, 0],\n",
       "         [0, 0, 0, 0],\n",
       "         [0, 0, 0, 0]],\n",
       "\n",
       "        [[2, 2, 2, 2],\n",
       "         [2, 2, 2, 2],\n",
       "         [2, 2, 2, 2]]],\n",
       "\n",
       "\n",
       "       [[[0, 0, 0, 0],\n",
       "         [2, 2, 2, 2],\n",
       "         [4, 4, 4, 4]],\n",
       "\n",
       "        [[0, 0, 0, 0],\n",
       "         [2, 2, 2, 2],\n",
       "         [4, 4, 4, 4]]],\n",
       "\n",
       "\n",
       "       [[[0, 2, 4, 6],\n",
       "         [0, 2, 4, 6],\n",
       "         [0, 2, 4, 6]],\n",
       "\n",
       "        [[0, 2, 4, 6],\n",
       "         [0, 2, 4, 6],\n",
       "         [0, 2, 4, 6]]]])"
      ]
     },
     "execution_count": 177,
     "metadata": {},
     "output_type": "execute_result"
    },
    {
     "data": {
      "text/plain": [
       "(3, 2, 3, 4)"
      ]
     },
     "execution_count": 177,
     "metadata": {},
     "output_type": "execute_result"
    }
   ],
   "source": [
    "arr = np.mgrid[0:4:2, 0:6:2, 0:8:2]  # 可以加 step\n",
    "arr\n",
    "\n",
    "arr.shape"
   ]
  },
  {
   "cell_type": "markdown",
   "metadata": {},
   "source": [
    "### `ogrid `\n",
    "\n",
    "nd_grid instance which returns an open multi-dimensional “meshgrid”.\n",
    "\n",
    "返回一个类似网格化坐标的**列表**，列表中为几个ndarray\n",
    "\n",
    "```python\n",
    "numpy.ogrid = <numpy.lib.index_tricks.nd_grid object>\n",
    "```\n",
    "\n",
    "**对于输入序列 x1, x2,…, ‘xn，长度分别为 Ni=len(xi)，返回一个列表，其中第一个形状为(N1,1,1,...)第二个为(1,N2,1,...),依次类推。其中x1在第一个ndarray的第1维上排列，x2在第二个ndarray的第2维上排列，以此类推。**"
   ]
  },
  {
   "cell_type": "code",
   "execution_count": 178,
   "metadata": {},
   "outputs": [
    {
     "data": {
      "text/plain": [
       "[array([[0],\n",
       "        [2]]), array([[0, 2, 4]])]"
      ]
     },
     "execution_count": 178,
     "metadata": {},
     "output_type": "execute_result"
    },
    {
     "data": {
      "text/plain": [
       "((2, 1), (1, 3))"
      ]
     },
     "execution_count": 178,
     "metadata": {},
     "output_type": "execute_result"
    },
    {
     "data": {
      "text/plain": [
       "array([-1. , -0.5,  0. ,  0.5,  1. ])"
      ]
     },
     "execution_count": 178,
     "metadata": {},
     "output_type": "execute_result"
    }
   ],
   "source": [
    "ls = np.ogrid[0:4:2, 0:6:2]\n",
    "ls\n",
    "ls[0].shape, ls[1].shape\n",
    "\n",
    "np.ogrid[-1:1:5j]  # 也可以是复数"
   ]
  },
  {
   "cell_type": "code",
   "execution_count": 179,
   "metadata": {},
   "outputs": [
    {
     "data": {
      "text/plain": [
       "[array([[[0]],\n",
       " \n",
       "        [[2]]]), array([[[0],\n",
       "         [2],\n",
       "         [4]]]), array([[[0, 2, 4, 6]]])]"
      ]
     },
     "execution_count": 179,
     "metadata": {},
     "output_type": "execute_result"
    },
    {
     "data": {
      "text/plain": [
       "((2, 1, 1), (1, 3, 1), (1, 1, 4))"
      ]
     },
     "execution_count": 179,
     "metadata": {},
     "output_type": "execute_result"
    }
   ],
   "source": [
    "ls = np.ogrid[0:4:2, 0:6:2, 0:8:2]\n",
    "ls\n",
    "ls[0].shape, ls[1].shape, ls[2].shape"
   ]
  },
  {
   "cell_type": "markdown",
   "metadata": {},
   "source": [
    "### `meshgrid`\n",
    "\n",
    "Return coordinate matrices from coordinate vectors.\n",
    "\n",
    "基于坐标向量返回一个类似网格化坐标的**列表**，列表中为几个ndarray\n",
    "\n",
    "```python\n",
    "numpy.meshgrid(*xi, **kwargs)\n",
    "```\n",
    "\n",
    "对于输入序列 x1, x2,…, ‘xn，长度分别为 Ni=len(xi)，\n",
    "\n",
    "- 如果indexing=’ij’返回列表中包含n个形状为(N1, N2, N3,...Nn) 的ndarray,其中x1在第一个ndarray的第1维上排列，x2在第二个ndarray的第2维上排列，以此类推。\n",
    "- 如果indexing=’xy’返回列表中包含n个形状为(N2, N1, N3,...Nn) 的ndarray，其中x1在第一个ndarray的第2维上排列，x2在第二个ndarray的第1维上排列，其他和上一中情况类似，以此类推。\n",
    "\n",
    "\n",
    "\n",
    "\n",
    "**与 mgrid 的区别除了返回类型为列表外，排列顺序也更为复杂（分两种情况）。**"
   ]
  },
  {
   "cell_type": "code",
   "execution_count": 180,
   "metadata": {},
   "outputs": [],
   "source": [
    "x = np.arange(0, 4, 2)\n",
    "y = np.arange(0, 6, 2)\n",
    "z = np.arange(0, 8, 2)"
   ]
  },
  {
   "cell_type": "code",
   "execution_count": 181,
   "metadata": {},
   "outputs": [
    {
     "data": {
      "text/plain": [
       "(2, 3, 4)"
      ]
     },
     "execution_count": 181,
     "metadata": {},
     "output_type": "execute_result"
    },
    {
     "data": {
      "text/plain": [
       "[array([[[0, 0, 0, 0],\n",
       "         [0, 0, 0, 0],\n",
       "         [0, 0, 0, 0]],\n",
       " \n",
       "        [[2, 2, 2, 2],\n",
       "         [2, 2, 2, 2],\n",
       "         [2, 2, 2, 2]]]), array([[[0, 0, 0, 0],\n",
       "         [2, 2, 2, 2],\n",
       "         [4, 4, 4, 4]],\n",
       " \n",
       "        [[0, 0, 0, 0],\n",
       "         [2, 2, 2, 2],\n",
       "         [4, 4, 4, 4]]]), array([[[0, 2, 4, 6],\n",
       "         [0, 2, 4, 6],\n",
       "         [0, 2, 4, 6]],\n",
       " \n",
       "        [[0, 2, 4, 6],\n",
       "         [0, 2, 4, 6],\n",
       "         [0, 2, 4, 6]]])]"
      ]
     },
     "execution_count": 181,
     "metadata": {},
     "output_type": "execute_result"
    }
   ],
   "source": [
    "ls = np.meshgrid(x, y, z, indexing='ij')\n",
    "\n",
    "ls[0].shape\n",
    "ls"
   ]
  },
  {
   "cell_type": "code",
   "execution_count": 182,
   "metadata": {},
   "outputs": [
    {
     "data": {
      "text/plain": [
       "(3, 2, 4)"
      ]
     },
     "execution_count": 182,
     "metadata": {},
     "output_type": "execute_result"
    },
    {
     "data": {
      "text/plain": [
       "[array([[[0, 0, 0, 0],\n",
       "         [2, 2, 2, 2]],\n",
       " \n",
       "        [[0, 0, 0, 0],\n",
       "         [2, 2, 2, 2]],\n",
       " \n",
       "        [[0, 0, 0, 0],\n",
       "         [2, 2, 2, 2]]]), array([[[0, 0, 0, 0],\n",
       "         [0, 0, 0, 0]],\n",
       " \n",
       "        [[2, 2, 2, 2],\n",
       "         [2, 2, 2, 2]],\n",
       " \n",
       "        [[4, 4, 4, 4],\n",
       "         [4, 4, 4, 4]]]), array([[[0, 2, 4, 6],\n",
       "         [0, 2, 4, 6]],\n",
       " \n",
       "        [[0, 2, 4, 6],\n",
       "         [0, 2, 4, 6]],\n",
       " \n",
       "        [[0, 2, 4, 6],\n",
       "         [0, 2, 4, 6]]])]"
      ]
     },
     "execution_count": 182,
     "metadata": {},
     "output_type": "execute_result"
    }
   ],
   "source": [
    "ls_2 = np.meshgrid(x, y, z, indexing='xy')\n",
    "ls_2[0].shape\n",
    "ls_2"
   ]
  },
  {
   "cell_type": "markdown",
   "metadata": {},
   "source": [
    "例如用于函数在一定区间的求值"
   ]
  },
  {
   "cell_type": "code",
   "execution_count": 183,
   "metadata": {},
   "outputs": [
    {
     "data": {
      "image/png": "[encoded data removed]",
      "text/plain": [
       "<Figure size 432x288 with 1 Axes>"
      ]
     },
     "metadata": {
      "needs_background": "light"
     },
     "output_type": "display_data"
    }
   ],
   "source": [
    "import matplotlib.pyplot as plt\n",
    "x = np.arange(-5, 5, 0.1)\n",
    "y = np.arange(-5, 5, 0.1)\n",
    "xx, yy = np.meshgrid(x, y, sparse=True)\n",
    "z = np.sin(xx**2 + yy**2) / (xx**2 + yy**2)\n",
    "h = plt.contourf(x, y, z)\n",
    "plt.show()"
   ]
  },
  {
   "cell_type": "markdown",
   "metadata": {},
   "source": [
    "### `ndenumerate`\n",
    "\n",
    "Multidimensional index iterator.\n",
    "\n",
    "多维数组迭代器\n",
    "\n",
    "```python\n",
    "class numpy.ndenumerate(arr)\n",
    "```"
   ]
  },
  {
   "cell_type": "code",
   "execution_count": 184,
   "metadata": {},
   "outputs": [
    {
     "name": "stdout",
     "output_type": "stream",
     "text": [
      "(0, 0) 0\n",
      "(0, 1) 1\n",
      "(0, 2) 2\n",
      "(0, 3) 3\n",
      "(1, 0) 4\n",
      "(1, 1) 5\n",
      "(1, 2) 6\n",
      "(1, 3) 7\n",
      "(2, 0) 8\n",
      "(2, 1) 9\n",
      "(2, 2) 10\n",
      "(2, 3) 11\n"
     ]
    }
   ],
   "source": [
    "arr = np.arange(12).reshape(3, 4)\n",
    "for index, x in np.ndenumerate(arr):\n",
    "    print(index, x)"
   ]
  },
  {
   "cell_type": "markdown",
   "metadata": {},
   "source": [
    "### `indices`\n",
    "\n",
    "Return an array representing the indices of a grid.\n",
    "\n",
    "返回一个指定形状的坐标ndarray\n",
    "\n",
    "```python\n",
    "numpy.indices(dimensions, dtype=<class 'int'>)\n",
    "```\n",
    "\n",
    "**算是`mgrid`的方便版本，相比`mgrid`少了一点改动空间，但更加方便，结果的排列方式和`mgrid`也是一样的。**"
   ]
  },
  {
   "cell_type": "code",
   "execution_count": 185,
   "metadata": {
    "scrolled": true
   },
   "outputs": [
    {
     "data": {
      "text/plain": [
       "array([[[0, 0, 0, 0],\n",
       "        [1, 1, 1, 1],\n",
       "        [2, 2, 2, 2]],\n",
       "\n",
       "       [[0, 1, 2, 3],\n",
       "        [0, 1, 2, 3],\n",
       "        [0, 1, 2, 3]]])"
      ]
     },
     "execution_count": 185,
     "metadata": {},
     "output_type": "execute_result"
    },
    {
     "data": {
      "text/plain": [
       "array([[ 0,  1,  2,  3],\n",
       "       [ 4,  5,  6,  7],\n",
       "       [ 8,  9, 10, 11]])"
      ]
     },
     "execution_count": 185,
     "metadata": {},
     "output_type": "execute_result"
    }
   ],
   "source": [
    "arr = np.arange(12).reshape(3, 4)\n",
    "\n",
    "indice = np.indices((3, 4))\n",
    "indice\n",
    "\n",
    "arr[indice[0], indice[1]]"
   ]
  },
  {
   "cell_type": "markdown",
   "metadata": {},
   "source": [
    "## `allclose`与`array_equal`"
   ]
  },
  {
   "cell_type": "markdown",
   "metadata": {},
   "source": [
    "**allclose**\n",
    "\n",
    "Returns True if two arrays are element-wise equal within a tolerance.\n",
    "\n",
    "如果两个 array 每一项误差都在可容忍范围内则返回 True\n",
    "\n",
    "```python\n",
    "numpy.allclose(a, b, rtol=1e-05, atol=1e-08, equal_nan=False)\n",
    "```\n",
    "\n",
    "**默认两个 nan 是不相等的，可通过 `equal_nan=True` 设置**\n",
    "\n",
    "**array_equal**\n",
    "\n",
    "True if two arrays have the same shape and elements, False otherwise.\n",
    "\n",
    "如果两个ndarray的形状以及所有元素相等，则返回True\n",
    "\n",
    "```python\n",
    "numpy.array_equal(a1, a2)\n",
    "```"
   ]
  },
  {
   "cell_type": "code",
   "execution_count": 186,
   "metadata": {
    "scrolled": true
   },
   "outputs": [
    {
     "data": {
      "text/plain": [
       "False"
      ]
     },
     "execution_count": 186,
     "metadata": {},
     "output_type": "execute_result"
    },
    {
     "data": {
      "text/plain": [
       "True"
      ]
     },
     "execution_count": 186,
     "metadata": {},
     "output_type": "execute_result"
    },
    {
     "data": {
      "text/plain": [
       "False"
      ]
     },
     "execution_count": 186,
     "metadata": {},
     "output_type": "execute_result"
    },
    {
     "data": {
      "text/plain": [
       "False"
      ]
     },
     "execution_count": 186,
     "metadata": {},
     "output_type": "execute_result"
    },
    {
     "data": {
      "text/plain": [
       "True"
      ]
     },
     "execution_count": 186,
     "metadata": {},
     "output_type": "execute_result"
    }
   ],
   "source": [
    "np.allclose([1e10, 1e-7], [1.00001e10, 1e-8])\n",
    "\n",
    "np.allclose([1e10, 1e-8], [1.00001e10, 1e-9])\n",
    "\n",
    "np.allclose([1e10, 1e-8], [1.0001e10, 1e-9])\n",
    "\n",
    "np.allclose([1.0, np.nan], [1.0, np.nan])\n",
    "\n",
    "np.allclose([1.0, np.nan], [1.0, np.nan], equal_nan=True)"
   ]
  },
  {
   "cell_type": "code",
   "execution_count": 187,
   "metadata": {},
   "outputs": [
    {
     "data": {
      "text/plain": [
       "True"
      ]
     },
     "execution_count": 187,
     "metadata": {},
     "output_type": "execute_result"
    },
    {
     "data": {
      "text/plain": [
       "True"
      ]
     },
     "execution_count": 187,
     "metadata": {},
     "output_type": "execute_result"
    }
   ],
   "source": [
    "np.array_equal([1, 2], [1, 2])\n",
    "\n",
    "np.array_equal(np.array([1, 2]), np.array([1, 2]))"
   ]
  },
  {
   "cell_type": "markdown",
   "metadata": {},
   "source": [
    "## ndarray 和 matrix\n",
    "\n",
    "参考：[What are the differences between numpy arrays and matrices? Which one should I use?\n",
    "](https://stackoverflow.com/questions/4151128/what-are-the-differences-between-numpy-arrays-and-matrices-which-one-should-i-u)\n",
    "\n",
    "matrix 是严格 2 维的，而 ndarray 可以是 n 维的，matrix 是 ndarray 的一个子集，拥有全部 ndarray 的方法。matrix 主要的好处是可以方便的进行矩阵乘法，`a*b` 操作即为矩阵乘法"
   ]
  },
  {
   "cell_type": "code",
   "execution_count": 188,
   "metadata": {},
   "outputs": [
    {
     "data": {
      "text/plain": [
       "matrix([[4, 3],\n",
       "        [2, 1]])"
      ]
     },
     "execution_count": 188,
     "metadata": {},
     "output_type": "execute_result"
    },
    {
     "data": {
      "text/plain": [
       "matrix([[4, 3],\n",
       "        [2, 1]])"
      ]
     },
     "execution_count": 188,
     "metadata": {},
     "output_type": "execute_result"
    },
    {
     "data": {
      "text/plain": [
       "matrix([[13, 20],\n",
       "        [ 5,  8]])"
      ]
     },
     "execution_count": 188,
     "metadata": {},
     "output_type": "execute_result"
    }
   ],
   "source": [
    "a = np.mat('4 3; 2 1')\n",
    "a\n",
    "\n",
    "b = np.mat('1 2; 3 4')\n",
    "a\n",
    "\n",
    "a*b"
   ]
  },
  {
   "cell_type": "markdown",
   "metadata": {},
   "source": [
    "不过在 Python 3.5 以后的版本，NumPy 也支持对 ndaaray 的 @ 操作符，同样也是矩阵乘法"
   ]
  },
  {
   "cell_type": "code",
   "execution_count": 189,
   "metadata": {},
   "outputs": [
    {
     "data": {
      "text/plain": [
       "matrix([[13, 20],\n",
       "        [ 5,  8]])"
      ]
     },
     "execution_count": 189,
     "metadata": {},
     "output_type": "execute_result"
    }
   ],
   "source": [
    "a@b"
   ]
  },
  {
   "cell_type": "markdown",
   "metadata": {},
   "source": [
    "matrix 和 ndarray 都有 `.T` 方法，但是 matrix 还有 `.I` 逆矩阵和 `.H` 共轭矩阵方法，由于 `*` 操作符功能的不同， `**` 操作符的功能也不一样\n",
    "\n",
    "可通过 `np.asmatrix` 和 `np.asarray` 相互转换两种类型"
   ]
  },
  {
   "cell_type": "markdown",
   "metadata": {},
   "source": [
    "## reshape后自动降维\n",
    "\n",
    "**ndarray会在切片选择时自动将长度为1的维度隐去，比如(n, m)形状的ndarray取一列，shape 自动变为 (n,)而不是（n,1）**\n",
    "\n",
    "这两种形状在进行矩阵运算时会产生一些不可预知的问题。**为了保持情况可控，最好将形状为(n,)的ndarray先reshape为 (n,1) 或 (1,n)**"
   ]
  },
  {
   "cell_type": "code",
   "execution_count": 190,
   "metadata": {},
   "outputs": [
    {
     "data": {
      "text/plain": [
       "(4,)"
      ]
     },
     "execution_count": 190,
     "metadata": {},
     "output_type": "execute_result"
    },
    {
     "data": {
      "text/plain": [
       "(4,)"
      ]
     },
     "execution_count": 190,
     "metadata": {},
     "output_type": "execute_result"
    }
   ],
   "source": [
    "arr = np.arange(12).reshape((3, 4))\n",
    "\n",
    "sliced = arr[0, :]\n",
    "sliced.shape  # 不是(1,3)\n",
    "sliced.T.shape"
   ]
  },
  {
   "cell_type": "code",
   "execution_count": 191,
   "metadata": {},
   "outputs": [
    {
     "data": {
      "text/plain": [
       "matrix([[ 0,  1,  2,  3],\n",
       "        [ 4,  5,  6,  7],\n",
       "        [ 8,  9, 10, 11]])"
      ]
     },
     "execution_count": 191,
     "metadata": {},
     "output_type": "execute_result"
    },
    {
     "data": {
      "text/plain": [
       "(1, 4)"
      ]
     },
     "execution_count": 191,
     "metadata": {},
     "output_type": "execute_result"
    },
    {
     "data": {
      "text/plain": [
       "(4, 1)"
      ]
     },
     "execution_count": 191,
     "metadata": {},
     "output_type": "execute_result"
    }
   ],
   "source": [
    "arr_mat = np.asmatrix(arr)\n",
    "arr_mat\n",
    "\n",
    "sliced_mat = arr_mat[0, :]\n",
    "sliced_mat.shape\n",
    "sliced_mat.T.shape"
   ]
  },
  {
   "cell_type": "markdown",
   "metadata": {},
   "source": [
    "shape 为 (n,)的 ndarray进行计算可能会出现不可预测的结果"
   ]
  },
  {
   "cell_type": "code",
   "execution_count": 192,
   "metadata": {},
   "outputs": [
    {
     "data": {
      "text/plain": [
       "array([6.])"
      ]
     },
     "execution_count": 192,
     "metadata": {},
     "output_type": "execute_result"
    },
    {
     "data": {
      "text/plain": [
       "array([6.])"
      ]
     },
     "execution_count": 192,
     "metadata": {},
     "output_type": "execute_result"
    },
    {
     "name": "stdout",
     "output_type": "stream",
     "text": [
      "matmul: Input operand 1 has a mismatch in its core dimension 0, with gufunc signature (n?,k),(k,m?)->(n?,m?) (size 1 is different from 4)\n",
      "matmul: Input operand 1 has a mismatch in its core dimension 0, with gufunc signature (n?,k),(k,m?)->(n?,m?) (size 4 is different from 1)\n"
     ]
    }
   ],
   "source": [
    "sliced@np.ones((4, 1))\n",
    "\n",
    "np.ones((1, 4))@sliced\n",
    "\n",
    "try:\n",
    "    sliced@np.ones((1, 4))\n",
    "except Exception as e:\n",
    "    print(e)\n",
    "\n",
    "try:\n",
    "    np.ones((4, 1))@sliced\n",
    "except Exception as e:\n",
    "    print(e)"
   ]
  },
  {
   "cell_type": "markdown",
   "metadata": {},
   "source": [
    "## (n, )和(n, 1)的广播原则\n",
    "\n",
    "(n, )在大多数时候类似于(1,n)"
   ]
  },
  {
   "cell_type": "code",
   "execution_count": 193,
   "metadata": {},
   "outputs": [
    {
     "data": {
      "text/plain": [
       "array([0, 1, 2])"
      ]
     },
     "execution_count": 193,
     "metadata": {},
     "output_type": "execute_result"
    },
    {
     "data": {
      "text/plain": [
       "array([[False, False, False],\n",
       "       [False, False, False],\n",
       "       [ True,  True,  True]])"
      ]
     },
     "execution_count": 193,
     "metadata": {},
     "output_type": "execute_result"
    }
   ],
   "source": [
    "arr = np.arange(3)\n",
    "arr\n",
    "\n",
    "mask = np.arange(9).reshape((3, 3)) > 5\n",
    "mask"
   ]
  },
  {
   "cell_type": "code",
   "execution_count": 194,
   "metadata": {},
   "outputs": [
    {
     "data": {
      "text/plain": [
       "array([[0, 0, 0],\n",
       "       [0, 0, 0],\n",
       "       [0, 1, 2]])"
      ]
     },
     "execution_count": 194,
     "metadata": {},
     "output_type": "execute_result"
    },
    {
     "data": {
      "text/plain": [
       "array([[0, 0, 0],\n",
       "       [0, 0, 0],\n",
       "       [0, 1, 2]])"
      ]
     },
     "execution_count": 194,
     "metadata": {},
     "output_type": "execute_result"
    }
   ],
   "source": [
    "arr * mask\n",
    "\n",
    "mask*arr"
   ]
  },
  {
   "cell_type": "code",
   "execution_count": 195,
   "metadata": {},
   "outputs": [
    {
     "data": {
      "text/plain": [
       "array([[0, 0, 0],\n",
       "       [0, 0, 0],\n",
       "       [2, 2, 2]])"
      ]
     },
     "execution_count": 195,
     "metadata": {},
     "output_type": "execute_result"
    }
   ],
   "source": [
    "arr.reshape(3, 1)*mask"
   ]
  },
  {
   "cell_type": "markdown",
   "metadata": {},
   "source": [
    "**两者给出的结果完全不同**"
   ]
  },
  {
   "cell_type": "markdown",
   "metadata": {},
   "source": [
    "为了保证 ndarray 维度可控，不要使用类似 (5,) 形状的 ndarray。\n",
    "\n",
    "解决方案：\n",
    "- 在可能出现 1维 ndarray 的地方增加一个 reshape(n, 1)操作，必要的时候放一个 assert 语句保证不出错\n",
    "- 使用 keepdims 参数，不过在切片时似乎并不能使用这一参数"
   ]
  },
  {
   "cell_type": "code",
   "execution_count": 196,
   "metadata": {},
   "outputs": [
    {
     "data": {
      "text/plain": [
       "3"
      ]
     },
     "execution_count": 196,
     "metadata": {},
     "output_type": "execute_result"
    },
    {
     "data": {
      "text/plain": [
       "()"
      ]
     },
     "execution_count": 196,
     "metadata": {},
     "output_type": "execute_result"
    },
    {
     "data": {
      "text/plain": [
       "array([3])"
      ]
     },
     "execution_count": 196,
     "metadata": {},
     "output_type": "execute_result"
    },
    {
     "data": {
      "text/plain": [
       "(1,)"
      ]
     },
     "execution_count": 196,
     "metadata": {},
     "output_type": "execute_result"
    }
   ],
   "source": [
    "sum_ = np.sum(arr, axis=0)\n",
    "sum_\n",
    "sum_.shape\n",
    "\n",
    "sum__ = np.sum(arr, axis=0, keepdims=True)\n",
    "sum__\n",
    "sum__.shape"
   ]
  },
  {
   "cell_type": "markdown",
   "metadata": {},
   "source": [
    "## `tile`和`repeat`\n",
    "\n",
    "**tile**\n",
    "\n",
    "Construct an array by repeating A the number of times given by reps. \n",
    "\n",
    "**整体重复**输入的ndarray\n",
    "\n",
    "`numpy.tile(A, reps)`\n",
    "\n",
    "**repeat**\n",
    "\n",
    "Repeat elements of an array.\n",
    "\n",
    "**按元素重复**,默认`axis=None`\n",
    "\n",
    "```python\n",
    "numpy.repeat(a, repeats, axis=None)\n",
    "``` "
   ]
  },
  {
   "cell_type": "code",
   "execution_count": 197,
   "metadata": {},
   "outputs": [
    {
     "data": {
      "text/plain": [
       "array([[ 0,  1,  2,  3,  0,  1,  2,  3],\n",
       "       [ 4,  5,  6,  7,  4,  5,  6,  7],\n",
       "       [ 8,  9, 10, 11,  8,  9, 10, 11]])"
      ]
     },
     "execution_count": 197,
     "metadata": {},
     "output_type": "execute_result"
    },
    {
     "data": {
      "text/plain": [
       "array([[ 0,  1,  2,  3,  0,  1,  2,  3],\n",
       "       [ 4,  5,  6,  7,  4,  5,  6,  7],\n",
       "       [ 8,  9, 10, 11,  8,  9, 10, 11],\n",
       "       [ 0,  1,  2,  3,  0,  1,  2,  3],\n",
       "       [ 4,  5,  6,  7,  4,  5,  6,  7],\n",
       "       [ 8,  9, 10, 11,  8,  9, 10, 11]])"
      ]
     },
     "execution_count": 197,
     "metadata": {},
     "output_type": "execute_result"
    },
    {
     "data": {
      "text/plain": [
       "array([[[ 0,  1,  2,  3,  0,  1,  2,  3],\n",
       "        [ 4,  5,  6,  7,  4,  5,  6,  7],\n",
       "        [ 8,  9, 10, 11,  8,  9, 10, 11]],\n",
       "\n",
       "       [[ 0,  1,  2,  3,  0,  1,  2,  3],\n",
       "        [ 4,  5,  6,  7,  4,  5,  6,  7],\n",
       "        [ 8,  9, 10, 11,  8,  9, 10, 11]]])"
      ]
     },
     "execution_count": 197,
     "metadata": {},
     "output_type": "execute_result"
    }
   ],
   "source": [
    "arr = np.arange(12).reshape((3, 4))\n",
    "\n",
    "np.tile(arr, 2)\n",
    "\n",
    "np.tile(arr, (2, 2))\n",
    "\n",
    "np.tile(arr, (2, 1, 2))"
   ]
  },
  {
   "cell_type": "code",
   "execution_count": 198,
   "metadata": {},
   "outputs": [
    {
     "data": {
      "text/plain": [
       "array([3, 3, 3, 3])"
      ]
     },
     "execution_count": 198,
     "metadata": {},
     "output_type": "execute_result"
    }
   ],
   "source": [
    "np.repeat(3, 4)"
   ]
  },
  {
   "cell_type": "code",
   "execution_count": 199,
   "metadata": {
    "scrolled": true
   },
   "outputs": [
    {
     "data": {
      "text/plain": [
       "array([ 0,  0,  1,  1,  2,  2,  3,  3,  4,  4,  5,  5,  6,  6,  7,  7,  8,\n",
       "        8,  9,  9, 10, 10, 11, 11])"
      ]
     },
     "execution_count": 199,
     "metadata": {},
     "output_type": "execute_result"
    },
    {
     "data": {
      "text/plain": [
       "array([[ 0,  0,  0,  1,  1,  1,  2,  2,  2,  3,  3,  3],\n",
       "       [ 4,  4,  4,  5,  5,  5,  6,  6,  6,  7,  7,  7],\n",
       "       [ 8,  8,  8,  9,  9,  9, 10, 10, 10, 11, 11, 11]])"
      ]
     },
     "execution_count": 199,
     "metadata": {},
     "output_type": "execute_result"
    },
    {
     "data": {
      "text/plain": [
       "array([[ 0,  1,  2,  3],\n",
       "       [ 4,  5,  6,  7],\n",
       "       [ 4,  5,  6,  7],\n",
       "       [ 8,  9, 10, 11],\n",
       "       [ 8,  9, 10, 11],\n",
       "       [ 8,  9, 10, 11]])"
      ]
     },
     "execution_count": 199,
     "metadata": {},
     "output_type": "execute_result"
    }
   ],
   "source": [
    "np.repeat(arr, 2)\n",
    "np.repeat(arr, 3, axis=1)\n",
    "np.repeat(arr, [1, 2, 3], axis=0)  # 对应分别重复多少次"
   ]
  },
  {
   "cell_type": "markdown",
   "metadata": {},
   "source": [
    "## 只有一个数字的ndarray\n",
    "\n",
    "行为比较奇怪"
   ]
  },
  {
   "cell_type": "markdown",
   "metadata": {},
   "source": [
    "首先是比较正常的(1,)ndarray"
   ]
  },
  {
   "cell_type": "code",
   "execution_count": 200,
   "metadata": {},
   "outputs": [
    {
     "data": {
      "text/plain": [
       "(1,)"
      ]
     },
     "execution_count": 200,
     "metadata": {},
     "output_type": "execute_result"
    },
    {
     "data": {
      "text/plain": [
       "array([12])"
      ]
     },
     "execution_count": 200,
     "metadata": {},
     "output_type": "execute_result"
    }
   ],
   "source": [
    "arr = np.array([12])\n",
    "arr.shape\n",
    "arr"
   ]
  },
  {
   "cell_type": "markdown",
   "metadata": {},
   "source": [
    "看看通过传入一个数字创建的ndarray"
   ]
  },
  {
   "cell_type": "code",
   "execution_count": 201,
   "metadata": {},
   "outputs": [
    {
     "data": {
      "text/plain": [
       "array(12)"
      ]
     },
     "execution_count": 201,
     "metadata": {},
     "output_type": "execute_result"
    }
   ],
   "source": [
    "arr = np.array(12)\n",
    "arr"
   ]
  },
  {
   "cell_type": "code",
   "execution_count": 202,
   "metadata": {},
   "outputs": [
    {
     "data": {
      "text/plain": [
       "numpy.ndarray"
      ]
     },
     "execution_count": 202,
     "metadata": {},
     "output_type": "execute_result"
    }
   ],
   "source": [
    "type(arr)"
   ]
  },
  {
   "cell_type": "code",
   "execution_count": 203,
   "metadata": {},
   "outputs": [
    {
     "data": {
      "text/plain": [
       "()"
      ]
     },
     "execution_count": 203,
     "metadata": {},
     "output_type": "execute_result"
    }
   ],
   "source": [
    "arr.shape"
   ]
  },
  {
   "cell_type": "markdown",
   "metadata": {},
   "source": [
    "**为什么没有shape？**"
   ]
  },
  {
   "cell_type": "code",
   "execution_count": 204,
   "metadata": {},
   "outputs": [
    {
     "data": {
      "text/plain": [
       "numpy.int32"
      ]
     },
     "execution_count": 204,
     "metadata": {},
     "output_type": "execute_result"
    }
   ],
   "source": [
    "type(arr+3)"
   ]
  },
  {
   "cell_type": "markdown",
   "metadata": {},
   "source": [
    "运算操作后变为数字"
   ]
  },
  {
   "cell_type": "code",
   "execution_count": 205,
   "metadata": {},
   "outputs": [
    {
     "name": "stdout",
     "output_type": "stream",
     "text": [
      "too many indices for array\n"
     ]
    }
   ],
   "source": [
    "try:\n",
    "    num = arr[0]\n",
    "except Exception as e:\n",
    "    print(e)"
   ]
  },
  {
   "cell_type": "markdown",
   "metadata": {},
   "source": [
    "**甚至无法索引**"
   ]
  },
  {
   "cell_type": "markdown",
   "metadata": {},
   "source": [
    "## NumPy性能对比"
   ]
  },
  {
   "cell_type": "markdown",
   "metadata": {},
   "source": [
    "对比先挖坑再填坑，与先生成再组合两种方式的性能"
   ]
  },
  {
   "cell_type": "code",
   "execution_count": 206,
   "metadata": {},
   "outputs": [
    {
     "name": "stdout",
     "output_type": "stream",
     "text": [
      "2.84 µs ± 332 ns per loop (mean ± std. dev. of 7 runs, 100000 loops each)\n",
      "4.95 µs ± 241 ns per loop (mean ± std. dev. of 7 runs, 100000 loops each)\n"
     ]
    }
   ],
   "source": [
    "def func1():\n",
    "    P = np.empty((100, 2))\n",
    "    P[:, 0] = np.arange(100)\n",
    "    P[:, 1] = np.arange(100)\n",
    "    return P\n",
    "\n",
    "\n",
    "def func2():\n",
    "    x = np.arange(100)\n",
    "    y = np.arange(100)\n",
    "    P = np.vstack([x, y])\n",
    "    return P\n",
    "\n",
    "\n",
    "%timeit func1()\n",
    "%timeit func2()"
   ]
  },
  {
   "cell_type": "markdown",
   "metadata": {},
   "source": [
    "可见，先挖好坑之后往里填比较快"
   ]
  },
  {
   "cell_type": "markdown",
   "metadata": {},
   "source": [
    "类似的，对比 append 操作，是列表比较快还是 ndarray 比较好？"
   ]
  },
  {
   "cell_type": "code",
   "execution_count": 207,
   "metadata": {},
   "outputs": [
    {
     "name": "stdout",
     "output_type": "stream",
     "text": [
      "8.56 µs ± 449 ns per loop (mean ± std. dev. of 7 runs, 100000 loops each)\n",
      "296 µs ± 8.8 µs per loop (mean ± std. dev. of 7 runs, 1000 loops each)\n"
     ]
    }
   ],
   "source": [
    "ls = []\n",
    "\n",
    "\n",
    "def func1():\n",
    "    for i in range(100):\n",
    "        ls.append(i)\n",
    "    return ls\n",
    "\n",
    "\n",
    "def func2():\n",
    "    x = np.array([])\n",
    "    for i in range(100):\n",
    "        x = np.append(x, i)\n",
    "    return x\n",
    "\n",
    "\n",
    "%timeit func1()\n",
    "%timeit func2()"
   ]
  },
  {
   "cell_type": "markdown",
   "metadata": {},
   "source": [
    "对于经常需要改变 size 的操作，list 明显好于 ndarray\n",
    "\n",
    "**究其原因，NumPy通过划分一整块内存，通过高效的索引对这块内存进行管理，如果频繁进行append操作，那么NumPy就需要不停的重新分配内存，也就丧失了其高效的本质。**"
   ]
  },
  {
   "cell_type": "markdown",
   "metadata": {},
   "source": [
    "## NumPy交换数据和比较操作\n",
    "\n",
    "涉及到一些复制与引用的区别\n",
    "\n",
    "### 交换"
   ]
  },
  {
   "cell_type": "markdown",
   "metadata": {},
   "source": [
    "Python 列表交换数据很简单，可以直接采用方便的写法"
   ]
  },
  {
   "cell_type": "code",
   "execution_count": 208,
   "metadata": {},
   "outputs": [
    {
     "data": {
      "text/plain": [
       "[1, 6, 7, 4]"
      ]
     },
     "execution_count": 208,
     "metadata": {},
     "output_type": "execute_result"
    },
    {
     "data": {
      "text/plain": [
       "[5, 2, 3, 8]"
      ]
     },
     "execution_count": 208,
     "metadata": {},
     "output_type": "execute_result"
    }
   ],
   "source": [
    "a = [1, 2, 3, 4]\n",
    "b = [5, 6, 7, 8]\n",
    "\n",
    "a[1:3], b[1:3] = b[1:3], a[1:3]\n",
    "a\n",
    "b"
   ]
  },
  {
   "cell_type": "markdown",
   "metadata": {},
   "source": [
    "ndarray这样写会出问题"
   ]
  },
  {
   "cell_type": "code",
   "execution_count": 209,
   "metadata": {},
   "outputs": [
    {
     "data": {
      "text/plain": [
       "array([1, 6, 7, 4])"
      ]
     },
     "execution_count": 209,
     "metadata": {},
     "output_type": "execute_result"
    },
    {
     "data": {
      "text/plain": [
       "array([5, 6, 7, 8])"
      ]
     },
     "execution_count": 209,
     "metadata": {},
     "output_type": "execute_result"
    }
   ],
   "source": [
    "a = np.array([1, 2, 3, 4])\n",
    "b = np.array([5, 6, 7, 8])\n",
    "\n",
    "a[1:3], b[1:3] = b[1:3], a[1:3]\n",
    "a\n",
    "b"
   ]
  },
  {
   "cell_type": "markdown",
   "metadata": {},
   "source": [
    "**由于执行顺序的问题，不能像原生 Python 中那样交换变量** \n",
    "\n",
    "**实际上，无法完成交换是因为作为右值的切片返回视图，再加上Python的执行顺序问题，所以才无法完成交换。将赋值操作符右边替换为高级索引（返回副本）即可。**"
   ]
  },
  {
   "cell_type": "code",
   "execution_count": 210,
   "metadata": {},
   "outputs": [
    {
     "data": {
      "text/plain": [
       "array([1, 6, 7, 4])"
      ]
     },
     "execution_count": 210,
     "metadata": {},
     "output_type": "execute_result"
    },
    {
     "data": {
      "text/plain": [
       "array([5, 2, 3, 8])"
      ]
     },
     "execution_count": 210,
     "metadata": {},
     "output_type": "execute_result"
    }
   ],
   "source": [
    "a = np.array([1, 2, 3, 4])\n",
    "b = np.array([5, 6, 7, 8])\n",
    "\n",
    "a[1:3], b[1:3] = b[[1, 2]], a[[1, 2]]\n",
    "a\n",
    "b"
   ]
  },
  {
   "cell_type": "markdown",
   "metadata": {},
   "source": [
    "另一种解决方案，使用 `copy`"
   ]
  },
  {
   "cell_type": "code",
   "execution_count": 211,
   "metadata": {},
   "outputs": [
    {
     "data": {
      "text/plain": [
       "array([1, 6, 7, 4])"
      ]
     },
     "execution_count": 211,
     "metadata": {},
     "output_type": "execute_result"
    },
    {
     "data": {
      "text/plain": [
       "array([5, 2, 3, 8])"
      ]
     },
     "execution_count": 211,
     "metadata": {},
     "output_type": "execute_result"
    }
   ],
   "source": [
    "a = np.array([1, 2, 3, 4])\n",
    "b = np.array([5, 6, 7, 8])\n",
    "\n",
    "a[1:3], b[1:3] = b[1:3].copy(), a[1:3].copy()\n",
    "a\n",
    "b"
   ]
  },
  {
   "cell_type": "markdown",
   "metadata": {},
   "source": [
    "### 比较"
   ]
  },
  {
   "cell_type": "code",
   "execution_count": 212,
   "metadata": {
    "scrolled": true
   },
   "outputs": [
    {
     "data": {
      "text/plain": [
       "array([False, False, False, False])"
      ]
     },
     "execution_count": 212,
     "metadata": {},
     "output_type": "execute_result"
    }
   ],
   "source": [
    "a == b"
   ]
  },
  {
   "cell_type": "markdown",
   "metadata": {},
   "source": [
    "NumPy 的比较是 itemwise 的，所以用 `numpy.array_equal()` 或 `numpy.allclose()` 替代"
   ]
  },
  {
   "cell_type": "code",
   "execution_count": 213,
   "metadata": {
    "scrolled": true
   },
   "outputs": [
    {
     "data": {
      "text/plain": [
       "False"
      ]
     },
     "execution_count": 213,
     "metadata": {},
     "output_type": "execute_result"
    }
   ],
   "source": [
    "np.array_equal(a, b)"
   ]
  },
  {
   "cell_type": "markdown",
   "metadata": {},
   "source": [
    "## NumPy中的reshape操作\n",
    "\n",
    "NumPy中的形状改变操作，有一些很tricky的地方"
   ]
  },
  {
   "cell_type": "code",
   "execution_count": 214,
   "metadata": {},
   "outputs": [
    {
     "data": {
      "text/plain": [
       "(3, 4)"
      ]
     },
     "execution_count": 214,
     "metadata": {},
     "output_type": "execute_result"
    }
   ],
   "source": [
    "arr = np.ones((4, 4))\n",
    "\n",
    "sliced = arr[:3, :]\n",
    "sliced.shape"
   ]
  },
  {
   "cell_type": "markdown",
   "metadata": {},
   "source": [
    "这样reshape没问题"
   ]
  },
  {
   "cell_type": "code",
   "execution_count": 215,
   "metadata": {},
   "outputs": [
    {
     "data": {
      "text/plain": [
       "array([[1., 1., 1.],\n",
       "       [1., 1., 1.],\n",
       "       [1., 1., 1.],\n",
       "       [1., 1., 1.]])"
      ]
     },
     "execution_count": 215,
     "metadata": {},
     "output_type": "execute_result"
    }
   ],
   "source": [
    "sliced.shape = 4, 3\n",
    "sliced"
   ]
  },
  {
   "cell_type": "code",
   "execution_count": 216,
   "metadata": {},
   "outputs": [
    {
     "data": {
      "text/plain": [
       "(4, 3)"
      ]
     },
     "execution_count": 216,
     "metadata": {},
     "output_type": "execute_result"
    }
   ],
   "source": [
    "sliced_1 = arr[:, :3]\n",
    "sliced_1.shape"
   ]
  },
  {
   "cell_type": "markdown",
   "metadata": {},
   "source": [
    "在切片基础上，再改变形状？"
   ]
  },
  {
   "cell_type": "code",
   "execution_count": 217,
   "metadata": {},
   "outputs": [
    {
     "name": "stdout",
     "output_type": "stream",
     "text": [
      "incompatible shape for a non-contiguous array\n"
     ]
    }
   ],
   "source": [
    "try:\n",
    "    sliced_1.shape = 3, 4\n",
    "except AttributeError as e:\n",
    "    print(e)"
   ]
  },
  {
   "cell_type": "markdown",
   "metadata": {},
   "source": [
    "这时切片无法改变形状，这主要和ndarray在内存中的存储形式有关，**在初始化ndarray的时候，里面的数据就按顺序排好了，而切片取前三列后（已经在内存中跳跃取值了）如果想进行改变形状的操作，就需要在内存中再次跳跃，此时已经无法借助strid来标记这一视图在原始数据块中的数据取用方式了，所以无法改变ndarray的形状。**\n",
    "\n",
    "ndarray的内存管理见 http://www.labri.fr/perso/nrougier/from-python-to-numpy/#anatomy-of-an-array"
   ]
  },
  {
   "cell_type": "markdown",
   "metadata": {},
   "source": [
    "使用resize进行形状操作，同样报错"
   ]
  },
  {
   "cell_type": "code",
   "execution_count": 218,
   "metadata": {},
   "outputs": [
    {
     "name": "stdout",
     "output_type": "stream",
     "text": [
      "resize only works on single-segment arrays\n"
     ]
    }
   ],
   "source": [
    "try:\n",
    "    sliced_1.resize(3, 4, refcheck=False)\n",
    "except ValueError as e:\n",
    "    print(e)"
   ]
  },
  {
   "cell_type": "markdown",
   "metadata": {},
   "source": [
    "`resieze`给出的提示更加清晰 `only works on single-segment arrays` 即因为数据分段了,无法通过strides标记数据的取用规则（太复杂）"
   ]
  },
  {
   "cell_type": "markdown",
   "metadata": {},
   "source": [
    "## 索引(indexing)与高级索引(advanced indexing, fancy indexing)的区别及特殊情况分析\n",
    "\n",
    "先来看看官方的解释 https://docs.scipy.org/doc/numpy/reference/arrays.indexing.html#advanced-indexing\n",
    "\n",
    "    Advanced indexing is triggered when the selection object, obj, is a non-tuple sequence object, an ndarray (of data type integer or bool), or a tuple with at least one sequence object or ndarray (of data type integer or bool). There are two types of advanced indexing: integer and Boolean.\n",
    "\n",
    "    Advanced indexing always returns a copy of the data (contrast with basic slicing that returns a view).\n",
    "    \n",
    "所谓**高级索引（advanced indexing, fancy indexing）**，这是一个与普通索引(indexing)相区别的概念。所谓高级索引，区别于上面的普通索引或切片概念，即对ndarray进行索引时，**只要某一维度上的索引值出现了诸如`[1,2,4]`或`[True, True, False]`之类的通过明确序列给定的索引（而不是`1:5:2`这类复合`start:stop:step`范式的索引）时，那么就算作高级索引**。与之相对应的，普通索引大致上等同于切片这种索引方式，所谓切片，即对ndarray进行索引时，每个维度上的索引值都是类似`start:stop:step`这样格式的，比如`arr[0:4:2, 1:5:1]`或者`arr[1, :-1]`。\n",
    "    \n",
    "**切片或者普通索引总是返回视图，高级索引总是返回副本。这一区别仅针对作为右值而言，无论是普通索引还是高级索引，作为左值时对其进行赋值都将影响原ndarray**\n",
    "\n",
    "**切片或者普通索引总是返回视图，高级索引总是返回副本。这一区别仅针对作为右值而言，无论是普通索引还是高级索引，作为左值时对其进行赋值都将影响原ndarray**\n",
    "\n",
    "**切片或者普通索引总是返回视图，高级索引总是返回副本。这一区别仅针对作为右值而言，无论是普通索引还是高级索引，作为左值时对其进行赋值都将影响原ndarray**"
   ]
  },
  {
   "cell_type": "markdown",
   "metadata": {},
   "source": [
    "### 切片与高级索引同时出现的场景\n",
    "\n",
    "例如`arr[1:4, [2,3,4]]`这种。实际上，这种同时出现的场景分两类：\n",
    "\n",
    "- 高级索引项在第一维出现的情形\n",
    "- 高级索引项在之后出现的情形\n",
    "\n",
    "先说结论，这种情况得到的结果都是副本，应该都归为高级索引一类，因为出现了通过明确序列给定的索引。**注意，此时已然需要遵循高级索引的规则，如果出现多个明确序列，其形状需要一致**"
   ]
  },
  {
   "cell_type": "markdown",
   "metadata": {},
   "source": [
    "#### 高级索引项出现在第一维\n",
    "\n",
    "此时，得到的ndarray为原ndarray的部分元素的副本，且自身为base，即对数据拥有所有权。"
   ]
  },
  {
   "cell_type": "code",
   "execution_count": 219,
   "metadata": {},
   "outputs": [
    {
     "data": {
      "text/plain": [
       "array([[ 32,  37,  42,  47],\n",
       "       [ 58,  63,  68,  73],\n",
       "       [109, 114, 119, 124]])"
      ]
     },
     "execution_count": 219,
     "metadata": {},
     "output_type": "execute_result"
    },
    {
     "data": {
      "text/plain": [
       "True"
      ]
     },
     "execution_count": 219,
     "metadata": {},
     "output_type": "execute_result"
    }
   ],
   "source": [
    "arr = np.arange(125).reshape((5, 5, 5))\n",
    "\n",
    "s = arr[[1, 2, 4], 1:5, [2, 3, 4]]\n",
    "s\n",
    "\n",
    "s.flags.owndata"
   ]
  },
  {
   "cell_type": "markdown",
   "metadata": {},
   "source": [
    "#### 高级索引项出现在第一维之后的维度\n",
    "\n",
    "此时，得到的ndarray为原ndarray的部分元素的副本，但自身不是base，即对数据没有所有权，其base是某个作为中间变量的ndarray。"
   ]
  },
  {
   "cell_type": "code",
   "execution_count": 220,
   "metadata": {},
   "outputs": [
    {
     "data": {
      "text/plain": [
       "array([[ 32,  38,  49],\n",
       "       [ 57,  63,  74],\n",
       "       [ 82,  88,  99],\n",
       "       [107, 113, 124]])"
      ]
     },
     "execution_count": 220,
     "metadata": {},
     "output_type": "execute_result"
    }
   ],
   "source": [
    "arr = np.arange(125).reshape((5, 5, 5))\n",
    "\n",
    "s = arr[1:5, [1, 2, 4], [2, 3, 4]]\n",
    "s"
   ]
  },
  {
   "cell_type": "code",
   "execution_count": 221,
   "metadata": {},
   "outputs": [
    {
     "data": {
      "text/plain": [
       "False"
      ]
     },
     "execution_count": 221,
     "metadata": {},
     "output_type": "execute_result"
    },
    {
     "data": {
      "text/plain": [
       "False"
      ]
     },
     "execution_count": 221,
     "metadata": {},
     "output_type": "execute_result"
    }
   ],
   "source": [
    "s.flags.owndata  # 对数据没有所有权\n",
    "\n",
    "s.base is (arr if arr.flags.owndata else arr.base)  # base也不是arr"
   ]
  },
  {
   "cell_type": "code",
   "execution_count": 222,
   "metadata": {},
   "outputs": [
    {
     "data": {
      "text/plain": [
       "(3, 4)"
      ]
     },
     "execution_count": 222,
     "metadata": {},
     "output_type": "execute_result"
    },
    {
     "data": {
      "text/plain": [
       "(4, 3)"
      ]
     },
     "execution_count": 222,
     "metadata": {},
     "output_type": "execute_result"
    }
   ],
   "source": [
    "# s的形状与其base不一样，且s的base也并不是arr\n",
    "s.base.shape\n",
    "s.shape"
   ]
  },
  {
   "cell_type": "markdown",
   "metadata": {},
   "source": [
    "### 作为索引的单个整数（以及只有一个整数的列表）\n",
    "\n",
    "首先明确一点，对ndarray进行索引时，**某个维度上的索引值是单个整数，此时单个整数应该看做`start:stop:step`的一种特殊形式。但是需要注意的是，虽然`arr[1, 2]` `arr[1:2, 2]`得到的数据内容是相同的，但差异在于结果的维度。**"
   ]
  },
  {
   "cell_type": "code",
   "execution_count": 223,
   "metadata": {},
   "outputs": [
    {
     "data": {
      "text/plain": [
       "(5,)"
      ]
     },
     "execution_count": 223,
     "metadata": {},
     "output_type": "execute_result"
    },
    {
     "data": {
      "text/plain": [
       "(1, 5)"
      ]
     },
     "execution_count": 223,
     "metadata": {},
     "output_type": "execute_result"
    }
   ],
   "source": [
    "arr = np.ones((5, 5, 5))\n",
    "\n",
    "arr[1, 2].shape\n",
    "arr[1:2, 2].shape"
   ]
  },
  {
   "cell_type": "markdown",
   "metadata": {},
   "source": [
    "**只有一个整数的列表作为索引时算高级索引**\n",
    "\n",
    "作为索引的`1`和`[1]`是不同的"
   ]
  },
  {
   "cell_type": "code",
   "execution_count": 224,
   "metadata": {},
   "outputs": [
    {
     "data": {
      "text/plain": [
       "False"
      ]
     },
     "execution_count": 224,
     "metadata": {},
     "output_type": "execute_result"
    },
    {
     "data": {
      "text/plain": [
       "True"
      ]
     },
     "execution_count": 224,
     "metadata": {},
     "output_type": "execute_result"
    }
   ],
   "source": [
    "arr = np.arange(125).reshape((5, 5, 5))\n",
    "\n",
    "s = arr[2, 1:3]\n",
    "s.flags.owndata\n",
    "s.base is (arr if arr.flags.owndata else arr.base)  # 切片，返回视图"
   ]
  },
  {
   "cell_type": "code",
   "execution_count": 225,
   "metadata": {},
   "outputs": [
    {
     "data": {
      "text/plain": [
       "True"
      ]
     },
     "execution_count": 225,
     "metadata": {},
     "output_type": "execute_result"
    }
   ],
   "source": [
    "s = arr[[2], 1:3]\n",
    "s.flags.owndata  # 高级索引，返回副本"
   ]
  },
  {
   "cell_type": "markdown",
   "metadata": {},
   "source": [
    "### 特殊的切片情形\n",
    "\n",
    "我们所关心的特殊情形，是所有给出的切片维度上都为单个整数的情形，分为两种情形。\n",
    "\n",
    "- 切片维度少于原始ndarray维度时\n",
    "- 切片维度等于原始ndarray维度时"
   ]
  },
  {
   "cell_type": "markdown",
   "metadata": {},
   "source": [
    "#### 若切片维度少于原始ndarray维度，就算某些维度的索引只是单个数字，也很好理解其仍为切片"
   ]
  },
  {
   "cell_type": "code",
   "execution_count": 226,
   "metadata": {},
   "outputs": [
    {
     "data": {
      "text/plain": [
       "array([1., 1., 1., 1., 1.])"
      ]
     },
     "execution_count": 226,
     "metadata": {},
     "output_type": "execute_result"
    },
    {
     "data": {
      "text/plain": [
       "False"
      ]
     },
     "execution_count": 226,
     "metadata": {},
     "output_type": "execute_result"
    },
    {
     "data": {
      "text/plain": [
       "True"
      ]
     },
     "execution_count": 226,
     "metadata": {},
     "output_type": "execute_result"
    }
   ],
   "source": [
    "arr = np.ones((5, 5, 5))\n",
    "\n",
    "s = arr[1, 2]  # 切片维度和原ndarray维度不同\n",
    "s  # 返回 ndarray\n",
    "\n",
    "s.flags.owndata  # 自身不具有底层数据\n",
    "\n",
    "s.base is (arr if arr.flags.owndata else arr.base)  # 是arr的视图"
   ]
  },
  {
   "cell_type": "markdown",
   "metadata": {},
   "source": [
    "注意结果的维度"
   ]
  },
  {
   "cell_type": "code",
   "execution_count": 227,
   "metadata": {},
   "outputs": [
    {
     "data": {
      "text/plain": [
       "array([[[1., 1., 1., 1., 1.]]])"
      ]
     },
     "execution_count": 227,
     "metadata": {},
     "output_type": "execute_result"
    },
    {
     "data": {
      "text/plain": [
       "False"
      ]
     },
     "execution_count": 227,
     "metadata": {},
     "output_type": "execute_result"
    },
    {
     "data": {
      "text/plain": [
       "True"
      ]
     },
     "execution_count": 227,
     "metadata": {},
     "output_type": "execute_result"
    }
   ],
   "source": [
    "s = arr[1:2, 2:3]  # 和上面的写法没区别\n",
    "s  # 返回 ndarray\n",
    "\n",
    "s.flags.owndata  # 自身不具有底层数据\n",
    "\n",
    "s.base is (arr if arr.flags.owndata else arr.base)  # 是arr的视图"
   ]
  },
  {
   "cell_type": "markdown",
   "metadata": {},
   "source": [
    "#### 但当切片维度等于原始ndarray时，分两种情况。\n",
    "\n",
    "- 仍然按切片写法的情况（实际上只切了一个数据点）**此时返回视图，为只有一个元素的ndarray**"
   ]
  },
  {
   "cell_type": "code",
   "execution_count": 228,
   "metadata": {},
   "outputs": [
    {
     "data": {
      "text/plain": [
       "array([[[1.]]])"
      ]
     },
     "execution_count": 228,
     "metadata": {},
     "output_type": "execute_result"
    },
    {
     "data": {
      "text/plain": [
       "False"
      ]
     },
     "execution_count": 228,
     "metadata": {},
     "output_type": "execute_result"
    },
    {
     "data": {
      "text/plain": [
       "True"
      ]
     },
     "execution_count": 228,
     "metadata": {},
     "output_type": "execute_result"
    }
   ],
   "source": [
    "s = arr[1:2, 2:3, 3:4]\n",
    "s  # 只有一个元素的ndarray\n",
    "\n",
    "s.flags.owndata  # 自身不具有底层数据\n",
    "\n",
    "s.base is (arr if arr.flags.owndata else arr.base)  # 是arr的视图"
   ]
  },
  {
   "cell_type": "markdown",
   "metadata": {},
   "source": [
    "- 使用整数写法，每个维度的索引都为单个整数\n",
    "\n",
    "**此时返回原ndarray中的单个元素（副本, 不是普通Python元素），此种情况因为习惯，依然算作普通索引**。（本因算作副本）"
   ]
  },
  {
   "cell_type": "code",
   "execution_count": 229,
   "metadata": {},
   "outputs": [
    {
     "data": {
      "text/plain": [
       "1.0"
      ]
     },
     "execution_count": 229,
     "metadata": {},
     "output_type": "execute_result"
    },
    {
     "data": {
      "text/plain": [
       "numpy.float64"
      ]
     },
     "execution_count": 229,
     "metadata": {},
     "output_type": "execute_result"
    },
    {
     "data": {
      "text/plain": [
       "True"
      ]
     },
     "execution_count": 229,
     "metadata": {},
     "output_type": "execute_result"
    },
    {
     "data": {
      "text/plain": [
       "False"
      ]
     },
     "execution_count": 229,
     "metadata": {},
     "output_type": "execute_result"
    }
   ],
   "source": [
    "s = arr[1, 2, 3]  # 切片维度和原ndarray维度一样\n",
    "s  # 返回单个元素\n",
    "type(s)  # 类型为 np类型\n",
    "\n",
    "s.flags.owndata\n",
    "s.base is (arr if arr.flags.owndata else arr.base)  # 是arr的视图"
   ]
  },
  {
   "cell_type": "markdown",
   "metadata": {},
   "source": [
    "### 其他需要特殊区分的场景\n",
    "\n",
    "注意：`arr[(1,2,3),]`和`arr[(1,2,3)]`有本质上的不同，后者等价于`arr[1,2,3]`即切片的特殊情况，而**前者触发高级索引**。后者对前三个维度进行索引，前者对第一维度进行索引。\n",
    "\n",
    "此外，还需注意`arr[[1,2,3]]`等价于`arr[[1,2,3],]`**触发高级索引**，而`arr[[1,2,slice(None)]]`只是切片。\n",
    "\n",
    "\n",
    "**前述高级索引技巧内容中提到，NumPy会自动剥离索引最外层的列表包裹，类似`arr[(1,2,3)]`会等价于`arr[1,2,3]`，但特殊情况是，`arr[[1,2,3]]`并不等价于`arr[1,2,3]`，而`arr[[1,2,slice(None)]]`依然等价于`arr[1,2]`或者`arr[1,2,...]`。**\n",
    "\n",
    "**在`arr[(1,2,3)]`和`arr[[1,2,slice(None)]]`索引的外层仍然被剥离的情况下，`arr[[1,2,3]]`是需要特别注意的特殊情况。**\n",
    "\n",
    "**在`arr[(1,2,3)]`和`arr[[1,2,slice(None)]]`索引的外层仍然被剥离的情况下，`arr[[1,2,3]]`是需要特别注意的特殊情况。**\n",
    "\n",
    "**在`arr[(1,2,3)]`和`arr[[1,2,slice(None)]]`索引的外层仍然被剥离的情况下，`arr[[1,2,3]]`是需要特别注意的特殊情况。**"
   ]
  },
  {
   "cell_type": "code",
   "execution_count": 230,
   "metadata": {},
   "outputs": [
    {
     "data": {
      "text/plain": [
       "True"
      ]
     },
     "execution_count": 230,
     "metadata": {},
     "output_type": "execute_result"
    },
    {
     "data": {
      "text/plain": [
       "array([1., 1., 1., 1., 1.])"
      ]
     },
     "execution_count": 230,
     "metadata": {},
     "output_type": "execute_result"
    },
    {
     "data": {
      "text/plain": [
       "False"
      ]
     },
     "execution_count": 230,
     "metadata": {},
     "output_type": "execute_result"
    },
    {
     "data": {
      "text/plain": [
       "array([1., 1., 1., 1., 1.])"
      ]
     },
     "execution_count": 230,
     "metadata": {},
     "output_type": "execute_result"
    },
    {
     "data": {
      "text/plain": [
       "False"
      ]
     },
     "execution_count": 230,
     "metadata": {},
     "output_type": "execute_result"
    }
   ],
   "source": [
    "arr = np.ones((5, 5, 5, 5))\n",
    "\n",
    "arr[(1, 2, 3), ].flags.owndata  # 触发高级索引\n",
    "\n",
    "arr[(1, 2, 3)]\n",
    "arr[(1, 2, 3)].flags.owndata  # 切片\n",
    "\n",
    "arr[1, 2, 3]\n",
    "arr[1, 2, 3].flags.owndata  # 切片"
   ]
  },
  {
   "cell_type": "code",
   "execution_count": 231,
   "metadata": {},
   "outputs": [
    {
     "data": {
      "text/plain": [
       "True"
      ]
     },
     "execution_count": 231,
     "metadata": {},
     "output_type": "execute_result"
    },
    {
     "data": {
      "text/plain": [
       "True"
      ]
     },
     "execution_count": 231,
     "metadata": {},
     "output_type": "execute_result"
    }
   ],
   "source": [
    "arr[[1, 2, 3]].flags.owndata  # 对第一维度索引\n",
    "\n",
    "np.allclose(arr[[1, 2, 3]], arr[[1, 2, 3], ])"
   ]
  },
  {
   "cell_type": "code",
   "execution_count": 232,
   "metadata": {},
   "outputs": [
    {
     "name": "stderr",
     "output_type": "stream",
     "text": [
      "c:\\users\\twang\\appdata\\local\\conda\\conda\\envs\\py36\\lib\\site-packages\\ipykernel_launcher.py:1: FutureWarning: Using a non-tuple sequence for multidimensional indexing is deprecated; use `arr[tuple(seq)]` instead of `arr[seq]`. In the future this will be interpreted as an array index, `arr[np.array(seq)]`, which will result either in an error or a different result.\n",
      "  \"\"\"Entry point for launching an IPython kernel.\n"
     ]
    },
    {
     "data": {
      "text/plain": [
       "array([[1., 1., 1., 1., 1.],\n",
       "       [1., 1., 1., 1., 1.],\n",
       "       [1., 1., 1., 1., 1.],\n",
       "       [1., 1., 1., 1., 1.],\n",
       "       [1., 1., 1., 1., 1.]])"
      ]
     },
     "execution_count": 232,
     "metadata": {},
     "output_type": "execute_result"
    },
    {
     "name": "stderr",
     "output_type": "stream",
     "text": [
      "c:\\users\\twang\\appdata\\local\\conda\\conda\\envs\\py36\\lib\\site-packages\\ipykernel_launcher.py:2: FutureWarning: Using a non-tuple sequence for multidimensional indexing is deprecated; use `arr[tuple(seq)]` instead of `arr[seq]`. In the future this will be interpreted as an array index, `arr[np.array(seq)]`, which will result either in an error or a different result.\n",
      "  \n"
     ]
    },
    {
     "data": {
      "text/plain": [
       "False"
      ]
     },
     "execution_count": 232,
     "metadata": {},
     "output_type": "execute_result"
    },
    {
     "name": "stderr",
     "output_type": "stream",
     "text": [
      "c:\\users\\twang\\appdata\\local\\conda\\conda\\envs\\py36\\lib\\site-packages\\ipykernel_launcher.py:4: FutureWarning: Using a non-tuple sequence for multidimensional indexing is deprecated; use `arr[tuple(seq)]` instead of `arr[seq]`. In the future this will be interpreted as an array index, `arr[np.array(seq)]`, which will result either in an error or a different result.\n",
      "  after removing the cwd from sys.path.\n"
     ]
    },
    {
     "data": {
      "text/plain": [
       "True"
      ]
     },
     "execution_count": 232,
     "metadata": {},
     "output_type": "execute_result"
    }
   ],
   "source": [
    "arr[[1, 2, slice(None)]]  # 切片\n",
    "arr[[1, 2, slice(None)]].flags.owndata\n",
    "\n",
    "np.allclose(arr[[1, 2, slice(None)]], arr[1, 2])"
   ]
  },
  {
   "cell_type": "markdown",
   "metadata": {},
   "source": [
    "### 无论是普通索引还是高级索引，作为左值对其赋值，都将对原ndarray产生影响"
   ]
  },
  {
   "cell_type": "code",
   "execution_count": 233,
   "metadata": {},
   "outputs": [
    {
     "data": {
      "text/plain": [
       "array([[999., 999.,   1.,   1.,   1.],\n",
       "       [999., 999.,   1.,   1.,   1.],\n",
       "       [  1.,   1.,   1.,   1.,   1.],\n",
       "       [  1.,   1.,   1.,   1.,   1.],\n",
       "       [  1.,   1.,   1.,   1.,   1.]])"
      ]
     },
     "execution_count": 233,
     "metadata": {},
     "output_type": "execute_result"
    }
   ],
   "source": [
    "arr = np.ones((5, 5))\n",
    "\n",
    "arr[:2, :2] = 999  # 切片作为左值\n",
    "arr"
   ]
  },
  {
   "cell_type": "code",
   "execution_count": 234,
   "metadata": {
    "scrolled": false
   },
   "outputs": [
    {
     "data": {
      "text/plain": [
       "array([[999.,   1.,   1.,   1.,   1.],\n",
       "       [  1., 999.,   1.,   1.,   1.],\n",
       "       [  1.,   1., 999.,   1.,   1.],\n",
       "       [  1.,   1.,   1.,   1.,   1.],\n",
       "       [  1.,   1.,   1.,   1.,   1.]])"
      ]
     },
     "execution_count": 234,
     "metadata": {},
     "output_type": "execute_result"
    }
   ],
   "source": [
    "arr = np.ones((5, 5))\n",
    "\n",
    "arr[[0, 1, 2], [0, 1, 2]] = 999  # 高级索引作为左值\n",
    "arr"
   ]
  },
  {
   "cell_type": "markdown",
   "metadata": {},
   "source": [
    "## 获取指定行列交叉点上的数据\n",
    "\n",
    "由于NumPy的高级索引机制，输入`arr[[1,2,3], [2,3,4]]`并不会得到1、2、3行与2,、3、4列交叉点上的数据，而只能得到`arr[1,2]`、`arr[2,3]`、`arr[3,4]`这三个值组成的ndarray。"
   ]
  },
  {
   "cell_type": "code",
   "execution_count": 235,
   "metadata": {},
   "outputs": [
    {
     "data": {
      "text/plain": [
       "array([ 7, 13, 19])"
      ]
     },
     "execution_count": 235,
     "metadata": {},
     "output_type": "execute_result"
    }
   ],
   "source": [
    "arr = np.arange(25).reshape((5, 5))\n",
    "\n",
    "arr[[1, 2, 3], [2, 3, 4]]"
   ]
  },
  {
   "cell_type": "markdown",
   "metadata": {},
   "source": [
    "给出`arr[[1,2,3], [2,3]]`这样的表达式甚至会报错（各维度上的索引形状不统一）"
   ]
  },
  {
   "cell_type": "code",
   "execution_count": 236,
   "metadata": {},
   "outputs": [
    {
     "name": "stdout",
     "output_type": "stream",
     "text": [
      "shape mismatch: indexing arrays could not be broadcast together with shapes (3,) (2,) \n"
     ]
    }
   ],
   "source": [
    "try:\n",
    "    arr[[1, 2, 3], [2, 3]]\n",
    "except Exception as e:\n",
    "    print(e)"
   ]
  },
  {
   "cell_type": "markdown",
   "metadata": {},
   "source": [
    "为了得到指定行列交叉点上的数据，可以对每个维度分开进行索引"
   ]
  },
  {
   "cell_type": "code",
   "execution_count": 237,
   "metadata": {},
   "outputs": [
    {
     "data": {
      "text/plain": [
       "array([[ 7,  9],\n",
       "       [12, 14],\n",
       "       [17, 19]])"
      ]
     },
     "execution_count": 237,
     "metadata": {},
     "output_type": "execute_result"
    }
   ],
   "source": [
    "arr[[1, 2, 3], :][:, [2, -1]]"
   ]
  },
  {
   "cell_type": "markdown",
   "metadata": {},
   "source": [
    "**或者这样，虽然感觉没什么用**\n",
    "\n",
    "利用`bincount`"
   ]
  },
  {
   "cell_type": "code",
   "execution_count": 238,
   "metadata": {},
   "outputs": [
    {
     "data": {
      "text/plain": [
       "array([[ 7,  9],\n",
       "       [12, 14],\n",
       "       [17, 19]])"
      ]
     },
     "execution_count": 238,
     "metadata": {},
     "output_type": "execute_result"
    }
   ],
   "source": [
    "arr = np.arange(25).reshape((5, 5))\n",
    "indice_d1 = [1, 2, 3]\n",
    "indice_d2 = [2, -1]\n",
    "\n",
    "shape_d1, shape_d2 = arr.shape\n",
    "\n",
    "# 为了获取完整维度上的计数序列，增加该维度可能的最大索引值\n",
    "indice_d1.append(shape_d1-1)\n",
    "indice_d2.append(shape_d2-1)\n",
    "\n",
    "# 处理负数情形\n",
    "indice_d1 = [(x+shape_d1) % shape_d1 for x in indice_d1]\n",
    "indice_d2 = [(x++shape_d2) % shape_d2 for x in indice_d2]\n",
    "\n",
    "# 转换为布尔序列，并去掉增加的一个计数\n",
    "indice_d1 = np.bincount(indice_d1)\n",
    "indice_d1[-1] -= 1\n",
    "mask1 = (indice_d1 != 0)\n",
    "indice_d2 = np.bincount(indice_d2)\n",
    "indice_d2[-1] -= 1\n",
    "mask2 = (indice_d2 != 0)\n",
    "\n",
    "arr[mask1, :][:, mask2]"
   ]
  },
  {
   "cell_type": "markdown",
   "metadata": {},
   "source": [
    "## ndarray的链式索引"
   ]
  },
  {
   "cell_type": "markdown",
   "metadata": {},
   "source": [
    "### 作为右值\n",
    "\n",
    "按之前的视图与副本规则判断即可"
   ]
  },
  {
   "cell_type": "markdown",
   "metadata": {},
   "source": [
    "视图的视图还是视图"
   ]
  },
  {
   "cell_type": "code",
   "execution_count": 239,
   "metadata": {},
   "outputs": [
    {
     "data": {
      "text/plain": [
       "array([12, 13])"
      ]
     },
     "execution_count": 239,
     "metadata": {},
     "output_type": "execute_result"
    },
    {
     "data": {
      "text/plain": [
       "False"
      ]
     },
     "execution_count": 239,
     "metadata": {},
     "output_type": "execute_result"
    },
    {
     "data": {
      "text/plain": [
       "True"
      ]
     },
     "execution_count": 239,
     "metadata": {},
     "output_type": "execute_result"
    }
   ],
   "source": [
    "arr = np.arange(25).reshape((5, 5))\n",
    "\n",
    "arr[1:3, 2:4][1, :]\n",
    "arr[1:3, 2:4][1, :].flags.owndata\n",
    "arr[1:3, 2:4][1, :].base is (arr if arr.flags.owndata else arr.base)"
   ]
  },
  {
   "cell_type": "markdown",
   "metadata": {},
   "source": [
    "视图的副本为副本"
   ]
  },
  {
   "cell_type": "code",
   "execution_count": 240,
   "metadata": {},
   "outputs": [
    {
     "data": {
      "text/plain": [
       "array([[12, 13]])"
      ]
     },
     "execution_count": 240,
     "metadata": {},
     "output_type": "execute_result"
    },
    {
     "data": {
      "text/plain": [
       "True"
      ]
     },
     "execution_count": 240,
     "metadata": {},
     "output_type": "execute_result"
    },
    {
     "data": {
      "text/plain": [
       "False"
      ]
     },
     "execution_count": 240,
     "metadata": {},
     "output_type": "execute_result"
    }
   ],
   "source": [
    "arr[1:3, 2:4][[1], :]\n",
    "arr[1:3, 2:4][[1], :].flags.owndata\n",
    "arr[1:3, 2:4][[1], :].base is (arr if arr.flags.owndata else arr.base)"
   ]
  },
  {
   "cell_type": "markdown",
   "metadata": {},
   "source": [
    "副本的视图，是某个中间变量（副本）的视图"
   ]
  },
  {
   "cell_type": "code",
   "execution_count": 241,
   "metadata": {},
   "outputs": [
    {
     "data": {
      "text/plain": [
       "array([7, 8])"
      ]
     },
     "execution_count": 241,
     "metadata": {},
     "output_type": "execute_result"
    },
    {
     "data": {
      "text/plain": [
       "False"
      ]
     },
     "execution_count": 241,
     "metadata": {},
     "output_type": "execute_result"
    },
    {
     "data": {
      "text/plain": [
       "False"
      ]
     },
     "execution_count": 241,
     "metadata": {},
     "output_type": "execute_result"
    }
   ],
   "source": [
    "arr[[1, 2, 3], 2:4][0, :]\n",
    "arr[[1, 2, 3], 2:4][0, :].flags.owndata\n",
    "arr[[1, 2, 3], 2:4][0, :].base is (arr if arr.flags.owndata else arr.base)"
   ]
  },
  {
   "cell_type": "markdown",
   "metadata": {},
   "source": [
    "### 作为左值\n",
    "\n"
   ]
  },
  {
   "cell_type": "markdown",
   "metadata": {},
   "source": [
    "对视图的视图赋值，可影响原始ndarray"
   ]
  },
  {
   "cell_type": "code",
   "execution_count": 242,
   "metadata": {},
   "outputs": [
    {
     "data": {
      "text/plain": [
       "array([[  0,   1,   2,   3,   4],\n",
       "       [  5,   6,   7,   8,   9],\n",
       "       [ 10,  11, 999, 999,  14],\n",
       "       [ 15,  16,  17,  18,  19],\n",
       "       [ 20,  21,  22,  23,  24]])"
      ]
     },
     "execution_count": 242,
     "metadata": {},
     "output_type": "execute_result"
    }
   ],
   "source": [
    "arr = np.arange(25).reshape((5, 5))\n",
    "\n",
    "arr[1:3, 2:4][1, :] = 999\n",
    "arr"
   ]
  },
  {
   "cell_type": "markdown",
   "metadata": {},
   "source": [
    "对视图的副本赋值，可影响原始ndarray"
   ]
  },
  {
   "cell_type": "code",
   "execution_count": 243,
   "metadata": {},
   "outputs": [
    {
     "data": {
      "text/plain": [
       "array([[  0,   1,   2,   3,   4],\n",
       "       [  5,   6,   7,   8,   9],\n",
       "       [ 10,  11, 999, 999,  14],\n",
       "       [ 15,  16,  17,  18,  19],\n",
       "       [ 20,  21,  22,  23,  24]])"
      ]
     },
     "execution_count": 243,
     "metadata": {},
     "output_type": "execute_result"
    }
   ],
   "source": [
    "arr = np.arange(25).reshape((5, 5))\n",
    "\n",
    "arr[1:3, 2:4][[1], :] = 999\n",
    "arr"
   ]
  },
  {
   "cell_type": "markdown",
   "metadata": {},
   "source": [
    "对副本的视图赋值，无法影响原始ndarray"
   ]
  },
  {
   "cell_type": "code",
   "execution_count": 244,
   "metadata": {},
   "outputs": [
    {
     "data": {
      "text/plain": [
       "array([[ 0,  1,  2,  3,  4],\n",
       "       [ 5,  6,  7,  8,  9],\n",
       "       [10, 11, 12, 13, 14],\n",
       "       [15, 16, 17, 18, 19],\n",
       "       [20, 21, 22, 23, 24]])"
      ]
     },
     "execution_count": 244,
     "metadata": {},
     "output_type": "execute_result"
    }
   ],
   "source": [
    "arr = np.arange(25).reshape((5, 5))\n",
    "\n",
    "arr[[1, 2, 3], 2:4][0, :] = 999\n",
    "arr"
   ]
  },
  {
   "cell_type": "markdown",
   "metadata": {},
   "source": [
    "我判断，应该是看最后一层索引之前是原始ndarray的副本还是视图，若是视图则无论最后一层是视图还是副本，都将对原始ndarray产生影响。若为副本，则无论最后一层是视图还是副本，都无法对原始ndarray产生影响。\n",
    "\n",
    "验证一下"
   ]
  },
  {
   "cell_type": "code",
   "execution_count": 245,
   "metadata": {},
   "outputs": [
    {
     "data": {
      "text/plain": [
       "array([[999, 999, 999, 999,   4],\n",
       "       [999, 999, 999, 999,   9],\n",
       "       [999, 999, 999, 999,  14],\n",
       "       [ 15,  16,  17,  18,  19],\n",
       "       [ 20,  21,  22,  23,  24]])"
      ]
     },
     "execution_count": 245,
     "metadata": {},
     "output_type": "execute_result"
    }
   ],
   "source": [
    "arr = np.arange(25).reshape((5, 5))\n",
    "\n",
    "# 最后一层之前为视图，即使最后一层为副本也会对原ndarray产生影响\n",
    "arr[:, :-1][:-1, :][[0, 1, 2], :] = 999\n",
    "arr"
   ]
  },
  {
   "cell_type": "markdown",
   "metadata": {},
   "source": [
    "## ndarray内存排布的深入理解\n",
    "\n",
    "[From Python to Numpy Anatomy of An Array](http://www.labri.fr/perso/nrougier/from-python-to-numpy/#anatomy-of-an-array)"
   ]
  },
  {
   "cell_type": "markdown",
   "metadata": {},
   "source": [
    "### 引子\n",
    "\n",
    "有如下ndarray"
   ]
  },
  {
   "cell_type": "code",
   "execution_count": 246,
   "metadata": {},
   "outputs": [],
   "source": [
    "arr = np.ones(4*1000000, np.float32)"
   ]
  },
  {
   "cell_type": "markdown",
   "metadata": {},
   "source": [
    "需要将其全部赋值为8，怎么做？"
   ]
  },
  {
   "cell_type": "code",
   "execution_count": 247,
   "metadata": {},
   "outputs": [
    {
     "name": "stdout",
     "output_type": "stream",
     "text": [
      "836 µs ± 52.4 µs per loop (mean ± std. dev. of 7 runs, 1000 loops each)\n"
     ]
    }
   ],
   "source": [
    "%timeit arr[...] = 8"
   ]
  },
  {
   "cell_type": "code",
   "execution_count": 248,
   "metadata": {},
   "outputs": [
    {
     "name": "stdout",
     "output_type": "stream",
     "text": [
      "867 µs ± 58.9 µs per loop (mean ± std. dev. of 7 runs, 1000 loops each)\n",
      "811 µs ± 9.41 µs per loop (mean ± std. dev. of 7 runs, 1000 loops each)\n",
      "811 µs ± 8.85 µs per loop (mean ± std. dev. of 7 runs, 1000 loops each)\n",
      "807 µs ± 6.69 µs per loop (mean ± std. dev. of 7 runs, 1000 loops each)\n",
      "813 µs ± 7.55 µs per loop (mean ± std. dev. of 7 runs, 1000 loops each)\n",
      "805 µs ± 4.6 µs per loop (mean ± std. dev. of 7 runs, 1000 loops each)\n",
      "1.31 ms ± 24.5 µs per loop (mean ± std. dev. of 7 runs, 1000 loops each)\n",
      "818 µs ± 6.79 µs per loop (mean ± std. dev. of 7 runs, 1000 loops each)\n"
     ]
    }
   ],
   "source": [
    "%timeit arr.view(np.float16)[...] = 8\n",
    "%timeit arr.view(np.int16)[...] = 8\n",
    "%timeit arr.view(np.int32)[...] = 8\n",
    "%timeit arr.view(np.float32)[...] = 8\n",
    "%timeit arr.view(np.int64)[...] = 8\n",
    "%timeit arr.view(np.float64)[...] = 8\n",
    "%timeit arr.view(np.complex128)[...] = 8\n",
    "%timeit arr.view(np.int8)[...] = 8"
   ]
  },
  {
   "cell_type": "markdown",
   "metadata": {},
   "source": [
    "运行时间似乎相差不大，但这种差异展示了NumPy对ndarray的内存管理的哲学。"
   ]
  },
  {
   "cell_type": "markdown",
   "metadata": {},
   "source": [
    "### 内存排布\n",
    "\n",
    "NumPy文档对ndarray的定义\n",
    "\n",
    "    An instance of class ndarray consists of a contiguous one-dimensional segment of computer memory (owned by the array, or by some other object), combined with an indexing scheme that maps N integers into the location of an item in the block.\n",
    "    \n",
    "连续的1-D内存块，搭配某种索引机制，将由整数组成的索引定位到内存块中对应的位置。\n",
    "\n",
    "索引机制则由，形状(shape)和数据类型(data type)定义，在定义新的ndarray时也仅需这两者。"
   ]
  },
  {
   "cell_type": "code",
   "execution_count": 249,
   "metadata": {},
   "outputs": [
    {
     "data": {
      "text/plain": [
       "array([[0, 1, 2],\n",
       "       [3, 4, 5],\n",
       "       [6, 7, 8]], dtype=int16)"
      ]
     },
     "execution_count": 249,
     "metadata": {},
     "output_type": "execute_result"
    }
   ],
   "source": [
    "Z = np.arange(9).reshape(3, 3).astype(np.int16)\n",
    "Z"
   ]
  },
  {
   "cell_type": "markdown",
   "metadata": {},
   "source": [
    "Z的itemsize是2 bytes (int16), 形状为(3,3)，维度为2 (len(Z.shape))."
   ]
  },
  {
   "cell_type": "code",
   "execution_count": 250,
   "metadata": {},
   "outputs": [
    {
     "data": {
      "text/plain": [
       "2"
      ]
     },
     "execution_count": 250,
     "metadata": {},
     "output_type": "execute_result"
    },
    {
     "data": {
      "text/plain": [
       "(3, 3)"
      ]
     },
     "execution_count": 250,
     "metadata": {},
     "output_type": "execute_result"
    },
    {
     "data": {
      "text/plain": [
       "2"
      ]
     },
     "execution_count": 250,
     "metadata": {},
     "output_type": "execute_result"
    }
   ],
   "source": [
    "Z.itemsize\n",
    "\n",
    "Z.shape\n",
    "\n",
    "Z.ndim"
   ]
  },
  {
   "cell_type": "markdown",
   "metadata": {},
   "source": [
    "此外，因为Z并不是其他ndarray的视图，故可以推断出strides，即当遍历ndarray时，在每个维度上每次需要跨越多少内存。"
   ]
  },
  {
   "cell_type": "code",
   "execution_count": 251,
   "metadata": {},
   "outputs": [
    {
     "data": {
      "text/plain": [
       "(6, 2)"
      ]
     },
     "execution_count": 251,
     "metadata": {},
     "output_type": "execute_result"
    },
    {
     "data": {
      "text/plain": [
       "(6, 2)"
      ]
     },
     "execution_count": 251,
     "metadata": {},
     "output_type": "execute_result"
    }
   ],
   "source": [
    "strides = Z.shape[1]*Z.itemsize, Z.itemsize\n",
    "strides\n",
    "\n",
    "Z.strides"
   ]
  },
  {
   "cell_type": "markdown",
   "metadata": {},
   "source": [
    "基于以上信息，可以确定如何索引ndarray的某个具体元素。\n",
    "\n",
    "用`tobytes`方法检验一下"
   ]
  },
  {
   "cell_type": "code",
   "execution_count": 252,
   "metadata": {},
   "outputs": [
    {
     "data": {
      "text/plain": [
       "b'\\x04\\x00'"
      ]
     },
     "execution_count": 252,
     "metadata": {},
     "output_type": "execute_result"
    },
    {
     "data": {
      "text/plain": [
       "b'\\x04\\x00'"
      ]
     },
     "execution_count": 252,
     "metadata": {},
     "output_type": "execute_result"
    }
   ],
   "source": [
    "Z = np.arange(9).reshape(3, 3).astype(np.int16)\n",
    "index = 1, 1\n",
    "Z[index].tobytes()\n",
    "\n",
    "offset_start = 0\n",
    "for i in range(Z.ndim):\n",
    "    offset_start += Z.strides[i]*index[i]\n",
    "\n",
    "Z.tobytes()[offset_start:offset_start + Z.itemsize]"
   ]
  },
  {
   "cell_type": "markdown",
   "metadata": {},
   "source": [
    "#### 可视化ndarray内存排布\n",
    "\n",
    "元素排布\n",
    "\n",
    "<div align=\"center\"> <img src=\"https://image-bed-zodiac.oss-cn-qingdao.aliyuncs.com/img批注 2019-06-20 100730.png\" width=\"350\"/> </div><br>\n",
    "\n",
    "一维化元素排布\n",
    "\n",
    "<div align=\"center\"> <img src=\"https://image-bed-zodiac.oss-cn-qingdao.aliyuncs.com/img批注 2019-06-20 100818.png\" width=\"500\"/> </div><br>\n",
    "\n",
    "内存排布（C order Big endian）\n",
    "\n",
    "<div align=\"center\"> <img src=\"https://image-bed-zodiac.oss-cn-qingdao.aliyuncs.com/img批注 2019-06-20 100846.png\" width=\"450\"/> </div><br>"
   ]
  },
  {
   "cell_type": "markdown",
   "metadata": {},
   "source": [
    "对Z进行一次切片，**此时视图必须同时由形状，data type 以及 strides 才能确定，因为无法从形状和data type对strides进行推断。**"
   ]
  },
  {
   "cell_type": "code",
   "execution_count": 253,
   "metadata": {},
   "outputs": [
    {
     "data": {
      "text/plain": [
       "array([[0, 2],\n",
       "       [6, 8]], dtype=int16)"
      ]
     },
     "execution_count": 253,
     "metadata": {},
     "output_type": "execute_result"
    }
   ],
   "source": [
    "V = Z[::2, ::2]\n",
    "V"
   ]
  },
  {
   "cell_type": "markdown",
   "metadata": {},
   "source": [
    "元素排布\n",
    "\n",
    "<div align=\"center\"> <img src=\"https://image-bed-zodiac.oss-cn-qingdao.aliyuncs.com/img批注 2019-06-20 100919.png\" width=\"650\"/> </div><br>\n",
    "\n",
    "一维化元素排布\n",
    "\n",
    "<div align=\"center\"> <img src=\"https://image-bed-zodiac.oss-cn-qingdao.aliyuncs.com/img批注 2019-06-20 100948.png\" width=\"650\"/> </div><br>\n",
    "\n",
    "内存排布（C order Big endian）\n",
    "\n",
    "<div align=\"center\"> <img src=\"https://image-bed-zodiac.oss-cn-qingdao.aliyuncs.com/img批注 2019-06-20 101011.png\" width=\"650\"/> </div><br>"
   ]
  },
  {
   "cell_type": "markdown",
   "metadata": {},
   "source": [
    "### 视图与副本\n",
    "\n",
    "#### 直接与间接访问\n",
    "\n",
    "首先需要区分普通索引与高级索引的概念，因为普通索引总是返回视图，而高级索引总是返回副本。\n",
    "\n",
    "有些函数总返回副本，如`flatten`，而有些总返回视图，如`ravel`。\n",
    "\n",
    "#### 中间变量\n",
    "\n",
    "通常在执行数学运算时，会产生中间变量。"
   ]
  },
  {
   "cell_type": "code",
   "execution_count": 254,
   "metadata": {},
   "outputs": [
    {
     "data": {
      "text/plain": [
       "array([4, 4, 4, 4, 4, 4, 4, 4, 4, 4])"
      ]
     },
     "execution_count": 254,
     "metadata": {},
     "output_type": "execute_result"
    }
   ],
   "source": [
    "X = np.ones(10, dtype=np.int)\n",
    "Y = np.ones(10, dtype=np.int)\n",
    "A = 2*X + 2*Y  # 产生三个中间变量\n",
    "A"
   ]
  },
  {
   "cell_type": "markdown",
   "metadata": {},
   "source": [
    "使用函数替代运算符，指定输出ndarray可以避免中间变量的产生。"
   ]
  },
  {
   "cell_type": "code",
   "execution_count": 255,
   "metadata": {},
   "outputs": [
    {
     "data": {
      "text/plain": [
       "array([2, 2, 2, 2, 2, 2, 2, 2, 2, 2])"
      ]
     },
     "execution_count": 255,
     "metadata": {},
     "output_type": "execute_result"
    },
    {
     "data": {
      "text/plain": [
       "array([2, 2, 2, 2, 2, 2, 2, 2, 2, 2])"
      ]
     },
     "execution_count": 255,
     "metadata": {},
     "output_type": "execute_result"
    },
    {
     "data": {
      "text/plain": [
       "array([4, 4, 4, 4, 4, 4, 4, 4, 4, 4])"
      ]
     },
     "execution_count": 255,
     "metadata": {},
     "output_type": "execute_result"
    },
    {
     "data": {
      "text/plain": [
       "array([4, 4, 4, 4, 4, 4, 4, 4, 4, 4])"
      ]
     },
     "execution_count": 255,
     "metadata": {},
     "output_type": "execute_result"
    }
   ],
   "source": [
    "X = np.ones(10, dtype=np.int)\n",
    "Y = np.ones(10, dtype=np.int)\n",
    "np.multiply(X, 2, out=X)\n",
    "np.multiply(Y, 2, out=Y)\n",
    "np.add(X, Y, out=X)  # 不产生中间变量，就地操作\n",
    "X"
   ]
  },
  {
   "cell_type": "markdown",
   "metadata": {},
   "source": [
    "### 总结任务\n",
    "\n",
    "作为总结，考虑一个任务，如果确定某个ndarray是不是另一个ndarray的视图？如果是，其`start,stop,step`分别是多少？"
   ]
  },
  {
   "cell_type": "code",
   "execution_count": 256,
   "metadata": {},
   "outputs": [],
   "source": [
    "Z1 = np.arange(10)\n",
    "Z2 = Z1[1:-1:2]"
   ]
  },
  {
   "cell_type": "markdown",
   "metadata": {},
   "source": [
    "<div align=\"center\"> <img src=\"https://image-bed-zodiac.oss-cn-qingdao.aliyuncs.com/img批注 2019-06-20 111429.png\" width=\"650\"/> </div><br>"
   ]
  },
  {
   "cell_type": "markdown",
   "metadata": {},
   "source": [
    "首先确定，Z2是否为Z1的视图，这个问题很好确定，只需查看Z2的base是否为Z1即可。"
   ]
  },
  {
   "cell_type": "code",
   "execution_count": 257,
   "metadata": {},
   "outputs": [
    {
     "data": {
      "text/plain": [
       "True"
      ]
     },
     "execution_count": 257,
     "metadata": {},
     "output_type": "execute_result"
    }
   ],
   "source": [
    "Z2.base is Z1"
   ]
  },
  {
   "cell_type": "markdown",
   "metadata": {},
   "source": [
    "确定了Z2是Z1的视图，如何确定`start,stop,step`？`step`的确定实际上也比较简单，利用`strides`属性即可。"
   ]
  },
  {
   "cell_type": "code",
   "execution_count": 258,
   "metadata": {},
   "outputs": [
    {
     "data": {
      "text/plain": [
       "2"
      ]
     },
     "execution_count": 258,
     "metadata": {},
     "output_type": "execute_result"
    }
   ],
   "source": [
    "step = Z2.strides[0] // Z1.strides[0]  # 注意，这里整除\n",
    "\n",
    "step"
   ]
  },
  {
   "cell_type": "markdown",
   "metadata": {},
   "source": [
    "对于`start`和`stop`，利用`byte_bounds`方法，该方法返回**指向ndarray第一个以及最后一个元素后方的指针。**\n",
    "\n",
    "\n",
    "<div align=\"center\"> <img src=\"https://image-bed-zodiac.oss-cn-qingdao.aliyuncs.com/img批注 2019-06-20 111440.png\" width=\"650\"/> </div><br>"
   ]
  },
  {
   "cell_type": "code",
   "execution_count": 259,
   "metadata": {},
   "outputs": [
    {
     "data": {
      "text/plain": [
       "(2241121499232, 2241121499272)"
      ]
     },
     "execution_count": 259,
     "metadata": {},
     "output_type": "execute_result"
    }
   ],
   "source": [
    "np.byte_bounds(Z1)"
   ]
  },
  {
   "cell_type": "code",
   "execution_count": 260,
   "metadata": {},
   "outputs": [
    {
     "data": {
      "text/plain": [
       "4"
      ]
     },
     "execution_count": 260,
     "metadata": {},
     "output_type": "execute_result"
    },
    {
     "data": {
      "text/plain": [
       "-8"
      ]
     },
     "execution_count": 260,
     "metadata": {},
     "output_type": "execute_result"
    }
   ],
   "source": [
    "offset_start = np.byte_bounds(Z2)[0] - np.byte_bounds(Z1)[0]\n",
    "offset_start  # bytes\n",
    "\n",
    "\n",
    "offset_stop = np.byte_bounds(Z2)[-1] - np.byte_bounds(Z1)[-1]\n",
    "offset_stop  # bytes"
   ]
  },
  {
   "cell_type": "markdown",
   "metadata": {},
   "source": [
    "基于此，便可计算`start,stop,step`"
   ]
  },
  {
   "cell_type": "code",
   "execution_count": 261,
   "metadata": {},
   "outputs": [
    {
     "data": {
      "text/plain": [
       "(1, 8, 2)"
      ]
     },
     "execution_count": 261,
     "metadata": {},
     "output_type": "execute_result"
    }
   ],
   "source": [
    "start = offset_start // Z1.itemsize\n",
    "stop = Z1.size + offset_stop // Z1.itemsize\n",
    "\n",
    "start, stop, step"
   ]
  },
  {
   "cell_type": "markdown",
   "metadata": {},
   "source": [
    "验证结果正确性"
   ]
  },
  {
   "cell_type": "code",
   "execution_count": 262,
   "metadata": {},
   "outputs": [
    {
     "data": {
      "text/plain": [
       "True"
      ]
     },
     "execution_count": 262,
     "metadata": {},
     "output_type": "execute_result"
    }
   ],
   "source": [
    "np.allclose(Z1[start:stop:step], Z2)"
   ]
  },
  {
   "cell_type": "markdown",
   "metadata": {},
   "source": [
    "### 进阶任务\n",
    "\n",
    "以上任务仅针对一维ndarray而言，且未考虑负数`step`的情况，考虑多维ndarray以及负数step则"
   ]
  },
  {
   "cell_type": "code",
   "execution_count": 263,
   "metadata": {
    "scrolled": true
   },
   "outputs": [
    {
     "data": {
      "text/plain": [
       "array([[1., 1., 1.],\n",
       "       [1., 1., 1.],\n",
       "       [1., 1., 1.]])"
      ]
     },
     "execution_count": 263,
     "metadata": {},
     "output_type": "execute_result"
    }
   ],
   "source": [
    "Z1 = np.ones((5, 5))\n",
    "Z2 = Z1[::2, ::2]\n",
    "Z2"
   ]
  },
  {
   "cell_type": "code",
   "execution_count": 264,
   "metadata": {},
   "outputs": [
    {
     "data": {
      "text/plain": [
       "((0, 0), (4, 4), array([2, 2], dtype=int32))"
      ]
     },
     "execution_count": 264,
     "metadata": {},
     "output_type": "execute_result"
    }
   ],
   "source": [
    "itemsize = Z2.itemsize\n",
    "offset_start = (np.byte_bounds(Z2)[0] - np.byte_bounds(Z1)[0])//itemsize\n",
    "offset_stop = (np.byte_bounds(Z2)[-1] - np.byte_bounds(Z1)[-1]-1)//itemsize\n",
    "index_start = np.unravel_index(offset_start, Z1.shape)\n",
    "index_stop = np.unravel_index(Z1.size+offset_stop, Z1.shape)\n",
    "index_step = np.array(Z2.strides)//np.array(Z1.strides)\n",
    "index_start, index_stop, index_step"
   ]
  },
  {
   "cell_type": "code",
   "execution_count": 265,
   "metadata": {},
   "outputs": [
    {
     "data": {
      "text/plain": [
       "array([[0, 5, 2],\n",
       "       [0, 5, 2]], dtype=int16)"
      ]
     },
     "execution_count": 265,
     "metadata": {},
     "output_type": "execute_result"
    }
   ],
   "source": [
    "index = np.empty((Z1.ndim, 3)).astype(np.int16)\n",
    "\n",
    "for i in range(len(index_step)):\n",
    "    start = index_start[i]\n",
    "    stop = index_stop[i]\n",
    "    step = index_step[i]\n",
    "\n",
    "    if step < 0:\n",
    "        start, stop = stop, start - 1\n",
    "    else:\n",
    "        start, stop = start, stop + 1\n",
    "\n",
    "    index[i] = start, stop, step\n",
    "\n",
    "\n",
    "index"
   ]
  }
 ],
 "metadata": {
  "kernelspec": {
   "display_name": "Python 3",
   "language": "python",
   "name": "python3"
  },
  "language_info": {
   "codemirror_mode": {
    "name": "ipython",
    "version": 3
   },
   "file_extension": ".py",
   "mimetype": "text/x-python",
   "name": "python",
   "nbconvert_exporter": "python",
   "pygments_lexer": "ipython3",
   "version": "3.6.8"
  },
  "toc": {
   "base_numbering": 1,
   "nav_menu": {},
   "number_sections": true,
   "sideBar": true,
   "skip_h1_title": false,
   "title_cell": "Table of Contents",
   "title_sidebar": "Contents",
   "toc_cell": true,
   "toc_position": {},
   "toc_section_display": true,
   "toc_window_display": false
  }
 },
 "nbformat": 4,
 "nbformat_minor": 2
}
