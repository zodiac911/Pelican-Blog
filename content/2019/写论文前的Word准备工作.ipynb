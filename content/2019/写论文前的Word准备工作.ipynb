{
 "cells": [
  {
   "cell_type": "markdown",
   "metadata": {},
   "source": [
    "<div align=\"center\"> <img src=\"https://image-bed-zodiac.oss-cn-qingdao.aliyuncs.com/imgunnamed.jpg\" width=\"650\"/> </div><br>\n",
    "\n",
    "写论文前做些准备，可以在论文写作中节省很多时间，比如论文中的一些编号自动化，目录自动生成，交叉引用等等。\n",
    "\n",
    "本文基于我本身的知识储备，可能有的部分太简略，有的部分又太啰嗦，这也没有办法的嘛。"
   ]
  },
  {
   "cell_type": "markdown",
   "metadata": {
    "toc": true
   },
   "source": [
    "<h1>Table of Contents<span class=\"tocSkip\"></span></h1>\n",
    "<div class=\"toc\"><ul class=\"toc-item\"><li><span><a href=\"#教程\" data-toc-modified-id=\"教程-1\"><span class=\"toc-item-num\">1&nbsp;&nbsp;</span>教程</a></span></li><li><span><a href=\"#我的样式方法论\" data-toc-modified-id=\"我的样式方法论-2\"><span class=\"toc-item-num\">2&nbsp;&nbsp;</span>我的样式方法论</a></span></li><li><span><a href=\"#我的论文章节编号解决方案：\" data-toc-modified-id=\"我的论文章节编号解决方案：-3\"><span class=\"toc-item-num\">3&nbsp;&nbsp;</span>我的论文章节编号解决方案：</a></span></li><li><span><a href=\"#Tips\" data-toc-modified-id=\"Tips-4\"><span class=\"toc-item-num\">4&nbsp;&nbsp;</span>Tips</a></span><ul class=\"toc-item\"><li><span><a href=\"#PPT\" data-toc-modified-id=\"PPT-4.1\"><span class=\"toc-item-num\">4.1&nbsp;&nbsp;</span>PPT</a></span></li></ul></li><li><span><a href=\"#已知问题\" data-toc-modified-id=\"已知问题-5\"><span class=\"toc-item-num\">5&nbsp;&nbsp;</span>已知问题</a></span></li><li><span><a href=\"#Word中的转义字符\" data-toc-modified-id=\"Word中的转义字符-6\"><span class=\"toc-item-num\">6&nbsp;&nbsp;</span>Word中的转义字符</a></span></li></ul></div>"
   ]
  },
  {
   "cell_type": "markdown",
   "metadata": {},
   "source": [
    "### 教程\n",
    "\n",
    "以下三篇，看完基本可以 cover 住用 Word 写论文需要的大部分技巧。\n",
    "\n",
    "- [写学术论文，需要学会哪些 Word 技巧? - 阿建的回答 - 知乎 ](https://www.zhihu.com/question/28122209/answer/73118608)\n",
    "- [写学术论文，需要学会哪些Word技巧? - 土豆君的回答 - 知乎](https://www.zhihu.com/question/28122209/answer/281191989)\n",
    "- [写论文时有哪些格式上以及绘图等上的奇技淫巧？ - Qi Qi 的回答 - 知乎 ](https://www.zhihu.com/question/30521304/answer/48445567)\n",
    "\n",
    "PPT制作技巧\n",
    "- [有哪些让你相见恨晚的 PPT 制作技术或知识？ - 邵云蛟的回答 - 知乎](\n",
    "https://www.zhihu.com/question/30018273/answer/70192456)"
   ]
  },
  {
   "cell_type": "markdown",
   "metadata": {},
   "source": [
    "### 我的样式方法论\n",
    "\n",
    "一个普通的文档，至少应该包括以下几个样式\n",
    "\n",
    "- 正文：直接修改 Word 默认正文样式\n",
    "- 无缩进正文 可以以正文为基准样式，只取消首行缩进\n",
    "- 标题：直接修改 Word 默认 标题 1 2 3 ……等样式，记住取消以 “正文” 为基准样式\n",
    "- 图\n",
    "- 表\n",
    "- 图注\n",
    "- 表注\n",
    "\n",
    "\n",
    "写论文前，最好先制作一个模板，考虑可能的内容样式需求，提前制作好各个部分对应的样式，在写论文过程中保证**论文的所有内容都处于某一种样式的支配之下**，这样最后只需要修改相应样式就可以对需要修改的内容进行整体修改了。\n",
    "\n",
    "**设置样式时，每个样式最好都不要以其他样式为基准样式，避免相互影响。**\n",
    "\n",
    "段落中推荐取消勾选“对齐到文档网格”，字体高级设置中也取消勾选 “对齐到文档网格”（如果设置了倍数行距，可以选择对齐到网格）。\n",
    "\n",
    "**特别关注段落设置中的“换行和分页”一栏，其中包括“孤行控制”、“与下段同页”、“段中不分页”、“段前分页”，例如对于图样式、表注、各级标题都最好设置其与下段同页，避免一页最后单独出现标题或表头等，图片也最好和图注保持在同一页。**\n",
    "\n",
    "    注：\n",
    "\n",
    "    1.孤行控制是指不允许一页的顶部只显示上页段落的最后一行\n",
    "    2.Word 中对表格的支持不太友好，可以尝试在 PPT 内编辑后转换为图片粘贴到 Word 中"
   ]
  },
  {
   "cell_type": "markdown",
   "metadata": {},
   "source": [
    "### 我的论文章节编号解决方案：\n",
    "\n",
    "章节编号由于需要汉字，采用手打的方式在章节标题中加入类似“第一章”的字眼。之所以这样做是因为需要在交叉引用图表时正确生成类似“图 1-3”这样的图号，而Word中插入题注时自动编号只能基于Word的默认样式“标题1”～“标题9” 等对应的多级列表编号，所以必须使用阿拉伯数字形式的自动编号。**而且不要自己新建标题样式，直接在默认的样式基础上修改**\n",
    "\n",
    "不过如果仅仅需要多级列表中的部分级别的编号使用汉字，而其他级别使用数字，那么只需要在设置多级列表时勾选“使用正规列表”即可。\n",
    "\n",
    "之后通过隐藏多级列表自动编号的数字（多级列表字体设置中勾选隐藏），即可实现最终PDF的正常显示，且自动生成目录时也不显示，优于将编号设置为白色字体。"
   ]
  },
  {
   "cell_type": "markdown",
   "metadata": {},
   "source": [
    "### Tips\n",
    "\n",
    "\n",
    "\n",
    "- Word 中删除一页：\n",
    "\n",
    "    单击要删除的页面中的任意位置, 按 Ctrl + G , 然后在 \"输入页码\" 框中, 键入 \" \\page\"。在键盘上按 enter, 然后单击 \"关闭\"。验证是否已选中一页内容, 然后按键盘上的 Delete。\n",
    "\n",
    "\n",
    "- word 中粘贴多图：\n",
    "    可以先在 PPT 中编辑为一张图片再行粘贴\n",
    "\n",
    "- word 中使用键盘上的 delete 键删除光标右边的第一个字符（包括回车等符号），配合 backspace 删除光标左边的第一个字符\n",
    "\n",
    "- 按住 Shift 拖动图片可保持纵横比例不变\n",
    "\n",
    "- 可以在PPT里制作好三线表，以emf图片的形式粘贴到论文中\n",
    "\n",
    "- 行内公式和文字对不齐时，修改段落里的中文排版格式，对齐方式改为居中对齐\n",
    "\n",
    "- 在 Word 中选择一行：\n",
    "    将鼠标放置在该行文字左侧，当光标变为反向时，即可选择该行文字，同时可以拖动选择多行。\n",
    "\n",
    "- 在 Word 中选择一段：\n",
    "    双击可选词，三击就可以选择段落了。\n",
    "\n",
    "- 使用Alt键调出Word访问键，可以快速打开一些功能：\n",
    "    例如 \n",
    "    ```\n",
    "    Alt + W + K（旧版Alt + V + D）快速打开导航窗格\n",
    "    Alt + S + P 快速插入题注\n",
    "    Alt + S + RF 快速交叉引用\n",
    "    Alt + H + PG快速打开段落设置\n",
    "    Alt + H + FN快速打开字体设置\n",
    "    ```\n",
    "- Ctrl 快捷键\n",
    "\n",
    "    ```\n",
    "    Ctrl + E 居中\n",
    "    Ctrl + D 调出字体设置\n",
    "    ```\n",
    "- **F4 重复上一步动作**\n",
    "\n",
    "- 在Word 中粘贴一些元素后，往往可以选择粘贴方式（保留源格式、合并格式、图片形式粘贴、纯文本粘贴）。这时，如果不想使用鼠标点选粘贴方式，可以再按一次 Ctrl 并按下想用快捷键（T：纯文本粘贴、K：保留源格式、M：合并格式、U：图片粘贴）。\n",
    "\n",
    "\n",
    "#### PPT\n",
    "\n",
    "Ctrl + G 组合对象"
   ]
  },
  {
   "cell_type": "markdown",
   "metadata": {},
   "source": [
    "### 已知问题\n",
    "\n",
    "- word 文件另存为 pdf 时图片失真\n",
    "\n",
    "    解决方案一：增加word中图片的采样方式。\n",
    "\n",
    "    在文件-选项-高级-图像大小和质量 中去除“不压缩文件中的图像”，默认目标输出设置为最高的ppi。\n",
    "\n",
    "    另见 https://blog.csdn.net/ztf312/article/details/51112540\n",
    "\n",
    "    解决方案二：**最好的办法是尽量粘贴emf矢量图，保证图片不失真**，如果是从网上找的图片，只能作罢。\n",
    "    \n",
    "- Word 中 MathType 公式导致的行距变化，试试在样式里选择 “数学”，“变量”。"
   ]
  },
  {
   "cell_type": "markdown",
   "metadata": {},
   "source": [
    "### Word中的转义字符\n",
    "\n",
    "可以在 Ctrl + F 搜索的时候用到\n",
    "\n",
    "    1、段落标记 ^p\n",
    "    2、制表符   ^t\n",
    "    3、任意字符 ^?\n",
    "    4、任意数字 ^#\n",
    "    5、任意字母 ^$\n",
    "    6、脱字号   ^^\n",
    "    7、分节符   ^%\n",
    "    8、段落符号 ^v\n",
    "    9、分栏符   ^n\n",
    "    10、省略号  ^i\n",
    "    11、全角省略号 ^j\n",
    "    12、长划线     ^+\n",
    "    13、1/4 长划线  ^q\n",
    "    14、短划线     ^=\n",
    "    15、无宽可选分隔符 ^x\n",
    "    16、无宽非分隔符   ^z\n",
    "    17、尾注标记       ^e\n",
    "    18、域             ^d\n",
    "    19、脚注标记       ^f\n",
    "    20、图形           ^g\n",
    "    21、手动换行符     ^1\n",
    "    22、手动分页符     ^m\n",
    "    23、不间断连字符   ^~\n",
    "    24、不间断空格     ^s\n",
    "    25、可选连字符     ^-\n",
    "    26、分节符         ^b\n",
    "    27、空白区域       ^w"
   ]
  }
 ],
 "metadata": {
  "kernelspec": {
   "display_name": "Python 3",
   "language": "python",
   "name": "python3"
  },
  "language_info": {
   "codemirror_mode": {
    "name": "ipython",
    "version": 3
   },
   "file_extension": ".py",
   "mimetype": "text/x-python",
   "name": "python",
   "nbconvert_exporter": "python",
   "pygments_lexer": "ipython3",
   "version": "3.6.6"
  },
  "toc": {
   "base_numbering": 1,
   "nav_menu": {},
   "number_sections": true,
   "sideBar": true,
   "skip_h1_title": false,
   "title_cell": "Table of Contents",
   "title_sidebar": "Contents",
   "toc_cell": true,
   "toc_position": {},
   "toc_section_display": true,
   "toc_window_display": false
  }
 },
 "nbformat": 4,
 "nbformat_minor": 2
}
