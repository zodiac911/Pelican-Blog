{
 "cells": [
  {
   "cell_type": "markdown",
   "metadata": {},
   "source": [
    "<div align=\"center\"> <img src=\"https://image-bed-zodiac.oss-cn-qingdao.aliyuncs.com/imgmaxresdefault.jpg\" width=\"650\"/> </div><br>\n",
    "\n",
    "文献管理软件Mendeley的数据迁移方法"
   ]
  },
  {
   "cell_type": "markdown",
   "metadata": {
    "toc": true
   },
   "source": [
    "<h1>Table of Contents<span class=\"tocSkip\"></span></h1>\n",
    "<div class=\"toc\"><ul class=\"toc-item\"><li><span><a href=\"#需要备份的文件\" data-toc-modified-id=\"需要备份的文件-1\"><span class=\"toc-item-num\">1&nbsp;&nbsp;</span>需要备份的文件</a></span></li><li><span><a href=\"#迁移步骤\" data-toc-modified-id=\"迁移步骤-2\"><span class=\"toc-item-num\">2&nbsp;&nbsp;</span>迁移步骤</a></span></li><li><span><a href=\"#tips\" data-toc-modified-id=\"tips-3\"><span class=\"toc-item-num\">3&nbsp;&nbsp;</span>tips</a></span></li></ul></div>"
   ]
  },
  {
   "cell_type": "markdown",
   "metadata": {},
   "source": [
    "# 需要备份的文件\n",
    "\n",
    "1. Mendeley Desktop 文件夹\n",
    "\n",
    "不同操作系统位置不一样\n",
    "\n",
    "```Shell\n",
    "Windows 10: C:\\Users\\<Your username>\\AppData\\Local\\Mendeley Ltd\n",
    "Windows Vista / Windows 7: %LOCALAPPDATA%\\Mendeley Ltd.\\Mendeley Desktop\\\n",
    "Windows XP: C:\\Documents and Settings\\<Your Name>\\Local Settings\\Application Data\\Mendeley Ltd\\Mendeley Desktop\\\n",
    "Mac OS X: /Users/<Your username>/Library/Application Support/Mendeley Desktop/\n",
    "Linux: ~/.local/share/data/Mendeley Ltd./Mendeley Desktop/\n",
    "```\n",
    "\n",
    "2. 论文库文件夹\n",
    "\n",
    "即存放你所有论文pdf的文件夹\n",
    "\n",
    "<div align=\"center\"> <img src=\"https://image-bed-zodiac.oss-cn-qingdao.aliyuncs.com/img批注 2019-07-25 131212.png\" width=\"650\"/> </div><br>"
   ]
  },
  {
   "cell_type": "markdown",
   "metadata": {},
   "source": [
    "# 迁移步骤\n",
    "\n",
    "step1（可选）：修改File Organizer选项，将路径修改为新电脑上可用的路径（例如C://archive）并apply，此时论文库将会整体复制到新的位置。（避免新电脑上无法保证论文库路径与旧电脑一致的尴尬局面）\n",
    "\n",
    "step2：最后同步一次文件，关闭Mendeley软件，备份**上述两个文件夹内的文件**。\n",
    "\n",
    "step3：在新电脑上安装Mendeley，替换Mendeley Desktop 文件夹，将论文库文件夹拷贝至新电脑和旧电脑相同的位置。\n",
    "\n",
    "step4：打开Mendeley软件即可（甚至不需要登录账号）。"
   ]
  },
  {
   "cell_type": "markdown",
   "metadata": {},
   "source": [
    "# tips\n",
    "\n",
    "Mendeley软件内的备份应该是用于本机数据恢复的，且其**实际过程包含了先将本地和云端的数据全部删除，然后将备份文件中的数据重新上传的过程**，不建议使用。虽然这么说，但**经常备份还是有必要的**。\n",
    "\n",
    "因为mendeley的免费空间只有2G，所以推荐还是不要同步pdf文件了，只同步metadata即可。具体每个文件夹都可以设置同步选项。\n",
    "\n",
    "<div align=\"center\"> <img src=\"https://image-bed-zodiac.oss-cn-qingdao.aliyuncs.com/img批注 2019-07-25 131533.png\" width=\"650\"/> </div><br>\n",
    "\n",
    "不要随便使用update details功能，信息不太准确。\n",
    "\n",
    "最好基于google scholar导入（导入时确认信息完整性）"
   ]
  },
  {
   "cell_type": "markdown",
   "metadata": {},
   "source": [
    "参考：\n",
    "\n",
    "mendeley如何迁移数据到新电脑？ - Alfoil的回答 - 知乎 https://www.zhihu.com/question/49669104/answer/123007910"
   ]
  }
 ],
 "metadata": {
  "kernelspec": {
   "display_name": "Python 3",
   "language": "python",
   "name": "python3"
  },
  "language_info": {
   "codemirror_mode": {
    "name": "ipython",
    "version": 3
   },
   "file_extension": ".py",
   "mimetype": "text/x-python",
   "name": "python",
   "nbconvert_exporter": "python",
   "pygments_lexer": "ipython3",
   "version": "3.6.8"
  },
  "toc": {
   "base_numbering": 1,
   "nav_menu": {},
   "number_sections": true,
   "sideBar": true,
   "skip_h1_title": false,
   "title_cell": "Table of Contents",
   "title_sidebar": "Contents",
   "toc_cell": true,
   "toc_position": {},
   "toc_section_display": true,
   "toc_window_display": false
  }
 },
 "nbformat": 4,
 "nbformat_minor": 4
}
