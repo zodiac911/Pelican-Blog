{
 "cells": [
  {
   "cell_type": "code",
   "execution_count": 1,
   "metadata": {},
   "outputs": [],
   "source": [
    "import matplotlib as mpl\n",
    "import matplotlib.pyplot as plt\n",
    "from matplotlib.font_manager import FontManager\n",
    "%matplotlib inline\n",
    "\n",
    "import numpy as np\n",
    "\n",
    "import subprocess"
   ]
  },
  {
   "cell_type": "markdown",
   "metadata": {},
   "source": [
    "检测matplotlib可用字体"
   ]
  },
  {
   "cell_type": "code",
   "execution_count": 2,
   "metadata": {},
   "outputs": [
    {
     "data": {
      "text/plain": [
       "{'Adobe Devanagari',\n",
       " 'Arial',\n",
       " 'Bahnschrift',\n",
       " 'Book Antiqua',\n",
       " 'Bookman Old Style',\n",
       " 'Bookshelf Symbol 7',\n",
       " 'Calibri',\n",
       " 'Cambria',\n",
       " 'Candara',\n",
       " 'Century',\n",
       " 'Century Gothic',\n",
       " 'Comic Sans MS',\n",
       " 'Consolas',\n",
       " 'Constantia',\n",
       " 'Corbel',\n",
       " 'Courier New',\n",
       " 'DejaVu Sans',\n",
       " 'DejaVu Sans Display',\n",
       " 'DejaVu Sans Mono',\n",
       " 'DejaVu Serif',\n",
       " 'DejaVu Serif Display',\n",
       " 'DengXian',\n",
       " 'Dubai',\n",
       " 'Ebrima',\n",
       " 'FZShuTi',\n",
       " 'FZYaoTi',\n",
       " 'FangSong',\n",
       " 'Franklin Gothic Medium',\n",
       " 'Gabriola',\n",
       " 'Gadugi',\n",
       " 'Garamond',\n",
       " 'Georgia',\n",
       " 'HoloLens MDL2 Assets',\n",
       " 'Impact',\n",
       " 'Ink Free',\n",
       " 'Javanese Text',\n",
       " 'KaiTi',\n",
       " 'Leelawadee',\n",
       " 'Leelawadee UI',\n",
       " 'LiSu',\n",
       " 'Lucida Console',\n",
       " 'Lucida Sans Unicode',\n",
       " 'MS Reference Sans Serif',\n",
       " 'MS Reference Specialty',\n",
       " 'MT Extra',\n",
       " 'MV Boli',\n",
       " 'Malgun Gothic',\n",
       " 'Marlett',\n",
       " 'Microsoft Himalaya',\n",
       " 'Microsoft New Tai Lue',\n",
       " 'Microsoft PhagsPa',\n",
       " 'Microsoft Sans Serif',\n",
       " 'Microsoft Tai Le',\n",
       " 'Microsoft Uighur',\n",
       " 'Microsoft Yi Baiti',\n",
       " 'Mongolian Baiti',\n",
       " 'Monotype Corsiva',\n",
       " 'Myanmar Text',\n",
       " 'Nirmala UI',\n",
       " 'Palatino Linotype',\n",
       " 'STCaiyun',\n",
       " 'STFangsong',\n",
       " 'STHupo',\n",
       " 'STIXGeneral',\n",
       " 'STIXNonUnicode',\n",
       " 'STIXSizeFiveSym',\n",
       " 'STIXSizeFourSym',\n",
       " 'STIXSizeOneSym',\n",
       " 'STIXSizeThreeSym',\n",
       " 'STIXSizeTwoSym',\n",
       " 'STKaiti',\n",
       " 'STLiti',\n",
       " 'STSong',\n",
       " 'STXihei',\n",
       " 'STXingkai',\n",
       " 'STXinwei',\n",
       " 'STZhongsong',\n",
       " 'Segoe MDL2 Assets',\n",
       " 'Segoe Print',\n",
       " 'Segoe Script',\n",
       " 'Segoe UI',\n",
       " 'Segoe UI Emoji',\n",
       " 'Segoe UI Historic',\n",
       " 'Segoe UI Symbol',\n",
       " 'SimHei',\n",
       " 'SimSun-ExtB',\n",
       " 'Sylfaen',\n",
       " 'Symbol',\n",
       " 'Tahoma',\n",
       " 'TeamViewer14',\n",
       " 'Times New Roman',\n",
       " 'Trebuchet MS',\n",
       " 'Verdana',\n",
       " 'Webdings',\n",
       " 'Wingdings',\n",
       " 'Wingdings 2',\n",
       " 'Wingdings 3',\n",
       " 'YouYuan',\n",
       " 'ZWAdobeF',\n",
       " 'cmb10',\n",
       " 'cmex10',\n",
       " 'cmmi10',\n",
       " 'cmr10',\n",
       " 'cmss10',\n",
       " 'cmsy10',\n",
       " 'cmtt10'}"
      ]
     },
     "execution_count": 2,
     "metadata": {},
     "output_type": "execute_result"
    }
   ],
   "source": [
    "fm = FontManager()\n",
    "mat_fonts=set(f.name for f in fm.ttflist)\n",
    "\n",
    "mat_fonts"
   ]
  },
  {
   "cell_type": "markdown",
   "metadata": {},
   "source": [
    "一般来说，SimHei应该都是包含在内的，只需在画图时指定字体即可\n",
    "\n",
    "如果检测不到可用中文字体，可以手动安装字体\n",
    "\n",
    "检测matplotlib字体文件夹"
   ]
  },
  {
   "cell_type": "code",
   "execution_count": 3,
   "metadata": {},
   "outputs": [
    {
     "data": {
      "text/plain": [
       "'c:\\\\users\\\\twang\\\\appdata\\\\local\\\\conda\\\\conda\\\\envs\\\\py36\\\\lib\\\\site-packages\\\\matplotlib\\\\mpl-data\\\\matplotlibrc'"
      ]
     },
     "execution_count": 3,
     "metadata": {},
     "output_type": "execute_result"
    }
   ],
   "source": [
    "mpl.matplotlib_fname()"
   ]
  },
  {
   "cell_type": "markdown",
   "metadata": {},
   "source": [
    "字体文件夹应该位于和mpl-data同级的位置，下载中文字体后放入ttf文件夹内即可(尚未测试)"
   ]
  },
  {
   "cell_type": "code",
   "execution_count": 4,
   "metadata": {},
   "outputs": [],
   "source": [
    "# 可选项\n",
    "\n",
    "mpl.font_manager._rebuild() #reload一下"
   ]
  },
  {
   "cell_type": "code",
   "execution_count": 5,
   "metadata": {},
   "outputs": [
    {
     "data": {
      "image/png": "[encoded data removed]",
      "text/plain": [
       "<Figure size 432x288 with 1 Axes>"
      ]
     },
     "metadata": {
      "needs_background": "light"
     },
     "output_type": "display_data"
    }
   ],
   "source": [
    "font_name = \"SimHei\"\n",
    "# font_name = \"KaiTi\"\n",
    "mpl.rcParams['font.family']= font_name # 指定字体，实际上相当于修改 matplotlibrc 文件　只不过这样做是暂时的　下次失效\n",
    "mpl.rcParams['axes.unicode_minus']=False # 正确显示负号，防止变成方框\n",
    "\n",
    "t = np.linspace(0, 2*np.pi, 1000, endpoint=False)\n",
    "y = np.sin(t)\n",
    "fig, ax = plt.subplots()\n",
    "\n",
    "ax.set_xlabel(u\"text for t轴\")\n",
    "ax.set_ylabel(u\"text for y轴\")\n",
    "ax.set_title(u\"t和y对应关系\")\n",
    "ax.plot(t,y)\n",
    "plt.savefig(\"test.png\", bbox_inches='tight', dpi = 1000)\n",
    "\n",
    "plt.text(0.5, 0.5, s=u'测试')\n",
    "plt.show()"
   ]
  }
 ],
 "metadata": {
  "kernelspec": {
   "display_name": "Python 3",
   "language": "python",
   "name": "python3"
  },
  "language_info": {
   "codemirror_mode": {
    "name": "ipython",
    "version": 3
   },
   "file_extension": ".py",
   "mimetype": "text/x-python",
   "name": "python",
   "nbconvert_exporter": "python",
   "pygments_lexer": "ipython3",
   "version": "3.6.6"
  }
 },
 "nbformat": 4,
 "nbformat_minor": 2
}
