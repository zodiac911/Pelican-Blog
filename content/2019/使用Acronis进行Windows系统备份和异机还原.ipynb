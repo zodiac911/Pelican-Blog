{
 "cells": [
  {
   "cell_type": "markdown",
   "metadata": {},
   "source": [
    "<div align=\"center\"> <img src=\"https://image-bed-zodiac.oss-cn-qingdao.aliyuncs.com/201905/hana-backup-recovery.png\" width=\"650\"/> </div><br>"
   ]
  },
  {
   "cell_type": "markdown",
   "metadata": {},
   "source": [
    "为了防止系统中毒，或者其他的不可抗因素，我一般会给系统做个备份。但是如果电脑更换了硬件或者换了电脑，之前的备份可能就没法用来恢复系统了（Ghost可以异机恢复，但我不喜欢；Dism++速度太慢）。最近发现了一款好用的系统备份和恢复软件Acronis，还支持异机恢复。记录一下"
   ]
  },
  {
   "cell_type": "markdown",
   "metadata": {
    "toc": true
   },
   "source": [
    "<h1>Table of Contents<span class=\"tocSkip\"></span></h1>\n",
    "<div class=\"toc\"><ul class=\"toc-item\"><li><span><a href=\"#备份\" data-toc-modified-id=\"备份-1\"><span class=\"toc-item-num\">1&nbsp;&nbsp;</span>备份</a></span></li><li><span><a href=\"#为-Acronis-True-Image-安装启动媒介生成器插件\" data-toc-modified-id=\"为-Acronis-True-Image-安装启动媒介生成器插件-2\"><span class=\"toc-item-num\">2&nbsp;&nbsp;</span>为 Acronis True Image 安装启动媒介生成器插件</a></span></li><li><span><a href=\"#生成可启动媒介文件\" data-toc-modified-id=\"生成可启动媒介文件-3\"><span class=\"toc-item-num\">3&nbsp;&nbsp;</span>生成可启动媒介文件</a></span></li><li><span><a href=\"#制作可启动U盘\" data-toc-modified-id=\"制作可启动U盘-4\"><span class=\"toc-item-num\">4&nbsp;&nbsp;</span>制作可启动U盘</a></span></li><li><span><a href=\"#使用U盘启动电脑\" data-toc-modified-id=\"使用U盘启动电脑-5\"><span class=\"toc-item-num\">5&nbsp;&nbsp;</span>使用U盘启动电脑</a></span></li><li><span><a href=\"#恢复系统\" data-toc-modified-id=\"恢复系统-6\"><span class=\"toc-item-num\">6&nbsp;&nbsp;</span>恢复系统</a></span></li></ul></div>"
   ]
  },
  {
   "cell_type": "markdown",
   "metadata": {},
   "source": [
    "需要用的软件 \n",
    "- Acronis True Image\n",
    "- UltraIso\n",
    "- WEPE 推荐使用 WEPE 制作的 PE 启动盘"
   ]
  },
  {
   "cell_type": "markdown",
   "metadata": {},
   "source": [
    "### 备份\n",
    "\n",
    "Acronis True Image内，分别选择备份源，以及备份文件存放位置，就可以开始备份了。备份源可以选择整台电脑（多个硬盘），也可以只备份某个硬盘，或者某个分区，建议选择系统分区所在硬盘进行备份即可。\n",
    "\n",
    "<div align=\"center\"> <img src=\"https://image-bed-zodiac.oss-cn-qingdao.aliyuncs.com/201905/%E5%A4%87%E4%BB%BD%E6%BA%90.png\" width=\"800\"/> </div><br>\n",
    "\n",
    "<div align=\"center\"> <img src=\"https://image-bed-zodiac.oss-cn-qingdao.aliyuncs.com/201905/%E5%A4%87%E4%BB%BD%E7%9B%AE%E6%A0%87%E4%BD%8D%E7%BD%AE.png\" width=\"800\"/> </div><br>\n",
    "\n",
    "<div align=\"center\"> <img src=\"https://image-bed-zodiac.oss-cn-qingdao.aliyuncs.com/201905/%E5%BC%80%E5%A7%8B%E5%A4%87%E4%BB%BD.png\" width=\"800\"/> </div><br>\n",
    "\n",
    "备份完成后会在目标位置生成 tib 后缀的备份文件。"
   ]
  },
  {
   "cell_type": "markdown",
   "metadata": {},
   "source": [
    "### 为 Acronis True Image 安装启动媒介生成器插件\n",
    "\n",
    "首次点击工具栏内的 Acronis Universal Restore 会提示下载一个插件，按照说明下载并安装即可。\n",
    "\n",
    "<div align=\"center\"> <img src=\"https://image-bed-zodiac.oss-cn-qingdao.aliyuncs.com/201905/universal-restore.png\" width=\"800\"/> </div><br>"
   ]
  },
  {
   "cell_type": "markdown",
   "metadata": {},
   "source": [
    "### 生成可启动媒介文件\n",
    "\n",
    "再次点击工具栏内的 Acronis Universal Restore，按默认设置操作即可创建可启动媒介文件\n",
    "\n",
    "<div align=\"center\"> <img src=\"https://image-bed-zodiac.oss-cn-qingdao.aliyuncs.com/img批注 2019-06-02 223311.png\" width=\"650\"/> </div><br>\n",
    "\n",
    "<div align=\"center\"> <img src=\"https://image-bed-zodiac.oss-cn-qingdao.aliyuncs.com/img批注 2019-06-02 223417.png\" width=\"650\"/> </div><br>\n",
    "\n",
    "<div align=\"center\"> <img src=\"https://image-bed-zodiac.oss-cn-qingdao.aliyuncs.com/img批注 2019-06-02 223452.png\" width=\"650\"/> </div><br>\n",
    "\n",
    "执行完毕后会生成 ISO 文件"
   ]
  },
  {
   "cell_type": "markdown",
   "metadata": {},
   "source": [
    "### 制作可启动U盘\n",
    "\n",
    "使用 UltraISO，将之前生成的可启动媒介文件写入U盘，制作可启动U盘，U盘类似一个PE系统。"
   ]
  },
  {
   "cell_type": "markdown",
   "metadata": {},
   "source": [
    "### 使用U盘启动电脑\n",
    "\n",
    "设置电脑启动项为 U盘启动，进入如下界面，选择 Acronis True Image 进入。\n",
    "\n",
    "<div align=\"center\"> <img src=\"https://image-bed-zodiac.oss-cn-qingdao.aliyuncs.com/img9df3744c3d6256ae0c29ae4bfe70d12.jpg\" width=\"650\"/> </div><br>"
   ]
  },
  {
   "cell_type": "markdown",
   "metadata": {},
   "source": [
    "### 恢复系统\n",
    "\n",
    "进入 Acronis True Image 按提示操作，选择系统镜像以及目标磁盘分区。（恢复方式：磁盘及分区）\n",
    "\n",
    "<div align=\"center\"> <img src=\"https://image-bed-zodiac.oss-cn-qingdao.aliyuncs.com/img8773e961e866ddbe73f0ee1aeee9cb9.jpg\" width=\"650\"/> </div><br>\n",
    "\n",
    "\n",
    "**如果电脑内系统完好（引导完整，可启动），只需要将 C 盘恢复（覆盖）到目标电脑内相应分区应该就能恢复系统；如果电脑内系统损坏，将 C 盘恢复至目标分区，再使用PE盘里的 Dism++ 工具恢复系统引导（需要预留有 ESP 分区）**\n",
    "\n",
    "**虽然 Acronis True Image 也可以恢复 ESP 分区，但测试了一次恢复失败了，使用 Dism++ 恢复系统引导就行**\n",
    "\n",
    "如果需要格盘恢复，先使用PE启动，格式化磁盘，在头部预留 ESP 和 MSR 分区，之后再进行恢复。"
   ]
  }
 ],
 "metadata": {
  "kernelspec": {
   "display_name": "Python 3",
   "language": "python",
   "name": "python3"
  },
  "language_info": {
   "codemirror_mode": {
    "name": "ipython",
    "version": 3
   },
   "file_extension": ".py",
   "mimetype": "text/x-python",
   "name": "python",
   "nbconvert_exporter": "python",
   "pygments_lexer": "ipython3",
   "version": "3.6.6"
  },
  "toc": {
   "base_numbering": 1,
   "nav_menu": {},
   "number_sections": true,
   "sideBar": true,
   "skip_h1_title": false,
   "title_cell": "Table of Contents",
   "title_sidebar": "Contents",
   "toc_cell": true,
   "toc_position": {},
   "toc_section_display": true,
   "toc_window_display": false
  }
 },
 "nbformat": 4,
 "nbformat_minor": 2
}
